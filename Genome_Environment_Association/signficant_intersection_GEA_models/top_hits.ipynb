{
 "cells": [
  {
   "cell_type": "code",
   "execution_count": 36,
   "id": "0a416e0a-9340-444d-86da-efd6e9c4bea9",
   "metadata": {},
   "outputs": [],
   "source": [
    "import pandas as pd\n",
    "\n",
    "import pickle\n",
    "dict_blocks = '../key_files/blocks_snpsid_dict.pkl'\n",
    "\n",
    "with open(dict_blocks, 'rb') as file:\n",
    "    dict_blocks = pickle.load(file)\n",
    "\n",
    "reverse_mapping = {item: key for key, values in dict_blocks.items() for item in values}"
   ]
  },
  {
   "cell_type": "code",
   "execution_count": 48,
   "id": "ea016bac-3429-404c-8976-54f591640d52",
   "metadata": {},
   "outputs": [],
   "source": [
    "biovar = 'bio18'"
   ]
  },
  {
   "cell_type": "code",
   "execution_count": 37,
   "id": "40c57c91-97a5-4b3b-b939-c77940d67d3d",
   "metadata": {},
   "outputs": [],
   "source": [
    "binom = pd.read_csv('../binomial_regression/top_hits_binom_first_gen_bio18.csv')"
   ]
  },
  {
   "cell_type": "code",
   "execution_count": 38,
   "id": "56b6d6b7-88db-49da-af6d-9b6ee85dbcec",
   "metadata": {},
   "outputs": [],
   "source": [
    "lfmm = pd.read_csv('../lfmm_full/top_hits_lfmm_first_gen_bio18.csv')"
   ]
  },
  {
   "cell_type": "code",
   "execution_count": 39,
   "id": "6b7794c7-c3d8-4a59-8000-72e1af541210",
   "metadata": {},
   "outputs": [],
   "source": [
    "kendall = pd.read_csv('../kendall_tau/top_hits_binom_first_gen_bio18.csv')"
   ]
  },
  {
   "cell_type": "code",
   "execution_count": 40,
   "id": "055d3e90-07d0-4308-8a5c-7ac03e33dae2",
   "metadata": {},
   "outputs": [],
   "source": [
    "lfmm['model'] = 'wza_lfmm_l'\n",
    "lfmm['gen'] = 'first_gen'\n",
    "\n",
    "kendall['model'] = 'wza_kendall_l'\n",
    "kendall['gen'] = 'first_gen'\n",
    "\n",
    "binom['model'] = 'wza_binom_reg_l'\n",
    "binom['gen'] = 'first_gen'\n",
    "\n",
    "sign_blocks_union = pd.concat([lfmm[['block', 'model', 'gen']], \n",
    "          kendall[['block', 'model', 'gen']],\n",
    "          binom[['block', 'model', 'gen']]]).reset_index(drop=True)"
   ]
  },
  {
   "cell_type": "code",
   "execution_count": null,
   "id": "d9eb5326-ab2c-4d3e-8ffe-e01a2bc1514d",
   "metadata": {},
   "outputs": [],
   "source": []
  },
  {
   "cell_type": "code",
   "execution_count": 41,
   "id": "5b76f043-786a-4578-a931-c37e9df32161",
   "metadata": {},
   "outputs": [],
   "source": [
    "binomlg = pd.read_csv('../binomial_regression_lastgen/top_hits_binom_last_gen_bio18.csv')"
   ]
  },
  {
   "cell_type": "code",
   "execution_count": 42,
   "id": "ba2790f8-88c1-48ac-be84-6d98b3df3a45",
   "metadata": {},
   "outputs": [],
   "source": [
    "lfmmlg = pd.read_csv('../lfmm_full_last_gen/top_hits_lfmm_last_gen_bio18.csv')"
   ]
  },
  {
   "cell_type": "code",
   "execution_count": 43,
   "id": "e39753ec-8ff5-4b65-8571-2b21c8c07405",
   "metadata": {},
   "outputs": [],
   "source": [
    "kendalllg = pd.read_csv('../kendall_tau_last_gen/top_hits_binom_last_gen_bio18.csv')"
   ]
  },
  {
   "cell_type": "code",
   "execution_count": 44,
   "id": "3b202a06-a56f-44c4-8717-89a00cee0964",
   "metadata": {},
   "outputs": [],
   "source": [
    "lfmmlg['model'] = 'wza_lfmm_l'\n",
    "lfmmlg['gen'] = 'first_gen'\n",
    "\n",
    "kendalllg['model'] = 'wza_kendall_l'\n",
    "kendalllg['gen'] = 'first_gen'\n",
    "\n",
    "binomlg['model'] = 'wza_binom_reg_l'\n",
    "binomlg['gen'] = 'first_gen'\n",
    "\n",
    "sign_blocks_union_lg = pd.concat([lfmmlg[['block', 'model', 'gen']], \n",
    "          kendalllg[['block', 'model', 'gen']],\n",
    "          binomlg[['block', 'model', 'gen']]]).reset_index(drop=True)"
   ]
  },
  {
   "cell_type": "code",
   "execution_count": 45,
   "id": "00675a22-6b7b-450a-a588-e936d4b8b29b",
   "metadata": {},
   "outputs": [],
   "source": [
    "sign_blocks_union = pd.concat([sign_blocks_union_lg, sign_blocks_union])\n",
    "\n",
    "\n",
    "\n",
    "sign_blocks_union['model'] = sign_blocks_union.groupby('block')['model'].transform(lambda x: ','.join(x.unique().astype(str)))\n",
    "sign_blocks_union['gen'] = sign_blocks_union.groupby('block')['gen'].transform(lambda x: ','.join(x.unique().astype(str)))"
   ]
  },
  {
   "cell_type": "code",
   "execution_count": 49,
   "id": "e172229a-b458-436d-8d90-adbfcdf907c7",
   "metadata": {},
   "outputs": [],
   "source": [
    "sign_blocks_union.to_csv(f'top_hits_first_last_gen_{biovar}.csv',index=None)"
   ]
  },
  {
   "cell_type": "code",
   "execution_count": null,
   "id": "9aa1ef7b-8e0f-4d76-a6fb-21f7d4b82db5",
   "metadata": {},
   "outputs": [],
   "source": [
    "binomlg.merge(lfmmlg, on = 'block')"
   ]
  },
  {
   "cell_type": "code",
   "execution_count": null,
   "id": "203ceffd-bfb0-4ad5-bcdc-3aeb784cfdec",
   "metadata": {},
   "outputs": [],
   "source": []
  },
  {
   "cell_type": "code",
   "execution_count": 28,
   "id": "eed1ade5-15d9-4d9c-b459-7ad2a05a7032",
   "metadata": {},
   "outputs": [
    {
     "data": {
      "text/plain": [
       "array(['5_2800', '1_2697'], dtype=object)"
      ]
     },
     "execution_count": 28,
     "metadata": {},
     "output_type": "execute_result"
    }
   ],
   "source": [
    "binomlg.merge(lfmmlg, on = 'block')['block'].values"
   ]
  },
  {
   "cell_type": "code",
   "execution_count": 30,
   "id": "a45dad4d-259c-4a3f-b82e-8eaaa47a9296",
   "metadata": {},
   "outputs": [
    {
     "data": {
      "text/plain": [
       "array(['1_4155'], dtype=object)"
      ]
     },
     "execution_count": 30,
     "metadata": {},
     "output_type": "execute_result"
    }
   ],
   "source": [
    "binomlg.merge(kendalllg, on = 'block')['block'].values"
   ]
  },
  {
   "cell_type": "code",
   "execution_count": 31,
   "id": "e0f6fd80-8002-4816-a822-4e039268e325",
   "metadata": {},
   "outputs": [
    {
     "data": {
      "text/plain": [
       "array(['5_724', '2_919', '1_4578'], dtype=object)"
      ]
     },
     "execution_count": 31,
     "metadata": {},
     "output_type": "execute_result"
    }
   ],
   "source": [
    "lfmmlg.merge(kendalllg, on = 'block')['block'].values"
   ]
  },
  {
   "cell_type": "code",
   "execution_count": null,
   "id": "d936046e-d04e-4e73-a32b-6dac2c60db26",
   "metadata": {},
   "outputs": [],
   "source": []
  },
  {
   "cell_type": "code",
   "execution_count": null,
   "id": "e647a401-5292-4a89-bee3-d5e9ae052ffd",
   "metadata": {},
   "outputs": [],
   "source": []
  },
  {
   "cell_type": "code",
   "execution_count": 51,
   "id": "88246d90-e296-4a91-a28e-ce5d8cbefd99",
   "metadata": {},
   "outputs": [
    {
     "data": {
      "text/plain": [
       "array(['5_3036', '1_4155', '5_3006'], dtype=object)"
      ]
     },
     "execution_count": 51,
     "metadata": {},
     "output_type": "execute_result"
    }
   ],
   "source": [
    "binom.merge(lfmm, on = 'block')['block'].values"
   ]
  },
  {
   "cell_type": "code",
   "execution_count": 53,
   "id": "d4872b7a-9a1e-4203-b4c6-5b7634901def",
   "metadata": {},
   "outputs": [
    {
     "data": {
      "text/plain": [
       "array([], dtype=object)"
      ]
     },
     "execution_count": 53,
     "metadata": {},
     "output_type": "execute_result"
    }
   ],
   "source": [
    "kendall.merge(lfmm, on = 'block')['block'].values"
   ]
  },
  {
   "cell_type": "code",
   "execution_count": 54,
   "id": "2dc45f98-140c-4870-b704-8ed0463a9e1b",
   "metadata": {},
   "outputs": [
    {
     "data": {
      "text/plain": [
       "array([], dtype=object)"
      ]
     },
     "execution_count": 54,
     "metadata": {},
     "output_type": "execute_result"
    }
   ],
   "source": [
    "binom.merge(kendall, on = 'block')['block'].values"
   ]
  },
  {
   "cell_type": "code",
   "execution_count": null,
   "id": "4c8f046b-9b72-4653-9d2e-9a6b70e097d1",
   "metadata": {},
   "outputs": [],
   "source": []
  },
  {
   "cell_type": "code",
   "execution_count": 13,
   "id": "65224ebe-3b2d-4224-942c-3d2d83a27cb1",
   "metadata": {},
   "outputs": [],
   "source": [
    "blocks_union = ['5_3036', '1_4155', '5_3006']"
   ]
  },
  {
   "cell_type": "code",
   "execution_count": 20,
   "id": "2151e855-3ac2-492e-98ea-d46048e7c9f1",
   "metadata": {},
   "outputs": [],
   "source": [
    "blocks_union = ['5_2800', '1_2697']"
   ]
  },
  {
   "cell_type": "code",
   "execution_count": 21,
   "id": "800870f4-9a1f-4759-86b3-a0dba6e82b4f",
   "metadata": {
    "scrolled": true
   },
   "outputs": [
    {
     "name": "stdout",
     "output_type": "stream",
     "text": [
      "5_2800\n",
      "5:23418864-23577312\n",
      "1_2697\n",
      "1:19425693-19426350\n"
     ]
    }
   ],
   "source": [
    "for i in blocks_union:\n",
    "        print(i)\n",
    "        print(dict_blocks[i][0].split('_')[0]+ ':' + dict_blocks[i][0].split('_')[1] + '-' +  dict_blocks[i][-1].split('_')[1] )"
   ]
  },
  {
   "cell_type": "code",
   "execution_count": null,
   "id": "288ce26a-462a-4d06-a78c-3989f990c06b",
   "metadata": {},
   "outputs": [],
   "source": []
  }
 ],
 "metadata": {
  "kernelspec": {
   "display_name": "Python 3 (ipykernel)",
   "language": "python",
   "name": "python3"
  },
  "language_info": {
   "codemirror_mode": {
    "name": "ipython",
    "version": 3
   },
   "file_extension": ".py",
   "mimetype": "text/x-python",
   "name": "python",
   "nbconvert_exporter": "python",
   "pygments_lexer": "ipython3",
   "version": "3.11.4"
  }
 },
 "nbformat": 4,
 "nbformat_minor": 5
}
