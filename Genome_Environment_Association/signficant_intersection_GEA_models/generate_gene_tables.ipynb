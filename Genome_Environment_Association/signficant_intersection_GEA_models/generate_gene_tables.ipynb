{
 "cells": [
  {
   "cell_type": "code",
   "execution_count": 1,
   "id": "ee56f07c-3e89-4b76-b090-c3d52e506287",
   "metadata": {
    "scrolled": true
   },
   "outputs": [],
   "source": [
    "import pandas as pd\n",
    "import os\n",
    "import subprocess "
   ]
  },
  {
   "cell_type": "code",
   "execution_count": 2,
   "id": "e2ec606e-7dbe-47f9-a08a-d0bec9189329",
   "metadata": {},
   "outputs": [],
   "source": [
    "# wza_kendalltau_results_bio1.csv'\n",
    "# wza_results_lfmm_bio1.csv"
   ]
  },
  {
   "cell_type": "code",
   "execution_count": 3,
   "id": "df8dcc3d-6b5c-4ffd-af2e-b44847d54b8f",
   "metadata": {},
   "outputs": [],
   "source": [
    "tair = pd.read_csv('../key_files/TAIR10_GFF3_genes_transposons_formatted4topr_w_blocks.csv')"
   ]
  },
  {
   "cell_type": "code",
   "execution_count": 4,
   "id": "22ea4254-5e53-4b47-9f02-b77da71adab7",
   "metadata": {},
   "outputs": [],
   "source": [
    "import pickle\n",
    "dict_blocks = '../key_files/blocks_snpsid_dict.pkl'\n",
    "\n",
    "with open(dict_blocks, 'rb') as file:\n",
    "    dict_blocks = pickle.load(file)\n",
    "\n",
    "reverse_mapping = {item: key for key, values in dict_blocks.items() for item in values}"
   ]
  },
  {
   "cell_type": "code",
   "execution_count": 5,
   "id": "be3d8183-06f7-4716-b973-4fe04da0fe3d",
   "metadata": {},
   "outputs": [],
   "source": [
    "biovar = 'bio18'"
   ]
  },
  {
   "cell_type": "code",
   "execution_count": null,
   "id": "fca6bddf-506c-4833-98db-3f3350730dd3",
   "metadata": {},
   "outputs": [],
   "source": []
  },
  {
   "cell_type": "code",
   "execution_count": null,
   "id": "19d329c6-4b4b-41b3-b6cf-3b5aceab2511",
   "metadata": {},
   "outputs": [],
   "source": []
  },
  {
   "cell_type": "code",
   "execution_count": 88,
   "id": "a81728dd-a94f-4ee5-b18f-53dbd2eb22ed",
   "metadata": {},
   "outputs": [],
   "source": [
    "sign_blocks_union_first_last_gen = pd.read_csv(f'top_hits_first_last_gen_{biovar}.csv')\n",
    "#sign_blocks_union_first_last_gen = pd.read_csv(f'all_intersections_gea_gwas231_last_gen_blocks.csv')\n",
    "\n",
    "sign_blocks_union_first_last_gen = pd.read_csv(f'sign_blocks_union_last_gen_BH_{biovar}.csv')"
   ]
  },
  {
   "cell_type": "code",
   "execution_count": 89,
   "id": "5abd123e-783e-4e4f-9fb8-4830a592fbd9",
   "metadata": {},
   "outputs": [],
   "source": [
    "#sign_blocks_union_first_last_gen.columns = ['biovar', 'comparision', 'block']"
   ]
  },
  {
   "cell_type": "code",
   "execution_count": null,
   "id": "1295371b-bd2b-4324-b48d-3e83f055f294",
   "metadata": {},
   "outputs": [],
   "source": []
  },
  {
   "cell_type": "code",
   "execution_count": 91,
   "id": "a6d9f308-43f6-48c5-864b-2a1d28d0cdbf",
   "metadata": {},
   "outputs": [],
   "source": [
    "df = sign_blocks_union_first_last_gen.copy()"
   ]
  },
  {
   "cell_type": "code",
   "execution_count": 24,
   "id": "3ec6b588-5b86-46ee-9942-d845da6c7097",
   "metadata": {},
   "outputs": [],
   "source": [
    "sign_blocks_union_first_last_gen = full_list.copy()"
   ]
  },
  {
   "cell_type": "code",
   "execution_count": 25,
   "id": "e02068ba-a930-4c7d-a40a-04766196e445",
   "metadata": {},
   "outputs": [],
   "source": [
    "df = full_list.copy()"
   ]
  },
  {
   "cell_type": "code",
   "execution_count": null,
   "id": "92b4f29d-c850-4705-87f7-0ad08e81f629",
   "metadata": {},
   "outputs": [],
   "source": []
  },
  {
   "cell_type": "code",
   "execution_count": 26,
   "id": "44d4e286-c0a1-4d39-82d1-8fcf084baf6e",
   "metadata": {},
   "outputs": [],
   "source": [
    "bed_file_name = f\"top_hits_sign_blocks_union_first_last_gen_BH_final_{biovar}.bed\""
   ]
  },
  {
   "cell_type": "code",
   "execution_count": 27,
   "id": "b1ee3e63-5c9c-4a98-b7fa-fafea654a016",
   "metadata": {},
   "outputs": [],
   "source": [
    "blocks_annotated_file = f\"top_hits_sign_blocks_union_first_last_gen_blocks_annotated_BH_final_{biovar}.txt\" "
   ]
  },
  {
   "cell_type": "code",
   "execution_count": 28,
   "id": "e45e41ed-4f88-4b0f-8a35-2fb72c146853",
   "metadata": {},
   "outputs": [],
   "source": [
    "gene_ids_file = f'top_hits_sign_blocks_union_first_last_gen_gene_ids_BH_final_{biovar}.txt'"
   ]
  },
  {
   "cell_type": "code",
   "execution_count": 29,
   "id": "b97045bd-a7b6-4b10-8bd6-8fa55df85e28",
   "metadata": {},
   "outputs": [],
   "source": [
    "gff_filtered_file = f'top_hits_sign_blocks_union_first_last_gen_BH_final_{biovar}.gff'"
   ]
  },
  {
   "cell_type": "code",
   "execution_count": 30,
   "id": "8cdb084f-ddb5-4268-8fab-79ed300c6519",
   "metadata": {},
   "outputs": [],
   "source": [
    "nucleotide_seq_sign_genes = f'top_hits_sign_blocks_union_first_last_gen_nucleotide_seq_BH_final_{biovar}.fa'"
   ]
  },
  {
   "cell_type": "code",
   "execution_count": null,
   "id": "1682d9c3-771e-46a9-be92-b81ccd5ab980",
   "metadata": {},
   "outputs": [],
   "source": []
  },
  {
   "cell_type": "code",
   "execution_count": null,
   "id": "e5dc66a9-70af-4133-9a97-5fc04e0ec5f9",
   "metadata": {},
   "outputs": [],
   "source": []
  },
  {
   "cell_type": "code",
   "execution_count": 31,
   "id": "88cb60e3-d24e-4b08-83fe-8652c8c64b47",
   "metadata": {},
   "outputs": [
    {
     "name": "stdout",
     "output_type": "stream",
     "text": [
      "BED file has been created with 'Chr' prefix in chromosome names.\n"
     ]
    }
   ],
   "source": [
    "# Open the BED file for writing\n",
    "with open(bed_file_name, \"w\") as bed_file:\n",
    "    for block in df['block']:\n",
    "        if block in dict_blocks:\n",
    "            # Extract SNPs for the block\n",
    "            snps = dict_blocks[block]\n",
    "            \n",
    "            # Assuming the format of SNP is like '1_291' where '1' is the chromosome and '291' is the position\n",
    "            # We need to find the min and max positions for the block to create the start-end range\n",
    "            chrom_positions = [snp.split('_') for snp in snps]\n",
    "            chrom = chrom_positions[0][0]  # The chromosome, assuming all SNPs are from the same chromosome\n",
    "            \n",
    "            # Prepend 'Chr' to the chromosome name to match GFF naming convention\n",
    "            chrom = f\"Chr{chrom}\"\n",
    "            \n",
    "            # Get the minimum and maximum position for the block\n",
    "            start = min(int(pos) for chrom, pos in chrom_positions)\n",
    "            end = max(int(pos) for chrom, pos in chrom_positions)\n",
    "            \n",
    "            # Write the block information in BED format: chrom, start, end, block name\n",
    "            bed_file.write(f\"{chrom}\\t{start}\\t{end}\\t{block}\\n\")\n",
    "\n",
    "print(\"BED file has been created with 'Chr' prefix in chromosome names.\")\n"
   ]
  },
  {
   "cell_type": "code",
   "execution_count": 32,
   "id": "37e6e4f9-071e-4f6b-ae00-b6e4d9966b59",
   "metadata": {},
   "outputs": [
    {
     "data": {
      "text/plain": [
       "'top_hits_sign_blocks_union_first_last_gen_BH_final_bio18.bed'"
      ]
     },
     "execution_count": 32,
     "metadata": {},
     "output_type": "execute_result"
    }
   ],
   "source": [
    "bed_file_name"
   ]
  },
  {
   "cell_type": "code",
   "execution_count": 33,
   "id": "6eff397f-bd12-4dd4-9d49-75cfae27d663",
   "metadata": {},
   "outputs": [
    {
     "name": "stdout",
     "output_type": "stream",
     "text": [
      "Intersection complete. Results saved in top_hits_sign_blocks_union_first_last_gen_blocks_annotated_BH_final_bio18.txt\n"
     ]
    }
   ],
   "source": [
    "## this will, based on the TAIR10_GFF3_genes_transposons cehck the intersectionin between the bed file fo hte singificant blocks and the genes \n",
    "gff_file = \"../key_files/TAIR10_GFF3_genes_transposons.gff\"  # Replace with your actual GFF3 file path\n",
    "\n",
    "# Construct the command to load the bedtools module and run the intersect command\n",
    "cmd = f\"\"\"\n",
    "module load bedtools/2.31.1; \\\n",
    "bedtools intersect -wb -a {bed_file_name} -b {gff_file} > {blocks_annotated_file}\n",
    "\"\"\"\n",
    "\n",
    "# Run the command\n",
    "try:\n",
    "    subprocess.run(cmd, shell=True, check=True, executable=\"/bin/bash\")  # Use bash to run the command\n",
    "    print(f\"Intersection complete. Results saved in {blocks_annotated_file}\")\n",
    "except subprocess.CalledProcessError as e:\n",
    "    print(f\"Error running bedtools: {e}\")\n"
   ]
  },
  {
   "cell_type": "code",
   "execution_count": 34,
   "id": "b85b5c83-0dcc-4f60-bde7-1d7e30f3bb11",
   "metadata": {},
   "outputs": [],
   "source": [
    "annot = pd.read_csv(blocks_annotated_file, sep='\\t', header=None)"
   ]
  },
  {
   "cell_type": "code",
   "execution_count": 35,
   "id": "4493320e-2f20-4c41-92c5-c08ed26f09af",
   "metadata": {},
   "outputs": [],
   "source": [
    "annot.columns = [\n",
    "    'block_chrom', 'block_start', 'block_end', 'block_id',  # From BED file\n",
    "    'gene_chrom', 'source', 'feature', 'gene_start', 'gene_end',  # From GFF file\n",
    "    'score', 'strand', 'frame', 'attribute'  # From GFF file\n",
    "]"
   ]
  },
  {
   "cell_type": "code",
   "execution_count": 36,
   "id": "60e2ef93-b99d-409d-a23b-146423d6f441",
   "metadata": {},
   "outputs": [],
   "source": [
    "annot = annot[annot['attribute'].str.contains('protein_coding_gene')]"
   ]
  },
  {
   "cell_type": "code",
   "execution_count": 37,
   "id": "9d131195-78ba-4c8a-b918-0f072ff62782",
   "metadata": {
    "scrolled": true
   },
   "outputs": [],
   "source": [
    "annot['gene_id'] = annot['attribute'].str.split(';').str[0].str.replace('ID=', '')"
   ]
  },
  {
   "cell_type": "code",
   "execution_count": 38,
   "id": "08f4e0b6-1c46-4e77-bb34-955689bc3b29",
   "metadata": {},
   "outputs": [],
   "source": [
    "sign_blocks_union_first_last_gen = sign_blocks_union_first_last_gen.merge(annot, left_on = 'block', right_on = 'block_id')"
   ]
  },
  {
   "cell_type": "code",
   "execution_count": null,
   "id": "6dd0df5f-6e16-4918-a70f-4275620924b9",
   "metadata": {},
   "outputs": [],
   "source": []
  },
  {
   "cell_type": "code",
   "execution_count": 40,
   "id": "201d571f-f869-4601-9266-279dd5a18778",
   "metadata": {},
   "outputs": [],
   "source": [
    "sign_blocks_union_first_last_gen.to_csv(f'top_hits_gene_and_model_sign_blocks_union_first_last_gen_BH_{biovar}.csv')"
   ]
  },
  {
   "cell_type": "code",
   "execution_count": null,
   "id": "dd68e412-447c-4373-b690-f718723a768e",
   "metadata": {},
   "outputs": [],
   "source": []
  },
  {
   "cell_type": "code",
   "execution_count": 41,
   "id": "71894598-c8d4-429d-b4d5-27531681f543",
   "metadata": {},
   "outputs": [
    {
     "name": "stdout",
     "output_type": "stream",
     "text": [
      "Gene IDs saved to gene_ids.txt\n"
     ]
    }
   ],
   "source": [
    "# Assuming your DataFrame has a column for gene IDs, e.g., 'gene_id'\n",
    "gene_ids = annot['gene_id'].unique()  # Get unique gene IDs\n",
    "\n",
    "# Write these gene IDs to a file to use for filtering the GFF3 file\n",
    "with open(gene_ids_file, 'w') as f:\n",
    "    for gene_id in gene_ids:\n",
    "        f.write(f\"{gene_id}\\n\")\n",
    "        \n",
    "print(\"Gene IDs saved to gene_ids.txt\")"
   ]
  },
  {
   "cell_type": "code",
   "execution_count": null,
   "id": "bc6c245c-8fd0-43da-8ab7-4cef488364ae",
   "metadata": {},
   "outputs": [],
   "source": []
  },
  {
   "cell_type": "code",
   "execution_count": null,
   "id": "6cfe8f39-032c-4e0a-8389-b8d9d1d18a25",
   "metadata": {},
   "outputs": [],
   "source": []
  },
  {
   "cell_type": "code",
   "execution_count": null,
   "id": "0f445e0a-d795-4e6e-ad5f-bde1b31bbeb9",
   "metadata": {},
   "outputs": [],
   "source": []
  },
  {
   "cell_type": "code",
   "execution_count": 44,
   "id": "a34478d5-3ed7-4fd9-94b4-c8c91fa912db",
   "metadata": {},
   "outputs": [],
   "source": [
    "\n",
    "false_disc = pd.read_csv(f'top_hits_gene_and_model_sign_blocks_union_first_last_gen_BH_{biovar}.csv')"
   ]
  },
  {
   "cell_type": "code",
   "execution_count": 46,
   "id": "06ecd5e3-ff4c-4a2b-b994-d828cd851b80",
   "metadata": {},
   "outputs": [],
   "source": [
    "false_disc = false_disc.drop_duplicates(subset=['gene_id'])"
   ]
  },
  {
   "cell_type": "code",
   "execution_count": 50,
   "id": "fa4d83f7-ad16-4a7c-96bf-495b2df3d6e8",
   "metadata": {
    "scrolled": true
   },
   "outputs": [
    {
     "name": "stdout",
     "output_type": "stream",
     "text": [
      "AT2G17640\n",
      "AT2G17650\n",
      "Error fetching data for gene AT2G17650: 'Gene-ref_locus'\n",
      "AT2G17660\n",
      "Error fetching data for gene AT2G17660: 'Gene-ref_locus'\n",
      "AT2G17670\n",
      "Error fetching data for gene AT2G17670: 'Gene-ref_locus'\n",
      "AT2G17680\n",
      "Error fetching data for gene AT2G17680: 'Gene-ref_locus'\n",
      "AT2G17690\n",
      "AT2G17695\n",
      "Error fetching data for gene AT2G17695: 'Gene-ref_locus'\n",
      "AT2G17700\n",
      "Error fetching data for gene AT2G17700: 'Entrezgene_summary'\n",
      "AT2G17705\n",
      "Error fetching data for gene AT2G17705: 'Gene-ref_locus'\n",
      "AT2G17710\n",
      "Error fetching data for gene AT2G17710: 'Gene-ref_locus'\n",
      "AT2G17720\n",
      "AT2G17630\n",
      "Error fetching data for gene AT2G17630: 'Gene-ref_locus'\n",
      "AT2G17723\n",
      "Error fetching data for gene AT2G17723: 'Gene-ref_locus'\n",
      "AT3G29350\n",
      "AT3G29360\n",
      "AT5G03190\n",
      "Error fetching data for gene AT5G03190: 'Entrezgene_summary'\n",
      "AT5G03200\n",
      "AT5G54130\n",
      "Error fetching data for gene AT5G54130: 'Gene-ref_locus'\n",
      "AT5G54140\n",
      "AT1G23550\n",
      "AT1G31740\n",
      "AT2G27030\n",
      "AT2G14890\n",
      "AT4G13980\n",
      "AT4G19230\n",
      "AT4G39520\n",
      "Error fetching data for gene AT4G39520: 'Gene-ref_locus'\n",
      "AT4G39530\n",
      "Error fetching data for gene AT4G39530: 'Gene-ref_locus'\n",
      "AT4G39540\n",
      "AT5G51690\n",
      "AT1G44350\n",
      "AT2G01570\n",
      "AT4G14170\n",
      "Error fetching data for gene AT4G14170: 'Gene-ref_locus'\n",
      "AT4G14180\n",
      "AT4G15290\n",
      "AT4G18880\n",
      "AT1G51800\n",
      "AT1G53940\n",
      "AT1G55260\n",
      "Error fetching data for gene AT1G55260: 'Gene-ref_locus'\n",
      "AT1G55265\n",
      "Error fetching data for gene AT1G55265: 'Gene-ref_locus'\n",
      "AT1G55270\n",
      "Error fetching data for gene AT1G55270: 'Gene-ref_locus'\n",
      "AT1G55280\n",
      "Error fetching data for gene AT1G55280: 'Gene-ref_locus'\n",
      "AT1G55300\n",
      "Error fetching data for gene AT1G55300: 'Entrezgene_summary'\n",
      "AT1G55310\n",
      "AT1G55320\n",
      "AT1G55330\n",
      "AT1G55340\n",
      "Error fetching data for gene AT1G55340: 'Gene-ref_locus'\n",
      "AT1G55290\n",
      "Error fetching data for gene AT1G55290: 'Gene-ref_locus'\n",
      "AT1G55325\n",
      "AT1G55350\n",
      "AT1G68060\n",
      "AT1G68050\n",
      "AT1G14920\n",
      "AT1G14930\n",
      "Error fetching data for gene AT1G14930: 'Gene-ref_locus'\n",
      "AT1G14940\n",
      "Error fetching data for gene AT1G14940: 'Gene-ref_locus'\n",
      "AT1G14950\n",
      "Error fetching data for gene AT1G14950: 'Gene-ref_locus'\n",
      "AT1G14960\n",
      "Error fetching data for gene AT1G14960: 'Gene-ref_locus'\n",
      "AT1G14970\n",
      "Error fetching data for gene AT1G14970: 'Gene-ref_locus'\n",
      "AT1G14980\n",
      "AT1G14990\n",
      "Error fetching data for gene AT1G14990: 'Gene-ref_locus'\n",
      "AT1G15000\n",
      "Error fetching data for gene AT1G15000: 'Entrezgene_summary'\n",
      "AT1G15010\n",
      "Error fetching data for gene AT1G15010: 'Gene-ref_locus'\n",
      "AT1G15015\n",
      "Error fetching data for gene AT1G15015: 'Gene-ref_locus'\n",
      "AT1G15020\n",
      "AT1G15030\n",
      "Error fetching data for gene AT1G15030: 'Gene-ref_locus'\n",
      "AT1G15040\n",
      "AT1G17430\n",
      "Error fetching data for gene AT1G17430: 'Gene-ref_locus'\n",
      "AT1G17440\n",
      "AT4G16130\n",
      "AT4G11850\n",
      "AT4G12110\n",
      "AT4G12130\n",
      "Error fetching data for gene AT4G12130: 'Gene-ref_locus'\n",
      "AT4G12140\n",
      "Error fetching data for gene AT4G12140: 'Gene-ref_locus'\n",
      "AT4G12150\n",
      "Error fetching data for gene AT4G12150: 'Gene-ref_locus'\n",
      "AT4G12120\n",
      "AT5G27980\n",
      "Error fetching data for gene AT5G27980: 'Gene-ref_locus'\n",
      "AT5G27990\n",
      "Error fetching data for gene AT5G27990: 'Gene-ref_locus'\n",
      "AT5G28000\n",
      "Error fetching data for gene AT5G28000: 'Gene-ref_locus'\n",
      "AT5G28010\n",
      "Error fetching data for gene AT5G28010: 'Gene-ref_locus'\n",
      "AT5G28030\n",
      "Error fetching data for gene AT5G28030: 'Entrezgene_summary'\n",
      "AT5G28040\n",
      "Error fetching data for gene AT5G28040: 'Gene-ref_locus'\n",
      "AT5G28050\n",
      "Error fetching data for gene AT5G28050: 'Gene-ref_locus'\n",
      "AT5G28052\n",
      "Error fetching data for gene AT5G28052: 'Gene-ref_locus'\n",
      "AT5G28060\n",
      "Error fetching data for gene AT5G28060: 'Gene-ref_locus'\n",
      "AT5G28070\n",
      "Error fetching data for gene AT5G28070: 'Gene-ref_locus'\n",
      "AT5G28080\n",
      "AT5G28090\n",
      "Error fetching data for gene AT5G28090: 'Gene-ref_locus'\n",
      "AT5G27970\n",
      "Error fetching data for gene AT5G27970: 'Gene-ref_locus'\n",
      "AT5G28020\n",
      "AT4G13290\n",
      "AT4G13280\n",
      "AT1G45229\n",
      "Error fetching data for gene AT1G45229: 'Gene-ref_locus'\n",
      "AT1G45248\n",
      "Error fetching data for gene AT1G45248: 'Gene-ref_locus'\n",
      "AT1G45249\n",
      "AT1G45233\n",
      "AT4G18790\n",
      "AT5G22280\n",
      "Error fetching data for gene AT5G22280: 'Gene-ref_locus'\n",
      "AT5G22290\n",
      "AT5G25110\n",
      "AT5G25120\n",
      "AT5G25130\n",
      "AT5G25140\n",
      "AT5G25150\n",
      "AT5G25160\n",
      "AT5G25170\n",
      "Error fetching data for gene AT5G25170: 'Gene-ref_locus'\n",
      "AT5G25180\n",
      "AT5G25190\n"
     ]
    }
   ],
   "source": [
    "from Bio import Entrez\n",
    "\n",
    "# Provide your email, NCBI requires this for queries\n",
    "Entrez.email = \"tbellg@berkeley.edu\"\n",
    "\n",
    "# Function to retrieve gene information using NCBI Entrez API\n",
    "def get_gene_info_ncbi(gene_id):\n",
    "    try:\n",
    "        # Search for the gene in the NCBI database\n",
    "        search_handle = Entrez.esearch(db=\"gene\", term=f\"{gene_id}[Gene]\", retmax=1)\n",
    "        search_results = Entrez.read(search_handle)\n",
    "        search_handle.close()\n",
    "        \n",
    "        if search_results[\"IdList\"]:\n",
    "            gene_ncbi_id = search_results[\"IdList\"][0]  # Get the first matching gene ID\n",
    "            \n",
    "            # Fetch detailed gene information using the gene ID\n",
    "            fetch_handle = Entrez.efetch(db=\"gene\", id=gene_ncbi_id, retmode=\"xml\")\n",
    "            gene_data = Entrez.read(fetch_handle)\n",
    "            fetch_handle.close()\n",
    "            \n",
    "            # Extract relevant information from the gene data\n",
    "            gene_info = gene_data[0]\n",
    "            gene_name = gene_info['Entrezgene_gene']['Gene-ref']['Gene-ref_locus']\n",
    "            gene_desc = gene_info['Entrezgene_summary']\n",
    "            return {\n",
    "                \"gene_id\": gene_id,\n",
    "                \"gene_name\": gene_name,\n",
    "                \"description\": gene_desc\n",
    "            }\n",
    "        else:\n",
    "            return None\n",
    "    except Exception as e:\n",
    "        print(f\"Error fetching data for gene {gene_id}: {e}\")\n",
    "        return None\n",
    "\n",
    "# Initialize an empty list to store gene information and the corresponding block\n",
    "gene_info_list = []\n",
    "    # Loop through each gene_id and retrieve information from the API\n",
    "\n",
    "for index,row in false_disc.iterrows():\n",
    "    gene_id =  row['gene_id']\n",
    "    block = row['block']\n",
    "    print(gene_id)\n",
    "    gene_info = get_gene_info_ncbi(gene_id.strip())  # Ensure any extra spaces are removed\n",
    "    if gene_info:\n",
    "        # Add the gene information and the corresponding block to the list\n",
    "        gene_info_list.append({\n",
    "            \"block\": block,\n",
    "            \"gene_id\": gene_info.get('gene_id'),\n",
    "            \"gene_name\": gene_info.get('gene_name'),\n",
    "            \"description\": gene_info.get('description')\n",
    "        })"
   ]
  },
  {
   "cell_type": "code",
   "execution_count": 51,
   "id": "9e75ac42-bd7b-4360-b9a3-74c7d83b418d",
   "metadata": {},
   "outputs": [],
   "source": [
    "df_gene_info = pd.DataFrame(gene_info_list)"
   ]
  },
  {
   "cell_type": "code",
   "execution_count": null,
   "id": "d5e09ad4-0cd7-483d-b7e7-5b42fa672d73",
   "metadata": {},
   "outputs": [],
   "source": [
    "AAE18"
   ]
  },
  {
   "cell_type": "code",
   "execution_count": 57,
   "id": "b0112112-67ed-40bc-a990-b01675f7ea9f",
   "metadata": {
    "scrolled": true
   },
   "outputs": [
    {
     "data": {
      "text/html": [
       "<div>\n",
       "<style scoped>\n",
       "    .dataframe tbody tr th:only-of-type {\n",
       "        vertical-align: middle;\n",
       "    }\n",
       "\n",
       "    .dataframe tbody tr th {\n",
       "        vertical-align: top;\n",
       "    }\n",
       "\n",
       "    .dataframe thead th {\n",
       "        text-align: right;\n",
       "    }\n",
       "</style>\n",
       "<table border=\"1\" class=\"dataframe\">\n",
       "  <thead>\n",
       "    <tr style=\"text-align: right;\">\n",
       "      <th></th>\n",
       "      <th>block</th>\n",
       "      <th>gene_id</th>\n",
       "      <th>gene_name</th>\n",
       "      <th>description</th>\n",
       "    </tr>\n",
       "  </thead>\n",
       "  <tbody>\n",
       "    <tr>\n",
       "      <th>23</th>\n",
       "      <td>1_2859</td>\n",
       "      <td>AT1G55320</td>\n",
       "      <td>AAE18</td>\n",
       "      <td>Encodes a protein with similarity to acyl acti...</td>\n",
       "    </tr>\n",
       "  </tbody>\n",
       "</table>\n",
       "</div>"
      ],
      "text/plain": [
       "     block    gene_id gene_name  \\\n",
       "23  1_2859  AT1G55320     AAE18   \n",
       "\n",
       "                                          description  \n",
       "23  Encodes a protein with similarity to acyl acti...  "
      ]
     },
     "execution_count": 57,
     "metadata": {},
     "output_type": "execute_result"
    }
   ],
   "source": [
    "df_gene_info[df_gene_info['gene_name'] == 'AAE18']"
   ]
  },
  {
   "cell_type": "code",
   "execution_count": 124,
   "id": "44cc1c3e-c652-428d-b671-c1b1f05eacff",
   "metadata": {},
   "outputs": [
    {
     "data": {
      "text/plain": [
       "array(['ATSERAT3;1', 'SDC', 'P4H5', 'AHP2', 'UGD2', 'LUL1', 'ILL3',\n",
       "       'SRO2', 'BGAL15', 'CAM5', 'AGP9', 'AT-HSFA5', 'CYP707A1', 'SK2',\n",
       "       'ACS12', 'ILL6', 'RGA1', 'PRD1', 'ATCSLB05', 'HSF A4A', 'IOS1',\n",
       "       'GLIP2', 'SCL33', 'AAE18', 'AGP21', 'GCT', 'DEK1', 'MAP70-1',\n",
       "       'FKF1', 'GAI', 'CPN10', 'QSOX1', 'GAT1_2.1', 'EER4', 'ARA1',\n",
       "       'PLDGAMMA1', 'SMO1-1', 'SEC1B', 'WNK9', 'CYSD2', 'CYP71A19',\n",
       "       'TPS12', 'ABF2', 'THO5', 'NRAMP5', 'NAC089', 'CIPK25', 'CYP71B11',\n",
       "       'CYP71B12', 'CYP71B13', 'TAF5', 'ZFP3', 'ESE3'], dtype=object)"
      ]
     },
     "execution_count": 124,
     "metadata": {},
     "output_type": "execute_result"
    }
   ],
   "source": [
    "pd.Series(gene_names).unique()"
   ]
  },
  {
   "cell_type": "code",
   "execution_count": null,
   "id": "11bb3f01-1969-4959-9b06-53d42f7e88af",
   "metadata": {},
   "outputs": [],
   "source": []
  },
  {
   "cell_type": "code",
   "execution_count": null,
   "id": "f2214d6c-6391-4238-84c7-4c6c7f676de4",
   "metadata": {},
   "outputs": [],
   "source": []
  },
  {
   "cell_type": "code",
   "execution_count": null,
   "id": "dd995414-7e7d-43f5-9e4c-9bf697c6321b",
   "metadata": {},
   "outputs": [],
   "source": []
  },
  {
   "cell_type": "code",
   "execution_count": 83,
   "id": "b3ed373c-d7bf-4688-90bf-2bc0d20c22fc",
   "metadata": {},
   "outputs": [
    {
     "data": {
      "text/html": [
       "<div>\n",
       "<style scoped>\n",
       "    .dataframe tbody tr th:only-of-type {\n",
       "        vertical-align: middle;\n",
       "    }\n",
       "\n",
       "    .dataframe tbody tr th {\n",
       "        vertical-align: top;\n",
       "    }\n",
       "\n",
       "    .dataframe thead th {\n",
       "        text-align: right;\n",
       "    }\n",
       "</style>\n",
       "<table border=\"1\" class=\"dataframe\">\n",
       "  <thead>\n",
       "    <tr style=\"text-align: right;\">\n",
       "      <th></th>\n",
       "      <th>block</th>\n",
       "      <th>gene_id</th>\n",
       "      <th>gene_name</th>\n",
       "      <th>description</th>\n",
       "    </tr>\n",
       "  </thead>\n",
       "  <tbody>\n",
       "    <tr>\n",
       "      <th>0</th>\n",
       "      <td>3_2534</td>\n",
       "      <td>AT3G47500</td>\n",
       "      <td>CDF3</td>\n",
       "      <td>Dof-type zinc finger domain-containing protein...</td>\n",
       "    </tr>\n",
       "    <tr>\n",
       "      <th>1</th>\n",
       "      <td>5_724</td>\n",
       "      <td>AT5G24670</td>\n",
       "      <td>EMB2820</td>\n",
       "      <td>A protein coding gene with unknown function. T...</td>\n",
       "    </tr>\n",
       "    <tr>\n",
       "      <th>2</th>\n",
       "      <td>5_724</td>\n",
       "      <td>AT5G24770</td>\n",
       "      <td>VSP2</td>\n",
       "      <td>Has acid phosphatase activity dependent on the...</td>\n",
       "    </tr>\n",
       "    <tr>\n",
       "      <th>3</th>\n",
       "      <td>5_724</td>\n",
       "      <td>AT5G24780</td>\n",
       "      <td>VSP1</td>\n",
       "      <td>encodes an acid phosphatase similar to soybean...</td>\n",
       "    </tr>\n",
       "    <tr>\n",
       "      <th>4</th>\n",
       "      <td>5_724</td>\n",
       "      <td>AT5G24800</td>\n",
       "      <td>BZIP9</td>\n",
       "      <td>Encodes bZIP protein BZO2H2.</td>\n",
       "    </tr>\n",
       "    <tr>\n",
       "      <th>...</th>\n",
       "      <td>...</td>\n",
       "      <td>...</td>\n",
       "      <td>...</td>\n",
       "      <td>...</td>\n",
       "    </tr>\n",
       "    <tr>\n",
       "      <th>672</th>\n",
       "      <td>5_335</td>\n",
       "      <td>AT5G09870</td>\n",
       "      <td>CESA5</td>\n",
       "      <td>Encodes a cellulose synthase CESA5 that produc...</td>\n",
       "    </tr>\n",
       "    <tr>\n",
       "      <th>673</th>\n",
       "      <td>5_335</td>\n",
       "      <td>AT5G09610</td>\n",
       "      <td>PUM21</td>\n",
       "      <td>Encodes a member of the Arabidopsis Pumilio (A...</td>\n",
       "    </tr>\n",
       "    <tr>\n",
       "      <th>674</th>\n",
       "      <td>5_335</td>\n",
       "      <td>AT5G09805</td>\n",
       "      <td>IDL3</td>\n",
       "      <td>Similar to Inflorescence deficient in abscissi...</td>\n",
       "    </tr>\n",
       "    <tr>\n",
       "      <th>675</th>\n",
       "      <td>5_630</td>\n",
       "      <td>AT5G23720</td>\n",
       "      <td>PHS1</td>\n",
       "      <td>Encodes a protein tyrosine phosphatase Propyza...</td>\n",
       "    </tr>\n",
       "    <tr>\n",
       "      <th>676</th>\n",
       "      <td>4_3002</td>\n",
       "      <td>AT4G37840</td>\n",
       "      <td>HKL3</td>\n",
       "      <td>Encodes a putative hexokinase.</td>\n",
       "    </tr>\n",
       "  </tbody>\n",
       "</table>\n",
       "<p>677 rows × 4 columns</p>\n",
       "</div>"
      ],
      "text/plain": [
       "      block    gene_id gene_name  \\\n",
       "0    3_2534  AT3G47500      CDF3   \n",
       "1     5_724  AT5G24670   EMB2820   \n",
       "2     5_724  AT5G24770      VSP2   \n",
       "3     5_724  AT5G24780      VSP1   \n",
       "4     5_724  AT5G24800     BZIP9   \n",
       "..      ...        ...       ...   \n",
       "672   5_335  AT5G09870     CESA5   \n",
       "673   5_335  AT5G09610     PUM21   \n",
       "674   5_335  AT5G09805      IDL3   \n",
       "675   5_630  AT5G23720      PHS1   \n",
       "676  4_3002  AT4G37840      HKL3   \n",
       "\n",
       "                                           description  \n",
       "0    Dof-type zinc finger domain-containing protein...  \n",
       "1    A protein coding gene with unknown function. T...  \n",
       "2    Has acid phosphatase activity dependent on the...  \n",
       "3    encodes an acid phosphatase similar to soybean...  \n",
       "4                         Encodes bZIP protein BZO2H2.  \n",
       "..                                                 ...  \n",
       "672  Encodes a cellulose synthase CESA5 that produc...  \n",
       "673  Encodes a member of the Arabidopsis Pumilio (A...  \n",
       "674  Similar to Inflorescence deficient in abscissi...  \n",
       "675  Encodes a protein tyrosine phosphatase Propyza...  \n",
       "676                     Encodes a putative hexokinase.  \n",
       "\n",
       "[677 rows x 4 columns]"
      ]
     },
     "execution_count": 83,
     "metadata": {},
     "output_type": "execute_result"
    }
   ],
   "source": [
    "df_gene_info"
   ]
  },
  {
   "cell_type": "code",
   "execution_count": null,
   "id": "98813a1f-ab01-4da5-8371-835acf7be016",
   "metadata": {},
   "outputs": [],
   "source": []
  },
  {
   "cell_type": "code",
   "execution_count": 29,
   "id": "a9931819-1b89-4dee-8acc-3a18b1c852ba",
   "metadata": {},
   "outputs": [],
   "source": [
    "false_disc = false_disc.merge(df_gene_info, on = 'gene_id')"
   ]
  },
  {
   "cell_type": "code",
   "execution_count": null,
   "id": "9af127a0-d21f-4ba3-bc1e-c27ad4f6ec28",
   "metadata": {},
   "outputs": [],
   "source": []
  },
  {
   "cell_type": "code",
   "execution_count": 31,
   "id": "ad5ccae8-ee84-4638-bde3-df7364a674a1",
   "metadata": {},
   "outputs": [],
   "source": [
    "false_disc = false_disc.drop_duplicates()"
   ]
  },
  {
   "cell_type": "code",
   "execution_count": null,
   "id": "2032264f-36d4-4087-a530-a648772f56b7",
   "metadata": {},
   "outputs": [],
   "source": []
  },
  {
   "cell_type": "code",
   "execution_count": 65,
   "id": "f0c10b61-5131-4889-a5c7-00cea2607192",
   "metadata": {},
   "outputs": [],
   "source": [
    "false_disc = false_disc[['biovar', 'comparision','block_id', 'block_chrom', 'block_start',\n",
    "       'block_end',\n",
    "       'gene_id',  'gene_name', 'description']]"
   ]
  },
  {
   "cell_type": "code",
   "execution_count": 71,
   "id": "a48f2de3-4295-4c5e-953b-459028c5f3fb",
   "metadata": {},
   "outputs": [],
   "source": [
    "false_disc = false_disc.drop_duplicates()"
   ]
  },
  {
   "cell_type": "code",
   "execution_count": 91,
   "id": "5a0e66cc-f255-4a8f-991e-295f20f31faa",
   "metadata": {},
   "outputs": [],
   "source": [
    "false_disc.to_csv(f'top_hits_genes_info_tair10_{biovar}.csv',index=None)"
   ]
  },
  {
   "cell_type": "code",
   "execution_count": null,
   "id": "985bc9ce-21b5-4e2d-9c2b-7b0bb3e09d2a",
   "metadata": {},
   "outputs": [],
   "source": []
  }
 ],
 "metadata": {
  "kernelspec": {
   "display_name": "Python (pipeline_snakemake)",
   "language": "python",
   "name": "pipeline_snakemake"
  },
  "language_info": {
   "codemirror_mode": {
    "name": "ipython",
    "version": 3
   },
   "file_extension": ".py",
   "mimetype": "text/x-python",
   "name": "python",
   "nbconvert_exporter": "python",
   "pygments_lexer": "ipython3",
   "version": "3.9.16"
  }
 },
 "nbformat": 4,
 "nbformat_minor": 5
}
