{
 "cells": [
  {
   "cell_type": "code",
   "execution_count": 1,
   "id": "e852c45d-b6fe-41e8-94f4-b469be75db33",
   "metadata": {},
   "outputs": [],
   "source": [
    ".libPaths(\"/home/tbellagio/miniforge3/envs/r-environment/lib/R/library\")"
   ]
  },
  {
   "cell_type": "code",
   "execution_count": 2,
   "id": "211c7abb-f6d2-4d22-8248-34420e36fd46",
   "metadata": {},
   "outputs": [
    {
     "name": "stderr",
     "output_type": "stream",
     "text": [
      "Warning message:\n",
      "“package ‘lfmm’ was built under R version 4.3.2”\n",
      "\n",
      "   *****       ***   vcfR   ***       *****\n",
      "   This is vcfR 1.15.0 \n",
      "     browseVignettes('vcfR') # Documentation\n",
      "     citation('vcfR') # Citation\n",
      "   *****       *****      *****       *****\n",
      "\n",
      "\n"
     ]
    }
   ],
   "source": [
    "library(lfmm)\n",
    "library(vcfR)"
   ]
  },
  {
   "cell_type": "code",
   "execution_count": 3,
   "id": "fb27f36f-c2c4-4dbf-b516-aa8d3f06bfb2",
   "metadata": {},
   "outputs": [],
   "source": [
    "delta_p_file = '../key_files/delta_p_maf05_mincount05_firstgensamples.csv'"
   ]
  },
  {
   "cell_type": "code",
   "execution_count": null,
   "id": "63363ab8-626f-4a86-835a-877b84325adc",
   "metadata": {},
   "outputs": [],
   "source": []
  },
  {
   "cell_type": "code",
   "execution_count": null,
   "id": "da9c9a8f-047c-4682-8416-1da4841a008d",
   "metadata": {},
   "outputs": [],
   "source": []
  },
  {
   "cell_type": "code",
   "execution_count": 4,
   "id": "d7e8342a-74cd-4966-8a00-b33c7ff692d5",
   "metadata": {},
   "outputs": [],
   "source": [
    "deltap = data.table::fread(file = delta_p_file, drop = 1)\n",
    "colnames(deltap) <- NULL\n",
    "deltap <- t(as.matrix(deltap))"
   ]
  },
  {
   "cell_type": "code",
   "execution_count": 9,
   "id": "e0518bba-9e08-4eef-abcc-198334058379",
   "metadata": {},
   "outputs": [
    {
     "data": {
      "text/html": [
       "<style>\n",
       ".list-inline {list-style: none; margin:0; padding: 0}\n",
       ".list-inline>li {display: inline-block}\n",
       ".list-inline>li:not(:last-child)::after {content: \"\\00b7\"; padding: 0 .5ex}\n",
       "</style>\n",
       "<ol class=list-inline><li>325</li><li>1054574</li></ol>\n"
      ],
      "text/latex": [
       "\\begin{enumerate*}\n",
       "\\item 325\n",
       "\\item 1054574\n",
       "\\end{enumerate*}\n"
      ],
      "text/markdown": [
       "1. 325\n",
       "2. 1054574\n",
       "\n",
       "\n"
      ],
      "text/plain": [
       "[1]     325 1054574"
      ]
     },
     "metadata": {},
     "output_type": "display_data"
    }
   ],
   "source": [
    "dim(deltap)"
   ]
  },
  {
   "cell_type": "code",
   "execution_count": 6,
   "id": "b4f573a4-426b-43c0-ad17-4a4220b68610",
   "metadata": {},
   "outputs": [],
   "source": [
    "pc <- prcomp(deltap)"
   ]
  },
  {
   "cell_type": "code",
   "execution_count": 7,
   "id": "e5f71092-7d21-40b5-a6ab-65b789ac6a36",
   "metadata": {},
   "outputs": [
    {
     "data": {
      "text/html": [
       "<style>\n",
       ".list-inline {list-style: none; margin:0; padding: 0}\n",
       ".list-inline>li {display: inline-block}\n",
       ".list-inline>li:not(:last-child)::after {content: \"\\00b7\"; padding: 0 .5ex}\n",
       "</style>\n",
       "<ol class=list-inline><li>35.9728340271486</li><li>29.4773827520186</li><li>28.9947536413489</li><li>25.8988574431214</li><li>24.5269891522851</li><li>23.3090146657736</li><li>23.1607086055241</li><li>21.8588677403683</li><li>21.0966747928542</li><li>20.6764899636345</li><li>19.8547087770179</li><li>18.9220608814959</li><li>18.6974922707821</li><li>17.8743437325382</li><li>17.5481057319794</li><li>16.5614879268599</li><li>15.6537594273421</li><li>14.9554725361862</li><li>14.2874956935168</li><li>14.1590108992461</li></ol>\n"
      ],
      "text/latex": [
       "\\begin{enumerate*}\n",
       "\\item 35.9728340271486\n",
       "\\item 29.4773827520186\n",
       "\\item 28.9947536413489\n",
       "\\item 25.8988574431214\n",
       "\\item 24.5269891522851\n",
       "\\item 23.3090146657736\n",
       "\\item 23.1607086055241\n",
       "\\item 21.8588677403683\n",
       "\\item 21.0966747928542\n",
       "\\item 20.6764899636345\n",
       "\\item 19.8547087770179\n",
       "\\item 18.9220608814959\n",
       "\\item 18.6974922707821\n",
       "\\item 17.8743437325382\n",
       "\\item 17.5481057319794\n",
       "\\item 16.5614879268599\n",
       "\\item 15.6537594273421\n",
       "\\item 14.9554725361862\n",
       "\\item 14.2874956935168\n",
       "\\item 14.1590108992461\n",
       "\\end{enumerate*}\n"
      ],
      "text/markdown": [
       "1. 35.9728340271486\n",
       "2. 29.4773827520186\n",
       "3. 28.9947536413489\n",
       "4. 25.8988574431214\n",
       "5. 24.5269891522851\n",
       "6. 23.3090146657736\n",
       "7. 23.1607086055241\n",
       "8. 21.8588677403683\n",
       "9. 21.0966747928542\n",
       "10. 20.6764899636345\n",
       "11. 19.8547087770179\n",
       "12. 18.9220608814959\n",
       "13. 18.6974922707821\n",
       "14. 17.8743437325382\n",
       "15. 17.5481057319794\n",
       "16. 16.5614879268599\n",
       "17. 15.6537594273421\n",
       "18. 14.9554725361862\n",
       "19. 14.2874956935168\n",
       "20. 14.1590108992461\n",
       "\n",
       "\n"
      ],
      "text/plain": [
       " [1] 35.97283 29.47738 28.99475 25.89886 24.52699 23.30901 23.16071 21.85887\n",
       " [9] 21.09667 20.67649 19.85471 18.92206 18.69749 17.87434 17.54811 16.56149\n",
       "[17] 15.65376 14.95547 14.28750 14.15901"
      ]
     },
     "metadata": {},
     "output_type": "display_data"
    }
   ],
   "source": [
    "pc$sdev[1:20]"
   ]
  },
  {
   "cell_type": "code",
   "execution_count": 8,
   "id": "455aa318-f131-4044-8263-a3d7c1f3efc4",
   "metadata": {},
   "outputs": [
    {
     "data": {
      "image/png": "[encoded data removed]",
      "text/plain": [
       "plot without title"
      ]
     },
     "metadata": {
      "image/png": {
       "height": 420,
       "width": 420
      }
     },
     "output_type": "display_data"
    }
   ],
   "source": [
    "plot(pc$sdev[1:100]^2, xlab = 'PC', ylab = \"Variance explained\")\n",
    "#points(6,pc$sdev[6]^2, type = \"h\", lwd = 3, col = \"blue\")"
   ]
  },
  {
   "cell_type": "code",
   "execution_count": null,
   "id": "558a4a86-80f9-4019-8763-e54c6deaa4ba",
   "metadata": {},
   "outputs": [],
   "source": []
  }
 ],
 "metadata": {
  "kernelspec": {
   "display_name": "R",
   "language": "R",
   "name": "ir"
  },
  "language_info": {
   "codemirror_mode": "r",
   "file_extension": ".r",
   "mimetype": "text/x-r-source",
   "name": "R",
   "pygments_lexer": "r",
   "version": "4.2.3"
  }
 },
 "nbformat": 4,
 "nbformat_minor": 5
}
