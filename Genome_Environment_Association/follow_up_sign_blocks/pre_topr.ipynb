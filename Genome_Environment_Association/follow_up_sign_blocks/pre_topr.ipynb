{
 "cells": [
  {
   "cell_type": "code",
   "execution_count": 1,
   "id": "eb44dc57-b9a0-4b0e-85c8-37b51d5e3666",
   "metadata": {},
   "outputs": [],
   "source": [
    "import pandas as pd\n",
    "import numpy as np\n",
    "from collections import defaultdict\n",
    "import pickle\n",
    "import dask.dataframe as dd\n",
    "import seaborn as sns\n",
    "import matplotlib.pyplot as plt\n",
    "import random"
   ]
  },
  {
   "cell_type": "code",
   "execution_count": 2,
   "id": "a5cbb179-1089-4e06-a35f-baffbec2743b",
   "metadata": {},
   "outputs": [],
   "source": [
    "og = pd.read_csv('../key_files/TAIR10_GFF3_genes_transposons.gff', sep = '\\t', header=None)"
   ]
  },
  {
   "cell_type": "code",
   "execution_count": 3,
   "id": "bd6834a9-a4d8-4419-a78a-a536089b0d6b",
   "metadata": {},
   "outputs": [],
   "source": [
    "og = og[og[8].str.contains('protein_coding_gene')]"
   ]
  },
  {
   "cell_type": "code",
   "execution_count": 4,
   "id": "f8bf0926-6461-4b19-ac09-f736791fe69d",
   "metadata": {},
   "outputs": [],
   "source": [
    "og.to_csv('../key_files/TAIR10_GFF3_genes.gff', sep = '\\t', header=None, index=None)"
   ]
  },
  {
   "cell_type": "code",
   "execution_count": null,
   "id": "a28a3b80-1fdf-4b3a-aba7-8fb789b8afcb",
   "metadata": {},
   "outputs": [],
   "source": []
  },
  {
   "cell_type": "code",
   "execution_count": 6,
   "id": "16423a3a-9958-4f7b-bf3c-d33e03b905e0",
   "metadata": {},
   "outputs": [],
   "source": [
    "gff3_formatted = pd.read_csv('../key_files/TAIR10_GFF3_genes_transposons_formatted4topr.csv')"
   ]
  },
  {
   "cell_type": "code",
   "execution_count": 7,
   "id": "598c8c67-f091-43a2-ae1a-48df5f82fa19",
   "metadata": {},
   "outputs": [],
   "source": [
    "gff3_formatted = gff3_formatted.drop('Unnamed: 0',axis=1)"
   ]
  },
  {
   "cell_type": "code",
   "execution_count": 8,
   "id": "71feb668-ab66-4fb0-a015-a7aae50ce615",
   "metadata": {},
   "outputs": [
    {
     "data": {
      "text/plain": [
       "chrom               int64\n",
       "gene_start          int64\n",
       "gene_end            int64\n",
       "gene_symbol        object\n",
       "biotype            object\n",
       "gene_id            object\n",
       "exon_chromstart    object\n",
       "exon_chromend      object\n",
       "dtype: object"
      ]
     },
     "execution_count": 8,
     "metadata": {},
     "output_type": "execute_result"
    }
   ],
   "source": [
    "gff3_formatted.dtypes"
   ]
  },
  {
   "cell_type": "code",
   "execution_count": 9,
   "id": "91f109bd-8acd-4d2d-bfe7-fc153d2e37ae",
   "metadata": {},
   "outputs": [],
   "source": [
    "new = pd.read_csv('tair_annotations_topr.tsv', sep='\\t')"
   ]
  },
  {
   "cell_type": "code",
   "execution_count": 10,
   "id": "2f06c156-e7f8-400a-9769-1a7ca83f855f",
   "metadata": {},
   "outputs": [],
   "source": [
    "new = new[new['chrom'].isin(['Chr1', 'Chr2', 'Chr3', 'Chr4', 'Chr5'])]"
   ]
  },
  {
   "cell_type": "code",
   "execution_count": 11,
   "id": "92221d45-d234-4732-8144-d4b1b46b6860",
   "metadata": {},
   "outputs": [
    {
     "ename": "AttributeError",
     "evalue": "Can only use .str accessor with string values!",
     "output_type": "error",
     "traceback": [
      "\u001b[0;31m---------------------------------------------------------------------------\u001b[0m",
      "\u001b[0;31mAttributeError\u001b[0m                            Traceback (most recent call last)",
      "Cell \u001b[0;32mIn[11], line 1\u001b[0m\n\u001b[0;32m----> 1\u001b[0m new[\u001b[38;5;124m'\u001b[39m\u001b[38;5;124mchrom\u001b[39m\u001b[38;5;124m'\u001b[39m] \u001b[38;5;241m=\u001b[39m \u001b[43mnew\u001b[49m\u001b[43m[\u001b[49m\u001b[38;5;124;43m'\u001b[39;49m\u001b[38;5;124;43mchrom\u001b[39;49m\u001b[38;5;124;43m'\u001b[39;49m\u001b[43m]\u001b[49m\u001b[38;5;241;43m.\u001b[39;49m\u001b[43mstr\u001b[49m\u001b[38;5;241m.\u001b[39mreplace(\u001b[38;5;124m'\u001b[39m\u001b[38;5;124mChr\u001b[39m\u001b[38;5;124m'\u001b[39m, \u001b[38;5;124m'\u001b[39m\u001b[38;5;124m'\u001b[39m)\u001b[38;5;241m.\u001b[39mastype(\u001b[38;5;28mint\u001b[39m)\n",
      "File \u001b[0;32m~/miniforge3/envs/pipeline_snakemake/lib/python3.9/site-packages/pandas/core/generic.py:5989\u001b[0m, in \u001b[0;36mNDFrame.__getattr__\u001b[0;34m(self, name)\u001b[0m\n\u001b[1;32m   5982\u001b[0m \u001b[38;5;28;01mif\u001b[39;00m (\n\u001b[1;32m   5983\u001b[0m     name \u001b[38;5;129;01mnot\u001b[39;00m \u001b[38;5;129;01min\u001b[39;00m \u001b[38;5;28mself\u001b[39m\u001b[38;5;241m.\u001b[39m_internal_names_set\n\u001b[1;32m   5984\u001b[0m     \u001b[38;5;129;01mand\u001b[39;00m name \u001b[38;5;129;01mnot\u001b[39;00m \u001b[38;5;129;01min\u001b[39;00m \u001b[38;5;28mself\u001b[39m\u001b[38;5;241m.\u001b[39m_metadata\n\u001b[1;32m   5985\u001b[0m     \u001b[38;5;129;01mand\u001b[39;00m name \u001b[38;5;129;01mnot\u001b[39;00m \u001b[38;5;129;01min\u001b[39;00m \u001b[38;5;28mself\u001b[39m\u001b[38;5;241m.\u001b[39m_accessors\n\u001b[1;32m   5986\u001b[0m     \u001b[38;5;129;01mand\u001b[39;00m \u001b[38;5;28mself\u001b[39m\u001b[38;5;241m.\u001b[39m_info_axis\u001b[38;5;241m.\u001b[39m_can_hold_identifiers_and_holds_name(name)\n\u001b[1;32m   5987\u001b[0m ):\n\u001b[1;32m   5988\u001b[0m     \u001b[38;5;28;01mreturn\u001b[39;00m \u001b[38;5;28mself\u001b[39m[name]\n\u001b[0;32m-> 5989\u001b[0m \u001b[38;5;28;01mreturn\u001b[39;00m \u001b[38;5;28;43mobject\u001b[39;49m\u001b[38;5;241;43m.\u001b[39;49m\u001b[38;5;21;43m__getattribute__\u001b[39;49m\u001b[43m(\u001b[49m\u001b[38;5;28;43mself\u001b[39;49m\u001b[43m,\u001b[49m\u001b[43m \u001b[49m\u001b[43mname\u001b[49m\u001b[43m)\u001b[49m\n",
      "File \u001b[0;32m~/miniforge3/envs/pipeline_snakemake/lib/python3.9/site-packages/pandas/core/accessor.py:224\u001b[0m, in \u001b[0;36mCachedAccessor.__get__\u001b[0;34m(self, obj, cls)\u001b[0m\n\u001b[1;32m    221\u001b[0m \u001b[38;5;28;01mif\u001b[39;00m obj \u001b[38;5;129;01mis\u001b[39;00m \u001b[38;5;28;01mNone\u001b[39;00m:\n\u001b[1;32m    222\u001b[0m     \u001b[38;5;66;03m# we're accessing the attribute of the class, i.e., Dataset.geo\u001b[39;00m\n\u001b[1;32m    223\u001b[0m     \u001b[38;5;28;01mreturn\u001b[39;00m \u001b[38;5;28mself\u001b[39m\u001b[38;5;241m.\u001b[39m_accessor\n\u001b[0;32m--> 224\u001b[0m accessor_obj \u001b[38;5;241m=\u001b[39m \u001b[38;5;28;43mself\u001b[39;49m\u001b[38;5;241;43m.\u001b[39;49m\u001b[43m_accessor\u001b[49m\u001b[43m(\u001b[49m\u001b[43mobj\u001b[49m\u001b[43m)\u001b[49m\n\u001b[1;32m    225\u001b[0m \u001b[38;5;66;03m# Replace the property with the accessor object. Inspired by:\u001b[39;00m\n\u001b[1;32m    226\u001b[0m \u001b[38;5;66;03m# https://www.pydanny.com/cached-property.html\u001b[39;00m\n\u001b[1;32m    227\u001b[0m \u001b[38;5;66;03m# We need to use object.__setattr__ because we overwrite __setattr__ on\u001b[39;00m\n\u001b[1;32m    228\u001b[0m \u001b[38;5;66;03m# NDFrame\u001b[39;00m\n\u001b[1;32m    229\u001b[0m \u001b[38;5;28mobject\u001b[39m\u001b[38;5;241m.\u001b[39m\u001b[38;5;21m__setattr__\u001b[39m(obj, \u001b[38;5;28mself\u001b[39m\u001b[38;5;241m.\u001b[39m_name, accessor_obj)\n",
      "File \u001b[0;32m~/miniforge3/envs/pipeline_snakemake/lib/python3.9/site-packages/pandas/core/strings/accessor.py:181\u001b[0m, in \u001b[0;36mStringMethods.__init__\u001b[0;34m(self, data)\u001b[0m\n\u001b[1;32m    178\u001b[0m \u001b[38;5;28;01mdef\u001b[39;00m \u001b[38;5;21m__init__\u001b[39m(\u001b[38;5;28mself\u001b[39m, data) \u001b[38;5;241m-\u001b[39m\u001b[38;5;241m>\u001b[39m \u001b[38;5;28;01mNone\u001b[39;00m:\n\u001b[1;32m    179\u001b[0m     \u001b[38;5;28;01mfrom\u001b[39;00m \u001b[38;5;21;01mpandas\u001b[39;00m\u001b[38;5;21;01m.\u001b[39;00m\u001b[38;5;21;01mcore\u001b[39;00m\u001b[38;5;21;01m.\u001b[39;00m\u001b[38;5;21;01marrays\u001b[39;00m\u001b[38;5;21;01m.\u001b[39;00m\u001b[38;5;21;01mstring_\u001b[39;00m \u001b[38;5;28;01mimport\u001b[39;00m StringDtype\n\u001b[0;32m--> 181\u001b[0m     \u001b[38;5;28mself\u001b[39m\u001b[38;5;241m.\u001b[39m_inferred_dtype \u001b[38;5;241m=\u001b[39m \u001b[38;5;28;43mself\u001b[39;49m\u001b[38;5;241;43m.\u001b[39;49m\u001b[43m_validate\u001b[49m\u001b[43m(\u001b[49m\u001b[43mdata\u001b[49m\u001b[43m)\u001b[49m\n\u001b[1;32m    182\u001b[0m     \u001b[38;5;28mself\u001b[39m\u001b[38;5;241m.\u001b[39m_is_categorical \u001b[38;5;241m=\u001b[39m is_categorical_dtype(data\u001b[38;5;241m.\u001b[39mdtype)\n\u001b[1;32m    183\u001b[0m     \u001b[38;5;28mself\u001b[39m\u001b[38;5;241m.\u001b[39m_is_string \u001b[38;5;241m=\u001b[39m \u001b[38;5;28misinstance\u001b[39m(data\u001b[38;5;241m.\u001b[39mdtype, StringDtype)\n",
      "File \u001b[0;32m~/miniforge3/envs/pipeline_snakemake/lib/python3.9/site-packages/pandas/core/strings/accessor.py:235\u001b[0m, in \u001b[0;36mStringMethods._validate\u001b[0;34m(data)\u001b[0m\n\u001b[1;32m    232\u001b[0m inferred_dtype \u001b[38;5;241m=\u001b[39m lib\u001b[38;5;241m.\u001b[39minfer_dtype(values, skipna\u001b[38;5;241m=\u001b[39m\u001b[38;5;28;01mTrue\u001b[39;00m)\n\u001b[1;32m    234\u001b[0m \u001b[38;5;28;01mif\u001b[39;00m inferred_dtype \u001b[38;5;129;01mnot\u001b[39;00m \u001b[38;5;129;01min\u001b[39;00m allowed_types:\n\u001b[0;32m--> 235\u001b[0m     \u001b[38;5;28;01mraise\u001b[39;00m \u001b[38;5;167;01mAttributeError\u001b[39;00m(\u001b[38;5;124m\"\u001b[39m\u001b[38;5;124mCan only use .str accessor with string values!\u001b[39m\u001b[38;5;124m\"\u001b[39m)\n\u001b[1;32m    236\u001b[0m \u001b[38;5;28;01mreturn\u001b[39;00m inferred_dtype\n",
      "\u001b[0;31mAttributeError\u001b[0m: Can only use .str accessor with string values!"
     ]
    }
   ],
   "source": [
    "new['chrom'] = new['chrom'].str.replace('Chr', '').astype(int)"
   ]
  },
  {
   "cell_type": "code",
   "execution_count": 13,
   "id": "9144a787-7ace-468a-8098-62566c9c5f5b",
   "metadata": {},
   "outputs": [
    {
     "ename": "NameError",
     "evalue": "name 'new' is not defined",
     "output_type": "error",
     "traceback": [
      "\u001b[0;31m---------------------------------------------------------------------------\u001b[0m",
      "\u001b[0;31mNameError\u001b[0m                                 Traceback (most recent call last)",
      "Cell \u001b[0;32mIn[13], line 1\u001b[0m\n\u001b[0;32m----> 1\u001b[0m \u001b[43mnew\u001b[49m\u001b[38;5;241m.\u001b[39mto_csv(\u001b[38;5;124m'\u001b[39m\u001b[38;5;124mtair_annotations_topr.tsv\u001b[39m\u001b[38;5;124m'\u001b[39m, sep\u001b[38;5;241m=\u001b[39m\u001b[38;5;124m'\u001b[39m\u001b[38;5;130;01m\\t\u001b[39;00m\u001b[38;5;124m'\u001b[39m, index\u001b[38;5;241m=\u001b[39m\u001b[38;5;28;01mNone\u001b[39;00m)\n",
      "\u001b[0;31mNameError\u001b[0m: name 'new' is not defined"
     ]
    }
   ],
   "source": [
    "new.to_csv('tair_annotations_topr.tsv', sep='\\t', index=None)"
   ]
  },
  {
   "cell_type": "code",
   "execution_count": null,
   "id": "3ee6201b-b583-402e-afe6-e7bd07b4de4b",
   "metadata": {},
   "outputs": [],
   "source": []
  },
  {
   "cell_type": "code",
   "execution_count": null,
   "id": "9840f4d0-e311-44c5-8558-3ec3ee3d2753",
   "metadata": {},
   "outputs": [],
   "source": [
    "## gemma 1137 genomes "
   ]
  },
  {
   "cell_type": "code",
   "execution_count": 12,
   "id": "a6e3f478-cded-49b6-8f44-391712391c62",
   "metadata": {},
   "outputs": [],
   "source": [
    "pvalues_gemma = pd.read_csv('/carnegie/nobackup/scratch/tbellagio/gea_grene-net/gwas/allele_assoc_runs/lmm_gemma/bio1/output/results_lmm_maf.csv')"
   ]
  },
  {
   "cell_type": "code",
   "execution_count": 12,
   "id": "4020b69c-ad55-4c00-bb0c-2d293bc12044",
   "metadata": {},
   "outputs": [],
   "source": [
    "pvalues_gemma['CHROM'] = pvalues_gemma['rs'].str.split('_').str[0]\n",
    "pvalues_gemma['POS'] = pvalues_gemma['rs'].str.split('_').str[1]"
   ]
  },
  {
   "cell_type": "code",
   "execution_count": 13,
   "id": "5c6667fd-7e37-4095-83d0-2ff9df4bd2c5",
   "metadata": {},
   "outputs": [],
   "source": [
    "pvalues_gemma = pvalues_gemma[['p_wald', 'CHROM', 'POS']]"
   ]
  },
  {
   "cell_type": "code",
   "execution_count": 14,
   "id": "7112fdf4-fd15-4d79-8c61-b4e7787170cb",
   "metadata": {},
   "outputs": [],
   "source": [
    "pvalues_gemma.columns = ['P', 'CHROM', 'POS' ]"
   ]
  },
  {
   "cell_type": "code",
   "execution_count": 16,
   "id": "e9a7da69-11e5-42df-add8-aeb8c9d80df1",
   "metadata": {},
   "outputs": [],
   "source": [
    "pvalues_gemma.to_csv(f'gemma1137_bio1_4topr.csv',index=None)"
   ]
  },
  {
   "cell_type": "code",
   "execution_count": null,
   "id": "0a9448dd-51a9-4ac5-8869-37bc6c34304f",
   "metadata": {},
   "outputs": [],
   "source": []
  },
  {
   "cell_type": "code",
   "execution_count": null,
   "id": "d3ac9c8b-6481-439b-9233-4249e0122435",
   "metadata": {},
   "outputs": [],
   "source": []
  },
  {
   "cell_type": "code",
   "execution_count": 20,
   "id": "e4fbd166-6d2e-4f27-8f7c-469f2baa835d",
   "metadata": {},
   "outputs": [],
   "source": [
    "pvalues_gemma = pd.read_csv('/carnegie/nobackup/scratch/tbellagio/gea_grene-net/gwas/allele_assoc_runs/only_grenenet/lmm_gemma/bio1/output/results_lmm_maf.csv')"
   ]
  },
  {
   "cell_type": "code",
   "execution_count": 21,
   "id": "0009aa83-08f0-4fa0-bc3b-d753fa0041bd",
   "metadata": {},
   "outputs": [],
   "source": [
    "pvalues_gemma['CHROM'] = pvalues_gemma['rs'].str.split('_').str[0]\n",
    "pvalues_gemma['POS'] = pvalues_gemma['rs'].str.split('_').str[1]"
   ]
  },
  {
   "cell_type": "code",
   "execution_count": 22,
   "id": "24c9fbbb-f01b-46f3-a1f9-bedb0678bbc1",
   "metadata": {},
   "outputs": [],
   "source": [
    "pvalues_gemma = pvalues_gemma[['p_wald', 'CHROM', 'POS']]"
   ]
  },
  {
   "cell_type": "code",
   "execution_count": 23,
   "id": "b9a9ee71-a455-4d67-a411-ac486b7df719",
   "metadata": {},
   "outputs": [],
   "source": [
    "pvalues_gemma.columns = ['P', 'CHROM', 'POS' ]"
   ]
  },
  {
   "cell_type": "code",
   "execution_count": 24,
   "id": "f9900b36-ed41-4bf7-9fb0-8b90b1892f05",
   "metadata": {},
   "outputs": [],
   "source": [
    "pvalues_gemma.to_csv(f'gemma231_bio1_4topr.csv',index=None)"
   ]
  },
  {
   "cell_type": "code",
   "execution_count": null,
   "id": "b1c09a42-7486-49ac-9c6a-6dc954e59325",
   "metadata": {},
   "outputs": [],
   "source": []
  },
  {
   "cell_type": "code",
   "execution_count": null,
   "id": "cdc8f089-90ae-47d4-9e0f-2af36f0e8903",
   "metadata": {},
   "outputs": [],
   "source": []
  },
  {
   "cell_type": "code",
   "execution_count": null,
   "id": "64928106-d856-4d60-a76a-2cf189514b41",
   "metadata": {},
   "outputs": [],
   "source": []
  },
  {
   "cell_type": "code",
   "execution_count": 2,
   "id": "2b88cbbf-c7ff-42cc-a768-7f1e1860404b",
   "metadata": {},
   "outputs": [],
   "source": [
    "#pvalues_lfmm = f'/carnegie/nobackup/scratch/tbellagio/gea_grene-net/lfmm_full/lfmm_fullresults_all_k/lfmm_bio1_k25_results.csv'\n",
    "#pvalues_lfmm = pd.read_csv(pvalues_lfmm)"
   ]
  },
  {
   "cell_type": "code",
   "execution_count": 19,
   "id": "72efbdb2-0f69-4058-9a32-b8e0d74aa547",
   "metadata": {},
   "outputs": [],
   "source": [
    "pvalues_lfmm = f'/carnegie/nobackup/scratch/tbellagio/gea_grene-net/lfmm_full_last_gen/lfmm_fullresults_all_k/lfmm_bio1_k16_results.csv'\n",
    "pvalues_lfmm = pd.read_csv(pvalues_lfmm)"
   ]
  },
  {
   "cell_type": "code",
   "execution_count": null,
   "id": "2415014e-570c-4862-9083-2dfbeb344987",
   "metadata": {},
   "outputs": [],
   "source": []
  },
  {
   "cell_type": "code",
   "execution_count": 20,
   "id": "08a8eb1d-f37e-443a-8c78-aafde68372dc",
   "metadata": {},
   "outputs": [],
   "source": [
    "#pvalues_linages = f'/carnegie/nobackup/scratch/tbellagio/gea_grene-net/linages_wza_picmin/kendall_0_w_id_n_blocks.csv'\n",
    "#pvalues_linages = pd.read_csv(pvalues_linages)"
   ]
  },
  {
   "cell_type": "code",
   "execution_count": 21,
   "id": "12b8e05f-edd6-4965-8a94-e22701ed1d2b",
   "metadata": {},
   "outputs": [
    {
     "name": "stderr",
     "output_type": "stream",
     "text": [
      "/tmp/ipykernel_2616686/4223356288.py:6: SettingWithCopyWarning: \n",
      "A value is trying to be set on a copy of a slice from a DataFrame.\n",
      "Try using .loc[row_indexer,col_indexer] = value instead\n",
      "\n",
      "See the caveats in the documentation: https://pandas.pydata.org/pandas-docs/stable/user_guide/indexing.html#returning-a-view-versus-a-copy\n",
      "  lfmm_result_4topr['CHROM'] = lfmm_result_4topr['snp_id'].str.split('_').str[0]\n"
     ]
    }
   ],
   "source": [
    "#pvalues_lfmm = f'/carnegie/nobackup/scratch/tbellagio/gea_grene-net/lfmm_full/lfmm_fullresults_all_k/lfmm_bio1_k25_results.csv'\n",
    "#pvalues_lfmm = pd.read_csv(pvalues_lfmm)\n",
    "\n",
    "lfmm_result_4topr = pvalues_lfmm[['snp_id', 'p_value']]\n",
    "\n",
    "lfmm_result_4topr['CHROM'] = lfmm_result_4topr['snp_id'].str.split('_').str[0]\n",
    "lfmm_result_4topr['POS'] = lfmm_result_4topr['snp_id'].str.split('_').str[1]\n",
    "\n",
    "lfmm_result_4topr = lfmm_result_4topr[['p_value', 'CHROM', 'POS']]\n",
    "\n",
    "lfmm_result_4topr.columns = ['P', 'CHROM', 'POS' ]\n",
    "## get rid of everything that is not below the treshhold\n",
    "#lfmm_result_4topr = lfmm_result_4topr[lfmm_result_4topr['P'] < 0.0001]\n",
    "lfmm_result_4topr.to_csv(f'lfmm_bio1_4topr_last_gen.csv',index=None)"
   ]
  },
  {
   "cell_type": "code",
   "execution_count": null,
   "id": "143e90d6-e961-4c34-a369-d56a3aad6b74",
   "metadata": {},
   "outputs": [],
   "source": []
  },
  {
   "cell_type": "code",
   "execution_count": 30,
   "id": "a852bf6e-a1d6-4dba-ad64-0f717f6b4e93",
   "metadata": {},
   "outputs": [],
   "source": []
  },
  {
   "cell_type": "code",
   "execution_count": 22,
   "id": "95d8f9ea-f1f5-46c0-b704-76e015148f72",
   "metadata": {},
   "outputs": [],
   "source": [
    "pvalues_kendall = f'/carnegie/nobackup/scratch/tbellagio/gea_grene-net/kendall_tau_last_gen/kendall_corr_bio1.csv'\n",
    "pvalues_kendall = pd.read_csv(pvalues_kendall)"
   ]
  },
  {
   "cell_type": "code",
   "execution_count": 23,
   "id": "968695e6-c2c2-4876-be1e-785b18e4a65e",
   "metadata": {},
   "outputs": [],
   "source": [
    "pvalues_kendall = pvalues_kendall[['K_tau_p', 'chrom', 'pos']]"
   ]
  },
  {
   "cell_type": "code",
   "execution_count": 24,
   "id": "4f252794-dfc6-4b04-8fea-7be473629f74",
   "metadata": {},
   "outputs": [],
   "source": [
    "pvalues_kendall.columns = ['P', 'CHROM', 'POS' ]"
   ]
  },
  {
   "cell_type": "code",
   "execution_count": 25,
   "id": "2306cf82-e63d-4dc1-8fd6-5d62bd38f503",
   "metadata": {},
   "outputs": [],
   "source": [
    "pvalues_kendall['POS'] = pvalues_kendall['POS'].astype(int)"
   ]
  },
  {
   "cell_type": "code",
   "execution_count": 26,
   "id": "05c8bce6-483f-4ffb-a71c-46cbe537bf76",
   "metadata": {},
   "outputs": [],
   "source": [
    "#pvalues_kendall = pvalues_kendall[pvalues_kendall['P'] < 0.0001]"
   ]
  },
  {
   "cell_type": "code",
   "execution_count": 27,
   "id": "2e149f9a-9b05-4a01-831c-6e5e8a2474c4",
   "metadata": {},
   "outputs": [],
   "source": [
    "pvalues_kendall.to_csv(f'kendall_bio1_4topr_last_gen.csv',index=None)"
   ]
  },
  {
   "cell_type": "code",
   "execution_count": null,
   "id": "70f340af-edf6-43d4-a7bf-53fdcbfb283b",
   "metadata": {},
   "outputs": [],
   "source": []
  },
  {
   "cell_type": "code",
   "execution_count": null,
   "id": "12ad8553-6b02-41a6-92d3-8ca28083b602",
   "metadata": {},
   "outputs": [],
   "source": []
  },
  {
   "cell_type": "code",
   "execution_count": 28,
   "id": "2f5b8fec-7a29-4578-947f-482bc0aad426",
   "metadata": {},
   "outputs": [],
   "source": [
    "pvalues_binom = f'/carnegie/nobackup/scratch/tbellagio/gea_grene-net/binomial_regression_lastgen/binomial_reg_lastgen_wmaf_bio1.csv'\n",
    "pvalues_binom = pd.read_csv(pvalues_binom)"
   ]
  },
  {
   "cell_type": "code",
   "execution_count": 29,
   "id": "d9974ed2-f885-460e-af76-6aa8ff22ff0c",
   "metadata": {},
   "outputs": [],
   "source": [
    "pvalues_binom['CHROM'] = pvalues_binom['snp_id'].str.split('_').str[0]\n",
    "pvalues_binom['POS'] = pvalues_binom['snp_id'].str.split('_').str[1]"
   ]
  },
  {
   "cell_type": "code",
   "execution_count": 30,
   "id": "10ff0b2b-4e48-4f9f-bf73-120f7174a4c0",
   "metadata": {},
   "outputs": [],
   "source": [
    "pvalues_binom = pvalues_binom[['pvalue', 'CHROM', 'POS']]"
   ]
  },
  {
   "cell_type": "code",
   "execution_count": 31,
   "id": "aa888cfe-96e7-475c-8437-b25f96f28b1d",
   "metadata": {},
   "outputs": [],
   "source": [
    "pvalues_binom.columns = ['P', 'CHROM', 'POS' ]"
   ]
  },
  {
   "cell_type": "code",
   "execution_count": 32,
   "id": "4ee7bcda-8f7e-49a5-9a42-a8e089ad6d4b",
   "metadata": {},
   "outputs": [],
   "source": [
    "pvalues_binom['POS'] = pvalues_binom['POS'].astype(int)"
   ]
  },
  {
   "cell_type": "code",
   "execution_count": 33,
   "id": "e1cc3c52-a762-4d99-9cbe-211dd7d9de06",
   "metadata": {},
   "outputs": [],
   "source": [
    "pvalues_binom.to_csv('binom_bio1_4topr_last_gen.csv',index=None)"
   ]
  },
  {
   "cell_type": "code",
   "execution_count": null,
   "id": "0e5f277a-1dbb-49a3-8747-32b3f0981acf",
   "metadata": {},
   "outputs": [],
   "source": []
  },
  {
   "cell_type": "code",
   "execution_count": null,
   "id": "604cc33f-c10d-48bd-acea-7a29b6a34cbc",
   "metadata": {},
   "outputs": [],
   "source": []
  },
  {
   "cell_type": "code",
   "execution_count": 109,
   "id": "4ad6c694-0435-4057-a0cc-227bc2717bc3",
   "metadata": {},
   "outputs": [],
   "source": [
    "#pvalues_binom = pvalues_binom[pvalues_binom['P'] < 0.0001]"
   ]
  },
  {
   "cell_type": "code",
   "execution_count": null,
   "id": "6178b1c7-5844-419f-9a40-ca81ed7bb682",
   "metadata": {},
   "outputs": [],
   "source": []
  }
 ],
 "metadata": {
  "kernelspec": {
   "display_name": "Python (pipeline_snakemake)",
   "language": "python",
   "name": "pipeline_snakemake"
  },
  "language_info": {
   "codemirror_mode": {
    "name": "ipython",
    "version": 3
   },
   "file_extension": ".py",
   "mimetype": "text/x-python",
   "name": "python",
   "nbconvert_exporter": "python",
   "pygments_lexer": "ipython3",
   "version": "3.9.16"
  }
 },
 "nbformat": 4,
 "nbformat_minor": 5
}
