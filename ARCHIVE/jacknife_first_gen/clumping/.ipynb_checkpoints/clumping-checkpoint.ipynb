{
 "cells": [
  {
   "cell_type": "code",
   "execution_count": 1,
   "id": "6d58ca88-4662-41f1-893c-e93951319c90",
   "metadata": {},
   "outputs": [],
   "source": [
    "import numpy as np\n",
    "import pandas as pd\n",
    "import os\n",
    "import pickle"
   ]
  },
  {
   "cell_type": "code",
   "execution_count": null,
   "id": "91ce7139-b1f7-41ad-b650-821b6c95dbcf",
   "metadata": {},
   "outputs": [],
   "source": [
    "## get the vcf file frothe chromosomes and positions \n",
    "import allel\n",
    "## ld pruned vcf file\n",
    "vcf_file = '/carnegie/nobackup/scratch/xwu/grenet/hapFIRE_updatedVCF/greneNet_final_v1.1.recode.vcf'\n",
    "vcf = allel.read_vcf(vcf_file)\n",
    "\n",
    "variants = vcf['calldata/GT']\n",
    "pos = vcf['variants/POS']\n",
    "chrom = vcf['variants/CHROM']"
   ]
  },
  {
   "cell_type": "code",
   "execution_count": 4,
   "id": "4403c4af-a077-4ebe-9424-69353c85b1b0",
   "metadata": {},
   "outputs": [
    {
     "name": "stdout",
     "output_type": "stream",
     "text": [
      "/carnegie/nobackup/scratch/tbellagio/gea_grene-net/jacknife_lfmm/clumping\n"
     ]
    }
   ],
   "source": [
    "!pwd"
   ]
  },
  {
   "cell_type": "code",
   "execution_count": 5,
   "id": "86170645-87f1-49e5-982a-980d847f547d",
   "metadata": {},
   "outputs": [],
   "source": [
    "split_number = 0"
   ]
  },
  {
   "cell_type": "code",
   "execution_count": 7,
   "id": "8fa17838-c2b9-4107-9b4f-0dab8bbcd506",
   "metadata": {},
   "outputs": [],
   "source": [
    "\n",
    "snps_indices_bio1_file = f'/carnegie/nobackup/scratch/tbellagio/gea_grene-net/jacknife_lfmm/split_number_{split_number}/delta_p/snps_indices_bio1.csv'\n",
    "output = f'/carnegie/nobackup/scratch/tbellagio/gea_grene-net/jacknife_lfmm/split_number_{split_number}/delta_p/input_clumping.txt'\n",
    "dict_rpos_index0_file = f'/carnegie/nobackup/scratch/tbellagio/gea_grene-net/jacknife_lfmm/split_number_{split_number}/delta_p/dict_rpos_index0.pkl'\n",
    "p_values_file = f'/carnegie/nobackup/scratch/tbellagio/gea_grene-net/jacknife_lfmm/split_number_{split_number}/delta_p/wo_calibration_pvalue_full_genome.csv'\n",
    "\n",
    "p_values = pd.read_csv(p_values_file)\n",
    "snps_indices_bio1 = pd.read_csv(snps_indices_bio1_file)\n",
    "snps_0index = snps_indices_bio1['x'] - 1 \n",
    "chr_selected = pd.Series(chrom).iloc[snps_0index.to_list()]\n",
    "pos_selected = pd.Series(pos).iloc[snps_0index.to_list()]\n",
    "pos_selected = chr_selected.astype(str) + '_' + pos_selected.astype(str)\n",
    "pos_selected = pos_selected.reset_index(drop=True)\n",
    "\n",
    "dict_rpos_index0 = dict(zip(pos_selected, snps_0index))"
   ]
  },
  {
   "cell_type": "code",
   "execution_count": null,
   "id": "424a3ce3-8177-40d1-ab6c-da3982d51035",
   "metadata": {},
   "outputs": [],
   "source": []
  },
  {
   "cell_type": "code",
   "execution_count": null,
   "id": "dd626198-9b14-4911-8f7d-04ae7e52f9fd",
   "metadata": {},
   "outputs": [],
   "source": [
    "## save the pikl relating the index0  with the actual snp id \n",
    "with open(dict_rpos_index0_file, 'wb') as f:\n",
    "    pickle.dump(dict_rpos_index0, f)  \n",
    "\n",
    "p_values_sel = p_values.iloc[snps_0index]['V1']\n",
    "p_values_sel = p_values_sel.reset_index(drop=True)\n",
    "# Writing the SNP ID and p-value pairs to a text file\n",
    "snp_p_values = list(zip(pos_selected, p_values_sel))\n",
    "with open(output, 'w') as file:\n",
    "    # Write the header\n",
    "    file.write(\"SNP P\\n\")  # Assuming you want headers named 'SNP' and 'P'\n",
    "    for snp_id, p_value in snp_p_values:\n",
    "        file.write(f\"{snp_id} {p_value}\\n\")"
   ]
  },
  {
   "cell_type": "code",
   "execution_count": null,
   "id": "ad84e8a6-489c-4a88-9121-8774723f622b",
   "metadata": {},
   "outputs": [],
   "source": []
  },
  {
   "cell_type": "code",
   "execution_count": null,
   "id": "875bb138-e0d6-4ba7-bc9d-416e07cdf3d4",
   "metadata": {},
   "outputs": [],
   "source": []
  },
  {
   "cell_type": "code",
   "execution_count": 6,
   "id": "d8c042df-9560-40c2-980c-63b7ece72289",
   "metadata": {},
   "outputs": [],
   "source": [
    "for split_number in range(31):\n",
    "    snps_indices_bio1_file = f'/carnegie/nobackup/scratch/tbellagio/gea_grene-net/jacknife_lfmm/split_number_{split_number}/delta_p/snps_indices_bio1.csv'\n",
    "    output = f'/carnegie/nobackup/scratch/tbellagio/gea_grene-net/jacknife_lfmm/split_number_{split_number}/delta_p/input_clumping.txt'\n",
    "    dict_rpos_index0_file = f'/carnegie/nobackup/scratch/tbellagio/gea_grene-net/jacknife_lfmm/split_number_{split_number}/delta_p/dict_rpos_index0.pkl'\n",
    "    p_values_file = f'/carnegie/nobackup/scratch/tbellagio/gea_grene-net/jacknife_lfmm/split_number_{split_number}/delta_p/wo_calibration_pvalue_full_genome.csv'\n",
    "    \n",
    "    p_values = pd.read_csv(p_values_file)\n",
    "    snps_indices_bio1 = pd.read_csv(snps_indices_bio1_file)\n",
    "    snps_0index = snps_indices_bio1['x'] - 1 \n",
    "    chr_selected = pd.Series(chrom).iloc[snps_0index.to_list()]\n",
    "    pos_selected = pd.Series(pos).iloc[snps_0index.to_list()]\n",
    "    pos_selected = chr_selected.astype(str) + '_' + pos_selected.astype(str)\n",
    "    pos_selected = pos_selected.reset_index(drop=True)\n",
    "    \n",
    "    dict_rpos_index0 = dict(zip(pos_selected, snps_0index))\n",
    "    \n",
    "    ## save the pikl relating the index0  with the actual snp id \n",
    "    with open(dict_rpos_index0_file, 'wb') as f:\n",
    "        pickle.dump(dict_rpos_index0, f)  \n",
    "    \n",
    "    p_values_sel = p_values.iloc[snps_0index]['V1']\n",
    "    p_values_sel = p_values_sel.reset_index(drop=True)\n",
    "    # Writing the SNP ID and p-value pairs to a text file\n",
    "    snp_p_values = list(zip(pos_selected, p_values_sel))\n",
    "    with open(output, 'w') as file:\n",
    "        # Write the header\n",
    "        file.write(\"SNP P\\n\")  # Assuming you want headers named 'SNP' and 'P'\n",
    "        for snp_id, p_value in snp_p_values:\n",
    "            file.write(f\"{snp_id} {p_value}\\n\")"
   ]
  },
  {
   "cell_type": "code",
   "execution_count": null,
   "id": "f6cdaa81-73a3-4282-94be-ebd8a3c63dcc",
   "metadata": {},
   "outputs": [],
   "source": []
  },
  {
   "cell_type": "code",
   "execution_count": null,
   "id": "586ce6c4-81be-4434-a7f8-560ffb007285",
   "metadata": {},
   "outputs": [],
   "source": []
  },
  {
   "cell_type": "code",
   "execution_count": null,
   "id": "ff767927-b9b9-4aa6-99f7-51f146898550",
   "metadata": {},
   "outputs": [],
   "source": [
    "plink \n",
    "--bfile grenenet_og \n",
    "--clump /carnegie/nobackup/scratch/tbellagio/gea_grene-net/jacknife_lfmm//split_number_82/input_clumping.txt \n",
    "--clump-p1 0.05 \n",
    "--clump-r2 0.5 \n",
    "--out /carnegie/nobackup/scratch/tbellagio/gea_grene-net/jacknife_lfmm//split_number_82/output_clumping"
   ]
  },
  {
   "cell_type": "code",
   "execution_count": null,
   "id": "f33ad3fe-8e88-4a80-9a2c-9028c06e6d2d",
   "metadata": {},
   "outputs": [],
   "source": []
  },
  {
   "cell_type": "code",
   "execution_count": 69,
   "id": "20ed5074-7691-4ce6-9299-a34efcf44154",
   "metadata": {},
   "outputs": [],
   "source": []
  },
  {
   "cell_type": "code",
   "execution_count": null,
   "id": "f361a6c1-2c89-4dbc-943e-72724ae71356",
   "metadata": {},
   "outputs": [],
   "source": []
  }
 ],
 "metadata": {
  "kernelspec": {
   "display_name": "Python (pipeline_snakemake)",
   "language": "python",
   "name": "pipeline_snakemake"
  },
  "language_info": {
   "codemirror_mode": {
    "name": "ipython",
    "version": 3
   },
   "file_extension": ".py",
   "mimetype": "text/x-python",
   "name": "python",
   "nbconvert_exporter": "python",
   "pygments_lexer": "ipython3",
   "version": "3.9.16"
  }
 },
 "nbformat": 4,
 "nbformat_minor": 5
}
