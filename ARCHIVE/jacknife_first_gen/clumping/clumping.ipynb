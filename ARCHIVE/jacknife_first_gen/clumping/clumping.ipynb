{
 "cells": [
  {
   "cell_type": "code",
   "execution_count": 5,
   "id": "6d58ca88-4662-41f1-893c-e93951319c90",
   "metadata": {},
   "outputs": [],
   "source": [
    "import numpy as np\n",
    "import pandas as pd\n",
    "import os\n",
    "import pickle"
   ]
  },
  {
   "cell_type": "code",
   "execution_count": 6,
   "id": "91ce7139-b1f7-41ad-b650-821b6c95dbcf",
   "metadata": {},
   "outputs": [],
   "source": [
    "## get the vcf file frothe chromosomes and positions \n",
    "import allel\n",
    "## ld pruned vcf file\n",
    "vcf_file = '/carnegie/nobackup/scratch/xwu/grenet/hapFIRE_updatedVCF/greneNet_final_v1.1.recode.vcf'\n",
    "vcf = allel.read_vcf(vcf_file)\n",
    "\n",
    "variants = vcf['calldata/GT']\n",
    "pos = vcf['variants/POS']\n",
    "chrom = vcf['variants/CHROM']"
   ]
  },
  {
   "cell_type": "code",
   "execution_count": 7,
   "id": "4403c4af-a077-4ebe-9424-69353c85b1b0",
   "metadata": {},
   "outputs": [
    {
     "name": "stdout",
     "output_type": "stream",
     "text": [
      "/carnegie/nobackup/scratch/tbellagio/gea_grene-net/jacknife_first_gen/clumping\n"
     ]
    }
   ],
   "source": [
    "!pwd"
   ]
  },
  {
   "cell_type": "code",
   "execution_count": 8,
   "id": "86170645-87f1-49e5-982a-980d847f547d",
   "metadata": {},
   "outputs": [],
   "source": [
    "split_number = 1"
   ]
  },
  {
   "cell_type": "code",
   "execution_count": 9,
   "id": "8fa17838-c2b9-4107-9b4f-0dab8bbcd506",
   "metadata": {},
   "outputs": [],
   "source": [
    "snps_indices_bio1_file = f'/carnegie/nobackup/scratch/tbellagio/gea_grene-net/jacknife_first_gen/split_number_{split_number}/delta_p/snps_indices_bio1.csv'\n",
    "output = f'/carnegie/nobackup/scratch/tbellagio/gea_grene-net/jacknife_first_gen/split_number_{split_number}/delta_p/input_clumping.txt'\n",
    "dict_rpos_index0_file = f'/carnegie/nobackup/scratch/tbellagio/gea_grene-net/jacknife_first_gen/split_number_{split_number}/delta_p/dict_rpos_index0.pkl'\n",
    "p_values_file = f'/carnegie/nobackup/scratch/tbellagio/gea_grene-net/jacknife_first_gen/split_number_{split_number}/delta_p/wo_calibration_pvalue_full_genome.csv'\n",
    "\n",
    "p_values = pd.read_csv(p_values_file)\n",
    "snps_indices_bio1 = pd.read_csv(snps_indices_bio1_file)\n",
    "snps_0index = snps_indices_bio1['x'] - 1 \n",
    "chr_selected = pd.Series(chrom).iloc[snps_0index.to_list()]\n",
    "pos_selected = pd.Series(pos).iloc[snps_0index.to_list()]\n",
    "pos_selected = chr_selected.astype(str) + '_' + pos_selected.astype(str)\n",
    "pos_selected = pos_selected.reset_index(drop=True)\n",
    "\n",
    "dict_rpos_index0 = dict(zip(pos_selected, snps_0index))"
   ]
  },
  {
   "cell_type": "code",
   "execution_count": null,
   "id": "424a3ce3-8177-40d1-ab6c-da3982d51035",
   "metadata": {},
   "outputs": [],
   "source": []
  },
  {
   "cell_type": "code",
   "execution_count": null,
   "id": "dd626198-9b14-4911-8f7d-04ae7e52f9fd",
   "metadata": {},
   "outputs": [],
   "source": [
    "## save the pikl relating the index0  with the actual snp id \n",
    "with open(dict_rpos_index0_file, 'wb') as f:\n",
    "    pickle.dump(dict_rpos_index0, f)  \n",
    "\n",
    "p_values_sel = p_values.iloc[snps_0index]['V1']\n",
    "p_values_sel = p_values_sel.reset_index(drop=True)\n",
    "# Writing the SNP ID and p-value pairs to a text file\n",
    "snp_p_values = list(zip(pos_selected, p_values_sel))\n",
    "with open(output, 'w') as file:\n",
    "    # Write the header\n",
    "    file.write(\"SNP P\\n\")  # Assuming you want headers named 'SNP' and 'P'\n",
    "    for snp_id, p_value in snp_p_values:\n",
    "        file.write(f\"{snp_id} {p_value}\\n\")"
   ]
  },
  {
   "cell_type": "code",
   "execution_count": null,
   "id": "ad84e8a6-489c-4a88-9121-8774723f622b",
   "metadata": {},
   "outputs": [],
   "source": []
  },
  {
   "cell_type": "code",
   "execution_count": null,
   "id": "875bb138-e0d6-4ba7-bc9d-416e07cdf3d4",
   "metadata": {},
   "outputs": [],
   "source": [
    "    snps_indices_bio1_file = f'/carnegie/nobackup/scratch/tbellagio/gea_grene-net/jacknife_first_gen/split_number_{split_number}/delta_p/snps_indices_bio1.csv'\n",
    "    output = f'/carnegie/nobackup/scratch/tbellagio/gea_grene-net/jacknife_first_gen/split_number_{split_number}/delta_p/input_clumping.txt'\n",
    "    dict_rpos_index0_file = f'/carnegie/nobackup/scratch/tbellagio/gea_grene-net/jacknife_first_gen/split_number_{split_number}/delta_p/dict_rpos_index0.pkl'\n",
    "    p_values_file = f'/carnegie/nobackup/scratch/tbellagio/gea_grene-net/jacknife_first_gen/split_number_{split_number}/delta_p/wo_calibration_pvalue_full_genome.csv'\n",
    "    "
   ]
  },
  {
   "cell_type": "code",
   "execution_count": null,
   "id": "d45eeb7c-d0ab-4b89-9641-78b33afae88b",
   "metadata": {},
   "outputs": [],
   "source": []
  },
  {
   "cell_type": "code",
   "execution_count": null,
   "id": "aea0b086-282c-4d11-b47f-defa5a740dd6",
   "metadata": {},
   "outputs": [],
   "source": []
  },
  {
   "cell_type": "code",
   "execution_count": null,
   "id": "639a11ba-50f8-491d-a878-7ab6b914fc6f",
   "metadata": {},
   "outputs": [],
   "source": [
    "pvalues_bio1_wid.to_csv(f'/carnegie/nobackup/scratch/tbellagio/gea_grene-net/jacknife_first_gen/split_number_{split_number}/delta_p/bio1_pvalues_wid.csv',index=None)"
   ]
  },
  {
   "cell_type": "code",
   "execution_count": null,
   "id": "38b0d78e-1a97-46c4-a43a-08865847ef91",
   "metadata": {},
   "outputs": [],
   "source": []
  },
  {
   "cell_type": "code",
   "execution_count": null,
   "id": "ee2ce209-7593-4c59-9953-0724f798c22f",
   "metadata": {},
   "outputs": [],
   "source": []
  },
  {
   "cell_type": "code",
   "execution_count": 12,
   "id": "a8d95d17-1b4b-4ce7-9658-42ab612b624d",
   "metadata": {},
   "outputs": [
    {
     "data": {
      "text/html": [
       "<div>\n",
       "<style scoped>\n",
       "    .dataframe tbody tr th:only-of-type {\n",
       "        vertical-align: middle;\n",
       "    }\n",
       "\n",
       "    .dataframe tbody tr th {\n",
       "        vertical-align: top;\n",
       "    }\n",
       "\n",
       "    .dataframe thead th {\n",
       "        text-align: right;\n",
       "    }\n",
       "</style>\n",
       "<table border=\"1\" class=\"dataframe\">\n",
       "  <thead>\n",
       "    <tr style=\"text-align: right;\">\n",
       "      <th></th>\n",
       "      <th>SNP P</th>\n",
       "    </tr>\n",
       "  </thead>\n",
       "  <tbody>\n",
       "    <tr>\n",
       "      <th>0</th>\n",
       "      <td>1_291 0.626894480217552</td>\n",
       "    </tr>\n",
       "    <tr>\n",
       "      <th>1</th>\n",
       "      <td>1_346 0.730657587009429</td>\n",
       "    </tr>\n",
       "    <tr>\n",
       "      <th>2</th>\n",
       "      <td>1_349 0.274181804042067</td>\n",
       "    </tr>\n",
       "    <tr>\n",
       "      <th>3</th>\n",
       "      <td>1_352 0.732078968721472</td>\n",
       "    </tr>\n",
       "    <tr>\n",
       "      <th>4</th>\n",
       "      <td>1_353 0.530100843267732</td>\n",
       "    </tr>\n",
       "    <tr>\n",
       "      <th>...</th>\n",
       "      <td>...</td>\n",
       "    </tr>\n",
       "    <tr>\n",
       "      <th>3235475</th>\n",
       "      <td>5_26975208 0.713038251070949</td>\n",
       "    </tr>\n",
       "    <tr>\n",
       "      <th>3235476</th>\n",
       "      <td>5_26975215 0.190539178996286</td>\n",
       "    </tr>\n",
       "    <tr>\n",
       "      <th>3235477</th>\n",
       "      <td>5_26975267 0.139981094061898</td>\n",
       "    </tr>\n",
       "    <tr>\n",
       "      <th>3235478</th>\n",
       "      <td>5_26975272 0.353524869056546</td>\n",
       "    </tr>\n",
       "    <tr>\n",
       "      <th>3235479</th>\n",
       "      <td>5_26975288 0.000679970163372</td>\n",
       "    </tr>\n",
       "  </tbody>\n",
       "</table>\n",
       "<p>3235480 rows × 1 columns</p>\n",
       "</div>"
      ],
      "text/plain": [
       "                                SNP P\n",
       "0             1_291 0.626894480217552\n",
       "1             1_346 0.730657587009429\n",
       "2             1_349 0.274181804042067\n",
       "3             1_352 0.732078968721472\n",
       "4             1_353 0.530100843267732\n",
       "...                               ...\n",
       "3235475  5_26975208 0.713038251070949\n",
       "3235476  5_26975215 0.190539178996286\n",
       "3235477  5_26975267 0.139981094061898\n",
       "3235478  5_26975272 0.353524869056546\n",
       "3235479  5_26975288 0.000679970163372\n",
       "\n",
       "[3235480 rows x 1 columns]"
      ]
     },
     "execution_count": 12,
     "metadata": {},
     "output_type": "execute_result"
    }
   ],
   "source": [
    "pd.read_csv(f'/carnegie/nobackup/scratch/tbellagio/gea_grene-net/jacknife_first_gen/split_number_{10}/delta_p/input_clumping.txt')\n"
   ]
  },
  {
   "cell_type": "code",
   "execution_count": 10,
   "id": "4054f98c-55f1-42c2-9b15-46c48b90bd2b",
   "metadata": {},
   "outputs": [
    {
     "data": {
      "text/html": [
       "<div>\n",
       "<style scoped>\n",
       "    .dataframe tbody tr th:only-of-type {\n",
       "        vertical-align: middle;\n",
       "    }\n",
       "\n",
       "    .dataframe tbody tr th {\n",
       "        vertical-align: top;\n",
       "    }\n",
       "\n",
       "    .dataframe thead th {\n",
       "        text-align: right;\n",
       "    }\n",
       "</style>\n",
       "<table border=\"1\" class=\"dataframe\">\n",
       "  <thead>\n",
       "    <tr style=\"text-align: right;\">\n",
       "      <th></th>\n",
       "      <th>SNP P</th>\n",
       "    </tr>\n",
       "  </thead>\n",
       "  <tbody>\n",
       "    <tr>\n",
       "      <th>0</th>\n",
       "      <td>1_191293 1.40452607213018e-08</td>\n",
       "    </tr>\n",
       "    <tr>\n",
       "      <th>1</th>\n",
       "      <td>1_192639 1.40452607213018e-08</td>\n",
       "    </tr>\n",
       "    <tr>\n",
       "      <th>2</th>\n",
       "      <td>1_198466 1.40452607213018e-08</td>\n",
       "    </tr>\n",
       "    <tr>\n",
       "      <th>3</th>\n",
       "      <td>1_198885 1.40452607213018e-08</td>\n",
       "    </tr>\n",
       "    <tr>\n",
       "      <th>4</th>\n",
       "      <td>1_201652 1.40452607213018e-08</td>\n",
       "    </tr>\n",
       "    <tr>\n",
       "      <th>...</th>\n",
       "      <td>...</td>\n",
       "    </tr>\n",
       "    <tr>\n",
       "      <th>981</th>\n",
       "      <td>5_23310173 2.5718154655348e-09</td>\n",
       "    </tr>\n",
       "    <tr>\n",
       "      <th>982</th>\n",
       "      <td>5_23310177 2.5718154655348e-09</td>\n",
       "    </tr>\n",
       "    <tr>\n",
       "      <th>983</th>\n",
       "      <td>5_23311732 4.34262776103942e-09</td>\n",
       "    </tr>\n",
       "    <tr>\n",
       "      <th>984</th>\n",
       "      <td>5_23311735 8.99309408118442e-09</td>\n",
       "    </tr>\n",
       "    <tr>\n",
       "      <th>985</th>\n",
       "      <td>5_26248873 2.47623488146217e-09</td>\n",
       "    </tr>\n",
       "  </tbody>\n",
       "</table>\n",
       "<p>986 rows × 1 columns</p>\n",
       "</div>"
      ],
      "text/plain": [
       "                               SNP P\n",
       "0      1_191293 1.40452607213018e-08\n",
       "1      1_192639 1.40452607213018e-08\n",
       "2      1_198466 1.40452607213018e-08\n",
       "3      1_198885 1.40452607213018e-08\n",
       "4      1_201652 1.40452607213018e-08\n",
       "..                               ...\n",
       "981   5_23310173 2.5718154655348e-09\n",
       "982   5_23310177 2.5718154655348e-09\n",
       "983  5_23311732 4.34262776103942e-09\n",
       "984  5_23311735 8.99309408118442e-09\n",
       "985  5_26248873 2.47623488146217e-09\n",
       "\n",
       "[986 rows x 1 columns]"
      ]
     },
     "execution_count": 10,
     "metadata": {},
     "output_type": "execute_result"
    }
   ],
   "source": [
    "pd.read_csv(f'/carnegie/nobackup/scratch/tbellagio/gea_grene-net/jacknife_first_gen/split_number_{split_number}/delta_p/input_clumping.txt')\n"
   ]
  },
  {
   "cell_type": "code",
   "execution_count": null,
   "id": "cb23f041-2352-463e-8180-82526d8bf93f",
   "metadata": {},
   "outputs": [],
   "source": []
  },
  {
   "cell_type": "code",
   "execution_count": null,
   "id": "5a5f22ac-f5ce-448d-9378-e51bb17dbca0",
   "metadata": {},
   "outputs": [],
   "source": []
  },
  {
   "cell_type": "code",
   "execution_count": null,
   "id": "0429e4f0-9c4c-4f3e-bbef-654bc05d9425",
   "metadata": {},
   "outputs": [],
   "source": [
    "\n",
    "    p_values = pd.read_csv(p_values_file)\n",
    "    snps_indices_bio1 = pd.read_csv(snps_indices_bio1_file)\n",
    "    snps_0index = snps_indices_bio1['x'] - 1 \n",
    "    chr_selected = pd.Series(chrom).iloc[snps_0index.to_list()]\n",
    "    pos_selected = pd.Series(pos).iloc[snps_0index.to_list()]\n",
    "    pos_selected = chr_selected.astype(str) + '_' + pos_selected.astype(str)\n",
    "    pos_selected = pos_selected.reset_index(drop=True)\n",
    "    \n",
    "    dict_rpos_index0 = dict(zip(pos_selected, snps_0index))\n",
    "    \n",
    "    ## save the pikl relating the index0  with the actual snp id \n",
    "    with open(dict_rpos_index0_file, 'wb') as f:\n",
    "        pickle.dump(dict_rpos_index0, f)  \n",
    "    \n",
    "    p_values_sel = p_values.iloc[snps_0index]['V1']\n",
    "    p_values_sel = p_values_sel.reset_index(drop=True)\n",
    "    # Writing the SNP ID and p-value pairs to a text file\n",
    "    snp_p_values = list(zip(pos_selected, p_values_sel))\n",
    "    with open(output, 'w') as file:\n",
    "        # Write the header\n",
    "        file.write(\"SNP P\\n\")  # Assuming you want headers named 'SNP' and 'P'\n",
    "        for snp_id, p_value in snp_p_values:\n",
    "            file.write(f\"{snp_id} {p_value}\\n\")"
   ]
  },
  {
   "cell_type": "code",
   "execution_count": null,
   "id": "2ac7146a-7469-4249-9d9b-c820bacc2d95",
   "metadata": {},
   "outputs": [],
   "source": []
  },
  {
   "cell_type": "code",
   "execution_count": null,
   "id": "f08ad61a-aaee-4065-a8ca-8a09587843ea",
   "metadata": {},
   "outputs": [],
   "source": []
  },
  {
   "cell_type": "code",
   "execution_count": null,
   "id": "f470a369-37c6-4b3c-a20f-28f295748697",
   "metadata": {},
   "outputs": [],
   "source": []
  },
  {
   "cell_type": "code",
   "execution_count": 6,
   "id": "d8c042df-9560-40c2-980c-63b7ece72289",
   "metadata": {},
   "outputs": [],
   "source": [
    "for split_number in range(31):\n",
    "    snps_indices_bio1_file = f'/carnegie/nobackup/scratch/tbellagio/gea_grene-net/jacknife_first_gen/split_number_{split_number}/delta_p/snps_indices_bio1.csv'\n",
    "    output = f'/carnegie/nobackup/scratch/tbellagio/gea_grene-net/jacknife_first_gen/split_number_{split_number}/delta_p/input_clumping.txt'\n",
    "    dict_rpos_index0_file = f'/carnegie/nobackup/scratch/tbellagio/gea_grene-net/jacknife_first_gen/split_number_{split_number}/delta_p/dict_rpos_index0.pkl'\n",
    "    p_values_file = f'/carnegie/nobackup/scratch/tbellagio/gea_grene-net/jacknife_first_gen/split_number_{split_number}/delta_p/wo_calibration_pvalue_full_genome.csv'\n",
    "    \n",
    "    p_values = pd.read_csv(p_values_file)\n",
    "    snps_indices_bio1 = pd.read_csv(snps_indices_bio1_file)\n",
    "    snps_0index = snps_indices_bio1['x'] - 1 \n",
    "    chr_selected = pd.Series(chrom).iloc[snps_0index.to_list()]\n",
    "    pos_selected = pd.Series(pos).iloc[snps_0index.to_list()]\n",
    "    pos_selected = chr_selected.astype(str) + '_' + pos_selected.astype(str)\n",
    "    pos_selected = pos_selected.reset_index(drop=True)\n",
    "    \n",
    "    dict_rpos_index0 = dict(zip(pos_selected, snps_0index))\n",
    "    \n",
    "    ## save the pikl relating the index0  with the actual snp id \n",
    "    with open(dict_rpos_index0_file, 'wb') as f:\n",
    "        pickle.dump(dict_rpos_index0, f)  \n",
    "    \n",
    "    p_values_sel = p_values.iloc[snps_0index]['V1']\n",
    "    p_values_sel = p_values_sel.reset_index(drop=True)\n",
    "    # Writing the SNP ID and p-value pairs to a text file\n",
    "    snp_p_values = list(zip(pos_selected, p_values_sel))\n",
    "    with open(output, 'w') as file:\n",
    "        # Write the header\n",
    "        file.write(\"SNP P\\n\")  # Assuming you want headers named 'SNP' and 'P'\n",
    "        for snp_id, p_value in snp_p_values:\n",
    "            file.write(f\"{snp_id} {p_value}\\n\")"
   ]
  },
  {
   "cell_type": "code",
   "execution_count": null,
   "id": "f6cdaa81-73a3-4282-94be-ebd8a3c63dcc",
   "metadata": {},
   "outputs": [],
   "source": []
  },
  {
   "cell_type": "code",
   "execution_count": null,
   "id": "586ce6c4-81be-4434-a7f8-560ffb007285",
   "metadata": {},
   "outputs": [],
   "source": []
  },
  {
   "cell_type": "code",
   "execution_count": null,
   "id": "ff767927-b9b9-4aa6-99f7-51f146898550",
   "metadata": {},
   "outputs": [],
   "source": [
    "plink \n",
    "--bfile grenenet_og \n",
    "--clump /carnegie/nobackup/scratch/tbellagio/gea_grene-net/jacknife_first_gen/split_number_82/input_clumping.txt \n",
    "--clump-p1 0.05 \n",
    "--clump-r2 0.5 \n",
    "--out /carnegie/nobackup/scratch/tbellagio/gea_grene-net/jacknife_first_gen/split_number_82/output_clumping"
   ]
  },
  {
   "cell_type": "code",
   "execution_count": null,
   "id": "f33ad3fe-8e88-4a80-9a2c-9028c06e6d2d",
   "metadata": {},
   "outputs": [],
   "source": [
    "plink \\\n",
    "    --bfile /carnegie/nobackup/scratch/tbellagio/gea_grene-net/jacknife_first_gen/clumping/grenenet_og \\\n",
    "    --clump /carnegie/nobackup/scratch/tbellagio/gea_grene-net/jacknife_first_gen/split_number_10/delta_p/input_clumping.txt \\\n",
    "    --clump-p1 1.5453657571674064e-08 \\\n",
    "    --clump-r2 0.2 \\\n",
    "    --clump-kb 50 \\\n",
    "    --out /carnegie/nobackup/scratch/tbellagio/gea_grene-net/jacknife_first_gen/split_number_10/output_clumping"
   ]
  },
  {
   "cell_type": "code",
   "execution_count": 69,
   "id": "20ed5074-7691-4ce6-9299-a34efcf44154",
   "metadata": {},
   "outputs": [],
   "source": []
  },
  {
   "cell_type": "code",
   "execution_count": null,
   "id": "f361a6c1-2c89-4dbc-943e-72724ae71356",
   "metadata": {},
   "outputs": [],
   "source": []
  }
 ],
 "metadata": {
  "kernelspec": {
   "display_name": "Python (pipeline_snakemake)",
   "language": "python",
   "name": "pipeline_snakemake"
  },
  "language_info": {
   "codemirror_mode": {
    "name": "ipython",
    "version": 3
   },
   "file_extension": ".py",
   "mimetype": "text/x-python",
   "name": "python",
   "nbconvert_exporter": "python",
   "pygments_lexer": "ipython3",
   "version": "3.9.16"
  }
 },
 "nbformat": 4,
 "nbformat_minor": 5
}
