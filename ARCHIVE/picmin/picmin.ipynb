{
 "cells": [
  {
   "cell_type": "code",
   "execution_count": null,
   "id": "3d2502c4-05d2-40ce-b6ab-b9b0d5a299df",
   "metadata": {},
   "outputs": [],
   "source": [
    ".libPaths(\"/home/tbellagio/miniforge3/envs/r-environment\")\n",
    "\n",
    "packageVersion(\"fastmap\")\n",
    "\n",
    "library(devtools) # Needed to install the PicMin package from Tom's GitHub install_github(\"TBooker/PicMin\", force = T)\n",
    "\n",
    ".libPaths(\"/home/tbellagio/miniforge3/envs/r-environment/lib/R/library\")\n",
    "\n",
    "library(PicMin)\n",
    "library(tidyverse)\n",
    "library(poolr)"
   ]
  },
  {
   "cell_type": "code",
   "execution_count": null,
   "id": "2beef2ae-974c-42b1-9752-559f81516673",
   "metadata": {},
   "outputs": [],
   "source": [
    "snp_names <- read.csv(\"../key_files/var_pos_grenenet.csv\", header = TRUE, sep = \",\")"
   ]
  },
  {
   "cell_type": "code",
   "execution_count": null,
   "id": "c1b55311-90b8-4a1a-bd69-a8d4ddbf1524",
   "metadata": {},
   "outputs": [],
   "source": [
    "snp_names <- snp_names[snp_names$total_alleles05filter != \"\", ]"
   ]
  },
  {
   "cell_type": "code",
   "execution_count": null,
   "id": "68156b13-0331-4845-bd02-f2a78f56e55e",
   "metadata": {},
   "outputs": [],
   "source": [
    "lfmm_bio1 <- read.csv(\"lfmm/lfmm_bio1_kk20_results.csv\", header = TRUE, sep = \",\")"
   ]
  },
  {
   "cell_type": "code",
   "execution_count": null,
   "id": "5521a8d8-ae03-4d34-8ad7-6c6456b8f5c3",
   "metadata": {},
   "outputs": [],
   "source": [
    "lfmm_bio1 <- data.frame(name = snp_names$id, lfmm = lfmm_bio1$p_value)"
   ]
  },
  {
   "cell_type": "code",
   "execution_count": null,
   "id": "80681826-5e6a-49ac-9d72-bcf63c39eeb8",
   "metadata": {},
   "outputs": [],
   "source": [
    "lmm_bio1 <- read.csv(\"lmm/results_lmm_bio1.csv\", header = TRUE, sep = \",\")"
   ]
  },
  {
   "cell_type": "code",
   "execution_count": null,
   "id": "9f91dcac-c10c-486b-9d3a-c51a3a2b4a9c",
   "metadata": {},
   "outputs": [],
   "source": [
    "lmm_bio1 <- data.frame(name = snp_names$id, lmm = lmm_bio1$beta_p)"
   ]
  },
  {
   "cell_type": "code",
   "execution_count": null,
   "id": "f61051fb-bafc-4245-a6cc-99a35ece522d",
   "metadata": {},
   "outputs": [],
   "source": [
    "kendall_bio1 <- read.csv(\"kendall_tau/kendall_corr_bio1.csv\", header = TRUE, sep = \",\")"
   ]
  },
  {
   "cell_type": "code",
   "execution_count": null,
   "id": "c1265b56-d963-44ff-8e74-31f5f028d2bf",
   "metadata": {},
   "outputs": [],
   "source": [
    "kendall_bio1 <- data.frame(name = snp_names$id, kendall = kendall_bio1$K_tau_p)"
   ]
  },
  {
   "cell_type": "code",
   "execution_count": 14,
   "id": "a2000ec1-de75-4f09-86c3-38425bb832bc",
   "metadata": {},
   "outputs": [],
   "source": [
    "#put all data frames into list \n",
    "df_list <- list(lfmm_bio1,\n",
    "                lmm_bio1, \n",
    "               kendall_bio1)"
   ]
  },
  {
   "cell_type": "code",
   "execution_count": 15,
   "id": "091d691a-d56f-4898-9296-2c99b94299df",
   "metadata": {},
   "outputs": [],
   "source": [
    "#merge all data frames in list - use the 'window' variable to merge \n",
    "all_lins <- df_list %>% reduce(full_join, by='name')"
   ]
  },
  {
   "cell_type": "code",
   "execution_count": 16,
   "id": "85bd39de-7f4f-4138-8900-0704d4228d9f",
   "metadata": {},
   "outputs": [],
   "source": [
    "# remove the column named \"window\"\n",
    "all_lins_p <- all_lins[ , !(names(all_lins) %in% c(\"name\"))]"
   ]
  },
  {
   "cell_type": "code",
   "execution_count": 17,
   "id": "399cd678-ace3-4131-a3db-2175ca80d84a",
   "metadata": {},
   "outputs": [],
   "source": [
    "# Use the \"window\" column as row.names \n",
    "rownames(all_lins_p) <- all_lins$name"
   ]
  },
  {
   "cell_type": "code",
   "execution_count": 19,
   "id": "385d529c-b7ff-41e7-aea4-948cb08b7ded",
   "metadata": {},
   "outputs": [
    {
     "data": {
      "text/html": [
       "<table class=\"dataframe\">\n",
       "<caption>A matrix: 6 × 2 of type dbl</caption>\n",
       "<tbody>\n",
       "\t<tr><td>0.457146787</td><td>0.460278466</td></tr>\n",
       "\t<tr><td>0.191296000</td><td>0.093329543</td></tr>\n",
       "\t<tr><td>0.966655115</td><td>0.898352786</td></tr>\n",
       "\t<tr><td>0.576976818</td><td>0.177125585</td></tr>\n",
       "\t<tr><td>0.003369714</td><td>0.001934435</td></tr>\n",
       "\t<tr><td>0.598130219</td><td>0.419012748</td></tr>\n",
       "</tbody>\n",
       "</table>\n"
      ],
      "text/latex": [
       "A matrix: 6 × 2 of type dbl\n",
       "\\begin{tabular}{ll}\n",
       "\t 0.457146787 & 0.460278466\\\\\n",
       "\t 0.191296000 & 0.093329543\\\\\n",
       "\t 0.966655115 & 0.898352786\\\\\n",
       "\t 0.576976818 & 0.177125585\\\\\n",
       "\t 0.003369714 & 0.001934435\\\\\n",
       "\t 0.598130219 & 0.419012748\\\\\n",
       "\\end{tabular}\n"
      ],
      "text/markdown": [
       "\n",
       "A matrix: 6 × 2 of type dbl\n",
       "\n",
       "| 0.457146787 | 0.460278466 |\n",
       "| 0.191296000 | 0.093329543 |\n",
       "| 0.966655115 | 0.898352786 |\n",
       "| 0.576976818 | 0.177125585 |\n",
       "| 0.003369714 | 0.001934435 |\n",
       "| 0.598130219 | 0.419012748 |\n",
       "\n"
      ],
      "text/plain": [
       "     [,1]        [,2]       \n",
       "[1,] 0.457146787 0.460278466\n",
       "[2,] 0.191296000 0.093329543\n",
       "[3,] 0.966655115 0.898352786\n",
       "[4,] 0.576976818 0.177125585\n",
       "[5,] 0.003369714 0.001934435\n",
       "[6,] 0.598130219 0.419012748"
      ]
     },
     "metadata": {},
     "output_type": "display_data"
    }
   ],
   "source": [
    "nLins = 3\n",
    "n = 3 # corresponds to the number of lineages present (i.e. no missing data)\n",
    "# Run 10,000 replicate simulations of this situation and build the correlation matrix for the order statistics from them\n",
    "emp_p_null_dat <- t(replicate(40000, PicMin:::GenerateNullData(1.0, n, 0.5, 3,\n",
    "10000)))\n",
    "# Calculate the order statistics' p-values for each simulation\n",
    "emp_p_null_dat_unscaled <- t(apply(emp_p_null_dat ,1, PicMin:::orderStatsPValues))\n",
    "# Take a look at the p-values - aren't they nice?# Use those p-values to construct the correlation matrix"
   ]
  },
  {
   "cell_type": "code",
   "execution_count": 20,
   "id": "5e433d52-ba8e-429b-8445-e014a1719602",
   "metadata": {},
   "outputs": [],
   "source": [
    "## becasue The emp_p_null_dat_unscaled is created using the orderStatsPValues() function, which calculates order statistics. \n",
    "# When calculating order statistics, you typically remove the highest value (since it's redundant for analysis). Therefore, for 5 species, this function outputs the 4 smallest p-values (excluding the largest one).\n",
    "## teh nwe cannot run this with 2 sets of pvalues "
   ]
  },
  {
   "cell_type": "code",
   "execution_count": 21,
   "id": "ca085d50-fe56-4985-8165-48efcfe35ccd",
   "metadata": {},
   "outputs": [
    {
     "data": {
      "text/html": [
       "<table class=\"dataframe\">\n",
       "<caption>A matrix: 2 × 2 of type dbl</caption>\n",
       "<tbody>\n",
       "\t<tr><td>1.0000000</td><td>0.5483328</td></tr>\n",
       "\t<tr><td>0.5483328</td><td>1.0000000</td></tr>\n",
       "</tbody>\n",
       "</table>\n"
      ],
      "text/latex": [
       "A matrix: 2 × 2 of type dbl\n",
       "\\begin{tabular}{ll}\n",
       "\t 1.0000000 & 0.5483328\\\\\n",
       "\t 0.5483328 & 1.0000000\\\\\n",
       "\\end{tabular}\n"
      ],
      "text/markdown": [
       "\n",
       "A matrix: 2 × 2 of type dbl\n",
       "\n",
       "| 1.0000000 | 0.5483328 |\n",
       "| 0.5483328 | 1.0000000 |\n",
       "\n"
      ],
      "text/plain": [
       "     [,1]      [,2]     \n",
       "[1,] 1.0000000 0.5483328\n",
       "[2,] 0.5483328 1.0000000"
      ]
     },
     "metadata": {},
     "output_type": "display_data"
    }
   ],
   "source": [
    "null_pMax_cor_unscaled <- cor( emp_p_null_dat_unscaled ) "
   ]
  },
  {
   "cell_type": "code",
   "execution_count": null,
   "id": "c6108bdc-a5f7-49a1-8efa-cf232c4334ba",
   "metadata": {},
   "outputs": [],
   "source": []
  },
  {
   "cell_type": "code",
   "execution_count": 22,
   "id": "b63196f4-8b66-467d-a27f-96573dad1a78",
   "metadata": {},
   "outputs": [],
   "source": [
    "# Select the loci that have data for exactly 7 lineages\n",
    "lins_p_5 <-  as.matrix(all_lins_p[rowSums(is.na(all_lins_p)) == nLins-n,])\n"
   ]
  },
  {
   "cell_type": "code",
   "execution_count": 26,
   "id": "90ee86da-d37d-4663-b2d4-72f8a26f636a",
   "metadata": {},
   "outputs": [],
   "source": []
  },
  {
   "cell_type": "code",
   "execution_count": null,
   "id": "5472814c-b960-4d60-8894-a7db5fc908c4",
   "metadata": {},
   "outputs": [],
   "source": []
  },
  {
   "cell_type": "code",
   "execution_count": null,
   "id": "2a1c03db-aa33-4a11-bc05-2ba09b53d173",
   "metadata": {},
   "outputs": [],
   "source": [
    "# Make some containers for the PicMin results\n",
    "resulting_p <- rep(-1,\n",
    "             nrow(lins_p_5))\n",
    "resulting_n <- rep(-1,\n",
    "             nrow(lins_p_5))\n",
    "numReps = 100000 ## 100x larger than before\n",
    "# For each of the lines in the dataframe, perform PicMin\n",
    "for (i in seq(nrow(lins_p_5)) ){\n",
    "    test_result <- PicMin:::PicMin(na.omit(lins_p_5[i,]),\n",
    "                                   null_pMax_cor_unscaled,                                     \n",
    "                                   numReps = numReps)\n",
    "    # Store the p-value\n",
    "    resulting_p[i] <- test_result$p\n",
    "    resulting_n[i] <- test_result$config_est\n",
    "}\n",
    "\n",
    "lins_p_5_result = data.frame(numLin = n ,\n",
    "                                p = resulting_p,\n",
    "                                q = p.adjust(resulting_p, method = \"fdr\"),\n",
    "                                n_est = resulting_n,\n",
    "                                locus = row.names(lins_p_5) )\n",
    "picMin_results <- cbind( lins_p_5_result,\n",
    "                         read.csv(text=row.names(lins_p_5), \n",
    "                                  header=FALSE, \n",
    "                                  sep = \"_\",\n",
    "                                  col.names=c('redundan','scaffold','start')) )"
   ]
  },
  {
   "cell_type": "code",
   "execution_count": null,
   "id": "e10ea9ce-6de7-49bb-839b-5e08418827ad",
   "metadata": {},
   "outputs": [],
   "source": [
    "write.csv(picMin_results, \"picMin_results_lfmm_lmm_kendalltau_100000rep.csv\", row.names = FALSE)"
   ]
  },
  {
   "cell_type": "code",
   "execution_count": null,
   "id": "43f7f6af-62e5-4627-bfbc-ccada7ebfb8b",
   "metadata": {},
   "outputs": [],
   "source": []
  }
 ],
 "metadata": {
  "kernelspec": {
   "display_name": "R",
   "language": "R",
   "name": "ir"
  },
  "language_info": {
   "codemirror_mode": "r",
   "file_extension": ".r",
   "mimetype": "text/x-r-source",
   "name": "R",
   "pygments_lexer": "r",
   "version": "4.2.3"
  }
 },
 "nbformat": 4,
 "nbformat_minor": 5
}
