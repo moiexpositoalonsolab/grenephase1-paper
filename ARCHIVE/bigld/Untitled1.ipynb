{
 "cells": [
  {
   "cell_type": "code",
   "execution_count": 1,
   "id": "f6999421-2655-4fef-a723-04dff2db1a3b",
   "metadata": {
    "scrolled": true
   },
   "outputs": [],
   "source": [
    "import pandas as pd\n",
    "import numpy as np"
   ]
  },
  {
   "cell_type": "code",
   "execution_count": null,
   "id": "d00444a3-42dd-44c1-8c34-bfa14165a87e",
   "metadata": {},
   "outputs": [],
   "source": []
  },
  {
   "cell_type": "code",
   "execution_count": 2,
   "id": "e426918a-d69c-4e05-94b0-bb58273610c5",
   "metadata": {},
   "outputs": [
    {
     "name": "stderr",
     "output_type": "stream",
     "text": [
      "/home/tbellagio/.local/lib/python3.9/site-packages/scipy/__init__.py:146: UserWarning: A NumPy version >=1.17.3 and <1.25.0 is required for this version of SciPy (detected version 1.26.4\n",
      "  warnings.warn(f\"A NumPy version >={np_minversion} and <{np_maxversion}\"\n"
     ]
    }
   ],
   "source": [
    "## get the vcf file frothe chromosomes and positions \n",
    "import allel\n",
    "## ld pruned vcf file\n",
    "vcf_file = '/carnegie/nobackup/scratch/xwu/grenet/hapFIRE_updatedVCF/greneNet_final_v1.1.recode.vcf'\n",
    "vcf = allel.read_vcf(vcf_file)"
   ]
  },
  {
   "cell_type": "code",
   "execution_count": 4,
   "id": "5cfe4a30-9fa9-4d62-a758-84150b893848",
   "metadata": {},
   "outputs": [],
   "source": [
    "var_pos = pd.DataFrame({'id': vcf['variants/ID'] , 'pos': vcf['variants/POS'], 'chrom': vcf['variants/CHROM']})"
   ]
  },
  {
   "cell_type": "code",
   "execution_count": 5,
   "id": "6dd45d50-c6fd-4346-84a7-7bc62ee244e5",
   "metadata": {},
   "outputs": [
    {
     "data": {
      "text/html": [
       "<div>\n",
       "<style scoped>\n",
       "    .dataframe tbody tr th:only-of-type {\n",
       "        vertical-align: middle;\n",
       "    }\n",
       "\n",
       "    .dataframe tbody tr th {\n",
       "        vertical-align: top;\n",
       "    }\n",
       "\n",
       "    .dataframe thead th {\n",
       "        text-align: right;\n",
       "    }\n",
       "</style>\n",
       "<table border=\"1\" class=\"dataframe\">\n",
       "  <thead>\n",
       "    <tr style=\"text-align: right;\">\n",
       "      <th></th>\n",
       "      <th>id</th>\n",
       "      <th>pos</th>\n",
       "      <th>chrom</th>\n",
       "    </tr>\n",
       "  </thead>\n",
       "  <tbody>\n",
       "    <tr>\n",
       "      <th>0</th>\n",
       "      <td>1_291</td>\n",
       "      <td>291</td>\n",
       "      <td>1</td>\n",
       "    </tr>\n",
       "    <tr>\n",
       "      <th>1</th>\n",
       "      <td>1_346</td>\n",
       "      <td>346</td>\n",
       "      <td>1</td>\n",
       "    </tr>\n",
       "    <tr>\n",
       "      <th>2</th>\n",
       "      <td>1_349</td>\n",
       "      <td>349</td>\n",
       "      <td>1</td>\n",
       "    </tr>\n",
       "    <tr>\n",
       "      <th>3</th>\n",
       "      <td>1_352</td>\n",
       "      <td>352</td>\n",
       "      <td>1</td>\n",
       "    </tr>\n",
       "    <tr>\n",
       "      <th>4</th>\n",
       "      <td>1_353</td>\n",
       "      <td>353</td>\n",
       "      <td>1</td>\n",
       "    </tr>\n",
       "    <tr>\n",
       "      <th>...</th>\n",
       "      <td>...</td>\n",
       "      <td>...</td>\n",
       "      <td>...</td>\n",
       "    </tr>\n",
       "    <tr>\n",
       "      <th>3235475</th>\n",
       "      <td>5_26975208</td>\n",
       "      <td>26975208</td>\n",
       "      <td>5</td>\n",
       "    </tr>\n",
       "    <tr>\n",
       "      <th>3235476</th>\n",
       "      <td>5_26975215</td>\n",
       "      <td>26975215</td>\n",
       "      <td>5</td>\n",
       "    </tr>\n",
       "    <tr>\n",
       "      <th>3235477</th>\n",
       "      <td>5_26975267</td>\n",
       "      <td>26975267</td>\n",
       "      <td>5</td>\n",
       "    </tr>\n",
       "    <tr>\n",
       "      <th>3235478</th>\n",
       "      <td>5_26975272</td>\n",
       "      <td>26975272</td>\n",
       "      <td>5</td>\n",
       "    </tr>\n",
       "    <tr>\n",
       "      <th>3235479</th>\n",
       "      <td>5_26975288</td>\n",
       "      <td>26975288</td>\n",
       "      <td>5</td>\n",
       "    </tr>\n",
       "  </tbody>\n",
       "</table>\n",
       "<p>3235480 rows × 3 columns</p>\n",
       "</div>"
      ],
      "text/plain": [
       "                 id       pos chrom\n",
       "0             1_291       291     1\n",
       "1             1_346       346     1\n",
       "2             1_349       349     1\n",
       "3             1_352       352     1\n",
       "4             1_353       353     1\n",
       "...             ...       ...   ...\n",
       "3235475  5_26975208  26975208     5\n",
       "3235476  5_26975215  26975215     5\n",
       "3235477  5_26975267  26975267     5\n",
       "3235478  5_26975272  26975272     5\n",
       "3235479  5_26975288  26975288     5\n",
       "\n",
       "[3235480 rows x 3 columns]"
      ]
     },
     "execution_count": 5,
     "metadata": {},
     "output_type": "execute_result"
    }
   ],
   "source": [
    "var_pos"
   ]
  },
  {
   "cell_type": "code",
   "execution_count": 6,
   "id": "5934e7cc-d073-4527-8ac6-24ef963e6b73",
   "metadata": {},
   "outputs": [],
   "source": [
    "var_pos.to_csv('../var_pos_grenenet.csv',index=None)"
   ]
  },
  {
   "cell_type": "code",
   "execution_count": 9,
   "id": "2343e840-6b12-4b85-b192-3ed6012c44b8",
   "metadata": {},
   "outputs": [],
   "source": [
    "variants = vcf['calldata/GT']"
   ]
  },
  {
   "cell_type": "code",
   "execution_count": null,
   "id": "7b74ad5a-de7c-46f9-8e1b-784fe7af4db3",
   "metadata": {},
   "outputs": [],
   "source": [
    "genotype_counts = np.sum(variants, axis=2)"
   ]
  },
  {
   "cell_type": "code",
   "execution_count": 12,
   "id": "f606a7b7-f320-4e7c-983f-20bb21481fbb",
   "metadata": {},
   "outputs": [
    {
     "data": {
      "text/plain": [
       "(3235480, 231)"
      ]
     },
     "execution_count": 12,
     "metadata": {},
     "output_type": "execute_result"
    }
   ],
   "source": [
    "genotype_counts.shape"
   ]
  },
  {
   "cell_type": "code",
   "execution_count": 6,
   "id": "a7d6396d-2095-4047-8b8e-d637558705d7",
   "metadata": {},
   "outputs": [
    {
     "data": {
      "text/plain": [
       "dict_keys(['samples', 'calldata/GT', 'variants/ALT', 'variants/CHROM', 'variants/FILTER_PASS', 'variants/ID', 'variants/POS', 'variants/QUAL', 'variants/REF'])"
      ]
     },
     "execution_count": 6,
     "metadata": {},
     "output_type": "execute_result"
    }
   ],
   "source": [
    "vcf.keys()"
   ]
  },
  {
   "cell_type": "code",
   "execution_count": 36,
   "id": "f740b8ee-aaaf-45c4-a17a-40eed3e904c9",
   "metadata": {},
   "outputs": [],
   "source": []
  },
  {
   "cell_type": "code",
   "execution_count": 16,
   "id": "d3a3e9ff-c1e7-4a2b-8609-c56f0961f84b",
   "metadata": {},
   "outputs": [],
   "source": [
    "labels = vcf['variants/CHROM']"
   ]
  },
  {
   "cell_type": "code",
   "execution_count": 17,
   "id": "a2911ef3-0325-4fc2-92d1-b0e3805cf846",
   "metadata": {},
   "outputs": [],
   "source": [
    "# Dictionary to hold the split arrays\n",
    "split_arrays = {}\n",
    "\n",
    "# Populate the dictionary with data arrays split by unique labels\n",
    "for label in np.unique(labels):\n",
    "    split_arrays[label] = genotype_counts[labels == label]\n",
    "\n",
    "# Now `split_arrays` contains each label associated with subarrays of `data`"
   ]
  },
  {
   "cell_type": "code",
   "execution_count": 28,
   "id": "ca139112-6f92-4b41-94c4-3e9c42c60257",
   "metadata": {},
   "outputs": [],
   "source": [
    "chrom1 = split_arrays['1']\n",
    "chrom2 = split_arrays['2']\n",
    "chrom3 = split_arrays['3']\n",
    "chrom4 = split_arrays['4']\n",
    "chrom5 = split_arrays['5']"
   ]
  },
  {
   "cell_type": "code",
   "execution_count": null,
   "id": "0b714fb2-6814-42f9-9d4f-c7bf13574ffa",
   "metadata": {},
   "outputs": [],
   "source": []
  },
  {
   "cell_type": "code",
   "execution_count": 45,
   "id": "abee8050-6e29-436c-b22f-46f24b1044dd",
   "metadata": {},
   "outputs": [],
   "source": [
    "var_pos = pd.DataFrame({'id': vcf['variants/ID'] , 'pos': vcf['variants/POS']})"
   ]
  },
  {
   "cell_type": "code",
   "execution_count": 52,
   "id": "3f1f660a-dd54-4298-b0f2-5f8db5c6387c",
   "metadata": {},
   "outputs": [],
   "source": [
    "def createchr_files(split_arrays, chr_number):\n",
    "    chrom = split_arrays[chr_number]\n",
    "    chrom = pd.DataFrame(chrom)\n",
    "    chr_ids = [i for i in vcf['variants/ID'] if i.startswith(f'{chr_number}_')]\n",
    "    chrom.index = chr_ids\n",
    "    var_pos_chr = var_pos[var_pos['id'].isin(chr_ids)]\n",
    "    chrom.to_csv(f'chr_{chr_number}_geno.csv')\n",
    "    var_pos_chr.to_csv(f'chr_{chr_number}_varpos.csv',index=None)\n",
    "    "
   ]
  },
  {
   "cell_type": "code",
   "execution_count": 53,
   "id": "bc787b4f-4b92-4d9e-b5db-9c9cdacaddbd",
   "metadata": {},
   "outputs": [],
   "source": [
    "createchr_files(split_arrays, '1')"
   ]
  },
  {
   "cell_type": "code",
   "execution_count": 54,
   "id": "d41fede9-4488-4d2c-ac70-6190413f2980",
   "metadata": {},
   "outputs": [],
   "source": [
    "for i in ['1', '2', '3', '4', '5']:\n",
    "    createchr_files(split_arrays, i)"
   ]
  },
  {
   "cell_type": "code",
   "execution_count": 44,
   "id": "736a425c-a2e9-4860-8535-574fe3f35e76",
   "metadata": {},
   "outputs": [],
   "source": [
    "ulimit -s $((10*1024*1024))\n"
   ]
  },
  {
   "cell_type": "code",
   "execution_count": 55,
   "id": "a34811ee-b2da-45cc-91d8-045be7e99e29",
   "metadata": {
    "scrolled": true
   },
   "outputs": [
    {
     "data": {
      "text/plain": [
       "10485760"
      ]
     },
     "execution_count": 55,
     "metadata": {},
     "output_type": "execute_result"
    }
   ],
   "source": [
    "10*1024*1024"
   ]
  },
  {
   "cell_type": "code",
   "execution_count": null,
   "id": "b8ab21e9-96d7-4964-b41f-442937c80505",
   "metadata": {},
   "outputs": [],
   "source": []
  },
  {
   "cell_type": "code",
   "execution_count": null,
   "id": "d1461f37-fe8b-4e68-8072-cf59f10e57e5",
   "metadata": {},
   "outputs": [],
   "source": []
  },
  {
   "cell_type": "code",
   "execution_count": null,
   "id": "198dae05-3358-48ff-bd4d-66b4c1e6cd4d",
   "metadata": {},
   "outputs": [],
   "source": [
    "setwd(\"/carnegie/nobackup/scratch/tbellagio/gea_grene-net/bigld\")\n",
    "\n",
    "library(readr)\n",
    "library(gpart)\n",
    "data_g <- read_csv('chr_1_geno.csv')\n",
    "## trasnform it to set it in the right input shape \n",
    "data_g = t(data_g)\n",
    "\n",
    "#head(data_g)\n",
    "#dim(data_g)\n",
    "\n",
    "# Set the first row as column names\n",
    "colnames(data_g) <- as.character(unlist(data_g[1, ]))\n",
    "\n",
    "# Remove the first row from the dataframe\n",
    "data_g <- data_g[-1, ]\n",
    "\n",
    "\n",
    "SNPinfo_g <- read_csv('chr_1_varpos.csv')\n",
    "dim(SNPinfo_g)\n",
    "\n",
    "\n",
    "res <- BigLD(geno = data_g, SNPinfo = SNPinfo_g, CLQmode = \"density\", CLQcut = 0.6, MAFcut=0.05, hrstType=\"fast\")\n"
   ]
  },
  {
   "cell_type": "code",
   "execution_count": null,
   "id": "7f286b8d-313a-4fcb-a97b-9270df9744e4",
   "metadata": {},
   "outputs": [],
   "source": []
  },
  {
   "cell_type": "code",
   "execution_count": null,
   "id": "4aa81aa2-4e0f-4200-8255-21eae5b718b3",
   "metadata": {},
   "outputs": [],
   "source": []
  },
  {
   "cell_type": "code",
   "execution_count": null,
   "id": "80af4319-ab12-4e7f-b198-3a8776faa38d",
   "metadata": {},
   "outputs": [],
   "source": [
    "data_g <- read_csv('../leave_1_out/genotype_counts_fullgenome231ecotypes.csv')\n",
    "## delete the first column which was actually teh index \n",
    "data_g <- data_g[, -1]\n",
    "## trasnform it to set it in the right input shape \n",
    "data_g = t(data_g)\n",
    "\n",
    "#head(data_g)\n",
    "dim(data_g)\n",
    "\n",
    "\n",
    "SNPinfo_g <- read_csv('../leave_1_out/grenenet_variants_id_pos.csv')\n",
    "dim(SNPinfo_g)\n",
    "\n",
    "##set the columns of the geno matrix to be the variant id \n",
    "colnames(data_g) <- SNPinfo_g$variants_id\n",
    "\n",
    "\n",
    "res <- BigLD(geno = data_g, SNPinfo = SNPinfo_g, CLQmode = \"dens"
   ]
  },
  {
   "cell_type": "code",
   "execution_count": null,
   "id": "e71b3019-8c00-4314-80f2-919111a79723",
   "metadata": {},
   "outputs": [],
   "source": []
  },
  {
   "cell_type": "code",
   "execution_count": null,
   "id": "eadd4d24-7ea0-453f-826a-b4f0c5d6b515",
   "metadata": {},
   "outputs": [],
   "source": []
  },
  {
   "cell_type": "code",
   "execution_count": null,
   "id": "5bb1d7bf-41c9-4729-9e69-610874aac74b",
   "metadata": {},
   "outputs": [],
   "source": [
    "def CompleteLDPartition(standardized_genotype_matrix,cutoff,window_size):\n",
    "\t\n",
    "\t#define variables\n",
    "\tn_inds,n_snps = standardized_genotype_matrix.shape\n",
    "\tsnp_list = {}\n",
    "\tcummax_list = []\n",
    "\tmax_list = []\n",
    "\tboundary = []\n",
    "\n",
    "\talone_SNPs_index = []\n",
    "\tfor i in range(n_snps):\n",
    "\t\tsnp_list[i] = find_ld(i,snps=standardized_genotype_matrix,cutoff=0.1,window_size=50)\n",
    "\t\tif len(snp_list[i]) == 1:\n",
    "\t\t\talone_SNPs_index.append(i)\n",
    "\tif len(alone_SNPs_index) > 0:\n",
    "\t\tprint(\"QUALITY CHECK: identify %d snps that are not in LD (r2 < %f) with its 50 up/downstream neighbours. You may consider remove these SNPs\" %(len(alone_SNPs_index),0.1))\n",
    "\n",
    "\tprint(\"window_size is %d, and the correlation cutoff is %f\" %(window_size, cutoff))\n",
    "\tfor i in range(n_snps):\n",
    "\t\tsnp_list[i] = find_ld(i,snps=standardized_genotype_matrix,cutoff=cutoff,window_size=window_size)\n",
    "\n",
    "\tfor i in range(len(snp_list)):\n",
    "\t\tif len(snp_list[i]) > 0:\n",
    "\t\t\tmax_list.append(np.max(snp_list[i]))\n",
    "\t\telse:\n",
    "\t\t\tmax_list.append(i)\n",
    "\t\n",
    "\tcummax_list.append(max_list[0])\n",
    "\tfor i in range(1,len(max_list)):\n",
    "\t\tif max_list[i] > cummax_list[i-1]:\n",
    "\t\t\tcummax_list.append(max_list[i])\n",
    "\t\telse:\n",
    "\t\t\tcummax_list.append(cummax_list[i-1])\n",
    "\n",
    "\tidx = np.where( cummax_list - np.array(range(n_snps)) == 0)\n",
    "\tidx = idx[0]\n",
    "\n",
    "\tboundary_ = np.concatenate(([-1],np.array(idx)))\n",
    "\tfor i in range(len(boundary_)-1):\n",
    "\t\tleft = boundary_[i]+1\n",
    "\t\tright = boundary_[i+1]\n",
    "\t\tif right - left > 0:\n",
    "\t\t\tboundary.append([left,right])\n",
    "\t\telse:\n",
    "\t\t\tboundary.append([left])\n",
    "\n",
    "\tj = 0\n",
    "\n",
    "\twhile j < len(boundary):\n",
    "\t\tif len(boundary[j]) == 1:\n",
    "\t\t\tif j ==0:\n",
    "\t\t\t\tboundary[j+1][0] = boundary[j][0]\n",
    "\t\t\t\tdel boundary[j]\n",
    "\t\t\telse:\n",
    "\t\t\t\tboundary[j-1][1] = boundary[j][0]\n",
    "\t\t\t\tdel boundary[j]\n",
    "\t\telse:\n",
    "\t\t\tj += 1\n",
    "\n",
    "\treturn(boundary,alone_SNPs_index)"
   ]
  },
  {
   "cell_type": "code",
   "execution_count": null,
   "id": "fb341e71-514b-4f83-b152-b4bb4ebc008a",
   "metadata": {},
   "outputs": [],
   "source": [
    "with open(args.output+\"_fine_genomewide_partition.txt\", \"w\") as GW_BREAKPOITS:\n",
    "    for ch in chromosome:\n",
    "        common_fine_breakpoints = bp.BigLD_partition(DIR,IndepLD_common_breakpoints_index[ch],common_geno_matrix[ch],common_variant_names[ch],common_variant_positions[ch],args.CLQcut,args.output)\n",
    "        gw_fine_breakpoints[ch] = uf.convert_fine_genomewide_breakpoints(common_fine_breakpoints,common_allele_index[ch],len(variant_names[ch]),gw_independent_breakpoints[ch])\n",
    "        for i in range(len(gw_fine_breakpoints[ch])):\n",
    "            GW_BREAKPOITS.write(str(ch+\"\\t\"+'\\t'.join(map(str, gw_fine_breakpoints[ch][i]))+\"\\n\"))\t"
   ]
  },
  {
   "cell_type": "code",
   "execution_count": null,
   "id": "ce84201d-bf8a-48dc-8a31-ee786a6ee450",
   "metadata": {},
   "outputs": [],
   "source": [
    "def BigLD_partition(DIR,IndepLD_breakpoints_index,geno_matrix,variant_names,variant_positions,CLQcut,prefix):\n",
    "\tfine_breakpoints_ch = []\n",
    "\n",
    "\t#generate geno and SNPinfo for BigLD\n",
    "\tfor I in range(len(IndepLD_breakpoints_index)):\n",
    "\t\tleft = IndepLD_breakpoints_index[I][0]\n",
    "\t\tright = IndepLD_breakpoints_index[I][1]\n",
    "\t\ttmp_names = variant_names[left:right+1]\n",
    "\t\ttmp_positions = variant_positions[left:right+1]\n",
    "\t\ttmp_matrix = pd.DataFrame(geno_matrix[:,left:right+1],columns= tmp_names)\n",
    "\t\ttmp_matrix.to_csv(prefix+\"_\"+str(I)+\"_geno_matrix\"+\".btmp\",sep=\"\\t\",header=True,index=False)\n",
    "\t\tINFO = open(prefix+\"_\"+str(I)+\"_snpINFO\"+\".btmp\",\"w\")\n",
    "\t\tINFO.write(\"chrN\\trsID\\tbp\\n\")\n",
    "\t\tfor j in range(len(tmp_positions)):\n",
    "\t\t\tINFO.write(str(1)+\"\\t\"+str(tmp_names[j])+\"\\t\"+str(tmp_positions[j])+\"\\n\")\n",
    "\t\tINFO.close()\n",
    "\n",
    "\t\tBigLD_command = \"Rscript \"+DIR+\"/BigLD.R -g \"+prefix+\"_\"+str(I)+\"_geno_matrix\"+\".btmp\"+ \" -s \"+prefix+\"_\"+str(I)+\"_snpINFO\"+\".btmp\" + \" -c \" + str(CLQcut) + \" -o \" + prefix+\"_\"+str(I)\n",
    "\t\ttry:\n",
    "\t\t\tblocks = []\n",
    "\t\t\tsubprocess.check_call(BigLD_command,shell=True)\n",
    "\t\t\ttmp_file = prefix+\"_\"+str(I)+\"_res_btmp.txt\"\n",
    "\t\t\twith open(tmp_file,\"r\") as INPUT:\n",
    "\t\t\t\theader = INPUT.readline()\n",
    "\t\t\t\tfor line in INPUT:\n",
    "\t\t\t\t\titems = line.split(\"\\t\")\n",
    "\t\t\t\t\tblocks.append([variant_positions.index(int(items[5])),variant_positions.index(int(items[6]))])\n",
    "\t\t\tblocks[-1][1] = right\n",
    "\n",
    "\t\t\tfine_breakpoints_ch.extend(blocks)\n",
    "\n",
    "\t\texcept subprocess.CalledProcessError as e:\n",
    "\t\t\tprint(\"BigLD cannot further partition blocks in this region %i - %i\" %(left,right))\n",
    "\t\t\tfine_breakpoints_ch.append(IndepLD_breakpoints_index[I])\n",
    "\t\trm_command = \"rm \"+prefix+\"_\"+str(I)+\"_*btmp*\"\n",
    "\t\tsubprocess.check_call(rm_command,shell = True)\n",
    "\n",
    "\treturn(fine_breakpoints_ch)"
   ]
  },
  {
   "cell_type": "code",
   "execution_count": null,
   "id": "ca208cc0-4167-46b4-b99b-f3d05d3ef8d1",
   "metadata": {},
   "outputs": [],
   "source": []
  }
 ],
 "metadata": {
  "kernelspec": {
   "display_name": "Python (pipeline_snakemake)",
   "language": "python",
   "name": "pipeline_snakemake"
  },
  "language_info": {
   "codemirror_mode": {
    "name": "ipython",
    "version": 3
   },
   "file_extension": ".py",
   "mimetype": "text/x-python",
   "name": "python",
   "nbconvert_exporter": "python",
   "pygments_lexer": "ipython3",
   "version": "3.9.16"
  }
 },
 "nbformat": 4,
 "nbformat_minor": 5
}
