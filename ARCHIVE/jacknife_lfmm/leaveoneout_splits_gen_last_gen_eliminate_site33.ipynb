{
 "cells": [
  {
   "cell_type": "code",
   "execution_count": null,
   "id": "7557cacd-f306-49be-ab01-b4a984c26054",
   "metadata": {},
   "outputs": [],
   "source": [
    "## teh frist one is going to be a leave one out approach for the sites vb"
   ]
  },
  {
   "cell_type": "code",
   "execution_count": 1,
   "id": "ccc065ed-f19c-4812-8127-a61fa4a45909",
   "metadata": {
    "scrolled": true
   },
   "outputs": [],
   "source": [
    "import numpy as np\n",
    "import pandas as pd\n",
    "from sklearn.decomposition import PCA\n",
    "from sklearn.preprocessing import StandardScaler\n",
    "import os\n",
    "import pickle\n",
    "from sklearn.model_selection import train_test_split"
   ]
  },
  {
   "cell_type": "code",
   "execution_count": 2,
   "id": "6d205aa8-a96a-4839-b867-af6218ae12c3",
   "metadata": {},
   "outputs": [],
   "source": [
    "## for the final generation we have 31 unique sites\n",
    "# 31*0.8 is 24.8\n",
    "## so i am going to be using 25 for trianing and  6 for testing "
   ]
  },
  {
   "cell_type": "code",
   "execution_count": 35,
   "id": "b6727c32-1853-4b56-8f9f-9097ec678aae",
   "metadata": {},
   "outputs": [],
   "source": [
    "last_gen_samples = pd.read_csv('../key_files/final_gen.csv')['sample_name']\n",
    "## eliminate site 33 \n",
    "last_gen_samples = last_gen_samples[~last_gen_samples.str.startswith('33_')]"
   ]
  },
  {
   "cell_type": "code",
   "execution_count": 54,
   "id": "e99068a3-da9c-4f2e-9be5-a52747154281",
   "metadata": {},
   "outputs": [
    {
     "data": {
      "text/plain": [
       "348"
      ]
     },
     "execution_count": 54,
     "metadata": {},
     "output_type": "execute_result"
    }
   ],
   "source": [
    "len(last_gen_samples)"
   ]
  },
  {
   "cell_type": "code",
   "execution_count": 36,
   "id": "e53ec5d2-9b9f-41d4-a128-2123e47f6b74",
   "metadata": {},
   "outputs": [],
   "source": [
    "last_gen_samples = last_gen_samples.reset_index()"
   ]
  },
  {
   "cell_type": "code",
   "execution_count": 37,
   "id": "d5fb4731-f4b3-4a89-aca5-03bbf76b55a5",
   "metadata": {},
   "outputs": [],
   "source": [
    "#last_gen_samples = last_gen.to_list()"
   ]
  },
  {
   "cell_type": "code",
   "execution_count": 38,
   "id": "9799155c-f4f3-4477-8d9c-93ad4933f812",
   "metadata": {},
   "outputs": [],
   "source": [
    "last_gen_samples['site'] = last_gen_samples['sample_name'].str.split('_').str[0]"
   ]
  },
  {
   "cell_type": "code",
   "execution_count": 39,
   "id": "5b6b86ef-cc36-469f-b5e0-a96ac6b780e6",
   "metadata": {},
   "outputs": [],
   "source": [
    "unique_sites_last_gen = last_gen_samples['site'].unique()"
   ]
  },
  {
   "cell_type": "code",
   "execution_count": 40,
   "id": "b9e8dd9f-e20c-4b31-8576-7cc73e7e1d2d",
   "metadata": {},
   "outputs": [
    {
     "data": {
      "text/plain": [
       "30"
      ]
     },
     "execution_count": 40,
     "metadata": {},
     "output_type": "execute_result"
    }
   ],
   "source": [
    "len(unique_sites_last_gen)"
   ]
  },
  {
   "cell_type": "code",
   "execution_count": 41,
   "id": "0a1a388a-a0c5-48f1-9da6-fea0419aadee",
   "metadata": {},
   "outputs": [],
   "source": [
    "from sklearn.model_selection import LeaveOneOut\n",
    "\n",
    "# Initialize LeaveOneOut\n",
    "loo = LeaveOneOut()\n",
    "\n",
    "# List to hold the splits\n",
    "splits = []\n",
    "\n",
    "# Generate splits\n",
    "for train_index, test_index in loo.split(unique_sites_last_gen):\n",
    "    train, test = unique_sites_last_gen[train_index], unique_sites_last_gen[test_index]\n",
    "    splits.append((train, test))\n",
    "\n",
    "# This will create exactly 31 splits, each leaving one sample out for testing\n"
   ]
  },
  {
   "cell_type": "code",
   "execution_count": 50,
   "id": "ba10da38-5087-4929-99ab-a0fada736882",
   "metadata": {},
   "outputs": [
    {
     "data": {
      "text/plain": [
       "array(['60'], dtype=object)"
      ]
     },
     "execution_count": 50,
     "metadata": {},
     "output_type": "execute_result"
    }
   ],
   "source": [
    "test_indices"
   ]
  },
  {
   "cell_type": "code",
   "execution_count": 49,
   "id": "8161c0ee-1270-4315-b643-6961aad1e968",
   "metadata": {},
   "outputs": [
    {
     "data": {
      "text/plain": [
       "array(['1', '2', '4', '5', '6', '9', '10', '11', '12', '13', '23', '24',\n",
       "       '25', '26', '27', '28', '32', '37', '42', '43', '45', '46', '48',\n",
       "       '49', '52', '53', '54', '55', '57'], dtype=object)"
      ]
     },
     "execution_count": 49,
     "metadata": {},
     "output_type": "execute_result"
    }
   ],
   "source": [
    "train_indices"
   ]
  },
  {
   "cell_type": "code",
   "execution_count": 42,
   "id": "ed8f4931-bca4-4f2f-b752-16255a426a1c",
   "metadata": {},
   "outputs": [],
   "source": [
    "with open('splits_sites_last_gen_no33.pkl', 'wb') as f:\n",
    "    pickle.dump(splits, f)"
   ]
  },
  {
   "cell_type": "code",
   "execution_count": 43,
   "id": "3c49213b-10b3-4916-ba04-7091de2d3d4e",
   "metadata": {},
   "outputs": [],
   "source": [
    "sample_splits = []\n",
    "for train_indices, test_indices in splits:\n",
    "    train_samples = last_gen_samples[last_gen_samples['site'].isin(train_indices)]['sample_name'].to_list()\n",
    "    test_samples = last_gen_samples[last_gen_samples['site'].isin(test_indices)]['sample_name'].to_list()\n",
    "    sample_splits.append((train_samples, test_samples))"
   ]
  },
  {
   "cell_type": "code",
   "execution_count": 53,
   "id": "948898f0-cb66-4395-970d-815ef73ad9e2",
   "metadata": {},
   "outputs": [
    {
     "data": {
      "text/plain": [
       "12"
      ]
     },
     "execution_count": 53,
     "metadata": {},
     "output_type": "execute_result"
    }
   ],
   "source": [
    "len(sample_splits[0][1])"
   ]
  },
  {
   "cell_type": "code",
   "execution_count": 44,
   "id": "de01b28d-a26a-42ac-98cc-ae6b9a1287dd",
   "metadata": {},
   "outputs": [
    {
     "data": {
      "text/plain": [
       "336"
      ]
     },
     "execution_count": 44,
     "metadata": {},
     "output_type": "execute_result"
    }
   ],
   "source": [
    "len(sample_splits[0][0])"
   ]
  },
  {
   "cell_type": "code",
   "execution_count": 55,
   "id": "fd809d2b-d527-462b-941d-f3830c83e73e",
   "metadata": {},
   "outputs": [
    {
     "data": {
      "text/plain": [
       "348"
      ]
     },
     "execution_count": 55,
     "metadata": {},
     "output_type": "execute_result"
    }
   ],
   "source": [
    "336 + 12"
   ]
  },
  {
   "cell_type": "code",
   "execution_count": 56,
   "id": "9934e94d-f853-4f67-a14d-59c3fabf8d98",
   "metadata": {},
   "outputs": [],
   "source": [
    "with open('splits_samples_last_gen_no33.pkl', 'wb') as f:\n",
    "    pickle.dump(sample_splits, f)"
   ]
  },
  {
   "cell_type": "code",
   "execution_count": null,
   "id": "ef206cb0-9004-4ada-882a-3e72530f1f76",
   "metadata": {},
   "outputs": [],
   "source": []
  },
  {
   "cell_type": "code",
   "execution_count": null,
   "id": "9dd81029-805c-49d5-98f8-e2f1430d64ad",
   "metadata": {},
   "outputs": [],
   "source": []
  }
 ],
 "metadata": {
  "kernelspec": {
   "display_name": "Python (pipeline_snakemake)",
   "language": "python",
   "name": "pipeline_snakemake"
  },
  "language_info": {
   "codemirror_mode": {
    "name": "ipython",
    "version": 3
   },
   "file_extension": ".py",
   "mimetype": "text/x-python",
   "name": "python",
   "nbconvert_exporter": "python",
   "pygments_lexer": "ipython3",
   "version": "3.9.16"
  }
 },
 "nbformat": 4,
 "nbformat_minor": 5
}
