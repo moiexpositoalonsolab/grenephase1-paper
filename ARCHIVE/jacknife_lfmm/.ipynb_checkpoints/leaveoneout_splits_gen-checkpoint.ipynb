{
 "cells": [
  {
   "cell_type": "code",
   "execution_count": null,
   "id": "7557cacd-f306-49be-ab01-b4a984c26054",
   "metadata": {},
   "outputs": [],
   "source": [
    "## teh frist one is going to be a leave one out approach for the sites vb"
   ]
  },
  {
   "cell_type": "code",
   "execution_count": 1,
   "id": "ccc065ed-f19c-4812-8127-a61fa4a45909",
   "metadata": {
    "scrolled": true
   },
   "outputs": [],
   "source": [
    "import numpy as np\n",
    "import pandas as pd\n",
    "from sklearn.decomposition import PCA\n",
    "from sklearn.preprocessing import StandardScaler\n",
    "import os\n",
    "import pickle\n",
    "from sklearn.model_selection import train_test_split"
   ]
  },
  {
   "cell_type": "code",
   "execution_count": 2,
   "id": "6d205aa8-a96a-4839-b867-af6218ae12c3",
   "metadata": {},
   "outputs": [],
   "source": [
    "## for the final generation we have 31 unique sites\n",
    "# 31*0.8 is 24.8\n",
    "## so i am going to be using 25 for trianing and  6 for testing "
   ]
  },
  {
   "cell_type": "code",
   "execution_count": 3,
   "id": "b6727c32-1853-4b56-8f9f-9097ec678aae",
   "metadata": {},
   "outputs": [],
   "source": [
    "first_gen_samples_list = pd.read_csv('../key_files/generation_1_sample_names.txt', header=None)[0]#['sample_name'].to_list()"
   ]
  },
  {
   "cell_type": "code",
   "execution_count": 5,
   "id": "de78e0dc-d999-4212-8335-6685d4af36a5",
   "metadata": {},
   "outputs": [],
   "source": []
  },
  {
   "cell_type": "code",
   "execution_count": 4,
   "id": "91381494-cca5-4a7f-bf93-902dcc19cc90",
   "metadata": {},
   "outputs": [],
   "source": [
    "ms = pd.read_csv('../key_files/merged_sample_table.csv')"
   ]
  },
  {
   "cell_type": "code",
   "execution_count": 5,
   "id": "51e43bfa-175e-4c2a-9da4-bac723fc383f",
   "metadata": {},
   "outputs": [],
   "source": [
    "first_gen_samples = ms[ms['sample_name'].isin(first_gen_samples_list)]"
   ]
  },
  {
   "cell_type": "code",
   "execution_count": 6,
   "id": "7eafd86b-125f-497c-850f-63d08e17e9f3",
   "metadata": {
    "scrolled": true
   },
   "outputs": [],
   "source": [
    "unique_sites_first_gen = first_gen_samples['site'].unique()"
   ]
  },
  {
   "cell_type": "code",
   "execution_count": 7,
   "id": "c2302c4f-103f-4c4d-b914-5616c6dcbd3b",
   "metadata": {},
   "outputs": [
    {
     "data": {
      "text/plain": [
       "array([ 1,  2,  4,  5,  6,  9, 10, 11, 12, 13, 23, 24, 25, 26, 27, 28, 32,\n",
       "       33, 37, 42, 43, 45, 46, 48, 49, 52, 53, 54, 55, 57, 60])"
      ]
     },
     "execution_count": 7,
     "metadata": {},
     "output_type": "execute_result"
    }
   ],
   "source": [
    "unique_sites_first_gen"
   ]
  },
  {
   "cell_type": "code",
   "execution_count": 8,
   "id": "b9e8dd9f-e20c-4b31-8576-7cc73e7e1d2d",
   "metadata": {},
   "outputs": [
    {
     "data": {
      "text/plain": [
       "31"
      ]
     },
     "execution_count": 8,
     "metadata": {},
     "output_type": "execute_result"
    }
   ],
   "source": [
    "len(unique_sites_first_gen)"
   ]
  },
  {
   "cell_type": "code",
   "execution_count": 9,
   "id": "0a1a388a-a0c5-48f1-9da6-fea0419aadee",
   "metadata": {},
   "outputs": [],
   "source": [
    "from sklearn.model_selection import LeaveOneOut\n",
    "\n",
    "# Initialize LeaveOneOut\n",
    "loo = LeaveOneOut()\n",
    "\n",
    "# List to hold the splits\n",
    "splits = []\n",
    "\n",
    "# Generate splits\n",
    "for train_index, test_index in loo.split(unique_sites_first_gen):\n",
    "    train, test = unique_sites_first_gen[train_index], unique_sites_first_gen[test_index]\n",
    "    splits.append((train, test))\n",
    "\n",
    "# This will create exactly 31 splits, each leaving one sample out for testing\n"
   ]
  },
  {
   "cell_type": "code",
   "execution_count": 10,
   "id": "ed8f4931-bca4-4f2f-b752-16255a426a1c",
   "metadata": {},
   "outputs": [],
   "source": [
    "with open('splits_sites_first_gen.pkl', 'wb') as f:\n",
    "    pickle.dump(splits, f)"
   ]
  },
  {
   "cell_type": "code",
   "execution_count": 11,
   "id": "3c49213b-10b3-4916-ba04-7091de2d3d4e",
   "metadata": {},
   "outputs": [],
   "source": [
    "sample_splits = []\n",
    "for train_indices, test_indices in splits:\n",
    "    train_samples = first_gen_samples[first_gen_samples['site'].isin(train_indices)]['sample_name'].to_list()\n",
    "    test_samples = first_gen_samples[first_gen_samples['site'].isin(test_indices)]['sample_name'].to_list()\n",
    "    sample_splits.append((train_samples, test_samples))"
   ]
  },
  {
   "cell_type": "code",
   "execution_count": 12,
   "id": "de01b28d-a26a-42ac-98cc-ae6b9a1287dd",
   "metadata": {},
   "outputs": [
    {
     "data": {
      "text/plain": [
       "314"
      ]
     },
     "execution_count": 12,
     "metadata": {},
     "output_type": "execute_result"
    }
   ],
   "source": [
    "len(sample_splits[0][0])"
   ]
  },
  {
   "cell_type": "code",
   "execution_count": null,
   "id": "fd809d2b-d527-462b-941d-f3830c83e73e",
   "metadata": {},
   "outputs": [],
   "source": []
  },
  {
   "cell_type": "code",
   "execution_count": 13,
   "id": "9934e94d-f853-4f67-a14d-59c3fabf8d98",
   "metadata": {},
   "outputs": [],
   "source": [
    "with open('splits_samples_first_gen.pkl', 'wb') as f:\n",
    "    pickle.dump(sample_splits, f)"
   ]
  },
  {
   "cell_type": "code",
   "execution_count": null,
   "id": "ef206cb0-9004-4ada-882a-3e72530f1f76",
   "metadata": {},
   "outputs": [],
   "source": []
  },
  {
   "cell_type": "code",
   "execution_count": null,
   "id": "9dd81029-805c-49d5-98f8-e2f1430d64ad",
   "metadata": {},
   "outputs": [],
   "source": []
  }
 ],
 "metadata": {
  "kernelspec": {
   "display_name": "Python (pipeline_snakemake)",
   "language": "python",
   "name": "pipeline_snakemake"
  },
  "language_info": {
   "codemirror_mode": {
    "name": "ipython",
    "version": 3
   },
   "file_extension": ".py",
   "mimetype": "text/x-python",
   "name": "python",
   "nbconvert_exporter": "python",
   "pygments_lexer": "ipython3",
   "version": "3.9.16"
  }
 },
 "nbformat": 4,
 "nbformat_minor": 5
}
