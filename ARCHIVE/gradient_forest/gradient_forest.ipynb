{
 "cells": [
  {
   "cell_type": "code",
   "execution_count": 1,
   "id": "d1c805a5-c142-44c7-bda6-fccd18cb02d6",
   "metadata": {},
   "outputs": [],
   "source": [
    ".libPaths(\"/home/tbellagio/miniforge3/envs/r-environment/lib/R/library\")"
   ]
  },
  {
   "cell_type": "code",
   "execution_count": 110,
   "id": "b3fdd31f-95c7-4b66-aa63-dcb3094948b9",
   "metadata": {},
   "outputs": [
    {
     "ename": "ERROR",
     "evalue": "Error in library(reticulate): there is no package called ‘reticulate’\n",
     "output_type": "error",
     "traceback": [
      "Error in library(reticulate): there is no package called ‘reticulate’\nTraceback:\n",
      "1. library(reticulate)"
     ]
    }
   ],
   "source": [
    "library(reticulate)"
   ]
  },
  {
   "cell_type": "code",
   "execution_count": 2,
   "id": "ba718b75-9593-49e3-ac46-8208ff68a047",
   "metadata": {},
   "outputs": [
    {
     "name": "stderr",
     "output_type": "stream",
     "text": [
      "Warning message:\n",
      "“package ‘data.table’ was built under R version 4.3.3”\n",
      "Warning message:\n",
      "“package ‘gradientForest’ was built under R version 4.3.2”\n",
      "Warning message:\n",
      "“package ‘raster’ was built under R version 4.3.3”\n",
      "Loading required package: sp\n",
      "\n",
      "Warning message:\n",
      "“package ‘sp’ was built under R version 4.3.3”\n"
     ]
    },
    {
     "ename": "ERROR",
     "evalue": "Error: package or namespace load failed for ‘raster’ in dyn.load(file, DLLpath = DLLpath, ...):\n unable to load shared object '/home/tbellagio/miniforge3/envs/r-environment/lib/R/library/terra/libs/terra.so':\n  /home/tbellagio/miniforge3/envs/pipeline_snakemake/lib/R/modules//../../libtiff.so.6: version `LIBTIFF_4.6.1' not found (required by /home/tbellagio/miniforge3/envs/r-environment/lib/R/library/terra/libs/../../../../libgdal.so.36)\n",
     "output_type": "error",
     "traceback": [
      "Error: package or namespace load failed for ‘raster’ in dyn.load(file, DLLpath = DLLpath, ...):\n unable to load shared object '/home/tbellagio/miniforge3/envs/r-environment/lib/R/library/terra/libs/terra.so':\n  /home/tbellagio/miniforge3/envs/pipeline_snakemake/lib/R/modules//../../libtiff.so.6: version `LIBTIFF_4.6.1' not found (required by /home/tbellagio/miniforge3/envs/r-environment/lib/R/library/terra/libs/../../../../libgdal.so.36)\nTraceback:\n",
      "1. library(raster)",
      "2. tryCatch({\n .     attr(package, \"LibPath\") <- which.lib.loc\n .     ns <- loadNamespace(package, lib.loc)\n .     env <- attachNamespace(ns, pos = pos, deps, exclude, include.only)\n . }, error = function(e) {\n .     P <- if (!is.null(cc <- conditionCall(e))) \n .         paste(\" in\", deparse(cc)[1L])\n .     else \"\"\n .     msg <- gettextf(\"package or namespace load failed for %s%s:\\n %s\", \n .         sQuote(package), P, conditionMessage(e))\n .     if (logical.return && !quietly) \n .         message(paste(\"Error:\", msg), domain = NA)\n .     else stop(msg, call. = FALSE, domain = NA)\n . })",
      "3. tryCatchList(expr, classes, parentenv, handlers)",
      "4. tryCatchOne(expr, names, parentenv, handlers[[1L]])",
      "5. value[[3L]](cond)",
      "6. stop(msg, call. = FALSE, domain = NA)"
     ]
    }
   ],
   "source": [
    "library(data.table)\n",
    "library(gradientForest)\n",
    "library(raster)\n",
    "library(reticulate)"
   ]
  },
  {
   "cell_type": "code",
   "execution_count": 86,
   "id": "7106531f-011f-4c8a-afe1-d55d41525a5c",
   "metadata": {},
   "outputs": [],
   "source": [
    "# Read the train samples from CSV\n",
    "train_samples <- fread(\"train_samples.csv\")$train_samples\n",
    "\n",
    "# Convert the vector of train samples to a list\n",
    "test_samples <- fread(\"test_samples.csv\")"
   ]
  },
  {
   "cell_type": "code",
   "execution_count": 87,
   "id": "4680d9d9-8aa5-4a90-acb4-f2e8c8944487",
   "metadata": {},
   "outputs": [],
   "source": [
    "\n",
    "\n",
    "# Load the Python object using reticulate\n",
    "#plits_samples <- py_load_object(\"../leave_1_out/splits_samples.pkl\")\n",
    "\n",
    "# Extract train and test samples\n",
    "#train_samples <- splits_samples[[1]][[1]]\n",
    "#test_samples <- splits_samples[[1]][[2]]\n",
    "\n",
    "# Load the delta_p.csv file using only the train_samples columns\n",
    "delta_p_file <- '../key_files/merged_hapFIRE_allele_frequency_LDpruned.txt'\n",
    "delta_p <- fread(delta_p_file, select = train_samples, sep = '\\t')\n"
   ]
  },
  {
   "cell_type": "code",
   "execution_count": 88,
   "id": "fc2f71bd-8b66-492c-bc75-f1d06e9afd6d",
   "metadata": {},
   "outputs": [],
   "source": [
    "env <- fread('env_train.csv')"
   ]
  },
  {
   "cell_type": "code",
   "execution_count": 89,
   "id": "8c802c92-fb6f-4642-8168-421519d0fc65",
   "metadata": {
    "scrolled": true
   },
   "outputs": [],
   "source": [
    "\n",
    "# Check the new column names\n",
    "#colnames(delta_p)"
   ]
  },
  {
   "cell_type": "code",
   "execution_count": 90,
   "id": "96af72f3-3f4e-491f-a27f-e40b59c96b29",
   "metadata": {},
   "outputs": [],
   "source": [
    "# Calculate maxLevel to account for correlations\n",
    "maxLevel <- log2(0.368 * nrow(env) / 2) # Adjusted formula for Gradient Forest\n",
    "\n"
   ]
  },
  {
   "cell_type": "code",
   "execution_count": 91,
   "id": "4c8d8af1-8454-49a2-97c4-b301401f7f3d",
   "metadata": {},
   "outputs": [
    {
     "data": {
      "text/html": [
       "5.85239842028655"
      ],
      "text/latex": [
       "5.85239842028655"
      ],
      "text/markdown": [
       "5.85239842028655"
      ],
      "text/plain": [
       "[1] 5.852398"
      ]
     },
     "metadata": {},
     "output_type": "display_data"
    }
   ],
   "source": [
    "maxLevel"
   ]
  },
  {
   "cell_type": "code",
   "execution_count": 92,
   "id": "7bd59b8b-a210-4f6a-84ac-604cd8129b0b",
   "metadata": {},
   "outputs": [
    {
     "data": {
      "text/html": [
       "<style>\n",
       ".list-inline {list-style: none; margin:0; padding: 0}\n",
       ".list-inline>li {display: inline-block}\n",
       ".list-inline>li:not(:last-child)::after {content: \"\\00b7\"; padding: 0 .5ex}\n",
       "</style>\n",
       "<ol class=list-inline><li>314</li><li>13985</li></ol>\n"
      ],
      "text/latex": [
       "\\begin{enumerate*}\n",
       "\\item 314\n",
       "\\item 13985\n",
       "\\end{enumerate*}\n"
      ],
      "text/markdown": [
       "1. 314\n",
       "2. 13985\n",
       "\n",
       "\n"
      ],
      "text/plain": [
       "[1]   314 13985"
      ]
     },
     "metadata": {},
     "output_type": "display_data"
    }
   ],
   "source": [
    "# Transpose delta_p to make samples the rows\n",
    "delta_p_t <- as.data.frame(t(delta_p))\n",
    "\n",
    "# Check the new dimensions\n",
    "dim(delta_p_t)  # Should be 314 x 13985"
   ]
  },
  {
   "cell_type": "code",
   "execution_count": 93,
   "id": "b2ecf76c-0067-4cc6-a126-b3f1579396da",
   "metadata": {},
   "outputs": [],
   "source": [
    "colnames(delta_p_t) <- paste(\"snp\", 1:ncol(delta_p_t), sep = \"_\")\n"
   ]
  },
  {
   "cell_type": "code",
   "execution_count": 95,
   "id": "8e9e3a08-0eeb-4ea4-a697-7a9b807a462a",
   "metadata": {},
   "outputs": [],
   "source": [
    "selected_snps <- sample(colnames(delta_p_t), 1000)\n",
    "\n",
    "# Subset the delta_p_t DataFrame with the selected SNPs\n",
    "delta_p_t_subset <- delta_p_t[, selected_snps]"
   ]
  },
  {
   "cell_type": "code",
   "execution_count": 97,
   "id": "39fc3ad4-af81-46bc-aa7a-d1d19d42f50b",
   "metadata": {},
   "outputs": [],
   "source": [
    "# Combine environmental and allele frequency data\n",
    "gf_data <- cbind(env, delta_p_t_subset)"
   ]
  },
  {
   "cell_type": "code",
   "execution_count": 98,
   "id": "e4c6c8ff-dc6b-4f72-a949-dbebddcd13e7",
   "metadata": {},
   "outputs": [
    {
     "data": {
      "text/html": [
       "<style>\n",
       ".list-inline {list-style: none; margin:0; padding: 0}\n",
       ".list-inline>li {display: inline-block}\n",
       ".list-inline>li:not(:last-child)::after {content: \"\\00b7\"; padding: 0 .5ex}\n",
       "</style>\n",
       "<ol class=list-inline><li>314</li><li>13985</li></ol>\n"
      ],
      "text/latex": [
       "\\begin{enumerate*}\n",
       "\\item 314\n",
       "\\item 13985\n",
       "\\end{enumerate*}\n"
      ],
      "text/markdown": [
       "1. 314\n",
       "2. 13985\n",
       "\n",
       "\n"
      ],
      "text/plain": [
       "[1]   314 13985"
      ]
     },
     "metadata": {},
     "output_type": "display_data"
    },
    {
     "data": {
      "text/html": [
       "<style>\n",
       ".list-inline {list-style: none; margin:0; padding: 0}\n",
       ".list-inline>li {display: inline-block}\n",
       ".list-inline>li:not(:last-child)::after {content: \"\\00b7\"; padding: 0 .5ex}\n",
       "</style>\n",
       "<ol class=list-inline><li>314</li><li>19</li></ol>\n"
      ],
      "text/latex": [
       "\\begin{enumerate*}\n",
       "\\item 314\n",
       "\\item 19\n",
       "\\end{enumerate*}\n"
      ],
      "text/markdown": [
       "1. 314\n",
       "2. 19\n",
       "\n",
       "\n"
      ],
      "text/plain": [
       "[1] 314  19"
      ]
     },
     "metadata": {},
     "output_type": "display_data"
    }
   ],
   "source": [
    "dim(delta_p_t) # 13985 * 314\n",
    "\n",
    "dim(env) # 314 * 19"
   ]
  },
  {
   "cell_type": "code",
   "execution_count": 106,
   "id": "54e0b6bb-6852-4945-bcb5-ec8d96137b7f",
   "metadata": {},
   "outputs": [
    {
     "data": {
      "text/html": [
       "6.9925"
      ],
      "text/latex": [
       "6.9925"
      ],
      "text/markdown": [
       "6.9925"
      ],
      "text/plain": [
       "[1] 6.9925"
      ]
     },
     "metadata": {},
     "output_type": "display_data"
    }
   ],
   "source": [
    "13985/2000"
   ]
  },
  {
   "cell_type": "code",
   "execution_count": 107,
   "id": "bc1d1c25-fb06-4f34-89ff-96d49833b69f",
   "metadata": {},
   "outputs": [
    {
     "data": {
      "text/html": [
       "209.775"
      ],
      "text/latex": [
       "209.775"
      ],
      "text/markdown": [
       "209.775"
      ],
      "text/plain": [
       "[1] 209.775"
      ]
     },
     "metadata": {},
     "output_type": "display_data"
    }
   ],
   "source": [
    "6.9925 * 30"
   ]
  },
  {
   "cell_type": "code",
   "execution_count": 109,
   "id": "6a0c8a84-88ed-4caa-9e88-47d9412ecfa4",
   "metadata": {},
   "outputs": [
    {
     "data": {
      "text/html": [
       "104.8875"
      ],
      "text/latex": [
       "104.8875"
      ],
      "text/markdown": [
       "104.8875"
      ],
      "text/plain": [
       "[1] 104.8875"
      ]
     },
     "metadata": {},
     "output_type": "display_data"
    }
   ],
   "source": [
    "209.775 * .5"
   ]
  },
  {
   "cell_type": "code",
   "execution_count": 99,
   "id": "a499a226-a83e-443d-89fc-a8108c77f3f3",
   "metadata": {},
   "outputs": [
    {
     "data": {
      "text/html": [
       "<table class=\"dataframe\">\n",
       "<caption>A data.table: 6 × 1019</caption>\n",
       "<thead>\n",
       "\t<tr><th scope=col>bio1</th><th scope=col>bio2</th><th scope=col>bio3</th><th scope=col>bio4</th><th scope=col>bio5</th><th scope=col>bio6</th><th scope=col>bio7</th><th scope=col>bio8</th><th scope=col>bio9</th><th scope=col>bio10</th><th scope=col>⋯</th><th scope=col>snp_11621</th><th scope=col>snp_5176</th><th scope=col>snp_13180</th><th scope=col>snp_8925</th><th scope=col>snp_11286</th><th scope=col>snp_6050</th><th scope=col>snp_5971</th><th scope=col>snp_3699</th><th scope=col>snp_10773</th><th scope=col>snp_3930</th></tr>\n",
       "\t<tr><th scope=col>&lt;dbl&gt;</th><th scope=col>&lt;dbl&gt;</th><th scope=col>&lt;dbl&gt;</th><th scope=col>&lt;dbl&gt;</th><th scope=col>&lt;dbl&gt;</th><th scope=col>&lt;dbl&gt;</th><th scope=col>&lt;dbl&gt;</th><th scope=col>&lt;dbl&gt;</th><th scope=col>&lt;dbl&gt;</th><th scope=col>&lt;dbl&gt;</th><th scope=col>⋯</th><th scope=col>&lt;dbl&gt;</th><th scope=col>&lt;dbl&gt;</th><th scope=col>&lt;dbl&gt;</th><th scope=col>&lt;dbl&gt;</th><th scope=col>&lt;dbl&gt;</th><th scope=col>&lt;dbl&gt;</th><th scope=col>&lt;dbl&gt;</th><th scope=col>&lt;dbl&gt;</th><th scope=col>&lt;dbl&gt;</th><th scope=col>&lt;dbl&gt;</th></tr>\n",
       "</thead>\n",
       "<tbody>\n",
       "\t<tr><td>15.2511</td><td>17.57473</td><td>44.37395</td><td>690.0336</td><td>35.66885</td><td>-3.937109</td><td>39.60596</td><td>11.62251</td><td>23.99913</td><td>24.0771</td><td>⋯</td><td>0.03608812</td><td>0.5466954</td><td>0.12848982</td><td>0.4866360</td><td>0.4728528</td><td>0.5921950</td><td>0.5639325</td><td>0.4882692</td><td>0.2202897</td><td>0.6143599</td></tr>\n",
       "\t<tr><td>15.2511</td><td>17.57473</td><td>44.37395</td><td>690.0336</td><td>35.66885</td><td>-3.937109</td><td>39.60596</td><td>11.62251</td><td>23.99913</td><td>24.0771</td><td>⋯</td><td>0.08682310</td><td>0.5549857</td><td>0.03293962</td><td>0.5590437</td><td>0.3016696</td><td>0.5766053</td><td>0.6520392</td><td>0.3505035</td><td>0.1817615</td><td>0.6382679</td></tr>\n",
       "\t<tr><td>15.2511</td><td>17.57473</td><td>44.37395</td><td>690.0336</td><td>35.66885</td><td>-3.937109</td><td>39.60596</td><td>11.62251</td><td>23.99913</td><td>24.0771</td><td>⋯</td><td>0.08879678</td><td>0.3494160</td><td>0.09556063</td><td>0.6468755</td><td>0.5148619</td><td>0.4265307</td><td>0.4948287</td><td>0.4075347</td><td>0.1794208</td><td>0.5154747</td></tr>\n",
       "\t<tr><td>15.2511</td><td>17.57473</td><td>44.37395</td><td>690.0336</td><td>35.66885</td><td>-3.937109</td><td>39.60596</td><td>11.62251</td><td>23.99913</td><td>24.0771</td><td>⋯</td><td>0.03871712</td><td>0.4558272</td><td>0.04546594</td><td>0.5378486</td><td>0.4817161</td><td>0.5058684</td><td>0.5550862</td><td>0.4553288</td><td>0.2473929</td><td>0.5659187</td></tr>\n",
       "\t<tr><td>15.2511</td><td>17.57473</td><td>44.37395</td><td>690.0336</td><td>35.66885</td><td>-3.937109</td><td>39.60596</td><td>11.62251</td><td>23.99913</td><td>24.0771</td><td>⋯</td><td>0.03107104</td><td>0.4271764</td><td>0.06496562</td><td>0.7183752</td><td>0.4911088</td><td>0.5702374</td><td>0.5598397</td><td>0.4460735</td><td>0.1901072</td><td>0.6032273</td></tr>\n",
       "\t<tr><td>15.2511</td><td>17.57473</td><td>44.37395</td><td>690.0336</td><td>35.66885</td><td>-3.937109</td><td>39.60596</td><td>11.62251</td><td>23.99913</td><td>24.0771</td><td>⋯</td><td>0.01804249</td><td>0.4614457</td><td>0.02696895</td><td>0.5738153</td><td>0.5245227</td><td>0.6046786</td><td>0.3363990</td><td>0.4357897</td><td>0.3334146</td><td>0.4529320</td></tr>\n",
       "</tbody>\n",
       "</table>\n"
      ],
      "text/latex": [
       "A data.table: 6 × 1019\n",
       "\\begin{tabular}{lllllllllllllllllllll}\n",
       " bio1 & bio2 & bio3 & bio4 & bio5 & bio6 & bio7 & bio8 & bio9 & bio10 & ⋯ & snp\\_11621 & snp\\_5176 & snp\\_13180 & snp\\_8925 & snp\\_11286 & snp\\_6050 & snp\\_5971 & snp\\_3699 & snp\\_10773 & snp\\_3930\\\\\n",
       " <dbl> & <dbl> & <dbl> & <dbl> & <dbl> & <dbl> & <dbl> & <dbl> & <dbl> & <dbl> & ⋯ & <dbl> & <dbl> & <dbl> & <dbl> & <dbl> & <dbl> & <dbl> & <dbl> & <dbl> & <dbl>\\\\\n",
       "\\hline\n",
       "\t 15.2511 & 17.57473 & 44.37395 & 690.0336 & 35.66885 & -3.937109 & 39.60596 & 11.62251 & 23.99913 & 24.0771 & ⋯ & 0.03608812 & 0.5466954 & 0.12848982 & 0.4866360 & 0.4728528 & 0.5921950 & 0.5639325 & 0.4882692 & 0.2202897 & 0.6143599\\\\\n",
       "\t 15.2511 & 17.57473 & 44.37395 & 690.0336 & 35.66885 & -3.937109 & 39.60596 & 11.62251 & 23.99913 & 24.0771 & ⋯ & 0.08682310 & 0.5549857 & 0.03293962 & 0.5590437 & 0.3016696 & 0.5766053 & 0.6520392 & 0.3505035 & 0.1817615 & 0.6382679\\\\\n",
       "\t 15.2511 & 17.57473 & 44.37395 & 690.0336 & 35.66885 & -3.937109 & 39.60596 & 11.62251 & 23.99913 & 24.0771 & ⋯ & 0.08879678 & 0.3494160 & 0.09556063 & 0.6468755 & 0.5148619 & 0.4265307 & 0.4948287 & 0.4075347 & 0.1794208 & 0.5154747\\\\\n",
       "\t 15.2511 & 17.57473 & 44.37395 & 690.0336 & 35.66885 & -3.937109 & 39.60596 & 11.62251 & 23.99913 & 24.0771 & ⋯ & 0.03871712 & 0.4558272 & 0.04546594 & 0.5378486 & 0.4817161 & 0.5058684 & 0.5550862 & 0.4553288 & 0.2473929 & 0.5659187\\\\\n",
       "\t 15.2511 & 17.57473 & 44.37395 & 690.0336 & 35.66885 & -3.937109 & 39.60596 & 11.62251 & 23.99913 & 24.0771 & ⋯ & 0.03107104 & 0.4271764 & 0.06496562 & 0.7183752 & 0.4911088 & 0.5702374 & 0.5598397 & 0.4460735 & 0.1901072 & 0.6032273\\\\\n",
       "\t 15.2511 & 17.57473 & 44.37395 & 690.0336 & 35.66885 & -3.937109 & 39.60596 & 11.62251 & 23.99913 & 24.0771 & ⋯ & 0.01804249 & 0.4614457 & 0.02696895 & 0.5738153 & 0.5245227 & 0.6046786 & 0.3363990 & 0.4357897 & 0.3334146 & 0.4529320\\\\\n",
       "\\end{tabular}\n"
      ],
      "text/markdown": [
       "\n",
       "A data.table: 6 × 1019\n",
       "\n",
       "| bio1 &lt;dbl&gt; | bio2 &lt;dbl&gt; | bio3 &lt;dbl&gt; | bio4 &lt;dbl&gt; | bio5 &lt;dbl&gt; | bio6 &lt;dbl&gt; | bio7 &lt;dbl&gt; | bio8 &lt;dbl&gt; | bio9 &lt;dbl&gt; | bio10 &lt;dbl&gt; | ⋯ ⋯ | snp_11621 &lt;dbl&gt; | snp_5176 &lt;dbl&gt; | snp_13180 &lt;dbl&gt; | snp_8925 &lt;dbl&gt; | snp_11286 &lt;dbl&gt; | snp_6050 &lt;dbl&gt; | snp_5971 &lt;dbl&gt; | snp_3699 &lt;dbl&gt; | snp_10773 &lt;dbl&gt; | snp_3930 &lt;dbl&gt; |\n",
       "|---|---|---|---|---|---|---|---|---|---|---|---|---|---|---|---|---|---|---|---|---|\n",
       "| 15.2511 | 17.57473 | 44.37395 | 690.0336 | 35.66885 | -3.937109 | 39.60596 | 11.62251 | 23.99913 | 24.0771 | ⋯ | 0.03608812 | 0.5466954 | 0.12848982 | 0.4866360 | 0.4728528 | 0.5921950 | 0.5639325 | 0.4882692 | 0.2202897 | 0.6143599 |\n",
       "| 15.2511 | 17.57473 | 44.37395 | 690.0336 | 35.66885 | -3.937109 | 39.60596 | 11.62251 | 23.99913 | 24.0771 | ⋯ | 0.08682310 | 0.5549857 | 0.03293962 | 0.5590437 | 0.3016696 | 0.5766053 | 0.6520392 | 0.3505035 | 0.1817615 | 0.6382679 |\n",
       "| 15.2511 | 17.57473 | 44.37395 | 690.0336 | 35.66885 | -3.937109 | 39.60596 | 11.62251 | 23.99913 | 24.0771 | ⋯ | 0.08879678 | 0.3494160 | 0.09556063 | 0.6468755 | 0.5148619 | 0.4265307 | 0.4948287 | 0.4075347 | 0.1794208 | 0.5154747 |\n",
       "| 15.2511 | 17.57473 | 44.37395 | 690.0336 | 35.66885 | -3.937109 | 39.60596 | 11.62251 | 23.99913 | 24.0771 | ⋯ | 0.03871712 | 0.4558272 | 0.04546594 | 0.5378486 | 0.4817161 | 0.5058684 | 0.5550862 | 0.4553288 | 0.2473929 | 0.5659187 |\n",
       "| 15.2511 | 17.57473 | 44.37395 | 690.0336 | 35.66885 | -3.937109 | 39.60596 | 11.62251 | 23.99913 | 24.0771 | ⋯ | 0.03107104 | 0.4271764 | 0.06496562 | 0.7183752 | 0.4911088 | 0.5702374 | 0.5598397 | 0.4460735 | 0.1901072 | 0.6032273 |\n",
       "| 15.2511 | 17.57473 | 44.37395 | 690.0336 | 35.66885 | -3.937109 | 39.60596 | 11.62251 | 23.99913 | 24.0771 | ⋯ | 0.01804249 | 0.4614457 | 0.02696895 | 0.5738153 | 0.5245227 | 0.6046786 | 0.3363990 | 0.4357897 | 0.3334146 | 0.4529320 |\n",
       "\n"
      ],
      "text/plain": [
       "  bio1    bio2     bio3     bio4     bio5     bio6      bio7     bio8    \n",
       "1 15.2511 17.57473 44.37395 690.0336 35.66885 -3.937109 39.60596 11.62251\n",
       "2 15.2511 17.57473 44.37395 690.0336 35.66885 -3.937109 39.60596 11.62251\n",
       "3 15.2511 17.57473 44.37395 690.0336 35.66885 -3.937109 39.60596 11.62251\n",
       "4 15.2511 17.57473 44.37395 690.0336 35.66885 -3.937109 39.60596 11.62251\n",
       "5 15.2511 17.57473 44.37395 690.0336 35.66885 -3.937109 39.60596 11.62251\n",
       "6 15.2511 17.57473 44.37395 690.0336 35.66885 -3.937109 39.60596 11.62251\n",
       "  bio9     bio10   ⋯ snp_11621  snp_5176  snp_13180  snp_8925  snp_11286\n",
       "1 23.99913 24.0771 ⋯ 0.03608812 0.5466954 0.12848982 0.4866360 0.4728528\n",
       "2 23.99913 24.0771 ⋯ 0.08682310 0.5549857 0.03293962 0.5590437 0.3016696\n",
       "3 23.99913 24.0771 ⋯ 0.08879678 0.3494160 0.09556063 0.6468755 0.5148619\n",
       "4 23.99913 24.0771 ⋯ 0.03871712 0.4558272 0.04546594 0.5378486 0.4817161\n",
       "5 23.99913 24.0771 ⋯ 0.03107104 0.4271764 0.06496562 0.7183752 0.4911088\n",
       "6 23.99913 24.0771 ⋯ 0.01804249 0.4614457 0.02696895 0.5738153 0.5245227\n",
       "  snp_6050  snp_5971  snp_3699  snp_10773 snp_3930 \n",
       "1 0.5921950 0.5639325 0.4882692 0.2202897 0.6143599\n",
       "2 0.5766053 0.6520392 0.3505035 0.1817615 0.6382679\n",
       "3 0.4265307 0.4948287 0.4075347 0.1794208 0.5154747\n",
       "4 0.5058684 0.5550862 0.4553288 0.2473929 0.5659187\n",
       "5 0.5702374 0.5598397 0.4460735 0.1901072 0.6032273\n",
       "6 0.6046786 0.3363990 0.4357897 0.3334146 0.4529320"
      ]
     },
     "metadata": {},
     "output_type": "display_data"
    }
   ],
   "source": [
    "head(gf_data)"
   ]
  },
  {
   "cell_type": "code",
   "execution_count": 102,
   "id": "96d6ceab-0552-4dc4-839b-e3a9c08f0a63",
   "metadata": {},
   "outputs": [],
   "source": [
    "maxLevel <- log2(0.368 * nrow(env) / 2) # Adjusted formula for Gradient Forest"
   ]
  },
  {
   "cell_type": "code",
   "execution_count": 103,
   "id": "0c97a8f5-3530-4b78-9a1f-1bef06b552c9",
   "metadata": {},
   "outputs": [
    {
     "name": "stdout",
     "output_type": "stream",
     "text": [
      "Calculating forests for 1000 species\n",
      "...............................................................................\n",
      "................................................................................\n",
      "................................................................................\n",
      "................................................................................\n",
      "................................................................................\n",
      "................................................................................\n",
      "................................................................................\n",
      "................................................................................\n",
      "................................................................................\n",
      "................................................................................\n",
      "................................................................................\n",
      "................................................................................\n",
      ".........................................   user  system elapsed \n",
      "804.681   0.952 808.221 \n"
     ]
    }
   ],
   "source": [
    "# Measure the time taken to fit the Gradient Forest model\n",
    "time_taken <- system.time({\n",
    "  gfRef <- gradientForest(\n",
    "    data = gf_data, \n",
    "    predictor.vars = colnames(env),\n",
    "    response.vars = colnames(delta_p_t_subset), \n",
    "    ntree = 500, \n",
    "    maxLevel = maxLevel, \n",
    "    trace = TRUE, \n",
    "    corr.threshold = 0.50\n",
    "  )\n",
    "})\n",
    "\n",
    "# Print the time taken\n",
    "print(time_taken)"
   ]
  },
  {
   "cell_type": "code",
   "execution_count": 104,
   "id": "03b54f4e-cd19-4117-949e-8413464348fe",
   "metadata": {},
   "outputs": [
    {
     "data": {
      "text/html": [
       "13.41135"
      ],
      "text/latex": [
       "13.41135"
      ],
      "text/markdown": [
       "13.41135"
      ],
      "text/plain": [
       "[1] 13.41135"
      ]
     },
     "metadata": {},
     "output_type": "display_data"
    }
   ],
   "source": [
    "804.681/60"
   ]
  },
  {
   "cell_type": "code",
   "execution_count": 9,
   "id": "3c62cdea-2e95-4bfa-aae8-22c952b5e5e9",
   "metadata": {},
   "outputs": [
    {
     "data": {
      "text/html": [
       "<table class=\"dataframe\">\n",
       "<caption>A data.table: 6 × 334</caption>\n",
       "<thead>\n",
       "\t<tr><th scope=col>site</th><th scope=col>bio1</th><th scope=col>bio2</th><th scope=col>bio3</th><th scope=col>bio4</th><th scope=col>bio5</th><th scope=col>bio6</th><th scope=col>bio7</th><th scope=col>bio8</th><th scope=col>bio9</th><th scope=col>⋯</th><th scope=col>snp__305</th><th scope=col>snp__306</th><th scope=col>snp__307</th><th scope=col>snp__308</th><th scope=col>snp__309</th><th scope=col>snp__310</th><th scope=col>snp__311</th><th scope=col>snp__312</th><th scope=col>snp__313</th><th scope=col>snp__314</th></tr>\n",
       "\t<tr><th scope=col>&lt;int&gt;</th><th scope=col>&lt;dbl&gt;</th><th scope=col>&lt;dbl&gt;</th><th scope=col>&lt;dbl&gt;</th><th scope=col>&lt;dbl&gt;</th><th scope=col>&lt;dbl&gt;</th><th scope=col>&lt;dbl&gt;</th><th scope=col>&lt;dbl&gt;</th><th scope=col>&lt;dbl&gt;</th><th scope=col>&lt;dbl&gt;</th><th scope=col>⋯</th><th scope=col>&lt;dbl&gt;</th><th scope=col>&lt;dbl&gt;</th><th scope=col>&lt;dbl&gt;</th><th scope=col>&lt;dbl&gt;</th><th scope=col>&lt;dbl&gt;</th><th scope=col>&lt;dbl&gt;</th><th scope=col>&lt;dbl&gt;</th><th scope=col>&lt;dbl&gt;</th><th scope=col>&lt;dbl&gt;</th><th scope=col>&lt;dbl&gt;</th></tr>\n",
       "</thead>\n",
       "<tbody>\n",
       "\t<tr><td>1</td><td>10.74391</td><td>21.19392</td><td>47.68817</td><td>716.6599</td><td>32.80172</td><td>-11.64101</td><td>44.44273</td><td>2.111033</td><td>11.48541</td><td>⋯</td><td>0.0455755</td><td>0.0275850</td><td>0.008574176</td><td>0.1036788</td><td>0.1414159</td><td>0.0518210</td><td>0.02296771</td><td>0.02907167</td><td>0.00498375</td><td>0.0083695</td></tr>\n",
       "\t<tr><td>1</td><td>10.74391</td><td>21.19392</td><td>47.68817</td><td>716.6599</td><td>32.80172</td><td>-11.64101</td><td>44.44273</td><td>2.111033</td><td>11.48541</td><td>⋯</td><td>0.4795775</td><td>0.3435815</td><td>0.598400000</td><td>0.7044097</td><td>0.6434978</td><td>0.4950264</td><td>0.75754871</td><td>0.70212667</td><td>0.69837550</td><td>0.7860165</td></tr>\n",
       "\t<tr><td>1</td><td>10.74391</td><td>21.19392</td><td>47.68817</td><td>716.6599</td><td>32.80172</td><td>-11.64101</td><td>44.44273</td><td>2.111033</td><td>11.48541</td><td>⋯</td><td>0.3015940</td><td>0.0052095</td><td>0.081712000</td><td>0.1860766</td><td>0.1505190</td><td>0.1856356</td><td>0.04456500</td><td>0.16897300</td><td>0.00706100</td><td>0.1090760</td></tr>\n",
       "\t<tr><td>1</td><td>10.74391</td><td>21.19392</td><td>47.68817</td><td>716.6599</td><td>32.80172</td><td>-11.64101</td><td>44.44273</td><td>2.111033</td><td>11.48541</td><td>⋯</td><td>0.5604120</td><td>0.4279115</td><td>0.517951647</td><td>0.5543469</td><td>0.8425235</td><td>0.5258325</td><td>0.74879971</td><td>0.44575633</td><td>0.57838550</td><td>0.7290735</td></tr>\n",
       "\t<tr><td>1</td><td>10.74391</td><td>21.19392</td><td>47.68817</td><td>716.6599</td><td>32.80172</td><td>-11.64101</td><td>44.44273</td><td>2.111033</td><td>11.48541</td><td>⋯</td><td>0.5132685</td><td>0.3169265</td><td>0.236816059</td><td>0.5838729</td><td>0.4899692</td><td>0.6341885</td><td>0.17425614</td><td>0.62356733</td><td>0.41217925</td><td>0.3355085</td></tr>\n",
       "\t<tr><td>1</td><td>10.74391</td><td>21.19392</td><td>47.68817</td><td>716.6599</td><td>32.80172</td><td>-11.64101</td><td>44.44273</td><td>2.111033</td><td>11.48541</td><td>⋯</td><td>0.0091610</td><td>0.0623930</td><td>0.003073235</td><td>0.0049760</td><td>0.0451350</td><td>0.0431150</td><td>0.07796929</td><td>0.11011533</td><td>0.07497500</td><td>0.0094380</td></tr>\n",
       "</tbody>\n",
       "</table>\n"
      ],
      "text/latex": [
       "A data.table: 6 × 334\n",
       "\\begin{tabular}{lllllllllllllllllllll}\n",
       " site & bio1 & bio2 & bio3 & bio4 & bio5 & bio6 & bio7 & bio8 & bio9 & ⋯ & snp\\_\\_305 & snp\\_\\_306 & snp\\_\\_307 & snp\\_\\_308 & snp\\_\\_309 & snp\\_\\_310 & snp\\_\\_311 & snp\\_\\_312 & snp\\_\\_313 & snp\\_\\_314\\\\\n",
       " <int> & <dbl> & <dbl> & <dbl> & <dbl> & <dbl> & <dbl> & <dbl> & <dbl> & <dbl> & ⋯ & <dbl> & <dbl> & <dbl> & <dbl> & <dbl> & <dbl> & <dbl> & <dbl> & <dbl> & <dbl>\\\\\n",
       "\\hline\n",
       "\t 1 & 10.74391 & 21.19392 & 47.68817 & 716.6599 & 32.80172 & -11.64101 & 44.44273 & 2.111033 & 11.48541 & ⋯ & 0.0455755 & 0.0275850 & 0.008574176 & 0.1036788 & 0.1414159 & 0.0518210 & 0.02296771 & 0.02907167 & 0.00498375 & 0.0083695\\\\\n",
       "\t 1 & 10.74391 & 21.19392 & 47.68817 & 716.6599 & 32.80172 & -11.64101 & 44.44273 & 2.111033 & 11.48541 & ⋯ & 0.4795775 & 0.3435815 & 0.598400000 & 0.7044097 & 0.6434978 & 0.4950264 & 0.75754871 & 0.70212667 & 0.69837550 & 0.7860165\\\\\n",
       "\t 1 & 10.74391 & 21.19392 & 47.68817 & 716.6599 & 32.80172 & -11.64101 & 44.44273 & 2.111033 & 11.48541 & ⋯ & 0.3015940 & 0.0052095 & 0.081712000 & 0.1860766 & 0.1505190 & 0.1856356 & 0.04456500 & 0.16897300 & 0.00706100 & 0.1090760\\\\\n",
       "\t 1 & 10.74391 & 21.19392 & 47.68817 & 716.6599 & 32.80172 & -11.64101 & 44.44273 & 2.111033 & 11.48541 & ⋯ & 0.5604120 & 0.4279115 & 0.517951647 & 0.5543469 & 0.8425235 & 0.5258325 & 0.74879971 & 0.44575633 & 0.57838550 & 0.7290735\\\\\n",
       "\t 1 & 10.74391 & 21.19392 & 47.68817 & 716.6599 & 32.80172 & -11.64101 & 44.44273 & 2.111033 & 11.48541 & ⋯ & 0.5132685 & 0.3169265 & 0.236816059 & 0.5838729 & 0.4899692 & 0.6341885 & 0.17425614 & 0.62356733 & 0.41217925 & 0.3355085\\\\\n",
       "\t 1 & 10.74391 & 21.19392 & 47.68817 & 716.6599 & 32.80172 & -11.64101 & 44.44273 & 2.111033 & 11.48541 & ⋯ & 0.0091610 & 0.0623930 & 0.003073235 & 0.0049760 & 0.0451350 & 0.0431150 & 0.07796929 & 0.11011533 & 0.07497500 & 0.0094380\\\\\n",
       "\\end{tabular}\n"
      ],
      "text/markdown": [
       "\n",
       "A data.table: 6 × 334\n",
       "\n",
       "| site &lt;int&gt; | bio1 &lt;dbl&gt; | bio2 &lt;dbl&gt; | bio3 &lt;dbl&gt; | bio4 &lt;dbl&gt; | bio5 &lt;dbl&gt; | bio6 &lt;dbl&gt; | bio7 &lt;dbl&gt; | bio8 &lt;dbl&gt; | bio9 &lt;dbl&gt; | ⋯ ⋯ | snp__305 &lt;dbl&gt; | snp__306 &lt;dbl&gt; | snp__307 &lt;dbl&gt; | snp__308 &lt;dbl&gt; | snp__309 &lt;dbl&gt; | snp__310 &lt;dbl&gt; | snp__311 &lt;dbl&gt; | snp__312 &lt;dbl&gt; | snp__313 &lt;dbl&gt; | snp__314 &lt;dbl&gt; |\n",
       "|---|---|---|---|---|---|---|---|---|---|---|---|---|---|---|---|---|---|---|---|---|\n",
       "| 1 | 10.74391 | 21.19392 | 47.68817 | 716.6599 | 32.80172 | -11.64101 | 44.44273 | 2.111033 | 11.48541 | ⋯ | 0.0455755 | 0.0275850 | 0.008574176 | 0.1036788 | 0.1414159 | 0.0518210 | 0.02296771 | 0.02907167 | 0.00498375 | 0.0083695 |\n",
       "| 1 | 10.74391 | 21.19392 | 47.68817 | 716.6599 | 32.80172 | -11.64101 | 44.44273 | 2.111033 | 11.48541 | ⋯ | 0.4795775 | 0.3435815 | 0.598400000 | 0.7044097 | 0.6434978 | 0.4950264 | 0.75754871 | 0.70212667 | 0.69837550 | 0.7860165 |\n",
       "| 1 | 10.74391 | 21.19392 | 47.68817 | 716.6599 | 32.80172 | -11.64101 | 44.44273 | 2.111033 | 11.48541 | ⋯ | 0.3015940 | 0.0052095 | 0.081712000 | 0.1860766 | 0.1505190 | 0.1856356 | 0.04456500 | 0.16897300 | 0.00706100 | 0.1090760 |\n",
       "| 1 | 10.74391 | 21.19392 | 47.68817 | 716.6599 | 32.80172 | -11.64101 | 44.44273 | 2.111033 | 11.48541 | ⋯ | 0.5604120 | 0.4279115 | 0.517951647 | 0.5543469 | 0.8425235 | 0.5258325 | 0.74879971 | 0.44575633 | 0.57838550 | 0.7290735 |\n",
       "| 1 | 10.74391 | 21.19392 | 47.68817 | 716.6599 | 32.80172 | -11.64101 | 44.44273 | 2.111033 | 11.48541 | ⋯ | 0.5132685 | 0.3169265 | 0.236816059 | 0.5838729 | 0.4899692 | 0.6341885 | 0.17425614 | 0.62356733 | 0.41217925 | 0.3355085 |\n",
       "| 1 | 10.74391 | 21.19392 | 47.68817 | 716.6599 | 32.80172 | -11.64101 | 44.44273 | 2.111033 | 11.48541 | ⋯ | 0.0091610 | 0.0623930 | 0.003073235 | 0.0049760 | 0.0451350 | 0.0431150 | 0.07796929 | 0.11011533 | 0.07497500 | 0.0094380 |\n",
       "\n"
      ],
      "text/plain": [
       "  site bio1     bio2     bio3     bio4     bio5     bio6      bio7     bio8    \n",
       "1 1    10.74391 21.19392 47.68817 716.6599 32.80172 -11.64101 44.44273 2.111033\n",
       "2 1    10.74391 21.19392 47.68817 716.6599 32.80172 -11.64101 44.44273 2.111033\n",
       "3 1    10.74391 21.19392 47.68817 716.6599 32.80172 -11.64101 44.44273 2.111033\n",
       "4 1    10.74391 21.19392 47.68817 716.6599 32.80172 -11.64101 44.44273 2.111033\n",
       "5 1    10.74391 21.19392 47.68817 716.6599 32.80172 -11.64101 44.44273 2.111033\n",
       "6 1    10.74391 21.19392 47.68817 716.6599 32.80172 -11.64101 44.44273 2.111033\n",
       "  bio9     ⋯ snp__305  snp__306  snp__307    snp__308  snp__309  snp__310 \n",
       "1 11.48541 ⋯ 0.0455755 0.0275850 0.008574176 0.1036788 0.1414159 0.0518210\n",
       "2 11.48541 ⋯ 0.4795775 0.3435815 0.598400000 0.7044097 0.6434978 0.4950264\n",
       "3 11.48541 ⋯ 0.3015940 0.0052095 0.081712000 0.1860766 0.1505190 0.1856356\n",
       "4 11.48541 ⋯ 0.5604120 0.4279115 0.517951647 0.5543469 0.8425235 0.5258325\n",
       "5 11.48541 ⋯ 0.5132685 0.3169265 0.236816059 0.5838729 0.4899692 0.6341885\n",
       "6 11.48541 ⋯ 0.0091610 0.0623930 0.003073235 0.0049760 0.0451350 0.0431150\n",
       "  snp__311   snp__312   snp__313   snp__314 \n",
       "1 0.02296771 0.02907167 0.00498375 0.0083695\n",
       "2 0.75754871 0.70212667 0.69837550 0.7860165\n",
       "3 0.04456500 0.16897300 0.00706100 0.1090760\n",
       "4 0.74879971 0.44575633 0.57838550 0.7290735\n",
       "5 0.17425614 0.62356733 0.41217925 0.3355085\n",
       "6 0.07796929 0.11011533 0.07497500 0.0094380"
      ]
     },
     "metadata": {},
     "output_type": "display_data"
    }
   ],
   "source": [
    "head(gf_data)"
   ]
  },
  {
   "cell_type": "code",
   "execution_count": null,
   "id": "9f99ef50-df76-42a2-9608-9a425c57fb73",
   "metadata": {},
   "outputs": [],
   "source": []
  },
  {
   "cell_type": "code",
   "execution_count": null,
   "id": "a1ee4518-5897-4e42-8ea8-1682ee425129",
   "metadata": {},
   "outputs": [],
   "source": [
    "# Predict genomic offset for the left-out location\n",
    "new_env <- env[test_samples, ]\n",
    "genomic_offset <- predict(gfRef, new_env)\n",
    "\n",
    "# Display results\n",
    "print(genomic_offset)\n",
    "\n",
    "# Save the genomic offset predictions\n",
    "write.csv(genomic_offset, file = paste0(\"genomic_offset_\", test_samples, \".csv\"), row.names = FALSE)"
   ]
  },
  {
   "cell_type": "code",
   "execution_count": null,
   "id": "6ebcfaff-4219-4523-af6b-cafa443c648e",
   "metadata": {},
   "outputs": [],
   "source": []
  },
  {
   "cell_type": "code",
   "execution_count": null,
   "id": "5f2e0931-2b54-4c64-9074-40d0aa587167",
   "metadata": {},
   "outputs": [],
   "source": [
    "maxLevel <- log2(0.368*nrow(envGF)/2) #account for correlations, see ?gradientForest \n",
    "\n",
    "# Fit gf models for reference SNPs \n",
    "gfRef <- gradientForest(cbind(env, delta_p), predictor.vars=colnames(env),\n",
    "                         response.vars=colnames(delta_p), ntree=500, \n",
    "                         maxLevel=maxLevel, trace=T, corr.threshold=0.50)\n"
   ]
  }
 ],
 "metadata": {
  "kernelspec": {
   "display_name": "R",
   "language": "R",
   "name": "ir"
  },
  "language_info": {
   "codemirror_mode": "r",
   "file_extension": ".r",
   "mimetype": "text/x-r-source",
   "name": "R",
   "pygments_lexer": "r",
   "version": "4.2.3"
  }
 },
 "nbformat": 4,
 "nbformat_minor": 5
}
