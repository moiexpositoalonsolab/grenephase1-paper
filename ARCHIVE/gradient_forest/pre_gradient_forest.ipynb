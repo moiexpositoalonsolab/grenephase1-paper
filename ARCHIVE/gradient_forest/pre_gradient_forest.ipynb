{
 "cells": [
  {
   "cell_type": "code",
   "execution_count": 1,
   "id": "966fff0d-f11c-4635-ba7d-58aaf14d1800",
   "metadata": {},
   "outputs": [
    {
     "name": "stderr",
     "output_type": "stream",
     "text": [
      "/tmp/ipykernel_962089/3842437144.py:1: DeprecationWarning: \n",
      "Pyarrow will become a required dependency of pandas in the next major release of pandas (pandas 3.0),\n",
      "(to allow more performant data types, such as the Arrow string type, and better interoperability with other libraries)\n",
      "but was not found to be installed on your system.\n",
      "If this would cause problems for you,\n",
      "please provide us feedback at https://github.com/pandas-dev/pandas/issues/54466\n",
      "        \n",
      "  import pandas as pd\n"
     ]
    }
   ],
   "source": [
    "import pandas as pd\n",
    "import pickle"
   ]
  },
  {
   "cell_type": "code",
   "execution_count": 2,
   "id": "ee3d5edf-4cb3-4048-85ea-a71f210828d3",
   "metadata": {},
   "outputs": [],
   "source": [
    "file_path = '../jacknife_first_gen/splits_samples_first_gen.pkl'"
   ]
  },
  {
   "cell_type": "code",
   "execution_count": 3,
   "id": "13238ab0-fa29-4a7f-9ea1-bdfd572fcd3a",
   "metadata": {},
   "outputs": [],
   "source": [
    "with open(file_path, 'rb') as file:\n",
    "    splits_samples = pickle.load(file)"
   ]
  },
  {
   "cell_type": "code",
   "execution_count": 4,
   "id": "0ee05db2-f6e1-48b0-ae6d-b80572a61a96",
   "metadata": {},
   "outputs": [
    {
     "data": {
      "text/plain": [
       "['1_1_1',\n",
       " '1_1_2',\n",
       " '1_1_3',\n",
       " '1_1_4',\n",
       " '1_1_5',\n",
       " '1_1_6',\n",
       " '1_1_7',\n",
       " '1_1_8',\n",
       " '1_1_9',\n",
       " '1_1_10',\n",
       " '1_1_11',\n",
       " '1_1_12']"
      ]
     },
     "execution_count": 4,
     "metadata": {},
     "output_type": "execute_result"
    }
   ],
   "source": [
    "splits_samples[0][1]"
   ]
  },
  {
   "cell_type": "code",
   "execution_count": 5,
   "id": "298da81e-178e-48d5-bd91-cd1cd691b763",
   "metadata": {},
   "outputs": [],
   "source": [
    "clim_sites_during_exp = pd.read_csv('../key_files/bioclimvars_sites_era5_year_2018.csv')"
   ]
  },
  {
   "cell_type": "code",
   "execution_count": 6,
   "id": "d3f4e0af-98c4-4397-a25f-6aac0b05e1bd",
   "metadata": {},
   "outputs": [],
   "source": [
    "# Extract train and test samples\n",
    "train_samples = splits_samples[0][0]\n",
    "test_samples = splits_samples[0][1]\n",
    "\n",
    "# Convert to DataFrame\n",
    "df_train = pd.DataFrame({'train_samples': train_samples})\n",
    "df_test = pd.DataFrame({'test_samples': test_samples})\n",
    "\n",
    "# Save to CSV\n",
    "df_train.to_csv(\"train_samples.csv\", index=False)\n",
    "df_test.to_csv(\"test_samples.csv\", index=False)"
   ]
  },
  {
   "cell_type": "code",
   "execution_count": null,
   "id": "236b5b5a-83b0-47ab-9e15-a01f7bbab8e7",
   "metadata": {},
   "outputs": [],
   "source": []
  },
  {
   "cell_type": "code",
   "execution_count": 27,
   "id": "d63be8ff-7245-4120-8178-cac9cd171658",
   "metadata": {},
   "outputs": [],
   "source": [
    "train_samples = pd.read_csv(\"train_samples.csv\")"
   ]
  },
  {
   "cell_type": "code",
   "execution_count": 28,
   "id": "733146fb-4c49-408c-abdb-b976ca6d4923",
   "metadata": {},
   "outputs": [],
   "source": [
    "train_samples['site'] = train_samples['train_samples'].str.split('_').str[0].astype(int)"
   ]
  },
  {
   "cell_type": "code",
   "execution_count": 29,
   "id": "93637b7b-c7ff-449c-a5e4-07f677330898",
   "metadata": {},
   "outputs": [],
   "source": [
    "train_df = train_samples.merge(clim_sites_during_exp, on= 'site')"
   ]
  },
  {
   "cell_type": "code",
   "execution_count": 33,
   "id": "b9e6610e-35d9-4181-a733-7b52ea82d12e",
   "metadata": {},
   "outputs": [],
   "source": [
    "train_df = train_df.drop(['train_samples', 'site'],axis=1)"
   ]
  },
  {
   "cell_type": "code",
   "execution_count": 34,
   "id": "0dce9ab8-48fd-4f20-b5ac-638e76dde998",
   "metadata": {},
   "outputs": [],
   "source": [
    "train_df.to_csv('env_train.csv',index=None)"
   ]
  },
  {
   "cell_type": "code",
   "execution_count": null,
   "id": "86b68e1e-62f9-48c4-a0fc-11602c65af5a",
   "metadata": {},
   "outputs": [],
   "source": []
  },
  {
   "cell_type": "code",
   "execution_count": 11,
   "id": "2e0141bf-9574-4607-98e7-abdecbc2ee9d",
   "metadata": {},
   "outputs": [],
   "source": [
    "test_samples = pd.read_csv(\"test_samples.csv\")\n",
    "test_site = int(test_samples['test_samples'].str.split('_').str[0].unique()[0])\n",
    "test_df = clim_sites_during_exp[clim_sites_during_exp['site'] == test_site]"
   ]
  },
  {
   "cell_type": "code",
   "execution_count": 12,
   "id": "0250995b-b622-4b1c-a6ac-d4136d6123fb",
   "metadata": {},
   "outputs": [],
   "source": [
    "test_df.to_csv('env_test.csv',index=None)"
   ]
  },
  {
   "cell_type": "code",
   "execution_count": null,
   "id": "93ef4c33-e35c-4667-94d9-a1536ab4e36d",
   "metadata": {},
   "outputs": [],
   "source": []
  },
  {
   "cell_type": "code",
   "execution_count": null,
   "id": "04570d21-b979-4a50-bddc-20b950d21280",
   "metadata": {},
   "outputs": [],
   "source": []
  }
 ],
 "metadata": {
  "kernelspec": {
   "display_name": "Python 3 (ipykernel)",
   "language": "python",
   "name": "python3"
  },
  "language_info": {
   "codemirror_mode": {
    "name": "ipython",
    "version": 3
   },
   "file_extension": ".py",
   "mimetype": "text/x-python",
   "name": "python",
   "nbconvert_exporter": "python",
   "pygments_lexer": "ipython3",
   "version": "3.11.4"
  }
 },
 "nbformat": 4,
 "nbformat_minor": 5
}
