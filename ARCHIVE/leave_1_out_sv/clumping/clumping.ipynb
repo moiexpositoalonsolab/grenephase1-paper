{
 "cells": [
  {
   "cell_type": "code",
   "execution_count": 2,
   "id": "6d58ca88-4662-41f1-893c-e93951319c90",
   "metadata": {},
   "outputs": [],
   "source": [
    "import numpy as np\n",
    "import pandas as pd\n",
    "import os\n",
    "import pickle"
   ]
  },
  {
   "cell_type": "code",
   "execution_count": 3,
   "id": "13ad6992-d1bb-48e2-81ff-bacb6a80fa83",
   "metadata": {},
   "outputs": [],
   "source": [
    "def find_files(directory, filename):\n",
    "    \"\"\"\n",
    "    Search for files with a specific name within all subdirectories of a given directory.\n",
    "\n",
    "    Parameters:\n",
    "        directory (str): The root directory from which to start the search.\n",
    "        filename (str): The name of the file to search for.\n",
    "\n",
    "    Returns:\n",
    "        list: A list of full paths to the files that match the given filename.\n",
    "    \"\"\"\n",
    "    matches = []  # List to store the full paths of matching files\n",
    "    for root, dirs, files in os.walk(directory):\n",
    "        if filename in files:\n",
    "            full_path = os.path.join(root, filename)\n",
    "            matches.append(full_path)\n",
    "    return matches\n",
    "\n",
    "# Usage example\n",
    "root_directory = '/carnegie/nobackup/scratch/tbellagio/gea_grene-net/leave_1_out_sv/'  # Update this to the directory you want to search\n",
    "\n",
    "def load_datav1(file_path):\n",
    "    with open(file_path, 'rb') as file:\n",
    "        data = pickle.load(file)\n",
    "    return set(data['V1'])"
   ]
  },
  {
   "cell_type": "code",
   "execution_count": 4,
   "id": "c76ab183-45c1-4fdf-a8e8-79c655143597",
   "metadata": {},
   "outputs": [],
   "source": [
    "root_directory = '/carnegie/nobackup/scratch/tbellagio/gea_grene-net/leave_1_out_sv/'  # Update this to the directory you want to search\n",
    "target_filename = 'snps_indices_bio1.csv'\n",
    "snps_indices_bio1_files = find_files(root_directory, target_filename)"
   ]
  },
  {
   "cell_type": "code",
   "execution_count": 7,
   "id": "04d351ae-231a-42cc-b01d-886e5e08bd62",
   "metadata": {},
   "outputs": [
    {
     "data": {
      "text/plain": [
       "'/carnegie/nobackup/scratch/tbellagio/gea_grene-net/leave_1_out_sv/split_number_6/snps_indices_bio1.csv'"
      ]
     },
     "execution_count": 7,
     "metadata": {},
     "output_type": "execute_result"
    }
   ],
   "source": [
    "snps_indices_bio1_files[0]"
   ]
  },
  {
   "cell_type": "code",
   "execution_count": 8,
   "id": "84b2cd5c-d4aa-44d5-aca1-06483644f1e4",
   "metadata": {},
   "outputs": [],
   "source": [
    "snps_indices_bio1 = pd.read_csv(snps_indices_bio1_files[0])\n"
   ]
  },
  {
   "cell_type": "code",
   "execution_count": 9,
   "id": "6489fd86-e8bd-42c4-9c1a-275888a0cb94",
   "metadata": {},
   "outputs": [],
   "source": [
    "snps_0index = snps_indices_bio1['x'] - 1 "
   ]
  },
  {
   "cell_type": "code",
   "execution_count": 10,
   "id": "c97d3652-1d74-40b0-8e9d-7fd49fb5c624",
   "metadata": {},
   "outputs": [
    {
     "name": "stderr",
     "output_type": "stream",
     "text": [
      "/home/tbellagio/.local/lib/python3.9/site-packages/scipy/__init__.py:146: UserWarning: A NumPy version >=1.17.3 and <1.25.0 is required for this version of SciPy (detected version 1.26.4\n",
      "  warnings.warn(f\"A NumPy version >={np_minversion} and <{np_maxversion}\"\n"
     ]
    }
   ],
   "source": [
    "## get the vcf file frothe chromosomes and positions \n",
    "import allel\n",
    "## ld pruned vcf file\n",
    "vcf_file = '/carnegie/nobackup/scratch/xwu/grenet/hapFIRE_updatedVCF/greneNet_final_v1.1.recode.vcf'\n",
    "vcf = allel.read_vcf(vcf_file)"
   ]
  },
  {
   "cell_type": "code",
   "execution_count": 11,
   "id": "9c22a469-4b43-4118-8eee-3a05eb3dc25d",
   "metadata": {},
   "outputs": [],
   "source": [
    "variants = vcf['calldata/GT']\n",
    "pos = vcf['variants/POS']\n",
    "chrom = vcf['variants/CHROM']"
   ]
  },
  {
   "cell_type": "code",
   "execution_count": 12,
   "id": "d8c042df-9560-40c2-980c-63b7ece72289",
   "metadata": {},
   "outputs": [],
   "source": [
    "for split_number in range(100):\n",
    "    snps_indices_bio1_file = f'/carnegie/nobackup/scratch/tbellagio/gea_grene-net/leave_1_out_sv/split_number_{split_number}/snps_indices_bio1.csv'\n",
    "    output = f'/carnegie/nobackup/scratch/tbellagio/gea_grene-net/leave_1_out_sv/split_number_{split_number}/input_clumping.txt'\n",
    "    dict_rpos_index0_file = f'/carnegie/nobackup/scratch/tbellagio/gea_grene-net/leave_1_out_sv/split_number_{split_number}/dict_rpos_index0.pkl'\n",
    "    \n",
    "    snps_indices_bio1 = pd.read_csv(snps_indices_bio1_file)\n",
    "    snps_0index = snps_indices_bio1['x'] - 1 \n",
    "    chr_selected = pd.Series(chrom).iloc[snps_0index.to_list()]\n",
    "    pos_selected = pd.Series(pos).iloc[snps_0index.to_list()]\n",
    "    pos_selected = chr_selected.astype(str) + '_' + pos_selected.astype(str)\n",
    "    pos_selected = pos_selected.reset_index(drop=True)\n",
    "\n",
    "    dict_rpos_index0 = dict(zip(pos_selected, snps_0index))\n",
    "\n",
    "    ## save the pikl relating the index0  with the actual snp id \n",
    "    with open(dict_rpos_index0_file, 'wb') as f:\n",
    "        pickle.dump(dict_rpos_index0, f)  \n",
    "    \n",
    "    p_values = [0.0001] * len(pos_selected)  # All p-values are set to be significantly low\n",
    "    # Creating a list of tuples combining SNP IDs with their p-values\n",
    "    snp_p_values = list(zip(pos_selected, p_values))\n",
    "    # Writing the SNP ID and p-value pairs to a text file\n",
    "    \n",
    "    with open(output, 'w') as file:\n",
    "        # Write the header\n",
    "        file.write(\"SNP P\\n\")  # Assuming you want headers named 'SNP' and 'P'\n",
    "        for snp_id, p_value in snp_p_values:\n",
    "            file.write(f\"{snp_id} {p_value}\\n\")"
   ]
  },
  {
   "cell_type": "code",
   "execution_count": null,
   "id": "f6cdaa81-73a3-4282-94be-ebd8a3c63dcc",
   "metadata": {},
   "outputs": [],
   "source": []
  },
  {
   "cell_type": "code",
   "execution_count": 13,
   "id": "f9808017-e908-46bd-8e06-5a3e6116fbc9",
   "metadata": {},
   "outputs": [],
   "source": [
    "root_directory = '/carnegie/nobackup/scratch/tbellagio/gea_grene-net/leave_1_out_sv/'  # Update this to the directory you want to search\n",
    "target_filename = 'dict_rpos_index0.pkl'\n",
    "dict_rpos_index0_files = find_files(root_directory, target_filename)"
   ]
  },
  {
   "cell_type": "code",
   "execution_count": 14,
   "id": "dea050ca-2f57-4dd8-8845-1c9bded25973",
   "metadata": {},
   "outputs": [],
   "source": [
    "root_directory = '/carnegie/nobackup/scratch/tbellagio/gea_grene-net/leave_1_out_sv/'  # Update this to the directory you want to search\n",
    "target_filename = 'input_clumping.txt'\n",
    "input_clumping_files = find_files(root_directory, target_filename)"
   ]
  },
  {
   "cell_type": "code",
   "execution_count": null,
   "id": "4c65fda5-ca3a-4d04-bf4e-9bc4237ea53e",
   "metadata": {},
   "outputs": [],
   "source": []
  },
  {
   "cell_type": "code",
   "execution_count": 5,
   "id": "a994c4fe-1ed5-4a4c-8cce-fb70239e2fa1",
   "metadata": {},
   "outputs": [],
   "source": [
    "\n",
    "root_directory = '/carnegie/nobackup/scratch/tbellagio/gea_grene-net/leave_1_out_sv/'  # Update this to the directory you want to search\n",
    "target_filename = 'output_clumping.clumped'\n",
    "output_clumping_files = find_files(root_directory, target_filename)"
   ]
  },
  {
   "cell_type": "code",
   "execution_count": 8,
   "id": "13e22053-9918-4f64-b039-def330a673c8",
   "metadata": {},
   "outputs": [],
   "source": [
    "root_directory = '/carnegie/nobackup/scratch/tbellagio/gea_grene-net/leave_1_out_sv/'  # Update this to the directory you want to search\n",
    "target_filename = 'snps_indices_bio1.csv'\n",
    "snps_indices_bio1_files = find_files(root_directory, target_filename)"
   ]
  },
  {
   "cell_type": "code",
   "execution_count": 7,
   "id": "6642a590-4e75-4dd1-a7c7-3babb10c6769",
   "metadata": {
    "scrolled": true
   },
   "outputs": [
    {
     "data": {
      "text/plain": [
       "99"
      ]
     },
     "execution_count": 7,
     "metadata": {},
     "output_type": "execute_result"
    }
   ],
   "source": [
    "len(output_clumping_files)"
   ]
  },
  {
   "cell_type": "code",
   "execution_count": 14,
   "id": "4eca8ff4-202f-4ca6-892a-dde094643a16",
   "metadata": {},
   "outputs": [
    {
     "data": {
      "text/plain": [
       "('/carnegie/nobackup/scratch/tbellagio/gea_grene-net/leave_1_out_sv/split_number_/carnegie/nobackup/scratch/tbellagio/gea_grene-net/leave_1_out_sv/split_number_6/output_clumping.clumped/snps_indices_bio1.csv',)"
      ]
     },
     "execution_count": 14,
     "metadata": {},
     "output_type": "execute_result"
    }
   ],
   "source": [
    "snps_f"
   ]
  },
  {
   "cell_type": "code",
   "execution_count": 22,
   "id": "bc277071-1d0d-48dc-a4ed-6e4cf69c50a8",
   "metadata": {},
   "outputs": [
    {
     "name": "stdout",
     "output_type": "stream",
     "text": [
      "129\n",
      "0.19398496240601504\n",
      "1014\n",
      "0.16118264186933715\n",
      "237\n",
      "0.1975\n",
      "2600\n",
      "0.10473735095069288\n",
      "1411\n",
      "0.15173674588665448\n",
      "134\n",
      "0.22445561139028475\n",
      "196\n",
      "0.2792022792022792\n",
      "539\n",
      "0.14603088593876998\n",
      "5577\n",
      "0.13514757912082587\n",
      "151\n",
      "0.360381861575179\n",
      "93\n",
      "0.35361216730038025\n",
      "425\n",
      "0.13639281129653402\n",
      "174\n",
      "0.2373806275579809\n",
      "1260\n",
      "0.08344370860927153\n",
      "188\n",
      "0.126770060687795\n",
      "1246\n",
      "0.31165582791395696\n",
      "220\n",
      "0.2033271719038817\n",
      "129\n",
      "0.20607028753993611\n",
      "113\n",
      "0.18167202572347266\n",
      "85\n",
      "0.2891156462585034\n",
      "178\n",
      "0.1345427059712774\n",
      "381\n",
      "0.3407871198568873\n",
      "265\n",
      "0.1628764597418562\n",
      "57\n",
      "0.18874172185430463\n",
      "436\n",
      "0.24303232998885171\n",
      "179\n",
      "0.30134680134680136\n",
      "371\n",
      "0.13446901051105473\n",
      "244\n",
      "0.14219114219114218\n",
      "145\n",
      "0.17386091127098321\n",
      "1039\n",
      "0.1392015005359057\n",
      "221\n",
      "0.1758154335719968\n",
      "181\n",
      "0.14715447154471545\n",
      "10583\n",
      "0.19689668644998046\n",
      "702\n",
      "0.14996795556505021\n",
      "178\n",
      "0.24054054054054055\n",
      "453\n",
      "0.18859283930058285\n",
      "46\n",
      "0.35658914728682173\n",
      "3281\n",
      "0.12671867758380967\n",
      "331\n",
      "0.15107256960292104\n",
      "348\n",
      "0.13953488372093023\n",
      "247\n",
      "0.34691011235955055\n",
      "685\n",
      "0.15856481481481483\n",
      "531\n",
      "0.1767054908485857\n",
      "33\n",
      "0.2682926829268293\n",
      "177\n",
      "0.29401993355481726\n",
      "636\n",
      "0.1751101321585903\n",
      "147\n",
      "0.2\n",
      "176\n",
      "0.2948073701842546\n",
      "1755\n",
      "0.10509611353973292\n",
      "93\n",
      "0.16230366492146597\n",
      "180\n",
      "0.17029328287606432\n",
      "90\n",
      "0.24861878453038674\n",
      "105\n",
      "0.3523489932885906\n",
      "200\n",
      "0.23952095808383234\n",
      "1252\n",
      "0.15609026305946888\n",
      "128\n",
      "0.29906542056074764\n",
      "264\n",
      "0.1952662721893491\n",
      "728\n",
      "0.13679068019541527\n",
      "164\n",
      "0.23066104078762306\n",
      "2929\n",
      "0.10181451612903226\n",
      "983\n",
      "0.18126498248202103\n",
      "196\n",
      "0.22764227642276422\n",
      "176\n",
      "0.09723756906077348\n",
      "133\n",
      "0.1309055118110236\n",
      "4823\n",
      "0.15356938164681908\n",
      "178\n",
      "0.12250516173434274\n",
      "776\n",
      "0.23171095849507314\n",
      "285\n",
      "0.16002245929253228\n",
      "336\n",
      "0.1423125794155019\n",
      "410\n",
      "0.34053156146179403\n",
      "162\n",
      "0.12385321100917432\n",
      "882\n",
      "0.1781818181818182\n",
      "3031\n",
      "0.24281022190178642\n",
      "294\n",
      "0.15217391304347827\n",
      "469\n",
      "0.24313115603939867\n",
      "234\n",
      "0.15885947046843177\n",
      "178\n",
      "0.12250516173434274\n",
      "382\n",
      "0.1347442680776014\n",
      "64\n",
      "0.2857142857142857\n",
      "82\n",
      "0.43157894736842106\n",
      "196\n",
      "0.21899441340782122\n",
      "7922\n",
      "0.10095449274254183\n",
      "740\n",
      "0.23417721518987342\n",
      "2285\n",
      "0.1137155369762118\n",
      "1632\n",
      "0.09632865069059143\n",
      "225\n",
      "0.20891364902506965\n",
      "2346\n",
      "0.11927398444252377\n",
      "153\n",
      "0.17191011235955056\n",
      "60\n",
      "0.4838709677419355\n",
      "167\n",
      "0.28942807625649913\n",
      "302\n",
      "0.15032354405176704\n",
      "413\n",
      "0.1348351289585374\n",
      "33\n",
      "0.1783783783783784\n",
      "824\n",
      "0.1478292070326516\n",
      "202\n",
      "0.14962962962962964\n",
      "123\n",
      "0.27455357142857145\n",
      "308\n",
      "0.2662057044079516\n",
      "4099\n",
      "0.11627379230136442\n",
      "127\n",
      "0.3518005540166205\n"
     ]
    }
   ],
   "source": [
    "for i in range(100):\n",
    "    snps_f = f'/carnegie/nobackup/scratch/tbellagio/gea_grene-net/leave_1_out_sv/split_number_{i}/snps_indices_bio1.csv'\n",
    "    snps = pd.read_csv(snps_f)\n",
    "    #print(len(snps))\n",
    "    if len(snps) == 0:\n",
    "        pass\n",
    "    else:\n",
    "        clumps_f = f'/carnegie/nobackup/scratch/tbellagio/gea_grene-net/leave_1_out_sv/split_number_{i}/output_clumping.clumped'\n",
    "        clumps = pd.read_csv(clumps_f, delim_whitespace=True)\n",
    "        print(len(clumps))\n",
    "        print(len(clumps)/ len(snps))"
   ]
  },
  {
   "cell_type": "code",
   "execution_count": null,
   "id": "7b06482d-ad76-479e-adac-0d608187d323",
   "metadata": {},
   "outputs": [],
   "source": []
  },
  {
   "cell_type": "code",
   "execution_count": null,
   "id": "586ce6c4-81be-4434-a7f8-560ffb007285",
   "metadata": {},
   "outputs": [],
   "source": []
  },
  {
   "cell_type": "code",
   "execution_count": null,
   "id": "ff767927-b9b9-4aa6-99f7-51f146898550",
   "metadata": {},
   "outputs": [],
   "source": [
    "plink \n",
    "--bfile grenenet_og \n",
    "--clump /carnegie/nobackup/scratch/tbellagio/gea_grene-net/leave_1_out/split_number_82/input_clumping.txt \n",
    "--clump-p1 0.05 \n",
    "--clump-r2 0.5 \n",
    "--out /carnegie/nobackup/scratch/tbellagio/gea_grene-net/leave_1_out/split_number_82/output_clumping"
   ]
  },
  {
   "cell_type": "code",
   "execution_count": null,
   "id": "f33ad3fe-8e88-4a80-9a2c-9028c06e6d2d",
   "metadata": {},
   "outputs": [],
   "source": []
  },
  {
   "cell_type": "code",
   "execution_count": 80,
   "id": "a086d9b0-0e52-4912-8d85-efe3bcd0ed63",
   "metadata": {},
   "outputs": [
    {
     "data": {
      "text/plain": [
       "'/carnegie/nobackup/scratch/tbellagio/gea_grene-net/leave_1_out/split_number_82/input_clumping.txt'"
      ]
     },
     "execution_count": 80,
     "metadata": {},
     "output_type": "execute_result"
    }
   ],
   "source": [
    "input_clumping_files[0]"
   ]
  },
  {
   "cell_type": "code",
   "execution_count": 86,
   "id": "11aed8c2-e306-4250-81c4-1123df4bfc62",
   "metadata": {},
   "outputs": [
    {
     "name": "stdout",
     "output_type": "stream",
     "text": [
      "/carnegie/nobackup/scratch/tbellagio/gea_grene-net/leave_1_out/clumping\n"
     ]
    }
   ],
   "source": [
    "!pwd"
   ]
  },
  {
   "cell_type": "code",
   "execution_count": 89,
   "id": "ae4f60b3-c643-4070-a6e1-07c301dad139",
   "metadata": {},
   "outputs": [],
   "source": [
    "clumped_data = pd.read_csv('split82.clumped', delim_whitespace=True)"
   ]
  },
  {
   "cell_type": "code",
   "execution_count": 92,
   "id": "ca2367a6-ce93-4c6b-b6ad-34fec695fa2c",
   "metadata": {},
   "outputs": [
    {
     "data": {
      "text/plain": [
       "array([1])"
      ]
     },
     "execution_count": 92,
     "metadata": {},
     "output_type": "execute_result"
    }
   ],
   "source": [
    "clumped_data['F'].unique()"
   ]
  },
  {
   "cell_type": "code",
   "execution_count": 93,
   "id": "09b23130-cf16-4b41-98dd-7bef54256520",
   "metadata": {},
   "outputs": [
    {
     "data": {
      "text/html": [
       "<div>\n",
       "<style scoped>\n",
       "    .dataframe tbody tr th:only-of-type {\n",
       "        vertical-align: middle;\n",
       "    }\n",
       "\n",
       "    .dataframe tbody tr th {\n",
       "        vertical-align: top;\n",
       "    }\n",
       "\n",
       "    .dataframe thead th {\n",
       "        text-align: right;\n",
       "    }\n",
       "</style>\n",
       "<table border=\"1\" class=\"dataframe\">\n",
       "  <thead>\n",
       "    <tr style=\"text-align: right;\">\n",
       "      <th></th>\n",
       "      <th>CHR</th>\n",
       "      <th>F</th>\n",
       "      <th>SNP</th>\n",
       "      <th>BP</th>\n",
       "      <th>P</th>\n",
       "      <th>TOTAL</th>\n",
       "      <th>NSIG</th>\n",
       "      <th>S05</th>\n",
       "      <th>S01</th>\n",
       "      <th>S001</th>\n",
       "      <th>S0001</th>\n",
       "      <th>SP2</th>\n",
       "    </tr>\n",
       "  </thead>\n",
       "  <tbody>\n",
       "    <tr>\n",
       "      <th>0</th>\n",
       "      <td>1</td>\n",
       "      <td>1</td>\n",
       "      <td>1_194098</td>\n",
       "      <td>194098</td>\n",
       "      <td>0.0001</td>\n",
       "      <td>0</td>\n",
       "      <td>0</td>\n",
       "      <td>0</td>\n",
       "      <td>0</td>\n",
       "      <td>0</td>\n",
       "      <td>0</td>\n",
       "      <td>NONE</td>\n",
       "    </tr>\n",
       "    <tr>\n",
       "      <th>1</th>\n",
       "      <td>1</td>\n",
       "      <td>1</td>\n",
       "      <td>1_349186</td>\n",
       "      <td>349186</td>\n",
       "      <td>0.0001</td>\n",
       "      <td>32</td>\n",
       "      <td>0</td>\n",
       "      <td>0</td>\n",
       "      <td>0</td>\n",
       "      <td>32</td>\n",
       "      <td>0</td>\n",
       "      <td>1_349208(1),1_349211(1),1_349223(1),1_349437(1...</td>\n",
       "    </tr>\n",
       "    <tr>\n",
       "      <th>2</th>\n",
       "      <td>1</td>\n",
       "      <td>1</td>\n",
       "      <td>1_863771</td>\n",
       "      <td>863771</td>\n",
       "      <td>0.0001</td>\n",
       "      <td>0</td>\n",
       "      <td>0</td>\n",
       "      <td>0</td>\n",
       "      <td>0</td>\n",
       "      <td>0</td>\n",
       "      <td>0</td>\n",
       "      <td>NONE</td>\n",
       "    </tr>\n",
       "    <tr>\n",
       "      <th>3</th>\n",
       "      <td>1</td>\n",
       "      <td>1</td>\n",
       "      <td>1_902148</td>\n",
       "      <td>902148</td>\n",
       "      <td>0.0001</td>\n",
       "      <td>2</td>\n",
       "      <td>0</td>\n",
       "      <td>0</td>\n",
       "      <td>0</td>\n",
       "      <td>2</td>\n",
       "      <td>0</td>\n",
       "      <td>1_902996(1),1_903072(1)</td>\n",
       "    </tr>\n",
       "    <tr>\n",
       "      <th>4</th>\n",
       "      <td>1</td>\n",
       "      <td>1</td>\n",
       "      <td>1_909659</td>\n",
       "      <td>909659</td>\n",
       "      <td>0.0001</td>\n",
       "      <td>9</td>\n",
       "      <td>0</td>\n",
       "      <td>0</td>\n",
       "      <td>0</td>\n",
       "      <td>9</td>\n",
       "      <td>0</td>\n",
       "      <td>1_909948(1),1_911139(1),1_911144(1),1_911148(1...</td>\n",
       "    </tr>\n",
       "    <tr>\n",
       "      <th>...</th>\n",
       "      <td>...</td>\n",
       "      <td>...</td>\n",
       "      <td>...</td>\n",
       "      <td>...</td>\n",
       "      <td>...</td>\n",
       "      <td>...</td>\n",
       "      <td>...</td>\n",
       "      <td>...</td>\n",
       "      <td>...</td>\n",
       "      <td>...</td>\n",
       "      <td>...</td>\n",
       "      <td>...</td>\n",
       "    </tr>\n",
       "    <tr>\n",
       "      <th>567</th>\n",
       "      <td>5</td>\n",
       "      <td>1</td>\n",
       "      <td>5_26723006</td>\n",
       "      <td>26723006</td>\n",
       "      <td>0.0001</td>\n",
       "      <td>2</td>\n",
       "      <td>0</td>\n",
       "      <td>0</td>\n",
       "      <td>0</td>\n",
       "      <td>2</td>\n",
       "      <td>0</td>\n",
       "      <td>5_26725740(1),5_26728478(1)</td>\n",
       "    </tr>\n",
       "    <tr>\n",
       "      <th>568</th>\n",
       "      <td>5</td>\n",
       "      <td>1</td>\n",
       "      <td>5_26882706</td>\n",
       "      <td>26882706</td>\n",
       "      <td>0.0001</td>\n",
       "      <td>2</td>\n",
       "      <td>0</td>\n",
       "      <td>0</td>\n",
       "      <td>0</td>\n",
       "      <td>2</td>\n",
       "      <td>0</td>\n",
       "      <td>5_26891593(1),5_26902832(1)</td>\n",
       "    </tr>\n",
       "    <tr>\n",
       "      <th>569</th>\n",
       "      <td>5</td>\n",
       "      <td>1</td>\n",
       "      <td>5_26901427</td>\n",
       "      <td>26901427</td>\n",
       "      <td>0.0001</td>\n",
       "      <td>1</td>\n",
       "      <td>0</td>\n",
       "      <td>0</td>\n",
       "      <td>0</td>\n",
       "      <td>1</td>\n",
       "      <td>0</td>\n",
       "      <td>5_26901516(1)</td>\n",
       "    </tr>\n",
       "    <tr>\n",
       "      <th>570</th>\n",
       "      <td>5</td>\n",
       "      <td>1</td>\n",
       "      <td>5_26901571</td>\n",
       "      <td>26901571</td>\n",
       "      <td>0.0001</td>\n",
       "      <td>0</td>\n",
       "      <td>0</td>\n",
       "      <td>0</td>\n",
       "      <td>0</td>\n",
       "      <td>0</td>\n",
       "      <td>0</td>\n",
       "      <td>NONE</td>\n",
       "    </tr>\n",
       "    <tr>\n",
       "      <th>571</th>\n",
       "      <td>5</td>\n",
       "      <td>1</td>\n",
       "      <td>5_26918679</td>\n",
       "      <td>26918679</td>\n",
       "      <td>0.0001</td>\n",
       "      <td>0</td>\n",
       "      <td>0</td>\n",
       "      <td>0</td>\n",
       "      <td>0</td>\n",
       "      <td>0</td>\n",
       "      <td>0</td>\n",
       "      <td>NONE</td>\n",
       "    </tr>\n",
       "  </tbody>\n",
       "</table>\n",
       "<p>572 rows × 12 columns</p>\n",
       "</div>"
      ],
      "text/plain": [
       "     CHR  F         SNP        BP       P  TOTAL  NSIG  S05  S01  S001  S0001  \\\n",
       "0      1  1    1_194098    194098  0.0001      0     0    0    0     0      0   \n",
       "1      1  1    1_349186    349186  0.0001     32     0    0    0    32      0   \n",
       "2      1  1    1_863771    863771  0.0001      0     0    0    0     0      0   \n",
       "3      1  1    1_902148    902148  0.0001      2     0    0    0     2      0   \n",
       "4      1  1    1_909659    909659  0.0001      9     0    0    0     9      0   \n",
       "..   ... ..         ...       ...     ...    ...   ...  ...  ...   ...    ...   \n",
       "567    5  1  5_26723006  26723006  0.0001      2     0    0    0     2      0   \n",
       "568    5  1  5_26882706  26882706  0.0001      2     0    0    0     2      0   \n",
       "569    5  1  5_26901427  26901427  0.0001      1     0    0    0     1      0   \n",
       "570    5  1  5_26901571  26901571  0.0001      0     0    0    0     0      0   \n",
       "571    5  1  5_26918679  26918679  0.0001      0     0    0    0     0      0   \n",
       "\n",
       "                                                   SP2  \n",
       "0                                                 NONE  \n",
       "1    1_349208(1),1_349211(1),1_349223(1),1_349437(1...  \n",
       "2                                                 NONE  \n",
       "3                              1_902996(1),1_903072(1)  \n",
       "4    1_909948(1),1_911139(1),1_911144(1),1_911148(1...  \n",
       "..                                                 ...  \n",
       "567                        5_26725740(1),5_26728478(1)  \n",
       "568                        5_26891593(1),5_26902832(1)  \n",
       "569                                      5_26901516(1)  \n",
       "570                                               NONE  \n",
       "571                                               NONE  \n",
       "\n",
       "[572 rows x 12 columns]"
      ]
     },
     "execution_count": 93,
     "metadata": {},
     "output_type": "execute_result"
    }
   ],
   "source": [
    "clumped_data"
   ]
  },
  {
   "cell_type": "code",
   "execution_count": 69,
   "id": "20ed5074-7691-4ce6-9299-a34efcf44154",
   "metadata": {},
   "outputs": [],
   "source": []
  },
  {
   "cell_type": "code",
   "execution_count": null,
   "id": "f361a6c1-2c89-4dbc-943e-72724ae71356",
   "metadata": {},
   "outputs": [],
   "source": []
  },
  {
   "cell_type": "code",
   "execution_count": 70,
   "id": "a5aef4eb-b79e-4cc2-acb5-8085beedcc8f",
   "metadata": {},
   "outputs": [],
   "source": [
    "pos_selected = pos_selected.to_list()"
   ]
  },
  {
   "cell_type": "code",
   "execution_count": 71,
   "id": "47f5a05b-9a21-4a4e-9427-a868aca7019c",
   "metadata": {},
   "outputs": [],
   "source": [
    "\n"
   ]
  },
  {
   "cell_type": "code",
   "execution_count": null,
   "id": "b854cd91-28f5-47fe-a795-707c6afd6e57",
   "metadata": {},
   "outputs": [],
   "source": []
  },
  {
   "cell_type": "code",
   "execution_count": null,
   "id": "d9a33379-b171-4d55-8a2b-b6d788a46d4d",
   "metadata": {},
   "outputs": [],
   "source": [
    "genotype_counts_filt = genotype_counts.iloc[snps_0index.to_list(), :]"
   ]
  }
 ],
 "metadata": {
  "kernelspec": {
   "display_name": "Python (pipeline_snakemake)",
   "language": "python",
   "name": "pipeline_snakemake"
  },
  "language_info": {
   "codemirror_mode": {
    "name": "ipython",
    "version": 3
   },
   "file_extension": ".py",
   "mimetype": "text/x-python",
   "name": "python",
   "nbconvert_exporter": "python",
   "pygments_lexer": "ipython3",
   "version": "3.9.16"
  }
 },
 "nbformat": 4,
 "nbformat_minor": 5
}
