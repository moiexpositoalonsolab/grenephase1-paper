{
 "cells": [
  {
   "cell_type": "markdown",
   "id": "af16ccd7-1be8-44a1-9c71-30294f7660ff",
   "metadata": {},
   "source": [
    "Ok, so we are gonna take the whole dataset and then do a partition, training testing, with 80% training and 20% testing \n",
    "to see if we can actually predict the ecotypes frequenci or rank at each location "
   ]
  },
  {
   "cell_type": "code",
   "execution_count": null,
   "id": "7557cacd-f306-49be-ab01-b4a984c26054",
   "metadata": {},
   "outputs": [],
   "source": [
    "## teh frist one is going to be a leave one out approach for the sites vb"
   ]
  },
  {
   "cell_type": "code",
   "execution_count": 2,
   "id": "ccc065ed-f19c-4812-8127-a61fa4a45909",
   "metadata": {
    "scrolled": true
   },
   "outputs": [
    {
     "name": "stderr",
     "output_type": "stream",
     "text": [
      "/home/tbellagio/.local/lib/python3.9/site-packages/scipy/__init__.py:146: UserWarning: A NumPy version >=1.17.3 and <1.25.0 is required for this version of SciPy (detected version 1.26.4\n",
      "  warnings.warn(f\"A NumPy version >={np_minversion} and <{np_maxversion}\"\n"
     ]
    }
   ],
   "source": [
    "import numpy as np\n",
    "import pandas as pd\n",
    "from sklearn.decomposition import PCA\n",
    "from sklearn.preprocessing import StandardScaler\n",
    "import os\n",
    "import pickle\n",
    "import dask.dataframe as dd\n",
    "\n",
    "import numpy as np\n",
    "import statsmodels.api as sm\n",
    "import matplotlib.pyplot as plt\n",
    "import subprocess\n",
    "import random"
   ]
  },
  {
   "cell_type": "code",
   "execution_count": 3,
   "id": "6d205aa8-a96a-4839-b867-af6218ae12c3",
   "metadata": {},
   "outputs": [],
   "source": [
    "## for the final generation we have 31 unique sites\n",
    "# 31*0.8 is 24.8\n",
    "## so i am going to be using 25 for trianing and  6 for testing "
   ]
  },
  {
   "cell_type": "code",
   "execution_count": 4,
   "id": "572615f2-52fd-4ac0-ba56-dd21cb5a8e98",
   "metadata": {},
   "outputs": [],
   "source": [
    "with open('splits_samples.pkl', 'rb') as file:\n",
    "    # Load data from the file\n",
    "    splits_samples = pickle.load(file)"
   ]
  },
  {
   "cell_type": "code",
   "execution_count": 7,
   "id": "d7c5f42b-206e-4502-8e65-14d510c326c0",
   "metadata": {},
   "outputs": [],
   "source": []
  },
  {
   "cell_type": "code",
   "execution_count": 16,
   "id": "28a2fcd6-242b-4cfe-bbfa-502a05571e5c",
   "metadata": {},
   "outputs": [],
   "source": [
    "split_number = 0 "
   ]
  },
  {
   "cell_type": "code",
   "execution_count": 29,
   "id": "fd8ef802-e42f-42be-9e08-381527831b8a",
   "metadata": {},
   "outputs": [],
   "source": [
    "for split_number in range(100):\n",
    "    train_samples = splits_samples[split_number][0]\n",
    "    \n",
    "    test_samples = splits_samples[split_number][1]\n",
    "    \n",
    "    # File and directory setup\n",
    "    directory_name = f\"split_number_{split_number}\"\n",
    "    os.makedirs(directory_name, exist_ok=True)  # Creates the directory if it doesn't exist\n",
    "    \n",
    "    num_components = 2\n",
    "    # Open the file in write mode and write the integer with a newline character at the end\n",
    "    with open(f'split_number_{split_number}/num_components_full_genome.txt', 'w') as file:\n",
    "        file.write(f\"{num_components}\\n\")\n",
    "    \n",
    "    clim_sites_during_exp = pd.read_csv('/carnegie/nobackup/scratch/tbellagio/grene/data/bioclimvars_experimental_sites_era5.csv')\n",
    "    \n",
    "    sites_train = pd.Series(train_samples).str.split('_').str[0].astype(int)\n",
    "    \n",
    "    sites_train.name = 'site'\n",
    "    \n",
    "    sites_test = pd.Series(test_samples).str.split('_').str[0].astype(int)\n",
    "    \n",
    "    sites_test.name = 'site'\n",
    "    \n",
    "    env_train = sites_train.reset_index().merge(clim_sites_during_exp).drop(['index'],axis=1)\n",
    "    env_test = sites_test.reset_index().merge(clim_sites_during_exp).drop(['index'],axis=1)\n",
    "    \n",
    "    ## for now only work with bio1 and bio12 \n",
    "    env_train = env_train[['site', 'bio1', 'bio12']]\n",
    "    env_test = env_test[['site', 'bio1', 'bio12']]\n",
    "    \n",
    "    ##scale it\n",
    "    for i in env_train.columns[1:]:\n",
    "        mean_train = np.mean(env_train[i])\n",
    "        std_train = np.std(env_train[i])\n",
    "        env_train[i] = (env_train[i] - mean_train) / std_train\n",
    "    \n",
    "        env_test[i] = (env_test[i] - mean_train) / std_train\n",
    "    \n",
    "    ## delete the sites column\n",
    "    env_train = env_train.drop('site',axis=1)\n",
    "    \n",
    "    env_train.to_csv(f'split_number_{split_number}/environment_lea_full_genome.csv', sep = ',', index=False)\n",
    "    \n",
    "    env_test.to_csv(f'split_number_{split_number}/environment_test.csv', sep = ',', index=False)"
   ]
  },
  {
   "cell_type": "code",
   "execution_count": 52,
   "id": "4a97aa65-4a56-4d85-8746-5d23bdd89afa",
   "metadata": {},
   "outputs": [],
   "source": [
    "path_all_af_indexed = '/carnegie/nobackup/scratch/tbellagio/gea_grene-net/baypass_terminal/merged_hapFIRE_allele_frequency_indexed.csv'"
   ]
  },
  {
   "cell_type": "code",
   "execution_count": 53,
   "id": "a0b0b968-6665-4d4f-ba6a-c59b1521ec3d",
   "metadata": {},
   "outputs": [],
   "source": [
    "columns_right = [i for i in pd.read_csv(path_all_af_indexed,nrows=1, sep=',' ).columns if '_' in i]"
   ]
  },
  {
   "cell_type": "code",
   "execution_count": 49,
   "id": "277ac5e3-df7e-476c-966d-047da684aff7",
   "metadata": {},
   "outputs": [],
   "source": [
    "path_delta_p_normed = '/carnegie/nobackup/scratch/xwu/grenet/merged_frequency/merged_hapFIRE_delta_p_normed.txt'"
   ]
  },
  {
   "cell_type": "code",
   "execution_count": 50,
   "id": "4f50145d-95a4-41e6-9d79-4f9a97781079",
   "metadata": {},
   "outputs": [],
   "source": [
    "delta_p_normed = dd.read_csv(path_delta_p_normed, sep = '\\t')\n",
    "delta_p_normed = delta_p_normed.compute() "
   ]
  },
  {
   "cell_type": "code",
   "execution_count": 55,
   "id": "a5272a49-7e63-49a9-8b1b-a6871bd39f3f",
   "metadata": {},
   "outputs": [],
   "source": [
    "delta_p_normed.columns = columns_right"
   ]
  },
  {
   "cell_type": "code",
   "execution_count": 63,
   "id": "3f5d0ef3-c1f8-4b1d-b147-585a8dbf8781",
   "metadata": {},
   "outputs": [],
   "source": [
    "delta_p_normed = delta_p_normed.round(6)"
   ]
  },
  {
   "cell_type": "code",
   "execution_count": 64,
   "id": "89deecf9-1d15-4a52-904a-c98d1bb9c36c",
   "metadata": {},
   "outputs": [],
   "source": [
    "#delta_p_normed.to_csv('delta_p_normed.csv',index=None)"
   ]
  },
  {
   "cell_type": "code",
   "execution_count": null,
   "id": "024731af-7a43-44db-bf5f-bb231b344bc9",
   "metadata": {},
   "outputs": [],
   "source": []
  },
  {
   "cell_type": "code",
   "execution_count": null,
   "id": "a620818e-4b52-44a6-a539-6c8a05d4088c",
   "metadata": {},
   "outputs": [],
   "source": []
  },
  {
   "cell_type": "code",
   "execution_count": null,
   "id": "8883da6a-ca36-46e7-afa7-fa7e5f7d32cb",
   "metadata": {},
   "outputs": [],
   "source": []
  },
  {
   "cell_type": "code",
   "execution_count": 32,
   "id": "175d689a-f85e-41ac-aa8b-bbdb2602f157",
   "metadata": {},
   "outputs": [
    {
     "name": "stdout",
     "output_type": "stream",
     "text": [
      "/carnegie/nobackup/scratch/tbellagio/gea_grene-net/leave_1_out_sv\n"
     ]
    }
   ],
   "source": [
    "!pwd"
   ]
  },
  {
   "cell_type": "code",
   "execution_count": 5,
   "id": "5ae21388-ed00-4605-a800-2a6265945e29",
   "metadata": {},
   "outputs": [],
   "source": [
    "wd = '/carnegie/nobackup/scratch/tbellagio/gea_grene-net/leave_1_out_sv/sh_files/'"
   ]
  },
  {
   "cell_type": "code",
   "execution_count": 6,
   "id": "4b9375bc-3fd3-4acc-8dcd-215d96676b7d",
   "metadata": {
    "scrolled": true
   },
   "outputs": [],
   "source": [
    "\n",
    "\n",
    "# Assuming splits_samples is defined elsewhere\n",
    "shfiles = []\n",
    "for number, (train_samples, test_samples) in enumerate(splits_samples):\n",
    "    seed = random.randint(1, 100000000)\n",
    "    file = wd + f'split_{number}.sh'\n",
    "    train_samples_str = \" \".join(map(str, train_samples))  # map to str in case elements are not strings\n",
    "    # Format the commands with proper handling of list conversion to string\n",
    "    cmd1 = f\"python preproc_lfmm-full_genome.py {number} '{train_samples_str}'\"\n",
    "    cmd2 = f'Rscript run_lfmm_full_genome_ridge.r {number} \"{train_samples}\"'      # Pass necessary args to R script\n",
    "    text = f'''#!/bin/bash\n",
    "#SBATCH --job-name=split_{number}\n",
    "#SBATCH --time=4:00:00\n",
    "#SBATCH --nodes=1\n",
    "#SBATCH --ntasks=1\n",
    "#SBATCH --mem-per-cpu=120gb\n",
    "#SBATCH --cpus-per-task=2\n",
    "#SBATCH --output=split_{number}_%j.out\n",
    "#SBATCH --mail-user=tbellagio@carnegiescience.edu\n",
    "#SBATCH --mail-type=FAIL\n",
    "\n",
    "source /home/tbellagio/miniforge3/etc/profile.d/conda.sh\n",
    "\n",
    "export PATH=\"${{PATH}}:/home/username/bin\"\n",
    "\n",
    "cd /carnegie/nobackup/scratch/tbellagio/gea_grene-net/leave_1_out_sv\n",
    "\n",
    "conda activate /home/tbellagio/miniforge3/envs/r-environment\n",
    "{cmd2}\n",
    "'''\n",
    "\n",
    "    with open(file, 'w') as o:\n",
    "        o.write(text)\n",
    "    shfiles.append(file)\n",
    "    \n",
    "    # Launch the job\n",
    "\n"
   ]
  },
  {
   "cell_type": "code",
   "execution_count": null,
   "id": "64ae435c-66ae-4c2a-a8e6-a162365c9e3d",
   "metadata": {},
   "outputs": [],
   "source": [
    "conda activate /home/tbellagio/miniforge3/envs/pipeline_snakemake\n",
    "{cmd1}\n",
    "conda deactivate "
   ]
  },
  {
   "cell_type": "code",
   "execution_count": null,
   "id": "337551a1-e382-4698-a143-a5a74eb178e6",
   "metadata": {},
   "outputs": [],
   "source": []
  },
  {
   "cell_type": "code",
   "execution_count": 7,
   "id": "7a5e308b-0943-4cc9-a720-12205dab0b24",
   "metadata": {
    "scrolled": true
   },
   "outputs": [
    {
     "data": {
      "text/plain": [
       "'/carnegie/nobackup/scratch/tbellagio/gea_grene-net/leave_1_out_sv/sh_files/split_0.sh'"
      ]
     },
     "execution_count": 7,
     "metadata": {},
     "output_type": "execute_result"
    }
   ],
   "source": [
    "shfiles[0]"
   ]
  },
  {
   "cell_type": "code",
   "execution_count": 8,
   "id": "8eca7757-628c-44b7-bcb8-a63788cd7f3d",
   "metadata": {
    "scrolled": true
   },
   "outputs": [
    {
     "data": {
      "text/plain": [
       "['/carnegie/nobackup/scratch/tbellagio/gea_grene-net/leave_1_out_sv/sh_files/split_0.sh',\n",
       " '/carnegie/nobackup/scratch/tbellagio/gea_grene-net/leave_1_out_sv/sh_files/split_1.sh',\n",
       " '/carnegie/nobackup/scratch/tbellagio/gea_grene-net/leave_1_out_sv/sh_files/split_2.sh',\n",
       " '/carnegie/nobackup/scratch/tbellagio/gea_grene-net/leave_1_out_sv/sh_files/split_3.sh',\n",
       " '/carnegie/nobackup/scratch/tbellagio/gea_grene-net/leave_1_out_sv/sh_files/split_4.sh',\n",
       " '/carnegie/nobackup/scratch/tbellagio/gea_grene-net/leave_1_out_sv/sh_files/split_5.sh',\n",
       " '/carnegie/nobackup/scratch/tbellagio/gea_grene-net/leave_1_out_sv/sh_files/split_6.sh',\n",
       " '/carnegie/nobackup/scratch/tbellagio/gea_grene-net/leave_1_out_sv/sh_files/split_7.sh',\n",
       " '/carnegie/nobackup/scratch/tbellagio/gea_grene-net/leave_1_out_sv/sh_files/split_8.sh',\n",
       " '/carnegie/nobackup/scratch/tbellagio/gea_grene-net/leave_1_out_sv/sh_files/split_9.sh',\n",
       " '/carnegie/nobackup/scratch/tbellagio/gea_grene-net/leave_1_out_sv/sh_files/split_10.sh',\n",
       " '/carnegie/nobackup/scratch/tbellagio/gea_grene-net/leave_1_out_sv/sh_files/split_11.sh',\n",
       " '/carnegie/nobackup/scratch/tbellagio/gea_grene-net/leave_1_out_sv/sh_files/split_12.sh',\n",
       " '/carnegie/nobackup/scratch/tbellagio/gea_grene-net/leave_1_out_sv/sh_files/split_13.sh',\n",
       " '/carnegie/nobackup/scratch/tbellagio/gea_grene-net/leave_1_out_sv/sh_files/split_14.sh',\n",
       " '/carnegie/nobackup/scratch/tbellagio/gea_grene-net/leave_1_out_sv/sh_files/split_15.sh',\n",
       " '/carnegie/nobackup/scratch/tbellagio/gea_grene-net/leave_1_out_sv/sh_files/split_16.sh',\n",
       " '/carnegie/nobackup/scratch/tbellagio/gea_grene-net/leave_1_out_sv/sh_files/split_17.sh',\n",
       " '/carnegie/nobackup/scratch/tbellagio/gea_grene-net/leave_1_out_sv/sh_files/split_18.sh',\n",
       " '/carnegie/nobackup/scratch/tbellagio/gea_grene-net/leave_1_out_sv/sh_files/split_19.sh',\n",
       " '/carnegie/nobackup/scratch/tbellagio/gea_grene-net/leave_1_out_sv/sh_files/split_20.sh',\n",
       " '/carnegie/nobackup/scratch/tbellagio/gea_grene-net/leave_1_out_sv/sh_files/split_21.sh',\n",
       " '/carnegie/nobackup/scratch/tbellagio/gea_grene-net/leave_1_out_sv/sh_files/split_22.sh',\n",
       " '/carnegie/nobackup/scratch/tbellagio/gea_grene-net/leave_1_out_sv/sh_files/split_23.sh',\n",
       " '/carnegie/nobackup/scratch/tbellagio/gea_grene-net/leave_1_out_sv/sh_files/split_24.sh',\n",
       " '/carnegie/nobackup/scratch/tbellagio/gea_grene-net/leave_1_out_sv/sh_files/split_25.sh',\n",
       " '/carnegie/nobackup/scratch/tbellagio/gea_grene-net/leave_1_out_sv/sh_files/split_26.sh',\n",
       " '/carnegie/nobackup/scratch/tbellagio/gea_grene-net/leave_1_out_sv/sh_files/split_27.sh',\n",
       " '/carnegie/nobackup/scratch/tbellagio/gea_grene-net/leave_1_out_sv/sh_files/split_28.sh',\n",
       " '/carnegie/nobackup/scratch/tbellagio/gea_grene-net/leave_1_out_sv/sh_files/split_29.sh',\n",
       " '/carnegie/nobackup/scratch/tbellagio/gea_grene-net/leave_1_out_sv/sh_files/split_30.sh',\n",
       " '/carnegie/nobackup/scratch/tbellagio/gea_grene-net/leave_1_out_sv/sh_files/split_31.sh',\n",
       " '/carnegie/nobackup/scratch/tbellagio/gea_grene-net/leave_1_out_sv/sh_files/split_32.sh',\n",
       " '/carnegie/nobackup/scratch/tbellagio/gea_grene-net/leave_1_out_sv/sh_files/split_33.sh',\n",
       " '/carnegie/nobackup/scratch/tbellagio/gea_grene-net/leave_1_out_sv/sh_files/split_34.sh',\n",
       " '/carnegie/nobackup/scratch/tbellagio/gea_grene-net/leave_1_out_sv/sh_files/split_35.sh',\n",
       " '/carnegie/nobackup/scratch/tbellagio/gea_grene-net/leave_1_out_sv/sh_files/split_36.sh',\n",
       " '/carnegie/nobackup/scratch/tbellagio/gea_grene-net/leave_1_out_sv/sh_files/split_37.sh',\n",
       " '/carnegie/nobackup/scratch/tbellagio/gea_grene-net/leave_1_out_sv/sh_files/split_38.sh',\n",
       " '/carnegie/nobackup/scratch/tbellagio/gea_grene-net/leave_1_out_sv/sh_files/split_39.sh',\n",
       " '/carnegie/nobackup/scratch/tbellagio/gea_grene-net/leave_1_out_sv/sh_files/split_40.sh',\n",
       " '/carnegie/nobackup/scratch/tbellagio/gea_grene-net/leave_1_out_sv/sh_files/split_41.sh',\n",
       " '/carnegie/nobackup/scratch/tbellagio/gea_grene-net/leave_1_out_sv/sh_files/split_42.sh',\n",
       " '/carnegie/nobackup/scratch/tbellagio/gea_grene-net/leave_1_out_sv/sh_files/split_43.sh',\n",
       " '/carnegie/nobackup/scratch/tbellagio/gea_grene-net/leave_1_out_sv/sh_files/split_44.sh',\n",
       " '/carnegie/nobackup/scratch/tbellagio/gea_grene-net/leave_1_out_sv/sh_files/split_45.sh',\n",
       " '/carnegie/nobackup/scratch/tbellagio/gea_grene-net/leave_1_out_sv/sh_files/split_46.sh',\n",
       " '/carnegie/nobackup/scratch/tbellagio/gea_grene-net/leave_1_out_sv/sh_files/split_47.sh',\n",
       " '/carnegie/nobackup/scratch/tbellagio/gea_grene-net/leave_1_out_sv/sh_files/split_48.sh',\n",
       " '/carnegie/nobackup/scratch/tbellagio/gea_grene-net/leave_1_out_sv/sh_files/split_49.sh',\n",
       " '/carnegie/nobackup/scratch/tbellagio/gea_grene-net/leave_1_out_sv/sh_files/split_50.sh',\n",
       " '/carnegie/nobackup/scratch/tbellagio/gea_grene-net/leave_1_out_sv/sh_files/split_51.sh',\n",
       " '/carnegie/nobackup/scratch/tbellagio/gea_grene-net/leave_1_out_sv/sh_files/split_52.sh',\n",
       " '/carnegie/nobackup/scratch/tbellagio/gea_grene-net/leave_1_out_sv/sh_files/split_53.sh',\n",
       " '/carnegie/nobackup/scratch/tbellagio/gea_grene-net/leave_1_out_sv/sh_files/split_54.sh',\n",
       " '/carnegie/nobackup/scratch/tbellagio/gea_grene-net/leave_1_out_sv/sh_files/split_55.sh',\n",
       " '/carnegie/nobackup/scratch/tbellagio/gea_grene-net/leave_1_out_sv/sh_files/split_56.sh',\n",
       " '/carnegie/nobackup/scratch/tbellagio/gea_grene-net/leave_1_out_sv/sh_files/split_57.sh',\n",
       " '/carnegie/nobackup/scratch/tbellagio/gea_grene-net/leave_1_out_sv/sh_files/split_58.sh',\n",
       " '/carnegie/nobackup/scratch/tbellagio/gea_grene-net/leave_1_out_sv/sh_files/split_59.sh',\n",
       " '/carnegie/nobackup/scratch/tbellagio/gea_grene-net/leave_1_out_sv/sh_files/split_60.sh',\n",
       " '/carnegie/nobackup/scratch/tbellagio/gea_grene-net/leave_1_out_sv/sh_files/split_61.sh',\n",
       " '/carnegie/nobackup/scratch/tbellagio/gea_grene-net/leave_1_out_sv/sh_files/split_62.sh',\n",
       " '/carnegie/nobackup/scratch/tbellagio/gea_grene-net/leave_1_out_sv/sh_files/split_63.sh',\n",
       " '/carnegie/nobackup/scratch/tbellagio/gea_grene-net/leave_1_out_sv/sh_files/split_64.sh',\n",
       " '/carnegie/nobackup/scratch/tbellagio/gea_grene-net/leave_1_out_sv/sh_files/split_65.sh',\n",
       " '/carnegie/nobackup/scratch/tbellagio/gea_grene-net/leave_1_out_sv/sh_files/split_66.sh',\n",
       " '/carnegie/nobackup/scratch/tbellagio/gea_grene-net/leave_1_out_sv/sh_files/split_67.sh',\n",
       " '/carnegie/nobackup/scratch/tbellagio/gea_grene-net/leave_1_out_sv/sh_files/split_68.sh',\n",
       " '/carnegie/nobackup/scratch/tbellagio/gea_grene-net/leave_1_out_sv/sh_files/split_69.sh',\n",
       " '/carnegie/nobackup/scratch/tbellagio/gea_grene-net/leave_1_out_sv/sh_files/split_70.sh',\n",
       " '/carnegie/nobackup/scratch/tbellagio/gea_grene-net/leave_1_out_sv/sh_files/split_71.sh',\n",
       " '/carnegie/nobackup/scratch/tbellagio/gea_grene-net/leave_1_out_sv/sh_files/split_72.sh',\n",
       " '/carnegie/nobackup/scratch/tbellagio/gea_grene-net/leave_1_out_sv/sh_files/split_73.sh',\n",
       " '/carnegie/nobackup/scratch/tbellagio/gea_grene-net/leave_1_out_sv/sh_files/split_74.sh',\n",
       " '/carnegie/nobackup/scratch/tbellagio/gea_grene-net/leave_1_out_sv/sh_files/split_75.sh',\n",
       " '/carnegie/nobackup/scratch/tbellagio/gea_grene-net/leave_1_out_sv/sh_files/split_76.sh',\n",
       " '/carnegie/nobackup/scratch/tbellagio/gea_grene-net/leave_1_out_sv/sh_files/split_77.sh',\n",
       " '/carnegie/nobackup/scratch/tbellagio/gea_grene-net/leave_1_out_sv/sh_files/split_78.sh',\n",
       " '/carnegie/nobackup/scratch/tbellagio/gea_grene-net/leave_1_out_sv/sh_files/split_79.sh',\n",
       " '/carnegie/nobackup/scratch/tbellagio/gea_grene-net/leave_1_out_sv/sh_files/split_80.sh',\n",
       " '/carnegie/nobackup/scratch/tbellagio/gea_grene-net/leave_1_out_sv/sh_files/split_81.sh',\n",
       " '/carnegie/nobackup/scratch/tbellagio/gea_grene-net/leave_1_out_sv/sh_files/split_82.sh',\n",
       " '/carnegie/nobackup/scratch/tbellagio/gea_grene-net/leave_1_out_sv/sh_files/split_83.sh',\n",
       " '/carnegie/nobackup/scratch/tbellagio/gea_grene-net/leave_1_out_sv/sh_files/split_84.sh',\n",
       " '/carnegie/nobackup/scratch/tbellagio/gea_grene-net/leave_1_out_sv/sh_files/split_85.sh',\n",
       " '/carnegie/nobackup/scratch/tbellagio/gea_grene-net/leave_1_out_sv/sh_files/split_86.sh',\n",
       " '/carnegie/nobackup/scratch/tbellagio/gea_grene-net/leave_1_out_sv/sh_files/split_87.sh',\n",
       " '/carnegie/nobackup/scratch/tbellagio/gea_grene-net/leave_1_out_sv/sh_files/split_88.sh',\n",
       " '/carnegie/nobackup/scratch/tbellagio/gea_grene-net/leave_1_out_sv/sh_files/split_89.sh',\n",
       " '/carnegie/nobackup/scratch/tbellagio/gea_grene-net/leave_1_out_sv/sh_files/split_90.sh',\n",
       " '/carnegie/nobackup/scratch/tbellagio/gea_grene-net/leave_1_out_sv/sh_files/split_91.sh',\n",
       " '/carnegie/nobackup/scratch/tbellagio/gea_grene-net/leave_1_out_sv/sh_files/split_92.sh',\n",
       " '/carnegie/nobackup/scratch/tbellagio/gea_grene-net/leave_1_out_sv/sh_files/split_93.sh',\n",
       " '/carnegie/nobackup/scratch/tbellagio/gea_grene-net/leave_1_out_sv/sh_files/split_94.sh',\n",
       " '/carnegie/nobackup/scratch/tbellagio/gea_grene-net/leave_1_out_sv/sh_files/split_95.sh',\n",
       " '/carnegie/nobackup/scratch/tbellagio/gea_grene-net/leave_1_out_sv/sh_files/split_96.sh',\n",
       " '/carnegie/nobackup/scratch/tbellagio/gea_grene-net/leave_1_out_sv/sh_files/split_97.sh',\n",
       " '/carnegie/nobackup/scratch/tbellagio/gea_grene-net/leave_1_out_sv/sh_files/split_98.sh',\n",
       " '/carnegie/nobackup/scratch/tbellagio/gea_grene-net/leave_1_out_sv/sh_files/split_99.sh']"
      ]
     },
     "execution_count": 8,
     "metadata": {},
     "output_type": "execute_result"
    }
   ],
   "source": [
    "shfiles"
   ]
  },
  {
   "cell_type": "code",
   "execution_count": 9,
   "id": "4c94c573-d8c8-419f-b378-2613820720d5",
   "metadata": {},
   "outputs": [
    {
     "name": "stdout",
     "output_type": "stream",
     "text": [
      "Submitted batch job 3736\n"
     ]
    },
    {
     "data": {
      "text/plain": [
       "CompletedProcess(args=['sbatch', '/carnegie/nobackup/scratch/tbellagio/gea_grene-net/leave_1_out_sv/sh_files/split_99.sh'], returncode=0)"
      ]
     },
     "execution_count": 9,
     "metadata": {},
     "output_type": "execute_result"
    }
   ],
   "source": [
    "subprocess.run(['sbatch', '/carnegie/nobackup/scratch/tbellagio/gea_grene-net/leave_1_out_sv/sh_files/split_99.sh'])"
   ]
  },
  {
   "cell_type": "code",
   "execution_count": 10,
   "id": "3b424e52-4018-4728-bf8c-b2b821feb584",
   "metadata": {},
   "outputs": [
    {
     "name": "stdout",
     "output_type": "stream",
     "text": [
      "Submitted batch job 3737\n",
      "Submitted batch job 3738\n",
      "Submitted batch job 3739\n",
      "Submitted batch job 3740\n",
      "Submitted batch job 3741\n",
      "Submitted batch job 3742\n",
      "Submitted batch job 3743\n",
      "Submitted batch job 3744\n",
      "Submitted batch job 3745\n",
      "Submitted batch job 3746\n",
      "Submitted batch job 3747\n",
      "Submitted batch job 3748\n",
      "Submitted batch job 3749\n",
      "Submitted batch job 3750\n",
      "Submitted batch job 3751\n",
      "Submitted batch job 3752\n",
      "Submitted batch job 3753\n",
      "Submitted batch job 3754\n",
      "Submitted batch job 3755\n",
      "Submitted batch job 3756\n",
      "Submitted batch job 3757\n",
      "Submitted batch job 3758\n",
      "Submitted batch job 3759\n",
      "Submitted batch job 3760\n",
      "Submitted batch job 3761\n",
      "Submitted batch job 3762\n",
      "Submitted batch job 3763\n",
      "Submitted batch job 3764\n",
      "Submitted batch job 3765\n",
      "Submitted batch job 3766\n",
      "Submitted batch job 3767\n",
      "Submitted batch job 3768\n",
      "Submitted batch job 3769\n",
      "Submitted batch job 3770\n",
      "Submitted batch job 3771\n",
      "Submitted batch job 3772\n",
      "Submitted batch job 3773\n",
      "Submitted batch job 3774\n",
      "Submitted batch job 3775\n",
      "Submitted batch job 3776\n",
      "Submitted batch job 3777\n",
      "Submitted batch job 3778\n",
      "Submitted batch job 3779\n",
      "Submitted batch job 3780\n",
      "Submitted batch job 3781\n",
      "Submitted batch job 3782\n",
      "Submitted batch job 3783\n",
      "Submitted batch job 3784\n",
      "Submitted batch job 3785\n",
      "Submitted batch job 3786\n",
      "Submitted batch job 3787\n",
      "Submitted batch job 3788\n",
      "Submitted batch job 3789\n",
      "Submitted batch job 3790\n",
      "Submitted batch job 3791\n",
      "Submitted batch job 3792\n",
      "Submitted batch job 3793\n",
      "Submitted batch job 3794\n",
      "Submitted batch job 3795\n",
      "Submitted batch job 3796\n",
      "Submitted batch job 3797\n",
      "Submitted batch job 3798\n",
      "Submitted batch job 3799\n",
      "Submitted batch job 3800\n",
      "Submitted batch job 3801\n",
      "Submitted batch job 3802\n",
      "Submitted batch job 3803\n",
      "Submitted batch job 3804\n",
      "Submitted batch job 3805\n",
      "Submitted batch job 3806\n",
      "Submitted batch job 3807\n",
      "Submitted batch job 3808\n",
      "Submitted batch job 3809\n",
      "Submitted batch job 3810\n",
      "Submitted batch job 3811\n",
      "Submitted batch job 3812\n",
      "Submitted batch job 3813\n",
      "Submitted batch job 3814\n",
      "Submitted batch job 3815\n",
      "Submitted batch job 3816\n",
      "Submitted batch job 3817\n",
      "Submitted batch job 3818\n",
      "Submitted batch job 3819\n",
      "Submitted batch job 3820\n",
      "Submitted batch job 3821\n",
      "Submitted batch job 3822\n",
      "Submitted batch job 3823\n",
      "Submitted batch job 3824\n",
      "Submitted batch job 3825\n",
      "Submitted batch job 3826\n",
      "Submitted batch job 3827\n",
      "Submitted batch job 3828\n",
      "Submitted batch job 3829\n",
      "Submitted batch job 3830\n",
      "Submitted batch job 3831\n",
      "Submitted batch job 3832\n",
      "Submitted batch job 3833\n",
      "Submitted batch job 3834\n",
      "Submitted batch job 3835\n",
      "Submitted batch job 3836\n"
     ]
    }
   ],
   "source": [
    "for file in shfiles:\n",
    "    subprocess.run(['sbatch', file])"
   ]
  },
  {
   "cell_type": "code",
   "execution_count": null,
   "id": "1c741139-1b33-48e0-acb1-14cf6c0c9972",
   "metadata": {},
   "outputs": [],
   "source": []
  }
 ],
 "metadata": {
  "kernelspec": {
   "display_name": "Python (pipeline_snakemake)",
   "language": "python",
   "name": "pipeline_snakemake"
  },
  "language_info": {
   "codemirror_mode": {
    "name": "ipython",
    "version": 3
   },
   "file_extension": ".py",
   "mimetype": "text/x-python",
   "name": "python",
   "nbconvert_exporter": "python",
   "pygments_lexer": "ipython3",
   "version": "3.9.16"
  }
 },
 "nbformat": 4,
 "nbformat_minor": 5
}
