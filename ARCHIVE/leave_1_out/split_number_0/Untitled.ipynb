{
 "cells": [
  {
   "cell_type": "code",
   "execution_count": 1,
   "id": "e25b0df8-32a2-4f3e-9c2b-ede6a435dc44",
   "metadata": {},
   "outputs": [],
   "source": [
    "## production for retrieving singficant snos and then calculating \n",
    "# 1. allele frequenciy from them \n",
    "# 2. ecotype frequences "
   ]
  },
  {
   "cell_type": "code",
   "execution_count": 38,
   "id": "87ffc99e-ff2e-4fc7-80f9-b05d79a2cb8a",
   "metadata": {},
   "outputs": [],
   "source": [
    "import os\n",
    "import numpy as np\n",
    "import cvxpy as cp\n",
    "import pickle\n",
    "import pandas as pd\n",
    "import dask.dataframe as dd\n"
   ]
  },
  {
   "cell_type": "code",
   "execution_count": 2,
   "id": "83124435-0031-428e-84a7-fcc5d356e86d",
   "metadata": {},
   "outputs": [],
   "source": [
    "# Function to load data from a pickle file\n",
    "def load_data(file_path, variable):\n",
    "    with open(file_path, 'rb') as file:\n",
    "        data = pickle.load(file)\n",
    "    return set(data[variable])"
   ]
  },
  {
   "cell_type": "code",
   "execution_count": 3,
   "id": "7719b73c-a6df-407a-ae0c-e87ad9ee0c6d",
   "metadata": {},
   "outputs": [],
   "source": [
    "split_number = 1"
   ]
  },
  {
   "cell_type": "code",
   "execution_count": 15,
   "id": "5c7ad6b9-3681-4b4d-81a6-23c2a7b71fcf",
   "metadata": {},
   "outputs": [],
   "source": [
    "snps_file = f'/carnegie/nobackup/scratch/tbellagio/gea_grene-net/leave_1_out/split_number_{split_number}/significant_snps.pkl'\n",
    "beta_file = f'/carnegie/nobackup/scratch/tbellagio/gea_grene-net/leave_1_out/split_number_{split_number}/effect_sizes_simple_full_genome.csv'\n",
    "new_env_file = f'/carnegie/nobackup/scratch/tbellagio/gea_grene-net/leave_1_out/split_number_{split_number}/testing_environment_lea_full_genome.csv'\n",
    "genotype_counts_file = '/carnegie/nobackup/scratch/tbellagio/gea_grene-net/leave_1_out/genotype_counts_fullgenome231ecotypes.csv'"
   ]
  },
  {
   "cell_type": "code",
   "execution_count": 5,
   "id": "ad8a0222-aaf8-44fd-9cb5-75178b2cf03b",
   "metadata": {},
   "outputs": [],
   "source": [
    "betas = pd.read_csv(beta_file)\n",
    "new_env = pd.read_csv(new_env_file)"
   ]
  },
  {
   "cell_type": "code",
   "execution_count": 6,
   "id": "80ea8f18-5321-4048-a0dc-f9d789e72e88",
   "metadata": {},
   "outputs": [
    {
     "data": {
      "text/html": [
       "<div>\n",
       "<style scoped>\n",
       "    .dataframe tbody tr th:only-of-type {\n",
       "        vertical-align: middle;\n",
       "    }\n",
       "\n",
       "    .dataframe tbody tr th {\n",
       "        vertical-align: top;\n",
       "    }\n",
       "\n",
       "    .dataframe thead th {\n",
       "        text-align: right;\n",
       "    }\n",
       "</style>\n",
       "<table border=\"1\" class=\"dataframe\">\n",
       "  <thead>\n",
       "    <tr style=\"text-align: right;\">\n",
       "      <th></th>\n",
       "      <th>Unnamed: 0</th>\n",
       "      <th>V1</th>\n",
       "      <th>V2</th>\n",
       "    </tr>\n",
       "  </thead>\n",
       "  <tbody>\n",
       "    <tr>\n",
       "      <th>0</th>\n",
       "      <td>1</td>\n",
       "      <td>0.002006</td>\n",
       "      <td>0.010706</td>\n",
       "    </tr>\n",
       "    <tr>\n",
       "      <th>1</th>\n",
       "      <td>2</td>\n",
       "      <td>-0.012903</td>\n",
       "      <td>-0.049465</td>\n",
       "    </tr>\n",
       "    <tr>\n",
       "      <th>2</th>\n",
       "      <td>3</td>\n",
       "      <td>0.008464</td>\n",
       "      <td>0.004360</td>\n",
       "    </tr>\n",
       "    <tr>\n",
       "      <th>3</th>\n",
       "      <td>4</td>\n",
       "      <td>-0.004655</td>\n",
       "      <td>0.002459</td>\n",
       "    </tr>\n",
       "    <tr>\n",
       "      <th>4</th>\n",
       "      <td>5</td>\n",
       "      <td>0.001385</td>\n",
       "      <td>-0.003268</td>\n",
       "    </tr>\n",
       "    <tr>\n",
       "      <th>...</th>\n",
       "      <td>...</td>\n",
       "      <td>...</td>\n",
       "      <td>...</td>\n",
       "    </tr>\n",
       "    <tr>\n",
       "      <th>3235475</th>\n",
       "      <td>3235476</td>\n",
       "      <td>-0.002292</td>\n",
       "      <td>-0.002130</td>\n",
       "    </tr>\n",
       "    <tr>\n",
       "      <th>3235476</th>\n",
       "      <td>3235477</td>\n",
       "      <td>-0.000817</td>\n",
       "      <td>-0.000521</td>\n",
       "    </tr>\n",
       "    <tr>\n",
       "      <th>3235477</th>\n",
       "      <td>3235478</td>\n",
       "      <td>0.000321</td>\n",
       "      <td>0.000065</td>\n",
       "    </tr>\n",
       "    <tr>\n",
       "      <th>3235478</th>\n",
       "      <td>3235479</td>\n",
       "      <td>0.039891</td>\n",
       "      <td>0.031311</td>\n",
       "    </tr>\n",
       "    <tr>\n",
       "      <th>3235479</th>\n",
       "      <td>3235480</td>\n",
       "      <td>-0.010000</td>\n",
       "      <td>-0.008691</td>\n",
       "    </tr>\n",
       "  </tbody>\n",
       "</table>\n",
       "<p>3235480 rows × 3 columns</p>\n",
       "</div>"
      ],
      "text/plain": [
       "         Unnamed: 0        V1        V2\n",
       "0                 1  0.002006  0.010706\n",
       "1                 2 -0.012903 -0.049465\n",
       "2                 3  0.008464  0.004360\n",
       "3                 4 -0.004655  0.002459\n",
       "4                 5  0.001385 -0.003268\n",
       "...             ...       ...       ...\n",
       "3235475     3235476 -0.002292 -0.002130\n",
       "3235476     3235477 -0.000817 -0.000521\n",
       "3235477     3235478  0.000321  0.000065\n",
       "3235478     3235479  0.039891  0.031311\n",
       "3235479     3235480 -0.010000 -0.008691\n",
       "\n",
       "[3235480 rows x 3 columns]"
      ]
     },
     "execution_count": 6,
     "metadata": {},
     "output_type": "execute_result"
    }
   ],
   "source": [
    "betas"
   ]
  },
  {
   "cell_type": "code",
   "execution_count": 7,
   "id": "b5f3a02a-33dc-4f95-81c4-cd19f1e1ffc3",
   "metadata": {},
   "outputs": [],
   "source": [
    "## import the selected snps\n",
    "snps_v1 = load_data(snps_file, 'V1')\n",
    "snps_v2 = load_data(snps_file, 'V2')"
   ]
  },
  {
   "cell_type": "code",
   "execution_count": 8,
   "id": "7898c345-5ad3-46c6-8823-1dc4acbc83c8",
   "metadata": {},
   "outputs": [],
   "source": [
    "## filter the betas based on significant alleles \n",
    "betas_v1 = betas[betas['Unnamed: 0'].isin(snps_v1)]['V1']\n",
    "betas_v2 = betas[betas['Unnamed: 0'].isin(snps_v2)]['V2']"
   ]
  },
  {
   "cell_type": "code",
   "execution_count": 9,
   "id": "04a2554a-929f-42f4-b079-073b7ebcbcf1",
   "metadata": {},
   "outputs": [],
   "source": [
    "## get the 0 indexed snps indexed for future use\n",
    "snps_v1_0index = pd.Series(list(snps_v1)) - 1 \n",
    "snps_v2_0index = pd.Series(list(snps_v2)) - 1 "
   ]
  },
  {
   "cell_type": "code",
   "execution_count": 32,
   "id": "10341256-9bf5-44ee-9d4b-87b46e1de29f",
   "metadata": {},
   "outputs": [
    {
     "data": {
      "text/plain": [
       "1268      -0.051554\n",
       "1617      -0.051554\n",
       "1819      -0.052861\n",
       "4163      -0.066539\n",
       "4168      -0.060429\n",
       "             ...   \n",
       "3234055    0.020034\n",
       "3234145    0.020248\n",
       "3234167    0.027116\n",
       "3234179    0.020248\n",
       "3234403    0.020248\n",
       "Name: V1, Length: 2896, dtype: float64"
      ]
     },
     "execution_count": 32,
     "metadata": {},
     "output_type": "execute_result"
    }
   ],
   "source": [
    "betas_v1"
   ]
  },
  {
   "cell_type": "code",
   "execution_count": 10,
   "id": "875d5a18-8ef7-4929-ba77-45bf032ead17",
   "metadata": {},
   "outputs": [],
   "source": [
    "## calculate the predicted allele frequencies in the new environment by multypling the 2 vectors\n",
    "pred_af_v1 = np.outer(new_env, betas_v1.T)"
   ]
  },
  {
   "cell_type": "code",
   "execution_count": 11,
   "id": "5502191f-df39-4e6a-8a98-11ebdee8d608",
   "metadata": {},
   "outputs": [
    {
     "data": {
      "text/plain": [
       "array([[-0.        , -0.        , -0.        , ...,  0.        ,\n",
       "         0.        ,  0.        ],\n",
       "       [-0.10310718, -0.10310718, -0.10572217, ...,  0.05423179,\n",
       "         0.04049654,  0.04049654],\n",
       "       [-0.02079461, -0.02079461, -0.021322  , ...,  0.01093744,\n",
       "         0.00816732,  0.00816732],\n",
       "       ...,\n",
       "       [-2.47457239, -2.47457239, -2.5373321 , ...,  1.30156306,\n",
       "         0.97191706,  0.97191706],\n",
       "       [ 0.06775029,  0.06775029,  0.06946857, ..., -0.03563496,\n",
       "        -0.02660971, -0.02660971],\n",
       "       [-0.04021554, -0.04021554, -0.04123548, ...,  0.02115236,\n",
       "         0.01579512,  0.01579512]])"
      ]
     },
     "execution_count": 11,
     "metadata": {},
     "output_type": "execute_result"
    }
   ],
   "source": [
    "pred_af_v1"
   ]
  },
  {
   "cell_type": "code",
   "execution_count": 16,
   "id": "d65dacb7-7488-4628-b8fa-90ec86ca2266",
   "metadata": {},
   "outputs": [],
   "source": [
    "genotype_counts = dd.read_csv(genotype_counts_file, sep = ',')"
   ]
  },
  {
   "cell_type": "code",
   "execution_count": 18,
   "id": "560fb674-b28e-4e95-9f61-5a4215b6a6cf",
   "metadata": {},
   "outputs": [],
   "source": [
    "genotype_counts = genotype_counts.compute()"
   ]
  },
  {
   "cell_type": "code",
   "execution_count": 22,
   "id": "42ae6407-608f-4b5c-84b7-f29495a506da",
   "metadata": {},
   "outputs": [],
   "source": [
    "genotype_counts = genotype_counts.drop('Unnamed: 0',axis=1).reset_index(drop=True)"
   ]
  },
  {
   "cell_type": "code",
   "execution_count": 30,
   "id": "6d6d0eaf-6c8e-4851-9332-aa309359d626",
   "metadata": {},
   "outputs": [],
   "source": [
    "genotype_countsf = genotype_counts.iloc[list(snps_v1_0index), :]"
   ]
  },
  {
   "cell_type": "code",
   "execution_count": 34,
   "id": "14cb69de-bb45-4f29-a099-05ebf8304d3a",
   "metadata": {},
   "outputs": [],
   "source": [
    "genotype_countsf = genotype_countsf.sort_index()"
   ]
  },
  {
   "cell_type": "code",
   "execution_count": 37,
   "id": "62bd024f-e98e-4b45-a1ad-3df4b6d2e6bf",
   "metadata": {},
   "outputs": [
    {
     "data": {
      "text/plain": [
       "True"
      ]
     },
     "execution_count": 37,
     "metadata": {},
     "output_type": "execute_result"
    }
   ],
   "source": [
    "## make sure the index (snps indexs) are equal in the genotype_countsf and in the betas_v1\n",
    "(betas_v1.index == genotype_countsf.index).all()"
   ]
  },
  {
   "cell_type": "code",
   "execution_count": 48,
   "id": "18af3d58-aea1-4106-9452-b62c2e75f7a9",
   "metadata": {},
   "outputs": [
    {
     "data": {
      "text/plain": [
       "(2896,)"
      ]
     },
     "execution_count": 48,
     "metadata": {},
     "output_type": "execute_result"
    }
   ],
   "source": [
    "pred_af_v1[0,:].shape"
   ]
  },
  {
   "cell_type": "code",
   "execution_count": 49,
   "id": "ae8b542c-b342-48eb-8f70-d9df766637ea",
   "metadata": {},
   "outputs": [],
   "source": [
    "first_sample = pred_af_v1[0,:]"
   ]
  },
  {
   "cell_type": "code",
   "execution_count": null,
   "id": "d8ef1540-4882-4f56-b26e-92df91076988",
   "metadata": {},
   "outputs": [],
   "source": []
  },
  {
   "cell_type": "code",
   "execution_count": 54,
   "id": "39ce3f20-aa5f-4c2a-a7fd-83b0d2abaa90",
   "metadata": {},
   "outputs": [],
   "source": [
    "genotype_countsf = np.array(genotype_countsf)"
   ]
  },
  {
   "cell_type": "code",
   "execution_count": 66,
   "id": "987b559e-75ca-4b46-92a8-bb1676ea5fb2",
   "metadata": {
    "scrolled": true
   },
   "outputs": [
    {
     "data": {
      "text/plain": [
       "(2896, 231)"
      ]
     },
     "execution_count": 66,
     "metadata": {},
     "output_type": "execute_result"
    }
   ],
   "source": [
    "genotype_countsf.shape"
   ]
  },
  {
   "cell_type": "code",
   "execution_count": 73,
   "id": "87fb3569-c257-4691-bfca-bf5ec64a0252",
   "metadata": {},
   "outputs": [
    {
     "data": {
      "text/plain": [
       "0"
      ]
     },
     "execution_count": 73,
     "metadata": {},
     "output_type": "execute_result"
    }
   ],
   "source": [
    "(genotype_countsf == 3).sum()"
   ]
  },
  {
   "cell_type": "code",
   "execution_count": 68,
   "id": "bf0a5e67-14de-425c-bc85-372210063f03",
   "metadata": {},
   "outputs": [
    {
     "data": {
      "text/plain": [
       "(232, 2896)"
      ]
     },
     "execution_count": 68,
     "metadata": {},
     "output_type": "execute_result"
    }
   ],
   "source": [
    "pred_af_v1.shape"
   ]
  },
  {
   "cell_type": "code",
   "execution_count": 62,
   "id": "61409db0-ea51-4852-a1b6-058f61b7f3a2",
   "metadata": {
    "scrolled": true
   },
   "outputs": [
    {
     "name": "stdout",
     "output_type": "stream",
     "text": [
      "0\n",
      "1\n",
      "2\n",
      "3\n",
      "4\n",
      "5\n",
      "6\n",
      "7\n",
      "8\n",
      "9\n",
      "10\n",
      "11\n",
      "12\n",
      "13\n",
      "14\n",
      "15\n",
      "16\n",
      "17\n",
      "18\n",
      "19\n",
      "20\n",
      "21\n",
      "22\n",
      "23\n",
      "24\n",
      "25\n",
      "26\n",
      "27\n",
      "28\n",
      "29\n",
      "30\n",
      "31\n",
      "32\n",
      "33\n",
      "34\n",
      "35\n",
      "36\n",
      "37\n",
      "38\n",
      "39\n",
      "40\n",
      "41\n",
      "42\n",
      "43\n",
      "44\n",
      "45\n",
      "46\n",
      "47\n",
      "48\n",
      "49\n",
      "50\n",
      "51\n",
      "52\n",
      "53\n",
      "54\n",
      "55\n",
      "56\n",
      "57\n",
      "58\n",
      "59\n",
      "60\n",
      "61\n",
      "62\n",
      "63\n",
      "64\n",
      "65\n",
      "66\n",
      "67\n",
      "68\n",
      "69\n",
      "70\n",
      "71\n",
      "72\n",
      "73\n",
      "74\n",
      "75\n",
      "76\n",
      "77\n",
      "78\n",
      "79\n",
      "80\n",
      "81\n",
      "82\n",
      "83\n",
      "84\n",
      "85\n",
      "86\n",
      "87\n",
      "88\n",
      "89\n",
      "90\n",
      "91\n",
      "92\n",
      "93\n",
      "94\n",
      "95\n",
      "96\n",
      "97\n",
      "98\n",
      "99\n",
      "100\n",
      "101\n",
      "102\n",
      "103\n",
      "104\n",
      "105\n",
      "106\n",
      "107\n",
      "108\n",
      "109\n",
      "110\n",
      "111\n",
      "112\n",
      "113\n",
      "114\n",
      "115\n",
      "116\n",
      "117\n",
      "118\n",
      "119\n",
      "120\n",
      "121\n",
      "122\n",
      "123\n",
      "124\n",
      "125\n",
      "126\n",
      "127\n",
      "128\n",
      "129\n",
      "130\n",
      "131\n",
      "132\n",
      "133\n",
      "134\n",
      "135\n",
      "136\n",
      "137\n",
      "138\n",
      "139\n",
      "140\n",
      "141\n",
      "142\n",
      "143\n",
      "144\n",
      "Failure:interrupted\n"
     ]
    },
    {
     "ename": "SolverError",
     "evalue": "Solver 'SCS' failed. Try another solver, or solve with verbose=True for more information.",
     "output_type": "error",
     "traceback": [
      "\u001b[0;31m---------------------------------------------------------------------------\u001b[0m",
      "\u001b[0;31mSolverError\u001b[0m                               Traceback (most recent call last)",
      "Cell \u001b[0;32mIn[62], line 19\u001b[0m\n\u001b[1;32m     16\u001b[0m problem \u001b[38;5;241m=\u001b[39m cp\u001b[38;5;241m.\u001b[39mProblem(cp\u001b[38;5;241m.\u001b[39mMinimize(cp\u001b[38;5;241m.\u001b[39mnorm(diff)), constraints)\n\u001b[1;32m     18\u001b[0m \u001b[38;5;66;03m# Solve the optimization problem using the SCS solver, with verbose output disabled.\u001b[39;00m\n\u001b[0;32m---> 19\u001b[0m \u001b[43mproblem\u001b[49m\u001b[38;5;241;43m.\u001b[39;49m\u001b[43msolve\u001b[49m\u001b[43m(\u001b[49m\u001b[43msolver\u001b[49m\u001b[38;5;241;43m=\u001b[39;49m\u001b[38;5;124;43m'\u001b[39;49m\u001b[38;5;124;43mSCS\u001b[39;49m\u001b[38;5;124;43m'\u001b[39;49m\u001b[43m,\u001b[49m\u001b[43m \u001b[49m\u001b[43mverbose\u001b[49m\u001b[38;5;241;43m=\u001b[39;49m\u001b[38;5;28;43;01mFalse\u001b[39;49;00m\u001b[43m)\u001b[49m\n\u001b[1;32m     20\u001b[0m \u001b[38;5;28mprint\u001b[39m(i)\n\u001b[1;32m     21\u001b[0m ecotypes_frequency[i] \u001b[38;5;241m=\u001b[39m h\u001b[38;5;241m.\u001b[39mvalue\n",
      "File \u001b[0;32m~/miniforge3/envs/pipeline_snakemake/lib/python3.9/site-packages/cvxpy/problems/problem.py:503\u001b[0m, in \u001b[0;36mProblem.solve\u001b[0;34m(self, *args, **kwargs)\u001b[0m\n\u001b[1;32m    501\u001b[0m \u001b[38;5;28;01melse\u001b[39;00m:\n\u001b[1;32m    502\u001b[0m     solve_func \u001b[38;5;241m=\u001b[39m Problem\u001b[38;5;241m.\u001b[39m_solve\n\u001b[0;32m--> 503\u001b[0m \u001b[38;5;28;01mreturn\u001b[39;00m \u001b[43msolve_func\u001b[49m\u001b[43m(\u001b[49m\u001b[38;5;28;43mself\u001b[39;49m\u001b[43m,\u001b[49m\u001b[43m \u001b[49m\u001b[38;5;241;43m*\u001b[39;49m\u001b[43margs\u001b[49m\u001b[43m,\u001b[49m\u001b[43m \u001b[49m\u001b[38;5;241;43m*\u001b[39;49m\u001b[38;5;241;43m*\u001b[39;49m\u001b[43mkwargs\u001b[49m\u001b[43m)\u001b[49m\n",
      "File \u001b[0;32m~/miniforge3/envs/pipeline_snakemake/lib/python3.9/site-packages/cvxpy/problems/problem.py:1090\u001b[0m, in \u001b[0;36mProblem._solve\u001b[0;34m(self, solver, warm_start, verbose, gp, qcp, requires_grad, enforce_dpp, ignore_dpp, canon_backend, **kwargs)\u001b[0m\n\u001b[1;32m   1088\u001b[0m end \u001b[38;5;241m=\u001b[39m time\u001b[38;5;241m.\u001b[39mtime()\n\u001b[1;32m   1089\u001b[0m \u001b[38;5;28mself\u001b[39m\u001b[38;5;241m.\u001b[39m_solve_time \u001b[38;5;241m=\u001b[39m end \u001b[38;5;241m-\u001b[39m start\n\u001b[0;32m-> 1090\u001b[0m \u001b[38;5;28;43mself\u001b[39;49m\u001b[38;5;241;43m.\u001b[39;49m\u001b[43munpack_results\u001b[49m\u001b[43m(\u001b[49m\u001b[43msolution\u001b[49m\u001b[43m,\u001b[49m\u001b[43m \u001b[49m\u001b[43msolving_chain\u001b[49m\u001b[43m,\u001b[49m\u001b[43m \u001b[49m\u001b[43minverse_data\u001b[49m\u001b[43m)\u001b[49m\n\u001b[1;32m   1091\u001b[0m \u001b[38;5;28;01mif\u001b[39;00m verbose:\n\u001b[1;32m   1092\u001b[0m     \u001b[38;5;28mprint\u001b[39m(_FOOTER)\n",
      "File \u001b[0;32m~/miniforge3/envs/pipeline_snakemake/lib/python3.9/site-packages/cvxpy/problems/problem.py:1415\u001b[0m, in \u001b[0;36mProblem.unpack_results\u001b[0;34m(self, solution, chain, inverse_data)\u001b[0m\n\u001b[1;32m   1413\u001b[0m     warnings\u001b[38;5;241m.\u001b[39mwarn(INF_OR_UNB_MESSAGE)\n\u001b[1;32m   1414\u001b[0m \u001b[38;5;28;01mif\u001b[39;00m solution\u001b[38;5;241m.\u001b[39mstatus \u001b[38;5;129;01min\u001b[39;00m s\u001b[38;5;241m.\u001b[39mERROR:\n\u001b[0;32m-> 1415\u001b[0m     \u001b[38;5;28;01mraise\u001b[39;00m error\u001b[38;5;241m.\u001b[39mSolverError(\n\u001b[1;32m   1416\u001b[0m             \u001b[38;5;124m\"\u001b[39m\u001b[38;5;124mSolver \u001b[39m\u001b[38;5;124m'\u001b[39m\u001b[38;5;132;01m%s\u001b[39;00m\u001b[38;5;124m'\u001b[39m\u001b[38;5;124m failed. \u001b[39m\u001b[38;5;124m\"\u001b[39m \u001b[38;5;241m%\u001b[39m chain\u001b[38;5;241m.\u001b[39msolver\u001b[38;5;241m.\u001b[39mname() \u001b[38;5;241m+\u001b[39m\n\u001b[1;32m   1417\u001b[0m             \u001b[38;5;124m\"\u001b[39m\u001b[38;5;124mTry another solver, or solve with verbose=True for more \u001b[39m\u001b[38;5;124m\"\u001b[39m\n\u001b[1;32m   1418\u001b[0m             \u001b[38;5;124m\"\u001b[39m\u001b[38;5;124minformation.\u001b[39m\u001b[38;5;124m\"\u001b[39m)\n\u001b[1;32m   1420\u001b[0m \u001b[38;5;28mself\u001b[39m\u001b[38;5;241m.\u001b[39munpack(solution)\n\u001b[1;32m   1421\u001b[0m \u001b[38;5;28mself\u001b[39m\u001b[38;5;241m.\u001b[39m_solver_stats \u001b[38;5;241m=\u001b[39m SolverStats\u001b[38;5;241m.\u001b[39mfrom_dict(\u001b[38;5;28mself\u001b[39m\u001b[38;5;241m.\u001b[39m_solution\u001b[38;5;241m.\u001b[39mattr,\n\u001b[1;32m   1422\u001b[0m                                  chain\u001b[38;5;241m.\u001b[39msolver\u001b[38;5;241m.\u001b[39mname())\n",
      "\u001b[0;31mSolverError\u001b[0m: Solver 'SCS' failed. Try another solver, or solve with verbose=True for more information."
     ]
    }
   ],
   "source": [
    "## so for pred_af_v1 there are 232 samples we need to predict ecotpye freq at each \n",
    "ecotypes_frequency = {}\n",
    "for i in range(pred_af_v1.shape[0]):\n",
    "\n",
    "    one_sample = pred_af_v1[i,:]\n",
    "    y = np.asarray(one_sample) * 2\n",
    "    \n",
    "    h = cp.Variable(231)\n",
    "    \n",
    "    product = genotype_countsf @ h \n",
    "    \n",
    "    diff = product - y\n",
    "    \n",
    "    constraints = [0 <= h, sum(h) == 1]\n",
    "    \n",
    "    problem = cp.Problem(cp.Minimize(cp.norm(diff)), constraints)\n",
    "    \n",
    "    # Solve the optimization problem using the SCS solver, with verbose output disabled.\n",
    "    problem.solve(solver='SCS', verbose=False)\n",
    "    print(i)\n",
    "    ecotypes_frequency[i] = h.value"
   ]
  },
  {
   "cell_type": "code",
   "execution_count": 74,
   "id": "a3787fae-a50b-4823-8aa6-cc24b6336f7c",
   "metadata": {},
   "outputs": [],
   "source": [
    "h.value"
   ]
  },
  {
   "cell_type": "code",
   "execution_count": 76,
   "id": "9b30d8df-ef21-43b8-a343-9f3ea962c3e6",
   "metadata": {},
   "outputs": [],
   "source": [
    "ecotypes_frequencydf = pd.DataFrame(ecotypes_frequency)"
   ]
  },
  {
   "cell_type": "code",
   "execution_count": 83,
   "id": "247c0073-2a71-4c3f-8997-18cc4bb7c9f9",
   "metadata": {},
   "outputs": [
    {
     "data": {
      "text/plain": [
       "62    -0.000178\n",
       "109   -0.000064\n",
       "22    -0.000062\n",
       "20    -0.000060\n",
       "117   -0.000059\n",
       "         ...   \n",
       "35     0.040730\n",
       "203    0.041568\n",
       "71     0.058981\n",
       "75     0.074366\n",
       "21     0.550191\n",
       "Name: 0, Length: 231, dtype: float64"
      ]
     },
     "execution_count": 83,
     "metadata": {},
     "output_type": "execute_result"
    }
   ],
   "source": [
    "ecotypes_frequencydf[0].sort_values()"
   ]
  },
  {
   "cell_type": "code",
   "execution_count": 80,
   "id": "d02f7785-0362-4f09-b4a6-8af8e791120c",
   "metadata": {
    "scrolled": true
   },
   "outputs": [
    {
     "data": {
      "text/plain": [
       "0     1.000000\n",
       "1     1.000000\n",
       "2     1.000000\n",
       "3     0.999999\n",
       "4     1.000002\n",
       "5     1.000000\n",
       "6     1.000000\n",
       "7     0.999999\n",
       "8     1.000000\n",
       "9     1.000000\n",
       "10    1.000000\n",
       "11    0.999999\n",
       "12    1.000000\n",
       "13    1.000000\n",
       "14    1.000000\n",
       "15    0.999999\n",
       "16    0.999998\n",
       "17    1.000000\n",
       "18    1.000000\n",
       "19    0.999999\n",
       "20    1.000000\n",
       "21    1.000000\n",
       "22    1.000000\n",
       "23    0.999999\n",
       "24    1.000000\n",
       "25    1.000000\n",
       "26    1.000000\n",
       "27    0.999999\n",
       "28    0.999998\n",
       "29    1.000000\n",
       "30    0.999999\n",
       "31    1.000002\n",
       "32    1.000000\n",
       "33    1.000000\n",
       "34    0.999999\n",
       "35    1.000002\n",
       "36    0.999999\n",
       "37    1.000000\n",
       "38    0.999999\n",
       "39    1.000002\n",
       "40    1.000000\n",
       "41    1.000000\n",
       "42    0.999999\n",
       "43    1.000002\n",
       "44    1.000000\n",
       "45    1.000000\n",
       "46    0.999999\n",
       "47    1.000002\n",
       "48    0.999999\n",
       "49    1.000000\n",
       "dtype: float64"
      ]
     },
     "execution_count": 80,
     "metadata": {},
     "output_type": "execute_result"
    }
   ],
   "source": [
    "ecotypes_frequencydf.sum(axis=0).head(50)"
   ]
  },
  {
   "cell_type": "code",
   "execution_count": null,
   "id": "0b12b058-e540-46b6-88a1-9c5669a2fb39",
   "metadata": {},
   "outputs": [],
   "source": []
  }
 ],
 "metadata": {
  "kernelspec": {
   "display_name": "Python (pipeline_snakemake)",
   "language": "python",
   "name": "pipeline_snakemake"
  },
  "language_info": {
   "codemirror_mode": {
    "name": "ipython",
    "version": 3
   },
   "file_extension": ".py",
   "mimetype": "text/x-python",
   "name": "python",
   "nbconvert_exporter": "python",
   "pygments_lexer": "ipython3",
   "version": "3.9.16"
  }
 },
 "nbformat": 4,
 "nbformat_minor": 5
}
