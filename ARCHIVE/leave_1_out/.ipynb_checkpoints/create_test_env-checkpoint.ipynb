{
 "cells": [
  {
   "cell_type": "code",
   "execution_count": null,
   "id": "e529437e-8821-45d0-b46b-e18034b6b232",
   "metadata": {},
   "outputs": [],
   "source": [
    "## create the env testgin \n",
    "\n",
    "with open('splits_samples.pkl', 'rb') as file:\n",
    "    # Load data from the file\n",
    "    splits_samples = pickle.load(file)\n",
    "\n",
    "## split0 \n",
    "\n",
    "for i in range(100):\n",
    "    train_samples = splits_samples[i][0]\n",
    "    test_samples = splits_samples[i][1]\n",
    "    \n",
    "    clim_sites_during_exp = pd.read_csv('/carnegie/nobackup/scratch/tbellagio/grene/data/bioclimvars_experimental_sites_era5.csv')\n",
    "    \n",
    "    sites_af = pd.Series(train_samples).str.split('_').str[0].astype(int)\n",
    "    \n",
    "    sites_af.name = 'site'\n",
    "    \n",
    "    env = sites_af.reset_index().merge(clim_sites_during_exp).drop(['index'],axis=1)\n",
    "    \n",
    "    ## for now only work with bio1 and bio12 \n",
    "    env = env[['site', 'bio1', 'bio12']]\n",
    "    \n",
    "    mean_bio1 = np.mean(env['bio1'])\n",
    "    mean_bio12 = np.mean(env['bio12'])\n",
    "    std_bio1 = np.std(env['bio1'])\n",
    "    std_bio12 = np.std(env['bio12'])\n",
    "    \n",
    "    ## for the testing\n",
    "    \n",
    "    sites_af = pd.Series(test_samples).str.split('_').str[0].astype(int)\n",
    "    sites_af.name = 'site'\n",
    "    env = sites_af.reset_index().merge(clim_sites_during_exp).drop(['index'],axis=1)\n",
    "    env = env[['site', 'bio1', 'bio12']]\n",
    "\n",
    "    ##scale it\n",
    "    \n",
    "    env['bio1'] = (env['bio1'] - mean_bio1) / std_bio1 \n",
    "    env['bio12'] = (env['bio12'] - mean_bio12) / std_bio12\n",
    "    file = f'/carnegie/nobackup/scratch/tbellagio/gea_grene-net/leave_1_out/split_number_{i}/testing_environment_lea_full_genome.csv'\n",
    "    print(file)\n",
    "    env.drop_duplicates().to_csv(file)"
   ]
  }
 ],
 "metadata": {
  "kernelspec": {
   "display_name": "Python 3 (ipykernel)",
   "language": "python",
   "name": "python3"
  },
  "language_info": {
   "codemirror_mode": {
    "name": "ipython",
    "version": 3
   },
   "file_extension": ".py",
   "mimetype": "text/x-python",
   "name": "python",
   "nbconvert_exporter": "python",
   "pygments_lexer": "ipython3",
   "version": "3.11.4"
  }
 },
 "nbformat": 4,
 "nbformat_minor": 5
}
