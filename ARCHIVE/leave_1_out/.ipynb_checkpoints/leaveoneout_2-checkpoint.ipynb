{
 "cells": [
  {
   "cell_type": "code",
   "execution_count": 1,
   "id": "ccc065ed-f19c-4812-8127-a61fa4a45909",
   "metadata": {
    "scrolled": true
   },
   "outputs": [
    {
     "name": "stderr",
     "output_type": "stream",
     "text": [
      "/home/tbellagio/.local/lib/python3.9/site-packages/scipy/__init__.py:146: UserWarning: A NumPy version >=1.17.3 and <1.25.0 is required for this version of SciPy (detected version 1.26.4\n",
      "  warnings.warn(f\"A NumPy version >={np_minversion} and <{np_maxversion}\"\n"
     ]
    }
   ],
   "source": [
    "import numpy as np\n",
    "import pandas as pd\n",
    "from sklearn.decomposition import PCA\n",
    "from sklearn.preprocessing import StandardScaler\n",
    "import os\n",
    "import pickle\n",
    "import dask.dataframe as dd\n",
    "import seaborn as sns\n",
    "import numpy as np\n",
    "import statsmodels.api as sm\n",
    "import matplotlib.pyplot as plt\n",
    "import subprocess\n",
    "import random"
   ]
  },
  {
   "cell_type": "code",
   "execution_count": 2,
   "id": "9104073e-8737-4afd-aba2-0b7fc0b95459",
   "metadata": {},
   "outputs": [],
   "source": [
    "path_ldp_af = '/carnegie/nobackup/scratch/xwu/grenet/merged_frequency/merged_hapFIRE_allele_frequency_LDpruned.txt'"
   ]
  },
  {
   "cell_type": "code",
   "execution_count": 3,
   "id": "5ae21388-ed00-4605-a800-2a6265945e29",
   "metadata": {},
   "outputs": [],
   "source": [
    "wd = '/carnegie/nobackup/scratch/tbellagio/gea_grene-net/leave_1_out/sh_files/'"
   ]
  },
  {
   "cell_type": "code",
   "execution_count": 4,
   "id": "ca888742-9037-449f-b615-e6fc1b6cd561",
   "metadata": {},
   "outputs": [],
   "source": [
    "with open('splits_samples.pkl', 'rb') as file:\n",
    "    # Load data from the file\n",
    "    splits_samples = pickle.load(file)"
   ]
  },
  {
   "cell_type": "code",
   "execution_count": 5,
   "id": "7f7a2f64-f240-4769-9cb5-37be4abb1835",
   "metadata": {},
   "outputs": [],
   "source": [
    "## for bio1 and bio 12\n",
    "#### so there is only one train-spli that left singificant q values at an fdr of 0.1 \n",
    "#### at an fdr of 0.2 we see the same thing only 3 splits with significant values \n",
    "## with k=3 at fdr of 0.2 its even worst only 1 singificans split \n",
    "\n",
    "\n",
    "### the full genome?"
   ]
  },
  {
   "cell_type": "code",
   "execution_count": null,
   "id": "8a6f26b4-0d2c-4cba-9655-99957b11b0d7",
   "metadata": {},
   "outputs": [],
   "source": []
  },
  {
   "cell_type": "code",
   "execution_count": 4,
   "id": "f73ab0b2-c1a7-43a3-8faa-7e2eedf5b6b6",
   "metadata": {},
   "outputs": [],
   "source": [
    "import os\n",
    "\n",
    "def find_files(directory, filename):\n",
    "    \"\"\"\n",
    "    Search for files with a specific name within all subdirectories of a given directory.\n",
    "\n",
    "    Parameters:\n",
    "        directory (str): The root directory from which to start the search.\n",
    "        filename (str): The name of the file to search for.\n",
    "\n",
    "    Returns:\n",
    "        list: A list of full paths to the files that match the given filename.\n",
    "    \"\"\"\n",
    "    matches = []  # List to store the full paths of matching files\n",
    "    for root, dirs, files in os.walk(directory):\n",
    "        if filename in files:\n",
    "            full_path = os.path.join(root, filename)\n",
    "            matches.append(full_path)\n",
    "    return matches\n",
    "\n",
    "# Usage example\n",
    "root_directory = '/carnegie/nobackup/scratch/tbellagio/gea_grene-net/leave_1_out/'  # Update this to the directory you want to search\n",
    "target_filename = 'notadj_qvalues_full_genome.csv'\n",
    "notadj_qvalues_files = find_files(root_directory, target_filename)\n"
   ]
  },
  {
   "cell_type": "code",
   "execution_count": 168,
   "id": "180c99f2-db59-4201-b4b1-c5b0c16b14a7",
   "metadata": {},
   "outputs": [],
   "source": [
    "target_filename = 'notadj_qvalues_full_genome.csv'\n",
    "notadj_qvalues_files = find_files(root_directory, target_filename)"
   ]
  },
  {
   "cell_type": "code",
   "execution_count": 169,
   "id": "d0863f89-79b6-4328-a2e0-1c759322ab0d",
   "metadata": {},
   "outputs": [],
   "source": [
    "target_filename = 'notadj_pvalues_full_genome.csv'\n",
    "notadj_pvalues_files = find_files(root_directory, target_filename)"
   ]
  },
  {
   "cell_type": "code",
   "execution_count": null,
   "id": "417e3b69-f385-4d6a-9e76-bf62b6deae92",
   "metadata": {},
   "outputs": [],
   "source": []
  },
  {
   "cell_type": "code",
   "execution_count": null,
   "id": "93e95751-2b88-47b5-a531-d277bbb54ec9",
   "metadata": {},
   "outputs": [],
   "source": []
  },
  {
   "cell_type": "code",
   "execution_count": 9,
   "id": "685fdad2-8c1a-4c87-b650-648c9afac34b",
   "metadata": {},
   "outputs": [],
   "source": [
    "folders = [f'split_number_{i}' for i in range(100)]"
   ]
  },
  {
   "cell_type": "code",
   "execution_count": 49,
   "id": "51b83050-e676-4900-9b00-86544e03d700",
   "metadata": {},
   "outputs": [],
   "source": [
    "total = []\n",
    "for files in folders:\n",
    "    result = [i for i in os.listdir(files) if 'notadj_pvalues_full_genome' in i]\n",
    "    total.append(result)"
   ]
  },
  {
   "cell_type": "code",
   "execution_count": null,
   "id": "f6179d13-5277-47d7-b999-03ee9920fbbf",
   "metadata": {},
   "outputs": [],
   "source": []
  },
  {
   "cell_type": "code",
   "execution_count": 54,
   "id": "18f40dcd-c797-4f62-88c9-e75bf94fe4f1",
   "metadata": {},
   "outputs": [
    {
     "data": {
      "text/plain": [
       "'/carnegie/nobackup/scratch/tbellagio/gea_grene-net/leave_1_out/split_number_0/qvalues_full_genome.csv'"
      ]
     },
     "execution_count": 54,
     "metadata": {},
     "output_type": "execute_result"
    }
   ],
   "source": [
    "output_file_qvalue"
   ]
  },
  {
   "cell_type": "code",
   "execution_count": 67,
   "id": "aaeb2611-30ec-4083-bd85-9f198daa55a3",
   "metadata": {},
   "outputs": [],
   "source": [
    "transposed = '/carnegie/nobackup/scratch/tbellagio/gea_grene-net/leave_1_out/split_number_0/transposed.csv'"
   ]
  },
  {
   "cell_type": "code",
   "execution_count": 57,
   "id": "61c6fd57-76e7-484b-82d2-95565e2b4145",
   "metadata": {},
   "outputs": [
    {
     "data": {
      "text/html": [
       "<div>\n",
       "<style scoped>\n",
       "    .dataframe tbody tr th:only-of-type {\n",
       "        vertical-align: middle;\n",
       "    }\n",
       "\n",
       "    .dataframe tbody tr th {\n",
       "        vertical-align: top;\n",
       "    }\n",
       "\n",
       "    .dataframe thead th {\n",
       "        text-align: right;\n",
       "    }\n",
       "</style>\n",
       "<table border=\"1\" class=\"dataframe\">\n",
       "  <thead>\n",
       "    <tr style=\"text-align: right;\">\n",
       "      <th></th>\n",
       "      <th>Response Y483490</th>\n",
       "    </tr>\n",
       "  </thead>\n",
       "  <tbody>\n",
       "    <tr>\n",
       "      <th>0</th>\n",
       "      <td>0.98082</td>\n",
       "    </tr>\n",
       "  </tbody>\n",
       "</table>\n",
       "</div>"
      ],
      "text/plain": [
       "   Response Y483490\n",
       "0           0.98082"
      ]
     },
     "execution_count": 57,
     "metadata": {},
     "output_type": "execute_result"
    }
   ],
   "source": [
    "pd.read_csv(transposed, nrows=1, usecols = ['Response Y483490'])"
   ]
  },
  {
   "cell_type": "code",
   "execution_count": 68,
   "id": "107c705d-ad2c-410f-8caa-67befa0de6db",
   "metadata": {},
   "outputs": [],
   "source": [
    "qvalues = dd.read_csv(transposed, sep = ',')"
   ]
  },
  {
   "cell_type": "code",
   "execution_count": null,
   "id": "4c8845eb-d6b9-4ca5-bca8-abcbc72f6f3b",
   "metadata": {},
   "outputs": [],
   "source": [
    "qvalues"
   ]
  },
  {
   "cell_type": "code",
   "execution_count": 82,
   "id": "07786165-1348-4664-99b3-f146a67635b0",
   "metadata": {},
   "outputs": [
    {
     "name": "stdout",
     "output_type": "stream",
     "text": [
      "['Response Y2523372', 'Response Y2448485', 'Response Y2648731', 'Response Y423347', 'Response Y1733520', 'Response Y2374440', 'Response Y685409', 'Response Y828028', 'Response Y1967877', 'Response Y135573']\n"
     ]
    }
   ],
   "source": [
    "import random\n",
    "\n",
    "# Define the range and the length of the list\n",
    "min_val = 1\n",
    "max_val = 3000000\n",
    "list_length = 100000\n",
    "\n",
    "# Generate the list\n",
    "response_list = [f\"Response Y{random.randint(min_val, max_val)}\" for _ in range(list_length)]\n",
    "\n",
    "# If you need to see part of the list to verify, you can print a slice\n",
    "print(response_list[:10])  # Print the first 10 entries to check\n"
   ]
  },
  {
   "cell_type": "code",
   "execution_count": null,
   "id": "e2a9f48b-a29c-4b0f-8d78-bff1b087da64",
   "metadata": {},
   "outputs": [],
   "source": []
  },
  {
   "cell_type": "code",
   "execution_count": 83,
   "id": "ea362aaa-0fbc-4154-b9ce-fc33e4462372",
   "metadata": {},
   "outputs": [],
   "source": [
    "output_file_pvalue = f'/carnegie/nobackup/scratch/tbellagio/gea_grene-net/leave_1_out/split_number_{str(i)}/pvalues_full_genome.csv'\n",
    "pvalues = pd.read_csv(output_file_pvalue, sep = ',', usecols= response_list)"
   ]
  },
  {
   "cell_type": "code",
   "execution_count": 86,
   "id": "de4fb791-d762-4ad4-a78a-e7cd196687ce",
   "metadata": {},
   "outputs": [
    {
     "data": {
      "text/plain": [
       "<Axes: xlabel='0', ylabel='Count'>"
      ]
     },
     "execution_count": 86,
     "metadata": {},
     "output_type": "execute_result"
    },
    {
     "data": {
      "image/png": "[encoded data removed]",
      "text/plain": [
       "<Figure size 640x480 with 1 Axes>"
      ]
     },
     "metadata": {},
     "output_type": "display_data"
    }
   ],
   "source": [
    "sns.histplot(pvalues.iloc[0,:])"
   ]
  },
  {
   "cell_type": "code",
   "execution_count": null,
   "id": "f2a831db-1253-4ba0-a749-6d0041e2f30c",
   "metadata": {},
   "outputs": [],
   "source": []
  },
  {
   "cell_type": "code",
   "execution_count": 87,
   "id": "62953092-e034-4e36-9c11-c390d6a0b98e",
   "metadata": {},
   "outputs": [
    {
     "data": {
      "text/plain": [
       "<Axes: xlabel='1', ylabel='Count'>"
      ]
     },
     "execution_count": 87,
     "metadata": {},
     "output_type": "execute_result"
    },
    {
     "data": {
      "image/png": "[encoded data removed]",
      "text/plain": [
       "<Figure size 640x480 with 1 Axes>"
      ]
     },
     "metadata": {},
     "output_type": "display_data"
    }
   ],
   "source": [
    "sns.histplot(pvalues.iloc[1,:])"
   ]
  },
  {
   "cell_type": "code",
   "execution_count": 89,
   "id": "3a1d16d0-eea0-4f19-86a8-d6a762128284",
   "metadata": {},
   "outputs": [
    {
     "data": {
      "text/html": [
       "<div>\n",
       "<style scoped>\n",
       "    .dataframe tbody tr th:only-of-type {\n",
       "        vertical-align: middle;\n",
       "    }\n",
       "\n",
       "    .dataframe tbody tr th {\n",
       "        vertical-align: top;\n",
       "    }\n",
       "\n",
       "    .dataframe thead th {\n",
       "        text-align: right;\n",
       "    }\n",
       "</style>\n",
       "<table border=\"1\" class=\"dataframe\">\n",
       "  <thead>\n",
       "    <tr style=\"text-align: right;\">\n",
       "      <th></th>\n",
       "      <th>Unnamed: 0</th>\n",
       "      <th>x</th>\n",
       "    </tr>\n",
       "  </thead>\n",
       "  <tbody>\n",
       "    <tr>\n",
       "      <th>0</th>\n",
       "      <td>X1</td>\n",
       "      <td>2.585773</td>\n",
       "    </tr>\n",
       "    <tr>\n",
       "      <th>1</th>\n",
       "      <td>X2</td>\n",
       "      <td>1.362616</td>\n",
       "    </tr>\n",
       "  </tbody>\n",
       "</table>\n",
       "</div>"
      ],
      "text/plain": [
       "  Unnamed: 0         x\n",
       "0         X1  2.585773\n",
       "1         X2  1.362616"
      ]
     },
     "execution_count": 89,
     "metadata": {},
     "output_type": "execute_result"
    }
   ],
   "source": [
    "output_file_gif = f'/carnegie/nobackup/scratch/tbellagio/gea_grene-net/leave_1_out/split_number_{str(i)}/gif_full_genome.csv'\n",
    "pd.read_csv(output_file_gif)"
   ]
  },
  {
   "cell_type": "code",
   "execution_count": 90,
   "id": "6d07578f-4b38-40b1-b8cc-e0cda9b0e587",
   "metadata": {},
   "outputs": [],
   "source": [
    "output_file_zscores = f'/carnegie/nobackup/scratch/tbellagio/gea_grene-net/leave_1_out/split_number_{str(i)}/zscores_full_genome.csv'\n",
    "zscores = pd.read_csv(output_file_zscores, sep = ',', usecols= response_list)"
   ]
  },
  {
   "cell_type": "code",
   "execution_count": 94,
   "id": "a7bc1194-f636-4c65-8036-99d81c805ea7",
   "metadata": {},
   "outputs": [],
   "source": [
    "zscores_bio1 = zscores.iloc[0]\n",
    "zscores_bio12 = zscores.iloc[1]"
   ]
  },
  {
   "cell_type": "code",
   "execution_count": 98,
   "id": "455e3216-0a62-413d-9932-3d64a7de9269",
   "metadata": {},
   "outputs": [],
   "source": [
    "gif_bio1 = 2.585773\n",
    "gif_bio12 = 1.362616"
   ]
  },
  {
   "cell_type": "code",
   "execution_count": 104,
   "id": "9794993e-747a-4b92-8326-1f1383d9739b",
   "metadata": {
    "scrolled": true
   },
   "outputs": [],
   "source": [
    "adj_pv1 = 1 - chi2.cdf(zscores_bio1**2 , df=1)"
   ]
  },
  {
   "cell_type": "code",
   "execution_count": 105,
   "id": "fa46c921-ee58-4c8b-8640-fa6feff0d1a3",
   "metadata": {},
   "outputs": [],
   "source": [
    "from scipy.stats import chi2\n"
   ]
  },
  {
   "cell_type": "code",
   "execution_count": 106,
   "id": "8a95172a-593a-4d29-82a1-200f3a258dde",
   "metadata": {},
   "outputs": [
    {
     "data": {
      "text/plain": [
       "<Axes: ylabel='Count'>"
      ]
     },
     "execution_count": 106,
     "metadata": {},
     "output_type": "execute_result"
    },
    {
     "data": {
      "image/png": "[encoded data removed]",
      "text/plain": [
       "<Figure size 640x480 with 1 Axes>"
      ]
     },
     "metadata": {},
     "output_type": "display_data"
    }
   ],
   "source": [
    "\n",
    "sns.histplot(adj_pv1)"
   ]
  },
  {
   "cell_type": "code",
   "execution_count": 111,
   "id": "c562ceba-a9e4-4476-bc7a-d188ed0f6d5f",
   "metadata": {},
   "outputs": [
    {
     "data": {
      "text/plain": [
       "1.6666666666666667e-08"
      ]
     },
     "execution_count": 111,
     "metadata": {},
     "output_type": "execute_result"
    }
   ],
   "source": [
    "0.05/3000000"
   ]
  },
  {
   "cell_type": "code",
   "execution_count": null,
   "id": "111c5f28-21de-4f2f-9fea-103120652d85",
   "metadata": {},
   "outputs": [],
   "source": []
  },
  {
   "cell_type": "code",
   "execution_count": 110,
   "id": "f24ecdf0-3728-418a-b933-028eaae54a7d",
   "metadata": {},
   "outputs": [
    {
     "data": {
      "text/plain": [
       "count    9.830700e+04\n",
       "mean     3.528053e-01\n",
       "std      3.047062e-01\n",
       "min      1.865339e-10\n",
       "25%      7.184572e-02\n",
       "50%      2.805882e-01\n",
       "75%      5.975513e-01\n",
       "max      9.999972e-01\n",
       "dtype: float64"
      ]
     },
     "execution_count": 110,
     "metadata": {},
     "output_type": "execute_result"
    }
   ],
   "source": [
    "pd.Series(adj_pv1).describe()"
   ]
  },
  {
   "cell_type": "code",
   "execution_count": null,
   "id": "99f57f97-fd42-41fc-8d5f-54210010add6",
   "metadata": {},
   "outputs": [],
   "source": []
  },
  {
   "cell_type": "code",
   "execution_count": null,
   "id": "7d861bce-324c-4279-9f12-30b2e397da74",
   "metadata": {},
   "outputs": [],
   "source": [
    "\n",
    "# Example data for z-scores and genomic inflation factor\n",
    "zscore = zscores_bio1.copy()  # Random normal values as z-scores\n",
    "gif = 1.856250  # Default GIF from data\n",
    "\n",
    "new_gif = 1.5  # New chosen GIF\n",
    "\n",
    "# Manual adjustment of the p-values\n",
    "adj_pv1 = 1 - chi2.cdf(zscore**2 / new_gif, df=1)\n",
    "\n",
    "# Plotting the histograms\n",
    "plt.figure(figsize=(18, 6))\n",
    "\n",
    "plt.subplot(1, 3, 1)\n",
    "plt.hist(pvalues_bio1, bins=30, color='skyblue')\n",
    "plt.title(\"Unadjusted p-values\")\n",
    "\n",
    "plt.subplot(1, 3, 2)\n",
    "plt.hist(1 - chi2.cdf(zscore**2 / gif, df=1), bins=30, color='lightgreen')\n",
    "plt.title(\"GIF-adjusted p-values (GIF=2.8)\")\n",
    "\n",
    "plt.subplot(1, 3, 3)\n",
    "plt.hist(adj_pv1, bins=30, color='salmon')\n",
    "plt.title(\"Readjusted p-values (GIF=2.0)\")\n",
    "\n",
    "plt.tight_layout()\n",
    "plt.show()\n"
   ]
  },
  {
   "cell_type": "code",
   "execution_count": null,
   "id": "fc630ff8-bff5-41a5-b155-fb04f3e4d9c4",
   "metadata": {},
   "outputs": [],
   "source": []
  },
  {
   "cell_type": "code",
   "execution_count": null,
   "id": "bca4124a-22e1-4944-8cad-ef869a188b1e",
   "metadata": {},
   "outputs": [],
   "source": [
    "    output_file_pvalue = f'/carnegie/nobackup/scratch/tbellagio/gea_grene-net/leave_1_out/split_number_{str(i)}/pvalues_full_genome.csv'\n",
    "    \n",
    "    output_file_zscores = f'/carnegie/nobackup/scratch/tbellagio/gea_grene-net/leave_1_out/split_number_{str(i)}/zscores_full_genome.csv'\n",
    "    \n",
    "    output_file_gif = f'/carnegie/nobackup/scratch/tbellagio/gea_grene-net/leave_1_out/split_number_{str(i)}/gif_full_genome.csv'\n",
    "    \n",
    "    output_file_qvalue = f'/carnegie/nobackup/scratch/tbellagio/gea_grene-net/leave_1_out/split_number_{str(i)}/notadj_qvalues_full_genome.csv'\n",
    "    "
   ]
  },
  {
   "cell_type": "code",
   "execution_count": null,
   "id": "e140aa57-b92d-41ac-86e6-eb13fa5af471",
   "metadata": {},
   "outputs": [],
   "source": []
  },
  {
   "cell_type": "code",
   "execution_count": null,
   "id": "812a8943-f57b-4a6f-b057-6f3b16ca49e4",
   "metadata": {},
   "outputs": [],
   "source": []
  },
  {
   "cell_type": "code",
   "execution_count": null,
   "id": "34d05334-7a29-4ad0-905b-726af7527a8f",
   "metadata": {},
   "outputs": [],
   "source": []
  },
  {
   "cell_type": "code",
   "execution_count": 31,
   "id": "bdc93650-f9b3-4431-9a60-8d31f099e770",
   "metadata": {},
   "outputs": [],
   "source": [
    "qvalues = pd.read_csv(output_file_qvalue, usecols =list(range(1000)))"
   ]
  },
  {
   "cell_type": "code",
   "execution_count": 32,
   "id": "8007ac35-d034-4d71-9385-8dcdf84911c0",
   "metadata": {},
   "outputs": [],
   "source": [
    "qvalues = qvalues.drop('Unnamed: 0',axis=1)"
   ]
  },
  {
   "cell_type": "code",
   "execution_count": 40,
   "id": "3baaab28-4b1c-4b04-84b3-50219459fff8",
   "metadata": {},
   "outputs": [
    {
     "data": {
      "text/plain": [
       "0    70\n",
       "1    36\n",
       "dtype: int64"
      ]
     },
     "execution_count": 40,
     "metadata": {},
     "output_type": "execute_result"
    }
   ],
   "source": [
    "filtered_df.sum(axis=1)"
   ]
  },
  {
   "cell_type": "code",
   "execution_count": null,
   "id": "d086c541-45fc-451a-b437-3adbf50ed90b",
   "metadata": {},
   "outputs": [],
   "source": []
  },
  {
   "cell_type": "code",
   "execution_count": null,
   "id": "fbaa6d04-1a28-4512-885d-f3179e2eab0b",
   "metadata": {},
   "outputs": [],
   "source": [
    "notadj_pvalues_files"
   ]
  },
  {
   "cell_type": "code",
   "execution_count": 46,
   "id": "820a3902-7e34-4d28-a8bc-2063b75cc0ed",
   "metadata": {
    "scrolled": true
   },
   "outputs": [],
   "source": [
    "\n",
    "\n",
    "# Compute the result to bring it into memory (if necessary and feasible)\n",
    "filtered_df = filtered_df.compute()\n",
    "\n",
    "# Drop an unwanted column\n",
    "filtered_df = filtered_df.drop('Unnamed: 0', axis=1)\n",
    "\n",
    "#qvalues = pd.read_csv(output_file_qvalue).drop('Unnamed: 0',axis=1)\n",
    "filtered_df = qvalues < 0.1\n",
    "\n",
    "# Filtering to find where q-values are < 0.10\n",
    "    # Dictionary to store results\n",
    "significant_snps = {}\n",
    "\n",
    "# Iterate over each row in the filtered DataFrame\n",
    "for env_var, is_significant in filtered_df.iterrows():\n",
    "    # Get the list of SNP names where the q-value is < 0.10 for this environmental variable\n",
    "    significant_snp_list = is_significant[is_significant].index.tolist()\n",
    "    ## make it an actual index by substracting 0 and converting into int\n",
    "    significant_index = pd.Series(significant_snp_list).str.replace('Response Y', '').astype(int) - 1\n",
    "    significant_index = significant_index.tolist()\n",
    "    # Store this list in the dictionary with the environmental variable as the key\n",
    "    significant_snps[env_var] = significant_index"
   ]
  },
  {
   "cell_type": "code",
   "execution_count": null,
   "id": "40ccb330-99a4-4350-bcba-0fb82b20b7b5",
   "metadata": {},
   "outputs": [],
   "source": []
  },
  {
   "cell_type": "code",
   "execution_count": null,
   "id": "4294ffb4-27dc-4ef3-a9a7-fd77036ee7d4",
   "metadata": {},
   "outputs": [],
   "source": []
  },
  {
   "cell_type": "code",
   "execution_count": null,
   "id": "1c75afbe-45b5-40b3-9490-9dc07c7d81f5",
   "metadata": {},
   "outputs": [],
   "source": []
  },
  {
   "cell_type": "code",
   "execution_count": null,
   "id": "194f70cd-bc4c-4c61-8ce1-a3b4e50a98b4",
   "metadata": {},
   "outputs": [],
   "source": []
  },
  {
   "cell_type": "code",
   "execution_count": null,
   "id": "fa46df20-0db7-4aab-b116-ec37828847c4",
   "metadata": {},
   "outputs": [],
   "source": []
  },
  {
   "cell_type": "code",
   "execution_count": 47,
   "id": "07f0e691-8cea-4558-bfb6-0249f54ce21f",
   "metadata": {},
   "outputs": [
    {
     "data": {
      "text/plain": [
       "0.07"
      ]
     },
     "execution_count": 47,
     "metadata": {},
     "output_type": "execute_result"
    }
   ],
   "source": [
    "70/1000"
   ]
  },
  {
   "cell_type": "code",
   "execution_count": 48,
   "id": "eab6ba40-d3e3-4a28-8839-554ed5804146",
   "metadata": {},
   "outputs": [
    {
     "data": {
      "text/plain": [
       "70"
      ]
     },
     "execution_count": 48,
     "metadata": {},
     "output_type": "execute_result"
    }
   ],
   "source": [
    "len(significant_snps[0])"
   ]
  },
  {
   "cell_type": "code",
   "execution_count": 57,
   "id": "50aa56ed-046f-4261-b4be-7973ec83bfb6",
   "metadata": {},
   "outputs": [],
   "source": [
    "with open('significant_snps.pkl', 'wb') as f:\n",
    "    pickle.dump(significant_snps, f)"
   ]
  },
  {
   "cell_type": "code",
   "execution_count": 58,
   "id": "9a2ca94d-cdd6-4ac1-8983-9f09bbceb1e2",
   "metadata": {},
   "outputs": [],
   "source": [
    "with open('significant_snps.pkl', 'rb') as file:\n",
    "    # Load data from the file\n",
    "    significant_snps = pickle.load(file)"
   ]
  },
  {
   "cell_type": "code",
   "execution_count": null,
   "id": "a7a91502-2e1c-4567-b782-dccf6d423078",
   "metadata": {},
   "outputs": [],
   "source": []
  },
  {
   "cell_type": "code",
   "execution_count": 65,
   "id": "9fcb1dc8-aea3-4e75-9508-c5ab43de8c16",
   "metadata": {
    "scrolled": true
   },
   "outputs": [
    {
     "data": {
      "text/plain": [
       "'/carnegie/nobackup/scratch/tbellagio/gea_grene-net/leave_1_out/split_number_82/tr_notadj_pvalues_full_genome.csv'"
      ]
     },
     "execution_count": 65,
     "metadata": {},
     "output_type": "execute_result"
    }
   ],
   "source": []
  },
  {
   "cell_type": "code",
   "execution_count": null,
   "id": "54db9816-8ddb-48e5-a703-dc1a99beb16b",
   "metadata": {},
   "outputs": [],
   "source": []
  },
  {
   "cell_type": "code",
   "execution_count": null,
   "id": "8ee9332c-be6a-4d05-8117-e9f69e696ae3",
   "metadata": {},
   "outputs": [],
   "source": []
  },
  {
   "cell_type": "code",
   "execution_count": 146,
   "id": "36500d2e-f06b-4ad3-9a1e-40581d66a848",
   "metadata": {},
   "outputs": [],
   "source": [
    "import csv\n",
    "def transpose(input, output):\n",
    "    a = zip(*csv.reader(open(input, \"rt\")))\n",
    "    csv.writer(open(output, \"wt\")).writerows(a)"
   ]
  },
  {
   "cell_type": "code",
   "execution_count": 48,
   "id": "259cb49b-7dbf-40b9-84c2-ebc21a2a73c9",
   "metadata": {},
   "outputs": [],
   "source": [
    "## retrieve all no adjusted transposed pvalues\n",
    "target_filename = 'tr_notadj_pvalues_full_genome.csv'\n",
    "tr_notadj_pvalues_files = find_files(root_directory, target_filename)"
   ]
  },
  {
   "cell_type": "code",
   "execution_count": 49,
   "id": "e43e478f-27d2-4992-b3ed-91492827e906",
   "metadata": {},
   "outputs": [
    {
     "data": {
      "text/plain": [
       "{0,\n",
       " 1,\n",
       " 2,\n",
       " 3,\n",
       " 4,\n",
       " 5,\n",
       " 6,\n",
       " 7,\n",
       " 8,\n",
       " 9,\n",
       " 10,\n",
       " 11,\n",
       " 12,\n",
       " 13,\n",
       " 14,\n",
       " 15,\n",
       " 16,\n",
       " 17,\n",
       " 18,\n",
       " 19,\n",
       " 20,\n",
       " 21,\n",
       " 22,\n",
       " 23,\n",
       " 24,\n",
       " 25,\n",
       " 26,\n",
       " 27,\n",
       " 28,\n",
       " 29,\n",
       " 30,\n",
       " 31,\n",
       " 32,\n",
       " 33,\n",
       " 34,\n",
       " 35,\n",
       " 36,\n",
       " 37,\n",
       " 38,\n",
       " 39,\n",
       " 40,\n",
       " 41,\n",
       " 42,\n",
       " 43,\n",
       " 44,\n",
       " 45,\n",
       " 46,\n",
       " 47,\n",
       " 48,\n",
       " 49,\n",
       " 50,\n",
       " 51,\n",
       " 52,\n",
       " 53,\n",
       " 54,\n",
       " 55,\n",
       " 56,\n",
       " 57,\n",
       " 58,\n",
       " 59,\n",
       " 60,\n",
       " 61,\n",
       " 62,\n",
       " 63,\n",
       " 64,\n",
       " 65,\n",
       " 66,\n",
       " 67,\n",
       " 68,\n",
       " 69,\n",
       " 70,\n",
       " 71,\n",
       " 72,\n",
       " 73,\n",
       " 74,\n",
       " 75,\n",
       " 76,\n",
       " 77,\n",
       " 78,\n",
       " 79,\n",
       " 80,\n",
       " 81,\n",
       " 82,\n",
       " 83,\n",
       " 84,\n",
       " 85,\n",
       " 86,\n",
       " 87,\n",
       " 88,\n",
       " 89,\n",
       " 90,\n",
       " 91,\n",
       " 92,\n",
       " 93,\n",
       " 94,\n",
       " 95,\n",
       " 96,\n",
       " 97,\n",
       " 98,\n",
       " 99}"
      ]
     },
     "execution_count": 49,
     "metadata": {},
     "output_type": "execute_result"
    }
   ],
   "source": [
    "set(pd.Series(tr_notadj_pvalues_files).str.split('/').str[7].str.split('_').str[2].astype(int))"
   ]
  },
  {
   "cell_type": "code",
   "execution_count": 7,
   "id": "dd333c06-7977-4213-8c5a-dc191bd247cc",
   "metadata": {},
   "outputs": [
    {
     "data": {
      "text/plain": [
       "96"
      ]
     },
     "execution_count": 7,
     "metadata": {},
     "output_type": "execute_result"
    }
   ],
   "source": [
    "len(tr_notadj_pvalues_files)"
   ]
  },
  {
   "cell_type": "code",
   "execution_count": null,
   "id": "d38363d3-23e1-4ae4-8964-af91992f6374",
   "metadata": {},
   "outputs": [],
   "source": []
  },
  {
   "cell_type": "code",
   "execution_count": 175,
   "id": "d145b257-675a-40b3-99ac-fb28db080892",
   "metadata": {},
   "outputs": [],
   "source": [
    "for i in tr_notadj_pvalues_files:\n",
    "    output_file_sign_snps = i.replace('tr_notadj_pvalues_full_genome.csv', 'significant_snps.pkl')\n",
    "    \n",
    "    pvalues = dd.read_csv(i)\n",
    "    pvalues = pvalues.compute() \n",
    "    \n",
    "    pvalues = pvalues.set_index(pvalues['Unnamed: 0'].str.replace('Response Y', '').astype(int))\n",
    "    \n",
    "    pvalues = pvalues.drop('Unnamed: 0', axis=1)\n",
    "    significant_snps = {}\n",
    "\n",
    "    # Iterate over each column in the transposed DataFrame\n",
    "    for env_var in pvalues.columns:\n",
    "        # Filter to find where q-value is < 0.10 for this environmental variable\n",
    "        is_significant = pvalues[env_var] < 1.5453657571674064e-08\n",
    "    \n",
    "        # Get the list of SNP names where the q-value is < 0.10 for this environmental variable\n",
    "        significant_snp_list = is_significant[is_significant].index.tolist()\n",
    "    \n",
    "        # Assuming SNP names are in the format 'Response Y12345', extract the numeric part, subtract 1, and convert to int\n",
    "        #significant_index = pd.Series(significant_snp_list).str.replace('Response Y', '').astype(int) - 1\n",
    "        #significant_index = significant_snp_list.tolist()\n",
    "    \n",
    "        # Store this list in the dictionary with the environmental variable as the key\n",
    "        significant_snps[env_var] = significant_snp_list\n",
    "    with open(output_file_sign_snps, 'wb') as f:\n",
    "        pickle.dump(significant_snps, f)"
   ]
  },
  {
   "cell_type": "code",
   "execution_count": null,
   "id": "a4bee8c4-f6b0-4e2a-b9f3-1a1aa5eb0442",
   "metadata": {},
   "outputs": [],
   "source": []
  },
  {
   "cell_type": "code",
   "execution_count": 177,
   "id": "b6fe7dc0-23c8-45b2-aaff-a9634c2898bf",
   "metadata": {},
   "outputs": [],
   "source": [
    "target_filename = 'significant_snps.pkl'\n",
    "significant_snps_files = find_files(root_directory, target_filename)"
   ]
  },
  {
   "cell_type": "code",
   "execution_count": 178,
   "id": "22cf8e26-e5d0-4d15-84e1-1e0c50759e46",
   "metadata": {},
   "outputs": [
    {
     "data": {
      "text/plain": [
       "['/carnegie/nobackup/scratch/tbellagio/gea_grene-net/leave_1_out/significant_snps.pkl',\n",
       " '/carnegie/nobackup/scratch/tbellagio/gea_grene-net/leave_1_out/split_number_88/significant_snps.pkl',\n",
       " '/carnegie/nobackup/scratch/tbellagio/gea_grene-net/leave_1_out/split_number_11/significant_snps.pkl',\n",
       " '/carnegie/nobackup/scratch/tbellagio/gea_grene-net/leave_1_out/split_number_29/significant_snps.pkl',\n",
       " '/carnegie/nobackup/scratch/tbellagio/gea_grene-net/leave_1_out/split_number_54/significant_snps.pkl',\n",
       " '/carnegie/nobackup/scratch/tbellagio/gea_grene-net/leave_1_out/split_number_75/significant_snps.pkl',\n",
       " '/carnegie/nobackup/scratch/tbellagio/gea_grene-net/leave_1_out/split_number_8/significant_snps.pkl',\n",
       " '/carnegie/nobackup/scratch/tbellagio/gea_grene-net/leave_1_out/split_number_2/significant_snps.pkl',\n",
       " '/carnegie/nobackup/scratch/tbellagio/gea_grene-net/leave_1_out/split_number_30/significant_snps.pkl',\n",
       " '/carnegie/nobackup/scratch/tbellagio/gea_grene-net/leave_1_out/split_number_47/significant_snps.pkl',\n",
       " '/carnegie/nobackup/scratch/tbellagio/gea_grene-net/leave_1_out/split_number_37/significant_snps.pkl',\n",
       " '/carnegie/nobackup/scratch/tbellagio/gea_grene-net/leave_1_out/split_number_5/significant_snps.pkl']"
      ]
     },
     "execution_count": 178,
     "metadata": {},
     "output_type": "execute_result"
    }
   ],
   "source": [
    "significant_snps_files"
   ]
  },
  {
   "cell_type": "code",
   "execution_count": null,
   "id": "598a8dba-5970-4264-b141-2880c785a2b1",
   "metadata": {},
   "outputs": [],
   "source": []
  },
  {
   "cell_type": "code",
   "execution_count": null,
   "id": "1884beaa-d5fb-42fe-86f1-f83759792892",
   "metadata": {},
   "outputs": [],
   "source": [
    "## compare the gif with 3 k and the other number\n",
    "### runn all the transpositions \n",
    "## calculate singifant allees "
   ]
  },
  {
   "cell_type": "code",
   "execution_count": 161,
   "id": "bf0ffcf3-8655-4c04-99cb-bc9040d61c10",
   "metadata": {},
   "outputs": [],
   "source": [
    "#alljobs = [int(i.split('_')[2].replace('.out', '')) for i in os.listdir() if '.out' in i]"
   ]
  },
  {
   "cell_type": "code",
   "execution_count": null,
   "id": "d3540b03-f15c-420f-9286-19b978661bfe",
   "metadata": {},
   "outputs": [],
   "source": []
  },
  {
   "cell_type": "code",
   "execution_count": null,
   "id": "e14d93d4-b510-4635-b289-88d2015af3a4",
   "metadata": {},
   "outputs": [],
   "source": []
  },
  {
   "cell_type": "code",
   "execution_count": 31,
   "id": "3e500c2f-4ba5-4d58-91e5-0df25ee06c4e",
   "metadata": {},
   "outputs": [
    {
     "ename": "KeyError",
     "evalue": "'bio19'",
     "output_type": "error",
     "traceback": [
      "\u001b[0;31m---------------------------------------------------------------------------\u001b[0m",
      "\u001b[0;31mKeyError\u001b[0m                                  Traceback (most recent call last)",
      "File \u001b[0;32m~/miniforge3/envs/pipeline_snakemake/lib/python3.9/site-packages/pandas/core/indexes/base.py:3652\u001b[0m, in \u001b[0;36mIndex.get_loc\u001b[0;34m(self, key)\u001b[0m\n\u001b[1;32m   3651\u001b[0m \u001b[38;5;28;01mtry\u001b[39;00m:\n\u001b[0;32m-> 3652\u001b[0m     \u001b[38;5;28;01mreturn\u001b[39;00m \u001b[38;5;28;43mself\u001b[39;49m\u001b[38;5;241;43m.\u001b[39;49m\u001b[43m_engine\u001b[49m\u001b[38;5;241;43m.\u001b[39;49m\u001b[43mget_loc\u001b[49m\u001b[43m(\u001b[49m\u001b[43mcasted_key\u001b[49m\u001b[43m)\u001b[49m\n\u001b[1;32m   3653\u001b[0m \u001b[38;5;28;01mexcept\u001b[39;00m \u001b[38;5;167;01mKeyError\u001b[39;00m \u001b[38;5;28;01mas\u001b[39;00m err:\n",
      "File \u001b[0;32m~/miniforge3/envs/pipeline_snakemake/lib/python3.9/site-packages/pandas/_libs/index.pyx:147\u001b[0m, in \u001b[0;36mpandas._libs.index.IndexEngine.get_loc\u001b[0;34m()\u001b[0m\n",
      "File \u001b[0;32m~/miniforge3/envs/pipeline_snakemake/lib/python3.9/site-packages/pandas/_libs/index.pyx:176\u001b[0m, in \u001b[0;36mpandas._libs.index.IndexEngine.get_loc\u001b[0;34m()\u001b[0m\n",
      "File \u001b[0;32mpandas/_libs/hashtable_class_helper.pxi:7080\u001b[0m, in \u001b[0;36mpandas._libs.hashtable.PyObjectHashTable.get_item\u001b[0;34m()\u001b[0m\n",
      "File \u001b[0;32mpandas/_libs/hashtable_class_helper.pxi:7088\u001b[0m, in \u001b[0;36mpandas._libs.hashtable.PyObjectHashTable.get_item\u001b[0;34m()\u001b[0m\n",
      "\u001b[0;31mKeyError\u001b[0m: 'bio19'",
      "\nThe above exception was the direct cause of the following exception:\n",
      "\u001b[0;31mKeyError\u001b[0m                                  Traceback (most recent call last)",
      "Cell \u001b[0;32mIn[31], line 21\u001b[0m\n\u001b[1;32m     17\u001b[0m \u001b[38;5;66;03m# Loop through each significant SNP index\u001b[39;00m\n\u001b[1;32m     19\u001b[0m \u001b[38;5;28;01mfor\u001b[39;00m index \u001b[38;5;129;01min\u001b[39;00m significant_index:\n\u001b[1;32m     20\u001b[0m     \u001b[38;5;66;03m# Prepare the X (predictor) and Y (response) variables\u001b[39;00m\n\u001b[0;32m---> 21\u001b[0m     X \u001b[38;5;241m=\u001b[39m \u001b[43menv_data\u001b[49m\u001b[43m[\u001b[49m\u001b[38;5;124;43m'\u001b[39;49m\u001b[38;5;124;43mbio19\u001b[39;49m\u001b[38;5;124;43m'\u001b[39;49m\u001b[43m]\u001b[49m  \u001b[38;5;66;03m# Adjust 'Env_Variable' to your specific environmental variable\u001b[39;00m\n\u001b[1;32m     22\u001b[0m     X \u001b[38;5;241m=\u001b[39m sm\u001b[38;5;241m.\u001b[39madd_constant(X)  \u001b[38;5;66;03m# Adds a constant term to the predictor\u001b[39;00m\n\u001b[1;32m     23\u001b[0m     y \u001b[38;5;241m=\u001b[39m geno_data\u001b[38;5;241m.\u001b[39miloc[index, :]\u001b[38;5;241m.\u001b[39mreset_index(drop\u001b[38;5;241m=\u001b[39m\u001b[38;5;28;01mTrue\u001b[39;00m)   \u001b[38;5;66;03m# Assumes each column in geno_data is a SNP\u001b[39;00m\n",
      "File \u001b[0;32m~/miniforge3/envs/pipeline_snakemake/lib/python3.9/site-packages/pandas/core/frame.py:3761\u001b[0m, in \u001b[0;36mDataFrame.__getitem__\u001b[0;34m(self, key)\u001b[0m\n\u001b[1;32m   3759\u001b[0m \u001b[38;5;28;01mif\u001b[39;00m \u001b[38;5;28mself\u001b[39m\u001b[38;5;241m.\u001b[39mcolumns\u001b[38;5;241m.\u001b[39mnlevels \u001b[38;5;241m>\u001b[39m \u001b[38;5;241m1\u001b[39m:\n\u001b[1;32m   3760\u001b[0m     \u001b[38;5;28;01mreturn\u001b[39;00m \u001b[38;5;28mself\u001b[39m\u001b[38;5;241m.\u001b[39m_getitem_multilevel(key)\n\u001b[0;32m-> 3761\u001b[0m indexer \u001b[38;5;241m=\u001b[39m \u001b[38;5;28;43mself\u001b[39;49m\u001b[38;5;241;43m.\u001b[39;49m\u001b[43mcolumns\u001b[49m\u001b[38;5;241;43m.\u001b[39;49m\u001b[43mget_loc\u001b[49m\u001b[43m(\u001b[49m\u001b[43mkey\u001b[49m\u001b[43m)\u001b[49m\n\u001b[1;32m   3762\u001b[0m \u001b[38;5;28;01mif\u001b[39;00m is_integer(indexer):\n\u001b[1;32m   3763\u001b[0m     indexer \u001b[38;5;241m=\u001b[39m [indexer]\n",
      "File \u001b[0;32m~/miniforge3/envs/pipeline_snakemake/lib/python3.9/site-packages/pandas/core/indexes/base.py:3654\u001b[0m, in \u001b[0;36mIndex.get_loc\u001b[0;34m(self, key)\u001b[0m\n\u001b[1;32m   3652\u001b[0m     \u001b[38;5;28;01mreturn\u001b[39;00m \u001b[38;5;28mself\u001b[39m\u001b[38;5;241m.\u001b[39m_engine\u001b[38;5;241m.\u001b[39mget_loc(casted_key)\n\u001b[1;32m   3653\u001b[0m \u001b[38;5;28;01mexcept\u001b[39;00m \u001b[38;5;167;01mKeyError\u001b[39;00m \u001b[38;5;28;01mas\u001b[39;00m err:\n\u001b[0;32m-> 3654\u001b[0m     \u001b[38;5;28;01mraise\u001b[39;00m \u001b[38;5;167;01mKeyError\u001b[39;00m(key) \u001b[38;5;28;01mfrom\u001b[39;00m \u001b[38;5;21;01merr\u001b[39;00m\n\u001b[1;32m   3655\u001b[0m \u001b[38;5;28;01mexcept\u001b[39;00m \u001b[38;5;167;01mTypeError\u001b[39;00m:\n\u001b[1;32m   3656\u001b[0m     \u001b[38;5;66;03m# If we have a listlike key, _check_indexing_error will raise\u001b[39;00m\n\u001b[1;32m   3657\u001b[0m     \u001b[38;5;66;03m#  InvalidIndexError. Otherwise we fall through and re-raise\u001b[39;00m\n\u001b[1;32m   3658\u001b[0m     \u001b[38;5;66;03m#  the TypeError.\u001b[39;00m\n\u001b[1;32m   3659\u001b[0m     \u001b[38;5;28mself\u001b[39m\u001b[38;5;241m.\u001b[39m_check_indexing_error(key)\n",
      "\u001b[0;31mKeyError\u001b[0m: 'bio19'"
     ]
    }
   ],
   "source": [
    "import pandas as pd\n",
    "import statsmodels.api as sm\n",
    "\n",
    "path_ldp_af = '/carnegie/nobackup/scratch/xwu/grenet/merged_frequency/merged_hapFIRE_allele_frequency_LDpruned.txt'\n",
    "\n",
    "allele_freq = pd.read_csv(path_ldp_af, sep = '\\t', usecols=train_samples)\n",
    "\n",
    "# Load your data (adjust paths and column names as necessary)\n",
    "geno_data = allele_freq.copy()\n",
    "env_data = env.copy()  # DataFrame of environmental data\n",
    "\n",
    "# List of indices for significant SNPs\n",
    "\n",
    "# Prepare a dictionary to store results\n",
    "results = {}\n",
    "\n",
    "# Loop through each significant SNP index\n",
    "\n",
    "for index in significant_index:\n",
    "    # Prepare the X (predictor) and Y (response) variables\n",
    "    X = env_data['bio19']  # Adjust 'Env_Variable' to your specific environmental variable\n",
    "    X = sm.add_constant(X)  # Adds a constant term to the predictor\n",
    "    y = geno_data.iloc[index, :].reset_index(drop=True)   # Assumes each column in geno_data is a SNP\n",
    "    \n",
    "    # Create a figure for each plot\n",
    "    #plt.figure(figsize=(10, 6))  # You can adjust the size as needed\n",
    "    #sns.lineplot(x=env_data['bio19'], y=y)\n",
    "    #plt.title(f'Regression Plot for SNP Index {index}')\n",
    "    #plt.xlabel('bio19')\n",
    "    #plt.ylabel('Allele Frequency')\n",
    "\n",
    "    \n",
    "    model = sm.OLS(y, X).fit()\n",
    "\n",
    "    # New x values for prediction\n",
    "    new_x_values = np.array([-1.763503, 2.50])\n",
    "    new_X = sm.add_constant(new_x_values)  # Don't forget to add a constant to match your model's design\n",
    "\n",
    "    # Predict y using the fitted model\n",
    "    y_pred = model.predict(new_X)\n",
    "\n",
    "    # Store results and predictions\n",
    "    results[index] = {\n",
    "        'intercept': model.params['const'],\n",
    "        'beta': model.params['bio19'],\n",
    "        'p_value': model.pvalues['bio19'],\n",
    "        'r_squared': model.rsquared,\n",
    "        'predicted_y': y_pred  # Store the predicted values\n",
    "    }\n",
    "results_df = pd.DataFrame.from_dict(results, orient='index')"
   ]
  },
  {
   "cell_type": "code",
   "execution_count": null,
   "id": "27c24e87-ba93-4b82-9e6a-eb8d72f10c29",
   "metadata": {},
   "outputs": [],
   "source": []
  },
  {
   "cell_type": "code",
   "execution_count": null,
   "id": "640362b9-dfdd-4a40-b238-017fc414057f",
   "metadata": {},
   "outputs": [],
   "source": []
  },
  {
   "cell_type": "code",
   "execution_count": 40,
   "id": "e006dde2-87cd-4aaa-afd8-d3b9b2fa16ac",
   "metadata": {},
   "outputs": [],
   "source": [
    "test_samples = splits_samples[0][1]"
   ]
  },
  {
   "cell_type": "code",
   "execution_count": 41,
   "id": "bf380dc3-2745-4836-ba08-89e9a10b10fe",
   "metadata": {},
   "outputs": [],
   "source": [
    "#### training \n",
    "\n",
    "path_ldp_af = '/carnegie/nobackup/scratch/xwu/grenet/merged_frequency/merged_hapFIRE_allele_frequency_LDpruned.txt'\n",
    "\n",
    "allele_freq = dd.read_csv(path_ldp_af, sep = '\\t', usecols=train_samples)\n",
    "\n",
    "clim_sites_during_exp = pd.read_csv('/carnegie/nobackup/scratch/tbellagio/grene/data/bioclimvars_experimental_sites_era5.csv')\n",
    "\n",
    "sites_af = pd.Series(allele_freq.columns.str.split('_').str[0]).astype(int)\n",
    "\n",
    "sites_af.name = 'site'\n",
    "\n",
    "env = sites_af.reset_index().merge(clim_sites_during_exp).drop(['index'],axis=1)\n",
    "\n",
    "##scale it\n",
    "means = {}\n",
    "stds = {}\n",
    "for i in env.columns[1:]:\n",
    "    means[i] = np.mean(env[i])\n",
    "    stds[i] = np.std(env[i])\n",
    "    env[i] = (env[i] - np.mean(env[i])) / np.std(env[i])\n",
    "\n",
    "env = env.drop('site',axis=1)\n",
    "\n",
    "#env.to_csv(f'split_number_{number}/environment_lea.csv', sep = ',', index=False)\n"
   ]
  },
  {
   "cell_type": "code",
   "execution_count": 42,
   "id": "fafc351f-12d0-415e-b6b3-40919de55ef7",
   "metadata": {},
   "outputs": [],
   "source": [
    "path_ldp_af = '/carnegie/nobackup/scratch/xwu/grenet/merged_frequency/merged_hapFIRE_allele_frequency_LDpruned.txt'\n",
    "\n",
    "allele_freq = dd.read_csv(path_ldp_af, sep = '\\t', usecols=test_samples)\n",
    "\n",
    "clim_sites_during_exp = pd.read_csv('/carnegie/nobackup/scratch/tbellagio/grene/data/bioclimvars_experimental_sites_era5.csv')\n",
    "\n",
    "sites_af = pd.Series(allele_freq.columns.str.split('_').str[0]).astype(int)\n",
    "\n",
    "sites_af = sites_af.drop_duplicates()\n",
    "\n",
    "sites_af.name = 'site'\n",
    "\n",
    "env_test = sites_af.reset_index().merge(clim_sites_during_exp).drop(['index'],axis=1)\n",
    "\n",
    "##scale it for the testing we used the saved mean and std\n",
    "for i in env_test.columns[1:]:\n",
    "    env_test[i] = (env_test[i] - means[i]) / stds[i]\n",
    "\n",
    "#env = env.drop('site',axis=1)\n",
    "#env.to_csv(f'split_number_{number}/environment_lea.csv', sep = ',', index=False)\n",
    "\n"
   ]
  },
  {
   "cell_type": "code",
   "execution_count": 43,
   "id": "340307c9-4ac9-4e39-b8b7-3ed7324ae7ee",
   "metadata": {},
   "outputs": [
    {
     "data": {
      "text/plain": [
       "[4, 24, 48, 52, 55, 57]"
      ]
     },
     "execution_count": 43,
     "metadata": {},
     "output_type": "execute_result"
    }
   ],
   "source": [
    "env_test['site'].to_list()"
   ]
  },
  {
   "cell_type": "code",
   "execution_count": null,
   "id": "acd9ddb0-9c6e-40a4-9158-a27a35d7b176",
   "metadata": {},
   "outputs": [],
   "source": []
  },
  {
   "cell_type": "code",
   "execution_count": 45,
   "id": "a68b2ee3-8f95-4f20-883f-434f7d5c7a79",
   "metadata": {},
   "outputs": [],
   "source": [
    "import pandas as pd\n",
    "import statsmodels.api as sm\n",
    "\n",
    "path_ldp_af = '/carnegie/nobackup/scratch/xwu/grenet/merged_frequency/merged_hapFIRE_allele_frequency_LDpruned.txt'\n",
    "\n",
    "allele_freq = pd.read_csv(path_ldp_af, sep = '\\t', usecols=train_samples)\n",
    "\n",
    "# Load your data (adjust paths and column names as necessary)\n",
    "geno_data = allele_freq.copy()\n",
    "env_data = env.copy()  # DataFrame of environmental data\n",
    "\n",
    "# List of indices for significant SNPs\n",
    "significant_snp_indices = significant_index # Example indices\n",
    "\n",
    "# Prepare a dictionary to store results\n",
    "results = {}\n",
    "\n",
    "# Loop through each significant SNP index\n",
    "for index in significant_index:\n",
    "    # Prepare the X (predictor) and Y (response) variables\n",
    "    X = env_data['bio19']  # Adjust 'Env_Variable' to your specific environmental variable\n",
    "    X = sm.add_constant(X)  # Adds a constant term to the predictor\n",
    "    y = geno_data.iloc[index, :].reset_index(drop=True)   # Assumes each column in geno_data is a SNP\n",
    "    \n",
    "    # Create a figure for each plot\n",
    "    #plt.figure(figsize=(10, 6))  # You can adjust the size as needed\n",
    "    #sns.lineplot(x=env_data['bio19'], y=y)\n",
    "    #plt.title(f'Regression Plot for SNP Index {index}')\n",
    "    #plt.xlabel('bio19')\n",
    "    #plt.ylabel('Allele Frequency')\n",
    "\n",
    "    \n",
    "    model = sm.OLS(y, X).fit()\n",
    "\n",
    "    # New x values for prediction\n",
    "    new_x_values = env_test['bio19'].values\n",
    "    new_X = sm.add_constant(new_x_values)  # Don't forget to add a constant to match your model's design\n",
    "\n",
    "    # Predict y using the fitted model\n",
    "    y_pred = model.predict(new_X)\n",
    "\n",
    "    # Store results and predictions\n",
    "    results[index] = {\n",
    "        'intercept': model.params['const'],\n",
    "        'beta': model.params['bio19'],\n",
    "        'p_value': model.pvalues['bio19'],\n",
    "        'r_squared': model.rsquared,\n",
    "        'predicted_y': y_pred  # Store the predicted values\n",
    "    }"
   ]
  },
  {
   "cell_type": "code",
   "execution_count": 46,
   "id": "dade9687-bea7-4d30-8a2b-f3d612dea122",
   "metadata": {},
   "outputs": [
    {
     "data": {
      "text/plain": [
       "0   -0.903974\n",
       "1    2.003141\n",
       "2    0.063197\n",
       "3   -1.065298\n",
       "4    0.534096\n",
       "5   -0.286772\n",
       "Name: bio19, dtype: float64"
      ]
     },
     "execution_count": 46,
     "metadata": {},
     "output_type": "execute_result"
    }
   ],
   "source": [
    "env_test['bio19']"
   ]
  },
  {
   "cell_type": "code",
   "execution_count": 47,
   "id": "c606f2aa-fee0-412f-8c37-56e350e0d622",
   "metadata": {},
   "outputs": [],
   "source": [
    "## for site 1 "
   ]
  },
  {
   "cell_type": "code",
   "execution_count": 48,
   "id": "e5f7910f-70e9-407f-bc6f-f77400907df0",
   "metadata": {},
   "outputs": [],
   "source": [
    "matrix_results = {}\n",
    "for snp in results.keys():\n",
    "    one_snp = []\n",
    "    for index_biovar, biovar in enumerate(env_test['site']):\n",
    "        exp_af = results[snp]['predicted_y'][index_biovar]\n",
    "        one_snp.append(exp_af)\n",
    "    matrix_results[snp] = one_snp"
   ]
  },
  {
   "cell_type": "code",
   "execution_count": 49,
   "id": "d988d7ba-b46f-4a53-9893-d133e12507a0",
   "metadata": {},
   "outputs": [],
   "source": [
    "matrix_results = pd.DataFrame.from_dict(matrix_results, orient='index')\n",
    "matrix_results.columns = env_test['site'].to_list()"
   ]
  },
  {
   "cell_type": "code",
   "execution_count": 50,
   "id": "c49982d3-1765-41c6-b372-684748452439",
   "metadata": {
    "scrolled": true
   },
   "outputs": [
    {
     "data": {
      "text/html": [
       "<div>\n",
       "<style scoped>\n",
       "    .dataframe tbody tr th:only-of-type {\n",
       "        vertical-align: middle;\n",
       "    }\n",
       "\n",
       "    .dataframe tbody tr th {\n",
       "        vertical-align: top;\n",
       "    }\n",
       "\n",
       "    .dataframe thead th {\n",
       "        text-align: right;\n",
       "    }\n",
       "</style>\n",
       "<table border=\"1\" class=\"dataframe\">\n",
       "  <thead>\n",
       "    <tr style=\"text-align: right;\">\n",
       "      <th></th>\n",
       "      <th>4</th>\n",
       "      <th>24</th>\n",
       "      <th>48</th>\n",
       "      <th>52</th>\n",
       "      <th>55</th>\n",
       "      <th>57</th>\n",
       "    </tr>\n",
       "  </thead>\n",
       "  <tbody>\n",
       "    <tr>\n",
       "      <th>52</th>\n",
       "      <td>0.039317</td>\n",
       "      <td>0.027088</td>\n",
       "      <td>0.035248</td>\n",
       "      <td>0.039995</td>\n",
       "      <td>0.033268</td>\n",
       "      <td>0.036721</td>\n",
       "    </tr>\n",
       "    <tr>\n",
       "      <th>267</th>\n",
       "      <td>0.198907</td>\n",
       "      <td>-0.001348</td>\n",
       "      <td>0.132284</td>\n",
       "      <td>0.210020</td>\n",
       "      <td>0.099846</td>\n",
       "      <td>0.156391</td>\n",
       "    </tr>\n",
       "    <tr>\n",
       "      <th>382</th>\n",
       "      <td>0.044057</td>\n",
       "      <td>0.055682</td>\n",
       "      <td>0.047924</td>\n",
       "      <td>0.043412</td>\n",
       "      <td>0.049807</td>\n",
       "      <td>0.046525</td>\n",
       "    </tr>\n",
       "    <tr>\n",
       "      <th>644</th>\n",
       "      <td>0.027848</td>\n",
       "      <td>0.116869</td>\n",
       "      <td>0.057464</td>\n",
       "      <td>0.022908</td>\n",
       "      <td>0.071884</td>\n",
       "      <td>0.046748</td>\n",
       "    </tr>\n",
       "    <tr>\n",
       "      <th>1619</th>\n",
       "      <td>0.061855</td>\n",
       "      <td>0.070844</td>\n",
       "      <td>0.064846</td>\n",
       "      <td>0.061357</td>\n",
       "      <td>0.066302</td>\n",
       "      <td>0.063764</td>\n",
       "    </tr>\n",
       "    <tr>\n",
       "      <th>2292</th>\n",
       "      <td>0.034807</td>\n",
       "      <td>0.047364</td>\n",
       "      <td>0.038985</td>\n",
       "      <td>0.034110</td>\n",
       "      <td>0.041019</td>\n",
       "      <td>0.037473</td>\n",
       "    </tr>\n",
       "    <tr>\n",
       "      <th>2565</th>\n",
       "      <td>0.917230</td>\n",
       "      <td>0.907404</td>\n",
       "      <td>0.913961</td>\n",
       "      <td>0.917775</td>\n",
       "      <td>0.912370</td>\n",
       "      <td>0.915144</td>\n",
       "    </tr>\n",
       "    <tr>\n",
       "      <th>5297</th>\n",
       "      <td>0.029408</td>\n",
       "      <td>0.037002</td>\n",
       "      <td>0.031935</td>\n",
       "      <td>0.028987</td>\n",
       "      <td>0.033165</td>\n",
       "      <td>0.031021</td>\n",
       "    </tr>\n",
       "    <tr>\n",
       "      <th>5602</th>\n",
       "      <td>0.244211</td>\n",
       "      <td>-0.041993</td>\n",
       "      <td>0.148994</td>\n",
       "      <td>0.260093</td>\n",
       "      <td>0.102634</td>\n",
       "      <td>0.183448</td>\n",
       "    </tr>\n",
       "    <tr>\n",
       "      <th>6898</th>\n",
       "      <td>0.057367</td>\n",
       "      <td>0.044503</td>\n",
       "      <td>0.053087</td>\n",
       "      <td>0.058081</td>\n",
       "      <td>0.051003</td>\n",
       "      <td>0.054636</td>\n",
       "    </tr>\n",
       "    <tr>\n",
       "      <th>7546</th>\n",
       "      <td>0.147025</td>\n",
       "      <td>-0.011970</td>\n",
       "      <td>0.094129</td>\n",
       "      <td>0.155848</td>\n",
       "      <td>0.068374</td>\n",
       "      <td>0.113269</td>\n",
       "    </tr>\n",
       "    <tr>\n",
       "      <th>8501</th>\n",
       "      <td>0.035539</td>\n",
       "      <td>0.014394</td>\n",
       "      <td>0.028504</td>\n",
       "      <td>0.036712</td>\n",
       "      <td>0.025079</td>\n",
       "      <td>0.031050</td>\n",
       "    </tr>\n",
       "    <tr>\n",
       "      <th>8840</th>\n",
       "      <td>0.186267</td>\n",
       "      <td>0.302129</td>\n",
       "      <td>0.224813</td>\n",
       "      <td>0.179837</td>\n",
       "      <td>0.243581</td>\n",
       "      <td>0.210865</td>\n",
       "    </tr>\n",
       "    <tr>\n",
       "      <th>9292</th>\n",
       "      <td>0.870673</td>\n",
       "      <td>0.909584</td>\n",
       "      <td>0.883618</td>\n",
       "      <td>0.868514</td>\n",
       "      <td>0.889921</td>\n",
       "      <td>0.878934</td>\n",
       "    </tr>\n",
       "    <tr>\n",
       "      <th>9388</th>\n",
       "      <td>0.072387</td>\n",
       "      <td>0.114046</td>\n",
       "      <td>0.086246</td>\n",
       "      <td>0.070075</td>\n",
       "      <td>0.092995</td>\n",
       "      <td>0.081231</td>\n",
       "    </tr>\n",
       "    <tr>\n",
       "      <th>11599</th>\n",
       "      <td>0.086511</td>\n",
       "      <td>0.110226</td>\n",
       "      <td>0.094401</td>\n",
       "      <td>0.085195</td>\n",
       "      <td>0.098242</td>\n",
       "      <td>0.091546</td>\n",
       "    </tr>\n",
       "    <tr>\n",
       "      <th>12059</th>\n",
       "      <td>0.036392</td>\n",
       "      <td>0.053373</td>\n",
       "      <td>0.042041</td>\n",
       "      <td>0.035449</td>\n",
       "      <td>0.044792</td>\n",
       "      <td>0.039997</td>\n",
       "    </tr>\n",
       "    <tr>\n",
       "      <th>13254</th>\n",
       "      <td>0.039719</td>\n",
       "      <td>0.030808</td>\n",
       "      <td>0.036754</td>\n",
       "      <td>0.040213</td>\n",
       "      <td>0.035311</td>\n",
       "      <td>0.037827</td>\n",
       "    </tr>\n",
       "    <tr>\n",
       "      <th>13450</th>\n",
       "      <td>0.047231</td>\n",
       "      <td>0.068841</td>\n",
       "      <td>0.054420</td>\n",
       "      <td>0.046032</td>\n",
       "      <td>0.057921</td>\n",
       "      <td>0.051819</td>\n",
       "    </tr>\n",
       "  </tbody>\n",
       "</table>\n",
       "</div>"
      ],
      "text/plain": [
       "             4         24        48        52        55        57\n",
       "52     0.039317  0.027088  0.035248  0.039995  0.033268  0.036721\n",
       "267    0.198907 -0.001348  0.132284  0.210020  0.099846  0.156391\n",
       "382    0.044057  0.055682  0.047924  0.043412  0.049807  0.046525\n",
       "644    0.027848  0.116869  0.057464  0.022908  0.071884  0.046748\n",
       "1619   0.061855  0.070844  0.064846  0.061357  0.066302  0.063764\n",
       "2292   0.034807  0.047364  0.038985  0.034110  0.041019  0.037473\n",
       "2565   0.917230  0.907404  0.913961  0.917775  0.912370  0.915144\n",
       "5297   0.029408  0.037002  0.031935  0.028987  0.033165  0.031021\n",
       "5602   0.244211 -0.041993  0.148994  0.260093  0.102634  0.183448\n",
       "6898   0.057367  0.044503  0.053087  0.058081  0.051003  0.054636\n",
       "7546   0.147025 -0.011970  0.094129  0.155848  0.068374  0.113269\n",
       "8501   0.035539  0.014394  0.028504  0.036712  0.025079  0.031050\n",
       "8840   0.186267  0.302129  0.224813  0.179837  0.243581  0.210865\n",
       "9292   0.870673  0.909584  0.883618  0.868514  0.889921  0.878934\n",
       "9388   0.072387  0.114046  0.086246  0.070075  0.092995  0.081231\n",
       "11599  0.086511  0.110226  0.094401  0.085195  0.098242  0.091546\n",
       "12059  0.036392  0.053373  0.042041  0.035449  0.044792  0.039997\n",
       "13254  0.039719  0.030808  0.036754  0.040213  0.035311  0.037827\n",
       "13450  0.047231  0.068841  0.054420  0.046032  0.057921  0.051819"
      ]
     },
     "execution_count": 50,
     "metadata": {},
     "output_type": "execute_result"
    }
   ],
   "source": [
    "matrix_results"
   ]
  },
  {
   "cell_type": "code",
   "execution_count": 51,
   "id": "6d0c6506-e931-4b01-a9ae-3085882467e2",
   "metadata": {},
   "outputs": [
    {
     "data": {
      "text/plain": [
       "Index([   52,   267,   382,   644,  1619,  2292,  2565,  5297,  5602,  6898,\n",
       "        7546,  8501,  8840,  9292,  9388, 11599, 12059, 13254, 13450],\n",
       "      dtype='int64')"
      ]
     },
     "execution_count": 51,
     "metadata": {},
     "output_type": "execute_result"
    }
   ],
   "source": [
    "matrix_results.index"
   ]
  },
  {
   "cell_type": "code",
   "execution_count": null,
   "id": "41088c90-798c-4fe5-8675-c4530f1fcd12",
   "metadata": {},
   "outputs": [],
   "source": []
  },
  {
   "cell_type": "code",
   "execution_count": 52,
   "id": "ab3b8100-5dac-4355-a60c-96602ff0523c",
   "metadata": {},
   "outputs": [],
   "source": [
    "## get the vcf file frothe chromosomes and positions \n",
    "import allel\n",
    "## ld pruned vcf file\n",
    "ld_prunned_vcf_file = '/carnegie/nobackup/scratch/xwu/grenet/hapFIRE_updatedVCF/greneNet_final_v1.1_LDpruned.recode.vcf'\n",
    "ld_prunned_vcf = allel.read_vcf(ld_prunned_vcf_file)"
   ]
  },
  {
   "cell_type": "code",
   "execution_count": 53,
   "id": "c26dee07-b991-4685-9029-abbadae3fd3b",
   "metadata": {},
   "outputs": [],
   "source": [
    "ld_prunned_chrom = ld_prunned_vcf['variants/CHROM']\n",
    "ld_prunned_pos = ld_prunned_vcf['variants/POS']"
   ]
  },
  {
   "cell_type": "code",
   "execution_count": 54,
   "id": "c71edb9c-bb66-4d3c-864e-ed2ebde4f96e",
   "metadata": {},
   "outputs": [],
   "source": [
    "index_pos = {}\n",
    "for index, pos in enumerate(ld_prunned_pos):\n",
    "    index_pos[index] = pos"
   ]
  },
  {
   "cell_type": "code",
   "execution_count": 55,
   "id": "113ef43b-440d-49ae-a981-2c398f53ff4c",
   "metadata": {},
   "outputs": [],
   "source": [
    "real_positions = []\n",
    "for i in matrix_results.index:\n",
    "    real_pos = index_pos[i]\n",
    "    real_positions.append(real_pos)"
   ]
  },
  {
   "cell_type": "code",
   "execution_count": 56,
   "id": "eb23345d-1de9-4e62-bc7b-0afb05786271",
   "metadata": {},
   "outputs": [],
   "source": [
    "#matrix_results.index = real_positions"
   ]
  },
  {
   "cell_type": "code",
   "execution_count": 57,
   "id": "72fa20cc-e6e4-432e-b91b-70a1668e16c1",
   "metadata": {
    "scrolled": true
   },
   "outputs": [
    {
     "data": {
      "text/plain": [
       "(13985, 231, 2)"
      ]
     },
     "execution_count": 57,
     "metadata": {},
     "output_type": "execute_result"
    }
   ],
   "source": [
    "ld_prunned_vcf['calldata/GT'].shape"
   ]
  },
  {
   "cell_type": "code",
   "execution_count": 58,
   "id": "24ad781b-3f79-4651-a123-daa574b3ca88",
   "metadata": {},
   "outputs": [
    {
     "data": {
      "text/plain": [
       "19"
      ]
     },
     "execution_count": 58,
     "metadata": {},
     "output_type": "execute_result"
    }
   ],
   "source": [
    "len(matrix_results.index)"
   ]
  },
  {
   "cell_type": "code",
   "execution_count": 59,
   "id": "b3066ffb-352e-42e1-8e63-c8579cdafa4e",
   "metadata": {},
   "outputs": [],
   "source": [
    "selected_snps = ld_prunned_vcf['calldata/GT'][matrix_results.index, :, :]"
   ]
  },
  {
   "cell_type": "code",
   "execution_count": 60,
   "id": "f9dd2c67-c293-4ee5-bc8a-6857859f585b",
   "metadata": {},
   "outputs": [
    {
     "data": {
      "text/plain": [
       "(19, 231, 2)"
      ]
     },
     "execution_count": 60,
     "metadata": {},
     "output_type": "execute_result"
    }
   ],
   "source": [
    "selected_snps.shape"
   ]
  },
  {
   "cell_type": "code",
   "execution_count": 61,
   "id": "2785a6eb-dc7f-4cda-9e7f-040c0caf1303",
   "metadata": {},
   "outputs": [],
   "source": [
    "genotype_counts = np.sum(selected_snps, axis=2)"
   ]
  },
  {
   "cell_type": "code",
   "execution_count": 62,
   "id": "9515e8e2-8e8b-4439-a73b-d4c84aae332c",
   "metadata": {},
   "outputs": [
    {
     "data": {
      "text/plain": [
       "(19, 231)"
      ]
     },
     "execution_count": 62,
     "metadata": {},
     "output_type": "execute_result"
    }
   ],
   "source": [
    "genotype_counts.shape"
   ]
  },
  {
   "cell_type": "code",
   "execution_count": 63,
   "id": "722d962b-eef9-4d66-b4a2-45fd677bc918",
   "metadata": {},
   "outputs": [
    {
     "data": {
      "text/plain": [
       "array([[0, 0, 0, ..., 0, 0, 0],\n",
       "       [0, 0, 0, ..., 0, 0, 0],\n",
       "       [0, 0, 0, ..., 0, 0, 0],\n",
       "       ...,\n",
       "       [0, 2, 0, ..., 0, 0, 0],\n",
       "       [0, 0, 0, ..., 0, 0, 2],\n",
       "       [2, 0, 0, ..., 0, 0, 2]])"
      ]
     },
     "execution_count": 63,
     "metadata": {},
     "output_type": "execute_result"
    }
   ],
   "source": [
    "genotype_counts"
   ]
  },
  {
   "cell_type": "code",
   "execution_count": 64,
   "id": "64b95e9e-6190-46bd-895b-24967f9a69bf",
   "metadata": {},
   "outputs": [
    {
     "data": {
      "text/plain": [
       "13985"
      ]
     },
     "execution_count": 64,
     "metadata": {},
     "output_type": "execute_result"
    }
   ],
   "source": [
    "len(ld_prunned_pos)"
   ]
  },
  {
   "cell_type": "code",
   "execution_count": null,
   "id": "40658ff8-2b78-432f-a62f-c9db6906559a",
   "metadata": {},
   "outputs": [],
   "source": []
  },
  {
   "cell_type": "code",
   "execution_count": 3,
   "id": "8cc99d11-9f86-488b-a0bc-f598e8712399",
   "metadata": {},
   "outputs": [
    {
     "name": "stderr",
     "output_type": "stream",
     "text": [
      "/home/tbellagio/.local/lib/python3.9/site-packages/scipy/__init__.py:146: UserWarning: A NumPy version >=1.17.3 and <1.25.0 is required for this version of SciPy (detected version 1.26.4\n",
      "  warnings.warn(f\"A NumPy version >={np_minversion} and <{np_maxversion}\"\n"
     ]
    }
   ],
   "source": [
    "import sys\n",
    "sys.path.append('/home/tbellagio/miniforge3/envs/pipeline_snakemake/lib/python3.9/site-packages')\n",
    "import cvxpy"
   ]
  },
  {
   "cell_type": "code",
   "execution_count": 65,
   "id": "c4af357e-c5f9-4246-afa8-40b85a69d4e9",
   "metadata": {},
   "outputs": [],
   "source": [
    "import numpy as np\n",
    "import cvxpy as cp"
   ]
  },
  {
   "cell_type": "code",
   "execution_count": 68,
   "id": "a9cfd4a6-00d7-4ac9-94d1-323f30e2f035",
   "metadata": {},
   "outputs": [
    {
     "data": {
      "text/plain": [
       "array([0.03931685, 0.19890689, 0.04405682, 0.02784783, 0.06185549,\n",
       "       0.03480725, 0.91723018, 0.02940837, 0.24421111, 0.05736675,\n",
       "       0.14702477, 0.03553881, 0.18626661, 0.87067292, 0.07238665,\n",
       "       0.08651136, 0.03639179, 0.03971899, 0.04723094])"
      ]
     },
     "execution_count": 68,
     "metadata": {},
     "output_type": "execute_result"
    }
   ],
   "source": [
    "np.asarray(matrix_results[4])"
   ]
  },
  {
   "cell_type": "code",
   "execution_count": null,
   "id": "05c01ffc-fddb-40c7-8522-cf611b3c6515",
   "metadata": {},
   "outputs": [],
   "source": []
  },
  {
   "cell_type": "code",
   "execution_count": 69,
   "id": "ea40279c-aad4-4953-a41c-a95729c35d08",
   "metadata": {},
   "outputs": [],
   "source": [
    "y = np.asarray(matrix_results[4]) * 2\n"
   ]
  },
  {
   "cell_type": "code",
   "execution_count": 70,
   "id": "daf6e695-1349-47f2-986a-16623d4c8bcd",
   "metadata": {},
   "outputs": [],
   "source": [
    "h = cp.Variable(231)"
   ]
  },
  {
   "cell_type": "code",
   "execution_count": 72,
   "id": "83077834-cfe7-464d-bcba-86d4f075a62e",
   "metadata": {},
   "outputs": [],
   "source": [
    "product = genotype_counts @ h "
   ]
  },
  {
   "cell_type": "code",
   "execution_count": 73,
   "id": "912519f8-e070-4eca-98c2-c85c3a836f0f",
   "metadata": {},
   "outputs": [],
   "source": [
    "diff = product - y"
   ]
  },
  {
   "cell_type": "code",
   "execution_count": 74,
   "id": "40aa06d4-a792-4b94-b34d-91048979ed58",
   "metadata": {},
   "outputs": [],
   "source": [
    "constraints = [0 <= h, sum(h) == 1]\n"
   ]
  },
  {
   "cell_type": "code",
   "execution_count": 75,
   "id": "0e238d16-db92-4240-b5a7-cafbb593d14e",
   "metadata": {},
   "outputs": [
    {
     "data": {
      "text/plain": [
       "6.661155779637421e-09"
      ]
     },
     "execution_count": 75,
     "metadata": {},
     "output_type": "execute_result"
    }
   ],
   "source": [
    "problem = cp.Problem(cp.Minimize(cp.norm(diff)), constraints)\n",
    "\n",
    "# Solve the optimization problem using the SCS solver, with verbose output disabled.\n",
    "problem.solve(solver='SCS', verbose=False)\n"
   ]
  },
  {
   "cell_type": "code",
   "execution_count": 77,
   "id": "d54646c4-742b-489a-b3f4-571f4a063b04",
   "metadata": {},
   "outputs": [
    {
     "data": {
      "text/plain": [
       "(231,)"
      ]
     },
     "execution_count": 77,
     "metadata": {},
     "output_type": "execute_result"
    }
   ],
   "source": [
    "h.value.shape"
   ]
  },
  {
   "cell_type": "code",
   "execution_count": 78,
   "id": "4d8eecd0-3d10-403c-a95e-cd5cb6ac63ab",
   "metadata": {},
   "outputs": [],
   "source": [
    "ecotype_frequency = h.value"
   ]
  },
  {
   "cell_type": "code",
   "execution_count": null,
   "id": "c9ca7df3-5401-453c-bfc2-6c219cbaf9a7",
   "metadata": {},
   "outputs": [],
   "source": []
  },
  {
   "cell_type": "code",
   "execution_count": null,
   "id": "2667cbcc-dd74-4e94-8f2a-39a852cfd789",
   "metadata": {},
   "outputs": [],
   "source": []
  },
  {
   "cell_type": "code",
   "execution_count": null,
   "id": "03b28bfa-13e0-4f8c-99e9-dcb197189920",
   "metadata": {},
   "outputs": [],
   "source": []
  },
  {
   "cell_type": "code",
   "execution_count": null,
   "id": "a2cccd2a-b08f-4531-90cc-325f14495b11",
   "metadata": {},
   "outputs": [],
   "source": []
  },
  {
   "cell_type": "code",
   "execution_count": null,
   "id": "e736b0a8-0ad2-41d8-9d86-f92840e1d861",
   "metadata": {},
   "outputs": [],
   "source": []
  },
  {
   "cell_type": "code",
   "execution_count": null,
   "id": "757792ff-4c9c-4010-8959-d092fdb4f9e5",
   "metadata": {},
   "outputs": [],
   "source": [
    "\n",
    "\n",
    "# `y` represents the haplotype frequency, for me the allele frequency \n",
    "## i?? take it away  this is because you do it per haplotype block?? \n",
    "## \n",
    "y = np.asarray(independent_block_haplotype_frequency[i]) * 2\n",
    "\n",
    "# Create a variable `h` using CVXPY, which represents the frequencies of ecotypes??.\n",
    "# Its dimension is set to match 231?? \n",
    "h = cp.Variable(haplotype.shape[0])\n",
    "\n",
    "# `product` computes the dot product of the transpose of the haplotype design matrix with the vector `h`.\n",
    "# for me the haplotype sedign matrix is gonna be the genotype matrix??? \n",
    "product = independent_haplotype_DM_.T @ h \n",
    "\n",
    "# Calculate the residuals `diff` by subtracting the observed frequencies `y` from the modeled `product`.\n",
    "diff = product - y\n",
    "\n",
    "# Define constraints for the optimization problem:\n",
    "# 1. All elements of `h` must be non-negative.\n",
    "# 2. The sum of all elements in `h` must equal 1 (ensuring that `h` represents a probability distribution).\n",
    "constraints = [0 <= h, sum(h) == 1]\n",
    "\n",
    "# Formulate the optimization problem:\n",
    "# The objective is to minimize the norm of the residuals `diff`.\n",
    "# This norm minimization helps in fitting the model close to the observed data.\n",
    "problem = cp.Problem(cp.Minimize(cp.norm(diff)), constraints)\n",
    "\n",
    "# Solve the optimization problem using the SCS solver, with verbose output disabled.\n",
    "problem.solve(solver='SCS', verbose=False)\n",
    "\n",
    "# Store the solution of `h` (the estimated haplotype frequencies) in `ecotype_frequency` at index `i`.\n",
    "## for you it was an index becasue it was at haplotype block i ???? \n",
    "ecotype_frequency[i, :] = h.value\n",
    "\n",
    "# `weights` is a list that stores the distance between variants to perhaps weigh the influence of each segment.\n",
    "# Here, it appends the distance between the right and left variant positions.\n",
    "weights.append(variant_positions[right] - variant_positions[left])"
   ]
  },
  {
   "cell_type": "code",
   "execution_count": null,
   "id": "08ba2e3c-fc1e-4d67-b781-73cc458f6e7a",
   "metadata": {},
   "outputs": [],
   "source": []
  },
  {
   "cell_type": "code",
   "execution_count": 45,
   "id": "f39ca4cd-45e8-4b12-a3d7-0a2f73752189",
   "metadata": {},
   "outputs": [],
   "source": [
    "import csv"
   ]
  },
  {
   "cell_type": "code",
   "execution_count": 46,
   "id": "2574b3ea-2282-4abe-a17d-cf9ec091ee07",
   "metadata": {},
   "outputs": [],
   "source": [
    "## function to fin diles \n",
    "def find_files(directory, filename):\n",
    "    matches = []  # List to store the full paths of matching files\n",
    "    for root, dirs, files in os.walk(directory):\n",
    "        if filename in files:\n",
    "            full_path = os.path.join(root, filename)\n",
    "            matches.append(full_path)\n",
    "    return matches\n",
    "\n",
    "## generate transpose function \n",
    "def transpose(input, output):\n",
    "    a = zip(*csv.reader(open(input, \"rt\")))\n",
    "    csv.writer(open(output, \"wt\")).writerows(a)"
   ]
  },
  {
   "cell_type": "code",
   "execution_count": 22,
   "id": "5481f7a9-74e6-4b38-bc3c-1fffe10ee062",
   "metadata": {},
   "outputs": [],
   "source": [
    "root_directory = '/carnegie/nobackup/scratch/tbellagio/gea_grene-net/leave_1_out/'  # Update this to the directory you want to search\n",
    "\n",
    "## retrieve all no adjusted qvalues\n",
    "target_filename = 'notadj_qvalues_full_genome.csv'\n",
    "notadj_qvalues_files = find_files(root_directory, target_filename)\n",
    "\n",
    "## retrieve all no adjusted pvalues\n",
    "target_filename = 'notadj_pvalues_full_genome.csv'\n",
    "notadj_pvalues_files = find_files(root_directory, target_filename)\n"
   ]
  },
  {
   "cell_type": "code",
   "execution_count": 42,
   "id": "67552f49-d53f-4056-b6bf-bdc7444f5b4f",
   "metadata": {},
   "outputs": [
    {
     "data": {
      "text/plain": [
       "17    /carnegie/nobackup/scratch/tbellagio/gea_grene...\n",
       "59    /carnegie/nobackup/scratch/tbellagio/gea_grene...\n",
       "34    /carnegie/nobackup/scratch/tbellagio/gea_grene...\n",
       "89    /carnegie/nobackup/scratch/tbellagio/gea_grene...\n",
       "dtype: object"
      ]
     },
     "execution_count": 42,
     "metadata": {},
     "output_type": "execute_result"
    }
   ],
   "source": [
    "pd.Series(notadj_pvalues_files).sort_values()[-4:]"
   ]
  },
  {
   "cell_type": "code",
   "execution_count": 39,
   "id": "2c34d6a9-073a-45d5-a753-4dc5187db8f0",
   "metadata": {},
   "outputs": [
    {
     "name": "stdout",
     "output_type": "stream",
     "text": [
      "/carnegie/nobackup/scratch/tbellagio/gea_grene-net/leave_1_out/split_number_0/notadj_pvalues_full_genome.csv\n",
      "/carnegie/nobackup/scratch/tbellagio/gea_grene-net/leave_1_out/split_number_1/notadj_pvalues_full_genome.csv\n",
      "/carnegie/nobackup/scratch/tbellagio/gea_grene-net/leave_1_out/split_number_10/notadj_pvalues_full_genome.csv\n",
      "/carnegie/nobackup/scratch/tbellagio/gea_grene-net/leave_1_out/split_number_11/notadj_pvalues_full_genome.csv\n",
      "/carnegie/nobackup/scratch/tbellagio/gea_grene-net/leave_1_out/split_number_12/notadj_pvalues_full_genome.csv\n",
      "/carnegie/nobackup/scratch/tbellagio/gea_grene-net/leave_1_out/split_number_13/notadj_pvalues_full_genome.csv\n",
      "/carnegie/nobackup/scratch/tbellagio/gea_grene-net/leave_1_out/split_number_14/notadj_pvalues_full_genome.csv\n",
      "/carnegie/nobackup/scratch/tbellagio/gea_grene-net/leave_1_out/split_number_15/notadj_pvalues_full_genome.csv\n",
      "/carnegie/nobackup/scratch/tbellagio/gea_grene-net/leave_1_out/split_number_16/notadj_pvalues_full_genome.csv\n",
      "/carnegie/nobackup/scratch/tbellagio/gea_grene-net/leave_1_out/split_number_17/notadj_pvalues_full_genome.csv\n",
      "/carnegie/nobackup/scratch/tbellagio/gea_grene-net/leave_1_out/split_number_18/notadj_pvalues_full_genome.csv\n",
      "/carnegie/nobackup/scratch/tbellagio/gea_grene-net/leave_1_out/split_number_19/notadj_pvalues_full_genome.csv\n",
      "/carnegie/nobackup/scratch/tbellagio/gea_grene-net/leave_1_out/split_number_2/notadj_pvalues_full_genome.csv\n",
      "/carnegie/nobackup/scratch/tbellagio/gea_grene-net/leave_1_out/split_number_20/notadj_pvalues_full_genome.csv\n",
      "/carnegie/nobackup/scratch/tbellagio/gea_grene-net/leave_1_out/split_number_21/notadj_pvalues_full_genome.csv\n",
      "/carnegie/nobackup/scratch/tbellagio/gea_grene-net/leave_1_out/split_number_22/notadj_pvalues_full_genome.csv\n",
      "/carnegie/nobackup/scratch/tbellagio/gea_grene-net/leave_1_out/split_number_23/notadj_pvalues_full_genome.csv\n",
      "/carnegie/nobackup/scratch/tbellagio/gea_grene-net/leave_1_out/split_number_24/notadj_pvalues_full_genome.csv\n",
      "/carnegie/nobackup/scratch/tbellagio/gea_grene-net/leave_1_out/split_number_25/notadj_pvalues_full_genome.csv\n",
      "/carnegie/nobackup/scratch/tbellagio/gea_grene-net/leave_1_out/split_number_26/notadj_pvalues_full_genome.csv\n",
      "/carnegie/nobackup/scratch/tbellagio/gea_grene-net/leave_1_out/split_number_27/notadj_pvalues_full_genome.csv\n",
      "/carnegie/nobackup/scratch/tbellagio/gea_grene-net/leave_1_out/split_number_28/notadj_pvalues_full_genome.csv\n",
      "/carnegie/nobackup/scratch/tbellagio/gea_grene-net/leave_1_out/split_number_29/notadj_pvalues_full_genome.csv\n",
      "/carnegie/nobackup/scratch/tbellagio/gea_grene-net/leave_1_out/split_number_3/notadj_pvalues_full_genome.csv\n",
      "/carnegie/nobackup/scratch/tbellagio/gea_grene-net/leave_1_out/split_number_30/notadj_pvalues_full_genome.csv\n",
      "/carnegie/nobackup/scratch/tbellagio/gea_grene-net/leave_1_out/split_number_31/notadj_pvalues_full_genome.csv\n",
      "/carnegie/nobackup/scratch/tbellagio/gea_grene-net/leave_1_out/split_number_32/notadj_pvalues_full_genome.csv\n",
      "/carnegie/nobackup/scratch/tbellagio/gea_grene-net/leave_1_out/split_number_33/notadj_pvalues_full_genome.csv\n",
      "/carnegie/nobackup/scratch/tbellagio/gea_grene-net/leave_1_out/split_number_34/notadj_pvalues_full_genome.csv\n",
      "/carnegie/nobackup/scratch/tbellagio/gea_grene-net/leave_1_out/split_number_35/notadj_pvalues_full_genome.csv\n",
      "/carnegie/nobackup/scratch/tbellagio/gea_grene-net/leave_1_out/split_number_36/notadj_pvalues_full_genome.csv\n",
      "/carnegie/nobackup/scratch/tbellagio/gea_grene-net/leave_1_out/split_number_37/notadj_pvalues_full_genome.csv\n",
      "/carnegie/nobackup/scratch/tbellagio/gea_grene-net/leave_1_out/split_number_38/notadj_pvalues_full_genome.csv\n",
      "/carnegie/nobackup/scratch/tbellagio/gea_grene-net/leave_1_out/split_number_39/notadj_pvalues_full_genome.csv\n",
      "/carnegie/nobackup/scratch/tbellagio/gea_grene-net/leave_1_out/split_number_4/notadj_pvalues_full_genome.csv\n",
      "/carnegie/nobackup/scratch/tbellagio/gea_grene-net/leave_1_out/split_number_40/notadj_pvalues_full_genome.csv\n",
      "/carnegie/nobackup/scratch/tbellagio/gea_grene-net/leave_1_out/split_number_41/notadj_pvalues_full_genome.csv\n",
      "/carnegie/nobackup/scratch/tbellagio/gea_grene-net/leave_1_out/split_number_42/notadj_pvalues_full_genome.csv\n",
      "/carnegie/nobackup/scratch/tbellagio/gea_grene-net/leave_1_out/split_number_43/notadj_pvalues_full_genome.csv\n",
      "/carnegie/nobackup/scratch/tbellagio/gea_grene-net/leave_1_out/split_number_44/notadj_pvalues_full_genome.csv\n",
      "/carnegie/nobackup/scratch/tbellagio/gea_grene-net/leave_1_out/split_number_45/notadj_pvalues_full_genome.csv\n",
      "/carnegie/nobackup/scratch/tbellagio/gea_grene-net/leave_1_out/split_number_46/notadj_pvalues_full_genome.csv\n",
      "/carnegie/nobackup/scratch/tbellagio/gea_grene-net/leave_1_out/split_number_47/notadj_pvalues_full_genome.csv\n",
      "/carnegie/nobackup/scratch/tbellagio/gea_grene-net/leave_1_out/split_number_48/notadj_pvalues_full_genome.csv\n",
      "/carnegie/nobackup/scratch/tbellagio/gea_grene-net/leave_1_out/split_number_49/notadj_pvalues_full_genome.csv\n",
      "/carnegie/nobackup/scratch/tbellagio/gea_grene-net/leave_1_out/split_number_5/notadj_pvalues_full_genome.csv\n",
      "/carnegie/nobackup/scratch/tbellagio/gea_grene-net/leave_1_out/split_number_50/notadj_pvalues_full_genome.csv\n",
      "/carnegie/nobackup/scratch/tbellagio/gea_grene-net/leave_1_out/split_number_51/notadj_pvalues_full_genome.csv\n",
      "/carnegie/nobackup/scratch/tbellagio/gea_grene-net/leave_1_out/split_number_52/notadj_pvalues_full_genome.csv\n",
      "/carnegie/nobackup/scratch/tbellagio/gea_grene-net/leave_1_out/split_number_53/notadj_pvalues_full_genome.csv\n",
      "/carnegie/nobackup/scratch/tbellagio/gea_grene-net/leave_1_out/split_number_54/notadj_pvalues_full_genome.csv\n",
      "/carnegie/nobackup/scratch/tbellagio/gea_grene-net/leave_1_out/split_number_55/notadj_pvalues_full_genome.csv\n",
      "/carnegie/nobackup/scratch/tbellagio/gea_grene-net/leave_1_out/split_number_56/notadj_pvalues_full_genome.csv\n",
      "/carnegie/nobackup/scratch/tbellagio/gea_grene-net/leave_1_out/split_number_57/notadj_pvalues_full_genome.csv\n",
      "/carnegie/nobackup/scratch/tbellagio/gea_grene-net/leave_1_out/split_number_58/notadj_pvalues_full_genome.csv\n",
      "/carnegie/nobackup/scratch/tbellagio/gea_grene-net/leave_1_out/split_number_59/notadj_pvalues_full_genome.csv\n",
      "/carnegie/nobackup/scratch/tbellagio/gea_grene-net/leave_1_out/split_number_6/notadj_pvalues_full_genome.csv\n",
      "/carnegie/nobackup/scratch/tbellagio/gea_grene-net/leave_1_out/split_number_60/notadj_pvalues_full_genome.csv\n",
      "/carnegie/nobackup/scratch/tbellagio/gea_grene-net/leave_1_out/split_number_61/notadj_pvalues_full_genome.csv\n",
      "/carnegie/nobackup/scratch/tbellagio/gea_grene-net/leave_1_out/split_number_62/notadj_pvalues_full_genome.csv\n",
      "/carnegie/nobackup/scratch/tbellagio/gea_grene-net/leave_1_out/split_number_63/notadj_pvalues_full_genome.csv\n",
      "/carnegie/nobackup/scratch/tbellagio/gea_grene-net/leave_1_out/split_number_64/notadj_pvalues_full_genome.csv\n",
      "/carnegie/nobackup/scratch/tbellagio/gea_grene-net/leave_1_out/split_number_65/notadj_pvalues_full_genome.csv\n",
      "/carnegie/nobackup/scratch/tbellagio/gea_grene-net/leave_1_out/split_number_66/notadj_pvalues_full_genome.csv\n",
      "/carnegie/nobackup/scratch/tbellagio/gea_grene-net/leave_1_out/split_number_67/notadj_pvalues_full_genome.csv\n",
      "/carnegie/nobackup/scratch/tbellagio/gea_grene-net/leave_1_out/split_number_68/notadj_pvalues_full_genome.csv\n",
      "/carnegie/nobackup/scratch/tbellagio/gea_grene-net/leave_1_out/split_number_69/notadj_pvalues_full_genome.csv\n",
      "/carnegie/nobackup/scratch/tbellagio/gea_grene-net/leave_1_out/split_number_7/notadj_pvalues_full_genome.csv\n",
      "/carnegie/nobackup/scratch/tbellagio/gea_grene-net/leave_1_out/split_number_70/notadj_pvalues_full_genome.csv\n",
      "/carnegie/nobackup/scratch/tbellagio/gea_grene-net/leave_1_out/split_number_71/notadj_pvalues_full_genome.csv\n",
      "/carnegie/nobackup/scratch/tbellagio/gea_grene-net/leave_1_out/split_number_72/notadj_pvalues_full_genome.csv\n",
      "/carnegie/nobackup/scratch/tbellagio/gea_grene-net/leave_1_out/split_number_73/notadj_pvalues_full_genome.csv\n",
      "/carnegie/nobackup/scratch/tbellagio/gea_grene-net/leave_1_out/split_number_74/notadj_pvalues_full_genome.csv\n",
      "/carnegie/nobackup/scratch/tbellagio/gea_grene-net/leave_1_out/split_number_75/notadj_pvalues_full_genome.csv\n",
      "/carnegie/nobackup/scratch/tbellagio/gea_grene-net/leave_1_out/split_number_76/notadj_pvalues_full_genome.csv\n",
      "/carnegie/nobackup/scratch/tbellagio/gea_grene-net/leave_1_out/split_number_77/notadj_pvalues_full_genome.csv\n",
      "/carnegie/nobackup/scratch/tbellagio/gea_grene-net/leave_1_out/split_number_78/notadj_pvalues_full_genome.csv\n",
      "/carnegie/nobackup/scratch/tbellagio/gea_grene-net/leave_1_out/split_number_79/notadj_pvalues_full_genome.csv\n",
      "/carnegie/nobackup/scratch/tbellagio/gea_grene-net/leave_1_out/split_number_8/notadj_pvalues_full_genome.csv\n",
      "/carnegie/nobackup/scratch/tbellagio/gea_grene-net/leave_1_out/split_number_80/notadj_pvalues_full_genome.csv\n",
      "/carnegie/nobackup/scratch/tbellagio/gea_grene-net/leave_1_out/split_number_81/notadj_pvalues_full_genome.csv\n",
      "/carnegie/nobackup/scratch/tbellagio/gea_grene-net/leave_1_out/split_number_82/notadj_pvalues_full_genome.csv\n",
      "/carnegie/nobackup/scratch/tbellagio/gea_grene-net/leave_1_out/split_number_83/notadj_pvalues_full_genome.csv\n",
      "/carnegie/nobackup/scratch/tbellagio/gea_grene-net/leave_1_out/split_number_84/notadj_pvalues_full_genome.csv\n",
      "/carnegie/nobackup/scratch/tbellagio/gea_grene-net/leave_1_out/split_number_85/notadj_pvalues_full_genome.csv\n",
      "/carnegie/nobackup/scratch/tbellagio/gea_grene-net/leave_1_out/split_number_86/notadj_pvalues_full_genome.csv\n",
      "/carnegie/nobackup/scratch/tbellagio/gea_grene-net/leave_1_out/split_number_87/notadj_pvalues_full_genome.csv\n",
      "/carnegie/nobackup/scratch/tbellagio/gea_grene-net/leave_1_out/split_number_88/notadj_pvalues_full_genome.csv\n",
      "/carnegie/nobackup/scratch/tbellagio/gea_grene-net/leave_1_out/split_number_89/notadj_pvalues_full_genome.csv\n",
      "/carnegie/nobackup/scratch/tbellagio/gea_grene-net/leave_1_out/split_number_9/notadj_pvalues_full_genome.csv\n",
      "/carnegie/nobackup/scratch/tbellagio/gea_grene-net/leave_1_out/split_number_90/notadj_pvalues_full_genome.csv\n",
      "/carnegie/nobackup/scratch/tbellagio/gea_grene-net/leave_1_out/split_number_91/notadj_pvalues_full_genome.csv\n",
      "/carnegie/nobackup/scratch/tbellagio/gea_grene-net/leave_1_out/split_number_92/notadj_pvalues_full_genome.csv\n",
      "/carnegie/nobackup/scratch/tbellagio/gea_grene-net/leave_1_out/split_number_93/notadj_pvalues_full_genome.csv\n",
      "/carnegie/nobackup/scratch/tbellagio/gea_grene-net/leave_1_out/split_number_94/notadj_pvalues_full_genome.csv\n",
      "/carnegie/nobackup/scratch/tbellagio/gea_grene-net/leave_1_out/split_number_95/notadj_pvalues_full_genome.csv\n",
      "/carnegie/nobackup/scratch/tbellagio/gea_grene-net/leave_1_out/split_number_96/notadj_pvalues_full_genome.csv\n",
      "/carnegie/nobackup/scratch/tbellagio/gea_grene-net/leave_1_out/split_number_97/notadj_pvalues_full_genome.csv\n",
      "/carnegie/nobackup/scratch/tbellagio/gea_grene-net/leave_1_out/split_number_98/notadj_pvalues_full_genome.csv\n",
      "/carnegie/nobackup/scratch/tbellagio/gea_grene-net/leave_1_out/split_number_99/notadj_pvalues_full_genome.csv\n"
     ]
    }
   ],
   "source": [
    "for i in pd.Series(notadj_pvalues_files).sort_values():\n",
    "    print(i)"
   ]
  },
  {
   "cell_type": "code",
   "execution_count": 47,
   "id": "fddde3b6-84c4-41ce-9103-7a43e045875f",
   "metadata": {},
   "outputs": [
    {
     "name": "stdout",
     "output_type": "stream",
     "text": [
      "/carnegie/nobackup/scratch/tbellagio/gea_grene-net/leave_1_out/split_number_96/notadj_pvalues_full_genome.csv\n",
      "/carnegie/nobackup/scratch/tbellagio/gea_grene-net/leave_1_out/split_number_96/tr_notadj_pvalues_full_genome.csv\n",
      "done\n",
      "/carnegie/nobackup/scratch/tbellagio/gea_grene-net/leave_1_out/split_number_97/notadj_pvalues_full_genome.csv\n",
      "/carnegie/nobackup/scratch/tbellagio/gea_grene-net/leave_1_out/split_number_97/tr_notadj_pvalues_full_genome.csv\n",
      "done\n",
      "/carnegie/nobackup/scratch/tbellagio/gea_grene-net/leave_1_out/split_number_98/notadj_pvalues_full_genome.csv\n",
      "/carnegie/nobackup/scratch/tbellagio/gea_grene-net/leave_1_out/split_number_98/tr_notadj_pvalues_full_genome.csv\n",
      "done\n",
      "/carnegie/nobackup/scratch/tbellagio/gea_grene-net/leave_1_out/split_number_99/notadj_pvalues_full_genome.csv\n",
      "/carnegie/nobackup/scratch/tbellagio/gea_grene-net/leave_1_out/split_number_99/tr_notadj_pvalues_full_genome.csv\n",
      "done\n"
     ]
    }
   ],
   "source": [
    "\n",
    "## transpose all the pvalues files\n",
    "for i in pd.Series(notadj_pvalues_files).sort_values()[-4:]:\n",
    "    j = i.replace('notadj_pvalues_full_genome', 'tr_notadj_pvalues_full_genome')\n",
    "    print(i)\n",
    "    print(j)\n",
    "    transpose(i, j)\n",
    "    print('done')"
   ]
  },
  {
   "cell_type": "code",
   "execution_count": null,
   "id": "ef2d7356-d055-4939-a677-0c14507ded91",
   "metadata": {},
   "outputs": [],
   "source": [
    "for i in pd.Series(notadj_pvalues_files).sort_values()[-4:]:\n",
    "    j = i.replace('notadj_pvalues_full_genome', 'tr_notadj_pvalues_full_genome')\n",
    "    print(i)\n",
    "    print(j)\n",
    "    transpose(i, j)\n",
    "    print('done')"
   ]
  },
  {
   "cell_type": "code",
   "execution_count": null,
   "id": "88b9d471-597c-47e3-b72e-61f29fc9e51a",
   "metadata": {},
   "outputs": [],
   "source": []
  },
  {
   "cell_type": "code",
   "execution_count": null,
   "id": "d2555df9-3207-4829-a432-c25b3296dba6",
   "metadata": {},
   "outputs": [],
   "source": []
  },
  {
   "cell_type": "code",
   "execution_count": null,
   "id": "aff898a8-8275-466b-85c4-297326eaea86",
   "metadata": {},
   "outputs": [],
   "source": []
  },
  {
   "cell_type": "code",
   "execution_count": null,
   "id": "30f35fab-5da0-4046-926a-785772f89133",
   "metadata": {},
   "outputs": [],
   "source": [
    "env_test['bio19'] "
   ]
  },
  {
   "cell_type": "code",
   "execution_count": 191,
   "id": "dee0012a-863e-4df2-9ee1-9c980e870ba1",
   "metadata": {},
   "outputs": [
    {
     "data": {
      "text/plain": [
       "0.398136335415"
      ]
     },
     "execution_count": 191,
     "metadata": {},
     "output_type": "execute_result"
    }
   ],
   "source": [
    "## for snps 152 and site 4 \n",
    "## this should be the allele freq \n",
    "expected_allelefreq = 0.416997 + (0.010695 * -1.763503)\n",
    "\n",
    "if at snp 152 ecotype 2 has a "
   ]
  },
  {
   "cell_type": "code",
   "execution_count": 185,
   "id": "234be810-6679-4d16-ab2f-9cc9ea90e120",
   "metadata": {
    "scrolled": true
   },
   "outputs": [
    {
     "data": {
      "text/html": [
       "<div>\n",
       "<style scoped>\n",
       "    .dataframe tbody tr th:only-of-type {\n",
       "        vertical-align: middle;\n",
       "    }\n",
       "\n",
       "    .dataframe tbody tr th {\n",
       "        vertical-align: top;\n",
       "    }\n",
       "\n",
       "    .dataframe thead th {\n",
       "        text-align: right;\n",
       "    }\n",
       "</style>\n",
       "<table border=\"1\" class=\"dataframe\">\n",
       "  <thead>\n",
       "    <tr style=\"text-align: right;\">\n",
       "      <th></th>\n",
       "      <th>intercept</th>\n",
       "      <th>beta</th>\n",
       "      <th>p_value</th>\n",
       "      <th>r_squared</th>\n",
       "    </tr>\n",
       "  </thead>\n",
       "  <tbody>\n",
       "    <tr>\n",
       "      <th>152</th>\n",
       "      <td>0.416997</td>\n",
       "      <td>0.010695</td>\n",
       "      <td>0.466862</td>\n",
       "      <td>0.001859</td>\n",
       "    </tr>\n",
       "    <tr>\n",
       "      <th>367</th>\n",
       "      <td>0.528988</td>\n",
       "      <td>-0.009154</td>\n",
       "      <td>0.495087</td>\n",
       "      <td>0.001635</td>\n",
       "    </tr>\n",
       "    <tr>\n",
       "      <th>482</th>\n",
       "      <td>0.077808</td>\n",
       "      <td>-0.000422</td>\n",
       "      <td>0.943181</td>\n",
       "      <td>0.000018</td>\n",
       "    </tr>\n",
       "    <tr>\n",
       "      <th>744</th>\n",
       "      <td>0.064272</td>\n",
       "      <td>-0.000596</td>\n",
       "      <td>0.925689</td>\n",
       "      <td>0.000031</td>\n",
       "    </tr>\n",
       "    <tr>\n",
       "      <th>1719</th>\n",
       "      <td>0.792472</td>\n",
       "      <td>0.019080</td>\n",
       "      <td>0.088160</td>\n",
       "      <td>0.010168</td>\n",
       "    </tr>\n",
       "    <tr>\n",
       "      <th>2392</th>\n",
       "      <td>0.097852</td>\n",
       "      <td>-0.016911</td>\n",
       "      <td>0.027985</td>\n",
       "      <td>0.016830</td>\n",
       "    </tr>\n",
       "    <tr>\n",
       "      <th>2665</th>\n",
       "      <td>0.451933</td>\n",
       "      <td>0.012962</td>\n",
       "      <td>0.329471</td>\n",
       "      <td>0.003337</td>\n",
       "    </tr>\n",
       "    <tr>\n",
       "      <th>5397</th>\n",
       "      <td>0.593487</td>\n",
       "      <td>-0.007974</td>\n",
       "      <td>0.536549</td>\n",
       "      <td>0.001342</td>\n",
       "    </tr>\n",
       "    <tr>\n",
       "      <th>5702</th>\n",
       "      <td>0.091224</td>\n",
       "      <td>0.002247</td>\n",
       "      <td>0.745548</td>\n",
       "      <td>0.000370</td>\n",
       "    </tr>\n",
       "    <tr>\n",
       "      <th>6998</th>\n",
       "      <td>0.478093</td>\n",
       "      <td>0.020874</td>\n",
       "      <td>0.129985</td>\n",
       "      <td>0.008026</td>\n",
       "    </tr>\n",
       "    <tr>\n",
       "      <th>7646</th>\n",
       "      <td>0.459654</td>\n",
       "      <td>-0.022462</td>\n",
       "      <td>0.076737</td>\n",
       "      <td>0.010951</td>\n",
       "    </tr>\n",
       "    <tr>\n",
       "      <th>8601</th>\n",
       "      <td>0.485989</td>\n",
       "      <td>0.028356</td>\n",
       "      <td>0.034518</td>\n",
       "      <td>0.015585</td>\n",
       "    </tr>\n",
       "    <tr>\n",
       "      <th>8940</th>\n",
       "      <td>0.068682</td>\n",
       "      <td>0.004625</td>\n",
       "      <td>0.453373</td>\n",
       "      <td>0.001974</td>\n",
       "    </tr>\n",
       "    <tr>\n",
       "      <th>9392</th>\n",
       "      <td>0.412250</td>\n",
       "      <td>-0.010907</td>\n",
       "      <td>0.409700</td>\n",
       "      <td>0.002386</td>\n",
       "    </tr>\n",
       "    <tr>\n",
       "      <th>9488</th>\n",
       "      <td>0.077022</td>\n",
       "      <td>0.023167</td>\n",
       "      <td>0.003481</td>\n",
       "      <td>0.029560</td>\n",
       "    </tr>\n",
       "    <tr>\n",
       "      <th>11699</th>\n",
       "      <td>0.068042</td>\n",
       "      <td>0.009901</td>\n",
       "      <td>0.124887</td>\n",
       "      <td>0.008243</td>\n",
       "    </tr>\n",
       "    <tr>\n",
       "      <th>12159</th>\n",
       "      <td>0.402844</td>\n",
       "      <td>-0.003164</td>\n",
       "      <td>0.812399</td>\n",
       "      <td>0.000198</td>\n",
       "    </tr>\n",
       "    <tr>\n",
       "      <th>13354</th>\n",
       "      <td>0.077692</td>\n",
       "      <td>0.003823</td>\n",
       "      <td>0.611661</td>\n",
       "      <td>0.000906</td>\n",
       "    </tr>\n",
       "    <tr>\n",
       "      <th>13550</th>\n",
       "      <td>0.201250</td>\n",
       "      <td>0.011979</td>\n",
       "      <td>0.257561</td>\n",
       "      <td>0.004495</td>\n",
       "    </tr>\n",
       "  </tbody>\n",
       "</table>\n",
       "</div>"
      ],
      "text/plain": [
       "       intercept      beta   p_value  r_squared\n",
       "152     0.416997  0.010695  0.466862   0.001859\n",
       "367     0.528988 -0.009154  0.495087   0.001635\n",
       "482     0.077808 -0.000422  0.943181   0.000018\n",
       "744     0.064272 -0.000596  0.925689   0.000031\n",
       "1719    0.792472  0.019080  0.088160   0.010168\n",
       "2392    0.097852 -0.016911  0.027985   0.016830\n",
       "2665    0.451933  0.012962  0.329471   0.003337\n",
       "5397    0.593487 -0.007974  0.536549   0.001342\n",
       "5702    0.091224  0.002247  0.745548   0.000370\n",
       "6998    0.478093  0.020874  0.129985   0.008026\n",
       "7646    0.459654 -0.022462  0.076737   0.010951\n",
       "8601    0.485989  0.028356  0.034518   0.015585\n",
       "8940    0.068682  0.004625  0.453373   0.001974\n",
       "9392    0.412250 -0.010907  0.409700   0.002386\n",
       "9488    0.077022  0.023167  0.003481   0.029560\n",
       "11699   0.068042  0.009901  0.124887   0.008243\n",
       "12159   0.402844 -0.003164  0.812399   0.000198\n",
       "13354   0.077692  0.003823  0.611661   0.000906\n",
       "13550   0.201250  0.011979  0.257561   0.004495"
      ]
     },
     "execution_count": 185,
     "metadata": {},
     "output_type": "execute_result"
    }
   ],
   "source": [
    "results_df"
   ]
  },
  {
   "cell_type": "code",
   "execution_count": null,
   "id": "88027e3f-7997-419b-81d0-f5c5b7c55802",
   "metadata": {},
   "outputs": [],
   "source": []
  },
  {
   "cell_type": "code",
   "execution_count": null,
   "id": "22047c4e-2829-46fc-b2ac-c58892e65430",
   "metadata": {},
   "outputs": [],
   "source": []
  },
  {
   "cell_type": "code",
   "execution_count": 179,
   "id": "4a818b7c-43b5-49a6-99cb-99531900874f",
   "metadata": {},
   "outputs": [],
   "source": [
    "with open('splits_samples.pkl', 'rb') as file:\n",
    "    # Load data from the file\n",
    "    splits_samples = pickle.load(file)"
   ]
  },
  {
   "cell_type": "code",
   "execution_count": 180,
   "id": "80a73be8-0758-4157-9e12-a437a4de23f9",
   "metadata": {},
   "outputs": [],
   "source": [
    "## split0 "
   ]
  },
  {
   "cell_type": "code",
   "execution_count": 220,
   "id": "e6f7daf4-605e-4d38-bb09-8c64b8934fb1",
   "metadata": {},
   "outputs": [
    {
     "name": "stdout",
     "output_type": "stream",
     "text": [
      "/carnegie/nobackup/scratch/tbellagio/gea_grene-net/leave_1_out/split_number_0/testing_environment_lea_full_genome.csv\n",
      "/carnegie/nobackup/scratch/tbellagio/gea_grene-net/leave_1_out/split_number_1/testing_environment_lea_full_genome.csv\n",
      "/carnegie/nobackup/scratch/tbellagio/gea_grene-net/leave_1_out/split_number_2/testing_environment_lea_full_genome.csv\n",
      "/carnegie/nobackup/scratch/tbellagio/gea_grene-net/leave_1_out/split_number_3/testing_environment_lea_full_genome.csv\n",
      "/carnegie/nobackup/scratch/tbellagio/gea_grene-net/leave_1_out/split_number_4/testing_environment_lea_full_genome.csv\n",
      "/carnegie/nobackup/scratch/tbellagio/gea_grene-net/leave_1_out/split_number_5/testing_environment_lea_full_genome.csv\n",
      "/carnegie/nobackup/scratch/tbellagio/gea_grene-net/leave_1_out/split_number_6/testing_environment_lea_full_genome.csv\n",
      "/carnegie/nobackup/scratch/tbellagio/gea_grene-net/leave_1_out/split_number_7/testing_environment_lea_full_genome.csv\n",
      "/carnegie/nobackup/scratch/tbellagio/gea_grene-net/leave_1_out/split_number_8/testing_environment_lea_full_genome.csv\n",
      "/carnegie/nobackup/scratch/tbellagio/gea_grene-net/leave_1_out/split_number_9/testing_environment_lea_full_genome.csv\n",
      "/carnegie/nobackup/scratch/tbellagio/gea_grene-net/leave_1_out/split_number_10/testing_environment_lea_full_genome.csv\n",
      "/carnegie/nobackup/scratch/tbellagio/gea_grene-net/leave_1_out/split_number_11/testing_environment_lea_full_genome.csv\n",
      "/carnegie/nobackup/scratch/tbellagio/gea_grene-net/leave_1_out/split_number_12/testing_environment_lea_full_genome.csv\n",
      "/carnegie/nobackup/scratch/tbellagio/gea_grene-net/leave_1_out/split_number_13/testing_environment_lea_full_genome.csv\n",
      "/carnegie/nobackup/scratch/tbellagio/gea_grene-net/leave_1_out/split_number_14/testing_environment_lea_full_genome.csv\n",
      "/carnegie/nobackup/scratch/tbellagio/gea_grene-net/leave_1_out/split_number_15/testing_environment_lea_full_genome.csv\n",
      "/carnegie/nobackup/scratch/tbellagio/gea_grene-net/leave_1_out/split_number_16/testing_environment_lea_full_genome.csv\n",
      "/carnegie/nobackup/scratch/tbellagio/gea_grene-net/leave_1_out/split_number_17/testing_environment_lea_full_genome.csv\n",
      "/carnegie/nobackup/scratch/tbellagio/gea_grene-net/leave_1_out/split_number_18/testing_environment_lea_full_genome.csv\n",
      "/carnegie/nobackup/scratch/tbellagio/gea_grene-net/leave_1_out/split_number_19/testing_environment_lea_full_genome.csv\n",
      "/carnegie/nobackup/scratch/tbellagio/gea_grene-net/leave_1_out/split_number_20/testing_environment_lea_full_genome.csv\n",
      "/carnegie/nobackup/scratch/tbellagio/gea_grene-net/leave_1_out/split_number_21/testing_environment_lea_full_genome.csv\n",
      "/carnegie/nobackup/scratch/tbellagio/gea_grene-net/leave_1_out/split_number_22/testing_environment_lea_full_genome.csv\n",
      "/carnegie/nobackup/scratch/tbellagio/gea_grene-net/leave_1_out/split_number_23/testing_environment_lea_full_genome.csv\n",
      "/carnegie/nobackup/scratch/tbellagio/gea_grene-net/leave_1_out/split_number_24/testing_environment_lea_full_genome.csv\n",
      "/carnegie/nobackup/scratch/tbellagio/gea_grene-net/leave_1_out/split_number_25/testing_environment_lea_full_genome.csv\n",
      "/carnegie/nobackup/scratch/tbellagio/gea_grene-net/leave_1_out/split_number_26/testing_environment_lea_full_genome.csv\n",
      "/carnegie/nobackup/scratch/tbellagio/gea_grene-net/leave_1_out/split_number_27/testing_environment_lea_full_genome.csv\n",
      "/carnegie/nobackup/scratch/tbellagio/gea_grene-net/leave_1_out/split_number_28/testing_environment_lea_full_genome.csv\n",
      "/carnegie/nobackup/scratch/tbellagio/gea_grene-net/leave_1_out/split_number_29/testing_environment_lea_full_genome.csv\n",
      "/carnegie/nobackup/scratch/tbellagio/gea_grene-net/leave_1_out/split_number_30/testing_environment_lea_full_genome.csv\n",
      "/carnegie/nobackup/scratch/tbellagio/gea_grene-net/leave_1_out/split_number_31/testing_environment_lea_full_genome.csv\n",
      "/carnegie/nobackup/scratch/tbellagio/gea_grene-net/leave_1_out/split_number_32/testing_environment_lea_full_genome.csv\n",
      "/carnegie/nobackup/scratch/tbellagio/gea_grene-net/leave_1_out/split_number_33/testing_environment_lea_full_genome.csv\n",
      "/carnegie/nobackup/scratch/tbellagio/gea_grene-net/leave_1_out/split_number_34/testing_environment_lea_full_genome.csv\n",
      "/carnegie/nobackup/scratch/tbellagio/gea_grene-net/leave_1_out/split_number_35/testing_environment_lea_full_genome.csv\n",
      "/carnegie/nobackup/scratch/tbellagio/gea_grene-net/leave_1_out/split_number_36/testing_environment_lea_full_genome.csv\n",
      "/carnegie/nobackup/scratch/tbellagio/gea_grene-net/leave_1_out/split_number_37/testing_environment_lea_full_genome.csv\n",
      "/carnegie/nobackup/scratch/tbellagio/gea_grene-net/leave_1_out/split_number_38/testing_environment_lea_full_genome.csv\n",
      "/carnegie/nobackup/scratch/tbellagio/gea_grene-net/leave_1_out/split_number_39/testing_environment_lea_full_genome.csv\n",
      "/carnegie/nobackup/scratch/tbellagio/gea_grene-net/leave_1_out/split_number_40/testing_environment_lea_full_genome.csv\n",
      "/carnegie/nobackup/scratch/tbellagio/gea_grene-net/leave_1_out/split_number_41/testing_environment_lea_full_genome.csv\n",
      "/carnegie/nobackup/scratch/tbellagio/gea_grene-net/leave_1_out/split_number_42/testing_environment_lea_full_genome.csv\n",
      "/carnegie/nobackup/scratch/tbellagio/gea_grene-net/leave_1_out/split_number_43/testing_environment_lea_full_genome.csv\n",
      "/carnegie/nobackup/scratch/tbellagio/gea_grene-net/leave_1_out/split_number_44/testing_environment_lea_full_genome.csv\n",
      "/carnegie/nobackup/scratch/tbellagio/gea_grene-net/leave_1_out/split_number_45/testing_environment_lea_full_genome.csv\n",
      "/carnegie/nobackup/scratch/tbellagio/gea_grene-net/leave_1_out/split_number_46/testing_environment_lea_full_genome.csv\n",
      "/carnegie/nobackup/scratch/tbellagio/gea_grene-net/leave_1_out/split_number_47/testing_environment_lea_full_genome.csv\n",
      "/carnegie/nobackup/scratch/tbellagio/gea_grene-net/leave_1_out/split_number_48/testing_environment_lea_full_genome.csv\n",
      "/carnegie/nobackup/scratch/tbellagio/gea_grene-net/leave_1_out/split_number_49/testing_environment_lea_full_genome.csv\n",
      "/carnegie/nobackup/scratch/tbellagio/gea_grene-net/leave_1_out/split_number_50/testing_environment_lea_full_genome.csv\n",
      "/carnegie/nobackup/scratch/tbellagio/gea_grene-net/leave_1_out/split_number_51/testing_environment_lea_full_genome.csv\n",
      "/carnegie/nobackup/scratch/tbellagio/gea_grene-net/leave_1_out/split_number_52/testing_environment_lea_full_genome.csv\n",
      "/carnegie/nobackup/scratch/tbellagio/gea_grene-net/leave_1_out/split_number_53/testing_environment_lea_full_genome.csv\n",
      "/carnegie/nobackup/scratch/tbellagio/gea_grene-net/leave_1_out/split_number_54/testing_environment_lea_full_genome.csv\n",
      "/carnegie/nobackup/scratch/tbellagio/gea_grene-net/leave_1_out/split_number_55/testing_environment_lea_full_genome.csv\n",
      "/carnegie/nobackup/scratch/tbellagio/gea_grene-net/leave_1_out/split_number_56/testing_environment_lea_full_genome.csv\n",
      "/carnegie/nobackup/scratch/tbellagio/gea_grene-net/leave_1_out/split_number_57/testing_environment_lea_full_genome.csv\n",
      "/carnegie/nobackup/scratch/tbellagio/gea_grene-net/leave_1_out/split_number_58/testing_environment_lea_full_genome.csv\n",
      "/carnegie/nobackup/scratch/tbellagio/gea_grene-net/leave_1_out/split_number_59/testing_environment_lea_full_genome.csv\n",
      "/carnegie/nobackup/scratch/tbellagio/gea_grene-net/leave_1_out/split_number_60/testing_environment_lea_full_genome.csv\n",
      "/carnegie/nobackup/scratch/tbellagio/gea_grene-net/leave_1_out/split_number_61/testing_environment_lea_full_genome.csv\n",
      "/carnegie/nobackup/scratch/tbellagio/gea_grene-net/leave_1_out/split_number_62/testing_environment_lea_full_genome.csv\n",
      "/carnegie/nobackup/scratch/tbellagio/gea_grene-net/leave_1_out/split_number_63/testing_environment_lea_full_genome.csv\n",
      "/carnegie/nobackup/scratch/tbellagio/gea_grene-net/leave_1_out/split_number_64/testing_environment_lea_full_genome.csv\n",
      "/carnegie/nobackup/scratch/tbellagio/gea_grene-net/leave_1_out/split_number_65/testing_environment_lea_full_genome.csv\n",
      "/carnegie/nobackup/scratch/tbellagio/gea_grene-net/leave_1_out/split_number_66/testing_environment_lea_full_genome.csv\n",
      "/carnegie/nobackup/scratch/tbellagio/gea_grene-net/leave_1_out/split_number_67/testing_environment_lea_full_genome.csv\n",
      "/carnegie/nobackup/scratch/tbellagio/gea_grene-net/leave_1_out/split_number_68/testing_environment_lea_full_genome.csv\n",
      "/carnegie/nobackup/scratch/tbellagio/gea_grene-net/leave_1_out/split_number_69/testing_environment_lea_full_genome.csv\n",
      "/carnegie/nobackup/scratch/tbellagio/gea_grene-net/leave_1_out/split_number_70/testing_environment_lea_full_genome.csv\n",
      "/carnegie/nobackup/scratch/tbellagio/gea_grene-net/leave_1_out/split_number_71/testing_environment_lea_full_genome.csv\n",
      "/carnegie/nobackup/scratch/tbellagio/gea_grene-net/leave_1_out/split_number_72/testing_environment_lea_full_genome.csv\n",
      "/carnegie/nobackup/scratch/tbellagio/gea_grene-net/leave_1_out/split_number_73/testing_environment_lea_full_genome.csv\n",
      "/carnegie/nobackup/scratch/tbellagio/gea_grene-net/leave_1_out/split_number_74/testing_environment_lea_full_genome.csv\n",
      "/carnegie/nobackup/scratch/tbellagio/gea_grene-net/leave_1_out/split_number_75/testing_environment_lea_full_genome.csv\n",
      "/carnegie/nobackup/scratch/tbellagio/gea_grene-net/leave_1_out/split_number_76/testing_environment_lea_full_genome.csv\n",
      "/carnegie/nobackup/scratch/tbellagio/gea_grene-net/leave_1_out/split_number_77/testing_environment_lea_full_genome.csv\n",
      "/carnegie/nobackup/scratch/tbellagio/gea_grene-net/leave_1_out/split_number_78/testing_environment_lea_full_genome.csv\n",
      "/carnegie/nobackup/scratch/tbellagio/gea_grene-net/leave_1_out/split_number_79/testing_environment_lea_full_genome.csv\n",
      "/carnegie/nobackup/scratch/tbellagio/gea_grene-net/leave_1_out/split_number_80/testing_environment_lea_full_genome.csv\n",
      "/carnegie/nobackup/scratch/tbellagio/gea_grene-net/leave_1_out/split_number_81/testing_environment_lea_full_genome.csv\n",
      "/carnegie/nobackup/scratch/tbellagio/gea_grene-net/leave_1_out/split_number_82/testing_environment_lea_full_genome.csv\n",
      "/carnegie/nobackup/scratch/tbellagio/gea_grene-net/leave_1_out/split_number_83/testing_environment_lea_full_genome.csv\n",
      "/carnegie/nobackup/scratch/tbellagio/gea_grene-net/leave_1_out/split_number_84/testing_environment_lea_full_genome.csv\n",
      "/carnegie/nobackup/scratch/tbellagio/gea_grene-net/leave_1_out/split_number_85/testing_environment_lea_full_genome.csv\n",
      "/carnegie/nobackup/scratch/tbellagio/gea_grene-net/leave_1_out/split_number_86/testing_environment_lea_full_genome.csv\n",
      "/carnegie/nobackup/scratch/tbellagio/gea_grene-net/leave_1_out/split_number_87/testing_environment_lea_full_genome.csv\n",
      "/carnegie/nobackup/scratch/tbellagio/gea_grene-net/leave_1_out/split_number_88/testing_environment_lea_full_genome.csv\n",
      "/carnegie/nobackup/scratch/tbellagio/gea_grene-net/leave_1_out/split_number_89/testing_environment_lea_full_genome.csv\n",
      "/carnegie/nobackup/scratch/tbellagio/gea_grene-net/leave_1_out/split_number_90/testing_environment_lea_full_genome.csv\n",
      "/carnegie/nobackup/scratch/tbellagio/gea_grene-net/leave_1_out/split_number_91/testing_environment_lea_full_genome.csv\n",
      "/carnegie/nobackup/scratch/tbellagio/gea_grene-net/leave_1_out/split_number_92/testing_environment_lea_full_genome.csv\n",
      "/carnegie/nobackup/scratch/tbellagio/gea_grene-net/leave_1_out/split_number_93/testing_environment_lea_full_genome.csv\n",
      "/carnegie/nobackup/scratch/tbellagio/gea_grene-net/leave_1_out/split_number_94/testing_environment_lea_full_genome.csv\n",
      "/carnegie/nobackup/scratch/tbellagio/gea_grene-net/leave_1_out/split_number_95/testing_environment_lea_full_genome.csv\n",
      "/carnegie/nobackup/scratch/tbellagio/gea_grene-net/leave_1_out/split_number_96/testing_environment_lea_full_genome.csv\n",
      "/carnegie/nobackup/scratch/tbellagio/gea_grene-net/leave_1_out/split_number_97/testing_environment_lea_full_genome.csv\n",
      "/carnegie/nobackup/scratch/tbellagio/gea_grene-net/leave_1_out/split_number_98/testing_environment_lea_full_genome.csv\n",
      "/carnegie/nobackup/scratch/tbellagio/gea_grene-net/leave_1_out/split_number_99/testing_environment_lea_full_genome.csv\n"
     ]
    }
   ],
   "source": [
    "for i in range(100):\n",
    "    train_samples = splits_samples[i][0]\n",
    "    test_samples = splits_samples[i][1]\n",
    "    \n",
    "    clim_sites_during_exp = pd.read_csv('/carnegie/nobackup/scratch/tbellagio/grene/data/bioclimvars_experimental_sites_era5.csv')\n",
    "    \n",
    "    sites_af = pd.Series(train_samples).str.split('_').str[0].astype(int)\n",
    "    \n",
    "    sites_af.name = 'site'\n",
    "    \n",
    "    env = sites_af.reset_index().merge(clim_sites_during_exp).drop(['index'],axis=1)\n",
    "    \n",
    "    ## for now only work with bio1 and bio12 \n",
    "    env = env[['site', 'bio1', 'bio12']]\n",
    "    \n",
    "    mean_bio1 = np.mean(env['bio1'])\n",
    "    mean_bio12 = np.mean(env['bio12'])\n",
    "    std_bio1 = np.std(env['bio1'])\n",
    "    std_bio12 = np.std(env['bio12'])\n",
    "    \n",
    "    ## for the testing\n",
    "    \n",
    "    sites_af = pd.Series(test_samples).str.split('_').str[0].astype(int)\n",
    "    sites_af.name = 'site'\n",
    "    env = sites_af.reset_index().merge(clim_sites_during_exp).drop(['index'],axis=1)\n",
    "    env = env[['site', 'bio1', 'bio12']]\n",
    "\n",
    "    ##scale it\n",
    "    \n",
    "    env['bio1'] = (env['bio1'] - mean_bio1) / std_bio1 \n",
    "    env['bio12'] = (env['bio12'] - mean_bio12) / std_bio12\n",
    "    file = f'/carnegie/nobackup/scratch/tbellagio/gea_grene-net/leave_1_out/split_number_{i}/testing_environment_lea_full_genome.csv'\n",
    "    print(file)\n",
    "    env.drop_duplicates().to_csv(file)"
   ]
  },
  {
   "cell_type": "code",
   "execution_count": null,
   "id": "e38041cc-7818-4b3d-a653-a1f9bc67c27d",
   "metadata": {},
   "outputs": [],
   "source": []
  }
 ],
 "metadata": {
  "kernelspec": {
   "display_name": "Python (pipeline_snakemake)",
   "language": "python",
   "name": "pipeline_snakemake"
  },
  "language_info": {
   "codemirror_mode": {
    "name": "ipython",
    "version": 3
   },
   "file_extension": ".py",
   "mimetype": "text/x-python",
   "name": "python",
   "nbconvert_exporter": "python",
   "pygments_lexer": "ipython3",
   "version": "3.9.16"
  }
 },
 "nbformat": 4,
 "nbformat_minor": 5
}
