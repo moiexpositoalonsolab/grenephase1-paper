{
 "cells": [
  {
   "cell_type": "code",
   "execution_count": 20,
   "id": "ccc065ed-f19c-4812-8127-a61fa4a45909",
   "metadata": {
    "scrolled": true
   },
   "outputs": [],
   "source": [
    "import numpy as np\n",
    "import pandas as pd\n",
    "from sklearn.decomposition import PCA\n",
    "from sklearn.preprocessing import StandardScaler\n",
    "import os\n",
    "import pickle\n",
    "import dask.dataframe as dd\n",
    "import seaborn as sns\n",
    "import numpy as np\n",
    "import statsmodels.api as sm\n",
    "import matplotlib.pyplot as plt\n",
    "import subprocess\n",
    "import random\n",
    "from collections import defaultdict\n"
   ]
  },
  {
   "cell_type": "code",
   "execution_count": 2,
   "id": "9104073e-8737-4afd-aba2-0b7fc0b95459",
   "metadata": {},
   "outputs": [],
   "source": [
    "path_ldp_af = '/carnegie/nobackup/scratch/xwu/grenet/merged_frequency/merged_hapFIRE_allele_frequency_LDpruned.txt'"
   ]
  },
  {
   "cell_type": "code",
   "execution_count": 3,
   "id": "5ae21388-ed00-4605-a800-2a6265945e29",
   "metadata": {},
   "outputs": [],
   "source": [
    "wd = '/carnegie/nobackup/scratch/tbellagio/gea_grene-net/leave_1_out/sh_files/'"
   ]
  },
  {
   "cell_type": "code",
   "execution_count": 4,
   "id": "ca888742-9037-449f-b615-e6fc1b6cd561",
   "metadata": {},
   "outputs": [],
   "source": [
    "with open('splits_samples.pkl', 'rb') as file:\n",
    "    # Load data from the file\n",
    "    splits_samples = pickle.load(file)"
   ]
  },
  {
   "cell_type": "code",
   "execution_count": 5,
   "id": "7f7a2f64-f240-4769-9cb5-37be4abb1835",
   "metadata": {},
   "outputs": [],
   "source": [
    "## for bio1 and bio 12\n",
    "#### so there is only one train-spli that left singificant q values at an fdr of 0.1 \n",
    "#### at an fdr of 0.2 we see the same thing only 3 splits with significant values \n",
    "## with k=3 at fdr of 0.2 its even worst only 1 singificans split \n",
    "\n",
    "\n",
    "### the full genome?"
   ]
  },
  {
   "cell_type": "code",
   "execution_count": 8,
   "id": "f73ab0b2-c1a7-43a3-8faa-7e2eedf5b6b6",
   "metadata": {},
   "outputs": [],
   "source": [
    "import os\n",
    "\n",
    "def find_files(directory, filename):\n",
    "    \"\"\"\n",
    "    Search for files with a specific name within all subdirectories of a given directory.\n",
    "\n",
    "    Parameters:\n",
    "        directory (str): The root directory from which to start the search.\n",
    "        filename (str): The name of the file to search for.\n",
    "\n",
    "    Returns:\n",
    "        list: A list of full paths to the files that match the given filename.\n",
    "    \"\"\"\n",
    "    matches = []  # List to store the full paths of matching files\n",
    "    for root, dirs, files in os.walk(directory):\n",
    "        if filename in files:\n",
    "            full_path = os.path.join(root, filename)\n",
    "            matches.append(full_path)\n",
    "    return matches\n",
    "\n",
    "# Usage example\n",
    "root_directory = '/carnegie/nobackup/scratch/tbellagio/gea_grene-net/leave_1_out/'  # Update this to the directory you want to search\n",
    "target_filename = 'output_clumping02.clumped'\n",
    "clumping02_files = find_files(root_directory, target_filename)\n"
   ]
  },
  {
   "cell_type": "code",
   "execution_count": 10,
   "id": "e4e24597-af54-49b2-8b8f-dba3e6cc9d4c",
   "metadata": {},
   "outputs": [
    {
     "data": {
      "text/plain": [
       "'/carnegie/nobackup/scratch/tbellagio/gea_grene-net/leave_1_out/split_number_82/delta_p/output_clumping02.clumped'"
      ]
     },
     "execution_count": 10,
     "metadata": {},
     "output_type": "execute_result"
    }
   ],
   "source": [
    "clumping02_files[0]"
   ]
  },
  {
   "cell_type": "code",
   "execution_count": 14,
   "id": "a8d39598-f9f5-43f3-8ecc-c0d362f4ae0f",
   "metadata": {},
   "outputs": [
    {
     "data": {
      "text/html": [
       "<div>\n",
       "<style scoped>\n",
       "    .dataframe tbody tr th:only-of-type {\n",
       "        vertical-align: middle;\n",
       "    }\n",
       "\n",
       "    .dataframe tbody tr th {\n",
       "        vertical-align: top;\n",
       "    }\n",
       "\n",
       "    .dataframe thead th {\n",
       "        text-align: right;\n",
       "    }\n",
       "</style>\n",
       "<table border=\"1\" class=\"dataframe\">\n",
       "  <thead>\n",
       "    <tr style=\"text-align: right;\">\n",
       "      <th></th>\n",
       "      <th>CHR</th>\n",
       "      <th>F</th>\n",
       "      <th>SNP</th>\n",
       "      <th>BP</th>\n",
       "      <th>P</th>\n",
       "      <th>TOTAL</th>\n",
       "      <th>NSIG</th>\n",
       "      <th>S05</th>\n",
       "      <th>S01</th>\n",
       "      <th>S001</th>\n",
       "      <th>S0001</th>\n",
       "      <th>SP2</th>\n",
       "    </tr>\n",
       "  </thead>\n",
       "  <tbody>\n",
       "    <tr>\n",
       "      <th>0</th>\n",
       "      <td>1</td>\n",
       "      <td>1</td>\n",
       "      <td>1_194098</td>\n",
       "      <td>194098</td>\n",
       "      <td>0.0001</td>\n",
       "      <td>0</td>\n",
       "      <td>0</td>\n",
       "      <td>0</td>\n",
       "      <td>0</td>\n",
       "      <td>0</td>\n",
       "      <td>0</td>\n",
       "      <td>NONE</td>\n",
       "    </tr>\n",
       "    <tr>\n",
       "      <th>1</th>\n",
       "      <td>1</td>\n",
       "      <td>1</td>\n",
       "      <td>1_349186</td>\n",
       "      <td>349186</td>\n",
       "      <td>0.0001</td>\n",
       "      <td>32</td>\n",
       "      <td>0</td>\n",
       "      <td>0</td>\n",
       "      <td>0</td>\n",
       "      <td>32</td>\n",
       "      <td>0</td>\n",
       "      <td>1_349208(1),1_349211(1),1_349223(1),1_349437(1...</td>\n",
       "    </tr>\n",
       "    <tr>\n",
       "      <th>2</th>\n",
       "      <td>1</td>\n",
       "      <td>1</td>\n",
       "      <td>1_863771</td>\n",
       "      <td>863771</td>\n",
       "      <td>0.0001</td>\n",
       "      <td>3</td>\n",
       "      <td>0</td>\n",
       "      <td>0</td>\n",
       "      <td>0</td>\n",
       "      <td>3</td>\n",
       "      <td>0</td>\n",
       "      <td>1_909659(1),1_909948(1),1_911322(1)</td>\n",
       "    </tr>\n",
       "    <tr>\n",
       "      <th>3</th>\n",
       "      <td>1</td>\n",
       "      <td>1</td>\n",
       "      <td>1_902148</td>\n",
       "      <td>902148</td>\n",
       "      <td>0.0001</td>\n",
       "      <td>11</td>\n",
       "      <td>0</td>\n",
       "      <td>0</td>\n",
       "      <td>0</td>\n",
       "      <td>11</td>\n",
       "      <td>0</td>\n",
       "      <td>1_902996(1),1_903072(1),1_911139(1),1_911144(1...</td>\n",
       "    </tr>\n",
       "    <tr>\n",
       "      <th>4</th>\n",
       "      <td>1</td>\n",
       "      <td>1</td>\n",
       "      <td>1_915870</td>\n",
       "      <td>915870</td>\n",
       "      <td>0.0001</td>\n",
       "      <td>2</td>\n",
       "      <td>0</td>\n",
       "      <td>0</td>\n",
       "      <td>0</td>\n",
       "      <td>2</td>\n",
       "      <td>0</td>\n",
       "      <td>1_923320(1),1_923321(1)</td>\n",
       "    </tr>\n",
       "    <tr>\n",
       "      <th>...</th>\n",
       "      <td>...</td>\n",
       "      <td>...</td>\n",
       "      <td>...</td>\n",
       "      <td>...</td>\n",
       "      <td>...</td>\n",
       "      <td>...</td>\n",
       "      <td>...</td>\n",
       "      <td>...</td>\n",
       "      <td>...</td>\n",
       "      <td>...</td>\n",
       "      <td>...</td>\n",
       "      <td>...</td>\n",
       "    </tr>\n",
       "    <tr>\n",
       "      <th>406</th>\n",
       "      <td>5</td>\n",
       "      <td>1</td>\n",
       "      <td>5_26377842</td>\n",
       "      <td>26377842</td>\n",
       "      <td>0.0001</td>\n",
       "      <td>41</td>\n",
       "      <td>0</td>\n",
       "      <td>0</td>\n",
       "      <td>0</td>\n",
       "      <td>41</td>\n",
       "      <td>0</td>\n",
       "      <td>5_26404165(1),5_26405529(1),5_26408259(1),5_26...</td>\n",
       "    </tr>\n",
       "    <tr>\n",
       "      <th>407</th>\n",
       "      <td>5</td>\n",
       "      <td>1</td>\n",
       "      <td>5_26463872</td>\n",
       "      <td>26463872</td>\n",
       "      <td>0.0001</td>\n",
       "      <td>0</td>\n",
       "      <td>0</td>\n",
       "      <td>0</td>\n",
       "      <td>0</td>\n",
       "      <td>0</td>\n",
       "      <td>0</td>\n",
       "      <td>NONE</td>\n",
       "    </tr>\n",
       "    <tr>\n",
       "      <th>408</th>\n",
       "      <td>5</td>\n",
       "      <td>1</td>\n",
       "      <td>5_26723006</td>\n",
       "      <td>26723006</td>\n",
       "      <td>0.0001</td>\n",
       "      <td>2</td>\n",
       "      <td>0</td>\n",
       "      <td>0</td>\n",
       "      <td>0</td>\n",
       "      <td>2</td>\n",
       "      <td>0</td>\n",
       "      <td>5_26725740(1),5_26728478(1)</td>\n",
       "    </tr>\n",
       "    <tr>\n",
       "      <th>409</th>\n",
       "      <td>5</td>\n",
       "      <td>1</td>\n",
       "      <td>5_26882706</td>\n",
       "      <td>26882706</td>\n",
       "      <td>0.0001</td>\n",
       "      <td>4</td>\n",
       "      <td>0</td>\n",
       "      <td>0</td>\n",
       "      <td>0</td>\n",
       "      <td>4</td>\n",
       "      <td>0</td>\n",
       "      <td>5_26891593(1),5_26901571(1),5_26902832(1),5_26...</td>\n",
       "    </tr>\n",
       "    <tr>\n",
       "      <th>410</th>\n",
       "      <td>5</td>\n",
       "      <td>1</td>\n",
       "      <td>5_26901427</td>\n",
       "      <td>26901427</td>\n",
       "      <td>0.0001</td>\n",
       "      <td>1</td>\n",
       "      <td>0</td>\n",
       "      <td>0</td>\n",
       "      <td>0</td>\n",
       "      <td>1</td>\n",
       "      <td>0</td>\n",
       "      <td>5_26901516(1)</td>\n",
       "    </tr>\n",
       "  </tbody>\n",
       "</table>\n",
       "<p>411 rows × 12 columns</p>\n",
       "</div>"
      ],
      "text/plain": [
       "     CHR  F         SNP        BP       P  TOTAL  NSIG  S05  S01  S001  S0001  \\\n",
       "0      1  1    1_194098    194098  0.0001      0     0    0    0     0      0   \n",
       "1      1  1    1_349186    349186  0.0001     32     0    0    0    32      0   \n",
       "2      1  1    1_863771    863771  0.0001      3     0    0    0     3      0   \n",
       "3      1  1    1_902148    902148  0.0001     11     0    0    0    11      0   \n",
       "4      1  1    1_915870    915870  0.0001      2     0    0    0     2      0   \n",
       "..   ... ..         ...       ...     ...    ...   ...  ...  ...   ...    ...   \n",
       "406    5  1  5_26377842  26377842  0.0001     41     0    0    0    41      0   \n",
       "407    5  1  5_26463872  26463872  0.0001      0     0    0    0     0      0   \n",
       "408    5  1  5_26723006  26723006  0.0001      2     0    0    0     2      0   \n",
       "409    5  1  5_26882706  26882706  0.0001      4     0    0    0     4      0   \n",
       "410    5  1  5_26901427  26901427  0.0001      1     0    0    0     1      0   \n",
       "\n",
       "                                                   SP2  \n",
       "0                                                 NONE  \n",
       "1    1_349208(1),1_349211(1),1_349223(1),1_349437(1...  \n",
       "2                  1_909659(1),1_909948(1),1_911322(1)  \n",
       "3    1_902996(1),1_903072(1),1_911139(1),1_911144(1...  \n",
       "4                              1_923320(1),1_923321(1)  \n",
       "..                                                 ...  \n",
       "406  5_26404165(1),5_26405529(1),5_26408259(1),5_26...  \n",
       "407                                               NONE  \n",
       "408                        5_26725740(1),5_26728478(1)  \n",
       "409  5_26891593(1),5_26901571(1),5_26902832(1),5_26...  \n",
       "410                                      5_26901516(1)  \n",
       "\n",
       "[411 rows x 12 columns]"
      ]
     },
     "execution_count": 14,
     "metadata": {},
     "output_type": "execute_result"
    }
   ],
   "source": [
    "pd.read_csv(clumping02_files[0], delim_whitespace=True)"
   ]
  },
  {
   "cell_type": "code",
   "execution_count": 29,
   "id": "7fd13676-437f-4bad-b846-55fd744c7017",
   "metadata": {},
   "outputs": [],
   "source": [
    "snp_count = defaultdict(int)\n",
    "\n",
    "for file in clumping02_files:\n",
    "    clumping = pd.read_csv(file,delim_whitespace=True)\n",
    "    snps = clumping['SNP']\n",
    "    for snp in snps:\n",
    "        snp_count[snp] += 1"
   ]
  },
  {
   "cell_type": "code",
   "execution_count": 30,
   "id": "40ccb330-99a4-4350-bcba-0fb82b20b7b5",
   "metadata": {},
   "outputs": [
    {
     "data": {
      "image/png": "[encoded data removed]",
      "text/plain": [
       "<Figure size 1000x600 with 1 Axes>"
      ]
     },
     "metadata": {},
     "output_type": "display_data"
    }
   ],
   "source": [
    "# Create a DataFrame to count SNPs by the number of sets they are shared in\n",
    "shared_counts = pd.Series(snp_count.values()).value_counts().sort_index()\n",
    "\n",
    "# Calculate the percentage of SNPs shared by different numbers of sets\n",
    "total_snps = sum(shared_counts)\n",
    "shared_percentage = (shared_counts / total_snps) * 100\n",
    "\n",
    "# Plotting the bar chart\n",
    "plt.figure(figsize=(10, 6))\n",
    "shared_percentage.plot(kind='bar')\n",
    "plt.xlabel('Number of sets a SNP is shared in')\n",
    "plt.ylabel('Percentage of SNPs')\n",
    "plt.title('Percentage of SNPs Shared by Different Numbers of Sets')\n",
    "plt.show()"
   ]
  },
  {
   "cell_type": "code",
   "execution_count": null,
   "id": "20d4ea51-d502-4140-abb2-dd9be9bb80ea",
   "metadata": {},
   "outputs": [],
   "source": []
  },
  {
   "cell_type": "code",
   "execution_count": 33,
   "id": "bc8aead0-070e-4aaa-aaa9-4291bb1f8b44",
   "metadata": {},
   "outputs": [],
   "source": [
    "snps = pd.DataFrame(list(snp_count.items()), columns=['snp', 'set_number'])"
   ]
  },
  {
   "cell_type": "code",
   "execution_count": 35,
   "id": "7f81e86d-41fc-4a3d-b7fb-1f10b5d2770c",
   "metadata": {},
   "outputs": [
    {
     "data": {
      "text/html": [
       "<div>\n",
       "<style scoped>\n",
       "    .dataframe tbody tr th:only-of-type {\n",
       "        vertical-align: middle;\n",
       "    }\n",
       "\n",
       "    .dataframe tbody tr th {\n",
       "        vertical-align: top;\n",
       "    }\n",
       "\n",
       "    .dataframe thead th {\n",
       "        text-align: right;\n",
       "    }\n",
       "</style>\n",
       "<table border=\"1\" class=\"dataframe\">\n",
       "  <thead>\n",
       "    <tr style=\"text-align: right;\">\n",
       "      <th></th>\n",
       "      <th>snp</th>\n",
       "      <th>set_number</th>\n",
       "    </tr>\n",
       "  </thead>\n",
       "  <tbody>\n",
       "    <tr>\n",
       "      <th>4818</th>\n",
       "      <td>4_13057425</td>\n",
       "      <td>1</td>\n",
       "    </tr>\n",
       "    <tr>\n",
       "      <th>3586</th>\n",
       "      <td>4_16653049</td>\n",
       "      <td>1</td>\n",
       "    </tr>\n",
       "    <tr>\n",
       "      <th>3584</th>\n",
       "      <td>2_16931221</td>\n",
       "      <td>1</td>\n",
       "    </tr>\n",
       "    <tr>\n",
       "      <th>3583</th>\n",
       "      <td>2_13409546</td>\n",
       "      <td>1</td>\n",
       "    </tr>\n",
       "    <tr>\n",
       "      <th>2041</th>\n",
       "      <td>4_17594898</td>\n",
       "      <td>1</td>\n",
       "    </tr>\n",
       "    <tr>\n",
       "      <th>...</th>\n",
       "      <td>...</td>\n",
       "      <td>...</td>\n",
       "    </tr>\n",
       "    <tr>\n",
       "      <th>701</th>\n",
       "      <td>5_26918679</td>\n",
       "      <td>64</td>\n",
       "    </tr>\n",
       "    <tr>\n",
       "      <th>336</th>\n",
       "      <td>5_4946941</td>\n",
       "      <td>64</td>\n",
       "    </tr>\n",
       "    <tr>\n",
       "      <th>289</th>\n",
       "      <td>4_11305880</td>\n",
       "      <td>64</td>\n",
       "    </tr>\n",
       "    <tr>\n",
       "      <th>130</th>\n",
       "      <td>2_9902238</td>\n",
       "      <td>65</td>\n",
       "    </tr>\n",
       "    <tr>\n",
       "      <th>212</th>\n",
       "      <td>3_16002884</td>\n",
       "      <td>69</td>\n",
       "    </tr>\n",
       "  </tbody>\n",
       "</table>\n",
       "<p>4819 rows × 2 columns</p>\n",
       "</div>"
      ],
      "text/plain": [
       "             snp  set_number\n",
       "4818  4_13057425           1\n",
       "3586  4_16653049           1\n",
       "3584  2_16931221           1\n",
       "3583  2_13409546           1\n",
       "2041  4_17594898           1\n",
       "...          ...         ...\n",
       "701   5_26918679          64\n",
       "336    5_4946941          64\n",
       "289   4_11305880          64\n",
       "130    2_9902238          65\n",
       "212   3_16002884          69\n",
       "\n",
       "[4819 rows x 2 columns]"
      ]
     },
     "execution_count": 35,
     "metadata": {},
     "output_type": "execute_result"
    }
   ],
   "source": [
    "snps.sort_values('set_number')"
   ]
  },
  {
   "cell_type": "code",
   "execution_count": 36,
   "id": "8d2174c0-8152-4b6e-bb6b-97420d80ba4c",
   "metadata": {},
   "outputs": [],
   "source": [
    "path_gemma_bslmm = '/carnegie/nobackup/scratch/tbellagio/gea_grene-net/idea_fromind_to_pop/1001g/1001_gtrainnongrenet/output/bslmm_nogrenenet_1001g_grenet_climate.param.txt'"
   ]
  },
  {
   "cell_type": "code",
   "execution_count": 39,
   "id": "3bab5c36-0509-488c-96c8-a639fbab78f2",
   "metadata": {},
   "outputs": [],
   "source": [
    "beta = pd.read_csv(path_gemma_bslmm, sep = '\\t')"
   ]
  },
  {
   "cell_type": "code",
   "execution_count": 49,
   "id": "e236f77f-847f-49cb-8fa2-d23dafd27db2",
   "metadata": {},
   "outputs": [],
   "source": [
    "geno = pd.read_csv('genotype_counts_fullgenome231ecotypes.csv',nrows=100)"
   ]
  },
  {
   "cell_type": "code",
   "execution_count": 52,
   "id": "e0fb8f6e-fb40-45d5-b3cd-08ad44efeeb0",
   "metadata": {},
   "outputs": [],
   "source": [
    "## get the vcf file frothe chromosomes and positions \n",
    "import allel\n",
    "## ld pruned vcf file\n",
    "vcf_file = '/carnegie/nobackup/scratch/xwu/grenet/hapFIRE_updatedVCF/greneNet_final_v1.1.recode.vcf'\n",
    "vcf = allel.read_vcf(vcf_file)"
   ]
  },
  {
   "cell_type": "code",
   "execution_count": 55,
   "id": "71114475-c3c1-48a9-afa0-cc65457bc032",
   "metadata": {},
   "outputs": [
    {
     "data": {
      "text/plain": [
       "array([     291,      346,      349, ..., 26975267, 26975272, 26975288],\n",
       "      dtype=int32)"
      ]
     },
     "execution_count": 55,
     "metadata": {},
     "output_type": "execute_result"
    }
   ],
   "source": [
    "vcf['variants/POS']"
   ]
  },
  {
   "cell_type": "code",
   "execution_count": 54,
   "id": "e474b50c-885d-42ca-afc7-702ba1366b49",
   "metadata": {},
   "outputs": [
    {
     "data": {
      "text/plain": [
       "array(['1_291', '1_346', '1_349', ..., '5_26975267', '5_26975272',\n",
       "       '5_26975288'], dtype=object)"
      ]
     },
     "execution_count": 54,
     "metadata": {},
     "output_type": "execute_result"
    }
   ],
   "source": [
    "vcf['variants/ID']"
   ]
  },
  {
   "cell_type": "code",
   "execution_count": 57,
   "id": "2337ae84-9626-4401-be25-1a2847b288e8",
   "metadata": {},
   "outputs": [],
   "source": [
    "var = pd.DataFrame({'variants_id': vcf['variants/ID'], 'variants_pos':vcf['variants/POS']})"
   ]
  },
  {
   "cell_type": "code",
   "execution_count": 58,
   "id": "36863255-063d-4f0d-9e56-dfed3154ce0a",
   "metadata": {},
   "outputs": [],
   "source": [
    "var.to_csv('grenenet_variants_id_pos.csv',index=None)"
   ]
  },
  {
   "cell_type": "code",
   "execution_count": null,
   "id": "f36c7d71-9c2f-47da-be7b-a367ab3bb0b0",
   "metadata": {},
   "outputs": [],
   "source": []
  },
  {
   "cell_type": "code",
   "execution_count": null,
   "id": "ff6ab51d-9013-41a3-909b-aa7f29ebdd08",
   "metadata": {},
   "outputs": [],
   "source": []
  },
  {
   "cell_type": "code",
   "execution_count": 44,
   "id": "b6d36195-ff1e-4237-9b12-12dcf9604079",
   "metadata": {},
   "outputs": [
    {
     "data": {
      "text/html": [
       "<div>\n",
       "<style scoped>\n",
       "    .dataframe tbody tr th:only-of-type {\n",
       "        vertical-align: middle;\n",
       "    }\n",
       "\n",
       "    .dataframe tbody tr th {\n",
       "        vertical-align: top;\n",
       "    }\n",
       "\n",
       "    .dataframe thead th {\n",
       "        text-align: right;\n",
       "    }\n",
       "</style>\n",
       "<table border=\"1\" class=\"dataframe\">\n",
       "  <thead>\n",
       "    <tr style=\"text-align: right;\">\n",
       "      <th></th>\n",
       "      <th>1</th>\n",
       "      <th>0</th>\n",
       "      <th>168</th>\n",
       "    </tr>\n",
       "  </thead>\n",
       "  <tbody>\n",
       "    <tr>\n",
       "      <th>0</th>\n",
       "      <td>1</td>\n",
       "      <td>169</td>\n",
       "      <td>2967</td>\n",
       "    </tr>\n",
       "    <tr>\n",
       "      <th>1</th>\n",
       "      <td>1</td>\n",
       "      <td>2968</td>\n",
       "      <td>2974</td>\n",
       "    </tr>\n",
       "    <tr>\n",
       "      <th>2</th>\n",
       "      <td>1</td>\n",
       "      <td>2975</td>\n",
       "      <td>3014</td>\n",
       "    </tr>\n",
       "    <tr>\n",
       "      <th>3</th>\n",
       "      <td>1</td>\n",
       "      <td>3015</td>\n",
       "      <td>3047</td>\n",
       "    </tr>\n",
       "    <tr>\n",
       "      <th>4</th>\n",
       "      <td>1</td>\n",
       "      <td>3048</td>\n",
       "      <td>3166</td>\n",
       "    </tr>\n",
       "    <tr>\n",
       "      <th>...</th>\n",
       "      <td>...</td>\n",
       "      <td>...</td>\n",
       "      <td>...</td>\n",
       "    </tr>\n",
       "    <tr>\n",
       "      <th>12103</th>\n",
       "      <td>5</td>\n",
       "      <td>718370</td>\n",
       "      <td>718389</td>\n",
       "    </tr>\n",
       "    <tr>\n",
       "      <th>12104</th>\n",
       "      <td>5</td>\n",
       "      <td>718390</td>\n",
       "      <td>718422</td>\n",
       "    </tr>\n",
       "    <tr>\n",
       "      <th>12105</th>\n",
       "      <td>5</td>\n",
       "      <td>718423</td>\n",
       "      <td>719106</td>\n",
       "    </tr>\n",
       "    <tr>\n",
       "      <th>12106</th>\n",
       "      <td>5</td>\n",
       "      <td>719107</td>\n",
       "      <td>720876</td>\n",
       "    </tr>\n",
       "    <tr>\n",
       "      <th>12107</th>\n",
       "      <td>5</td>\n",
       "      <td>720877</td>\n",
       "      <td>722946</td>\n",
       "    </tr>\n",
       "  </tbody>\n",
       "</table>\n",
       "<p>12108 rows × 3 columns</p>\n",
       "</div>"
      ],
      "text/plain": [
       "       1       0     168\n",
       "0      1     169    2967\n",
       "1      1    2968    2974\n",
       "2      1    2975    3014\n",
       "3      1    3015    3047\n",
       "4      1    3048    3166\n",
       "...   ..     ...     ...\n",
       "12103  5  718370  718389\n",
       "12104  5  718390  718422\n",
       "12105  5  718423  719106\n",
       "12106  5  719107  720876\n",
       "12107  5  720877  722946\n",
       "\n",
       "[12108 rows x 3 columns]"
      ]
     },
     "execution_count": 44,
     "metadata": {},
     "output_type": "execute_result"
    }
   ],
   "source": [
    "pd.read_csv('/carnegie/nobackup/scratch/xwu/grenet/hapFIRE_updatedVCF/s1_density0.5_fine_genomewide_partition.txt', sep = '\\t')"
   ]
  },
  {
   "cell_type": "code",
   "execution_count": null,
   "id": "10d691e2-eff9-43bf-9d85-60626cec0d7e",
   "metadata": {},
   "outputs": [],
   "source": []
  },
  {
   "cell_type": "code",
   "execution_count": null,
   "id": "96582510-0823-4a95-aaea-5b8d9f8b13d3",
   "metadata": {},
   "outputs": [],
   "source": []
  },
  {
   "cell_type": "code",
   "execution_count": null,
   "id": "a349497a-8ffa-45f7-b316-f2b468198899",
   "metadata": {},
   "outputs": [],
   "source": []
  },
  {
   "cell_type": "code",
   "execution_count": 42,
   "id": "f496eb13-4622-42d6-a8fd-ca18cfe86888",
   "metadata": {},
   "outputs": [
    {
     "data": {
      "text/html": [
       "<div>\n",
       "<style scoped>\n",
       "    .dataframe tbody tr th:only-of-type {\n",
       "        vertical-align: middle;\n",
       "    }\n",
       "\n",
       "    .dataframe tbody tr th {\n",
       "        vertical-align: top;\n",
       "    }\n",
       "\n",
       "    .dataframe thead th {\n",
       "        text-align: right;\n",
       "    }\n",
       "</style>\n",
       "<table border=\"1\" class=\"dataframe\">\n",
       "  <thead>\n",
       "    <tr style=\"text-align: right;\">\n",
       "      <th></th>\n",
       "      <th>chr</th>\n",
       "      <th>rs</th>\n",
       "      <th>ps</th>\n",
       "      <th>n_miss</th>\n",
       "      <th>alpha</th>\n",
       "      <th>beta</th>\n",
       "      <th>gamma</th>\n",
       "    </tr>\n",
       "  </thead>\n",
       "  <tbody>\n",
       "    <tr>\n",
       "      <th>1261961</th>\n",
       "      <td>3</td>\n",
       "      <td>3_16002884</td>\n",
       "      <td>16002884</td>\n",
       "      <td>0</td>\n",
       "      <td>-0.000005</td>\n",
       "      <td>0.0</td>\n",
       "      <td>0.0</td>\n",
       "    </tr>\n",
       "  </tbody>\n",
       "</table>\n",
       "</div>"
      ],
      "text/plain": [
       "         chr          rs        ps  n_miss     alpha  beta  gamma\n",
       "1261961    3  3_16002884  16002884       0 -0.000005   0.0    0.0"
      ]
     },
     "execution_count": 42,
     "metadata": {},
     "output_type": "execute_result"
    }
   ],
   "source": [
    "beta[beta['rs'] == '3_16002884']"
   ]
  },
  {
   "cell_type": "code",
   "execution_count": 40,
   "id": "4bfc9577-31e2-47df-bbac-2772e6a83849",
   "metadata": {
    "scrolled": true
   },
   "outputs": [
    {
     "data": {
      "text/html": [
       "<div>\n",
       "<style scoped>\n",
       "    .dataframe tbody tr th:only-of-type {\n",
       "        vertical-align: middle;\n",
       "    }\n",
       "\n",
       "    .dataframe tbody tr th {\n",
       "        vertical-align: top;\n",
       "    }\n",
       "\n",
       "    .dataframe thead th {\n",
       "        text-align: right;\n",
       "    }\n",
       "</style>\n",
       "<table border=\"1\" class=\"dataframe\">\n",
       "  <thead>\n",
       "    <tr style=\"text-align: right;\">\n",
       "      <th></th>\n",
       "      <th>chr</th>\n",
       "      <th>rs</th>\n",
       "      <th>ps</th>\n",
       "      <th>n_miss</th>\n",
       "      <th>alpha</th>\n",
       "      <th>beta</th>\n",
       "      <th>gamma</th>\n",
       "    </tr>\n",
       "  </thead>\n",
       "  <tbody>\n",
       "    <tr>\n",
       "      <th>9</th>\n",
       "      <td>1</td>\n",
       "      <td>1_465</td>\n",
       "      <td>465</td>\n",
       "      <td>0</td>\n",
       "      <td>1.922964e-05</td>\n",
       "      <td>0.359675</td>\n",
       "      <td>0.00029</td>\n",
       "    </tr>\n",
       "    <tr>\n",
       "      <th>276</th>\n",
       "      <td>1</td>\n",
       "      <td>1_23093</td>\n",
       "      <td>23093</td>\n",
       "      <td>0</td>\n",
       "      <td>-5.988942e-06</td>\n",
       "      <td>-0.101865</td>\n",
       "      <td>0.00008</td>\n",
       "    </tr>\n",
       "    <tr>\n",
       "      <th>309</th>\n",
       "      <td>1</td>\n",
       "      <td>1_28120</td>\n",
       "      <td>28120</td>\n",
       "      <td>0</td>\n",
       "      <td>-3.729561e-06</td>\n",
       "      <td>-0.744548</td>\n",
       "      <td>0.00001</td>\n",
       "    </tr>\n",
       "    <tr>\n",
       "      <th>428</th>\n",
       "      <td>1</td>\n",
       "      <td>1_40140</td>\n",
       "      <td>40140</td>\n",
       "      <td>0</td>\n",
       "      <td>8.378831e-07</td>\n",
       "      <td>-0.674303</td>\n",
       "      <td>0.00001</td>\n",
       "    </tr>\n",
       "    <tr>\n",
       "      <th>487</th>\n",
       "      <td>1</td>\n",
       "      <td>1_44588</td>\n",
       "      <td>44588</td>\n",
       "      <td>0</td>\n",
       "      <td>-1.957675e-05</td>\n",
       "      <td>-0.570763</td>\n",
       "      <td>0.00046</td>\n",
       "    </tr>\n",
       "    <tr>\n",
       "      <th>...</th>\n",
       "      <td>...</td>\n",
       "      <td>...</td>\n",
       "      <td>...</td>\n",
       "      <td>...</td>\n",
       "      <td>...</td>\n",
       "      <td>...</td>\n",
       "      <td>...</td>\n",
       "    </tr>\n",
       "    <tr>\n",
       "      <th>2305684</th>\n",
       "      <td>5</td>\n",
       "      <td>5_26917220</td>\n",
       "      <td>26917220</td>\n",
       "      <td>0</td>\n",
       "      <td>1.373581e-04</td>\n",
       "      <td>0.391817</td>\n",
       "      <td>0.00331</td>\n",
       "    </tr>\n",
       "    <tr>\n",
       "      <th>2305963</th>\n",
       "      <td>5</td>\n",
       "      <td>5_26934320</td>\n",
       "      <td>26934320</td>\n",
       "      <td>0</td>\n",
       "      <td>9.426444e-06</td>\n",
       "      <td>0.482716</td>\n",
       "      <td>0.00002</td>\n",
       "    </tr>\n",
       "    <tr>\n",
       "      <th>2306366</th>\n",
       "      <td>5</td>\n",
       "      <td>5_26957429</td>\n",
       "      <td>26957429</td>\n",
       "      <td>0</td>\n",
       "      <td>2.037528e-05</td>\n",
       "      <td>0.515741</td>\n",
       "      <td>0.00044</td>\n",
       "    </tr>\n",
       "    <tr>\n",
       "      <th>2306388</th>\n",
       "      <td>5</td>\n",
       "      <td>5_26959137</td>\n",
       "      <td>26959137</td>\n",
       "      <td>0</td>\n",
       "      <td>-1.727150e-05</td>\n",
       "      <td>-0.890784</td>\n",
       "      <td>0.00049</td>\n",
       "    </tr>\n",
       "    <tr>\n",
       "      <th>2306529</th>\n",
       "      <td>5</td>\n",
       "      <td>5_26967573</td>\n",
       "      <td>26967573</td>\n",
       "      <td>0</td>\n",
       "      <td>2.037528e-05</td>\n",
       "      <td>0.983816</td>\n",
       "      <td>0.00040</td>\n",
       "    </tr>\n",
       "  </tbody>\n",
       "</table>\n",
       "<p>11158 rows × 7 columns</p>\n",
       "</div>"
      ],
      "text/plain": [
       "         chr          rs        ps  n_miss         alpha      beta    gamma\n",
       "9          1       1_465       465       0  1.922964e-05  0.359675  0.00029\n",
       "276        1     1_23093     23093       0 -5.988942e-06 -0.101865  0.00008\n",
       "309        1     1_28120     28120       0 -3.729561e-06 -0.744548  0.00001\n",
       "428        1     1_40140     40140       0  8.378831e-07 -0.674303  0.00001\n",
       "487        1     1_44588     44588       0 -1.957675e-05 -0.570763  0.00046\n",
       "...      ...         ...       ...     ...           ...       ...      ...\n",
       "2305684    5  5_26917220  26917220       0  1.373581e-04  0.391817  0.00331\n",
       "2305963    5  5_26934320  26934320       0  9.426444e-06  0.482716  0.00002\n",
       "2306366    5  5_26957429  26957429       0  2.037528e-05  0.515741  0.00044\n",
       "2306388    5  5_26959137  26959137       0 -1.727150e-05 -0.890784  0.00049\n",
       "2306529    5  5_26967573  26967573       0  2.037528e-05  0.983816  0.00040\n",
       "\n",
       "[11158 rows x 7 columns]"
      ]
     },
     "execution_count": 40,
     "metadata": {},
     "output_type": "execute_result"
    }
   ],
   "source": [
    "beta[beta['beta']!=0]"
   ]
  },
  {
   "cell_type": "code",
   "execution_count": 41,
   "id": "15cb30d8-881f-4863-8986-0da5af38041c",
   "metadata": {},
   "outputs": [
    {
     "data": {
      "text/html": [
       "<div>\n",
       "<style scoped>\n",
       "    .dataframe tbody tr th:only-of-type {\n",
       "        vertical-align: middle;\n",
       "    }\n",
       "\n",
       "    .dataframe tbody tr th {\n",
       "        vertical-align: top;\n",
       "    }\n",
       "\n",
       "    .dataframe thead th {\n",
       "        text-align: right;\n",
       "    }\n",
       "</style>\n",
       "<table border=\"1\" class=\"dataframe\">\n",
       "  <thead>\n",
       "    <tr style=\"text-align: right;\">\n",
       "      <th></th>\n",
       "      <th>chr</th>\n",
       "      <th>rs</th>\n",
       "      <th>ps</th>\n",
       "      <th>n_miss</th>\n",
       "      <th>alpha</th>\n",
       "      <th>beta</th>\n",
       "      <th>gamma</th>\n",
       "    </tr>\n",
       "  </thead>\n",
       "  <tbody>\n",
       "    <tr>\n",
       "      <th>0</th>\n",
       "      <td>1</td>\n",
       "      <td>1_291</td>\n",
       "      <td>291</td>\n",
       "      <td>0</td>\n",
       "      <td>0.000017</td>\n",
       "      <td>0.0</td>\n",
       "      <td>0.0</td>\n",
       "    </tr>\n",
       "    <tr>\n",
       "      <th>1</th>\n",
       "      <td>1</td>\n",
       "      <td>1_346</td>\n",
       "      <td>346</td>\n",
       "      <td>0</td>\n",
       "      <td>-0.000020</td>\n",
       "      <td>0.0</td>\n",
       "      <td>0.0</td>\n",
       "    </tr>\n",
       "    <tr>\n",
       "      <th>2</th>\n",
       "      <td>1</td>\n",
       "      <td>1_352</td>\n",
       "      <td>352</td>\n",
       "      <td>0</td>\n",
       "      <td>0.000004</td>\n",
       "      <td>0.0</td>\n",
       "      <td>0.0</td>\n",
       "    </tr>\n",
       "    <tr>\n",
       "      <th>3</th>\n",
       "      <td>1</td>\n",
       "      <td>1_353</td>\n",
       "      <td>353</td>\n",
       "      <td>0</td>\n",
       "      <td>0.000001</td>\n",
       "      <td>0.0</td>\n",
       "      <td>0.0</td>\n",
       "    </tr>\n",
       "    <tr>\n",
       "      <th>4</th>\n",
       "      <td>1</td>\n",
       "      <td>1_363</td>\n",
       "      <td>363</td>\n",
       "      <td>0</td>\n",
       "      <td>0.000018</td>\n",
       "      <td>0.0</td>\n",
       "      <td>0.0</td>\n",
       "    </tr>\n",
       "    <tr>\n",
       "      <th>...</th>\n",
       "      <td>...</td>\n",
       "      <td>...</td>\n",
       "      <td>...</td>\n",
       "      <td>...</td>\n",
       "      <td>...</td>\n",
       "      <td>...</td>\n",
       "      <td>...</td>\n",
       "    </tr>\n",
       "    <tr>\n",
       "      <th>2306745</th>\n",
       "      <td>5</td>\n",
       "      <td>5_26975083</td>\n",
       "      <td>26975083</td>\n",
       "      <td>0</td>\n",
       "      <td>0.000005</td>\n",
       "      <td>0.0</td>\n",
       "      <td>0.0</td>\n",
       "    </tr>\n",
       "    <tr>\n",
       "      <th>2306746</th>\n",
       "      <td>5</td>\n",
       "      <td>5_26975121</td>\n",
       "      <td>26975121</td>\n",
       "      <td>0</td>\n",
       "      <td>0.000016</td>\n",
       "      <td>0.0</td>\n",
       "      <td>0.0</td>\n",
       "    </tr>\n",
       "    <tr>\n",
       "      <th>2306747</th>\n",
       "      <td>5</td>\n",
       "      <td>5_26975148</td>\n",
       "      <td>26975148</td>\n",
       "      <td>0</td>\n",
       "      <td>0.000017</td>\n",
       "      <td>0.0</td>\n",
       "      <td>0.0</td>\n",
       "    </tr>\n",
       "    <tr>\n",
       "      <th>2306748</th>\n",
       "      <td>5</td>\n",
       "      <td>5_26975272</td>\n",
       "      <td>26975272</td>\n",
       "      <td>0</td>\n",
       "      <td>0.000013</td>\n",
       "      <td>0.0</td>\n",
       "      <td>0.0</td>\n",
       "    </tr>\n",
       "    <tr>\n",
       "      <th>2306749</th>\n",
       "      <td>5</td>\n",
       "      <td>5_26975288</td>\n",
       "      <td>26975288</td>\n",
       "      <td>0</td>\n",
       "      <td>-0.000058</td>\n",
       "      <td>0.0</td>\n",
       "      <td>0.0</td>\n",
       "    </tr>\n",
       "  </tbody>\n",
       "</table>\n",
       "<p>2306750 rows × 7 columns</p>\n",
       "</div>"
      ],
      "text/plain": [
       "         chr          rs        ps  n_miss     alpha  beta  gamma\n",
       "0          1       1_291       291       0  0.000017   0.0    0.0\n",
       "1          1       1_346       346       0 -0.000020   0.0    0.0\n",
       "2          1       1_352       352       0  0.000004   0.0    0.0\n",
       "3          1       1_353       353       0  0.000001   0.0    0.0\n",
       "4          1       1_363       363       0  0.000018   0.0    0.0\n",
       "...      ...         ...       ...     ...       ...   ...    ...\n",
       "2306745    5  5_26975083  26975083       0  0.000005   0.0    0.0\n",
       "2306746    5  5_26975121  26975121       0  0.000016   0.0    0.0\n",
       "2306747    5  5_26975148  26975148       0  0.000017   0.0    0.0\n",
       "2306748    5  5_26975272  26975272       0  0.000013   0.0    0.0\n",
       "2306749    5  5_26975288  26975288       0 -0.000058   0.0    0.0\n",
       "\n",
       "[2306750 rows x 7 columns]"
      ]
     },
     "execution_count": 41,
     "metadata": {},
     "output_type": "execute_result"
    }
   ],
   "source": [
    "beta[beta['alpha']!=0]"
   ]
  },
  {
   "cell_type": "code",
   "execution_count": null,
   "id": "6265d577-6a45-431c-a8f9-8ac85cd79675",
   "metadata": {},
   "outputs": [],
   "source": []
  },
  {
   "cell_type": "code",
   "execution_count": null,
   "id": "9567e5b1-b649-43a4-80b9-6d9599287232",
   "metadata": {},
   "outputs": [],
   "source": []
  },
  {
   "cell_type": "code",
   "execution_count": null,
   "id": "ad5b9d8f-103a-4a1f-86d9-cb48a82bbc7f",
   "metadata": {},
   "outputs": [],
   "source": []
  },
  {
   "cell_type": "code",
   "execution_count": null,
   "id": "194f70cd-bc4c-4c61-8ce1-a3b4e50a98b4",
   "metadata": {},
   "outputs": [],
   "source": []
  },
  {
   "cell_type": "code",
   "execution_count": 29,
   "id": "fa46df20-0db7-4aab-b116-ec37828847c4",
   "metadata": {},
   "outputs": [],
   "source": [
    "for file in clumping02_files:\n",
    "    clumping = pd.read_csv(file,delim_whitespace=True)\n",
    "    snps = clumping['SNP']"
   ]
  },
  {
   "cell_type": "code",
   "execution_count": 25,
   "id": "5d9613d9-d983-4599-9a63-9621abd41a18",
   "metadata": {},
   "outputs": [],
   "source": [
    "## create a null distribution \n",
    "amount = []\n",
    "for file in clumping02_files:\n",
    "    clumping = pd.read_csv(file,delim_whitespace=True)\n",
    "    snps = clumping['SNP']\n",
    "    amount.append((len(snps)))\n",
    "sample_sizes = amount"
   ]
  },
  {
   "cell_type": "code",
   "execution_count": 26,
   "id": "fcd21489-04ae-4318-9140-e54abd4410fe",
   "metadata": {},
   "outputs": [
    {
     "data": {
      "text/plain": [
       "[411,\n",
       " 306,\n",
       " 191,\n",
       " 338,\n",
       " 228,\n",
       " 30,\n",
       " 549,\n",
       " 223,\n",
       " 89,\n",
       " 153,\n",
       " 337,\n",
       " 33,\n",
       " 116,\n",
       " 33,\n",
       " 54,\n",
       " 96,\n",
       " 14,\n",
       " 222,\n",
       " 157,\n",
       " 47,\n",
       " 118,\n",
       " 193,\n",
       " 167,\n",
       " 114,\n",
       " 454,\n",
       " 65,\n",
       " 259,\n",
       " 106,\n",
       " 136,\n",
       " 211,\n",
       " 55,\n",
       " 487,\n",
       " 805,\n",
       " 38,\n",
       " 126,\n",
       " 101,\n",
       " 93,\n",
       " 218,\n",
       " 120,\n",
       " 65,\n",
       " 153,\n",
       " 192,\n",
       " 107,\n",
       " 45,\n",
       " 624,\n",
       " 283,\n",
       " 236,\n",
       " 117,\n",
       " 31,\n",
       " 74,\n",
       " 226,\n",
       " 206,\n",
       " 220,\n",
       " 212,\n",
       " 114,\n",
       " 334,\n",
       " 56,\n",
       " 254,\n",
       " 12,\n",
       " 107,\n",
       " 69,\n",
       " 171,\n",
       " 412,\n",
       " 123,\n",
       " 105,\n",
       " 17,\n",
       " 49,\n",
       " 232,\n",
       " 105,\n",
       " 81,\n",
       " 113,\n",
       " 287,\n",
       " 296,\n",
       " 193,\n",
       " 350,\n",
       " 215,\n",
       " 91,\n",
       " 464,\n",
       " 96,\n",
       " 89,\n",
       " 51,\n",
       " 510,\n",
       " 25,\n",
       " 216,\n",
       " 49,\n",
       " 396,\n",
       " 162,\n",
       " 166,\n",
       " 115,\n",
       " 95,\n",
       " 251,\n",
       " 243,\n",
       " 84,\n",
       " 14,\n",
       " 177,\n",
       " 473,\n",
       " 68,\n",
       " 98,\n",
       " 44,\n",
       " 158]"
      ]
     },
     "execution_count": 26,
     "metadata": {},
     "output_type": "execute_result"
    }
   ],
   "source": [
    "sample_sizes"
   ]
  },
  {
   "cell_type": "code",
   "execution_count": 27,
   "id": "643a6a43-ce68-470f-b7be-ec523f56a293",
   "metadata": {},
   "outputs": [
    {
     "data": {
      "image/png": "[encoded data removed]",
      "text/plain": [
       "<Figure size 1000x600 with 1 Axes>"
      ]
     },
     "metadata": {},
     "output_type": "display_data"
    }
   ],
   "source": [
    "# Define the maximum SNP index\n",
    "max_snp_index = 3300000\n",
    "\n",
    "# Dictionary to count the presence of each SNP across the sets\n",
    "snp_count = defaultdict(int)\n",
    "\n",
    "# Generate random samples for each size and count the SNPs\n",
    "random_samples = []\n",
    "for size in sample_sizes:\n",
    "    sample = np.random.choice(range(1, max_snp_index + 1), size, replace=False)\n",
    "    random_samples.append(sample)\n",
    "    for snp in sample:\n",
    "        snp_count[snp] += 1\n",
    "\n",
    "# Create a DataFrame to count SNPs by the number of sets they are shared in\n",
    "shared_counts = pd.Series(list(snp_count.values())).value_counts().sort_index()\n",
    "\n",
    "# Plotting the distribution of SNP sharing\n",
    "import matplotlib.pyplot as plt\n",
    "\n",
    "plt.figure(figsize=(10, 6))\n",
    "shared_counts.plot(kind='bar')\n",
    "plt.xlabel('Number of sets a SNP is shared in')\n",
    "plt.ylabel('Count of SNPs')\n",
    "plt.title('Count of SNPs Shared by Different Numbers of Sets')\n",
    "plt.show()"
   ]
  },
  {
   "cell_type": "code",
   "execution_count": null,
   "id": "1a09c5e7-040f-46e8-bdc5-efe56dd9bb67",
   "metadata": {},
   "outputs": [],
   "source": []
  },
  {
   "cell_type": "code",
   "execution_count": null,
   "id": "33f0168c-8b35-409d-9425-4223a32069b4",
   "metadata": {},
   "outputs": [],
   "source": []
  },
  {
   "cell_type": "code",
   "execution_count": null,
   "id": "e8a4da76-2181-4259-b71f-76627b8f3a3f",
   "metadata": {},
   "outputs": [],
   "source": []
  },
  {
   "cell_type": "code",
   "execution_count": 14,
   "id": "0a57d418-5b28-405a-b637-fe879d7b0f10",
   "metadata": {},
   "outputs": [],
   "source": [
    "## Transpose\n",
    "#import csv\n",
    "#def transpose(input, output):\n",
    "#    a = zip(*csv.reader(open(input, \"rt\")))\n",
    "#    csv.writer(open(output, \"wt\")).writerows(a)\n",
    "\n",
    "## transpose all the pvalues files\n",
    "#for i in pd.Series(wo_calibration_pvalue).sort_values()[-4:]:\n",
    "#    j = i.replace('wo_calibration_pvalue_full_genome', 'tr_wo_calibration_pvalue_full_genome')\n",
    "#    print(i)\n",
    "#    print(j)\n",
    "#    transpose(i, j)\n",
    "#    print('done')"
   ]
  },
  {
   "cell_type": "code",
   "execution_count": null,
   "id": "6fb72267-72c3-4977-b753-b32082c90cb9",
   "metadata": {},
   "outputs": [],
   "source": []
  },
  {
   "cell_type": "code",
   "execution_count": null,
   "id": "a4bee8c4-f6b0-4e2a-b9f3-1a1aa5eb0442",
   "metadata": {},
   "outputs": [],
   "source": []
  },
  {
   "cell_type": "code",
   "execution_count": 177,
   "id": "b6fe7dc0-23c8-45b2-aaff-a9634c2898bf",
   "metadata": {},
   "outputs": [],
   "source": [
    "target_filename = 'significant_snps.pkl'\n",
    "significant_snps_files = find_files(root_directory, target_filename)"
   ]
  },
  {
   "cell_type": "code",
   "execution_count": 178,
   "id": "22cf8e26-e5d0-4d15-84e1-1e0c50759e46",
   "metadata": {},
   "outputs": [
    {
     "data": {
      "text/plain": [
       "['/carnegie/nobackup/scratch/tbellagio/gea_grene-net/leave_1_out/significant_snps.pkl',\n",
       " '/carnegie/nobackup/scratch/tbellagio/gea_grene-net/leave_1_out/split_number_88/significant_snps.pkl',\n",
       " '/carnegie/nobackup/scratch/tbellagio/gea_grene-net/leave_1_out/split_number_11/significant_snps.pkl',\n",
       " '/carnegie/nobackup/scratch/tbellagio/gea_grene-net/leave_1_out/split_number_29/significant_snps.pkl',\n",
       " '/carnegie/nobackup/scratch/tbellagio/gea_grene-net/leave_1_out/split_number_54/significant_snps.pkl',\n",
       " '/carnegie/nobackup/scratch/tbellagio/gea_grene-net/leave_1_out/split_number_75/significant_snps.pkl',\n",
       " '/carnegie/nobackup/scratch/tbellagio/gea_grene-net/leave_1_out/split_number_8/significant_snps.pkl',\n",
       " '/carnegie/nobackup/scratch/tbellagio/gea_grene-net/leave_1_out/split_number_2/significant_snps.pkl',\n",
       " '/carnegie/nobackup/scratch/tbellagio/gea_grene-net/leave_1_out/split_number_30/significant_snps.pkl',\n",
       " '/carnegie/nobackup/scratch/tbellagio/gea_grene-net/leave_1_out/split_number_47/significant_snps.pkl',\n",
       " '/carnegie/nobackup/scratch/tbellagio/gea_grene-net/leave_1_out/split_number_37/significant_snps.pkl',\n",
       " '/carnegie/nobackup/scratch/tbellagio/gea_grene-net/leave_1_out/split_number_5/significant_snps.pkl']"
      ]
     },
     "execution_count": 178,
     "metadata": {},
     "output_type": "execute_result"
    }
   ],
   "source": [
    "significant_snps_files"
   ]
  },
  {
   "cell_type": "code",
   "execution_count": null,
   "id": "598a8dba-5970-4264-b141-2880c785a2b1",
   "metadata": {},
   "outputs": [],
   "source": []
  },
  {
   "cell_type": "code",
   "execution_count": null,
   "id": "1884beaa-d5fb-42fe-86f1-f83759792892",
   "metadata": {},
   "outputs": [],
   "source": [
    "## compare the gif with 3 k and the other number\n",
    "### runn all the transpositions \n",
    "## calculate singifant allees "
   ]
  },
  {
   "cell_type": "code",
   "execution_count": 161,
   "id": "bf0ffcf3-8655-4c04-99cb-bc9040d61c10",
   "metadata": {},
   "outputs": [],
   "source": [
    "#alljobs = [int(i.split('_')[2].replace('.out', '')) for i in os.listdir() if '.out' in i]"
   ]
  },
  {
   "cell_type": "code",
   "execution_count": null,
   "id": "d3540b03-f15c-420f-9286-19b978661bfe",
   "metadata": {},
   "outputs": [],
   "source": []
  },
  {
   "cell_type": "code",
   "execution_count": null,
   "id": "e14d93d4-b510-4635-b289-88d2015af3a4",
   "metadata": {},
   "outputs": [],
   "source": []
  },
  {
   "cell_type": "code",
   "execution_count": null,
   "id": "27c24e87-ba93-4b82-9e6a-eb8d72f10c29",
   "metadata": {},
   "outputs": [],
   "source": []
  },
  {
   "cell_type": "code",
   "execution_count": null,
   "id": "640362b9-dfdd-4a40-b238-017fc414057f",
   "metadata": {},
   "outputs": [],
   "source": []
  },
  {
   "cell_type": "code",
   "execution_count": 40,
   "id": "e006dde2-87cd-4aaa-afd8-d3b9b2fa16ac",
   "metadata": {},
   "outputs": [],
   "source": [
    "test_samples = splits_samples[0][1]"
   ]
  },
  {
   "cell_type": "code",
   "execution_count": 41,
   "id": "bf380dc3-2745-4836-ba08-89e9a10b10fe",
   "metadata": {},
   "outputs": [],
   "source": [
    "#### training \n",
    "\n",
    "path_ldp_af = '/carnegie/nobackup/scratch/xwu/grenet/merged_frequency/merged_hapFIRE_allele_frequency_LDpruned.txt'\n",
    "\n",
    "allele_freq = dd.read_csv(path_ldp_af, sep = '\\t', usecols=train_samples)\n",
    "\n",
    "clim_sites_during_exp = pd.read_csv('/carnegie/nobackup/scratch/tbellagio/grene/data/bioclimvars_experimental_sites_era5.csv')\n",
    "\n",
    "sites_af = pd.Series(allele_freq.columns.str.split('_').str[0]).astype(int)\n",
    "\n",
    "sites_af.name = 'site'\n",
    "\n",
    "env = sites_af.reset_index().merge(clim_sites_during_exp).drop(['index'],axis=1)\n",
    "\n",
    "##scale it\n",
    "means = {}\n",
    "stds = {}\n",
    "for i in env.columns[1:]:\n",
    "    means[i] = np.mean(env[i])\n",
    "    stds[i] = np.std(env[i])\n",
    "    env[i] = (env[i] - np.mean(env[i])) / np.std(env[i])\n",
    "\n",
    "env = env.drop('site',axis=1)\n",
    "\n",
    "#env.to_csv(f'split_number_{number}/environment_lea.csv', sep = ',', index=False)\n"
   ]
  },
  {
   "cell_type": "code",
   "execution_count": 42,
   "id": "fafc351f-12d0-415e-b6b3-40919de55ef7",
   "metadata": {},
   "outputs": [],
   "source": [
    "path_ldp_af = '/carnegie/nobackup/scratch/xwu/grenet/merged_frequency/merged_hapFIRE_allele_frequency_LDpruned.txt'\n",
    "\n",
    "allele_freq = dd.read_csv(path_ldp_af, sep = '\\t', usecols=test_samples)\n",
    "\n",
    "clim_sites_during_exp = pd.read_csv('/carnegie/nobackup/scratch/tbellagio/grene/data/bioclimvars_experimental_sites_era5.csv')\n",
    "\n",
    "sites_af = pd.Series(allele_freq.columns.str.split('_').str[0]).astype(int)\n",
    "\n",
    "sites_af = sites_af.drop_duplicates()\n",
    "\n",
    "sites_af.name = 'site'\n",
    "\n",
    "env_test = sites_af.reset_index().merge(clim_sites_during_exp).drop(['index'],axis=1)\n",
    "\n",
    "##scale it for the testing we used the saved mean and std\n",
    "for i in env_test.columns[1:]:\n",
    "    env_test[i] = (env_test[i] - means[i]) / stds[i]\n",
    "\n",
    "#env = env.drop('site',axis=1)\n",
    "#env.to_csv(f'split_number_{number}/environment_lea.csv', sep = ',', index=False)\n",
    "\n"
   ]
  },
  {
   "cell_type": "code",
   "execution_count": 43,
   "id": "340307c9-4ac9-4e39-b8b7-3ed7324ae7ee",
   "metadata": {},
   "outputs": [
    {
     "data": {
      "text/plain": [
       "[4, 24, 48, 52, 55, 57]"
      ]
     },
     "execution_count": 43,
     "metadata": {},
     "output_type": "execute_result"
    }
   ],
   "source": [
    "env_test['site'].to_list()"
   ]
  },
  {
   "cell_type": "code",
   "execution_count": null,
   "id": "acd9ddb0-9c6e-40a4-9158-a27a35d7b176",
   "metadata": {},
   "outputs": [],
   "source": []
  },
  {
   "cell_type": "code",
   "execution_count": null,
   "id": "41088c90-798c-4fe5-8675-c4530f1fcd12",
   "metadata": {},
   "outputs": [],
   "source": []
  },
  {
   "cell_type": "code",
   "execution_count": 1,
   "id": "ab3b8100-5dac-4355-a60c-96602ff0523c",
   "metadata": {},
   "outputs": [
    {
     "name": "stderr",
     "output_type": "stream",
     "text": [
      "/home/tbellagio/.local/lib/python3.9/site-packages/scipy/__init__.py:146: UserWarning: A NumPy version >=1.17.3 and <1.25.0 is required for this version of SciPy (detected version 1.26.4\n",
      "  warnings.warn(f\"A NumPy version >={np_minversion} and <{np_maxversion}\"\n"
     ]
    }
   ],
   "source": [
    "## get the vcf file frothe chromosomes and positions \n",
    "import allel\n",
    "## ld pruned vcf file\n",
    "ld_prunned_vcf_file = '/carnegie/nobackup/scratch/xwu/grenet/hapFIRE_updatedVCF/greneNet_final_v1.1_LDpruned.recode.vcf'\n",
    "ld_prunned_vcf = allel.read_vcf(ld_prunned_vcf_file)"
   ]
  },
  {
   "cell_type": "code",
   "execution_count": 2,
   "id": "c26dee07-b991-4685-9029-abbadae3fd3b",
   "metadata": {},
   "outputs": [],
   "source": [
    "ld_prunned_chrom = ld_prunned_vcf['variants/CHROM']\n",
    "ld_prunned_pos = ld_prunned_vcf['variants/POS']"
   ]
  },
  {
   "cell_type": "code",
   "execution_count": 3,
   "id": "c71edb9c-bb66-4d3c-864e-ed2ebde4f96e",
   "metadata": {},
   "outputs": [],
   "source": [
    "index_pos = {}\n",
    "for index, pos in enumerate(ld_prunned_pos):\n",
    "    index_pos[index] = pos"
   ]
  },
  {
   "cell_type": "code",
   "execution_count": 4,
   "id": "113ef43b-440d-49ae-a981-2c398f53ff4c",
   "metadata": {},
   "outputs": [
    {
     "ename": "NameError",
     "evalue": "name 'matrix_results' is not defined",
     "output_type": "error",
     "traceback": [
      "\u001b[0;31m---------------------------------------------------------------------------\u001b[0m",
      "\u001b[0;31mNameError\u001b[0m                                 Traceback (most recent call last)",
      "Cell \u001b[0;32mIn[4], line 2\u001b[0m\n\u001b[1;32m      1\u001b[0m real_positions \u001b[38;5;241m=\u001b[39m []\n\u001b[0;32m----> 2\u001b[0m \u001b[38;5;28;01mfor\u001b[39;00m i \u001b[38;5;129;01min\u001b[39;00m \u001b[43mmatrix_results\u001b[49m\u001b[38;5;241m.\u001b[39mindex:\n\u001b[1;32m      3\u001b[0m     real_pos \u001b[38;5;241m=\u001b[39m index_pos[i]\n\u001b[1;32m      4\u001b[0m     real_positions\u001b[38;5;241m.\u001b[39mappend(real_pos)\n",
      "\u001b[0;31mNameError\u001b[0m: name 'matrix_results' is not defined"
     ]
    }
   ],
   "source": [
    "real_positions = []\n",
    "for i in matrix_results.index:\n",
    "    real_pos = index_pos[i]\n",
    "    real_positions.append(real_pos)"
   ]
  },
  {
   "cell_type": "code",
   "execution_count": null,
   "id": "eb23345d-1de9-4e62-bc7b-0afb05786271",
   "metadata": {},
   "outputs": [],
   "source": [
    "#matrix_results.index = real_positions"
   ]
  },
  {
   "cell_type": "code",
   "execution_count": 57,
   "id": "72fa20cc-e6e4-432e-b91b-70a1668e16c1",
   "metadata": {
    "scrolled": true
   },
   "outputs": [
    {
     "data": {
      "text/plain": [
       "(13985, 231, 2)"
      ]
     },
     "execution_count": 57,
     "metadata": {},
     "output_type": "execute_result"
    }
   ],
   "source": [
    "ld_prunned_vcf['calldata/GT'].shape"
   ]
  },
  {
   "cell_type": "code",
   "execution_count": 9,
   "id": "75e9dbcc-f0e6-4ea6-85ef-c0f1bd3eb5b4",
   "metadata": {},
   "outputs": [
    {
     "ename": "NameError",
     "evalue": "name 'ld_prunned_vcf' is not defined",
     "output_type": "error",
     "traceback": [
      "\u001b[0;31m---------------------------------------------------------------------------\u001b[0m",
      "\u001b[0;31mNameError\u001b[0m                                 Traceback (most recent call last)",
      "Cell \u001b[0;32mIn[9], line 1\u001b[0m\n\u001b[0;32m----> 1\u001b[0m \u001b[43mld_prunned_vcf\u001b[49m\n",
      "\u001b[0;31mNameError\u001b[0m: name 'ld_prunned_vcf' is not defined"
     ]
    }
   ],
   "source": [
    "ld_prunned_vcf"
   ]
  },
  {
   "cell_type": "code",
   "execution_count": 58,
   "id": "24ad781b-3f79-4651-a123-daa574b3ca88",
   "metadata": {},
   "outputs": [
    {
     "data": {
      "text/plain": [
       "19"
      ]
     },
     "execution_count": 58,
     "metadata": {},
     "output_type": "execute_result"
    }
   ],
   "source": [
    "len(matrix_results.index)"
   ]
  },
  {
   "cell_type": "code",
   "execution_count": 59,
   "id": "b3066ffb-352e-42e1-8e63-c8579cdafa4e",
   "metadata": {},
   "outputs": [],
   "source": [
    "selected_snps = ld_prunned_vcf['calldata/GT'][matrix_results.index, :, :]"
   ]
  },
  {
   "cell_type": "code",
   "execution_count": 60,
   "id": "f9dd2c67-c293-4ee5-bc8a-6857859f585b",
   "metadata": {},
   "outputs": [
    {
     "data": {
      "text/plain": [
       "(19, 231, 2)"
      ]
     },
     "execution_count": 60,
     "metadata": {},
     "output_type": "execute_result"
    }
   ],
   "source": [
    "selected_snps.shape"
   ]
  },
  {
   "cell_type": "code",
   "execution_count": 61,
   "id": "2785a6eb-dc7f-4cda-9e7f-040c0caf1303",
   "metadata": {},
   "outputs": [],
   "source": [
    "genotype_counts = np.sum(selected_snps, axis=2)"
   ]
  },
  {
   "cell_type": "code",
   "execution_count": 62,
   "id": "9515e8e2-8e8b-4439-a73b-d4c84aae332c",
   "metadata": {},
   "outputs": [
    {
     "data": {
      "text/plain": [
       "(19, 231)"
      ]
     },
     "execution_count": 62,
     "metadata": {},
     "output_type": "execute_result"
    }
   ],
   "source": [
    "genotype_counts.shape"
   ]
  },
  {
   "cell_type": "code",
   "execution_count": 63,
   "id": "722d962b-eef9-4d66-b4a2-45fd677bc918",
   "metadata": {},
   "outputs": [
    {
     "data": {
      "text/plain": [
       "array([[0, 0, 0, ..., 0, 0, 0],\n",
       "       [0, 0, 0, ..., 0, 0, 0],\n",
       "       [0, 0, 0, ..., 0, 0, 0],\n",
       "       ...,\n",
       "       [0, 2, 0, ..., 0, 0, 0],\n",
       "       [0, 0, 0, ..., 0, 0, 2],\n",
       "       [2, 0, 0, ..., 0, 0, 2]])"
      ]
     },
     "execution_count": 63,
     "metadata": {},
     "output_type": "execute_result"
    }
   ],
   "source": [
    "genotype_counts"
   ]
  },
  {
   "cell_type": "code",
   "execution_count": 64,
   "id": "64b95e9e-6190-46bd-895b-24967f9a69bf",
   "metadata": {},
   "outputs": [
    {
     "data": {
      "text/plain": [
       "13985"
      ]
     },
     "execution_count": 64,
     "metadata": {},
     "output_type": "execute_result"
    }
   ],
   "source": [
    "len(ld_prunned_pos)"
   ]
  },
  {
   "cell_type": "code",
   "execution_count": null,
   "id": "40658ff8-2b78-432f-a62f-c9db6906559a",
   "metadata": {},
   "outputs": [],
   "source": []
  },
  {
   "cell_type": "code",
   "execution_count": 3,
   "id": "8cc99d11-9f86-488b-a0bc-f598e8712399",
   "metadata": {},
   "outputs": [
    {
     "name": "stderr",
     "output_type": "stream",
     "text": [
      "/home/tbellagio/.local/lib/python3.9/site-packages/scipy/__init__.py:146: UserWarning: A NumPy version >=1.17.3 and <1.25.0 is required for this version of SciPy (detected version 1.26.4\n",
      "  warnings.warn(f\"A NumPy version >={np_minversion} and <{np_maxversion}\"\n"
     ]
    }
   ],
   "source": [
    "import sys\n",
    "sys.path.append('/home/tbellagio/miniforge3/envs/pipeline_snakemake/lib/python3.9/site-packages')\n",
    "import cvxpy"
   ]
  },
  {
   "cell_type": "code",
   "execution_count": null,
   "id": "a14f73fc-6c8a-467c-9a83-2c02807eb412",
   "metadata": {},
   "outputs": [],
   "source": [
    "import numpy as np\n",
    "import cvxpy as cp\n",
    "\n",
    "y = np.asarray(matrix_results[4]) * 2\n",
    "\n",
    "\n",
    "h = cp.Variable(231)\n",
    "\n",
    "product = genotype_counts @ h \n",
    "\n",
    "diff = product - y\n",
    "\n",
    "constraints = [0 <= h, sum(h) == 1]\n",
    "\n",
    "\n",
    "problem = cp.Problem(cp.Minimize(cp.norm(diff)), constraints)\n",
    "\n",
    "# Solve the optimization problem using the SCS solver, with verbose output disabled.\n",
    "problem.solve(solver='SCS', verbose=False)\n",
    "\n",
    "\n",
    "h.value.shape\n",
    "\n",
    "ecotype_frequency = h.value"
   ]
  },
  {
   "cell_type": "code",
   "execution_count": null,
   "id": "c9ca7df3-5401-453c-bfc2-6c219cbaf9a7",
   "metadata": {},
   "outputs": [],
   "source": []
  },
  {
   "cell_type": "code",
   "execution_count": null,
   "id": "2667cbcc-dd74-4e94-8f2a-39a852cfd789",
   "metadata": {},
   "outputs": [],
   "source": []
  },
  {
   "cell_type": "code",
   "execution_count": null,
   "id": "03b28bfa-13e0-4f8c-99e9-dcb197189920",
   "metadata": {},
   "outputs": [],
   "source": []
  },
  {
   "cell_type": "code",
   "execution_count": null,
   "id": "a2cccd2a-b08f-4531-90cc-325f14495b11",
   "metadata": {},
   "outputs": [],
   "source": []
  },
  {
   "cell_type": "code",
   "execution_count": null,
   "id": "e736b0a8-0ad2-41d8-9d86-f92840e1d861",
   "metadata": {},
   "outputs": [],
   "source": []
  },
  {
   "cell_type": "code",
   "execution_count": null,
   "id": "757792ff-4c9c-4010-8959-d092fdb4f9e5",
   "metadata": {},
   "outputs": [],
   "source": [
    "\n",
    "\n",
    "# `y` represents the haplotype frequency, for me the allele frequency \n",
    "## i?? take it away  this is because you do it per haplotype block?? \n",
    "## \n",
    "y = np.asarray(independent_block_haplotype_frequency[i]) * 2\n",
    "\n",
    "# Create a variable `h` using CVXPY, which represents the frequencies of ecotypes??.\n",
    "# Its dimension is set to match 231?? \n",
    "h = cp.Variable(haplotype.shape[0])\n",
    "\n",
    "# `product` computes the dot product of the transpose of the haplotype design matrix with the vector `h`.\n",
    "# for me the haplotype sedign matrix is gonna be the genotype matrix??? \n",
    "product = independent_haplotype_DM_.T @ h \n",
    "\n",
    "# Calculate the residuals `diff` by subtracting the observed frequencies `y` from the modeled `product`.\n",
    "diff = product - y\n",
    "\n",
    "# Define constraints for the optimization problem:\n",
    "# 1. All elements of `h` must be non-negative.\n",
    "# 2. The sum of all elements in `h` must equal 1 (ensuring that `h` represents a probability distribution).\n",
    "constraints = [0 <= h, sum(h) == 1]\n",
    "\n",
    "# Formulate the optimization problem:\n",
    "# The objective is to minimize the norm of the residuals `diff`.\n",
    "# This norm minimization helps in fitting the model close to the observed data.\n",
    "problem = cp.Problem(cp.Minimize(cp.norm(diff)), constraints)\n",
    "\n",
    "# Solve the optimization problem using the SCS solver, with verbose output disabled.\n",
    "problem.solve(solver='SCS', verbose=False)\n",
    "\n",
    "# Store the solution of `h` (the estimated haplotype frequencies) in `ecotype_frequency` at index `i`.\n",
    "## for you it was an index becasue it was at haplotype block i ???? \n",
    "ecotype_frequency[i, :] = h.value\n",
    "\n",
    "# `weights` is a list that stores the distance between variants to perhaps weigh the influence of each segment.\n",
    "# Here, it appends the distance between the right and left variant positions.\n",
    "weights.append(variant_positions[right] - variant_positions[left])"
   ]
  },
  {
   "cell_type": "code",
   "execution_count": null,
   "id": "08ba2e3c-fc1e-4d67-b781-73cc458f6e7a",
   "metadata": {},
   "outputs": [],
   "source": []
  },
  {
   "cell_type": "code",
   "execution_count": 45,
   "id": "f39ca4cd-45e8-4b12-a3d7-0a2f73752189",
   "metadata": {},
   "outputs": [],
   "source": [
    "import csv"
   ]
  },
  {
   "cell_type": "code",
   "execution_count": 46,
   "id": "2574b3ea-2282-4abe-a17d-cf9ec091ee07",
   "metadata": {},
   "outputs": [],
   "source": [
    "## function to fin diles \n",
    "def find_files(directory, filename):\n",
    "    matches = []  # List to store the full paths of matching files\n",
    "    for root, dirs, files in os.walk(directory):\n",
    "        if filename in files:\n",
    "            full_path = os.path.join(root, filename)\n",
    "            matches.append(full_path)\n",
    "    return matches\n",
    "\n",
    "## generate transpose function \n",
    "def transpose(input, output):\n",
    "    a = zip(*csv.reader(open(input, \"rt\")))\n",
    "    csv.writer(open(output, \"wt\")).writerows(a)"
   ]
  },
  {
   "cell_type": "code",
   "execution_count": 22,
   "id": "5481f7a9-74e6-4b38-bc3c-1fffe10ee062",
   "metadata": {},
   "outputs": [],
   "source": [
    "root_directory = '/carnegie/nobackup/scratch/tbellagio/gea_grene-net/leave_1_out/'  # Update this to the directory you want to search\n",
    "\n",
    "## retrieve all no adjusted qvalues\n",
    "target_filename = 'notadj_qvalues_full_genome.csv'\n",
    "notadj_qvalues_files = find_files(root_directory, target_filename)\n",
    "\n",
    "## retrieve all no adjusted pvalues\n",
    "target_filename = 'notadj_pvalues_full_genome.csv'\n",
    "notadj_pvalues_files = find_files(root_directory, target_filename)\n"
   ]
  },
  {
   "cell_type": "code",
   "execution_count": 42,
   "id": "67552f49-d53f-4056-b6bf-bdc7444f5b4f",
   "metadata": {},
   "outputs": [
    {
     "data": {
      "text/plain": [
       "17    /carnegie/nobackup/scratch/tbellagio/gea_grene...\n",
       "59    /carnegie/nobackup/scratch/tbellagio/gea_grene...\n",
       "34    /carnegie/nobackup/scratch/tbellagio/gea_grene...\n",
       "89    /carnegie/nobackup/scratch/tbellagio/gea_grene...\n",
       "dtype: object"
      ]
     },
     "execution_count": 42,
     "metadata": {},
     "output_type": "execute_result"
    }
   ],
   "source": [
    "pd.Series(notadj_pvalues_files).sort_values()[-4:]"
   ]
  },
  {
   "cell_type": "code",
   "execution_count": 39,
   "id": "2c34d6a9-073a-45d5-a753-4dc5187db8f0",
   "metadata": {
    "scrolled": true
   },
   "outputs": [
    {
     "name": "stdout",
     "output_type": "stream",
     "text": [
      "/carnegie/nobackup/scratch/tbellagio/gea_grene-net/leave_1_out/split_number_0/notadj_pvalues_full_genome.csv\n",
      "/carnegie/nobackup/scratch/tbellagio/gea_grene-net/leave_1_out/split_number_1/notadj_pvalues_full_genome.csv\n",
      "/carnegie/nobackup/scratch/tbellagio/gea_grene-net/leave_1_out/split_number_10/notadj_pvalues_full_genome.csv\n",
      "/carnegie/nobackup/scratch/tbellagio/gea_grene-net/leave_1_out/split_number_11/notadj_pvalues_full_genome.csv\n",
      "/carnegie/nobackup/scratch/tbellagio/gea_grene-net/leave_1_out/split_number_12/notadj_pvalues_full_genome.csv\n",
      "/carnegie/nobackup/scratch/tbellagio/gea_grene-net/leave_1_out/split_number_13/notadj_pvalues_full_genome.csv\n",
      "/carnegie/nobackup/scratch/tbellagio/gea_grene-net/leave_1_out/split_number_14/notadj_pvalues_full_genome.csv\n",
      "/carnegie/nobackup/scratch/tbellagio/gea_grene-net/leave_1_out/split_number_15/notadj_pvalues_full_genome.csv\n",
      "/carnegie/nobackup/scratch/tbellagio/gea_grene-net/leave_1_out/split_number_16/notadj_pvalues_full_genome.csv\n",
      "/carnegie/nobackup/scratch/tbellagio/gea_grene-net/leave_1_out/split_number_17/notadj_pvalues_full_genome.csv\n",
      "/carnegie/nobackup/scratch/tbellagio/gea_grene-net/leave_1_out/split_number_18/notadj_pvalues_full_genome.csv\n",
      "/carnegie/nobackup/scratch/tbellagio/gea_grene-net/leave_1_out/split_number_19/notadj_pvalues_full_genome.csv\n",
      "/carnegie/nobackup/scratch/tbellagio/gea_grene-net/leave_1_out/split_number_2/notadj_pvalues_full_genome.csv\n",
      "/carnegie/nobackup/scratch/tbellagio/gea_grene-net/leave_1_out/split_number_20/notadj_pvalues_full_genome.csv\n",
      "/carnegie/nobackup/scratch/tbellagio/gea_grene-net/leave_1_out/split_number_21/notadj_pvalues_full_genome.csv\n",
      "/carnegie/nobackup/scratch/tbellagio/gea_grene-net/leave_1_out/split_number_22/notadj_pvalues_full_genome.csv\n",
      "/carnegie/nobackup/scratch/tbellagio/gea_grene-net/leave_1_out/split_number_23/notadj_pvalues_full_genome.csv\n",
      "/carnegie/nobackup/scratch/tbellagio/gea_grene-net/leave_1_out/split_number_24/notadj_pvalues_full_genome.csv\n",
      "/carnegie/nobackup/scratch/tbellagio/gea_grene-net/leave_1_out/split_number_25/notadj_pvalues_full_genome.csv\n",
      "/carnegie/nobackup/scratch/tbellagio/gea_grene-net/leave_1_out/split_number_26/notadj_pvalues_full_genome.csv\n",
      "/carnegie/nobackup/scratch/tbellagio/gea_grene-net/leave_1_out/split_number_27/notadj_pvalues_full_genome.csv\n",
      "/carnegie/nobackup/scratch/tbellagio/gea_grene-net/leave_1_out/split_number_28/notadj_pvalues_full_genome.csv\n",
      "/carnegie/nobackup/scratch/tbellagio/gea_grene-net/leave_1_out/split_number_29/notadj_pvalues_full_genome.csv\n",
      "/carnegie/nobackup/scratch/tbellagio/gea_grene-net/leave_1_out/split_number_3/notadj_pvalues_full_genome.csv\n",
      "/carnegie/nobackup/scratch/tbellagio/gea_grene-net/leave_1_out/split_number_30/notadj_pvalues_full_genome.csv\n",
      "/carnegie/nobackup/scratch/tbellagio/gea_grene-net/leave_1_out/split_number_31/notadj_pvalues_full_genome.csv\n",
      "/carnegie/nobackup/scratch/tbellagio/gea_grene-net/leave_1_out/split_number_32/notadj_pvalues_full_genome.csv\n",
      "/carnegie/nobackup/scratch/tbellagio/gea_grene-net/leave_1_out/split_number_33/notadj_pvalues_full_genome.csv\n",
      "/carnegie/nobackup/scratch/tbellagio/gea_grene-net/leave_1_out/split_number_34/notadj_pvalues_full_genome.csv\n",
      "/carnegie/nobackup/scratch/tbellagio/gea_grene-net/leave_1_out/split_number_35/notadj_pvalues_full_genome.csv\n",
      "/carnegie/nobackup/scratch/tbellagio/gea_grene-net/leave_1_out/split_number_36/notadj_pvalues_full_genome.csv\n",
      "/carnegie/nobackup/scratch/tbellagio/gea_grene-net/leave_1_out/split_number_37/notadj_pvalues_full_genome.csv\n",
      "/carnegie/nobackup/scratch/tbellagio/gea_grene-net/leave_1_out/split_number_38/notadj_pvalues_full_genome.csv\n",
      "/carnegie/nobackup/scratch/tbellagio/gea_grene-net/leave_1_out/split_number_39/notadj_pvalues_full_genome.csv\n",
      "/carnegie/nobackup/scratch/tbellagio/gea_grene-net/leave_1_out/split_number_4/notadj_pvalues_full_genome.csv\n",
      "/carnegie/nobackup/scratch/tbellagio/gea_grene-net/leave_1_out/split_number_40/notadj_pvalues_full_genome.csv\n",
      "/carnegie/nobackup/scratch/tbellagio/gea_grene-net/leave_1_out/split_number_41/notadj_pvalues_full_genome.csv\n",
      "/carnegie/nobackup/scratch/tbellagio/gea_grene-net/leave_1_out/split_number_42/notadj_pvalues_full_genome.csv\n",
      "/carnegie/nobackup/scratch/tbellagio/gea_grene-net/leave_1_out/split_number_43/notadj_pvalues_full_genome.csv\n",
      "/carnegie/nobackup/scratch/tbellagio/gea_grene-net/leave_1_out/split_number_44/notadj_pvalues_full_genome.csv\n",
      "/carnegie/nobackup/scratch/tbellagio/gea_grene-net/leave_1_out/split_number_45/notadj_pvalues_full_genome.csv\n",
      "/carnegie/nobackup/scratch/tbellagio/gea_grene-net/leave_1_out/split_number_46/notadj_pvalues_full_genome.csv\n",
      "/carnegie/nobackup/scratch/tbellagio/gea_grene-net/leave_1_out/split_number_47/notadj_pvalues_full_genome.csv\n",
      "/carnegie/nobackup/scratch/tbellagio/gea_grene-net/leave_1_out/split_number_48/notadj_pvalues_full_genome.csv\n",
      "/carnegie/nobackup/scratch/tbellagio/gea_grene-net/leave_1_out/split_number_49/notadj_pvalues_full_genome.csv\n",
      "/carnegie/nobackup/scratch/tbellagio/gea_grene-net/leave_1_out/split_number_5/notadj_pvalues_full_genome.csv\n",
      "/carnegie/nobackup/scratch/tbellagio/gea_grene-net/leave_1_out/split_number_50/notadj_pvalues_full_genome.csv\n",
      "/carnegie/nobackup/scratch/tbellagio/gea_grene-net/leave_1_out/split_number_51/notadj_pvalues_full_genome.csv\n",
      "/carnegie/nobackup/scratch/tbellagio/gea_grene-net/leave_1_out/split_number_52/notadj_pvalues_full_genome.csv\n",
      "/carnegie/nobackup/scratch/tbellagio/gea_grene-net/leave_1_out/split_number_53/notadj_pvalues_full_genome.csv\n",
      "/carnegie/nobackup/scratch/tbellagio/gea_grene-net/leave_1_out/split_number_54/notadj_pvalues_full_genome.csv\n",
      "/carnegie/nobackup/scratch/tbellagio/gea_grene-net/leave_1_out/split_number_55/notadj_pvalues_full_genome.csv\n",
      "/carnegie/nobackup/scratch/tbellagio/gea_grene-net/leave_1_out/split_number_56/notadj_pvalues_full_genome.csv\n",
      "/carnegie/nobackup/scratch/tbellagio/gea_grene-net/leave_1_out/split_number_57/notadj_pvalues_full_genome.csv\n",
      "/carnegie/nobackup/scratch/tbellagio/gea_grene-net/leave_1_out/split_number_58/notadj_pvalues_full_genome.csv\n",
      "/carnegie/nobackup/scratch/tbellagio/gea_grene-net/leave_1_out/split_number_59/notadj_pvalues_full_genome.csv\n",
      "/carnegie/nobackup/scratch/tbellagio/gea_grene-net/leave_1_out/split_number_6/notadj_pvalues_full_genome.csv\n",
      "/carnegie/nobackup/scratch/tbellagio/gea_grene-net/leave_1_out/split_number_60/notadj_pvalues_full_genome.csv\n",
      "/carnegie/nobackup/scratch/tbellagio/gea_grene-net/leave_1_out/split_number_61/notadj_pvalues_full_genome.csv\n",
      "/carnegie/nobackup/scratch/tbellagio/gea_grene-net/leave_1_out/split_number_62/notadj_pvalues_full_genome.csv\n",
      "/carnegie/nobackup/scratch/tbellagio/gea_grene-net/leave_1_out/split_number_63/notadj_pvalues_full_genome.csv\n",
      "/carnegie/nobackup/scratch/tbellagio/gea_grene-net/leave_1_out/split_number_64/notadj_pvalues_full_genome.csv\n",
      "/carnegie/nobackup/scratch/tbellagio/gea_grene-net/leave_1_out/split_number_65/notadj_pvalues_full_genome.csv\n",
      "/carnegie/nobackup/scratch/tbellagio/gea_grene-net/leave_1_out/split_number_66/notadj_pvalues_full_genome.csv\n",
      "/carnegie/nobackup/scratch/tbellagio/gea_grene-net/leave_1_out/split_number_67/notadj_pvalues_full_genome.csv\n",
      "/carnegie/nobackup/scratch/tbellagio/gea_grene-net/leave_1_out/split_number_68/notadj_pvalues_full_genome.csv\n",
      "/carnegie/nobackup/scratch/tbellagio/gea_grene-net/leave_1_out/split_number_69/notadj_pvalues_full_genome.csv\n",
      "/carnegie/nobackup/scratch/tbellagio/gea_grene-net/leave_1_out/split_number_7/notadj_pvalues_full_genome.csv\n",
      "/carnegie/nobackup/scratch/tbellagio/gea_grene-net/leave_1_out/split_number_70/notadj_pvalues_full_genome.csv\n",
      "/carnegie/nobackup/scratch/tbellagio/gea_grene-net/leave_1_out/split_number_71/notadj_pvalues_full_genome.csv\n",
      "/carnegie/nobackup/scratch/tbellagio/gea_grene-net/leave_1_out/split_number_72/notadj_pvalues_full_genome.csv\n",
      "/carnegie/nobackup/scratch/tbellagio/gea_grene-net/leave_1_out/split_number_73/notadj_pvalues_full_genome.csv\n",
      "/carnegie/nobackup/scratch/tbellagio/gea_grene-net/leave_1_out/split_number_74/notadj_pvalues_full_genome.csv\n",
      "/carnegie/nobackup/scratch/tbellagio/gea_grene-net/leave_1_out/split_number_75/notadj_pvalues_full_genome.csv\n",
      "/carnegie/nobackup/scratch/tbellagio/gea_grene-net/leave_1_out/split_number_76/notadj_pvalues_full_genome.csv\n",
      "/carnegie/nobackup/scratch/tbellagio/gea_grene-net/leave_1_out/split_number_77/notadj_pvalues_full_genome.csv\n",
      "/carnegie/nobackup/scratch/tbellagio/gea_grene-net/leave_1_out/split_number_78/notadj_pvalues_full_genome.csv\n",
      "/carnegie/nobackup/scratch/tbellagio/gea_grene-net/leave_1_out/split_number_79/notadj_pvalues_full_genome.csv\n",
      "/carnegie/nobackup/scratch/tbellagio/gea_grene-net/leave_1_out/split_number_8/notadj_pvalues_full_genome.csv\n",
      "/carnegie/nobackup/scratch/tbellagio/gea_grene-net/leave_1_out/split_number_80/notadj_pvalues_full_genome.csv\n",
      "/carnegie/nobackup/scratch/tbellagio/gea_grene-net/leave_1_out/split_number_81/notadj_pvalues_full_genome.csv\n",
      "/carnegie/nobackup/scratch/tbellagio/gea_grene-net/leave_1_out/split_number_82/notadj_pvalues_full_genome.csv\n",
      "/carnegie/nobackup/scratch/tbellagio/gea_grene-net/leave_1_out/split_number_83/notadj_pvalues_full_genome.csv\n",
      "/carnegie/nobackup/scratch/tbellagio/gea_grene-net/leave_1_out/split_number_84/notadj_pvalues_full_genome.csv\n",
      "/carnegie/nobackup/scratch/tbellagio/gea_grene-net/leave_1_out/split_number_85/notadj_pvalues_full_genome.csv\n",
      "/carnegie/nobackup/scratch/tbellagio/gea_grene-net/leave_1_out/split_number_86/notadj_pvalues_full_genome.csv\n",
      "/carnegie/nobackup/scratch/tbellagio/gea_grene-net/leave_1_out/split_number_87/notadj_pvalues_full_genome.csv\n",
      "/carnegie/nobackup/scratch/tbellagio/gea_grene-net/leave_1_out/split_number_88/notadj_pvalues_full_genome.csv\n",
      "/carnegie/nobackup/scratch/tbellagio/gea_grene-net/leave_1_out/split_number_89/notadj_pvalues_full_genome.csv\n",
      "/carnegie/nobackup/scratch/tbellagio/gea_grene-net/leave_1_out/split_number_9/notadj_pvalues_full_genome.csv\n",
      "/carnegie/nobackup/scratch/tbellagio/gea_grene-net/leave_1_out/split_number_90/notadj_pvalues_full_genome.csv\n",
      "/carnegie/nobackup/scratch/tbellagio/gea_grene-net/leave_1_out/split_number_91/notadj_pvalues_full_genome.csv\n",
      "/carnegie/nobackup/scratch/tbellagio/gea_grene-net/leave_1_out/split_number_92/notadj_pvalues_full_genome.csv\n",
      "/carnegie/nobackup/scratch/tbellagio/gea_grene-net/leave_1_out/split_number_93/notadj_pvalues_full_genome.csv\n",
      "/carnegie/nobackup/scratch/tbellagio/gea_grene-net/leave_1_out/split_number_94/notadj_pvalues_full_genome.csv\n",
      "/carnegie/nobackup/scratch/tbellagio/gea_grene-net/leave_1_out/split_number_95/notadj_pvalues_full_genome.csv\n",
      "/carnegie/nobackup/scratch/tbellagio/gea_grene-net/leave_1_out/split_number_96/notadj_pvalues_full_genome.csv\n",
      "/carnegie/nobackup/scratch/tbellagio/gea_grene-net/leave_1_out/split_number_97/notadj_pvalues_full_genome.csv\n",
      "/carnegie/nobackup/scratch/tbellagio/gea_grene-net/leave_1_out/split_number_98/notadj_pvalues_full_genome.csv\n",
      "/carnegie/nobackup/scratch/tbellagio/gea_grene-net/leave_1_out/split_number_99/notadj_pvalues_full_genome.csv\n"
     ]
    }
   ],
   "source": [
    "for i in pd.Series(notadj_pvalues_files).sort_values():\n",
    "    print(i)"
   ]
  },
  {
   "cell_type": "code",
   "execution_count": null,
   "id": "53343643-5cb4-4752-a766-84e10d263457",
   "metadata": {},
   "outputs": [],
   "source": []
  },
  {
   "cell_type": "code",
   "execution_count": null,
   "id": "88b9d471-597c-47e3-b72e-61f29fc9e51a",
   "metadata": {},
   "outputs": [],
   "source": []
  },
  {
   "cell_type": "code",
   "execution_count": null,
   "id": "d2555df9-3207-4829-a432-c25b3296dba6",
   "metadata": {},
   "outputs": [],
   "source": []
  },
  {
   "cell_type": "code",
   "execution_count": null,
   "id": "aff898a8-8275-466b-85c4-297326eaea86",
   "metadata": {},
   "outputs": [],
   "source": []
  },
  {
   "cell_type": "code",
   "execution_count": null,
   "id": "88027e3f-7997-419b-81d0-f5c5b7c55802",
   "metadata": {},
   "outputs": [],
   "source": []
  },
  {
   "cell_type": "code",
   "execution_count": null,
   "id": "b1892964-1ea1-4db8-a036-e3802684e9b6",
   "metadata": {},
   "outputs": [],
   "source": []
  },
  {
   "cell_type": "code",
   "execution_count": null,
   "id": "e38041cc-7818-4b3d-a653-a1f9bc67c27d",
   "metadata": {},
   "outputs": [],
   "source": []
  }
 ],
 "metadata": {
  "kernelspec": {
   "display_name": "Python (pipeline_snakemake)",
   "language": "python",
   "name": "pipeline_snakemake"
  },
  "language_info": {
   "codemirror_mode": {
    "name": "ipython",
    "version": 3
   },
   "file_extension": ".py",
   "mimetype": "text/x-python",
   "name": "python",
   "nbconvert_exporter": "python",
   "pygments_lexer": "ipython3",
   "version": "3.9.16"
  }
 },
 "nbformat": 4,
 "nbformat_minor": 5
}
