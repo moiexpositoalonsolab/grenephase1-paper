{
 "cells": [
  {
   "cell_type": "code",
   "execution_count": 1,
   "id": "ccc065ed-f19c-4812-8127-a61fa4a45909",
   "metadata": {
    "scrolled": true
   },
   "outputs": [
    {
     "name": "stderr",
     "output_type": "stream",
     "text": [
      "/home/tbellagio/.local/lib/python3.9/site-packages/scipy/__init__.py:146: UserWarning: A NumPy version >=1.17.3 and <1.25.0 is required for this version of SciPy (detected version 1.26.4\n",
      "  warnings.warn(f\"A NumPy version >={np_minversion} and <{np_maxversion}\"\n"
     ]
    }
   ],
   "source": [
    "import numpy as np\n",
    "import pandas as pd\n",
    "from sklearn.decomposition import PCA\n",
    "from sklearn.preprocessing import StandardScaler\n",
    "import os\n",
    "import pickle\n",
    "import dask.dataframe as dd\n",
    "import seaborn as sns\n",
    "import numpy as np\n",
    "import statsmodels.api as sm\n",
    "import matplotlib.pyplot as plt\n",
    "import subprocess\n",
    "import random"
   ]
  },
  {
   "cell_type": "code",
   "execution_count": 2,
   "id": "9104073e-8737-4afd-aba2-0b7fc0b95459",
   "metadata": {},
   "outputs": [],
   "source": [
    "path_ldp_af = '/carnegie/nobackup/scratch/xwu/grenet/merged_frequency/merged_hapFIRE_allele_frequency_LDpruned.txt'"
   ]
  },
  {
   "cell_type": "code",
   "execution_count": 3,
   "id": "5ae21388-ed00-4605-a800-2a6265945e29",
   "metadata": {},
   "outputs": [],
   "source": [
    "wd = '/carnegie/nobackup/scratch/tbellagio/gea_grene-net/leave_1_out/sh_files/'"
   ]
  },
  {
   "cell_type": "code",
   "execution_count": 4,
   "id": "2113371a-e90b-4352-b067-9cd16a942c2e",
   "metadata": {},
   "outputs": [],
   "source": [
    "folders = [f'split_number_{i}' for i in range(100)]\n",
    "\n",
    "total = []\n",
    "for files in folders:\n",
    "    result = [i for i in os.listdir(files) if 'notadj_pvalues_full_genome' in i]\n",
    "    total.append(result)"
   ]
  },
  {
   "cell_type": "code",
   "execution_count": 5,
   "id": "ca888742-9037-449f-b615-e6fc1b6cd561",
   "metadata": {},
   "outputs": [],
   "source": [
    "with open('splits_samples.pkl', 'rb') as file:\n",
    "    # Load data from the file\n",
    "    splits_samples = pickle.load(file)"
   ]
  },
  {
   "cell_type": "code",
   "execution_count": 6,
   "id": "7f7a2f64-f240-4769-9cb5-37be4abb1835",
   "metadata": {},
   "outputs": [],
   "source": [
    "## for bio1 and bio 12\n",
    "#### so there is only one train-spli that left singificant q values at an fdr of 0.1 \n",
    "#### at an fdr of 0.2 we see the same thing only 3 splits with significant values \n",
    "## with k=3 at fdr of 0.2 its even worst only 1 singificans split \n",
    "\n",
    "\n",
    "### the full genome?"
   ]
  },
  {
   "cell_type": "code",
   "execution_count": 7,
   "id": "f73ab0b2-c1a7-43a3-8faa-7e2eedf5b6b6",
   "metadata": {},
   "outputs": [],
   "source": [
    "import os\n",
    "\n",
    "def find_files(directory, filename):\n",
    "    \"\"\"\n",
    "    Search for files with a specific name within all subdirectories of a given directory.\n",
    "\n",
    "    Parameters:\n",
    "        directory (str): The root directory from which to start the search.\n",
    "        filename (str): The name of the file to search for.\n",
    "\n",
    "    Returns:\n",
    "        list: A list of full paths to the files that match the given filename.\n",
    "    \"\"\"\n",
    "    matches = []  # List to store the full paths of matching files\n",
    "    for root, dirs, files in os.walk(directory):\n",
    "        if filename in files:\n",
    "            full_path = os.path.join(root, filename)\n",
    "            matches.append(full_path)\n",
    "    return matches\n",
    "\n",
    "# Usage example\n",
    "root_directory = '/carnegie/nobackup/scratch/tbellagio/gea_grene-net/leave_1_out/'  # Update this to the directory you want to search\n",
    "target_filename = 'notadj_qvalues_full_genome.csv'\n",
    "notadj_qvalues_files = find_files(root_directory, target_filename)\n"
   ]
  },
  {
   "cell_type": "code",
   "execution_count": null,
   "id": "e4e24597-af54-49b2-8b8f-dba3e6cc9d4c",
   "metadata": {},
   "outputs": [],
   "source": []
  },
  {
   "cell_type": "code",
   "execution_count": 8,
   "id": "3537b2f9-1161-40d0-8a6a-734cb494cde4",
   "metadata": {},
   "outputs": [
    {
     "name": "stdout",
     "output_type": "stream",
     "text": [
      "/carnegie/nobackup/scratch/tbellagio/gea_grene-net/leave_1_out/split_number_82/wo_calibration_pvalue_full_genome.csv\n",
      "/carnegie/nobackup/scratch/tbellagio/gea_grene-net/leave_1_out/split_number_82/significant_snps.pkl\n",
      "2120\n",
      "94\n",
      "/carnegie/nobackup/scratch/tbellagio/gea_grene-net/leave_1_out/split_number_88/wo_calibration_pvalue_full_genome.csv\n",
      "/carnegie/nobackup/scratch/tbellagio/gea_grene-net/leave_1_out/split_number_88/significant_snps.pkl\n",
      "2204\n",
      "0\n",
      "/carnegie/nobackup/scratch/tbellagio/gea_grene-net/leave_1_out/split_number_66/wo_calibration_pvalue_full_genome.csv\n",
      "/carnegie/nobackup/scratch/tbellagio/gea_grene-net/leave_1_out/split_number_66/significant_snps.pkl\n",
      "864\n",
      "8\n",
      "/carnegie/nobackup/scratch/tbellagio/gea_grene-net/leave_1_out/split_number_11/wo_calibration_pvalue_full_genome.csv\n",
      "/carnegie/nobackup/scratch/tbellagio/gea_grene-net/leave_1_out/split_number_11/significant_snps.pkl\n",
      "1682\n",
      "25\n",
      "/carnegie/nobackup/scratch/tbellagio/gea_grene-net/leave_1_out/split_number_29/wo_calibration_pvalue_full_genome.csv\n",
      "/carnegie/nobackup/scratch/tbellagio/gea_grene-net/leave_1_out/split_number_29/significant_snps.pkl\n",
      "1478\n",
      "0\n",
      "/carnegie/nobackup/scratch/tbellagio/gea_grene-net/leave_1_out/split_number_23/wo_calibration_pvalue_full_genome.csv\n",
      "/carnegie/nobackup/scratch/tbellagio/gea_grene-net/leave_1_out/split_number_23/significant_snps.pkl\n",
      "65\n",
      "0\n",
      "/carnegie/nobackup/scratch/tbellagio/gea_grene-net/leave_1_out/split_number_54/wo_calibration_pvalue_full_genome.csv\n",
      "/carnegie/nobackup/scratch/tbellagio/gea_grene-net/leave_1_out/split_number_54/significant_snps.pkl\n",
      "2905\n",
      "0\n",
      "/carnegie/nobackup/scratch/tbellagio/gea_grene-net/leave_1_out/split_number_75/wo_calibration_pvalue_full_genome.csv\n",
      "/carnegie/nobackup/scratch/tbellagio/gea_grene-net/leave_1_out/split_number_75/significant_snps.pkl\n",
      "1096\n",
      "151\n",
      "/carnegie/nobackup/scratch/tbellagio/gea_grene-net/leave_1_out/split_number_91/wo_calibration_pvalue_full_genome.csv\n",
      "/carnegie/nobackup/scratch/tbellagio/gea_grene-net/leave_1_out/split_number_91/significant_snps.pkl\n",
      "395\n",
      "763\n",
      "/carnegie/nobackup/scratch/tbellagio/gea_grene-net/leave_1_out/split_number_8/wo_calibration_pvalue_full_genome.csv\n",
      "/carnegie/nobackup/scratch/tbellagio/gea_grene-net/leave_1_out/split_number_8/significant_snps.pkl\n",
      "742\n",
      "0\n",
      "/carnegie/nobackup/scratch/tbellagio/gea_grene-net/leave_1_out/split_number_2/wo_calibration_pvalue_full_genome.csv\n",
      "/carnegie/nobackup/scratch/tbellagio/gea_grene-net/leave_1_out/split_number_2/significant_snps.pkl\n",
      "2108\n",
      "0\n",
      "/carnegie/nobackup/scratch/tbellagio/gea_grene-net/leave_1_out/split_number_30/wo_calibration_pvalue_full_genome.csv\n",
      "/carnegie/nobackup/scratch/tbellagio/gea_grene-net/leave_1_out/split_number_30/significant_snps.pkl\n",
      "115\n",
      "0\n",
      "/carnegie/nobackup/scratch/tbellagio/gea_grene-net/leave_1_out/split_number_47/wo_calibration_pvalue_full_genome.csv\n",
      "/carnegie/nobackup/scratch/tbellagio/gea_grene-net/leave_1_out/split_number_47/significant_snps.pkl\n",
      "368\n",
      "155\n",
      "/carnegie/nobackup/scratch/tbellagio/gea_grene-net/leave_1_out/split_number_40/wo_calibration_pvalue_full_genome.csv\n",
      "/carnegie/nobackup/scratch/tbellagio/gea_grene-net/leave_1_out/split_number_40/significant_snps.pkl\n",
      "64\n",
      "0\n",
      "/carnegie/nobackup/scratch/tbellagio/gea_grene-net/leave_1_out/split_number_37/wo_calibration_pvalue_full_genome.csv\n",
      "/carnegie/nobackup/scratch/tbellagio/gea_grene-net/leave_1_out/split_number_37/significant_snps.pkl\n",
      "231\n",
      "13\n",
      "/carnegie/nobackup/scratch/tbellagio/gea_grene-net/leave_1_out/split_number_5/wo_calibration_pvalue_full_genome.csv\n",
      "/carnegie/nobackup/scratch/tbellagio/gea_grene-net/leave_1_out/split_number_5/significant_snps.pkl\n",
      "725\n",
      "11\n",
      "/carnegie/nobackup/scratch/tbellagio/gea_grene-net/leave_1_out/split_number_72/wo_calibration_pvalue_full_genome.csv\n",
      "/carnegie/nobackup/scratch/tbellagio/gea_grene-net/leave_1_out/split_number_72/significant_snps.pkl\n",
      "52\n",
      "118\n",
      "/carnegie/nobackup/scratch/tbellagio/gea_grene-net/leave_1_out/split_number_96/wo_calibration_pvalue_full_genome.csv\n",
      "/carnegie/nobackup/scratch/tbellagio/gea_grene-net/leave_1_out/split_number_96/significant_snps.pkl\n",
      "864\n",
      "45\n",
      "/carnegie/nobackup/scratch/tbellagio/gea_grene-net/leave_1_out/split_number_78/wo_calibration_pvalue_full_genome.csv\n",
      "/carnegie/nobackup/scratch/tbellagio/gea_grene-net/leave_1_out/split_number_78/significant_snps.pkl\n",
      "1268\n",
      "6\n",
      "/carnegie/nobackup/scratch/tbellagio/gea_grene-net/leave_1_out/split_number_59/wo_calibration_pvalue_full_genome.csv\n",
      "/carnegie/nobackup/scratch/tbellagio/gea_grene-net/leave_1_out/split_number_59/significant_snps.pkl\n",
      "110\n",
      "22\n",
      "/carnegie/nobackup/scratch/tbellagio/gea_grene-net/leave_1_out/split_number_53/wo_calibration_pvalue_full_genome.csv\n",
      "/carnegie/nobackup/scratch/tbellagio/gea_grene-net/leave_1_out/split_number_53/significant_snps.pkl\n",
      "420\n",
      "94\n",
      "/carnegie/nobackup/scratch/tbellagio/gea_grene-net/leave_1_out/split_number_24/wo_calibration_pvalue_full_genome.csv\n",
      "/carnegie/nobackup/scratch/tbellagio/gea_grene-net/leave_1_out/split_number_24/significant_snps.pkl\n",
      "853\n",
      "0\n",
      "/carnegie/nobackup/scratch/tbellagio/gea_grene-net/leave_1_out/split_number_85/wo_calibration_pvalue_full_genome.csv\n",
      "/carnegie/nobackup/scratch/tbellagio/gea_grene-net/leave_1_out/split_number_85/significant_snps.pkl\n",
      "1042\n",
      "16\n",
      "/carnegie/nobackup/scratch/tbellagio/gea_grene-net/leave_1_out/split_number_16/wo_calibration_pvalue_full_genome.csv\n",
      "/carnegie/nobackup/scratch/tbellagio/gea_grene-net/leave_1_out/split_number_16/significant_snps.pkl\n",
      "275\n",
      "145\n",
      "/carnegie/nobackup/scratch/tbellagio/gea_grene-net/leave_1_out/split_number_61/wo_calibration_pvalue_full_genome.csv\n",
      "/carnegie/nobackup/scratch/tbellagio/gea_grene-net/leave_1_out/split_number_61/significant_snps.pkl\n",
      "2243\n",
      "2489\n",
      "/carnegie/nobackup/scratch/tbellagio/gea_grene-net/leave_1_out/split_number_12/wo_calibration_pvalue_full_genome.csv\n",
      "/carnegie/nobackup/scratch/tbellagio/gea_grene-net/leave_1_out/split_number_12/significant_snps.pkl\n",
      "335\n",
      "1\n",
      "/carnegie/nobackup/scratch/tbellagio/gea_grene-net/leave_1_out/split_number_65/wo_calibration_pvalue_full_genome.csv\n",
      "/carnegie/nobackup/scratch/tbellagio/gea_grene-net/leave_1_out/split_number_65/significant_snps.pkl\n",
      "1219\n",
      "73\n",
      "/carnegie/nobackup/scratch/tbellagio/gea_grene-net/leave_1_out/split_number_81/wo_calibration_pvalue_full_genome.csv\n",
      "/carnegie/nobackup/scratch/tbellagio/gea_grene-net/leave_1_out/split_number_81/significant_snps.pkl\n",
      "347\n",
      "0\n",
      "/carnegie/nobackup/scratch/tbellagio/gea_grene-net/leave_1_out/split_number_18/wo_calibration_pvalue_full_genome.csv\n",
      "/carnegie/nobackup/scratch/tbellagio/gea_grene-net/leave_1_out/split_number_18/significant_snps.pkl\n",
      "459\n",
      "1\n",
      "/carnegie/nobackup/scratch/tbellagio/gea_grene-net/leave_1_out/split_number_57/wo_calibration_pvalue_full_genome.csv\n",
      "/carnegie/nobackup/scratch/tbellagio/gea_grene-net/leave_1_out/split_number_57/significant_snps.pkl\n",
      "1306\n",
      "15\n",
      "/carnegie/nobackup/scratch/tbellagio/gea_grene-net/leave_1_out/split_number_20/wo_calibration_pvalue_full_genome.csv\n",
      "/carnegie/nobackup/scratch/tbellagio/gea_grene-net/leave_1_out/split_number_20/significant_snps.pkl\n",
      "130\n",
      "0\n",
      "/carnegie/nobackup/scratch/tbellagio/gea_grene-net/leave_1_out/split_number_1/wo_calibration_pvalue_full_genome.csv\n",
      "/carnegie/nobackup/scratch/tbellagio/gea_grene-net/leave_1_out/split_number_1/significant_snps.pkl\n",
      "2896\n",
      "41\n",
      "/carnegie/nobackup/scratch/tbellagio/gea_grene-net/leave_1_out/split_number_92/wo_calibration_pvalue_full_genome.csv\n",
      "/carnegie/nobackup/scratch/tbellagio/gea_grene-net/leave_1_out/split_number_92/significant_snps.pkl\n",
      "3681\n",
      "20\n",
      "/carnegie/nobackup/scratch/tbellagio/gea_grene-net/leave_1_out/split_number_76/wo_calibration_pvalue_full_genome.csv\n",
      "/carnegie/nobackup/scratch/tbellagio/gea_grene-net/leave_1_out/split_number_76/significant_snps.pkl\n",
      "111\n",
      "0\n",
      "/carnegie/nobackup/scratch/tbellagio/gea_grene-net/leave_1_out/split_number_98/wo_calibration_pvalue_full_genome.csv\n",
      "/carnegie/nobackup/scratch/tbellagio/gea_grene-net/leave_1_out/split_number_98/significant_snps.pkl\n",
      "475\n",
      "62\n",
      "/carnegie/nobackup/scratch/tbellagio/gea_grene-net/leave_1_out/split_number_39/wo_calibration_pvalue_full_genome.csv\n",
      "/carnegie/nobackup/scratch/tbellagio/gea_grene-net/leave_1_out/split_number_39/significant_snps.pkl\n",
      "333\n",
      "17\n",
      "/carnegie/nobackup/scratch/tbellagio/gea_grene-net/leave_1_out/split_number_44/wo_calibration_pvalue_full_genome.csv\n",
      "/carnegie/nobackup/scratch/tbellagio/gea_grene-net/leave_1_out/split_number_44/significant_snps.pkl\n",
      "296\n",
      "0\n",
      "/carnegie/nobackup/scratch/tbellagio/gea_grene-net/leave_1_out/split_number_33/wo_calibration_pvalue_full_genome.csv\n",
      "/carnegie/nobackup/scratch/tbellagio/gea_grene-net/leave_1_out/split_number_33/significant_snps.pkl\n",
      "1453\n",
      "0\n",
      "/carnegie/nobackup/scratch/tbellagio/gea_grene-net/leave_1_out/split_number_49/wo_calibration_pvalue_full_genome.csv\n",
      "/carnegie/nobackup/scratch/tbellagio/gea_grene-net/leave_1_out/split_number_49/significant_snps.pkl\n",
      "284\n",
      "7\n",
      "/carnegie/nobackup/scratch/tbellagio/gea_grene-net/leave_1_out/split_number_34/wo_calibration_pvalue_full_genome.csv\n",
      "/carnegie/nobackup/scratch/tbellagio/gea_grene-net/leave_1_out/split_number_34/significant_snps.pkl\n",
      "277\n",
      "0\n",
      "/carnegie/nobackup/scratch/tbellagio/gea_grene-net/leave_1_out/split_number_43/wo_calibration_pvalue_full_genome.csv\n",
      "/carnegie/nobackup/scratch/tbellagio/gea_grene-net/leave_1_out/split_number_43/significant_snps.pkl\n",
      "1023\n",
      "0\n",
      "/carnegie/nobackup/scratch/tbellagio/gea_grene-net/leave_1_out/split_number_95/wo_calibration_pvalue_full_genome.csv\n",
      "/carnegie/nobackup/scratch/tbellagio/gea_grene-net/leave_1_out/split_number_95/significant_snps.pkl\n",
      "1162\n",
      "29\n",
      "/carnegie/nobackup/scratch/tbellagio/gea_grene-net/leave_1_out/split_number_71/wo_calibration_pvalue_full_genome.csv\n",
      "/carnegie/nobackup/scratch/tbellagio/gea_grene-net/leave_1_out/split_number_71/significant_snps.pkl\n",
      "401\n",
      "2\n",
      "/carnegie/nobackup/scratch/tbellagio/gea_grene-net/leave_1_out/split_number_6/wo_calibration_pvalue_full_genome.csv\n",
      "/carnegie/nobackup/scratch/tbellagio/gea_grene-net/leave_1_out/split_number_6/significant_snps.pkl\n",
      "164\n",
      "0\n",
      "/carnegie/nobackup/scratch/tbellagio/gea_grene-net/leave_1_out/split_number_27/wo_calibration_pvalue_full_genome.csv\n",
      "/carnegie/nobackup/scratch/tbellagio/gea_grene-net/leave_1_out/split_number_27/significant_snps.pkl\n",
      "3099\n",
      "0\n",
      "/carnegie/nobackup/scratch/tbellagio/gea_grene-net/leave_1_out/split_number_50/wo_calibration_pvalue_full_genome.csv\n",
      "/carnegie/nobackup/scratch/tbellagio/gea_grene-net/leave_1_out/split_number_50/significant_snps.pkl\n",
      "2055\n",
      "63\n",
      "/carnegie/nobackup/scratch/tbellagio/gea_grene-net/leave_1_out/split_number_62/wo_calibration_pvalue_full_genome.csv\n",
      "/carnegie/nobackup/scratch/tbellagio/gea_grene-net/leave_1_out/split_number_62/significant_snps.pkl\n",
      "1509\n",
      "1\n",
      "/carnegie/nobackup/scratch/tbellagio/gea_grene-net/leave_1_out/split_number_15/wo_calibration_pvalue_full_genome.csv\n",
      "/carnegie/nobackup/scratch/tbellagio/gea_grene-net/leave_1_out/split_number_15/significant_snps.pkl\n",
      "540\n",
      "173\n",
      "/carnegie/nobackup/scratch/tbellagio/gea_grene-net/leave_1_out/split_number_68/wo_calibration_pvalue_full_genome.csv\n",
      "/carnegie/nobackup/scratch/tbellagio/gea_grene-net/leave_1_out/split_number_68/significant_snps.pkl\n",
      "142\n",
      "0\n",
      "/carnegie/nobackup/scratch/tbellagio/gea_grene-net/leave_1_out/split_number_86/wo_calibration_pvalue_full_genome.csv\n",
      "/carnegie/nobackup/scratch/tbellagio/gea_grene-net/leave_1_out/split_number_86/significant_snps.pkl\n",
      "417\n",
      "0\n",
      "/carnegie/nobackup/scratch/tbellagio/gea_grene-net/leave_1_out/split_number_25/wo_calibration_pvalue_full_genome.csv\n",
      "/carnegie/nobackup/scratch/tbellagio/gea_grene-net/leave_1_out/split_number_25/significant_snps.pkl\n",
      "1632\n",
      "76\n",
      "/carnegie/nobackup/scratch/tbellagio/gea_grene-net/leave_1_out/split_number_52/wo_calibration_pvalue_full_genome.csv\n",
      "/carnegie/nobackup/scratch/tbellagio/gea_grene-net/leave_1_out/split_number_52/significant_snps.pkl\n",
      "1194\n",
      "26\n",
      "/carnegie/nobackup/scratch/tbellagio/gea_grene-net/leave_1_out/split_number_58/wo_calibration_pvalue_full_genome.csv\n",
      "/carnegie/nobackup/scratch/tbellagio/gea_grene-net/leave_1_out/split_number_58/significant_snps.pkl\n",
      "878\n",
      "0\n",
      "/carnegie/nobackup/scratch/tbellagio/gea_grene-net/leave_1_out/split_number_60/wo_calibration_pvalue_full_genome.csv\n",
      "/carnegie/nobackup/scratch/tbellagio/gea_grene-net/leave_1_out/split_number_60/significant_snps.pkl\n",
      "1177\n",
      "1\n",
      "/carnegie/nobackup/scratch/tbellagio/gea_grene-net/leave_1_out/split_number_17/wo_calibration_pvalue_full_genome.csv\n",
      "/carnegie/nobackup/scratch/tbellagio/gea_grene-net/leave_1_out/split_number_17/significant_snps.pkl\n",
      "372\n",
      "81\n",
      "/carnegie/nobackup/scratch/tbellagio/gea_grene-net/leave_1_out/split_number_84/wo_calibration_pvalue_full_genome.csv\n",
      "/carnegie/nobackup/scratch/tbellagio/gea_grene-net/leave_1_out/split_number_84/significant_snps.pkl\n",
      "1772\n",
      "7\n",
      "/carnegie/nobackup/scratch/tbellagio/gea_grene-net/leave_1_out/split_number_36/wo_calibration_pvalue_full_genome.csv\n",
      "/carnegie/nobackup/scratch/tbellagio/gea_grene-net/leave_1_out/split_number_36/significant_snps.pkl\n",
      "206\n",
      "196\n",
      "/carnegie/nobackup/scratch/tbellagio/gea_grene-net/leave_1_out/split_number_41/wo_calibration_pvalue_full_genome.csv\n",
      "/carnegie/nobackup/scratch/tbellagio/gea_grene-net/leave_1_out/split_number_41/significant_snps.pkl\n",
      "1198\n",
      "6\n",
      "/carnegie/nobackup/scratch/tbellagio/gea_grene-net/leave_1_out/split_number_4/wo_calibration_pvalue_full_genome.csv\n",
      "/carnegie/nobackup/scratch/tbellagio/gea_grene-net/leave_1_out/split_number_4/significant_snps.pkl\n",
      "22\n",
      "73\n",
      "/carnegie/nobackup/scratch/tbellagio/gea_grene-net/leave_1_out/split_number_97/wo_calibration_pvalue_full_genome.csv\n",
      "/carnegie/nobackup/scratch/tbellagio/gea_grene-net/leave_1_out/split_number_97/significant_snps.pkl\n",
      "466\n",
      "454\n",
      "/carnegie/nobackup/scratch/tbellagio/gea_grene-net/leave_1_out/split_number_79/wo_calibration_pvalue_full_genome.csv\n",
      "/carnegie/nobackup/scratch/tbellagio/gea_grene-net/leave_1_out/split_number_79/significant_snps.pkl\n",
      "372\n",
      "184\n",
      "/carnegie/nobackup/scratch/tbellagio/gea_grene-net/leave_1_out/split_number_73/wo_calibration_pvalue_full_genome.csv\n",
      "/carnegie/nobackup/scratch/tbellagio/gea_grene-net/leave_1_out/split_number_73/significant_snps.pkl\n",
      "969\n",
      "59\n",
      "/carnegie/nobackup/scratch/tbellagio/gea_grene-net/leave_1_out/split_number_90/wo_calibration_pvalue_full_genome.csv\n",
      "/carnegie/nobackup/scratch/tbellagio/gea_grene-net/leave_1_out/split_number_90/significant_snps.pkl\n",
      "2044\n",
      "41\n",
      "/carnegie/nobackup/scratch/tbellagio/gea_grene-net/leave_1_out/split_number_74/wo_calibration_pvalue_full_genome.csv\n",
      "/carnegie/nobackup/scratch/tbellagio/gea_grene-net/leave_1_out/split_number_74/significant_snps.pkl\n",
      "599\n",
      "1\n",
      "/carnegie/nobackup/scratch/tbellagio/gea_grene-net/leave_1_out/split_number_3/wo_calibration_pvalue_full_genome.csv\n",
      "/carnegie/nobackup/scratch/tbellagio/gea_grene-net/leave_1_out/split_number_3/significant_snps.pkl\n",
      "291\n",
      "58\n",
      "/carnegie/nobackup/scratch/tbellagio/gea_grene-net/leave_1_out/split_number_9/wo_calibration_pvalue_full_genome.csv\n",
      "/carnegie/nobackup/scratch/tbellagio/gea_grene-net/leave_1_out/split_number_9/significant_snps.pkl\n",
      "42\n",
      "0\n",
      "/carnegie/nobackup/scratch/tbellagio/gea_grene-net/leave_1_out/split_number_46/wo_calibration_pvalue_full_genome.csv\n",
      "/carnegie/nobackup/scratch/tbellagio/gea_grene-net/leave_1_out/split_number_46/significant_snps.pkl\n",
      "179\n",
      "124\n",
      "/carnegie/nobackup/scratch/tbellagio/gea_grene-net/leave_1_out/split_number_31/wo_calibration_pvalue_full_genome.csv\n",
      "/carnegie/nobackup/scratch/tbellagio/gea_grene-net/leave_1_out/split_number_31/significant_snps.pkl\n",
      "1201\n",
      "0\n",
      "/carnegie/nobackup/scratch/tbellagio/gea_grene-net/leave_1_out/split_number_89/wo_calibration_pvalue_full_genome.csv\n",
      "/carnegie/nobackup/scratch/tbellagio/gea_grene-net/leave_1_out/split_number_89/significant_snps.pkl\n",
      "317\n",
      "0\n",
      "/carnegie/nobackup/scratch/tbellagio/gea_grene-net/leave_1_out/split_number_10/wo_calibration_pvalue_full_genome.csv\n",
      "/carnegie/nobackup/scratch/tbellagio/gea_grene-net/leave_1_out/split_number_10/significant_snps.pkl\n",
      "552\n",
      "0\n",
      "/carnegie/nobackup/scratch/tbellagio/gea_grene-net/leave_1_out/split_number_67/wo_calibration_pvalue_full_genome.csv\n",
      "/carnegie/nobackup/scratch/tbellagio/gea_grene-net/leave_1_out/split_number_67/significant_snps.pkl\n",
      "320\n",
      "875\n",
      "/carnegie/nobackup/scratch/tbellagio/gea_grene-net/leave_1_out/split_number_83/wo_calibration_pvalue_full_genome.csv\n",
      "/carnegie/nobackup/scratch/tbellagio/gea_grene-net/leave_1_out/split_number_83/significant_snps.pkl\n",
      "1724\n",
      "227\n",
      "/carnegie/nobackup/scratch/tbellagio/gea_grene-net/leave_1_out/split_number_55/wo_calibration_pvalue_full_genome.csv\n",
      "/carnegie/nobackup/scratch/tbellagio/gea_grene-net/leave_1_out/split_number_55/significant_snps.pkl\n",
      "1843\n",
      "251\n",
      "/carnegie/nobackup/scratch/tbellagio/gea_grene-net/leave_1_out/split_number_22/wo_calibration_pvalue_full_genome.csv\n",
      "/carnegie/nobackup/scratch/tbellagio/gea_grene-net/leave_1_out/split_number_22/significant_snps.pkl\n",
      "749\n",
      "24\n",
      "/carnegie/nobackup/scratch/tbellagio/gea_grene-net/leave_1_out/split_number_28/wo_calibration_pvalue_full_genome.csv\n",
      "/carnegie/nobackup/scratch/tbellagio/gea_grene-net/leave_1_out/split_number_28/significant_snps.pkl\n",
      "1985\n",
      "27\n",
      "/carnegie/nobackup/scratch/tbellagio/gea_grene-net/leave_1_out/split_number_51/wo_calibration_pvalue_full_genome.csv\n",
      "/carnegie/nobackup/scratch/tbellagio/gea_grene-net/leave_1_out/split_number_51/significant_snps.pkl\n",
      "1103\n",
      "0\n",
      "/carnegie/nobackup/scratch/tbellagio/gea_grene-net/leave_1_out/split_number_26/wo_calibration_pvalue_full_genome.csv\n",
      "/carnegie/nobackup/scratch/tbellagio/gea_grene-net/leave_1_out/split_number_26/significant_snps.pkl\n",
      "643\n",
      "2\n",
      "/carnegie/nobackup/scratch/tbellagio/gea_grene-net/leave_1_out/split_number_69/wo_calibration_pvalue_full_genome.csv\n",
      "/carnegie/nobackup/scratch/tbellagio/gea_grene-net/leave_1_out/split_number_69/significant_snps.pkl\n",
      "2239\n",
      "0\n",
      "/carnegie/nobackup/scratch/tbellagio/gea_grene-net/leave_1_out/split_number_87/wo_calibration_pvalue_full_genome.csv\n",
      "/carnegie/nobackup/scratch/tbellagio/gea_grene-net/leave_1_out/split_number_87/significant_snps.pkl\n",
      "685\n",
      "166\n",
      "/carnegie/nobackup/scratch/tbellagio/gea_grene-net/leave_1_out/split_number_14/wo_calibration_pvalue_full_genome.csv\n",
      "/carnegie/nobackup/scratch/tbellagio/gea_grene-net/leave_1_out/split_number_14/significant_snps.pkl\n",
      "253\n",
      "17\n",
      "/carnegie/nobackup/scratch/tbellagio/gea_grene-net/leave_1_out/split_number_63/wo_calibration_pvalue_full_genome.csv\n",
      "/carnegie/nobackup/scratch/tbellagio/gea_grene-net/leave_1_out/split_number_63/significant_snps.pkl\n",
      "109\n",
      "257\n",
      "/carnegie/nobackup/scratch/tbellagio/gea_grene-net/leave_1_out/split_number_42/wo_calibration_pvalue_full_genome.csv\n",
      "/carnegie/nobackup/scratch/tbellagio/gea_grene-net/leave_1_out/split_number_42/significant_snps.pkl\n",
      "3616\n",
      "34\n",
      "/carnegie/nobackup/scratch/tbellagio/gea_grene-net/leave_1_out/split_number_35/wo_calibration_pvalue_full_genome.csv\n",
      "/carnegie/nobackup/scratch/tbellagio/gea_grene-net/leave_1_out/split_number_35/significant_snps.pkl\n",
      "51\n",
      "7\n",
      "/carnegie/nobackup/scratch/tbellagio/gea_grene-net/leave_1_out/split_number_48/wo_calibration_pvalue_full_genome.csv\n",
      "/carnegie/nobackup/scratch/tbellagio/gea_grene-net/leave_1_out/split_number_48/significant_snps.pkl\n",
      "1440\n",
      "1\n",
      "/carnegie/nobackup/scratch/tbellagio/gea_grene-net/leave_1_out/split_number_70/wo_calibration_pvalue_full_genome.csv\n",
      "/carnegie/nobackup/scratch/tbellagio/gea_grene-net/leave_1_out/split_number_70/significant_snps.pkl\n",
      "111\n",
      "24\n",
      "/carnegie/nobackup/scratch/tbellagio/gea_grene-net/leave_1_out/split_number_94/wo_calibration_pvalue_full_genome.csv\n",
      "/carnegie/nobackup/scratch/tbellagio/gea_grene-net/leave_1_out/split_number_94/significant_snps.pkl\n",
      "2658\n",
      "1\n",
      "/carnegie/nobackup/scratch/tbellagio/gea_grene-net/leave_1_out/split_number_7/wo_calibration_pvalue_full_genome.csv\n",
      "/carnegie/nobackup/scratch/tbellagio/gea_grene-net/leave_1_out/split_number_7/significant_snps.pkl\n",
      "792\n",
      "46\n",
      "/carnegie/nobackup/scratch/tbellagio/gea_grene-net/leave_1_out/split_number_0/wo_calibration_pvalue_full_genome.csv\n",
      "/carnegie/nobackup/scratch/tbellagio/gea_grene-net/leave_1_out/split_number_0/significant_snps.pkl\n",
      "682\n",
      "1\n",
      "/carnegie/nobackup/scratch/tbellagio/gea_grene-net/leave_1_out/split_number_77/wo_calibration_pvalue_full_genome.csv\n",
      "/carnegie/nobackup/scratch/tbellagio/gea_grene-net/leave_1_out/split_number_77/significant_snps.pkl\n",
      "690\n",
      "0\n",
      "/carnegie/nobackup/scratch/tbellagio/gea_grene-net/leave_1_out/split_number_99/wo_calibration_pvalue_full_genome.csv\n",
      "/carnegie/nobackup/scratch/tbellagio/gea_grene-net/leave_1_out/split_number_99/significant_snps.pkl\n",
      "331\n",
      "1\n",
      "/carnegie/nobackup/scratch/tbellagio/gea_grene-net/leave_1_out/split_number_93/wo_calibration_pvalue_full_genome.csv\n",
      "/carnegie/nobackup/scratch/tbellagio/gea_grene-net/leave_1_out/split_number_93/significant_snps.pkl\n",
      "1581\n",
      "0\n",
      "/carnegie/nobackup/scratch/tbellagio/gea_grene-net/leave_1_out/split_number_32/wo_calibration_pvalue_full_genome.csv\n",
      "/carnegie/nobackup/scratch/tbellagio/gea_grene-net/leave_1_out/split_number_32/significant_snps.pkl\n",
      "1133\n",
      "49\n",
      "/carnegie/nobackup/scratch/tbellagio/gea_grene-net/leave_1_out/split_number_45/wo_calibration_pvalue_full_genome.csv\n",
      "/carnegie/nobackup/scratch/tbellagio/gea_grene-net/leave_1_out/split_number_45/significant_snps.pkl\n",
      "343\n",
      "0\n",
      "/carnegie/nobackup/scratch/tbellagio/gea_grene-net/leave_1_out/split_number_38/wo_calibration_pvalue_full_genome.csv\n",
      "/carnegie/nobackup/scratch/tbellagio/gea_grene-net/leave_1_out/split_number_38/significant_snps.pkl\n",
      "68\n",
      "0\n",
      "/carnegie/nobackup/scratch/tbellagio/gea_grene-net/leave_1_out/split_number_80/wo_calibration_pvalue_full_genome.csv\n",
      "/carnegie/nobackup/scratch/tbellagio/gea_grene-net/leave_1_out/split_number_80/significant_snps.pkl\n",
      "781\n",
      "552\n",
      "/carnegie/nobackup/scratch/tbellagio/gea_grene-net/leave_1_out/split_number_19/wo_calibration_pvalue_full_genome.csv\n",
      "/carnegie/nobackup/scratch/tbellagio/gea_grene-net/leave_1_out/split_number_19/significant_snps.pkl\n",
      "2451\n",
      "226\n",
      "/carnegie/nobackup/scratch/tbellagio/gea_grene-net/leave_1_out/split_number_64/wo_calibration_pvalue_full_genome.csv\n",
      "/carnegie/nobackup/scratch/tbellagio/gea_grene-net/leave_1_out/split_number_64/significant_snps.pkl\n",
      "313\n",
      "1\n",
      "/carnegie/nobackup/scratch/tbellagio/gea_grene-net/leave_1_out/split_number_13/wo_calibration_pvalue_full_genome.csv\n",
      "/carnegie/nobackup/scratch/tbellagio/gea_grene-net/leave_1_out/split_number_13/significant_snps.pkl\n",
      "877\n",
      "216\n",
      "/carnegie/nobackup/scratch/tbellagio/gea_grene-net/leave_1_out/split_number_21/wo_calibration_pvalue_full_genome.csv\n",
      "/carnegie/nobackup/scratch/tbellagio/gea_grene-net/leave_1_out/split_number_21/significant_snps.pkl\n",
      "213\n",
      "14\n",
      "/carnegie/nobackup/scratch/tbellagio/gea_grene-net/leave_1_out/split_number_56/wo_calibration_pvalue_full_genome.csv\n",
      "/carnegie/nobackup/scratch/tbellagio/gea_grene-net/leave_1_out/split_number_56/significant_snps.pkl\n",
      "604\n",
      "44\n"
     ]
    }
   ],
   "source": [
    "## retrieve all no adjusted transposed pvalues\n",
    "target_filename = 'wo_calibration_pvalue_full_genome.csv'\n",
    "wo_calibration_pvalue = find_files(root_directory, target_filename)\n",
    "\n",
    "for i in wo_calibration_pvalue:\n",
    "    output_file_sign_snps = i.replace('wo_calibration_pvalue_full_genome.csv', 'significant_snps.pkl')\n",
    "    print(i)\n",
    "    print(output_file_sign_snps)\n",
    "    pvalues = dd.read_csv(i)\n",
    "    pvalues = pvalues.compute() \n",
    "    \n",
    "    pvalues = pvalues.set_index(pvalues['Unnamed: 0'].astype(int))\n",
    "    \n",
    "    pvalues = pvalues.drop('Unnamed: 0', axis=1)\n",
    "    significant_snps = {}\n",
    "\n",
    "    # Iterate over each column in the transposed DataFrame\n",
    "    for env_var in pvalues.columns:\n",
    "        # Filter to find where q-value is < 0.10 for this environmental variable\n",
    "        is_significant = pvalues[env_var] < 1.5453657571674064e-08\n",
    "    \n",
    "        # Get the list of SNP names where the q-value is < 0.10 for this environmental variable\n",
    "        significant_snp_list = is_significant[is_significant].index.tolist()\n",
    "    \n",
    "        # Assuming SNP names are in the format 'Response Y12345', extract the numeric part, subtract 1, and convert to int\n",
    "        #significant_index = pd.Series(significant_snp_list).str.replace('Response Y', '').astype(int) - 1\n",
    "        #significant_index = significant_snp_list.tolist()\n",
    "    \n",
    "        # Store this list in the dictionary with the environmental variable as the key\n",
    "        print(len(significant_snp_list))\n",
    "        significant_snps[env_var] = significant_snp_list\n",
    "    with open(output_file_sign_snps, 'wb') as f:\n",
    "        pickle.dump(significant_snps, f)"
   ]
  },
  {
   "cell_type": "code",
   "execution_count": 12,
   "id": "f6d2cfe3-ed0e-44ec-9d88-a9c56f7c0d51",
   "metadata": {},
   "outputs": [],
   "source": [
    "# Example data for z-scores and genomic inflation factor\n",
    "#zscore = zscores_bio1.copy()  # Random normal values as z-scores\n",
    "#gif = 1.856250  # Default GIF from data\n",
    "\n",
    "#new_gif = 1.5  # New chosen GIF\n",
    "\n",
    "# Manual adjustment of the p-values\n",
    "#adj_pv1 = 1 - chi2.cdf(zscore**2 / new_gif, df=1)"
   ]
  },
  {
   "cell_type": "code",
   "execution_count": 13,
   "id": "820a3902-7e34-4d28-a8bc-2063b75cc0ed",
   "metadata": {
    "scrolled": true
   },
   "outputs": [],
   "source": [
    "def qvalues_de():\n",
    "    # Compute the result to bring it into memory (if necessary and feasible)\n",
    "    filtered_df = filtered_df.compute()\n",
    "    \n",
    "    # Drop an unwanted column\n",
    "    filtered_df = filtered_df.drop('Unnamed: 0', axis=1)\n",
    "    \n",
    "    #qvalues = pd.read_csv(output_file_qvalue).drop('Unnamed: 0',axis=1)\n",
    "    filtered_df = qvalues < 0.1\n",
    "    \n",
    "    # Filtering to find where q-values are < 0.10\n",
    "        # Dictionary to store results\n",
    "    significant_snps = {}\n",
    "    \n",
    "    # Iterate over each row in the filtered DataFrame\n",
    "    for env_var, is_significant in filtered_df.iterrows():\n",
    "        # Get the list of SNP names where the q-value is < 0.10 for this environmental variable\n",
    "        significant_snp_list = is_significant[is_significant].index.tolist()\n",
    "        ## make it an actual index by substracting 0 and converting into int\n",
    "        significant_index = pd.Series(significant_snp_list).str.replace('Response Y', '').astype(int) - 1\n",
    "        significant_index = significant_index.tolist()\n",
    "        # Store this list in the dictionary with the environmental variable as the key\n",
    "        significant_snps[env_var] = significant_index\n",
    "    return significant_snps"
   ]
  },
  {
   "cell_type": "code",
   "execution_count": null,
   "id": "40ccb330-99a4-4350-bcba-0fb82b20b7b5",
   "metadata": {},
   "outputs": [],
   "source": []
  },
  {
   "cell_type": "code",
   "execution_count": 17,
   "id": "6af54852-a9d4-47f7-b439-ff9151f5edf2",
   "metadata": {},
   "outputs": [],
   "source": [
    "## retrieve all no adjusted transposed pvalues\n",
    "target_filename = 'significant_snps.pkl'\n",
    "significant_snps_files = find_files(root_directory, target_filename)"
   ]
  },
  {
   "cell_type": "code",
   "execution_count": null,
   "id": "399873f2-cca5-4e8b-b10e-b53ce725eaf9",
   "metadata": {},
   "outputs": [],
   "source": []
  },
  {
   "cell_type": "code",
   "execution_count": 20,
   "id": "1c75afbe-45b5-40b3-9490-9dc07c7d81f5",
   "metadata": {},
   "outputs": [
    {
     "data": {
      "image/png": "[encoded data removed]",
      "text/plain": [
       "<Figure size 1000x600 with 1 Axes>"
      ]
     },
     "metadata": {},
     "output_type": "display_data"
    }
   ],
   "source": [
    "import pickle\n",
    "import pandas as pd\n",
    "import matplotlib.pyplot as plt\n",
    "from collections import defaultdict\n",
    "\n",
    "# Function to load data from a pickle file\n",
    "def load_data(file_path):\n",
    "    with open(file_path, 'rb') as file:\n",
    "        data = pickle.load(file)\n",
    "    return set(data['V1'])\n",
    "\n",
    "# List of pickle files\n",
    "\n",
    "# Dictionary to count the presence of each SNP across the sets\n",
    "snp_count = defaultdict(int)\n",
    "\n",
    "# Load data from each pickle file\n",
    "for file in significant_snps_files[1:]:\n",
    "    snps = load_data(file)\n",
    "    for snp in snps:\n",
    "        snp_count[snp] += 1\n",
    "\n",
    "# Create a DataFrame to count SNPs by the number of sets they are shared in\n",
    "shared_counts = pd.Series(snp_count.values()).value_counts().sort_index()\n",
    "\n",
    "# Calculate the percentage of SNPs shared by different numbers of sets\n",
    "total_snps = sum(shared_counts)\n",
    "shared_percentage = (shared_counts / total_snps) * 100\n",
    "\n",
    "# Plotting the bar chart\n",
    "plt.figure(figsize=(10, 6))\n",
    "shared_percentage.plot(kind='bar')\n",
    "plt.xlabel('Number of sets a SNP is shared in')\n",
    "plt.ylabel('Percentage of SNPs')\n",
    "plt.title('Percentage of SNPs Shared by Different Numbers of Sets')\n",
    "plt.show()"
   ]
  },
  {
   "cell_type": "code",
   "execution_count": null,
   "id": "194f70cd-bc4c-4c61-8ce1-a3b4e50a98b4",
   "metadata": {},
   "outputs": [],
   "source": []
  },
  {
   "cell_type": "code",
   "execution_count": 29,
   "id": "fa46df20-0db7-4aab-b116-ec37828847c4",
   "metadata": {},
   "outputs": [],
   "source": []
  },
  {
   "cell_type": "code",
   "execution_count": 21,
   "id": "bb587dbe-8919-4ae2-99b4-1aece1a27600",
   "metadata": {},
   "outputs": [
    {
     "data": {
      "image/png": "[encoded data removed]",
      "text/plain": [
       "<Figure size 1000x600 with 1 Axes>"
      ]
     },
     "metadata": {},
     "output_type": "display_data"
    }
   ],
   "source": [
    "import pickle\n",
    "import pandas as pd\n",
    "import matplotlib.pyplot as plt\n",
    "from collections import defaultdict\n",
    "\n",
    "# Function to load data from a pickle file\n",
    "def load_data(file_path):\n",
    "    with open(file_path, 'rb') as file:\n",
    "        data = pickle.load(file)\n",
    "    return set(data['V1'])\n",
    "\n",
    "# List of pickle files\n",
    "\n",
    "# Dictionary to count the presence of each SNP across the sets\n",
    "snp_count = defaultdict(int)\n",
    "\n",
    "# Load data from each pickle file\n",
    "for file in significant_snps_files[1:]:\n",
    "    snps = load_data(file)\n",
    "    for snp in snps:\n",
    "        snp_count[snp] += 1\n",
    "\n",
    "# Create a DataFrame to count SNPs by the number of sets they are shared in\n",
    "shared_counts = pd.Series(snp_count.values()).value_counts().sort_index()\n",
    "\n",
    "# Plotting the bar chart\n",
    "plt.figure(figsize=(10, 6))\n",
    "shared_counts.plot(kind='bar')\n",
    "plt.xlabel('Number of sets a SNP is shared in')\n",
    "plt.ylabel('Count of SNPs')\n",
    "plt.title('Count of SNPs Shared by Different Numbers of Sets')\n",
    "plt.show()\n"
   ]
  },
  {
   "cell_type": "code",
   "execution_count": 32,
   "id": "cb1169b8-2640-41bd-b51d-2b1d1d5a4c80",
   "metadata": {},
   "outputs": [],
   "source": [
    "import numpy as np\n",
    "from collections import defaultdict"
   ]
  },
  {
   "cell_type": "code",
   "execution_count": 35,
   "id": "5d9613d9-d983-4599-9a63-9621abd41a18",
   "metadata": {},
   "outputs": [],
   "source": [
    "## create a null distribution \n",
    "amount = []\n",
    "for file in significant_snps_files[1:]:\n",
    "    snps = load_data(file)\n",
    "    amount.append((len(snps)))\n",
    "sample_sizes = amount"
   ]
  },
  {
   "cell_type": "code",
   "execution_count": 36,
   "id": "643a6a43-ce68-470f-b7be-ec523f56a293",
   "metadata": {},
   "outputs": [
    {
     "data": {
      "image/png": "[encoded data removed]",
      "text/plain": [
       "<Figure size 1000x600 with 1 Axes>"
      ]
     },
     "metadata": {},
     "output_type": "display_data"
    }
   ],
   "source": [
    "# Define the maximum SNP index\n",
    "max_snp_index = 3300000\n",
    "\n",
    "# Dictionary to count the presence of each SNP across the sets\n",
    "snp_count = defaultdict(int)\n",
    "\n",
    "# Generate random samples for each size and count the SNPs\n",
    "random_samples = []\n",
    "for size in sample_sizes:\n",
    "    sample = np.random.choice(range(1, max_snp_index + 1), size, replace=False)\n",
    "    random_samples.append(sample)\n",
    "    for snp in sample:\n",
    "        snp_count[snp] += 1\n",
    "\n",
    "# Create a DataFrame to count SNPs by the number of sets they are shared in\n",
    "shared_counts = pd.Series(list(snp_count.values())).value_counts().sort_index()\n",
    "\n",
    "# Plotting the distribution of SNP sharing\n",
    "import matplotlib.pyplot as plt\n",
    "\n",
    "plt.figure(figsize=(10, 6))\n",
    "shared_counts.plot(kind='bar')\n",
    "plt.xlabel('Number of sets a SNP is shared in')\n",
    "plt.ylabel('Count of SNPs')\n",
    "plt.title('Count of SNPs Shared by Different Numbers of Sets')\n",
    "plt.show()\n"
   ]
  },
  {
   "cell_type": "code",
   "execution_count": null,
   "id": "1a09c5e7-040f-46e8-bdc5-efe56dd9bb67",
   "metadata": {},
   "outputs": [],
   "source": []
  },
  {
   "cell_type": "code",
   "execution_count": null,
   "id": "33f0168c-8b35-409d-9425-4223a32069b4",
   "metadata": {},
   "outputs": [],
   "source": []
  },
  {
   "cell_type": "code",
   "execution_count": null,
   "id": "e8a4da76-2181-4259-b71f-76627b8f3a3f",
   "metadata": {},
   "outputs": [],
   "source": []
  },
  {
   "cell_type": "code",
   "execution_count": 14,
   "id": "0a57d418-5b28-405a-b637-fe879d7b0f10",
   "metadata": {},
   "outputs": [],
   "source": [
    "## Transpose\n",
    "#import csv\n",
    "#def transpose(input, output):\n",
    "#    a = zip(*csv.reader(open(input, \"rt\")))\n",
    "#    csv.writer(open(output, \"wt\")).writerows(a)\n",
    "\n",
    "## transpose all the pvalues files\n",
    "#for i in pd.Series(wo_calibration_pvalue).sort_values()[-4:]:\n",
    "#    j = i.replace('wo_calibration_pvalue_full_genome', 'tr_wo_calibration_pvalue_full_genome')\n",
    "#    print(i)\n",
    "#    print(j)\n",
    "#    transpose(i, j)\n",
    "#    print('done')"
   ]
  },
  {
   "cell_type": "code",
   "execution_count": null,
   "id": "6fb72267-72c3-4977-b753-b32082c90cb9",
   "metadata": {},
   "outputs": [],
   "source": []
  },
  {
   "cell_type": "code",
   "execution_count": null,
   "id": "a4bee8c4-f6b0-4e2a-b9f3-1a1aa5eb0442",
   "metadata": {},
   "outputs": [],
   "source": []
  },
  {
   "cell_type": "code",
   "execution_count": 177,
   "id": "b6fe7dc0-23c8-45b2-aaff-a9634c2898bf",
   "metadata": {},
   "outputs": [],
   "source": [
    "target_filename = 'significant_snps.pkl'\n",
    "significant_snps_files = find_files(root_directory, target_filename)"
   ]
  },
  {
   "cell_type": "code",
   "execution_count": 178,
   "id": "22cf8e26-e5d0-4d15-84e1-1e0c50759e46",
   "metadata": {},
   "outputs": [
    {
     "data": {
      "text/plain": [
       "['/carnegie/nobackup/scratch/tbellagio/gea_grene-net/leave_1_out/significant_snps.pkl',\n",
       " '/carnegie/nobackup/scratch/tbellagio/gea_grene-net/leave_1_out/split_number_88/significant_snps.pkl',\n",
       " '/carnegie/nobackup/scratch/tbellagio/gea_grene-net/leave_1_out/split_number_11/significant_snps.pkl',\n",
       " '/carnegie/nobackup/scratch/tbellagio/gea_grene-net/leave_1_out/split_number_29/significant_snps.pkl',\n",
       " '/carnegie/nobackup/scratch/tbellagio/gea_grene-net/leave_1_out/split_number_54/significant_snps.pkl',\n",
       " '/carnegie/nobackup/scratch/tbellagio/gea_grene-net/leave_1_out/split_number_75/significant_snps.pkl',\n",
       " '/carnegie/nobackup/scratch/tbellagio/gea_grene-net/leave_1_out/split_number_8/significant_snps.pkl',\n",
       " '/carnegie/nobackup/scratch/tbellagio/gea_grene-net/leave_1_out/split_number_2/significant_snps.pkl',\n",
       " '/carnegie/nobackup/scratch/tbellagio/gea_grene-net/leave_1_out/split_number_30/significant_snps.pkl',\n",
       " '/carnegie/nobackup/scratch/tbellagio/gea_grene-net/leave_1_out/split_number_47/significant_snps.pkl',\n",
       " '/carnegie/nobackup/scratch/tbellagio/gea_grene-net/leave_1_out/split_number_37/significant_snps.pkl',\n",
       " '/carnegie/nobackup/scratch/tbellagio/gea_grene-net/leave_1_out/split_number_5/significant_snps.pkl']"
      ]
     },
     "execution_count": 178,
     "metadata": {},
     "output_type": "execute_result"
    }
   ],
   "source": [
    "significant_snps_files"
   ]
  },
  {
   "cell_type": "code",
   "execution_count": null,
   "id": "598a8dba-5970-4264-b141-2880c785a2b1",
   "metadata": {},
   "outputs": [],
   "source": []
  },
  {
   "cell_type": "code",
   "execution_count": null,
   "id": "1884beaa-d5fb-42fe-86f1-f83759792892",
   "metadata": {},
   "outputs": [],
   "source": [
    "## compare the gif with 3 k and the other number\n",
    "### runn all the transpositions \n",
    "## calculate singifant allees "
   ]
  },
  {
   "cell_type": "code",
   "execution_count": 161,
   "id": "bf0ffcf3-8655-4c04-99cb-bc9040d61c10",
   "metadata": {},
   "outputs": [],
   "source": [
    "#alljobs = [int(i.split('_')[2].replace('.out', '')) for i in os.listdir() if '.out' in i]"
   ]
  },
  {
   "cell_type": "code",
   "execution_count": null,
   "id": "d3540b03-f15c-420f-9286-19b978661bfe",
   "metadata": {},
   "outputs": [],
   "source": []
  },
  {
   "cell_type": "code",
   "execution_count": null,
   "id": "e14d93d4-b510-4635-b289-88d2015af3a4",
   "metadata": {},
   "outputs": [],
   "source": []
  },
  {
   "cell_type": "code",
   "execution_count": null,
   "id": "27c24e87-ba93-4b82-9e6a-eb8d72f10c29",
   "metadata": {},
   "outputs": [],
   "source": []
  },
  {
   "cell_type": "code",
   "execution_count": null,
   "id": "640362b9-dfdd-4a40-b238-017fc414057f",
   "metadata": {},
   "outputs": [],
   "source": []
  },
  {
   "cell_type": "code",
   "execution_count": 40,
   "id": "e006dde2-87cd-4aaa-afd8-d3b9b2fa16ac",
   "metadata": {},
   "outputs": [],
   "source": [
    "test_samples = splits_samples[0][1]"
   ]
  },
  {
   "cell_type": "code",
   "execution_count": 41,
   "id": "bf380dc3-2745-4836-ba08-89e9a10b10fe",
   "metadata": {},
   "outputs": [],
   "source": [
    "#### training \n",
    "\n",
    "path_ldp_af = '/carnegie/nobackup/scratch/xwu/grenet/merged_frequency/merged_hapFIRE_allele_frequency_LDpruned.txt'\n",
    "\n",
    "allele_freq = dd.read_csv(path_ldp_af, sep = '\\t', usecols=train_samples)\n",
    "\n",
    "clim_sites_during_exp = pd.read_csv('/carnegie/nobackup/scratch/tbellagio/grene/data/bioclimvars_experimental_sites_era5.csv')\n",
    "\n",
    "sites_af = pd.Series(allele_freq.columns.str.split('_').str[0]).astype(int)\n",
    "\n",
    "sites_af.name = 'site'\n",
    "\n",
    "env = sites_af.reset_index().merge(clim_sites_during_exp).drop(['index'],axis=1)\n",
    "\n",
    "##scale it\n",
    "means = {}\n",
    "stds = {}\n",
    "for i in env.columns[1:]:\n",
    "    means[i] = np.mean(env[i])\n",
    "    stds[i] = np.std(env[i])\n",
    "    env[i] = (env[i] - np.mean(env[i])) / np.std(env[i])\n",
    "\n",
    "env = env.drop('site',axis=1)\n",
    "\n",
    "#env.to_csv(f'split_number_{number}/environment_lea.csv', sep = ',', index=False)\n"
   ]
  },
  {
   "cell_type": "code",
   "execution_count": 42,
   "id": "fafc351f-12d0-415e-b6b3-40919de55ef7",
   "metadata": {},
   "outputs": [],
   "source": [
    "path_ldp_af = '/carnegie/nobackup/scratch/xwu/grenet/merged_frequency/merged_hapFIRE_allele_frequency_LDpruned.txt'\n",
    "\n",
    "allele_freq = dd.read_csv(path_ldp_af, sep = '\\t', usecols=test_samples)\n",
    "\n",
    "clim_sites_during_exp = pd.read_csv('/carnegie/nobackup/scratch/tbellagio/grene/data/bioclimvars_experimental_sites_era5.csv')\n",
    "\n",
    "sites_af = pd.Series(allele_freq.columns.str.split('_').str[0]).astype(int)\n",
    "\n",
    "sites_af = sites_af.drop_duplicates()\n",
    "\n",
    "sites_af.name = 'site'\n",
    "\n",
    "env_test = sites_af.reset_index().merge(clim_sites_during_exp).drop(['index'],axis=1)\n",
    "\n",
    "##scale it for the testing we used the saved mean and std\n",
    "for i in env_test.columns[1:]:\n",
    "    env_test[i] = (env_test[i] - means[i]) / stds[i]\n",
    "\n",
    "#env = env.drop('site',axis=1)\n",
    "#env.to_csv(f'split_number_{number}/environment_lea.csv', sep = ',', index=False)\n",
    "\n"
   ]
  },
  {
   "cell_type": "code",
   "execution_count": 43,
   "id": "340307c9-4ac9-4e39-b8b7-3ed7324ae7ee",
   "metadata": {},
   "outputs": [
    {
     "data": {
      "text/plain": [
       "[4, 24, 48, 52, 55, 57]"
      ]
     },
     "execution_count": 43,
     "metadata": {},
     "output_type": "execute_result"
    }
   ],
   "source": [
    "env_test['site'].to_list()"
   ]
  },
  {
   "cell_type": "code",
   "execution_count": null,
   "id": "acd9ddb0-9c6e-40a4-9158-a27a35d7b176",
   "metadata": {},
   "outputs": [],
   "source": []
  },
  {
   "cell_type": "code",
   "execution_count": null,
   "id": "41088c90-798c-4fe5-8675-c4530f1fcd12",
   "metadata": {},
   "outputs": [],
   "source": []
  },
  {
   "cell_type": "code",
   "execution_count": 1,
   "id": "ab3b8100-5dac-4355-a60c-96602ff0523c",
   "metadata": {},
   "outputs": [
    {
     "name": "stderr",
     "output_type": "stream",
     "text": [
      "/home/tbellagio/.local/lib/python3.9/site-packages/scipy/__init__.py:146: UserWarning: A NumPy version >=1.17.3 and <1.25.0 is required for this version of SciPy (detected version 1.26.4\n",
      "  warnings.warn(f\"A NumPy version >={np_minversion} and <{np_maxversion}\"\n"
     ]
    }
   ],
   "source": [
    "## get the vcf file frothe chromosomes and positions \n",
    "import allel\n",
    "## ld pruned vcf file\n",
    "ld_prunned_vcf_file = '/carnegie/nobackup/scratch/xwu/grenet/hapFIRE_updatedVCF/greneNet_final_v1.1_LDpruned.recode.vcf'\n",
    "ld_prunned_vcf = allel.read_vcf(ld_prunned_vcf_file)"
   ]
  },
  {
   "cell_type": "code",
   "execution_count": 2,
   "id": "c26dee07-b991-4685-9029-abbadae3fd3b",
   "metadata": {},
   "outputs": [],
   "source": [
    "ld_prunned_chrom = ld_prunned_vcf['variants/CHROM']\n",
    "ld_prunned_pos = ld_prunned_vcf['variants/POS']"
   ]
  },
  {
   "cell_type": "code",
   "execution_count": 3,
   "id": "c71edb9c-bb66-4d3c-864e-ed2ebde4f96e",
   "metadata": {},
   "outputs": [],
   "source": [
    "index_pos = {}\n",
    "for index, pos in enumerate(ld_prunned_pos):\n",
    "    index_pos[index] = pos"
   ]
  },
  {
   "cell_type": "code",
   "execution_count": 4,
   "id": "113ef43b-440d-49ae-a981-2c398f53ff4c",
   "metadata": {},
   "outputs": [
    {
     "ename": "NameError",
     "evalue": "name 'matrix_results' is not defined",
     "output_type": "error",
     "traceback": [
      "\u001b[0;31m---------------------------------------------------------------------------\u001b[0m",
      "\u001b[0;31mNameError\u001b[0m                                 Traceback (most recent call last)",
      "Cell \u001b[0;32mIn[4], line 2\u001b[0m\n\u001b[1;32m      1\u001b[0m real_positions \u001b[38;5;241m=\u001b[39m []\n\u001b[0;32m----> 2\u001b[0m \u001b[38;5;28;01mfor\u001b[39;00m i \u001b[38;5;129;01min\u001b[39;00m \u001b[43mmatrix_results\u001b[49m\u001b[38;5;241m.\u001b[39mindex:\n\u001b[1;32m      3\u001b[0m     real_pos \u001b[38;5;241m=\u001b[39m index_pos[i]\n\u001b[1;32m      4\u001b[0m     real_positions\u001b[38;5;241m.\u001b[39mappend(real_pos)\n",
      "\u001b[0;31mNameError\u001b[0m: name 'matrix_results' is not defined"
     ]
    }
   ],
   "source": [
    "real_positions = []\n",
    "for i in matrix_results.index:\n",
    "    real_pos = index_pos[i]\n",
    "    real_positions.append(real_pos)"
   ]
  },
  {
   "cell_type": "code",
   "execution_count": null,
   "id": "eb23345d-1de9-4e62-bc7b-0afb05786271",
   "metadata": {},
   "outputs": [],
   "source": [
    "#matrix_results.index = real_positions"
   ]
  },
  {
   "cell_type": "code",
   "execution_count": 57,
   "id": "72fa20cc-e6e4-432e-b91b-70a1668e16c1",
   "metadata": {
    "scrolled": true
   },
   "outputs": [
    {
     "data": {
      "text/plain": [
       "(13985, 231, 2)"
      ]
     },
     "execution_count": 57,
     "metadata": {},
     "output_type": "execute_result"
    }
   ],
   "source": [
    "ld_prunned_vcf['calldata/GT'].shape"
   ]
  },
  {
   "cell_type": "code",
   "execution_count": 9,
   "id": "75e9dbcc-f0e6-4ea6-85ef-c0f1bd3eb5b4",
   "metadata": {},
   "outputs": [
    {
     "ename": "NameError",
     "evalue": "name 'ld_prunned_vcf' is not defined",
     "output_type": "error",
     "traceback": [
      "\u001b[0;31m---------------------------------------------------------------------------\u001b[0m",
      "\u001b[0;31mNameError\u001b[0m                                 Traceback (most recent call last)",
      "Cell \u001b[0;32mIn[9], line 1\u001b[0m\n\u001b[0;32m----> 1\u001b[0m \u001b[43mld_prunned_vcf\u001b[49m\n",
      "\u001b[0;31mNameError\u001b[0m: name 'ld_prunned_vcf' is not defined"
     ]
    }
   ],
   "source": [
    "ld_prunned_vcf"
   ]
  },
  {
   "cell_type": "code",
   "execution_count": 58,
   "id": "24ad781b-3f79-4651-a123-daa574b3ca88",
   "metadata": {},
   "outputs": [
    {
     "data": {
      "text/plain": [
       "19"
      ]
     },
     "execution_count": 58,
     "metadata": {},
     "output_type": "execute_result"
    }
   ],
   "source": [
    "len(matrix_results.index)"
   ]
  },
  {
   "cell_type": "code",
   "execution_count": 59,
   "id": "b3066ffb-352e-42e1-8e63-c8579cdafa4e",
   "metadata": {},
   "outputs": [],
   "source": [
    "selected_snps = ld_prunned_vcf['calldata/GT'][matrix_results.index, :, :]"
   ]
  },
  {
   "cell_type": "code",
   "execution_count": 60,
   "id": "f9dd2c67-c293-4ee5-bc8a-6857859f585b",
   "metadata": {},
   "outputs": [
    {
     "data": {
      "text/plain": [
       "(19, 231, 2)"
      ]
     },
     "execution_count": 60,
     "metadata": {},
     "output_type": "execute_result"
    }
   ],
   "source": [
    "selected_snps.shape"
   ]
  },
  {
   "cell_type": "code",
   "execution_count": 61,
   "id": "2785a6eb-dc7f-4cda-9e7f-040c0caf1303",
   "metadata": {},
   "outputs": [],
   "source": [
    "genotype_counts = np.sum(selected_snps, axis=2)"
   ]
  },
  {
   "cell_type": "code",
   "execution_count": 62,
   "id": "9515e8e2-8e8b-4439-a73b-d4c84aae332c",
   "metadata": {},
   "outputs": [
    {
     "data": {
      "text/plain": [
       "(19, 231)"
      ]
     },
     "execution_count": 62,
     "metadata": {},
     "output_type": "execute_result"
    }
   ],
   "source": [
    "genotype_counts.shape"
   ]
  },
  {
   "cell_type": "code",
   "execution_count": 63,
   "id": "722d962b-eef9-4d66-b4a2-45fd677bc918",
   "metadata": {},
   "outputs": [
    {
     "data": {
      "text/plain": [
       "array([[0, 0, 0, ..., 0, 0, 0],\n",
       "       [0, 0, 0, ..., 0, 0, 0],\n",
       "       [0, 0, 0, ..., 0, 0, 0],\n",
       "       ...,\n",
       "       [0, 2, 0, ..., 0, 0, 0],\n",
       "       [0, 0, 0, ..., 0, 0, 2],\n",
       "       [2, 0, 0, ..., 0, 0, 2]])"
      ]
     },
     "execution_count": 63,
     "metadata": {},
     "output_type": "execute_result"
    }
   ],
   "source": [
    "genotype_counts"
   ]
  },
  {
   "cell_type": "code",
   "execution_count": 64,
   "id": "64b95e9e-6190-46bd-895b-24967f9a69bf",
   "metadata": {},
   "outputs": [
    {
     "data": {
      "text/plain": [
       "13985"
      ]
     },
     "execution_count": 64,
     "metadata": {},
     "output_type": "execute_result"
    }
   ],
   "source": [
    "len(ld_prunned_pos)"
   ]
  },
  {
   "cell_type": "code",
   "execution_count": null,
   "id": "40658ff8-2b78-432f-a62f-c9db6906559a",
   "metadata": {},
   "outputs": [],
   "source": []
  },
  {
   "cell_type": "code",
   "execution_count": 3,
   "id": "8cc99d11-9f86-488b-a0bc-f598e8712399",
   "metadata": {},
   "outputs": [
    {
     "name": "stderr",
     "output_type": "stream",
     "text": [
      "/home/tbellagio/.local/lib/python3.9/site-packages/scipy/__init__.py:146: UserWarning: A NumPy version >=1.17.3 and <1.25.0 is required for this version of SciPy (detected version 1.26.4\n",
      "  warnings.warn(f\"A NumPy version >={np_minversion} and <{np_maxversion}\"\n"
     ]
    }
   ],
   "source": [
    "import sys\n",
    "sys.path.append('/home/tbellagio/miniforge3/envs/pipeline_snakemake/lib/python3.9/site-packages')\n",
    "import cvxpy"
   ]
  },
  {
   "cell_type": "code",
   "execution_count": null,
   "id": "a14f73fc-6c8a-467c-9a83-2c02807eb412",
   "metadata": {},
   "outputs": [],
   "source": [
    "import numpy as np\n",
    "import cvxpy as cp\n",
    "\n",
    "y = np.asarray(matrix_results[4]) * 2\n",
    "\n",
    "\n",
    "h = cp.Variable(231)\n",
    "\n",
    "product = genotype_counts @ h \n",
    "\n",
    "diff = product - y\n",
    "\n",
    "constraints = [0 <= h, sum(h) == 1]\n",
    "\n",
    "\n",
    "problem = cp.Problem(cp.Minimize(cp.norm(diff)), constraints)\n",
    "\n",
    "# Solve the optimization problem using the SCS solver, with verbose output disabled.\n",
    "problem.solve(solver='SCS', verbose=False)\n",
    "\n",
    "\n",
    "h.value.shape\n",
    "\n",
    "ecotype_frequency = h.value"
   ]
  },
  {
   "cell_type": "code",
   "execution_count": null,
   "id": "c9ca7df3-5401-453c-bfc2-6c219cbaf9a7",
   "metadata": {},
   "outputs": [],
   "source": []
  },
  {
   "cell_type": "code",
   "execution_count": null,
   "id": "2667cbcc-dd74-4e94-8f2a-39a852cfd789",
   "metadata": {},
   "outputs": [],
   "source": []
  },
  {
   "cell_type": "code",
   "execution_count": null,
   "id": "03b28bfa-13e0-4f8c-99e9-dcb197189920",
   "metadata": {},
   "outputs": [],
   "source": []
  },
  {
   "cell_type": "code",
   "execution_count": null,
   "id": "a2cccd2a-b08f-4531-90cc-325f14495b11",
   "metadata": {},
   "outputs": [],
   "source": []
  },
  {
   "cell_type": "code",
   "execution_count": null,
   "id": "e736b0a8-0ad2-41d8-9d86-f92840e1d861",
   "metadata": {},
   "outputs": [],
   "source": []
  },
  {
   "cell_type": "code",
   "execution_count": null,
   "id": "757792ff-4c9c-4010-8959-d092fdb4f9e5",
   "metadata": {},
   "outputs": [],
   "source": [
    "\n",
    "\n",
    "# `y` represents the haplotype frequency, for me the allele frequency \n",
    "## i?? take it away  this is because you do it per haplotype block?? \n",
    "## \n",
    "y = np.asarray(independent_block_haplotype_frequency[i]) * 2\n",
    "\n",
    "# Create a variable `h` using CVXPY, which represents the frequencies of ecotypes??.\n",
    "# Its dimension is set to match 231?? \n",
    "h = cp.Variable(haplotype.shape[0])\n",
    "\n",
    "# `product` computes the dot product of the transpose of the haplotype design matrix with the vector `h`.\n",
    "# for me the haplotype sedign matrix is gonna be the genotype matrix??? \n",
    "product = independent_haplotype_DM_.T @ h \n",
    "\n",
    "# Calculate the residuals `diff` by subtracting the observed frequencies `y` from the modeled `product`.\n",
    "diff = product - y\n",
    "\n",
    "# Define constraints for the optimization problem:\n",
    "# 1. All elements of `h` must be non-negative.\n",
    "# 2. The sum of all elements in `h` must equal 1 (ensuring that `h` represents a probability distribution).\n",
    "constraints = [0 <= h, sum(h) == 1]\n",
    "\n",
    "# Formulate the optimization problem:\n",
    "# The objective is to minimize the norm of the residuals `diff`.\n",
    "# This norm minimization helps in fitting the model close to the observed data.\n",
    "problem = cp.Problem(cp.Minimize(cp.norm(diff)), constraints)\n",
    "\n",
    "# Solve the optimization problem using the SCS solver, with verbose output disabled.\n",
    "problem.solve(solver='SCS', verbose=False)\n",
    "\n",
    "# Store the solution of `h` (the estimated haplotype frequencies) in `ecotype_frequency` at index `i`.\n",
    "## for you it was an index becasue it was at haplotype block i ???? \n",
    "ecotype_frequency[i, :] = h.value\n",
    "\n",
    "# `weights` is a list that stores the distance between variants to perhaps weigh the influence of each segment.\n",
    "# Here, it appends the distance between the right and left variant positions.\n",
    "weights.append(variant_positions[right] - variant_positions[left])"
   ]
  },
  {
   "cell_type": "code",
   "execution_count": null,
   "id": "08ba2e3c-fc1e-4d67-b781-73cc458f6e7a",
   "metadata": {},
   "outputs": [],
   "source": []
  },
  {
   "cell_type": "code",
   "execution_count": 45,
   "id": "f39ca4cd-45e8-4b12-a3d7-0a2f73752189",
   "metadata": {},
   "outputs": [],
   "source": [
    "import csv"
   ]
  },
  {
   "cell_type": "code",
   "execution_count": 46,
   "id": "2574b3ea-2282-4abe-a17d-cf9ec091ee07",
   "metadata": {},
   "outputs": [],
   "source": [
    "## function to fin diles \n",
    "def find_files(directory, filename):\n",
    "    matches = []  # List to store the full paths of matching files\n",
    "    for root, dirs, files in os.walk(directory):\n",
    "        if filename in files:\n",
    "            full_path = os.path.join(root, filename)\n",
    "            matches.append(full_path)\n",
    "    return matches\n",
    "\n",
    "## generate transpose function \n",
    "def transpose(input, output):\n",
    "    a = zip(*csv.reader(open(input, \"rt\")))\n",
    "    csv.writer(open(output, \"wt\")).writerows(a)"
   ]
  },
  {
   "cell_type": "code",
   "execution_count": 22,
   "id": "5481f7a9-74e6-4b38-bc3c-1fffe10ee062",
   "metadata": {},
   "outputs": [],
   "source": [
    "root_directory = '/carnegie/nobackup/scratch/tbellagio/gea_grene-net/leave_1_out/'  # Update this to the directory you want to search\n",
    "\n",
    "## retrieve all no adjusted qvalues\n",
    "target_filename = 'notadj_qvalues_full_genome.csv'\n",
    "notadj_qvalues_files = find_files(root_directory, target_filename)\n",
    "\n",
    "## retrieve all no adjusted pvalues\n",
    "target_filename = 'notadj_pvalues_full_genome.csv'\n",
    "notadj_pvalues_files = find_files(root_directory, target_filename)\n"
   ]
  },
  {
   "cell_type": "code",
   "execution_count": 42,
   "id": "67552f49-d53f-4056-b6bf-bdc7444f5b4f",
   "metadata": {},
   "outputs": [
    {
     "data": {
      "text/plain": [
       "17    /carnegie/nobackup/scratch/tbellagio/gea_grene...\n",
       "59    /carnegie/nobackup/scratch/tbellagio/gea_grene...\n",
       "34    /carnegie/nobackup/scratch/tbellagio/gea_grene...\n",
       "89    /carnegie/nobackup/scratch/tbellagio/gea_grene...\n",
       "dtype: object"
      ]
     },
     "execution_count": 42,
     "metadata": {},
     "output_type": "execute_result"
    }
   ],
   "source": [
    "pd.Series(notadj_pvalues_files).sort_values()[-4:]"
   ]
  },
  {
   "cell_type": "code",
   "execution_count": 39,
   "id": "2c34d6a9-073a-45d5-a753-4dc5187db8f0",
   "metadata": {
    "scrolled": true
   },
   "outputs": [
    {
     "name": "stdout",
     "output_type": "stream",
     "text": [
      "/carnegie/nobackup/scratch/tbellagio/gea_grene-net/leave_1_out/split_number_0/notadj_pvalues_full_genome.csv\n",
      "/carnegie/nobackup/scratch/tbellagio/gea_grene-net/leave_1_out/split_number_1/notadj_pvalues_full_genome.csv\n",
      "/carnegie/nobackup/scratch/tbellagio/gea_grene-net/leave_1_out/split_number_10/notadj_pvalues_full_genome.csv\n",
      "/carnegie/nobackup/scratch/tbellagio/gea_grene-net/leave_1_out/split_number_11/notadj_pvalues_full_genome.csv\n",
      "/carnegie/nobackup/scratch/tbellagio/gea_grene-net/leave_1_out/split_number_12/notadj_pvalues_full_genome.csv\n",
      "/carnegie/nobackup/scratch/tbellagio/gea_grene-net/leave_1_out/split_number_13/notadj_pvalues_full_genome.csv\n",
      "/carnegie/nobackup/scratch/tbellagio/gea_grene-net/leave_1_out/split_number_14/notadj_pvalues_full_genome.csv\n",
      "/carnegie/nobackup/scratch/tbellagio/gea_grene-net/leave_1_out/split_number_15/notadj_pvalues_full_genome.csv\n",
      "/carnegie/nobackup/scratch/tbellagio/gea_grene-net/leave_1_out/split_number_16/notadj_pvalues_full_genome.csv\n",
      "/carnegie/nobackup/scratch/tbellagio/gea_grene-net/leave_1_out/split_number_17/notadj_pvalues_full_genome.csv\n",
      "/carnegie/nobackup/scratch/tbellagio/gea_grene-net/leave_1_out/split_number_18/notadj_pvalues_full_genome.csv\n",
      "/carnegie/nobackup/scratch/tbellagio/gea_grene-net/leave_1_out/split_number_19/notadj_pvalues_full_genome.csv\n",
      "/carnegie/nobackup/scratch/tbellagio/gea_grene-net/leave_1_out/split_number_2/notadj_pvalues_full_genome.csv\n",
      "/carnegie/nobackup/scratch/tbellagio/gea_grene-net/leave_1_out/split_number_20/notadj_pvalues_full_genome.csv\n",
      "/carnegie/nobackup/scratch/tbellagio/gea_grene-net/leave_1_out/split_number_21/notadj_pvalues_full_genome.csv\n",
      "/carnegie/nobackup/scratch/tbellagio/gea_grene-net/leave_1_out/split_number_22/notadj_pvalues_full_genome.csv\n",
      "/carnegie/nobackup/scratch/tbellagio/gea_grene-net/leave_1_out/split_number_23/notadj_pvalues_full_genome.csv\n",
      "/carnegie/nobackup/scratch/tbellagio/gea_grene-net/leave_1_out/split_number_24/notadj_pvalues_full_genome.csv\n",
      "/carnegie/nobackup/scratch/tbellagio/gea_grene-net/leave_1_out/split_number_25/notadj_pvalues_full_genome.csv\n",
      "/carnegie/nobackup/scratch/tbellagio/gea_grene-net/leave_1_out/split_number_26/notadj_pvalues_full_genome.csv\n",
      "/carnegie/nobackup/scratch/tbellagio/gea_grene-net/leave_1_out/split_number_27/notadj_pvalues_full_genome.csv\n",
      "/carnegie/nobackup/scratch/tbellagio/gea_grene-net/leave_1_out/split_number_28/notadj_pvalues_full_genome.csv\n",
      "/carnegie/nobackup/scratch/tbellagio/gea_grene-net/leave_1_out/split_number_29/notadj_pvalues_full_genome.csv\n",
      "/carnegie/nobackup/scratch/tbellagio/gea_grene-net/leave_1_out/split_number_3/notadj_pvalues_full_genome.csv\n",
      "/carnegie/nobackup/scratch/tbellagio/gea_grene-net/leave_1_out/split_number_30/notadj_pvalues_full_genome.csv\n",
      "/carnegie/nobackup/scratch/tbellagio/gea_grene-net/leave_1_out/split_number_31/notadj_pvalues_full_genome.csv\n",
      "/carnegie/nobackup/scratch/tbellagio/gea_grene-net/leave_1_out/split_number_32/notadj_pvalues_full_genome.csv\n",
      "/carnegie/nobackup/scratch/tbellagio/gea_grene-net/leave_1_out/split_number_33/notadj_pvalues_full_genome.csv\n",
      "/carnegie/nobackup/scratch/tbellagio/gea_grene-net/leave_1_out/split_number_34/notadj_pvalues_full_genome.csv\n",
      "/carnegie/nobackup/scratch/tbellagio/gea_grene-net/leave_1_out/split_number_35/notadj_pvalues_full_genome.csv\n",
      "/carnegie/nobackup/scratch/tbellagio/gea_grene-net/leave_1_out/split_number_36/notadj_pvalues_full_genome.csv\n",
      "/carnegie/nobackup/scratch/tbellagio/gea_grene-net/leave_1_out/split_number_37/notadj_pvalues_full_genome.csv\n",
      "/carnegie/nobackup/scratch/tbellagio/gea_grene-net/leave_1_out/split_number_38/notadj_pvalues_full_genome.csv\n",
      "/carnegie/nobackup/scratch/tbellagio/gea_grene-net/leave_1_out/split_number_39/notadj_pvalues_full_genome.csv\n",
      "/carnegie/nobackup/scratch/tbellagio/gea_grene-net/leave_1_out/split_number_4/notadj_pvalues_full_genome.csv\n",
      "/carnegie/nobackup/scratch/tbellagio/gea_grene-net/leave_1_out/split_number_40/notadj_pvalues_full_genome.csv\n",
      "/carnegie/nobackup/scratch/tbellagio/gea_grene-net/leave_1_out/split_number_41/notadj_pvalues_full_genome.csv\n",
      "/carnegie/nobackup/scratch/tbellagio/gea_grene-net/leave_1_out/split_number_42/notadj_pvalues_full_genome.csv\n",
      "/carnegie/nobackup/scratch/tbellagio/gea_grene-net/leave_1_out/split_number_43/notadj_pvalues_full_genome.csv\n",
      "/carnegie/nobackup/scratch/tbellagio/gea_grene-net/leave_1_out/split_number_44/notadj_pvalues_full_genome.csv\n",
      "/carnegie/nobackup/scratch/tbellagio/gea_grene-net/leave_1_out/split_number_45/notadj_pvalues_full_genome.csv\n",
      "/carnegie/nobackup/scratch/tbellagio/gea_grene-net/leave_1_out/split_number_46/notadj_pvalues_full_genome.csv\n",
      "/carnegie/nobackup/scratch/tbellagio/gea_grene-net/leave_1_out/split_number_47/notadj_pvalues_full_genome.csv\n",
      "/carnegie/nobackup/scratch/tbellagio/gea_grene-net/leave_1_out/split_number_48/notadj_pvalues_full_genome.csv\n",
      "/carnegie/nobackup/scratch/tbellagio/gea_grene-net/leave_1_out/split_number_49/notadj_pvalues_full_genome.csv\n",
      "/carnegie/nobackup/scratch/tbellagio/gea_grene-net/leave_1_out/split_number_5/notadj_pvalues_full_genome.csv\n",
      "/carnegie/nobackup/scratch/tbellagio/gea_grene-net/leave_1_out/split_number_50/notadj_pvalues_full_genome.csv\n",
      "/carnegie/nobackup/scratch/tbellagio/gea_grene-net/leave_1_out/split_number_51/notadj_pvalues_full_genome.csv\n",
      "/carnegie/nobackup/scratch/tbellagio/gea_grene-net/leave_1_out/split_number_52/notadj_pvalues_full_genome.csv\n",
      "/carnegie/nobackup/scratch/tbellagio/gea_grene-net/leave_1_out/split_number_53/notadj_pvalues_full_genome.csv\n",
      "/carnegie/nobackup/scratch/tbellagio/gea_grene-net/leave_1_out/split_number_54/notadj_pvalues_full_genome.csv\n",
      "/carnegie/nobackup/scratch/tbellagio/gea_grene-net/leave_1_out/split_number_55/notadj_pvalues_full_genome.csv\n",
      "/carnegie/nobackup/scratch/tbellagio/gea_grene-net/leave_1_out/split_number_56/notadj_pvalues_full_genome.csv\n",
      "/carnegie/nobackup/scratch/tbellagio/gea_grene-net/leave_1_out/split_number_57/notadj_pvalues_full_genome.csv\n",
      "/carnegie/nobackup/scratch/tbellagio/gea_grene-net/leave_1_out/split_number_58/notadj_pvalues_full_genome.csv\n",
      "/carnegie/nobackup/scratch/tbellagio/gea_grene-net/leave_1_out/split_number_59/notadj_pvalues_full_genome.csv\n",
      "/carnegie/nobackup/scratch/tbellagio/gea_grene-net/leave_1_out/split_number_6/notadj_pvalues_full_genome.csv\n",
      "/carnegie/nobackup/scratch/tbellagio/gea_grene-net/leave_1_out/split_number_60/notadj_pvalues_full_genome.csv\n",
      "/carnegie/nobackup/scratch/tbellagio/gea_grene-net/leave_1_out/split_number_61/notadj_pvalues_full_genome.csv\n",
      "/carnegie/nobackup/scratch/tbellagio/gea_grene-net/leave_1_out/split_number_62/notadj_pvalues_full_genome.csv\n",
      "/carnegie/nobackup/scratch/tbellagio/gea_grene-net/leave_1_out/split_number_63/notadj_pvalues_full_genome.csv\n",
      "/carnegie/nobackup/scratch/tbellagio/gea_grene-net/leave_1_out/split_number_64/notadj_pvalues_full_genome.csv\n",
      "/carnegie/nobackup/scratch/tbellagio/gea_grene-net/leave_1_out/split_number_65/notadj_pvalues_full_genome.csv\n",
      "/carnegie/nobackup/scratch/tbellagio/gea_grene-net/leave_1_out/split_number_66/notadj_pvalues_full_genome.csv\n",
      "/carnegie/nobackup/scratch/tbellagio/gea_grene-net/leave_1_out/split_number_67/notadj_pvalues_full_genome.csv\n",
      "/carnegie/nobackup/scratch/tbellagio/gea_grene-net/leave_1_out/split_number_68/notadj_pvalues_full_genome.csv\n",
      "/carnegie/nobackup/scratch/tbellagio/gea_grene-net/leave_1_out/split_number_69/notadj_pvalues_full_genome.csv\n",
      "/carnegie/nobackup/scratch/tbellagio/gea_grene-net/leave_1_out/split_number_7/notadj_pvalues_full_genome.csv\n",
      "/carnegie/nobackup/scratch/tbellagio/gea_grene-net/leave_1_out/split_number_70/notadj_pvalues_full_genome.csv\n",
      "/carnegie/nobackup/scratch/tbellagio/gea_grene-net/leave_1_out/split_number_71/notadj_pvalues_full_genome.csv\n",
      "/carnegie/nobackup/scratch/tbellagio/gea_grene-net/leave_1_out/split_number_72/notadj_pvalues_full_genome.csv\n",
      "/carnegie/nobackup/scratch/tbellagio/gea_grene-net/leave_1_out/split_number_73/notadj_pvalues_full_genome.csv\n",
      "/carnegie/nobackup/scratch/tbellagio/gea_grene-net/leave_1_out/split_number_74/notadj_pvalues_full_genome.csv\n",
      "/carnegie/nobackup/scratch/tbellagio/gea_grene-net/leave_1_out/split_number_75/notadj_pvalues_full_genome.csv\n",
      "/carnegie/nobackup/scratch/tbellagio/gea_grene-net/leave_1_out/split_number_76/notadj_pvalues_full_genome.csv\n",
      "/carnegie/nobackup/scratch/tbellagio/gea_grene-net/leave_1_out/split_number_77/notadj_pvalues_full_genome.csv\n",
      "/carnegie/nobackup/scratch/tbellagio/gea_grene-net/leave_1_out/split_number_78/notadj_pvalues_full_genome.csv\n",
      "/carnegie/nobackup/scratch/tbellagio/gea_grene-net/leave_1_out/split_number_79/notadj_pvalues_full_genome.csv\n",
      "/carnegie/nobackup/scratch/tbellagio/gea_grene-net/leave_1_out/split_number_8/notadj_pvalues_full_genome.csv\n",
      "/carnegie/nobackup/scratch/tbellagio/gea_grene-net/leave_1_out/split_number_80/notadj_pvalues_full_genome.csv\n",
      "/carnegie/nobackup/scratch/tbellagio/gea_grene-net/leave_1_out/split_number_81/notadj_pvalues_full_genome.csv\n",
      "/carnegie/nobackup/scratch/tbellagio/gea_grene-net/leave_1_out/split_number_82/notadj_pvalues_full_genome.csv\n",
      "/carnegie/nobackup/scratch/tbellagio/gea_grene-net/leave_1_out/split_number_83/notadj_pvalues_full_genome.csv\n",
      "/carnegie/nobackup/scratch/tbellagio/gea_grene-net/leave_1_out/split_number_84/notadj_pvalues_full_genome.csv\n",
      "/carnegie/nobackup/scratch/tbellagio/gea_grene-net/leave_1_out/split_number_85/notadj_pvalues_full_genome.csv\n",
      "/carnegie/nobackup/scratch/tbellagio/gea_grene-net/leave_1_out/split_number_86/notadj_pvalues_full_genome.csv\n",
      "/carnegie/nobackup/scratch/tbellagio/gea_grene-net/leave_1_out/split_number_87/notadj_pvalues_full_genome.csv\n",
      "/carnegie/nobackup/scratch/tbellagio/gea_grene-net/leave_1_out/split_number_88/notadj_pvalues_full_genome.csv\n",
      "/carnegie/nobackup/scratch/tbellagio/gea_grene-net/leave_1_out/split_number_89/notadj_pvalues_full_genome.csv\n",
      "/carnegie/nobackup/scratch/tbellagio/gea_grene-net/leave_1_out/split_number_9/notadj_pvalues_full_genome.csv\n",
      "/carnegie/nobackup/scratch/tbellagio/gea_grene-net/leave_1_out/split_number_90/notadj_pvalues_full_genome.csv\n",
      "/carnegie/nobackup/scratch/tbellagio/gea_grene-net/leave_1_out/split_number_91/notadj_pvalues_full_genome.csv\n",
      "/carnegie/nobackup/scratch/tbellagio/gea_grene-net/leave_1_out/split_number_92/notadj_pvalues_full_genome.csv\n",
      "/carnegie/nobackup/scratch/tbellagio/gea_grene-net/leave_1_out/split_number_93/notadj_pvalues_full_genome.csv\n",
      "/carnegie/nobackup/scratch/tbellagio/gea_grene-net/leave_1_out/split_number_94/notadj_pvalues_full_genome.csv\n",
      "/carnegie/nobackup/scratch/tbellagio/gea_grene-net/leave_1_out/split_number_95/notadj_pvalues_full_genome.csv\n",
      "/carnegie/nobackup/scratch/tbellagio/gea_grene-net/leave_1_out/split_number_96/notadj_pvalues_full_genome.csv\n",
      "/carnegie/nobackup/scratch/tbellagio/gea_grene-net/leave_1_out/split_number_97/notadj_pvalues_full_genome.csv\n",
      "/carnegie/nobackup/scratch/tbellagio/gea_grene-net/leave_1_out/split_number_98/notadj_pvalues_full_genome.csv\n",
      "/carnegie/nobackup/scratch/tbellagio/gea_grene-net/leave_1_out/split_number_99/notadj_pvalues_full_genome.csv\n"
     ]
    }
   ],
   "source": [
    "for i in pd.Series(notadj_pvalues_files).sort_values():\n",
    "    print(i)"
   ]
  },
  {
   "cell_type": "code",
   "execution_count": null,
   "id": "53343643-5cb4-4752-a766-84e10d263457",
   "metadata": {},
   "outputs": [],
   "source": []
  },
  {
   "cell_type": "code",
   "execution_count": null,
   "id": "88b9d471-597c-47e3-b72e-61f29fc9e51a",
   "metadata": {},
   "outputs": [],
   "source": []
  },
  {
   "cell_type": "code",
   "execution_count": null,
   "id": "d2555df9-3207-4829-a432-c25b3296dba6",
   "metadata": {},
   "outputs": [],
   "source": []
  },
  {
   "cell_type": "code",
   "execution_count": null,
   "id": "aff898a8-8275-466b-85c4-297326eaea86",
   "metadata": {},
   "outputs": [],
   "source": []
  },
  {
   "cell_type": "code",
   "execution_count": null,
   "id": "88027e3f-7997-419b-81d0-f5c5b7c55802",
   "metadata": {},
   "outputs": [],
   "source": []
  },
  {
   "cell_type": "code",
   "execution_count": null,
   "id": "b1892964-1ea1-4db8-a036-e3802684e9b6",
   "metadata": {},
   "outputs": [],
   "source": []
  },
  {
   "cell_type": "code",
   "execution_count": null,
   "id": "e38041cc-7818-4b3d-a653-a1f9bc67c27d",
   "metadata": {},
   "outputs": [],
   "source": []
  }
 ],
 "metadata": {
  "kernelspec": {
   "display_name": "Python (pipeline_snakemake)",
   "language": "python",
   "name": "pipeline_snakemake"
  },
  "language_info": {
   "codemirror_mode": {
    "name": "ipython",
    "version": 3
   },
   "file_extension": ".py",
   "mimetype": "text/x-python",
   "name": "python",
   "nbconvert_exporter": "python",
   "pygments_lexer": "ipython3",
   "version": "3.9.16"
  }
 },
 "nbformat": 4,
 "nbformat_minor": 5
}
