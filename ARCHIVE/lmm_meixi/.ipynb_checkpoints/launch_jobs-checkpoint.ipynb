{
 "cells": [
  {
   "cell_type": "code",
   "execution_count": 1,
   "id": "ca962beb-580b-4907-b510-d915ef0a9846",
   "metadata": {},
   "outputs": [],
   "source": [
    "import numpy as np\n",
    "import pandas as pd\n",
    "import subprocess\n",
    "import random\n",
    "\n",
    "import pyreadr\n",
    "# Load the .rda file\n",
    "result = pyreadr.read_r('results/lmeres_PC1to3_bio1final_gen.rda')"
   ]
  },
  {
   "cell_type": "code",
   "execution_count": 8,
   "id": "2065cfb1-d639-48e2-bb95-a2495a5e32ee",
   "metadata": {},
   "outputs": [
    {
     "data": {
      "text/plain": [
       "['/carnegie/nobackup/scratch/tbellagio/gea_grene-net/lmm_meixi/lmm_first_gen.sh']"
      ]
     },
     "execution_count": 8,
     "metadata": {},
     "output_type": "execute_result"
    }
   ],
   "source": [
    "wd = '/carnegie/nobackup/scratch/tbellagio/gea_grene-net/lmm_meixi/'\n",
    "\n",
    "# Assuming splits_samples is defined elsewhere\n",
    "shfiles = []\n",
    "\n",
    "seed = random.randint(1, 100000000)\n",
    "file = wd + f'lmm_first_gen.sh'\n",
    "text = f'''#!/bin/bash\n",
    "#SBATCH --job-name=lmm_first_gen\n",
    "#SBATCH --time=3-00:00:00\n",
    "#SBATCH --ntasks=1\n",
    "#SBATCH --mem=120G\n",
    "#SBATCH --cpus-per-task=21  \n",
    "#SBATCH --output=result-%j.out       \n",
    "#SBATCH --error=error-%j.log         \n",
    "#SBATCH --mail-user=tbellagio@carnegiescience.edu\n",
    "#SBATCH --mail-type=FAIL\n",
    "\n",
    "echo start\n",
    "source /home/tbellagio/miniforge3/etc/profile.d/conda.sh\n",
    "\n",
    "export PATH=\"${{PATH}}:/home/username/bin\"\n",
    "\n",
    "cd '/carnegie/nobackup/scratch/tbellagio/gea_grene-net/lmm_meixi/'\n",
    "\n",
    "conda activate /home/tbellagio/miniforge3/envs/r-environment\n",
    "Rscript step1_run_lmm.R\n",
    "'''\n",
    "\n",
    "with open(file, 'w') as o:\n",
    "    o.write(text)\n",
    "shfiles.append(file)\n",
    "\n",
    "shfiles"
   ]
  },
  {
   "cell_type": "code",
   "execution_count": 9,
   "id": "5299c491-86a8-42c8-8d0f-ef127968e7cc",
   "metadata": {},
   "outputs": [
    {
     "name": "stdout",
     "output_type": "stream",
     "text": [
      "Submitted batch job 22927\n"
     ]
    },
    {
     "data": {
      "text/plain": [
       "CompletedProcess(args=['sbatch', '/carnegie/nobackup/scratch/tbellagio/gea_grene-net/lmm_meixi/lmm_first_gen.sh'], returncode=0)"
      ]
     },
     "execution_count": 9,
     "metadata": {},
     "output_type": "execute_result"
    }
   ],
   "source": [
    "subprocess.run(['sbatch', shfiles[0]])"
   ]
  },
  {
   "cell_type": "code",
   "execution_count": null,
   "id": "06f92f30-12fd-483f-b084-78471127d851",
   "metadata": {},
   "outputs": [],
   "source": []
  }
 ],
 "metadata": {
  "kernelspec": {
   "display_name": "Python (pipeline_snakemake)",
   "language": "python",
   "name": "pipeline_snakemake"
  },
  "language_info": {
   "codemirror_mode": {
    "name": "ipython",
    "version": 3
   },
   "file_extension": ".py",
   "mimetype": "text/x-python",
   "name": "python",
   "nbconvert_exporter": "python",
   "pygments_lexer": "ipython3",
   "version": "3.9.16"
  }
 },
 "nbformat": 4,
 "nbformat_minor": 5
}
