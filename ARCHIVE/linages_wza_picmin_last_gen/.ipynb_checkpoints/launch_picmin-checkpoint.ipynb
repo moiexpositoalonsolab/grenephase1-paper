{
 "cells": [
  {
   "cell_type": "code",
   "execution_count": 1,
   "id": "93d06d67-0c66-4375-9dff-097d6d4a7e3d",
   "metadata": {},
   "outputs": [],
   "source": [
    "import pandas as pd\n",
    "import os \n",
    "import random\n",
    "import subprocess\n",
    "\n",
    "import dask.dataframe as dd\n",
    "import seaborn as sns\n",
    "import numpy as np\n",
    "import statsmodels.api as sm\n",
    "import matplotlib.pyplot as plt"
   ]
  },
  {
   "cell_type": "code",
   "execution_count": 2,
   "id": "cd989c97-8a33-4936-b46d-de39f459207d",
   "metadata": {},
   "outputs": [],
   "source": [
    "path = '/carnegie/nobackup/scratch/tbellagio/gea_grene-net/linages_wza_picmin/'"
   ]
  },
  {
   "cell_type": "code",
   "execution_count": 3,
   "id": "6607f373-a3da-4a0d-929a-4756138c1d62",
   "metadata": {},
   "outputs": [
    {
     "data": {
      "text/plain": [
       "1000.0"
      ]
     },
     "execution_count": 3,
     "metadata": {},
     "output_type": "execute_result"
    }
   ],
   "source": [
    "100000/100"
   ]
  },
  {
   "cell_type": "code",
   "execution_count": 4,
   "id": "1216076c-edb2-4fbd-9dae-f84bb4d1b338",
   "metadata": {},
   "outputs": [],
   "source": [
    "reps = [1000, 10000, 100000]"
   ]
  },
  {
   "cell_type": "code",
   "execution_count": null,
   "id": "22b48308-29b8-4cfd-8984-5b2da66965cc",
   "metadata": {},
   "outputs": [],
   "source": [
    "source /home/tbellagio/miniforge3/etc/profile.d/conda.sh\n",
    "\n",
    "export PATH=\"${PATH}:/home/username/bin\"\n",
    "\n",
    "cd '/carnegie/nobackup/scratch/tbellagio/gea_grene-net/picmin'\n",
    "\n",
    "conda activate /home/tbellagio/miniforge3/envs/r-environment"
   ]
  },
  {
   "cell_type": "code",
   "execution_count": null,
   "id": "6facabfb-6024-4d33-ba17-23cb89840a04",
   "metadata": {},
   "outputs": [],
   "source": []
  },
  {
   "cell_type": "code",
   "execution_count": 5,
   "id": "f66d6bb4-7a0d-4bee-9218-db639fb98414",
   "metadata": {},
   "outputs": [
    {
     "ename": "NameError",
     "evalue": "name 'PATH' is not defined",
     "output_type": "error",
     "traceback": [
      "\u001b[0;31m---------------------------------------------------------------------------\u001b[0m",
      "\u001b[0;31mNameError\u001b[0m                                 Traceback (most recent call last)",
      "Cell \u001b[0;32mIn[5], line 20\u001b[0m\n\u001b[1;32m      7\u001b[0m     file \u001b[38;5;241m=\u001b[39m \u001b[38;5;124mf\u001b[39m\u001b[38;5;124m'\u001b[39m\u001b[38;5;124mpicmin_run\u001b[39m\u001b[38;5;132;01m{\u001b[39;00mrep\u001b[38;5;132;01m}\u001b[39;00m\u001b[38;5;124m.sh\u001b[39m\u001b[38;5;124m'\u001b[39m\n\u001b[1;32m      8\u001b[0m     cmd \u001b[38;5;241m=\u001b[39m \u001b[38;5;124mf\u001b[39m\u001b[38;5;124m'\u001b[39m\u001b[38;5;124mRscript run_pic_min.r \u001b[39m\u001b[38;5;132;01m{\u001b[39;00mrep\u001b[38;5;132;01m}\u001b[39;00m\u001b[38;5;124m'\u001b[39m\n\u001b[1;32m      9\u001b[0m     text \u001b[38;5;241m=\u001b[39m \u001b[38;5;124mf\u001b[39m\u001b[38;5;124m'''\u001b[39m\u001b[38;5;124m#!/bin/bash\u001b[39m\n\u001b[1;32m     10\u001b[0m \u001b[38;5;124m#SBATCH --job-name=wza_run\u001b[39m\u001b[38;5;132;01m{\u001b[39;00mrep\u001b[38;5;132;01m}\u001b[39;00m\n\u001b[1;32m     11\u001b[0m \u001b[38;5;124m#SBATCH --time=2-00:00:00  # Time limit set to 4 days\u001b[39m\n\u001b[1;32m     12\u001b[0m \u001b[38;5;124m#SBATCH --ntasks=1\u001b[39m\n\u001b[1;32m     13\u001b[0m \u001b[38;5;124m#SBATCH --mem-per-cpu=30gb\u001b[39m\n\u001b[1;32m     14\u001b[0m \u001b[38;5;124m#SBATCH --output=wza_run\u001b[39m\u001b[38;5;132;01m{\u001b[39;00mrep\u001b[38;5;132;01m}\u001b[39;00m\u001b[38;5;124m_%j.out\u001b[39m\n\u001b[1;32m     15\u001b[0m \u001b[38;5;124m#SBATCH --mail-user=tbellagio@carnegiescience.edu\u001b[39m\n\u001b[1;32m     16\u001b[0m \u001b[38;5;124m#SBATCH --mail-type=FAIL\u001b[39m\n\u001b[1;32m     17\u001b[0m \n\u001b[1;32m     18\u001b[0m \u001b[38;5;124msource /home/tbellagio/miniforge3/etc/profile.d/conda.sh\u001b[39m\n\u001b[1;32m     19\u001b[0m \n\u001b[0;32m---> 20\u001b[0m \u001b[38;5;124mexport PATH=\u001b[39m\u001b[38;5;124m\"\u001b[39m\u001b[38;5;124m$\u001b[39m\u001b[38;5;132;01m{\u001b[39;00mPATH\u001b[38;5;132;01m}\u001b[39;00m\u001b[38;5;124m:/home/username/bin\u001b[39m\u001b[38;5;124m\"\u001b[39m\n\u001b[1;32m     21\u001b[0m \u001b[38;5;124mcd /carnegie/nobackup/scratch/tbellagio/gea_grene-net/linages_wza_picmin\u001b[39m\n\u001b[1;32m     22\u001b[0m \u001b[38;5;124mconda activate /home/tbellagio/miniforge3/envs/r-environment\u001b[39m\n\u001b[1;32m     23\u001b[0m \u001b[38;5;132;01m{\u001b[39;00mcmd\u001b[38;5;132;01m}\u001b[39;00m\n\u001b[1;32m     24\u001b[0m \n\u001b[1;32m     25\u001b[0m \u001b[38;5;124m'''\u001b[39m\n\u001b[1;32m     26\u001b[0m     \u001b[38;5;28;01mwith\u001b[39;00m \u001b[38;5;28mopen\u001b[39m(file, \u001b[38;5;124m'\u001b[39m\u001b[38;5;124mw\u001b[39m\u001b[38;5;124m'\u001b[39m) \u001b[38;5;28;01mas\u001b[39;00m o:\n\u001b[1;32m     27\u001b[0m         o\u001b[38;5;241m.\u001b[39mwrite(\u001b[38;5;124m\"\u001b[39m\u001b[38;5;132;01m%s\u001b[39;00m\u001b[38;5;124m\"\u001b[39m \u001b[38;5;241m%\u001b[39m text)\n",
      "\u001b[0;31mNameError\u001b[0m: name 'PATH' is not defined"
     ]
    }
   ],
   "source": [
    "## create a dir \n",
    "\n",
    "# create sbatch files to submit on cedar server\n",
    "shfiles = []\n",
    "for rep in reps:\n",
    "    seed = random.randint(1,100000000)\n",
    "    file = f'picmin_run{rep}.sh'\n",
    "    cmd = f'Rscript run_pic_min.r {rep}'\n",
    "    text = f'''#!/bin/bash\n",
    "#SBATCH --job-name=wza_run{rep}\n",
    "#SBATCH --time=2-00:00:00  # Time limit set to 4 days\n",
    "#SBATCH --ntasks=1\n",
    "#SBATCH --mem-per-cpu=30gb\n",
    "#SBATCH --output=wza_run{rep}_%j.out\n",
    "#SBATCH --mail-user=tbellagio@carnegiescience.edu\n",
    "#SBATCH --mail-type=FAIL\n",
    "\n",
    "source /home/tbellagio/miniforge3/etc/profile.d/conda.sh\n",
    "export PATH=\"${{PATH}}:/home/username/bin\"\n",
    "cd /carnegie/nobackup/scratch/tbellagio/gea_grene-net/linages_wza_picmin\n",
    "conda activate /home/tbellagio/miniforge3/envs/r-environment\n",
    "{cmd}\n",
    "\n",
    "'''\n",
    "    with open(file, 'w') as o:\n",
    "        o.write(\"%s\" % text)\n",
    "    shfiles.append(file)"
   ]
  },
  {
   "cell_type": "code",
   "execution_count": null,
   "id": "db4d030f-7414-4019-9c80-6c22cdcc88ae",
   "metadata": {},
   "outputs": [],
   "source": [
    "shfiles"
   ]
  }
 ],
 "metadata": {
  "kernelspec": {
   "display_name": "Python (pipeline_snakemake)",
   "language": "python",
   "name": "pipeline_snakemake"
  },
  "language_info": {
   "codemirror_mode": {
    "name": "ipython",
    "version": 3
   },
   "file_extension": ".py",
   "mimetype": "text/x-python",
   "name": "python",
   "nbconvert_exporter": "python",
   "pygments_lexer": "ipython3",
   "version": "3.9.16"
  }
 },
 "nbformat": 4,
 "nbformat_minor": 5
}
