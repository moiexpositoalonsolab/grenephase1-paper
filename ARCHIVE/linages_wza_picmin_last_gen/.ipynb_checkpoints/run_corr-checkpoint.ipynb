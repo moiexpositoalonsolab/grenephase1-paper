{
 "cells": [
  {
   "cell_type": "code",
   "execution_count": 5,
   "id": "8eab0bf1-c4de-4b0c-ac6e-3b6a43b5a67e",
   "metadata": {},
   "outputs": [],
   "source": [
    "import numpy as np\n",
    "import pandas as pd\n",
    "import gzip\n",
    "import argparse\n",
    "import scipy.stats\n",
    "import matplotlib.pyplot as plt\n",
    "import random\n",
    "import seaborn as sns\n",
    "\n",
    "import subprocess"
   ]
  },
  {
   "cell_type": "code",
   "execution_count": null,
   "id": "55ac780a-7560-4d56-91b6-853898c044b7",
   "metadata": {},
   "outputs": [],
   "source": []
  },
  {
   "cell_type": "code",
   "execution_count": 6,
   "id": "a4591555-26df-4866-8452-bebafea0500e",
   "metadata": {},
   "outputs": [],
   "source": [
    "key_files = '/carnegie/nobackup/scratch/tbellagio/gea_grene-net/key_files/'\n",
    "\n",
    "runs = pd.read_csv(key_files + 'runs_split_linages_last_gen.csv')\n",
    "\n",
    "clim_sites_during_exp = pd.read_csv('../key_files/bioclimvars_experimental_sites_era5.csv')\n",
    "\n",
    "env = runs.reset_index().merge(clim_sites_during_exp).drop(['index'],axis=1)\n",
    "\n",
    "runs = env['run'].unique()"
   ]
  },
  {
   "cell_type": "code",
   "execution_count": 7,
   "id": "d70bce36-ca08-430e-b441-f396923fefe5",
   "metadata": {},
   "outputs": [],
   "source": [
    "#allele_counts = pd.read_csv('../key_files/allele_counts_first_gen_filtermaf05.csv')\n",
    "\n",
    "#snps_names = pd.read_csv('../key_files/var_pos_grenenet.csv')\n",
    "\n",
    "#snps_names = snps_names[snps_names['maf05filter'].notna()].reset_index(drop=True)\n",
    "\n",
    "#mask = snps_names['total_alleles05filter'].notna()\n",
    "\n",
    "#allele_counts = allele_counts[mask].drop('Unnamed: 0',axis=1)\n",
    "\n",
    "#allele_counts.to_csv('allele_counts_maf05_mincount05_firstgensamples.csv',index=None)"
   ]
  },
  {
   "cell_type": "code",
   "execution_count": 8,
   "id": "778f1ee9-e1d4-4625-8ea9-f32290552fab",
   "metadata": {},
   "outputs": [],
   "source": [
    "# merged_hapFIRE_allele_frequency.txt"
   ]
  },
  {
   "cell_type": "code",
   "execution_count": 9,
   "id": "09821c62-6014-4ba2-ab7b-2a7319d63249",
   "metadata": {},
   "outputs": [],
   "source": [
    "# merged_hapFIRE_delta_p.txt"
   ]
  },
  {
   "cell_type": "code",
   "execution_count": null,
   "id": "c7d8a795-3b73-48ab-8989-130dc5583d9a",
   "metadata": {},
   "outputs": [],
   "source": []
  },
  {
   "cell_type": "code",
   "execution_count": 10,
   "id": "a66458aa-6ac2-4e20-8b62-74a884df0c68",
   "metadata": {},
   "outputs": [],
   "source": [
    "last_gen = pd.read_csv(key_files + 'final_gen.csv')['sample_name']"
   ]
  },
  {
   "cell_type": "code",
   "execution_count": null,
   "id": "2a4c1cd5-344b-4802-805f-804c90cf3b21",
   "metadata": {},
   "outputs": [],
   "source": []
  },
  {
   "cell_type": "code",
   "execution_count": null,
   "id": "a61c0dbd-503a-4ba9-9409-1818f8f59b11",
   "metadata": {},
   "outputs": [],
   "source": []
  },
  {
   "cell_type": "code",
   "execution_count": null,
   "id": "1529a5c7-5fec-4213-8d04-6ae024ccbd3e",
   "metadata": {},
   "outputs": [],
   "source": [
    "delta_p_file = '../leave_1_out/delta_p.csv'\n",
    "delta_p = dd.read_csv(delta_p_file, sep = ',', usecols = last_gen)\n",
    "delta_p = delta_p.compute() \n",
    "delta_p = delta_p.reset_index(drop=True)"
   ]
  },
  {
   "cell_type": "code",
   "execution_count": null,
   "id": "2c0a7aab-22fa-453c-b7a2-b67ec545dc0b",
   "metadata": {},
   "outputs": [],
   "source": []
  },
  {
   "cell_type": "code",
   "execution_count": null,
   "id": "7b48b67b-0984-4283-96d5-4b0146c201d9",
   "metadata": {},
   "outputs": [],
   "source": []
  },
  {
   "cell_type": "code",
   "execution_count": 11,
   "id": "59038dc3-5398-46ed-ba59-74afb936cf33",
   "metadata": {},
   "outputs": [
    {
     "name": "stdout",
     "output_type": "stream",
     "text": [
      "1048635\n"
     ]
    }
   ],
   "source": [
    "## for THIS ALLELE FREQ \n",
    "af = pd.read_csv('../key_files/allele_freq_maf05_mincount05_lastgensamples.csv')\n",
    "print(len(af))\n",
    "for run in range(0,12):\n",
    "    samples_run = env[env['run']==run]['sample'].to_list()\n",
    "    af_ss = af[samples_run].copy()\n",
    "    p_bar = af_ss.mean(axis=1)\n",
    "    # Apply the MAF calculation using a lambda function\n",
    "    maf = p_bar.apply(lambda x: 1 - x if x > 0.5 else x)\n",
    "    maf.to_csv(f'maf_run{run}.csv')"
   ]
  },
  {
   "cell_type": "code",
   "execution_count": null,
   "id": "00b401ff-962a-47a0-a1a9-4931f5ad979b",
   "metadata": {},
   "outputs": [],
   "source": []
  },
  {
   "cell_type": "code",
   "execution_count": null,
   "id": "83216c8b-6b69-4506-a2b6-7a4bfa68e339",
   "metadata": {},
   "outputs": [],
   "source": [
    "# FOR THIS DELTA P \n",
    "#af = pd.read_csv('../key_files/delta_p_maf05_mincount05_lastgensamples.csv')"
   ]
  },
  {
   "cell_type": "code",
   "execution_count": 12,
   "id": "2b3778eb-0d3c-4bda-9069-b6865f22ce3f",
   "metadata": {},
   "outputs": [
    {
     "data": {
      "text/plain": [
       "'/carnegie/nobackup/scratch/tbellagio/gea_grene-net/linages_wza_picmin_last_gen'"
      ]
     },
     "execution_count": 12,
     "metadata": {},
     "output_type": "execute_result"
    }
   ],
   "source": [
    "pwd -P"
   ]
  },
  {
   "cell_type": "code",
   "execution_count": 13,
   "id": "a76f0983-3214-46b3-908e-e3f3c2f9e3f3",
   "metadata": {},
   "outputs": [],
   "source": [
    "# create sbatch files to submit on cedar server\n",
    "shfiles = []\n",
    "for run in range(0,12):\n",
    "    seed = random.randint(1,100000000)\n",
    "    file = f'kendall_tau_run{run}.sh'\n",
    "    cmd = f'python run_kendall_tau.py {run}'\n",
    "    text = f'''#!/bin/bash\n",
    "#SBATCH --job-name=kendall_tau_run{run}\n",
    "#SBATCH --time=2:00:00  # Time limit set to 4 days\n",
    "#SBATCH --ntasks=1\n",
    "#SBATCH --mem-per-cpu=30gb\n",
    "#SBATCH --output=kendall_tau_{run}_%j.out\n",
    "#SBATCH --mail-user=tbellagio@carnegiescience.edu\n",
    "#SBATCH --mail-type=FAIL\n",
    "\n",
    "module load python/3.11_conda\n",
    "conda activate /home/tbellagio/miniforge3/envs/pipeline_snakemake\n",
    "export LD_LIBRARY_PATH=\"/home/tbellagio/miniforge3/envs/run_baypass/lib:$LD_LIBRARY_PATH\"\n",
    "cd /carnegie/nobackup/scratch/tbellagio/gea_grene-net/linages_wza_picmin_last_gen\n",
    "{cmd}\n",
    "\n",
    "'''\n",
    "    with open(file, 'w') as o:\n",
    "        o.write(\"%s\" % text)\n",
    "    shfiles.append(file)"
   ]
  },
  {
   "cell_type": "code",
   "execution_count": 14,
   "id": "784c54e5-3478-4ef2-a366-4ea8a9f9725f",
   "metadata": {
    "scrolled": true
   },
   "outputs": [
    {
     "data": {
      "text/plain": [
       "['kendall_tau_run0.sh',\n",
       " 'kendall_tau_run1.sh',\n",
       " 'kendall_tau_run2.sh',\n",
       " 'kendall_tau_run3.sh',\n",
       " 'kendall_tau_run4.sh',\n",
       " 'kendall_tau_run5.sh',\n",
       " 'kendall_tau_run6.sh',\n",
       " 'kendall_tau_run7.sh',\n",
       " 'kendall_tau_run8.sh',\n",
       " 'kendall_tau_run9.sh',\n",
       " 'kendall_tau_run10.sh',\n",
       " 'kendall_tau_run11.sh',\n",
       " 'kendall_tau_run12.sh']"
      ]
     },
     "execution_count": 14,
     "metadata": {},
     "output_type": "execute_result"
    }
   ],
   "source": [
    "shfiles"
   ]
  },
  {
   "cell_type": "code",
   "execution_count": 22,
   "id": "bb5d31ac-2f3c-4464-9e7b-20c8cb8ab9ac",
   "metadata": {},
   "outputs": [
    {
     "name": "stdout",
     "output_type": "stream",
     "text": [
      "Submitted batch job 30352\n"
     ]
    },
    {
     "data": {
      "text/plain": [
       "CompletedProcess(args=['sbatch', 'kendall_tau_run0.sh'], returncode=0)"
      ]
     },
     "execution_count": 22,
     "metadata": {},
     "output_type": "execute_result"
    }
   ],
   "source": [
    "subprocess.run([\"sbatch\", shfiles[0]], check=True)"
   ]
  },
  {
   "cell_type": "code",
   "execution_count": 15,
   "id": "29863e31-bbc6-4fb4-89f4-ec30fa9c2f22",
   "metadata": {},
   "outputs": [
    {
     "name": "stdout",
     "output_type": "stream",
     "text": [
      "Submitted batch job 30479\n",
      "Submitted batch job 30480\n",
      "Submitted batch job 30481\n",
      "Submitted batch job 30482\n",
      "Submitted batch job 30483\n",
      "Submitted batch job 30484\n",
      "Submitted batch job 30485\n",
      "Submitted batch job 30486\n",
      "Submitted batch job 30487\n",
      "Submitted batch job 30488\n",
      "Submitted batch job 30489\n",
      "Submitted batch job 30490\n",
      "Submitted batch job 30491\n"
     ]
    }
   ],
   "source": [
    "## now run the shfiles\n",
    "for shfile in shfiles:\n",
    "    # Submit each sbatch script to the SLURM scheduler\n",
    "    subprocess.run([\"sbatch\", shfile], check=True)"
   ]
  },
  {
   "cell_type": "code",
   "execution_count": null,
   "id": "a0ab33d2-e05b-49b0-8fdc-9cf5b314e4c3",
   "metadata": {},
   "outputs": [],
   "source": []
  },
  {
   "cell_type": "code",
   "execution_count": 33,
   "id": "538ca9cc-8dfe-4eec-af8e-486641a16358",
   "metadata": {},
   "outputs": [
    {
     "data": {
      "text/html": [
       "<div>\n",
       "<style scoped>\n",
       "    .dataframe tbody tr th:only-of-type {\n",
       "        vertical-align: middle;\n",
       "    }\n",
       "\n",
       "    .dataframe tbody tr th {\n",
       "        vertical-align: top;\n",
       "    }\n",
       "\n",
       "    .dataframe thead th {\n",
       "        text-align: right;\n",
       "    }\n",
       "</style>\n",
       "<table border=\"1\" class=\"dataframe\">\n",
       "  <thead>\n",
       "    <tr style=\"text-align: right;\">\n",
       "      <th></th>\n",
       "      <th>run</th>\n",
       "      <th>sample</th>\n",
       "      <th>site</th>\n",
       "      <th>plot</th>\n",
       "    </tr>\n",
       "  </thead>\n",
       "  <tbody>\n",
       "    <tr>\n",
       "      <th>0</th>\n",
       "      <td>0</td>\n",
       "      <td>1_2_2</td>\n",
       "      <td>1</td>\n",
       "      <td>2</td>\n",
       "    </tr>\n",
       "    <tr>\n",
       "      <th>1</th>\n",
       "      <td>0</td>\n",
       "      <td>2_2_7</td>\n",
       "      <td>2</td>\n",
       "      <td>7</td>\n",
       "    </tr>\n",
       "    <tr>\n",
       "      <th>2</th>\n",
       "      <td>0</td>\n",
       "      <td>4_3_5</td>\n",
       "      <td>4</td>\n",
       "      <td>5</td>\n",
       "    </tr>\n",
       "    <tr>\n",
       "      <th>3</th>\n",
       "      <td>0</td>\n",
       "      <td>5_3_2</td>\n",
       "      <td>5</td>\n",
       "      <td>2</td>\n",
       "    </tr>\n",
       "    <tr>\n",
       "      <th>4</th>\n",
       "      <td>0</td>\n",
       "      <td>6_2_3</td>\n",
       "      <td>6</td>\n",
       "      <td>3</td>\n",
       "    </tr>\n",
       "    <tr>\n",
       "      <th>...</th>\n",
       "      <td>...</td>\n",
       "      <td>...</td>\n",
       "      <td>...</td>\n",
       "      <td>...</td>\n",
       "    </tr>\n",
       "    <tr>\n",
       "      <th>350</th>\n",
       "      <td>11</td>\n",
       "      <td>53_3_6</td>\n",
       "      <td>53</td>\n",
       "      <td>6</td>\n",
       "    </tr>\n",
       "    <tr>\n",
       "      <th>351</th>\n",
       "      <td>11</td>\n",
       "      <td>54_3_10</td>\n",
       "      <td>54</td>\n",
       "      <td>10</td>\n",
       "    </tr>\n",
       "    <tr>\n",
       "      <th>352</th>\n",
       "      <td>11</td>\n",
       "      <td>55_1_7</td>\n",
       "      <td>55</td>\n",
       "      <td>7</td>\n",
       "    </tr>\n",
       "    <tr>\n",
       "      <th>353</th>\n",
       "      <td>11</td>\n",
       "      <td>57_3_7</td>\n",
       "      <td>57</td>\n",
       "      <td>7</td>\n",
       "    </tr>\n",
       "    <tr>\n",
       "      <th>354</th>\n",
       "      <td>11</td>\n",
       "      <td>60_1_7</td>\n",
       "      <td>60</td>\n",
       "      <td>7</td>\n",
       "    </tr>\n",
       "  </tbody>\n",
       "</table>\n",
       "<p>355 rows × 4 columns</p>\n",
       "</div>"
      ],
      "text/plain": [
       "     run   sample  site  plot\n",
       "0      0    1_2_2     1     2\n",
       "1      0    2_2_7     2     7\n",
       "2      0    4_3_5     4     5\n",
       "3      0    5_3_2     5     2\n",
       "4      0    6_2_3     6     3\n",
       "..   ...      ...   ...   ...\n",
       "350   11   53_3_6    53     6\n",
       "351   11  54_3_10    54    10\n",
       "352   11   55_1_7    55     7\n",
       "353   11   57_3_7    57     7\n",
       "354   11   60_1_7    60     7\n",
       "\n",
       "[355 rows x 4 columns]"
      ]
     },
     "execution_count": 33,
     "metadata": {},
     "output_type": "execute_result"
    }
   ],
   "source": [
    "pd.read_csv(key_files + 'runs_split_linages_last_gen.csv')"
   ]
  },
  {
   "cell_type": "code",
   "execution_count": 31,
   "id": "74b0787d-c5da-4a6f-84fb-5cb905b01275",
   "metadata": {},
   "outputs": [],
   "source": [
    "# Parse arguments\n",
    "\n",
    "run = 11\n",
    "\n",
    "key_files = '/carnegie/nobackup/scratch/tbellagio/gea_grene-net/key_files/'\n",
    "runs = pd.read_csv(key_files + 'runs_split_linages_last_gen.csv')\n",
    "clim_sites_during_exp = pd.read_csv('../key_files/bioclimvars_experimental_sites_era5.csv')\n",
    "env = runs.reset_index().merge(clim_sites_during_exp).drop(['index'],axis=1)\n",
    "runs = env['run'].unique()"
   ]
  },
  {
   "cell_type": "code",
   "execution_count": 32,
   "id": "4ac6fc04-1514-40cf-80c3-a9f8eaf07551",
   "metadata": {},
   "outputs": [
    {
     "data": {
      "text/plain": [
       "array([ 0,  1,  2,  3,  4,  5,  6,  7,  8,  9, 10, 11])"
      ]
     },
     "execution_count": 32,
     "metadata": {},
     "output_type": "execute_result"
    }
   ],
   "source": [
    "runs"
   ]
  },
  {
   "cell_type": "code",
   "execution_count": null,
   "id": "490e61fc-5c2b-40a5-9a3b-b7dba819cd41",
   "metadata": {},
   "outputs": [],
   "source": []
  },
  {
   "cell_type": "code",
   "execution_count": 39,
   "id": "02fa5f51-2229-4fee-b511-9eff386855e4",
   "metadata": {},
   "outputs": [
    {
     "name": "stdout",
     "output_type": "stream",
     "text": [
      "12\n"
     ]
    }
   ],
   "source": [
    "\n",
    "run = 12\n",
    "\n",
    "key_files = '/carnegie/nobackup/scratch/tbellagio/gea_grene-net/key_files/'\n",
    "runs = pd.read_csv(key_files + 'runs_split_linages_last_gen.csv')\n",
    "clim_sites_during_exp = pd.read_csv('../key_files/bioclimvars_experimental_sites_era5.csv')\n",
    "env = runs.reset_index().merge(clim_sites_during_exp).drop(['index'],axis=1)\n",
    "runs = env['run'].unique()\n",
    "\n",
    "print(run)\n",
    "\n",
    "samples_run = env[env['run']==run]['sample'].to_list()\n",
    "env_run = env[env['run']==run]['bio1'].values\n"
   ]
  },
  {
   "cell_type": "code",
   "execution_count": 40,
   "id": "6ff8393a-c5d2-4093-8b8e-4c1dcff350f8",
   "metadata": {},
   "outputs": [
    {
     "data": {
      "text/plain": [
       "[]"
      ]
     },
     "execution_count": 40,
     "metadata": {},
     "output_type": "execute_result"
    }
   ],
   "source": [
    "samples_run"
   ]
  },
  {
   "cell_type": "code",
   "execution_count": null,
   "id": "b19f2136-d791-415a-acf8-89a17a6244b9",
   "metadata": {},
   "outputs": [],
   "source": []
  },
  {
   "cell_type": "code",
   "execution_count": null,
   "id": "29c8770d-2f2f-4922-a744-d0da6732d30c",
   "metadata": {},
   "outputs": [],
   "source": []
  },
  {
   "cell_type": "code",
   "execution_count": null,
   "id": "0a86c2e8-3833-492d-8285-d6f1ac121f98",
   "metadata": {},
   "outputs": [],
   "source": []
  },
  {
   "cell_type": "code",
   "execution_count": null,
   "id": "fc9924d7-d776-40ec-95dc-339dfdd7b5c6",
   "metadata": {},
   "outputs": [],
   "source": []
  },
  {
   "cell_type": "code",
   "execution_count": null,
   "id": "f1aa358b-251f-45da-98e1-1fa597a936aa",
   "metadata": {},
   "outputs": [],
   "source": []
  },
  {
   "cell_type": "code",
   "execution_count": null,
   "id": "2a71a0a3-8ae2-4e63-b8fe-264e41a170a4",
   "metadata": {},
   "outputs": [],
   "source": [
    "af = pd.read_csv('../key_files/delta_p_maf05_mincount05_lastgensamples.csv', usecols = samples_run)\n",
    "\n",
    "af_ss = af[samples_run].copy()\n"
   ]
  },
  {
   "cell_type": "code",
   "execution_count": null,
   "id": "a326df40-9e9e-4161-94b2-ea1993459640",
   "metadata": {},
   "outputs": [],
   "source": []
  },
  {
   "cell_type": "code",
   "execution_count": null,
   "id": "228ff24b-c10d-4a5f-8903-8aa6eb2a194c",
   "metadata": {},
   "outputs": [],
   "source": [
    "kendall = {}\n",
    "# Iterate through each row in af\n",
    "for index, row in af_ss.iterrows():\n",
    "    # Apply kendalltau to the current row and bio1\n",
    "    geno_k_tau, geno_k_tau_p_value = scipy.stats.kendalltau(env_run, row)\n",
    "    kendall[index] = [geno_k_tau,geno_k_tau_p_value]\n",
    "    \n",
    "kendall = pd.DataFrame(kendall).T\n",
    "kendall.columns = [\"K_tau\",\"K_tau_p\"]\n",
    "kendall.to_csv(f'kendall_DELTAP_{run}.csv',index=False)"
   ]
  },
  {
   "cell_type": "code",
   "execution_count": null,
   "id": "a72c2922-3fa7-41f5-bebb-20dde7cd98a9",
   "metadata": {},
   "outputs": [],
   "source": []
  },
  {
   "cell_type": "code",
   "execution_count": null,
   "id": "76006a3c-7069-46fa-aa2a-9a4328f81057",
   "metadata": {},
   "outputs": [],
   "source": []
  },
  {
   "cell_type": "code",
   "execution_count": null,
   "id": "7a51b8c1-8bcb-4b69-8d14-37187b2cada1",
   "metadata": {},
   "outputs": [],
   "source": []
  },
  {
   "cell_type": "code",
   "execution_count": null,
   "id": "ba94778e-5c1b-4d03-88ab-cac078fa64ab",
   "metadata": {},
   "outputs": [],
   "source": []
  },
  {
   "cell_type": "code",
   "execution_count": 27,
   "id": "83aed1c1-d033-453c-aada-9689e311ad19",
   "metadata": {},
   "outputs": [
    {
     "data": {
      "text/plain": [
       "array([ 0,  1,  2,  3,  4,  5,  6,  7,  8,  9, 10, 11])"
      ]
     },
     "execution_count": 27,
     "metadata": {},
     "output_type": "execute_result"
    }
   ],
   "source": [
    "runs"
   ]
  },
  {
   "cell_type": "code",
   "execution_count": 28,
   "id": "fe3aa527-3210-4efe-9493-cd5c261dced7",
   "metadata": {},
   "outputs": [
    {
     "data": {
      "text/plain": [
       "array([], dtype=float64)"
      ]
     },
     "execution_count": 28,
     "metadata": {},
     "output_type": "execute_result"
    }
   ],
   "source": [
    "env_run"
   ]
  },
  {
   "cell_type": "code",
   "execution_count": null,
   "id": "834a5aa7-1b4a-4859-bd61-49e68ff6f83d",
   "metadata": {},
   "outputs": [],
   "source": []
  },
  {
   "cell_type": "code",
   "execution_count": 25,
   "id": "54167b34-17ad-45a7-a897-e3c26ee7949c",
   "metadata": {},
   "outputs": [
    {
     "data": {
      "text/plain": [
       "array([ 0,  1,  2,  3,  4,  5,  6,  7,  8,  9, 10, 11])"
      ]
     },
     "execution_count": 25,
     "metadata": {},
     "output_type": "execute_result"
    }
   ],
   "source": [
    "runs"
   ]
  },
  {
   "cell_type": "code",
   "execution_count": null,
   "id": "c8ca5f25-adca-4474-88c0-20ee4ebc9f04",
   "metadata": {},
   "outputs": [],
   "source": []
  },
  {
   "cell_type": "code",
   "execution_count": 23,
   "id": "21500fec-9abb-4362-8817-88d0aa429f57",
   "metadata": {},
   "outputs": [
    {
     "ename": "AttributeError",
     "evalue": "'numpy.ndarray' object has no attribute 'reset_index'",
     "output_type": "error",
     "traceback": [
      "\u001b[0;31m---------------------------------------------------------------------------\u001b[0m",
      "\u001b[0;31mAttributeError\u001b[0m                            Traceback (most recent call last)",
      "Cell \u001b[0;32mIn[23], line 1\u001b[0m\n\u001b[0;32m----> 1\u001b[0m \u001b[43mruns\u001b[49m\u001b[38;5;241;43m.\u001b[39;49m\u001b[43mreset_index\u001b[49m()\n",
      "\u001b[0;31mAttributeError\u001b[0m: 'numpy.ndarray' object has no attribute 'reset_index'"
     ]
    }
   ],
   "source": [
    "runs.reset_index()"
   ]
  },
  {
   "cell_type": "code",
   "execution_count": null,
   "id": "0947e46a-60bd-4d82-9978-7ea4c6b08b3a",
   "metadata": {},
   "outputs": [],
   "source": []
  },
  {
   "cell_type": "code",
   "execution_count": 19,
   "id": "7fb7139f-3806-45c1-8f7b-a643230da61e",
   "metadata": {},
   "outputs": [
    {
     "data": {
      "text/plain": [
       "array([ 0,  1,  2,  3,  4,  5,  6,  7,  8,  9, 10, 11])"
      ]
     },
     "execution_count": 19,
     "metadata": {},
     "output_type": "execute_result"
    }
   ],
   "source": [
    "runs"
   ]
  },
  {
   "cell_type": "code",
   "execution_count": null,
   "id": "746a0bcd-f523-42d1-a27d-87a125d671af",
   "metadata": {},
   "outputs": [],
   "source": []
  },
  {
   "cell_type": "code",
   "execution_count": 17,
   "id": "f35874eb-2f0a-411a-9c17-3f1ceebca1a1",
   "metadata": {},
   "outputs": [
    {
     "name": "stdout",
     "output_type": "stream",
     "text": [
      "12\n"
     ]
    }
   ],
   "source": [
    "print(run)\n",
    "\n",
    "samples_run = env[env['run']==run]['sample'].to_list()\n",
    "env_run = env[env['run']==run]['bio1'].values"
   ]
  },
  {
   "cell_type": "code",
   "execution_count": 18,
   "id": "444a3c44-03f9-42ed-9d98-1612b054a11f",
   "metadata": {},
   "outputs": [
    {
     "data": {
      "text/plain": [
       "[]"
      ]
     },
     "execution_count": 18,
     "metadata": {},
     "output_type": "execute_result"
    }
   ],
   "source": [
    "samples_run"
   ]
  },
  {
   "cell_type": "code",
   "execution_count": null,
   "id": "2693f7c0-3ce2-4934-9db1-ede6085bdf2f",
   "metadata": {},
   "outputs": [],
   "source": []
  },
  {
   "cell_type": "code",
   "execution_count": null,
   "id": "cf7a823e-1bd4-42d2-b6cf-c66e67175311",
   "metadata": {},
   "outputs": [],
   "source": [
    "\n",
    "\n",
    "af = pd.read_csv('../key_files/delta_p_maf05_mincount05_lastgensamples.csv', usecols = samples_run)\n",
    "\n",
    "af_ss = af[samples_run].copy()\n",
    "\n",
    "kendall = {}\n",
    "# Iterate through each row in af\n",
    "for index, row in af_ss.iterrows():\n",
    "    # Apply kendalltau to the current row and bio1\n",
    "    geno_k_tau, geno_k_tau_p_value = scipy.stats.kendalltau(env_run, row)\n",
    "    kendall[index] = [geno_k_tau,geno_k_tau_p_value]\n",
    "    \n",
    "kendall = pd.DataFrame(kendall).T\n",
    "kendall.columns = [\"K_tau\",\"K_tau_p\"]\n",
    "kendall.to_csv(f'kendall_DELTAP_{run}.csv',index=False)"
   ]
  },
  {
   "cell_type": "code",
   "execution_count": null,
   "id": "af259bb5-cb2c-429e-9767-cbc887bbe56b",
   "metadata": {},
   "outputs": [],
   "source": []
  },
  {
   "cell_type": "code",
   "execution_count": null,
   "id": "a3be837a-1be0-476f-93a0-e53d051e0493",
   "metadata": {},
   "outputs": [],
   "source": []
  },
  {
   "cell_type": "code",
   "execution_count": null,
   "id": "1ede2bf2-6b65-4be3-b7c1-20cf8ad2819a",
   "metadata": {},
   "outputs": [],
   "source": []
  },
  {
   "cell_type": "code",
   "execution_count": null,
   "id": "a0f30a6f-0b83-4d74-97ea-17703177eb48",
   "metadata": {},
   "outputs": [],
   "source": []
  },
  {
   "cell_type": "code",
   "execution_count": null,
   "id": "8d2a6704-4c25-46f4-acce-75d3a15cebc3",
   "metadata": {},
   "outputs": [],
   "source": []
  },
  {
   "cell_type": "code",
   "execution_count": 32,
   "id": "1eed66cd-6879-4a2c-991f-913f88524f64",
   "metadata": {},
   "outputs": [
    {
     "name": "stdout",
     "output_type": "stream",
     "text": [
      "0\n",
      "1\n",
      "2\n"
     ]
    },
    {
     "name": "stderr",
     "output_type": "stream",
     "text": [
      "\n",
      "KeyboardInterrupt\n",
      "\n"
     ]
    }
   ],
   "source": [
    "for run in [12]:\n",
    "    print(run)\n",
    "    samples_run = env[env['run']==run]['sample'].to_list()\n",
    "    env_run = env[env['run']==run]['bio1'].values\n",
    "    af_ss = af[samples_run].copy()\n",
    "    kendall = {}\n",
    "    # Iterate through each row in af\n",
    "    for index, row in af_ss.iterrows():\n",
    "        # Apply kendalltau to the current row and bio1\n",
    "        geno_k_tau, geno_k_tau_p_value = scipy.stats.kendalltau(env_run, row)\n",
    "        kendall[index] = [geno_k_tau,geno_k_tau_p_value]\n",
    "    kendall = pd.DataFrame(kendall).T\n",
    "    kendall.columns = [\"K_tau\",\"K_tau_p\"]\n",
    "    kendall.to_csv(f'kendall_DELTAP_{run}.csv',index=False)"
   ]
  },
  {
   "cell_type": "code",
   "execution_count": 54,
   "id": "c72b68cb-19ca-4e49-8c1f-14378eb03636",
   "metadata": {},
   "outputs": [],
   "source": [
    "af = pd.read_csv('../key_files/delta_p_maf05_mincount05_firstgensamples.csv', usecols = samples_run, nrows=10)"
   ]
  },
  {
   "cell_type": "code",
   "execution_count": 55,
   "id": "c5a55635-6bbd-4398-b005-6ff23ad49bfd",
   "metadata": {},
   "outputs": [],
   "source": [
    "af_ss = af[samples_run].copy()"
   ]
  },
  {
   "cell_type": "code",
   "execution_count": 56,
   "id": "6c8b6fe2-c21c-48e5-a056-d1490e711a1a",
   "metadata": {},
   "outputs": [
    {
     "data": {
      "text/html": [
       "<div>\n",
       "<style scoped>\n",
       "    .dataframe tbody tr th:only-of-type {\n",
       "        vertical-align: middle;\n",
       "    }\n",
       "\n",
       "    .dataframe tbody tr th {\n",
       "        vertical-align: top;\n",
       "    }\n",
       "\n",
       "    .dataframe thead th {\n",
       "        text-align: right;\n",
       "    }\n",
       "</style>\n",
       "<table border=\"1\" class=\"dataframe\">\n",
       "  <thead>\n",
       "    <tr style=\"text-align: right;\">\n",
       "      <th></th>\n",
       "      <th>1_1_8</th>\n",
       "      <th>10_1_9</th>\n",
       "      <th>11_1_7</th>\n",
       "      <th>12_1_9</th>\n",
       "      <th>13_1_6</th>\n",
       "      <th>2_1_7</th>\n",
       "      <th>23_1_11</th>\n",
       "      <th>24_1_12</th>\n",
       "      <th>25_1_6</th>\n",
       "      <th>26_1_2</th>\n",
       "      <th>...</th>\n",
       "      <th>49_1_7</th>\n",
       "      <th>5_1_8</th>\n",
       "      <th>52_1_11</th>\n",
       "      <th>53_1_12</th>\n",
       "      <th>54_1_9</th>\n",
       "      <th>55_1_6</th>\n",
       "      <th>57_1_3</th>\n",
       "      <th>6_1_11</th>\n",
       "      <th>60_1_1</th>\n",
       "      <th>9_1_1</th>\n",
       "    </tr>\n",
       "  </thead>\n",
       "  <tbody>\n",
       "    <tr>\n",
       "      <th>0</th>\n",
       "      <td>0.007105</td>\n",
       "      <td>-0.048467</td>\n",
       "      <td>-0.132920</td>\n",
       "      <td>0.206013</td>\n",
       "      <td>0.183493</td>\n",
       "      <td>0.082851</td>\n",
       "      <td>-0.003171</td>\n",
       "      <td>-0.006339</td>\n",
       "      <td>0.121016</td>\n",
       "      <td>-0.161171</td>\n",
       "      <td>...</td>\n",
       "      <td>0.063274</td>\n",
       "      <td>-0.028778</td>\n",
       "      <td>0.169962</td>\n",
       "      <td>0.727954</td>\n",
       "      <td>-0.024410</td>\n",
       "      <td>0.037969</td>\n",
       "      <td>0.007167</td>\n",
       "      <td>0.033719</td>\n",
       "      <td>0.221195</td>\n",
       "      <td>-0.015708</td>\n",
       "    </tr>\n",
       "    <tr>\n",
       "      <th>1</th>\n",
       "      <td>0.005665</td>\n",
       "      <td>-0.097982</td>\n",
       "      <td>0.184663</td>\n",
       "      <td>0.024100</td>\n",
       "      <td>-0.093807</td>\n",
       "      <td>-0.025687</td>\n",
       "      <td>0.002623</td>\n",
       "      <td>-0.028107</td>\n",
       "      <td>-0.016944</td>\n",
       "      <td>0.060036</td>\n",
       "      <td>...</td>\n",
       "      <td>0.023834</td>\n",
       "      <td>-0.009554</td>\n",
       "      <td>0.033519</td>\n",
       "      <td>-0.099380</td>\n",
       "      <td>0.057584</td>\n",
       "      <td>0.011132</td>\n",
       "      <td>-0.031716</td>\n",
       "      <td>0.055119</td>\n",
       "      <td>-0.090333</td>\n",
       "      <td>0.001486</td>\n",
       "    </tr>\n",
       "    <tr>\n",
       "      <th>2</th>\n",
       "      <td>0.004113</td>\n",
       "      <td>-0.095278</td>\n",
       "      <td>0.187210</td>\n",
       "      <td>0.026804</td>\n",
       "      <td>-0.091103</td>\n",
       "      <td>-0.022983</td>\n",
       "      <td>0.004929</td>\n",
       "      <td>-0.025530</td>\n",
       "      <td>-0.014240</td>\n",
       "      <td>0.062474</td>\n",
       "      <td>...</td>\n",
       "      <td>0.026264</td>\n",
       "      <td>-0.007193</td>\n",
       "      <td>0.036223</td>\n",
       "      <td>-0.096676</td>\n",
       "      <td>0.059906</td>\n",
       "      <td>0.003545</td>\n",
       "      <td>-0.029012</td>\n",
       "      <td>0.057650</td>\n",
       "      <td>-0.087893</td>\n",
       "      <td>0.003978</td>\n",
       "    </tr>\n",
       "    <tr>\n",
       "      <th>3</th>\n",
       "      <td>0.030958</td>\n",
       "      <td>0.020518</td>\n",
       "      <td>-0.211509</td>\n",
       "      <td>0.167419</td>\n",
       "      <td>0.078996</td>\n",
       "      <td>0.029197</td>\n",
       "      <td>-0.019001</td>\n",
       "      <td>0.033333</td>\n",
       "      <td>0.068475</td>\n",
       "      <td>-0.210968</td>\n",
       "      <td>...</td>\n",
       "      <td>0.051083</td>\n",
       "      <td>-0.039650</td>\n",
       "      <td>0.074524</td>\n",
       "      <td>0.619158</td>\n",
       "      <td>-0.023516</td>\n",
       "      <td>0.026820</td>\n",
       "      <td>-0.073450</td>\n",
       "      <td>-0.006282</td>\n",
       "      <td>0.122416</td>\n",
       "      <td>-0.016525</td>\n",
       "    </tr>\n",
       "    <tr>\n",
       "      <th>4</th>\n",
       "      <td>0.075867</td>\n",
       "      <td>-0.229121</td>\n",
       "      <td>0.057651</td>\n",
       "      <td>-0.031202</td>\n",
       "      <td>0.204797</td>\n",
       "      <td>-0.080481</td>\n",
       "      <td>-0.017389</td>\n",
       "      <td>0.088022</td>\n",
       "      <td>0.017001</td>\n",
       "      <td>0.090557</td>\n",
       "      <td>...</td>\n",
       "      <td>0.079356</td>\n",
       "      <td>0.036886</td>\n",
       "      <td>0.162420</td>\n",
       "      <td>0.215891</td>\n",
       "      <td>0.097054</td>\n",
       "      <td>0.108937</td>\n",
       "      <td>0.117835</td>\n",
       "      <td>0.063341</td>\n",
       "      <td>0.118577</td>\n",
       "      <td>-0.012482</td>\n",
       "    </tr>\n",
       "    <tr>\n",
       "      <th>5</th>\n",
       "      <td>0.103911</td>\n",
       "      <td>-0.067334</td>\n",
       "      <td>0.056114</td>\n",
       "      <td>0.000291</td>\n",
       "      <td>-0.066308</td>\n",
       "      <td>-0.034816</td>\n",
       "      <td>-0.026236</td>\n",
       "      <td>0.045285</td>\n",
       "      <td>0.065573</td>\n",
       "      <td>0.052184</td>\n",
       "      <td>...</td>\n",
       "      <td>-0.000661</td>\n",
       "      <td>0.065156</td>\n",
       "      <td>0.052499</td>\n",
       "      <td>-0.068919</td>\n",
       "      <td>0.060600</td>\n",
       "      <td>0.083454</td>\n",
       "      <td>-0.046304</td>\n",
       "      <td>0.042981</td>\n",
       "      <td>0.098953</td>\n",
       "      <td>0.060130</td>\n",
       "    </tr>\n",
       "    <tr>\n",
       "      <th>6</th>\n",
       "      <td>0.007105</td>\n",
       "      <td>-0.048467</td>\n",
       "      <td>-0.132920</td>\n",
       "      <td>0.206013</td>\n",
       "      <td>0.183493</td>\n",
       "      <td>0.082851</td>\n",
       "      <td>-0.003171</td>\n",
       "      <td>-0.006339</td>\n",
       "      <td>0.121016</td>\n",
       "      <td>-0.161171</td>\n",
       "      <td>...</td>\n",
       "      <td>0.063274</td>\n",
       "      <td>-0.028778</td>\n",
       "      <td>0.169962</td>\n",
       "      <td>0.727954</td>\n",
       "      <td>-0.024410</td>\n",
       "      <td>0.037969</td>\n",
       "      <td>0.007167</td>\n",
       "      <td>0.033719</td>\n",
       "      <td>0.221195</td>\n",
       "      <td>-0.015708</td>\n",
       "    </tr>\n",
       "    <tr>\n",
       "      <th>7</th>\n",
       "      <td>0.029823</td>\n",
       "      <td>-0.064789</td>\n",
       "      <td>-0.144262</td>\n",
       "      <td>0.189566</td>\n",
       "      <td>0.167180</td>\n",
       "      <td>0.067947</td>\n",
       "      <td>-0.013692</td>\n",
       "      <td>-0.020465</td>\n",
       "      <td>0.121671</td>\n",
       "      <td>-0.128543</td>\n",
       "      <td>...</td>\n",
       "      <td>0.082654</td>\n",
       "      <td>-0.008671</td>\n",
       "      <td>0.154597</td>\n",
       "      <td>0.711328</td>\n",
       "      <td>-0.030865</td>\n",
       "      <td>0.031077</td>\n",
       "      <td>-0.009014</td>\n",
       "      <td>0.031409</td>\n",
       "      <td>0.229001</td>\n",
       "      <td>-0.026878</td>\n",
       "    </tr>\n",
       "    <tr>\n",
       "      <th>8</th>\n",
       "      <td>0.066766</td>\n",
       "      <td>-0.129291</td>\n",
       "      <td>0.037256</td>\n",
       "      <td>-0.002591</td>\n",
       "      <td>0.167567</td>\n",
       "      <td>-0.054221</td>\n",
       "      <td>-0.004023</td>\n",
       "      <td>0.021839</td>\n",
       "      <td>0.091519</td>\n",
       "      <td>0.055588</td>\n",
       "      <td>...</td>\n",
       "      <td>0.094327</td>\n",
       "      <td>-0.010358</td>\n",
       "      <td>0.073029</td>\n",
       "      <td>0.315794</td>\n",
       "      <td>0.087000</td>\n",
       "      <td>0.073821</td>\n",
       "      <td>-0.123156</td>\n",
       "      <td>0.064795</td>\n",
       "      <td>0.053547</td>\n",
       "      <td>-0.003687</td>\n",
       "    </tr>\n",
       "    <tr>\n",
       "      <th>9</th>\n",
       "      <td>0.028865</td>\n",
       "      <td>-0.016743</td>\n",
       "      <td>-0.169305</td>\n",
       "      <td>0.235524</td>\n",
       "      <td>0.213851</td>\n",
       "      <td>0.108077</td>\n",
       "      <td>0.017252</td>\n",
       "      <td>0.017252</td>\n",
       "      <td>0.147023</td>\n",
       "      <td>-0.136008</td>\n",
       "      <td>...</td>\n",
       "      <td>0.076514</td>\n",
       "      <td>-0.005571</td>\n",
       "      <td>0.164882</td>\n",
       "      <td>0.760027</td>\n",
       "      <td>-0.013843</td>\n",
       "      <td>0.048904</td>\n",
       "      <td>0.032646</td>\n",
       "      <td>0.039610</td>\n",
       "      <td>0.250499</td>\n",
       "      <td>0.004576</td>\n",
       "    </tr>\n",
       "  </tbody>\n",
       "</table>\n",
       "<p>10 rows × 30 columns</p>\n",
       "</div>"
      ],
      "text/plain": [
       "      1_1_8    10_1_9    11_1_7    12_1_9    13_1_6     2_1_7   23_1_11  \\\n",
       "0  0.007105 -0.048467 -0.132920  0.206013  0.183493  0.082851 -0.003171   \n",
       "1  0.005665 -0.097982  0.184663  0.024100 -0.093807 -0.025687  0.002623   \n",
       "2  0.004113 -0.095278  0.187210  0.026804 -0.091103 -0.022983  0.004929   \n",
       "3  0.030958  0.020518 -0.211509  0.167419  0.078996  0.029197 -0.019001   \n",
       "4  0.075867 -0.229121  0.057651 -0.031202  0.204797 -0.080481 -0.017389   \n",
       "5  0.103911 -0.067334  0.056114  0.000291 -0.066308 -0.034816 -0.026236   \n",
       "6  0.007105 -0.048467 -0.132920  0.206013  0.183493  0.082851 -0.003171   \n",
       "7  0.029823 -0.064789 -0.144262  0.189566  0.167180  0.067947 -0.013692   \n",
       "8  0.066766 -0.129291  0.037256 -0.002591  0.167567 -0.054221 -0.004023   \n",
       "9  0.028865 -0.016743 -0.169305  0.235524  0.213851  0.108077  0.017252   \n",
       "\n",
       "    24_1_12    25_1_6    26_1_2  ...    49_1_7     5_1_8   52_1_11   53_1_12  \\\n",
       "0 -0.006339  0.121016 -0.161171  ...  0.063274 -0.028778  0.169962  0.727954   \n",
       "1 -0.028107 -0.016944  0.060036  ...  0.023834 -0.009554  0.033519 -0.099380   \n",
       "2 -0.025530 -0.014240  0.062474  ...  0.026264 -0.007193  0.036223 -0.096676   \n",
       "3  0.033333  0.068475 -0.210968  ...  0.051083 -0.039650  0.074524  0.619158   \n",
       "4  0.088022  0.017001  0.090557  ...  0.079356  0.036886  0.162420  0.215891   \n",
       "5  0.045285  0.065573  0.052184  ... -0.000661  0.065156  0.052499 -0.068919   \n",
       "6 -0.006339  0.121016 -0.161171  ...  0.063274 -0.028778  0.169962  0.727954   \n",
       "7 -0.020465  0.121671 -0.128543  ...  0.082654 -0.008671  0.154597  0.711328   \n",
       "8  0.021839  0.091519  0.055588  ...  0.094327 -0.010358  0.073029  0.315794   \n",
       "9  0.017252  0.147023 -0.136008  ...  0.076514 -0.005571  0.164882  0.760027   \n",
       "\n",
       "     54_1_9    55_1_6    57_1_3    6_1_11    60_1_1     9_1_1  \n",
       "0 -0.024410  0.037969  0.007167  0.033719  0.221195 -0.015708  \n",
       "1  0.057584  0.011132 -0.031716  0.055119 -0.090333  0.001486  \n",
       "2  0.059906  0.003545 -0.029012  0.057650 -0.087893  0.003978  \n",
       "3 -0.023516  0.026820 -0.073450 -0.006282  0.122416 -0.016525  \n",
       "4  0.097054  0.108937  0.117835  0.063341  0.118577 -0.012482  \n",
       "5  0.060600  0.083454 -0.046304  0.042981  0.098953  0.060130  \n",
       "6 -0.024410  0.037969  0.007167  0.033719  0.221195 -0.015708  \n",
       "7 -0.030865  0.031077 -0.009014  0.031409  0.229001 -0.026878  \n",
       "8  0.087000  0.073821 -0.123156  0.064795  0.053547 -0.003687  \n",
       "9 -0.013843  0.048904  0.032646  0.039610  0.250499  0.004576  \n",
       "\n",
       "[10 rows x 30 columns]"
      ]
     },
     "execution_count": 56,
     "metadata": {},
     "output_type": "execute_result"
    }
   ],
   "source": [
    "af_ss"
   ]
  },
  {
   "cell_type": "code",
   "execution_count": null,
   "id": "c24003a2-5770-4d13-8428-de5aecddf734",
   "metadata": {},
   "outputs": [],
   "source": []
  },
  {
   "cell_type": "code",
   "execution_count": 2,
   "id": "6ff44ee4-d731-4ced-887c-9af5df601873",
   "metadata": {},
   "outputs": [],
   "source": [
    "run =1"
   ]
  },
  {
   "cell_type": "code",
   "execution_count": 3,
   "id": "21d5b811-a678-4799-af6e-07827a60000d",
   "metadata": {},
   "outputs": [],
   "source": [
    "file = f'kendall_{run}_w_id_n_blocks.csv'"
   ]
  },
  {
   "cell_type": "code",
   "execution_count": 7,
   "id": "065b3b4c-5583-4820-a035-6d27500db140",
   "metadata": {},
   "outputs": [],
   "source": [
    "kendall = pd.read_csv(file)"
   ]
  },
  {
   "cell_type": "code",
   "execution_count": 8,
   "id": "3c5eebc4-1096-419e-8057-d2208147ddff",
   "metadata": {},
   "outputs": [],
   "source": [
    "bio = 'bio1'"
   ]
  },
  {
   "cell_type": "code",
   "execution_count": 9,
   "id": "d1a57321-d020-4466-b2af-7ae45b355961",
   "metadata": {},
   "outputs": [
    {
     "name": "stderr",
     "output_type": "stream",
     "text": [
      "/tmp/ipykernel_925499/552817809.py:31: UserWarning: *c* argument looks like a single numeric RGB or RGBA sequence, which should be avoided as value-mapping will have precedence in case its length matches with *x* & *y*.  Please use the *color* keyword-argument or provide a 2D array with a single row if you intend to specify the same RGB or RGBA value for all points.\n",
      "  plt.scatter(subset['adjusted_position'], subset['-log10(pvalue)'], c=colors[chrom % len(colors)], label=f'Chr {chrom}', s=10)\n"
     ]
    },
    {
     "data": {
      "image/png": "[encoded data removed]",
      "text/plain": [
       "<Figure size 2000x600 with 1 Axes>"
      ]
     },
     "metadata": {},
     "output_type": "display_data"
    }
   ],
   "source": [
    "    threshold_value = 0.05 / len(kendall)\n",
    "    biovar='bio1'\n",
    "    #sm.qqplot(pvalues['pvalue'], line ='45') \n",
    "    #py.show() \n",
    "    \n",
    "    df = kendall[['K_tau_p', 'pos', 'chrom']].copy()\n",
    "    \n",
    "    colors = sns.color_palette(\"crest\", n_colors = 5)\n",
    "    \n",
    "    # Parsing chromosome number and position\n",
    "    df['chromosome'] = df['chrom']\n",
    "    df['position'] = df['pos']\n",
    "    df['-log10(pvalue)'] = -np.log10(df['K_tau_p'])\n",
    "    \n",
    "    # Calculate the offset for each chromosome to prevent overlap\n",
    "    chromosome_offsets = {}\n",
    "    offset = 0\n",
    "    for chrom in sorted(df['chromosome'].unique()):\n",
    "        chromosome_offsets[chrom] = offset\n",
    "        max_position = df[df['chromosome'] == chrom]['position'].max()\n",
    "        offset += max_position + 1000000  # Adding 1 million as a buffer between chromosomes\n",
    "    \n",
    "    # Apply offsets to positions\n",
    "    df['adjusted_position'] = df.apply(lambda row: row['position'] + chromosome_offsets[row['chromosome']], axis=1)\n",
    "    \n",
    "    # Creating the Manhattan plot\n",
    "    plt.figure(figsize=(20, 6))\n",
    "    \n",
    "    for chrom in sorted(df['chromosome'].unique()):\n",
    "        subset = df[df['chromosome'] == chrom]\n",
    "        plt.scatter(subset['adjusted_position'], subset['-log10(pvalue)'], c=colors[chrom % len(colors)], label=f'Chr {chrom}', s=10)\n",
    "    \n",
    "    # Aesthetics\n",
    "    plt.xlabel('Adjusted Position')\n",
    "    plt.ylabel('-log10(pvalue)')\n",
    "    #plt.title('Manhattan Plot')\n",
    "    #plt.grid(axis='y')\n",
    "    #plt.legend(title=\"Chromosome\", bbox_to_anchor=(1.05, 1), loc='upper left')\n",
    "    ax = plt.gca()  # Get current axes\n",
    "    ax.spines['top'].set_visible(False)  # Remove the top spine\n",
    "    ax.spines['right'].set_visible(False)\n",
    "    # Threshold line (optional)\n",
    "    threshold = -np.log10(threshold_value)\n",
    "    plt.axhline(y=threshold, color='grey', linestyle='dashed')\n",
    "    plt.title(f'{biovar} Kendall tau correlation')  # Set the title\n",
    "    \n",
    "    # Show the plot\n",
    "    plt.tight_layout()\n",
    "    #plt.savefig(f'manhattan_{biovar}.png')\n",
    "    plt.show()"
   ]
  },
  {
   "cell_type": "code",
   "execution_count": null,
   "id": "666f9827-230e-49be-8072-5535d6ee057f",
   "metadata": {},
   "outputs": [],
   "source": []
  },
  {
   "cell_type": "code",
   "execution_count": null,
   "id": "2e49d891-e707-44d5-8bcd-e50965456526",
   "metadata": {},
   "outputs": [],
   "source": []
  }
 ],
 "metadata": {
  "kernelspec": {
   "display_name": "Python (pipeline_snakemake)",
   "language": "python",
   "name": "pipeline_snakemake"
  },
  "language_info": {
   "codemirror_mode": {
    "name": "ipython",
    "version": 3
   },
   "file_extension": ".py",
   "mimetype": "text/x-python",
   "name": "python",
   "nbconvert_exporter": "python",
   "pygments_lexer": "ipython3",
   "version": "3.9.16"
  }
 },
 "nbformat": 4,
 "nbformat_minor": 5
}
