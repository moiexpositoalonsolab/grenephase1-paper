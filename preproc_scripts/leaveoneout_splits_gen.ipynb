{
 "cells": [
  {
   "cell_type": "markdown",
   "id": "af16ccd7-1be8-44a1-9c71-30294f7660ff",
   "metadata": {},
   "source": [
    "Ok, so we are gonna take the whole dataset and then do a partition, training testing, with 80% training and 20% testing \n",
    "to see if we can actually predict the ecotypes frequenci or rank at each location "
   ]
  },
  {
   "cell_type": "code",
   "execution_count": null,
   "id": "7557cacd-f306-49be-ab01-b4a984c26054",
   "metadata": {},
   "outputs": [],
   "source": [
    "## teh frist one is going to be a leave one out approach for the sites vb"
   ]
  },
  {
   "cell_type": "code",
   "execution_count": 91,
   "id": "ccc065ed-f19c-4812-8127-a61fa4a45909",
   "metadata": {
    "scrolled": true
   },
   "outputs": [],
   "source": [
    "import numpy as np\n",
    "import pandas as pd\n",
    "from sklearn.decomposition import PCA\n",
    "from sklearn.preprocessing import StandardScaler\n",
    "import os\n",
    "import pickle"
   ]
  },
  {
   "cell_type": "code",
   "execution_count": 1,
   "id": "c6f2c99f-5670-4a4a-9b95-af8af1420c23",
   "metadata": {},
   "outputs": [
    {
     "data": {
      "text/plain": [
       "9690219554"
      ]
     },
     "execution_count": 1,
     "metadata": {},
     "output_type": "execute_result"
    }
   ],
   "source": [
    "44413139033 - 34722919479"
   ]
  },
  {
   "cell_type": "code",
   "execution_count": 92,
   "id": "6d205aa8-a96a-4839-b867-af6218ae12c3",
   "metadata": {},
   "outputs": [],
   "source": [
    "## for the final generation we have 31 unique sites\n",
    "# 31*0.8 is 24.8\n",
    "## so i am going to be using 25 for trianing and  6 for testing "
   ]
  },
  {
   "cell_type": "code",
   "execution_count": null,
   "id": "92e5afa7-2ea4-40c8-9c1a-8d1e1bf94901",
   "metadata": {
    "scrolled": true
   },
   "outputs": [],
   "source": [
    "final_gen_samples = pd.read_csv('final_gen.csv')#['sample_name'].to_list()\n",
    "\n",
    "unique_sites_final_gen = final_gen_samples['site'].unique()"
   ]
  },
  {
   "cell_type": "code",
   "execution_count": null,
   "id": "0401fe8d-55a0-4f20-b86f-8530cff1e127",
   "metadata": {},
   "outputs": [],
   "source": [
    "#from sklearn.model_selection import train_test_split\n",
    "#unique_sites_final_gen\n",
    "\n",
    "train_size = 25\n",
    "test_size = 6\n",
    "\n",
    "# List to hold the splits\n",
    "splits = []\n",
    "\n",
    "for _ in range(100):\n",
    "    train, test = train_test_split(unique_sites_final_gen, train_size=train_size, test_size=test_size, random_state=None)\n",
    "    splits.append((train, test))\n",
    "    \n",
    "\n",
    "#splits = pd.DataFrame(splits)\n",
    "\n",
    "#splits.columns = ['train', 'test']\n",
    "\n",
    "#splits.to_csv('splits_l1o.csv')\n",
    "\n",
    "with open('splits_sites.pkl', 'wb') as f:\n",
    "    pickle.dump(splits, f)\n",
    "\n",
    "sample_splits = []\n",
    "for train_indices, test_indices in splits:\n",
    "    train_samples = final_gen_samples[final_gen_samples['site'].isin(train_indices)]['sample_name'].to_list()\n",
    "    test_samples = final_gen_samples[final_gen_samples['site'].isin(test_indices)]['sample_name'].to_list()\n",
    "    sample_splits.append((train_samples, test_samples))\n",
    "\n",
    "with open('splits_samples.pkl', 'wb') as f:\n",
    "    pickle.dump(sample_splits, f)"
   ]
  },
  {
   "cell_type": "code",
   "execution_count": null,
   "id": "ef206cb0-9004-4ada-882a-3e72530f1f76",
   "metadata": {},
   "outputs": [],
   "source": []
  },
  {
   "cell_type": "code",
   "execution_count": null,
   "id": "9dd81029-805c-49d5-98f8-e2f1430d64ad",
   "metadata": {},
   "outputs": [],
   "source": []
  }
 ],
 "metadata": {
  "kernelspec": {
   "display_name": "Python 3 (ipykernel)",
   "language": "python",
   "name": "python3"
  },
  "language_info": {
   "codemirror_mode": {
    "name": "ipython",
    "version": 3
   },
   "file_extension": ".py",
   "mimetype": "text/x-python",
   "name": "python",
   "nbconvert_exporter": "python",
   "pygments_lexer": "ipython3",
   "version": "3.11.4"
  }
 },
 "nbformat": 4,
 "nbformat_minor": 5
}
