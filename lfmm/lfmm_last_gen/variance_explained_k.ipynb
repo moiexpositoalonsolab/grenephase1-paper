{
 "cells": [
  {
   "cell_type": "code",
   "execution_count": 3,
   "id": "e852c45d-b6fe-41e8-94f4-b469be75db33",
   "metadata": {},
   "outputs": [],
   "source": [
    ".libPaths(\"/home/tbellagio/miniforge3/envs/r-environment/lib/R/library\")"
   ]
  },
  {
   "cell_type": "code",
   "execution_count": 4,
   "id": "211c7abb-f6d2-4d22-8248-34420e36fd46",
   "metadata": {},
   "outputs": [
    {
     "name": "stderr",
     "output_type": "stream",
     "text": [
      "Warning message:\n",
      "“package ‘lfmm’ was built under R version 4.3.2”\n",
      "\n",
      "   *****       ***   vcfR   ***       *****\n",
      "   This is vcfR 1.15.0 \n",
      "     browseVignettes('vcfR') # Documentation\n",
      "     citation('vcfR') # Citation\n",
      "   *****       *****      *****       *****\n",
      "\n",
      "\n"
     ]
    }
   ],
   "source": [
    "library(lfmm)\n",
    "library(vcfR)"
   ]
  },
  {
   "cell_type": "code",
   "execution_count": 5,
   "id": "fb27f36f-c2c4-4dbf-b516-aa8d3f06bfb2",
   "metadata": {},
   "outputs": [],
   "source": [
    "delta_p_file = '../key_files/delta_p_maf05_mincount05_lastgensamples.csv'"
   ]
  },
  {
   "cell_type": "code",
   "execution_count": null,
   "id": "63363ab8-626f-4a86-835a-877b84325adc",
   "metadata": {},
   "outputs": [],
   "source": []
  },
  {
   "cell_type": "code",
   "execution_count": null,
   "id": "da9c9a8f-047c-4682-8416-1da4841a008d",
   "metadata": {},
   "outputs": [],
   "source": []
  },
  {
   "cell_type": "code",
   "execution_count": 6,
   "id": "d7e8342a-74cd-4966-8a00-b33c7ff692d5",
   "metadata": {},
   "outputs": [],
   "source": [
    "deltap = data.table::fread(file = delta_p_file, drop = 1)\n",
    "colnames(deltap) <- NULL\n",
    "deltap <- t(as.matrix(deltap))"
   ]
  },
  {
   "cell_type": "code",
   "execution_count": 7,
   "id": "e0518bba-9e08-4eef-abcc-198334058379",
   "metadata": {},
   "outputs": [
    {
     "data": {
      "text/html": [
       "<style>\n",
       ".list-inline {list-style: none; margin:0; padding: 0}\n",
       ".list-inline>li {display: inline-block}\n",
       ".list-inline>li:not(:last-child)::after {content: \"\\00b7\"; padding: 0 .5ex}\n",
       "</style>\n",
       "<ol class=list-inline><li>354</li><li>1048635</li></ol>\n"
      ],
      "text/latex": [
       "\\begin{enumerate*}\n",
       "\\item 354\n",
       "\\item 1048635\n",
       "\\end{enumerate*}\n"
      ],
      "text/markdown": [
       "1. 354\n",
       "2. 1048635\n",
       "\n",
       "\n"
      ],
      "text/plain": [
       "[1]     354 1048635"
      ]
     },
     "metadata": {},
     "output_type": "display_data"
    }
   ],
   "source": [
    "dim(deltap)"
   ]
  },
  {
   "cell_type": "code",
   "execution_count": 8,
   "id": "b4f573a4-426b-43c0-ad17-4a4220b68610",
   "metadata": {},
   "outputs": [],
   "source": [
    "pc <- prcomp(deltap)"
   ]
  },
  {
   "cell_type": "code",
   "execution_count": 9,
   "id": "e5f71092-7d21-40b5-a6ab-65b789ac6a36",
   "metadata": {},
   "outputs": [
    {
     "data": {
      "text/html": [
       "<style>\n",
       ".list-inline {list-style: none; margin:0; padding: 0}\n",
       ".list-inline>li {display: inline-block}\n",
       ".list-inline>li:not(:last-child)::after {content: \"\\00b7\"; padding: 0 .5ex}\n",
       "</style>\n",
       "<ol class=list-inline><li>54.6610319905099</li><li>42.8845871792698</li><li>40.0984799750699</li><li>35.8228159491018</li><li>34.397241774351</li><li>31.2269794761623</li><li>29.3360705631733</li><li>28.3896787132259</li><li>27.9886868373781</li><li>26.6833727116734</li><li>25.9973481113351</li><li>25.1228028139928</li><li>24.3525967897375</li><li>23.3511379816674</li><li>23.2064151010888</li><li>22.087346137424</li><li>21.7965481801683</li><li>21.5562511642795</li><li>21.4260508764468</li><li>21.2820161462265</li></ol>\n"
      ],
      "text/latex": [
       "\\begin{enumerate*}\n",
       "\\item 54.6610319905099\n",
       "\\item 42.8845871792698\n",
       "\\item 40.0984799750699\n",
       "\\item 35.8228159491018\n",
       "\\item 34.397241774351\n",
       "\\item 31.2269794761623\n",
       "\\item 29.3360705631733\n",
       "\\item 28.3896787132259\n",
       "\\item 27.9886868373781\n",
       "\\item 26.6833727116734\n",
       "\\item 25.9973481113351\n",
       "\\item 25.1228028139928\n",
       "\\item 24.3525967897375\n",
       "\\item 23.3511379816674\n",
       "\\item 23.2064151010888\n",
       "\\item 22.087346137424\n",
       "\\item 21.7965481801683\n",
       "\\item 21.5562511642795\n",
       "\\item 21.4260508764468\n",
       "\\item 21.2820161462265\n",
       "\\end{enumerate*}\n"
      ],
      "text/markdown": [
       "1. 54.6610319905099\n",
       "2. 42.8845871792698\n",
       "3. 40.0984799750699\n",
       "4. 35.8228159491018\n",
       "5. 34.397241774351\n",
       "6. 31.2269794761623\n",
       "7. 29.3360705631733\n",
       "8. 28.3896787132259\n",
       "9. 27.9886868373781\n",
       "10. 26.6833727116734\n",
       "11. 25.9973481113351\n",
       "12. 25.1228028139928\n",
       "13. 24.3525967897375\n",
       "14. 23.3511379816674\n",
       "15. 23.2064151010888\n",
       "16. 22.087346137424\n",
       "17. 21.7965481801683\n",
       "18. 21.5562511642795\n",
       "19. 21.4260508764468\n",
       "20. 21.2820161462265\n",
       "\n",
       "\n"
      ],
      "text/plain": [
       " [1] 54.66103 42.88459 40.09848 35.82282 34.39724 31.22698 29.33607 28.38968\n",
       " [9] 27.98869 26.68337 25.99735 25.12280 24.35260 23.35114 23.20642 22.08735\n",
       "[17] 21.79655 21.55625 21.42605 21.28202"
      ]
     },
     "metadata": {},
     "output_type": "display_data"
    }
   ],
   "source": [
    "pc$sdev[1:20]"
   ]
  },
  {
   "cell_type": "code",
   "execution_count": 12,
   "id": "455aa318-f131-4044-8263-a3d7c1f3efc4",
   "metadata": {},
   "outputs": [
    {
     "data": {
      "image/png": "[encoded data removed]",
      "text/plain": [
       "plot without title"
      ]
     },
     "metadata": {
      "image/png": {
       "height": 420,
       "width": 420
      }
     },
     "output_type": "display_data"
    }
   ],
   "source": [
    "# Plot the variance explained\n",
    "plot(pc$sdev[1:100]^2, xlab = 'PC', ylab = \"Variance explained\", xaxt = \"n\")\n",
    "\n",
    "# Add custom ticks to the x-axis\n",
    "axis(1, at = seq(0, 100, by = 2)) # Adjust 'by' for more or fewer ticks\n"
   ]
  },
  {
   "cell_type": "code",
   "execution_count": null,
   "id": "558a4a86-80f9-4019-8763-e54c6deaa4ba",
   "metadata": {},
   "outputs": [],
   "source": []
  }
 ],
 "metadata": {
  "kernelspec": {
   "display_name": "R",
   "language": "R",
   "name": "ir"
  },
  "language_info": {
   "codemirror_mode": "r",
   "file_extension": ".r",
   "mimetype": "text/x-r-source",
   "name": "R",
   "pygments_lexer": "r",
   "version": "4.2.3"
  }
 },
 "nbformat": 4,
 "nbformat_minor": 5
}
