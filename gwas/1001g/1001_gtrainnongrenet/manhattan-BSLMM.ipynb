{
 "cells": [
  {
   "cell_type": "code",
   "execution_count": 1,
   "id": "ac37ce91-7fa5-4341-85e2-a1a4676e9aa7",
   "metadata": {
    "scrolled": true
   },
   "outputs": [
    {
     "name": "stderr",
     "output_type": "stream",
     "text": [
      "/tmp/ipykernel_2568326/2660915427.py:2: DeprecationWarning: \n",
      "Pyarrow will become a required dependency of pandas in the next major release of pandas (pandas 3.0),\n",
      "(to allow more performant data types, such as the Arrow string type, and better interoperability with other libraries)\n",
      "but was not found to be installed on your system.\n",
      "If this would cause problems for you,\n",
      "please provide us feedback at https://github.com/pandas-dev/pandas/issues/54466\n",
      "        \n",
      "  import pandas as pd\n"
     ]
    }
   ],
   "source": [
    "import numpy as np\n",
    "import pandas as pd\n",
    "import seaborn as sns\n",
    "import matplotlib.pyplot as plt"
   ]
  },
  {
   "cell_type": "code",
   "execution_count": null,
   "id": "feaa5a5e-a0ea-44ff-8836-cebb2bd5ab5d",
   "metadata": {},
   "outputs": [],
   "source": [
    "gemma  -b ../1001g_grenet_climate -gk 1 -o kinship_bslmm"
   ]
  },
  {
   "cell_type": "code",
   "execution_count": null,
   "id": "1b2b056c-9076-4e11-b0fe-801227f747d1",
   "metadata": {},
   "outputs": [],
   "source": []
  },
  {
   "cell_type": "code",
   "execution_count": null,
   "id": "f55fae1f-db57-4652-b43f-3ffdd0ebe46a",
   "metadata": {},
   "outputs": [],
   "source": [
    "gemma  -g 1001g_grenet_climate.bimbam \n",
    "-p bioclim/bio${i}.txt \n",
    "-epm output/bio${i}.param.txt \n",
    "-emu output/bio${i}.log.txt \n",
    "-ebv output/bio${i}.bv.txt \n",
    "-k output/bio${i}.cXX.txt \n",
    "-predict 1 \n",
    "-o bio${i}\"\n"
   ]
  },
  {
   "cell_type": "code",
   "execution_count": 71,
   "id": "4c6b4115-671c-4346-9055-61f716098a3d",
   "metadata": {
    "scrolled": true
   },
   "outputs": [
    {
     "data": {
      "text/html": [
       "<div>\n",
       "<style scoped>\n",
       "    .dataframe tbody tr th:only-of-type {\n",
       "        vertical-align: middle;\n",
       "    }\n",
       "\n",
       "    .dataframe tbody tr th {\n",
       "        vertical-align: top;\n",
       "    }\n",
       "\n",
       "    .dataframe thead th {\n",
       "        text-align: right;\n",
       "    }\n",
       "</style>\n",
       "<table border=\"1\" class=\"dataframe\">\n",
       "  <thead>\n",
       "    <tr style=\"text-align: right;\">\n",
       "      <th></th>\n",
       "      <th>0</th>\n",
       "      <th>1</th>\n",
       "      <th>2</th>\n",
       "      <th>3</th>\n",
       "      <th>4</th>\n",
       "      <th>5</th>\n",
       "    </tr>\n",
       "  </thead>\n",
       "  <tbody>\n",
       "    <tr>\n",
       "      <th>0</th>\n",
       "      <td>10001</td>\n",
       "      <td>10001</td>\n",
       "      <td>0</td>\n",
       "      <td>0</td>\n",
       "      <td>0</td>\n",
       "      <td>9.166667</td>\n",
       "    </tr>\n",
       "    <tr>\n",
       "      <th>1</th>\n",
       "      <td>10002</td>\n",
       "      <td>10002</td>\n",
       "      <td>0</td>\n",
       "      <td>0</td>\n",
       "      <td>0</td>\n",
       "      <td>-9.000000</td>\n",
       "    </tr>\n",
       "    <tr>\n",
       "      <th>2</th>\n",
       "      <td>10004</td>\n",
       "      <td>10004</td>\n",
       "      <td>0</td>\n",
       "      <td>0</td>\n",
       "      <td>0</td>\n",
       "      <td>10.358334</td>\n",
       "    </tr>\n",
       "    <tr>\n",
       "      <th>3</th>\n",
       "      <td>10005</td>\n",
       "      <td>10005</td>\n",
       "      <td>0</td>\n",
       "      <td>0</td>\n",
       "      <td>0</td>\n",
       "      <td>9.866667</td>\n",
       "    </tr>\n",
       "    <tr>\n",
       "      <th>4</th>\n",
       "      <td>10006</td>\n",
       "      <td>10006</td>\n",
       "      <td>0</td>\n",
       "      <td>0</td>\n",
       "      <td>0</td>\n",
       "      <td>-9.000000</td>\n",
       "    </tr>\n",
       "    <tr>\n",
       "      <th>...</th>\n",
       "      <td>...</td>\n",
       "      <td>...</td>\n",
       "      <td>...</td>\n",
       "      <td>...</td>\n",
       "      <td>...</td>\n",
       "      <td>...</td>\n",
       "    </tr>\n",
       "    <tr>\n",
       "      <th>1132</th>\n",
       "      <td>100002</td>\n",
       "      <td>100002</td>\n",
       "      <td>0</td>\n",
       "      <td>0</td>\n",
       "      <td>0</td>\n",
       "      <td>-9.000000</td>\n",
       "    </tr>\n",
       "    <tr>\n",
       "      <th>1133</th>\n",
       "      <td>6939</td>\n",
       "      <td>6939</td>\n",
       "      <td>0</td>\n",
       "      <td>0</td>\n",
       "      <td>0</td>\n",
       "      <td>-9.000000</td>\n",
       "    </tr>\n",
       "    <tr>\n",
       "      <th>1134</th>\n",
       "      <td>9940</td>\n",
       "      <td>9940</td>\n",
       "      <td>0</td>\n",
       "      <td>0</td>\n",
       "      <td>0</td>\n",
       "      <td>-9.000000</td>\n",
       "    </tr>\n",
       "    <tr>\n",
       "      <th>1135</th>\n",
       "      <td>9977</td>\n",
       "      <td>9977</td>\n",
       "      <td>0</td>\n",
       "      <td>0</td>\n",
       "      <td>0</td>\n",
       "      <td>-9.000000</td>\n",
       "    </tr>\n",
       "    <tr>\n",
       "      <th>1136</th>\n",
       "      <td>9992</td>\n",
       "      <td>9992</td>\n",
       "      <td>0</td>\n",
       "      <td>0</td>\n",
       "      <td>0</td>\n",
       "      <td>-9.000000</td>\n",
       "    </tr>\n",
       "  </tbody>\n",
       "</table>\n",
       "<p>1137 rows × 6 columns</p>\n",
       "</div>"
      ],
      "text/plain": [
       "           0       1  2  3  4          5\n",
       "0      10001   10001  0  0  0   9.166667\n",
       "1      10002   10002  0  0  0  -9.000000\n",
       "2      10004   10004  0  0  0  10.358334\n",
       "3      10005   10005  0  0  0   9.866667\n",
       "4      10006   10006  0  0  0  -9.000000\n",
       "...      ...     ... .. .. ..        ...\n",
       "1132  100002  100002  0  0  0  -9.000000\n",
       "1133    6939    6939  0  0  0  -9.000000\n",
       "1134    9940    9940  0  0  0  -9.000000\n",
       "1135    9977    9977  0  0  0  -9.000000\n",
       "1136    9992    9992  0  0  0  -9.000000\n",
       "\n",
       "[1137 rows x 6 columns]"
      ]
     },
     "execution_count": 71,
     "metadata": {},
     "output_type": "execute_result"
    }
   ],
   "source": [
    "pd.read_csv('../1001g_grenet_climate.fam', header=None, sep = ' ')#.drop(5,axis=1)"
   ]
  },
  {
   "cell_type": "code",
   "execution_count": null,
   "id": "db5b672d-50a0-416e-8ad6-ccba2cb5fecc",
   "metadata": {},
   "outputs": [],
   "source": [
    "gemma \\\n",
    "-bfile ../1001g_grenet_climate \\\n",
    "-bslmm 1 \\\n",
    "-o bslmm_1001g_grenet_climate"
   ]
  },
  {
   "cell_type": "code",
   "execution_count": null,
   "id": "1c8087b6-de3e-4e89-bf71-9b52bf817b81",
   "metadata": {},
   "outputs": [],
   "source": []
  },
  {
   "cell_type": "code",
   "execution_count": null,
   "id": "1f386e15-a50f-4b8c-b24c-b6d933e0aec0",
   "metadata": {},
   "outputs": [],
   "source": [
    "gemma  -b ../1001g_grenet_climate \\\n",
    "-epm output/bslmm_1001g_grenet_climate.param.txt \\\n",
    "-emu output/bslmm_1001g_grenet_climate.log.txt \\\n",
    "-ebv output/bslmm_1001g_grenet_climate.bv.txt \\\n",
    "-k output/kinship_bslmm.cXX.txt \\\n",
    "-predict 1 \\\n",
    "-o pheno_pred_bslmm\n"
   ]
  },
  {
   "cell_type": "code",
   "execution_count": null,
   "id": "ede82c59-84b6-4a78-aa7f-59551ff8dfd4",
   "metadata": {},
   "outputs": [],
   "source": []
  },
  {
   "cell_type": "code",
   "execution_count": null,
   "id": "274b6d6e-6e3b-4e16-92fc-96c035a5d769",
   "metadata": {},
   "outputs": [],
   "source": []
  },
  {
   "cell_type": "code",
   "execution_count": null,
   "id": "256648de-2d97-4f13-8ca9-cf14e3a8552b",
   "metadata": {},
   "outputs": [],
   "source": []
  },
  {
   "cell_type": "code",
   "execution_count": null,
   "id": "243dea1e-9a5f-4152-ac0a-cb90251271e6",
   "metadata": {},
   "outputs": [],
   "source": [
    "#nogrenet_fam = pd.read_csv('nogrenenet_1001g_grenet_climate.fam', header=None, sep = ' ')\n",
    "\n",
    "#full_fam = pd.read_csv('../1001g_grenet_climate.fam', header=None, sep = ' ').drop(5,axis=1)\n",
    "\n",
    "#full_fam = full_fam.merge(nogrenet_fam, how = 'left')\n",
    "\n",
    "#full_fam.to_csv('../1001g_grenet_climate.fam', header=None, index=None, sep = ' ')\n",
    "\n",
    "#full_fam =  pd.read_csv('../1001g_grenet_climate.fam', header=None, sep = ' ')\n",
    "\n",
    "#full_fam[5] = full_fam[5].fillna('-9')\n",
    "\n",
    "#full_fam.to_csv('../1001g_grenet_climate.fam', header=None, index=None, sep = ' ')"
   ]
  },
  {
   "cell_type": "code",
   "execution_count": null,
   "id": "368fe0a9-6374-4d9d-9e2c-2b7898750dc8",
   "metadata": {},
   "outputs": [],
   "source": []
  },
  {
   "cell_type": "code",
   "execution_count": 2,
   "id": "8de28a0f-2048-4942-be4d-5bf96ea93891",
   "metadata": {},
   "outputs": [],
   "source": [
    "assoc = pd.read_csv('output/bslmm_nogrenenet_1001g_grenet_climate.param.txt', sep = '\\t')"
   ]
  },
  {
   "cell_type": "code",
   "execution_count": 72,
   "id": "50b17e86-06d9-4402-b3b7-4e47407f3f57",
   "metadata": {},
   "outputs": [],
   "source": [
    "assoc = pd.read_csv('output/bslmm_1001g_grenet_climate.param.txt', sep = '\\t')"
   ]
  },
  {
   "cell_type": "code",
   "execution_count": null,
   "id": "6a5c5e55-1f81-49d2-8e4e-877323a8c26a",
   "metadata": {},
   "outputs": [],
   "source": []
  },
  {
   "cell_type": "code",
   "execution_count": 73,
   "id": "25f20a48-705e-4c39-8164-78c7325cc45f",
   "metadata": {
    "scrolled": true
   },
   "outputs": [
    {
     "data": {
      "text/plain": [
       "count    2.306750e+06\n",
       "mean     1.071321e-05\n",
       "std      1.255712e-03\n",
       "min      0.000000e+00\n",
       "25%      0.000000e+00\n",
       "50%      0.000000e+00\n",
       "75%      0.000000e+00\n",
       "max      1.000000e+00\n",
       "Name: gamma, dtype: float64"
      ]
     },
     "execution_count": 73,
     "metadata": {},
     "output_type": "execute_result"
    }
   ],
   "source": [
    "assoc['gamma'].describe()"
   ]
  },
  {
   "cell_type": "code",
   "execution_count": 74,
   "id": "520d4e15-47e3-4581-b984-d6892b1204f5",
   "metadata": {},
   "outputs": [
    {
     "data": {
      "text/html": [
       "<div>\n",
       "<style scoped>\n",
       "    .dataframe tbody tr th:only-of-type {\n",
       "        vertical-align: middle;\n",
       "    }\n",
       "\n",
       "    .dataframe tbody tr th {\n",
       "        vertical-align: top;\n",
       "    }\n",
       "\n",
       "    .dataframe thead th {\n",
       "        text-align: right;\n",
       "    }\n",
       "</style>\n",
       "<table border=\"1\" class=\"dataframe\">\n",
       "  <thead>\n",
       "    <tr style=\"text-align: right;\">\n",
       "      <th></th>\n",
       "      <th>chr</th>\n",
       "      <th>rs</th>\n",
       "      <th>ps</th>\n",
       "      <th>n_miss</th>\n",
       "      <th>alpha</th>\n",
       "      <th>beta</th>\n",
       "      <th>gamma</th>\n",
       "    </tr>\n",
       "  </thead>\n",
       "  <tbody>\n",
       "    <tr>\n",
       "      <th>0</th>\n",
       "      <td>1</td>\n",
       "      <td>1_291</td>\n",
       "      <td>291</td>\n",
       "      <td>0</td>\n",
       "      <td>0.000012</td>\n",
       "      <td>0.000000</td>\n",
       "      <td>0.00000</td>\n",
       "    </tr>\n",
       "    <tr>\n",
       "      <th>1535575</th>\n",
       "      <td>4</td>\n",
       "      <td>4_6324984</td>\n",
       "      <td>6324984</td>\n",
       "      <td>0</td>\n",
       "      <td>0.000005</td>\n",
       "      <td>0.000000</td>\n",
       "      <td>0.00000</td>\n",
       "    </tr>\n",
       "    <tr>\n",
       "      <th>1535574</th>\n",
       "      <td>4</td>\n",
       "      <td>4_6324977</td>\n",
       "      <td>6324977</td>\n",
       "      <td>0</td>\n",
       "      <td>0.000007</td>\n",
       "      <td>0.000000</td>\n",
       "      <td>0.00000</td>\n",
       "    </tr>\n",
       "    <tr>\n",
       "      <th>1535573</th>\n",
       "      <td>4</td>\n",
       "      <td>4_6324976</td>\n",
       "      <td>6324976</td>\n",
       "      <td>0</td>\n",
       "      <td>0.000008</td>\n",
       "      <td>0.000000</td>\n",
       "      <td>0.00000</td>\n",
       "    </tr>\n",
       "    <tr>\n",
       "      <th>1535572</th>\n",
       "      <td>4</td>\n",
       "      <td>4_6324964</td>\n",
       "      <td>6324964</td>\n",
       "      <td>0</td>\n",
       "      <td>0.000003</td>\n",
       "      <td>0.000000</td>\n",
       "      <td>0.00000</td>\n",
       "    </tr>\n",
       "    <tr>\n",
       "      <th>...</th>\n",
       "      <td>...</td>\n",
       "      <td>...</td>\n",
       "      <td>...</td>\n",
       "      <td>...</td>\n",
       "      <td>...</td>\n",
       "      <td>...</td>\n",
       "      <td>...</td>\n",
       "    </tr>\n",
       "    <tr>\n",
       "      <th>1455656</th>\n",
       "      <td>4</td>\n",
       "      <td>4_2285753</td>\n",
       "      <td>2285753</td>\n",
       "      <td>0</td>\n",
       "      <td>-0.000053</td>\n",
       "      <td>-0.485385</td>\n",
       "      <td>0.44097</td>\n",
       "    </tr>\n",
       "    <tr>\n",
       "      <th>141585</th>\n",
       "      <td>1</td>\n",
       "      <td>1_8636131</td>\n",
       "      <td>8636131</td>\n",
       "      <td>0</td>\n",
       "      <td>0.000022</td>\n",
       "      <td>0.979650</td>\n",
       "      <td>0.62944</td>\n",
       "    </tr>\n",
       "    <tr>\n",
       "      <th>1896426</th>\n",
       "      <td>5</td>\n",
       "      <td>5_7009334</td>\n",
       "      <td>7009334</td>\n",
       "      <td>0</td>\n",
       "      <td>-0.000027</td>\n",
       "      <td>-0.905111</td>\n",
       "      <td>0.63343</td>\n",
       "    </tr>\n",
       "    <tr>\n",
       "      <th>64992</th>\n",
       "      <td>1</td>\n",
       "      <td>1_4275942</td>\n",
       "      <td>4275942</td>\n",
       "      <td>0</td>\n",
       "      <td>0.000002</td>\n",
       "      <td>0.555045</td>\n",
       "      <td>1.00000</td>\n",
       "    </tr>\n",
       "    <tr>\n",
       "      <th>1660594</th>\n",
       "      <td>4</td>\n",
       "      <td>4_10999188</td>\n",
       "      <td>10999188</td>\n",
       "      <td>0</td>\n",
       "      <td>0.000004</td>\n",
       "      <td>0.924231</td>\n",
       "      <td>1.00000</td>\n",
       "    </tr>\n",
       "  </tbody>\n",
       "</table>\n",
       "<p>2306750 rows × 7 columns</p>\n",
       "</div>"
      ],
      "text/plain": [
       "         chr          rs        ps  n_miss     alpha      beta    gamma\n",
       "0          1       1_291       291       0  0.000012  0.000000  0.00000\n",
       "1535575    4   4_6324984   6324984       0  0.000005  0.000000  0.00000\n",
       "1535574    4   4_6324977   6324977       0  0.000007  0.000000  0.00000\n",
       "1535573    4   4_6324976   6324976       0  0.000008  0.000000  0.00000\n",
       "1535572    4   4_6324964   6324964       0  0.000003  0.000000  0.00000\n",
       "...      ...         ...       ...     ...       ...       ...      ...\n",
       "1455656    4   4_2285753   2285753       0 -0.000053 -0.485385  0.44097\n",
       "141585     1   1_8636131   8636131       0  0.000022  0.979650  0.62944\n",
       "1896426    5   5_7009334   7009334       0 -0.000027 -0.905111  0.63343\n",
       "64992      1   1_4275942   4275942       0  0.000002  0.555045  1.00000\n",
       "1660594    4  4_10999188  10999188       0  0.000004  0.924231  1.00000\n",
       "\n",
       "[2306750 rows x 7 columns]"
      ]
     },
     "execution_count": 74,
     "metadata": {},
     "output_type": "execute_result"
    }
   ],
   "source": [
    "assoc.sort_values('gamma')"
   ]
  },
  {
   "cell_type": "code",
   "execution_count": 75,
   "id": "c75958f8-199a-4d63-bf66-ac8bca594f97",
   "metadata": {},
   "outputs": [],
   "source": [
    "PIP_vec = assoc['gamma']"
   ]
  },
  {
   "cell_type": "code",
   "execution_count": 76,
   "id": "98438716-a452-47dd-8c70-5c029baf086c",
   "metadata": {
    "scrolled": true
   },
   "outputs": [
    {
     "data": {
      "text/plain": [
       "0          0.0\n",
       "1          0.0\n",
       "2          0.0\n",
       "3          0.0\n",
       "4          0.0\n",
       "          ... \n",
       "2306745    0.0\n",
       "2306746    0.0\n",
       "2306747    0.0\n",
       "2306748    0.0\n",
       "2306749    0.0\n",
       "Name: gamma, Length: 2306750, dtype: float64"
      ]
     },
     "execution_count": 76,
     "metadata": {},
     "output_type": "execute_result"
    }
   ],
   "source": [
    "PIP_vec"
   ]
  },
  {
   "cell_type": "code",
   "execution_count": 77,
   "id": "b3bea38c-ad41-4812-9ec8-5ca8e3283b0d",
   "metadata": {},
   "outputs": [],
   "source": [
    "colors = sns.color_palette(\"crest\", n_colors = 5)"
   ]
  },
  {
   "cell_type": "code",
   "execution_count": 78,
   "id": "138632dd-1c8f-451c-bac0-7247843b2667",
   "metadata": {},
   "outputs": [],
   "source": [
    "df = assoc.copy()"
   ]
  },
  {
   "cell_type": "code",
   "execution_count": 79,
   "id": "52909af6-ca99-4454-a100-e25fbecb47df",
   "metadata": {
    "scrolled": true
   },
   "outputs": [
    {
     "data": {
      "text/html": [
       "<div>\n",
       "<style scoped>\n",
       "    .dataframe tbody tr th:only-of-type {\n",
       "        vertical-align: middle;\n",
       "    }\n",
       "\n",
       "    .dataframe tbody tr th {\n",
       "        vertical-align: top;\n",
       "    }\n",
       "\n",
       "    .dataframe thead th {\n",
       "        text-align: right;\n",
       "    }\n",
       "</style>\n",
       "<table border=\"1\" class=\"dataframe\">\n",
       "  <thead>\n",
       "    <tr style=\"text-align: right;\">\n",
       "      <th></th>\n",
       "      <th>chr</th>\n",
       "      <th>rs</th>\n",
       "      <th>ps</th>\n",
       "      <th>n_miss</th>\n",
       "      <th>alpha</th>\n",
       "      <th>beta</th>\n",
       "      <th>gamma</th>\n",
       "    </tr>\n",
       "  </thead>\n",
       "  <tbody>\n",
       "    <tr>\n",
       "      <th>0</th>\n",
       "      <td>1</td>\n",
       "      <td>1_291</td>\n",
       "      <td>291</td>\n",
       "      <td>0</td>\n",
       "      <td>0.000012</td>\n",
       "      <td>0.0</td>\n",
       "      <td>0.0</td>\n",
       "    </tr>\n",
       "    <tr>\n",
       "      <th>1</th>\n",
       "      <td>1</td>\n",
       "      <td>1_346</td>\n",
       "      <td>346</td>\n",
       "      <td>0</td>\n",
       "      <td>-0.000013</td>\n",
       "      <td>0.0</td>\n",
       "      <td>0.0</td>\n",
       "    </tr>\n",
       "  </tbody>\n",
       "</table>\n",
       "</div>"
      ],
      "text/plain": [
       "   chr     rs   ps  n_miss     alpha  beta  gamma\n",
       "0    1  1_291  291       0  0.000012   0.0    0.0\n",
       "1    1  1_346  346       0 -0.000013   0.0    0.0"
      ]
     },
     "execution_count": 79,
     "metadata": {},
     "output_type": "execute_result"
    }
   ],
   "source": [
    "df.head(2)"
   ]
  },
  {
   "cell_type": "code",
   "execution_count": 80,
   "id": "c0edd626-c366-487b-a9f3-caf8a27d027c",
   "metadata": {},
   "outputs": [],
   "source": [
    "#clumpkb50 = pd.read_csv('clumping_resultsgemma_kb50.clumped',sep='\\s+')"
   ]
  },
  {
   "cell_type": "code",
   "execution_count": 81,
   "id": "d2992e58-9210-436b-ae67-d248da56b22b",
   "metadata": {},
   "outputs": [],
   "source": [
    "#clump['SNP'].to_csv('snps_after_clumping.txt', index=False, header=False)"
   ]
  },
  {
   "cell_type": "code",
   "execution_count": null,
   "id": "2a6237c7-7651-41b6-a164-4bd851de27ad",
   "metadata": {},
   "outputs": [],
   "source": []
  },
  {
   "cell_type": "code",
   "execution_count": 82,
   "id": "38bf33bb-1b29-492a-8b8a-94f5efc34c5f",
   "metadata": {},
   "outputs": [
    {
     "data": {
      "image/png": "[encoded data removed]",
      "text/plain": [
       "<Figure size 2000x600 with 1 Axes>"
      ]
     },
     "metadata": {},
     "output_type": "display_data"
    }
   ],
   "source": [
    "# Parsing chromosome number and position\n",
    "df['chromosome'] = df['chr']\n",
    "df['position'] = df['ps']\n",
    "#df['-log10(pvalue)'] = -np.log10(df['p_wald'])\n",
    "\n",
    "# Calculate the offset for each chromosome to prevent overlap\n",
    "chromosome_offsets = {}\n",
    "offset = 0\n",
    "for chrom in sorted(df['chromosome'].unique()):\n",
    "    chromosome_offsets[chrom] = offset\n",
    "    max_position = df[df['chromosome'] == chrom]['position'].max()\n",
    "    offset += max_position + 1000000  # Adding 1 million as a buffer between chromosomes\n",
    "\n",
    "# Apply offsets to positions\n",
    "df['adjusted_position'] = df.apply(lambda row: row['position'] + chromosome_offsets[row['chromosome']], axis=1)\n",
    "\n",
    "# Creating the Manhattan plot\n",
    "plt.figure(figsize=(20, 6))\n",
    "\n",
    "for chrom in sorted(df['chromosome'].unique()):\n",
    "    subset = df[df['chromosome'] == chrom]\n",
    "    plt.scatter(subset['adjusted_position'], subset['gamma'], color=colors[chrom % len(colors)], label=f'Chr {chrom}', s=40)\n",
    "\n",
    "\n",
    "# Highlight clumped SNPs\n",
    "fdr_subset = df[df['rs'].isin(['1_4275942', '4_10999188'])] # 4_10999188\n",
    "plt.scatter(fdr_subset['adjusted_position'], fdr_subset['gamma'], s=100, facecolors='none', edgecolors='grey', linewidths=2, label='after FDR')\n",
    "\n",
    "# Aesthetics\n",
    "plt.xlabel('Adjusted Position')\n",
    "plt.ylabel('gamma')\n",
    "#plt.title('Manhattan Plot')\n",
    "#plt.grid(axis='y')\n",
    "#plt.legend(title=\"Chromosome\", bbox_to_anchor=(1.05, 1), loc='upper left')\n",
    "ax = plt.gca()  # Get current axes\n",
    "ax.spines['top'].set_visible(False)  # Remove the top spine\n",
    "ax.spines['right'].set_visible(False)\n",
    "# Threshold line (optional)\n",
    "#threshold = -np.log10(threshold_value)\n",
    "#plt.axhline(y=threshold, color='grey', linestyle='dashed')\n",
    "\n",
    "# Show the plot\n",
    "plt.tight_layout()\n",
    "plt.show()"
   ]
  },
  {
   "cell_type": "code",
   "execution_count": null,
   "id": "52cac144-25c8-468a-8901-e96e36a2abe7",
   "metadata": {},
   "outputs": [],
   "source": []
  },
  {
   "cell_type": "code",
   "execution_count": null,
   "id": "76fd291a-a55e-4e04-b16a-ec77eacc94df",
   "metadata": {},
   "outputs": [],
   "source": []
  },
  {
   "cell_type": "code",
   "execution_count": null,
   "id": "cef21b71-09e5-41b8-b150-06cd17172399",
   "metadata": {},
   "outputs": [],
   "source": []
  },
  {
   "cell_type": "code",
   "execution_count": null,
   "id": "36a59e4a-f4b8-4e9e-b41a-9e77ca6e5fd8",
   "metadata": {},
   "outputs": [],
   "source": []
  }
 ],
 "metadata": {
  "kernelspec": {
   "display_name": "Python 3 (ipykernel)",
   "language": "python",
   "name": "python3"
  },
  "language_info": {
   "codemirror_mode": {
    "name": "ipython",
    "version": 3
   },
   "file_extension": ".py",
   "mimetype": "text/x-python",
   "name": "python",
   "nbconvert_exporter": "python",
   "pygments_lexer": "ipython3",
   "version": "3.11.4"
  }
 },
 "nbformat": 4,
 "nbformat_minor": 5
}
