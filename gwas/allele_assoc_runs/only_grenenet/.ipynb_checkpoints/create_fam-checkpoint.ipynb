{
 "cells": [
  {
   "cell_type": "code",
   "execution_count": 1,
   "id": "fd48e746-a24f-46e8-a274-3f1987f71b4e",
   "metadata": {},
   "outputs": [],
   "source": [
    "import pandas as pd\n",
    "import os\n",
    "import subprocess\n",
    "import random"
   ]
  },
  {
   "cell_type": "code",
   "execution_count": null,
   "id": "f9141761-9a23-4771-a157-652c46a8594f",
   "metadata": {},
   "outputs": [],
   "source": [
    "gemma \\\n",
    "-bfile 1001g_grenet_climate \\\n",
    "-maf 0.05 \\\n",
    "-lmm -k output/1001g_grenet_climateLDpruned_05maf.cXX.txt \\\n",
    "-c pc_1000.txt \\\n",
    "-o 1001g_grenet_climate_maf0.01\n",
    "\n",
    "\n",
    "gemma \\\n",
    "-bfile 1001g_grenet_climate \\\n",
    "-maf 0.05 \\\n",
    "-bslmm 1 \\\n",
    "-o bslmm_nogrenenet_1001g_grenet_climate"
   ]
  },
  {
   "cell_type": "code",
   "execution_count": 4,
   "id": "6bd74f22-b793-4e0a-a7a6-2164e1dcb4b6",
   "metadata": {},
   "outputs": [],
   "source": [
    "climate_file = '/carnegie/nobackup/scratch/xwu/grenet/metadata/1001g_regmap_grenet_ecotype_info_corrected_bioclim_2024May16.csv'\n",
    "climate = pd.read_csv(climate_file) # usecols = ['ecotypeid', 'bio1']"
   ]
  },
  {
   "cell_type": "code",
   "execution_count": 5,
   "id": "025c2b4b-885a-46f6-9d73-ac8f11eefcef",
   "metadata": {},
   "outputs": [],
   "source": [
    "og_fam = pd.read_csv('1001g_grenet_climate.fam', sep = ' ', header=None)"
   ]
  },
  {
   "cell_type": "code",
   "execution_count": 6,
   "id": "e199e45e-3ffa-4c10-958a-3728b28a2caa",
   "metadata": {},
   "outputs": [],
   "source": [
    "biovar1 = climate[['ecotypeid', 'bio1']]\n",
    "\n",
    "fam = og_fam.merge(biovar1, left_on= 0, right_on = 'ecotypeid', how = 'left')\n",
    "\n",
    "fam = fam.drop([5, 'ecotypeid'],axis=1)"
   ]
  },
  {
   "cell_type": "code",
   "execution_count": 7,
   "id": "db257467-ff3c-42dd-aef9-60a27b3caf74",
   "metadata": {},
   "outputs": [
    {
     "name": "stdout",
     "output_type": "stream",
     "text": [
      "/carnegie/nobackup/scratch/tbellagio/gea_grene-net/gwas/allele_assoc_runs\n"
     ]
    }
   ],
   "source": [
    "!pwd -P"
   ]
  },
  {
   "cell_type": "code",
   "execution_count": 8,
   "id": "ffa3ed62-e849-4b72-ae20-94da683831bd",
   "metadata": {},
   "outputs": [],
   "source": [
    "path = '/carnegie/nobackup/scratch/tbellagio/gea_grene-net/idea_fromind_to_pop/allele_assoc_runs'"
   ]
  },
  {
   "cell_type": "code",
   "execution_count": 35,
   "id": "d719dc32-c431-46da-a1e4-eda8b7748d47",
   "metadata": {},
   "outputs": [],
   "source": [
    "gemma_path = path + '/lmm_gemma/'\n",
    "bslmm_path = path + '/bslmm/'"
   ]
  },
  {
   "cell_type": "code",
   "execution_count": 36,
   "id": "1ddf207d-6706-4889-aa1b-f29da1c21f4c",
   "metadata": {},
   "outputs": [],
   "source": [
    "biovars = [i for i in climate.columns if 'bio' in i]"
   ]
  },
  {
   "cell_type": "code",
   "execution_count": 37,
   "id": "433b2d95-0c44-4021-99f9-10f95d557935",
   "metadata": {},
   "outputs": [],
   "source": [
    "bed_file = path + '/1001g_grenet_climate.bed'\n",
    "bim_file = path + '/1001g_grenet_climate.bim'"
   ]
  },
  {
   "cell_type": "code",
   "execution_count": 40,
   "id": "8506e302-00a8-4f8d-a4cc-17e05453599a",
   "metadata": {},
   "outputs": [],
   "source": [
    "for biovar in biovars:\n",
    "    \n",
    "    biovar_gemma_path = gemma_path + biovar\n",
    "    biovar_bslmm_path = bslmm_path + biovar\n",
    "\n",
    "    ## create folders for all the biovars \n",
    "    os.makedirs(biovar_gemma_path, exist_ok=True)\n",
    "    os.makedirs(biovar_bslmm_path, exist_ok=True)\n",
    "\n",
    "    biovar1 = climate[['ecotypeid', biovar]]\n",
    "    fam = og_fam.merge(biovar1, left_on= 0, right_on = 'ecotypeid', how = 'left')\n",
    "    fam = fam.drop([5, 'ecotypeid'],axis=1)\n",
    "\n",
    "    ## create fam file\n",
    "    fam.to_csv(biovar_gemma_path + '/1001g_grenet_climate.fam', index=None, header=None, sep = ' ')\n",
    "    fam.to_csv(biovar_bslmm_path + '/1001g_grenet_climate.fam', index=None, header=None, sep = ' ')\n",
    "    \n",
    "    ## create symlinks for bed bim \n",
    "    os.symlink(bed_file, os.path.join(biovar_gemma_path, \"1001g_grenet_climate.bed\"))\n",
    "    os.symlink(bim_file, os.path.join(biovar_gemma_path, \"1001g_grenet_climate.bim\"))\n",
    "\n",
    "    os.symlink(bed_file, os.path.join(biovar_bslmm_path, \"1001g_grenet_climate.bed\"))\n",
    "    os.symlink(bim_file, os.path.join(biovar_bslmm_path, \"1001g_grenet_climate.bim\"))"
   ]
  },
  {
   "cell_type": "code",
   "execution_count": null,
   "id": "a9b08e1f-829c-4518-9764-52790c1c2196",
   "metadata": {},
   "outputs": [],
   "source": [
    "path = '/carnegie/nobackup/scratch/tbellagio/gea_grene-net/idea_fromind_to_pop/allele_assoc_runs'\n"
   ]
  },
  {
   "cell_type": "code",
   "execution_count": 65,
   "id": "6f3be161-940a-4450-b263-0ad07dc80948",
   "metadata": {},
   "outputs": [],
   "source": [
    "shfiles = []\n",
    "\n",
    "kinship_path = path + '/1001g_grenet_climateLDpruned_05maf.cXX.txt'\n",
    "pcs_path = path + '/pc_1000.txt'\n",
    "## submit gemma jobs \n",
    "for biovar in biovars:\n",
    "    biovar_gemma_path = gemma_path + biovar + '/'\n",
    "    seed = random.randint(1, 100000000)\n",
    "    file = biovar_gemma_path + f'gemma_{biovar}.sh'\n",
    "    text = f'''#!/bin/bash\n",
    "#SBATCH --job-name=gemma_{biovar}\n",
    "#SBATCH --time=2-00:00:00\n",
    "#SBATCH --nodes=1\n",
    "#SBATCH --ntasks=1\n",
    "#SBATCH --mem-per-cpu=120gb\n",
    "#SBATCH --cpus-per-task=2\n",
    "#SBATCH --output=gemma_{biovar}_%j.out\n",
    "#SBATCH --mail-user=tbellagio@carnegiescience.edu\n",
    "#SBATCH --mail-type=FAIL\n",
    "\n",
    "source /home/tbellagio/miniforge3/etc/profile.d/conda.sh\n",
    "\n",
    "export PATH=\"${{PATH}}:/home/username/bin\"\n",
    "\n",
    "cd {biovar_gemma_path}\n",
    "\n",
    "conda activate /home/tbellagio/miniforge3/envs/gwas\n",
    "\n",
    "gemma \\\n",
    "-bfile 1001g_grenet_climate \\\n",
    "-maf 0.05 \\\n",
    "-lmm -k {kinship_path} \\\n",
    "-c {pcs_path} \\\n",
    "-o {biovar}\n",
    "\n",
    "'''\n",
    "\n",
    "    with open(file, 'w') as o:\n",
    "        o.write(text)\n",
    "    shfiles.append(file)\n",
    "    "
   ]
  },
  {
   "cell_type": "code",
   "execution_count": null,
   "id": "3c64e7dd-359d-40e2-b650-982238cb162e",
   "metadata": {},
   "outputs": [],
   "source": []
  },
  {
   "cell_type": "code",
   "execution_count": 55,
   "id": "65c97e62-73c8-4ba1-b37e-3e6a03fae585",
   "metadata": {},
   "outputs": [
    {
     "data": {
      "text/plain": [
       "'/carnegie/nobackup/scratch/tbellagio/gea_grene-net/idea_fromind_to_pop/allele_assoc_runs/lmm_gemma/bio1/gemma_bio1.sh'"
      ]
     },
     "execution_count": 55,
     "metadata": {},
     "output_type": "execute_result"
    }
   ],
   "source": [
    "shfiles[0]"
   ]
  },
  {
   "cell_type": "code",
   "execution_count": 56,
   "id": "3f115d1c-70f6-4fca-8a6e-800d41a6da2c",
   "metadata": {},
   "outputs": [
    {
     "name": "stdout",
     "output_type": "stream",
     "text": [
      "Submitted batch job 5825\n"
     ]
    },
    {
     "data": {
      "text/plain": [
       "CompletedProcess(args=['sbatch', '/carnegie/nobackup/scratch/tbellagio/gea_grene-net/idea_fromind_to_pop/allele_assoc_runs/lmm_gemma/bio1/gemma_bio1.sh'], returncode=0)"
      ]
     },
     "execution_count": 56,
     "metadata": {},
     "output_type": "execute_result"
    }
   ],
   "source": [
    "subprocess.run(['sbatch', shfiles[0]])"
   ]
  },
  {
   "cell_type": "code",
   "execution_count": 66,
   "id": "85b623b6-c95e-4919-be9e-342fb0fdcd30",
   "metadata": {},
   "outputs": [
    {
     "name": "stdout",
     "output_type": "stream",
     "text": [
      "Submitted batch job 5829\n",
      "Submitted batch job 5830\n",
      "Submitted batch job 5831\n",
      "Submitted batch job 5832\n",
      "Submitted batch job 5833\n",
      "Submitted batch job 5834\n",
      "Submitted batch job 5835\n",
      "Submitted batch job 5836\n",
      "Submitted batch job 5837\n",
      "Submitted batch job 5838\n",
      "Submitted batch job 5839\n",
      "Submitted batch job 5840\n",
      "Submitted batch job 5841\n",
      "Submitted batch job 5842\n",
      "Submitted batch job 5843\n",
      "Submitted batch job 5844\n",
      "Submitted batch job 5845\n",
      "Submitted batch job 5846\n",
      "Submitted batch job 5847\n"
     ]
    }
   ],
   "source": [
    "for file in shfiles:\n",
    "    subprocess.run(['sbatch', file])"
   ]
  },
  {
   "cell_type": "code",
   "execution_count": null,
   "id": "06fc2a24-cedf-4faf-bd7d-74fb04689448",
   "metadata": {},
   "outputs": [],
   "source": []
  },
  {
   "cell_type": "code",
   "execution_count": null,
   "id": "9ce89504-d4de-48d0-a517-ce5622071f57",
   "metadata": {},
   "outputs": [],
   "source": []
  },
  {
   "cell_type": "code",
   "execution_count": 67,
   "id": "f241b673-5c43-4dad-b338-4d38d6c6fee5",
   "metadata": {},
   "outputs": [],
   "source": [
    "shfiles = []\n",
    "## submit bslmm jobs \n",
    "for biovar in biovars:\n",
    "    biovar_bslmm_path = bslmm_path + biovar + '/'\n",
    "    seed = random.randint(1, 100000000)\n",
    "    file = biovar_bslmm_path + f'bslmm_{biovar}.sh'\n",
    "    text = f'''#!/bin/bash\n",
    "#SBATCH --job-name=bslmm_{biovar}\n",
    "#SBATCH --time=2-00:00:00\n",
    "#SBATCH --nodes=1\n",
    "#SBATCH --ntasks=1\n",
    "#SBATCH --mem-per-cpu=120gb\n",
    "#SBATCH --cpus-per-task=2\n",
    "#SBATCH --output=bslmm_{biovar}_%j.out\n",
    "#SBATCH --mail-user=tbellagio@carnegiescience.edu\n",
    "#SBATCH --mail-type=FAIL\n",
    "\n",
    "source /home/tbellagio/miniforge3/etc/profile.d/conda.sh\n",
    "\n",
    "export PATH=\"${{PATH}}:/home/username/bin\"\n",
    "\n",
    "cd {biovar_bslmm_path}\n",
    "\n",
    "conda activate /home/tbellagio/miniforge3/envs/gwas\n",
    "\n",
    "gemma \\\n",
    "-bfile 1001g_grenet_climate \\\n",
    "-maf 0.05 \\\n",
    "-bslmm 1 \\\n",
    "-o {biovar}\n",
    "\n",
    "'''\n",
    "\n",
    "    with open(file, 'w') as o:\n",
    "        o.write(text)\n",
    "    shfiles.append(file)"
   ]
  },
  {
   "cell_type": "code",
   "execution_count": 68,
   "id": "b909f68b-71f0-4a00-8de4-fc9949b8a33b",
   "metadata": {},
   "outputs": [
    {
     "data": {
      "text/plain": [
       "['/carnegie/nobackup/scratch/tbellagio/gea_grene-net/idea_fromind_to_pop/allele_assoc_runs/bslmm/bio1/bslmm_bio1.sh',\n",
       " '/carnegie/nobackup/scratch/tbellagio/gea_grene-net/idea_fromind_to_pop/allele_assoc_runs/bslmm/bio2/bslmm_bio2.sh',\n",
       " '/carnegie/nobackup/scratch/tbellagio/gea_grene-net/idea_fromind_to_pop/allele_assoc_runs/bslmm/bio3/bslmm_bio3.sh',\n",
       " '/carnegie/nobackup/scratch/tbellagio/gea_grene-net/idea_fromind_to_pop/allele_assoc_runs/bslmm/bio4/bslmm_bio4.sh',\n",
       " '/carnegie/nobackup/scratch/tbellagio/gea_grene-net/idea_fromind_to_pop/allele_assoc_runs/bslmm/bio5/bslmm_bio5.sh',\n",
       " '/carnegie/nobackup/scratch/tbellagio/gea_grene-net/idea_fromind_to_pop/allele_assoc_runs/bslmm/bio6/bslmm_bio6.sh',\n",
       " '/carnegie/nobackup/scratch/tbellagio/gea_grene-net/idea_fromind_to_pop/allele_assoc_runs/bslmm/bio7/bslmm_bio7.sh',\n",
       " '/carnegie/nobackup/scratch/tbellagio/gea_grene-net/idea_fromind_to_pop/allele_assoc_runs/bslmm/bio8/bslmm_bio8.sh',\n",
       " '/carnegie/nobackup/scratch/tbellagio/gea_grene-net/idea_fromind_to_pop/allele_assoc_runs/bslmm/bio9/bslmm_bio9.sh',\n",
       " '/carnegie/nobackup/scratch/tbellagio/gea_grene-net/idea_fromind_to_pop/allele_assoc_runs/bslmm/bio10/bslmm_bio10.sh',\n",
       " '/carnegie/nobackup/scratch/tbellagio/gea_grene-net/idea_fromind_to_pop/allele_assoc_runs/bslmm/bio11/bslmm_bio11.sh',\n",
       " '/carnegie/nobackup/scratch/tbellagio/gea_grene-net/idea_fromind_to_pop/allele_assoc_runs/bslmm/bio12/bslmm_bio12.sh',\n",
       " '/carnegie/nobackup/scratch/tbellagio/gea_grene-net/idea_fromind_to_pop/allele_assoc_runs/bslmm/bio13/bslmm_bio13.sh',\n",
       " '/carnegie/nobackup/scratch/tbellagio/gea_grene-net/idea_fromind_to_pop/allele_assoc_runs/bslmm/bio14/bslmm_bio14.sh',\n",
       " '/carnegie/nobackup/scratch/tbellagio/gea_grene-net/idea_fromind_to_pop/allele_assoc_runs/bslmm/bio15/bslmm_bio15.sh',\n",
       " '/carnegie/nobackup/scratch/tbellagio/gea_grene-net/idea_fromind_to_pop/allele_assoc_runs/bslmm/bio16/bslmm_bio16.sh',\n",
       " '/carnegie/nobackup/scratch/tbellagio/gea_grene-net/idea_fromind_to_pop/allele_assoc_runs/bslmm/bio17/bslmm_bio17.sh',\n",
       " '/carnegie/nobackup/scratch/tbellagio/gea_grene-net/idea_fromind_to_pop/allele_assoc_runs/bslmm/bio18/bslmm_bio18.sh',\n",
       " '/carnegie/nobackup/scratch/tbellagio/gea_grene-net/idea_fromind_to_pop/allele_assoc_runs/bslmm/bio19/bslmm_bio19.sh']"
      ]
     },
     "execution_count": 68,
     "metadata": {},
     "output_type": "execute_result"
    }
   ],
   "source": [
    "shfiles"
   ]
  },
  {
   "cell_type": "code",
   "execution_count": 64,
   "id": "2fcd2ea5-6ce5-4e87-a71c-1f54ce0a6b62",
   "metadata": {},
   "outputs": [
    {
     "name": "stdout",
     "output_type": "stream",
     "text": [
      "Submitted batch job 5827\n"
     ]
    },
    {
     "data": {
      "text/plain": [
       "CompletedProcess(args=['sbatch', '/carnegie/nobackup/scratch/tbellagio/gea_grene-net/idea_fromind_to_pop/allele_assoc_runs/bslmm/bio1/bslmm_bio1.sh'], returncode=0)"
      ]
     },
     "execution_count": 64,
     "metadata": {},
     "output_type": "execute_result"
    }
   ],
   "source": [
    "subprocess.run(['sbatch', shfiles[0]])"
   ]
  },
  {
   "cell_type": "code",
   "execution_count": 69,
   "id": "bd77a3e5-5706-4027-acf3-bdb9c71777fb",
   "metadata": {},
   "outputs": [
    {
     "name": "stdout",
     "output_type": "stream",
     "text": [
      "Submitted batch job 5848\n",
      "Submitted batch job 5849\n",
      "Submitted batch job 5850\n",
      "Submitted batch job 5851\n",
      "Submitted batch job 5852\n",
      "Submitted batch job 5853\n",
      "Submitted batch job 5854\n",
      "Submitted batch job 5855\n",
      "Submitted batch job 5856\n",
      "Submitted batch job 5857\n",
      "Submitted batch job 5858\n",
      "Submitted batch job 5859\n",
      "Submitted batch job 5860\n",
      "Submitted batch job 5861\n",
      "Submitted batch job 5862\n",
      "Submitted batch job 5863\n",
      "Submitted batch job 5864\n",
      "Submitted batch job 5865\n",
      "Submitted batch job 5866\n"
     ]
    }
   ],
   "source": [
    "for file in shfiles:\n",
    "    subprocess.run(['sbatch', file])"
   ]
  },
  {
   "cell_type": "code",
   "execution_count": null,
   "id": "dfa7504d-93f0-46c5-9544-2eb05682bddd",
   "metadata": {},
   "outputs": [],
   "source": []
  },
  {
   "cell_type": "code",
   "execution_count": null,
   "id": "9045d32d-775b-4614-93ea-59bd4834beeb",
   "metadata": {},
   "outputs": [],
   "source": []
  }
 ],
 "metadata": {
  "kernelspec": {
   "display_name": "Python (pipeline_snakemake)",
   "language": "python",
   "name": "pipeline_snakemake"
  },
  "language_info": {
   "codemirror_mode": {
    "name": "ipython",
    "version": 3
   },
   "file_extension": ".py",
   "mimetype": "text/x-python",
   "name": "python",
   "nbconvert_exporter": "python",
   "pygments_lexer": "ipython3",
   "version": "3.9.16"
  }
 },
 "nbformat": 4,
 "nbformat_minor": 5
}
