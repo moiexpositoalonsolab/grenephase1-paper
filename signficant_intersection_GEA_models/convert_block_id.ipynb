{
 "cells": [
  {
   "cell_type": "code",
   "execution_count": 1,
   "id": "93fa703f-b090-4d13-91c7-795a31c65693",
   "metadata": {},
   "outputs": [
    {
     "name": "stderr",
     "output_type": "stream",
     "text": [
      "/tmp/ipykernel_1762566/4080736814.py:1: DeprecationWarning: \n",
      "Pyarrow will become a required dependency of pandas in the next major release of pandas (pandas 3.0),\n",
      "(to allow more performant data types, such as the Arrow string type, and better interoperability with other libraries)\n",
      "but was not found to be installed on your system.\n",
      "If this would cause problems for you,\n",
      "please provide us feedback at https://github.com/pandas-dev/pandas/issues/54466\n",
      "        \n",
      "  import pandas as pd\n"
     ]
    }
   ],
   "source": [
    "import pandas as pd"
   ]
  },
  {
   "cell_type": "code",
   "execution_count": 2,
   "id": "620d4978-d606-4949-b94e-e35eae87af48",
   "metadata": {},
   "outputs": [],
   "source": [
    "import pickle\n",
    "dict_blocks = '../key_files/blocks_snpsid_dict.pkl'\n",
    "\n",
    "with open(dict_blocks, 'rb') as file:\n",
    "    dict_blocks = pickle.load(file)\n",
    "\n",
    "reverse_mapping = {item: key for key, values in dict_blocks.items() for item in values}"
   ]
  },
  {
   "cell_type": "code",
   "execution_count": 20,
   "id": "a3da3884-f363-4106-a6c1-fb704678b47d",
   "metadata": {},
   "outputs": [],
   "source": [
    "bio18 = pd.read_csv('genes_info_BH_tair10_bio18.csv')"
   ]
  },
  {
   "cell_type": "code",
   "execution_count": 21,
   "id": "25218eb6-faf7-441c-bc7a-683e750a503e",
   "metadata": {},
   "outputs": [
    {
     "data": {
      "text/plain": [
       "'2_7667915'"
      ]
     },
     "execution_count": 21,
     "metadata": {},
     "output_type": "execute_result"
    }
   ],
   "source": [
    "dict_blocks['2_841'][0]"
   ]
  },
  {
   "cell_type": "code",
   "execution_count": 22,
   "id": "5c6c6060-fca6-4daa-8203-72fe33b1e07a",
   "metadata": {},
   "outputs": [
    {
     "data": {
      "text/plain": [
       "'2_7702005'"
      ]
     },
     "execution_count": 22,
     "metadata": {},
     "output_type": "execute_result"
    }
   ],
   "source": [
    "dict_blocks['2_841'][-1]"
   ]
  },
  {
   "cell_type": "code",
   "execution_count": 23,
   "id": "0a037e60-bd5b-42d2-a481-c5390763cc05",
   "metadata": {},
   "outputs": [
    {
     "data": {
      "text/plain": [
       "'5_8706646'"
      ]
     },
     "execution_count": 23,
     "metadata": {},
     "output_type": "execute_result"
    }
   ],
   "source": [
    "dict_blocks[i][0]"
   ]
  },
  {
   "cell_type": "code",
   "execution_count": 24,
   "id": "adad18bc-7e79-4bf0-91c6-ea010a343643",
   "metadata": {},
   "outputs": [],
   "source": [
    "import pandas as pd\n",
    "\n",
    "# Assuming bio18 and dict_blocks are already defined\n",
    "# Function to format the string based on block_id\n",
    "def format_block_id(block_id):\n",
    "    # Accessing the first and last elements of the list for the block_id in dict_blocks\n",
    "    first_part = dict_blocks[block_id][0].split('_')\n",
    "    last_part = dict_blocks[block_id][-1].split('_')\n",
    "    # Formatting the string as per your provided structure\n",
    "    return f\"{first_part[0]}:{first_part[-1]}-{last_part[-1]}\"\n",
    "\n",
    "# Apply the function to the block_id column and create a new column\n",
    "bio18['block_id'] = bio18['block_id'].apply(format_block_id)\n"
   ]
  },
  {
   "cell_type": "code",
   "execution_count": 26,
   "id": "a0c79891-74cf-4278-bbe4-970dfde15ea7",
   "metadata": {},
   "outputs": [],
   "source": [
    "bio18.to_csv('genes_info_BH_tair10_bio18_w_block_id.csv',index=None)"
   ]
  },
  {
   "cell_type": "code",
   "execution_count": null,
   "id": "d29b777d-35ab-458e-bd61-6e9ef85788ae",
   "metadata": {},
   "outputs": [],
   "source": []
  }
 ],
 "metadata": {
  "kernelspec": {
   "display_name": "Python 3 (ipykernel)",
   "language": "python",
   "name": "python3"
  },
  "language_info": {
   "codemirror_mode": {
    "name": "ipython",
    "version": 3
   },
   "file_extension": ".py",
   "mimetype": "text/x-python",
   "name": "python",
   "nbconvert_exporter": "python",
   "pygments_lexer": "ipython3",
   "version": "3.11.4"
  }
 },
 "nbformat": 4,
 "nbformat_minor": 5
}
