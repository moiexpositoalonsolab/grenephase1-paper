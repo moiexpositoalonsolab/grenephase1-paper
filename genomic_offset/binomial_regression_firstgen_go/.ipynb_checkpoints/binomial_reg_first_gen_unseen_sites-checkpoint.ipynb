{
 "cells": [
  {
   "cell_type": "code",
   "execution_count": 1,
   "id": "52f0ffaf-d5fd-48f3-af5a-15747a18b1a9",
   "metadata": {},
   "outputs": [],
   "source": [
    "import pandas as pd\n",
    "import pickle"
   ]
  },
  {
   "cell_type": "code",
   "execution_count": 2,
   "id": "088fd716-b708-4f51-9f7b-3822b67cbfac",
   "metadata": {},
   "outputs": [],
   "source": [
    "import statsmodels.api as sm\n",
    "from statsmodels.formula.api import glm"
   ]
  },
  {
   "cell_type": "code",
   "execution_count": 3,
   "id": "9e1be5b9-826e-47c3-803a-2a0bc5f0b06b",
   "metadata": {},
   "outputs": [],
   "source": [
    "from sklearn.preprocessing import StandardScaler\n"
   ]
  },
  {
   "cell_type": "code",
   "execution_count": 4,
   "id": "18dfabfd-f3d4-481d-b753-46f4fd374b67",
   "metadata": {},
   "outputs": [],
   "source": [
    "import seaborn as sns\n",
    "import numpy as np\n",
    "import matplotlib.pyplot as plt"
   ]
  },
  {
   "cell_type": "code",
   "execution_count": null,
   "id": "0b47f952-d647-43f6-a212-b4800e9d8ad4",
   "metadata": {},
   "outputs": [],
   "source": []
  },
  {
   "cell_type": "code",
   "execution_count": 95,
   "id": "f3e565be-a61c-4c35-8b38-5ce826a28f89",
   "metadata": {},
   "outputs": [],
   "source": [
    "#finalgen_samples = pd.read_csv('../final_gen.csv')['sample_name']\n",
    "first_gen = pd.read_csv('../key_files/generation_1_sample_names.txt',header=None)[0]\n",
    "samples = first_gen.to_list()\n",
    "\n",
    "#clim_sites_during_exp = pd.read_csv('/carnegie/nobackup/scratch/tbellagio/grene/data/bio')\n",
    "clim_sites_during_exp = pd.read_csv('../key_files/bioclimvars_sites_era5_year_2018.csv')\n",
    "\n",
    "sites_af = pd.Series(samples).str.split('_').str[0].astype(int)\n",
    "\n",
    "sites_af.name = 'site'"
   ]
  },
  {
   "cell_type": "code",
   "execution_count": null,
   "id": "a482d6cd-dac1-4978-ab01-1100fe8632e0",
   "metadata": {},
   "outputs": [],
   "source": []
  },
  {
   "cell_type": "code",
   "execution_count": 96,
   "id": "2e57d9de-8f0a-4626-942a-ed3805189bec",
   "metadata": {},
   "outputs": [],
   "source": [
    "unseen_sites = [7, 50, 56, 21, 41, 47]\n",
    "\n",
    "# Convert the list to a Series and concatenate with the existing Series\n",
    "new_series = pd.Series(unseen_sites, name='site')"
   ]
  },
  {
   "cell_type": "code",
   "execution_count": 97,
   "id": "dfbf8bbd-603a-4993-9fbc-7ee7b7ac81b1",
   "metadata": {},
   "outputs": [],
   "source": [
    "sites_af = pd.concat([sites_af, new_series], ignore_index=True)"
   ]
  },
  {
   "cell_type": "code",
   "execution_count": 98,
   "id": "0d8347e5-3351-4764-a63c-9122234a767b",
   "metadata": {},
   "outputs": [
    {
     "data": {
      "text/plain": [
       "0       1\n",
       "1       1\n",
       "2       1\n",
       "3       1\n",
       "4       1\n",
       "       ..\n",
       "327    50\n",
       "328    56\n",
       "329    21\n",
       "330    41\n",
       "331    47\n",
       "Name: site, Length: 332, dtype: int64"
      ]
     },
     "execution_count": 98,
     "metadata": {},
     "output_type": "execute_result"
    }
   ],
   "source": [
    "sites_af"
   ]
  },
  {
   "cell_type": "code",
   "execution_count": 99,
   "id": "14c33c01-8663-4708-8072-67f48f46b0d7",
   "metadata": {},
   "outputs": [],
   "source": [
    "env = sites_af.reset_index().merge(clim_sites_during_exp).drop(['index'],axis=1)"
   ]
  },
  {
   "cell_type": "code",
   "execution_count": 100,
   "id": "cd483ec9-2692-4621-8407-8195c03d8f4d",
   "metadata": {},
   "outputs": [],
   "source": [
    "env = env.drop_duplicates()"
   ]
  },
  {
   "cell_type": "code",
   "execution_count": 103,
   "id": "182cc2b9-13e3-42e0-ad25-576940f65784",
   "metadata": {},
   "outputs": [],
   "source": [
    "env_variable = env['bio1']"
   ]
  },
  {
   "cell_type": "code",
   "execution_count": 104,
   "id": "ba757333-0e43-4ee8-bda5-54d705df7897",
   "metadata": {},
   "outputs": [],
   "source": [
    "# Standardize the environmental variable\n",
    "scaler = StandardScaler()\n",
    "env_variable_scaled = scaler.fit_transform(env_variable.values.reshape(-1, 1))"
   ]
  },
  {
   "cell_type": "code",
   "execution_count": 105,
   "id": "b4adf649-0210-416e-84ab-1e15f2027ed0",
   "metadata": {},
   "outputs": [
    {
     "data": {
      "text/plain": [
       "array([[-0.63301035],\n",
       "       [ 0.62998849],\n",
       "       [ 0.9607133 ],\n",
       "       [ 0.5065032 ],\n",
       "       [ 0.490795  ],\n",
       "       [-0.01764487],\n",
       "       [ 1.89285253],\n",
       "       [ 0.37374395],\n",
       "       [ 0.10925582],\n",
       "       [ 1.85806904],\n",
       "       [-1.25761681],\n",
       "       [-1.66067502],\n",
       "       [-0.37155704],\n",
       "       [ 2.35949902],\n",
       "       [-1.61316253],\n",
       "       [ 0.89775384],\n",
       "       [ 1.19492958],\n",
       "       [-0.26362888],\n",
       "       [-1.28094926],\n",
       "       [-0.68553582],\n",
       "       [ 1.31430792],\n",
       "       [ 0.63711906],\n",
       "       [-0.38243202],\n",
       "       [-1.02783177],\n",
       "       [-0.2965911 ],\n",
       "       [-0.20215664],\n",
       "       [-0.13045425],\n",
       "       [-0.08370172],\n",
       "       [-0.39572256],\n",
       "       [-0.15300913],\n",
       "       [ 1.54619886],\n",
       "       [-0.48562275],\n",
       "       [-0.96105472],\n",
       "       [-1.65026104],\n",
       "       [-0.56820639],\n",
       "       [-0.49354349],\n",
       "       [-0.15736145]])"
      ]
     },
     "execution_count": 105,
     "metadata": {},
     "output_type": "execute_result"
    }
   ],
   "source": [
    "env_variable_scaled"
   ]
  },
  {
   "cell_type": "code",
   "execution_count": 106,
   "id": "5e13bc70-75f4-4a12-9289-c83b420d4919",
   "metadata": {},
   "outputs": [],
   "source": [
    "pd.DataFrame(env_variable_scaled).to_csv('env.csv',index=None)"
   ]
  },
  {
   "cell_type": "code",
   "execution_count": 108,
   "id": "9ccadb83-31a9-4159-a7c3-491f7417fc65",
   "metadata": {},
   "outputs": [],
   "source": [
    "env_site_scaled = pd.concat([env['site'],pd.Series(env_variable_scaled.flatten())],axis=1)"
   ]
  },
  {
   "cell_type": "code",
   "execution_count": 109,
   "id": "8e23e6bc-44d1-4b1f-bc70-d556c33783bd",
   "metadata": {},
   "outputs": [],
   "source": [
    "env_site_scaled.columns = ['site', 'env_scaled']"
   ]
  },
  {
   "cell_type": "code",
   "execution_count": 110,
   "id": "4f4bbcf5-b2f9-4452-a0df-7f94b10894c6",
   "metadata": {},
   "outputs": [],
   "source": [
    "env_site_scaled.to_csv('env_site_scaled.csv',index=None)"
   ]
  },
  {
   "cell_type": "code",
   "execution_count": null,
   "id": "491ef592-4b8d-488d-91ec-35a4a34dc3c0",
   "metadata": {},
   "outputs": [],
   "source": []
  },
  {
   "cell_type": "code",
   "execution_count": null,
   "id": "bbcff4cd-4f9a-4a5d-b95e-98eab2791f14",
   "metadata": {},
   "outputs": [],
   "source": []
  },
  {
   "cell_type": "code",
   "execution_count": 112,
   "id": "d642c80e-bd16-4da6-9321-e33943cb91d8",
   "metadata": {},
   "outputs": [],
   "source": [
    "import os"
   ]
  },
  {
   "cell_type": "code",
   "execution_count": 113,
   "id": "07c00bd1-2c80-4f20-b7c5-b07135cc19c5",
   "metadata": {},
   "outputs": [],
   "source": [
    "files = os.listdir('../baypass_first_gen/individual_gfiles/')"
   ]
  },
  {
   "cell_type": "code",
   "execution_count": 114,
   "id": "fe8490ec-f1e6-4570-bfe4-01f32bd65e10",
   "metadata": {},
   "outputs": [],
   "source": [
    "partitions = [int(file.split('_')[1].replace('.txt', '')) for file in files if '.txt' in file]"
   ]
  },
  {
   "cell_type": "code",
   "execution_count": 115,
   "id": "b50b219d-b9d1-48a2-9d4c-5efe48e40c6c",
   "metadata": {},
   "outputs": [],
   "source": [
    "partitions.sort()"
   ]
  },
  {
   "cell_type": "code",
   "execution_count": 116,
   "id": "ed082e77-be96-4661-a944-9bd6dc342b92",
   "metadata": {},
   "outputs": [
    {
     "data": {
      "text/plain": [
       "201"
      ]
     },
     "execution_count": 116,
     "metadata": {},
     "output_type": "execute_result"
    }
   ],
   "source": [
    "partitions[-1]"
   ]
  },
  {
   "cell_type": "code",
   "execution_count": 117,
   "id": "a1c40af9-a40b-49a1-86dd-55e96c1bd806",
   "metadata": {
    "scrolled": true
   },
   "outputs": [
    {
     "data": {
      "text/plain": [
       "202"
      ]
     },
     "execution_count": 117,
     "metadata": {},
     "output_type": "execute_result"
    }
   ],
   "source": [
    "len(partitions)"
   ]
  },
  {
   "cell_type": "code",
   "execution_count": 118,
   "id": "364c3490-1eef-4a5b-8a5a-da9835c401b8",
   "metadata": {
    "scrolled": true
   },
   "outputs": [
    {
     "data": {
      "text/plain": [
       "'/carnegie/nobackup/scratch/tbellagio/gea_grene-net/binomial_regression_firstgen_go'"
      ]
     },
     "execution_count": 118,
     "metadata": {},
     "output_type": "execute_result"
    }
   ],
   "source": [
    "pwd -P"
   ]
  },
  {
   "cell_type": "code",
   "execution_count": 119,
   "id": "290bca4c-714e-4513-9a0f-b06e14de48bb",
   "metadata": {},
   "outputs": [],
   "source": [
    "import random\n",
    "import subprocess"
   ]
  },
  {
   "cell_type": "code",
   "execution_count": null,
   "id": "a79d84fc-3344-4752-8c7f-54efc67a321f",
   "metadata": {},
   "outputs": [],
   "source": []
  },
  {
   "cell_type": "code",
   "execution_count": null,
   "id": "f551b014-f7d8-48fd-b235-405d25a68782",
   "metadata": {},
   "outputs": [],
   "source": []
  },
  {
   "cell_type": "code",
   "execution_count": 154,
   "id": "7a4db605-df5c-48c2-ae64-3c8fb930009e",
   "metadata": {},
   "outputs": [],
   "source": [
    "samples = pd.read_csv('../key_files/merged_sample_table.csv')"
   ]
  },
  {
   "cell_type": "code",
   "execution_count": 155,
   "id": "c6bc5697-bcbc-49a8-9a61-61f46dd5737b",
   "metadata": {},
   "outputs": [],
   "source": [
    "samples = samples[samples['generation'] ==1]"
   ]
  },
  {
   "cell_type": "code",
   "execution_count": 156,
   "id": "cf9a73cc-5a76-44bb-9642-758e24cb2792",
   "metadata": {},
   "outputs": [],
   "source": [
    "samples = samples['sample_name'].to_list()"
   ]
  },
  {
   "cell_type": "code",
   "execution_count": 158,
   "id": "846f417f-64bc-4584-b325-63b1770dcf4e",
   "metadata": {},
   "outputs": [],
   "source": [
    "import pickle\n",
    "\n",
    "def create_fake_cv(samples, unseen_sites):\n",
    "    \"\"\"\n",
    "    Creates a fake cross-validation file where all samples are used for training\n",
    "    and a single fake sample name is used for each unseen site in the test set.\n",
    "\n",
    "    Parameters:\n",
    "    samples (list): Original list of cross-validation splits.\n",
    "    unseen_sites (list): List of unseen site numbers.\n",
    "\n",
    "    Returns:\n",
    "    list: New list of cross-validation splits with fake samples for unseen sites.\n",
    "    \"\"\"\n",
    "    # Flatten the original sample list to get all unique samples\n",
    "    #all_samples = sorted(set([sample for split in samples for sample in split[0]]))\n",
    "    \n",
    "    # Create the new fake splits\n",
    "    fake_splits = []\n",
    "    for site in unseen_sites:\n",
    "        train = samples  # Use all samples for training\n",
    "        # Create one fake sample name for each unseen site\n",
    "        test = [f\"{site}_1_1\"]\n",
    "        # Append the new split as a tuple of (train, test)\n",
    "        fake_splits.append((train, test))\n",
    "    \n",
    "    return fake_splits\n"
   ]
  },
  {
   "cell_type": "code",
   "execution_count": 160,
   "id": "3aedbfa3-3faf-49ef-918f-1731648f4469",
   "metadata": {},
   "outputs": [
    {
     "name": "stdout",
     "output_type": "stream",
     "text": [
      "Fake cross-validation splits saved to ../jacknife_first_gen/fake_splits_samples_for_unseen_sites.pkl\n"
     ]
    }
   ],
   "source": [
    "# Unseen site numbers\n",
    "unseen_sites = [7, 50, 56, 21, 41, 47]\n",
    "\n",
    "# Create fake cross-validation splits\n",
    "fake_cv_splits = create_fake_cv(samples, unseen_sites)\n",
    "\n",
    "# Save the fake splits to a new pickle file\n",
    "output_path = '../jacknife_first_gen/fake_splits_samples_for_unseen_sites.pkl'\n",
    "with open(output_path, 'wb') as file:\n",
    "    pickle.dump(fake_cv_splits, file)\n",
    "\n",
    "print(f\"Fake cross-validation splits saved to {output_path}\")"
   ]
  },
  {
   "cell_type": "code",
   "execution_count": null,
   "id": "075a0bda-151e-4305-9e75-2e587ce7fed8",
   "metadata": {},
   "outputs": [],
   "source": []
  },
  {
   "cell_type": "code",
   "execution_count": null,
   "id": "bcaaba8c-f608-45c2-acf7-f5709f8640ed",
   "metadata": {},
   "outputs": [],
   "source": []
  },
  {
   "cell_type": "code",
   "execution_count": 161,
   "id": "e4de9217-8cf5-4dfa-bedb-6e3b6f5bfe0f",
   "metadata": {},
   "outputs": [],
   "source": [
    "file_path = '../jacknife_first_gen/fake_splits_samples_for_unseen_sites.pkl'\n",
    "\n",
    "# Open and load the .pkl file\n",
    "with open(file_path, 'rb') as file:\n",
    "    samples_fake = pickle.load(file)"
   ]
  },
  {
   "cell_type": "code",
   "execution_count": 169,
   "id": "3731de86-06f4-447e-be6d-72b1c9ad22c0",
   "metadata": {},
   "outputs": [
    {
     "data": {
      "text/plain": [
       "6"
      ]
     },
     "execution_count": 169,
     "metadata": {},
     "output_type": "execute_result"
    }
   ],
   "source": [
    "len(samples_fake)"
   ]
  },
  {
   "cell_type": "code",
   "execution_count": 165,
   "id": "8a261421-6a49-4e61-84c2-5b6c429a2c11",
   "metadata": {},
   "outputs": [
    {
     "data": {
      "text/plain": [
       "326"
      ]
     },
     "execution_count": 165,
     "metadata": {},
     "output_type": "execute_result"
    }
   ],
   "source": [
    "len(samples_fake[0][0])"
   ]
  },
  {
   "cell_type": "code",
   "execution_count": 167,
   "id": "1b316f44-76d5-454c-aa2c-df795ff0d51c",
   "metadata": {},
   "outputs": [
    {
     "data": {
      "text/plain": [
       "['7_1_1']"
      ]
     },
     "execution_count": 167,
     "metadata": {},
     "output_type": "execute_result"
    }
   ],
   "source": [
    "samples_fake[0][1]"
   ]
  },
  {
   "cell_type": "code",
   "execution_count": 168,
   "id": "4bc418ba-31e1-421f-9a3e-ec65ebb4660e",
   "metadata": {},
   "outputs": [
    {
     "data": {
      "text/plain": [
       "['50_1_1']"
      ]
     },
     "execution_count": 168,
     "metadata": {},
     "output_type": "execute_result"
    }
   ],
   "source": [
    "samples_fake[1][1]"
   ]
  },
  {
   "cell_type": "code",
   "execution_count": null,
   "id": "ac954f5d-fa20-4987-8237-df98ff9b9e67",
   "metadata": {},
   "outputs": [],
   "source": []
  },
  {
   "cell_type": "code",
   "execution_count": 170,
   "id": "4328aab3-04e8-49dd-8a1b-f12ef0de1676",
   "metadata": {},
   "outputs": [],
   "source": [
    "# Loop through splits 0 to 31\n",
    "for split in range(len(samples)):\n",
    "    # Define the folder path\n",
    "    folder_path = f'results_sites_unseen/split_{split}'\n",
    "    # Create the directory (makedirs allows creating intermediate directories if they don't exist)\n",
    "    os.makedirs(folder_path, exist_ok=True)"
   ]
  },
  {
   "cell_type": "code",
   "execution_count": 171,
   "id": "387b8539-a2f7-4743-8364-e300cbab8597",
   "metadata": {},
   "outputs": [
    {
     "data": {
      "text/plain": [
       "'/carnegie/nobackup/scratch/tbellagio/gea_grene-net/binomial_regression_firstgen_go'"
      ]
     },
     "execution_count": 171,
     "metadata": {},
     "output_type": "execute_result"
    }
   ],
   "source": [
    "pwd"
   ]
  },
  {
   "cell_type": "code",
   "execution_count": null,
   "id": "637759f2-6644-4b50-b996-de63bd9629a6",
   "metadata": {},
   "outputs": [],
   "source": []
  },
  {
   "cell_type": "code",
   "execution_count": 91,
   "id": "86f8aa14-6b55-4433-8bf0-1d8c50a1d325",
   "metadata": {},
   "outputs": [],
   "source": [
    "# create sbatch files to submit on cedar server\n",
    "shfiles = []\n",
    "for split in range(len(samples_fake)):\n",
    "    for partition in partitions:\n",
    "        seed = random.randint(1,100000000)\n",
    "        file = f'shfiles/partition_{partition}_{split}.sh'\n",
    "        cmd = f'python run_partition_binomial_reg_first_gen_unseen_sites.py {partition} {split}'\n",
    "        text = f'''#!/bin/bash\n",
    "#SBATCH --job-name=run_partition_binomial_reg{partition}_{split}\n",
    "#SBATCH --time=1:00:00  # Time limit set to 4 hours\n",
    "#SBATCH --ntasks=1\n",
    "#SBATCH --mem-per-cpu=30gb\n",
    "#SBATCH --output=run_partition_binomial_reg_{partition}_{split}_%j.out\n",
    "#SBATCH --mail-user=tbellagio@carnegiescience.edu\n",
    "#SBATCH --mail-type=FAIL\n",
    "\n",
    "module load python/3.11_conda\n",
    "conda activate /home/tbellagio/miniforge3/envs/pipeline_snakemake\n",
    "export LD_LIBRARY_PATH=\"/home/tbellagio/miniforge3/envs/run_baypass/lib:$LD_LIBRARY_PATH\"\n",
    "cd /carnegie/nobackup/scratch/tbellagio/gea_grene-net/binomial_regression_firstgen_go\n",
    "{cmd}\n",
    "\n",
    "'''\n",
    "        with open(file, 'w') as o:\n",
    "            o.write(\"%s\" % text)\n",
    "        shfiles.append(file)"
   ]
  },
  {
   "cell_type": "code",
   "execution_count": 92,
   "id": "dce4c0d0-e91e-4bc8-8103-c523cb5d36dd",
   "metadata": {},
   "outputs": [
    {
     "name": "stdout",
     "output_type": "stream",
     "text": [
      "Submitted batch job 43078\n"
     ]
    },
    {
     "data": {
      "text/plain": [
       "CompletedProcess(args=['sbatch', 'shfiles/partition_0_0.sh'], returncode=0)"
      ]
     },
     "execution_count": 92,
     "metadata": {},
     "output_type": "execute_result"
    }
   ],
   "source": [
    "subprocess.run([\"sbatch\", shfiles[0]], check=True)"
   ]
  },
  {
   "cell_type": "code",
   "execution_count": 283,
   "id": "e8a4d798-faf6-4425-b0a7-d4d46f05681a",
   "metadata": {},
   "outputs": [
    {
     "data": {
      "text/plain": [
       "630"
      ]
     },
     "execution_count": 283,
     "metadata": {},
     "output_type": "execute_result"
    }
   ],
   "source": [
    "len(shfiles)"
   ]
  },
  {
   "cell_type": "code",
   "execution_count": 284,
   "id": "fd36eb23-3cd3-472b-9085-6bc03557987d",
   "metadata": {},
   "outputs": [
    {
     "ename": "NameError",
     "evalue": "name 'split_13' is not defined",
     "output_type": "error",
     "traceback": [
      "\u001b[0;31m---------------------------------------------------------------------------\u001b[0m",
      "\u001b[0;31mNameError\u001b[0m                                 Traceback (most recent call last)",
      "Cell \u001b[0;32mIn[284], line 1\u001b[0m\n\u001b[0;32m----> 1\u001b[0m results\u001b[38;5;241m/\u001b[39m\u001b[43msplit_13\u001b[49m\u001b[38;5;241m/\u001b[39mpartition199\n\u001b[1;32m      2\u001b[0m results\u001b[38;5;241m/\u001b[39msplit_28\u001b[38;5;241m/\u001b[39mpartition31\u001b[38;5;241m.\u001b[39mcsv\n\u001b[1;32m      3\u001b[0m results\u001b[38;5;241m/\u001b[39msplit_29\u001b[38;5;241m/\u001b[39mpartition0\u001b[38;5;241m.\u001b[39mcsv\n",
      "\u001b[0;31mNameError\u001b[0m: name 'split_13' is not defined"
     ]
    }
   ],
   "source": [
    "results/split_13/partition199\n",
    "results/split_28/partition31.csv\n",
    "results/split_29/partition0.csv"
   ]
  },
  {
   "cell_type": "code",
   "execution_count": 271,
   "id": "fd5fba14-a1c4-419b-a66a-6c6d8f32ba89",
   "metadata": {
    "scrolled": true
   },
   "outputs": [
    {
     "data": {
      "text/plain": [
       "['shfiles/partition_199_13.sh']"
      ]
     },
     "execution_count": 271,
     "metadata": {},
     "output_type": "execute_result"
    }
   ],
   "source": [
    "[i for i in shfiles if 'partition_199_13' in i]"
   ]
  },
  {
   "cell_type": "code",
   "execution_count": null,
   "id": "03abc3a2-60f4-4fe2-8a0b-556b8928245b",
   "metadata": {
    "scrolled": true
   },
   "outputs": [],
   "source": [
    "## now run the shfiles\n",
    "for shfile in shfiles:\n",
    "    # Submit each sbatch script to the SLURM scheduler\n",
    "    subprocess.run([\"sbatch\", shfile], check=True)"
   ]
  },
  {
   "cell_type": "code",
   "execution_count": 238,
   "id": "d3eccdb6-3b3f-44e6-a4b9-da42bd0e0da5",
   "metadata": {},
   "outputs": [],
   "source": [
    "files = os.listdir('../baypass_lastgen/individual_gfiles_last_gen/')\n",
    "loci_names = [file for file in files if 'loci' in file]"
   ]
  },
  {
   "cell_type": "code",
   "execution_count": 95,
   "id": "fcce6c32-960a-4783-a9b0-544ce3e9ceb4",
   "metadata": {
    "scrolled": true
   },
   "outputs": [
    {
     "name": "stdout",
     "output_type": "stream",
     "text": [
      "0\n",
      "203\n",
      "1\n",
      "202\n",
      "2\n",
      "202\n",
      "3\n",
      "202\n",
      "4\n",
      "202\n",
      "5\n",
      "202\n",
      "6\n",
      "202\n",
      "7\n",
      "202\n",
      "8\n",
      "202\n",
      "9\n",
      "202\n",
      "10\n",
      "202\n",
      "11\n",
      "202\n",
      "12\n",
      "202\n",
      "13\n",
      "202\n",
      "14\n",
      "202\n",
      "15\n",
      "202\n",
      "16\n",
      "202\n",
      "17\n",
      "202\n",
      "18\n",
      "202\n",
      "19\n",
      "202\n",
      "20\n",
      "202\n",
      "21\n",
      "202\n",
      "22\n",
      "202\n",
      "23\n",
      "202\n",
      "24\n",
      "202\n",
      "25\n",
      "202\n",
      "26\n",
      "202\n",
      "27\n",
      "202\n",
      "28\n",
      "202\n",
      "29\n",
      "202\n",
      "30\n",
      "202\n"
     ]
    }
   ],
   "source": [
    "for split in range(len(samples)):\n",
    "    print(split)\n",
    "    print(len(os.listdir(f'results/split_{split}')))"
   ]
  },
  {
   "cell_type": "code",
   "execution_count": 97,
   "id": "df36e5ba-07fb-4f13-a4af-98395301e742",
   "metadata": {},
   "outputs": [
    {
     "name": "stdout",
     "output_type": "stream",
     "text": [
      "0\n",
      "1\n",
      "2\n",
      "3\n",
      "4\n",
      "5\n",
      "6\n",
      "7\n",
      "8\n",
      "9\n",
      "10\n",
      "11\n",
      "12\n",
      "13\n",
      "14\n",
      "15\n",
      "16\n",
      "17\n",
      "18\n",
      "19\n",
      "20\n",
      "21\n",
      "22\n",
      "23\n",
      "24\n",
      "25\n",
      "26\n",
      "27\n",
      "28\n",
      "29\n",
      "30\n"
     ]
    }
   ],
   "source": [
    "for split in range(len(samples)):\n",
    "    print(split)\n",
    "    partitions_r = {}\n",
    "    for i in range(len(partitions)):  # /baypass_first_gen/individual_gfiles/\n",
    "        pickle_file_path = f'../baypass_first_gen/individual_gfiles/loci_partition_{i}'\n",
    "        with open(pickle_file_path, 'rb') as file:\n",
    "            loci_f = pickle.load(file)\n",
    "        results = pd.read_csv(f'results/split_{split}/partition{i}.csv')\n",
    "        results['snp_id'] = loci_f\n",
    "        partitions_r[i] = results\n",
    "    results = pd.concat(partitions_r).reset_index(drop=True)\n",
    "    results.to_csv(f'results/split_{split}/binomial_reg_results_last_gen.csv',index=None)"
   ]
  },
  {
   "cell_type": "code",
   "execution_count": null,
   "id": "a681190b-6ec3-410f-8861-6f557b6c0978",
   "metadata": {},
   "outputs": [],
   "source": []
  },
  {
   "cell_type": "code",
   "execution_count": null,
   "id": "9b140b99-be09-438b-824f-bfc47a916255",
   "metadata": {},
   "outputs": [],
   "source": []
  },
  {
   "cell_type": "code",
   "execution_count": 66,
   "id": "2ae1a3be-6ecf-429c-9f12-392e8b8628c6",
   "metadata": {},
   "outputs": [],
   "source": [
    "all_loci = []\n",
    "for i in loci_names:\n",
    "    pickle_file_path = f'../baypass_lastgen/individual_gfiles_last_gen/{i}'\n",
    "    with open(pickle_file_path, 'rb') as file:\n",
    "        loci_f = pickle.load(file)\n",
    "    all_loci.append(loci_f)"
   ]
  },
  {
   "cell_type": "code",
   "execution_count": null,
   "id": "162348b7-a57b-4749-b101-1fc873220a99",
   "metadata": {},
   "outputs": [],
   "source": []
  },
  {
   "cell_type": "code",
   "execution_count": 67,
   "id": "4a37396b-b027-41a0-9a15-400391e5526c",
   "metadata": {},
   "outputs": [],
   "source": [
    "flattened_loci = [item for sublist in all_loci for item in sublist]"
   ]
  },
  {
   "cell_type": "code",
   "execution_count": 68,
   "id": "e99f719c-286f-4062-90d0-851de70045f8",
   "metadata": {},
   "outputs": [
    {
     "data": {
      "text/plain": [
       "1048635"
      ]
     },
     "execution_count": 68,
     "metadata": {},
     "output_type": "execute_result"
    }
   ],
   "source": [
    "len(flattened_loci)"
   ]
  },
  {
   "cell_type": "code",
   "execution_count": 74,
   "id": "3bd5c19b-08d7-4846-bfff-6011712d636a",
   "metadata": {},
   "outputs": [
    {
     "data": {
      "text/plain": [
       "-674"
      ]
     },
     "execution_count": 74,
     "metadata": {},
     "output_type": "execute_result"
    }
   ],
   "source": [
    "1054574 - 1055248"
   ]
  },
  {
   "cell_type": "code",
   "execution_count": 62,
   "id": "4d0dab11-2ec7-4945-960b-c7a041876d6f",
   "metadata": {},
   "outputs": [],
   "source": []
  },
  {
   "cell_type": "code",
   "execution_count": null,
   "id": "bb1af15d-bb33-4aa7-a901-6065bf7e2d60",
   "metadata": {},
   "outputs": [],
   "source": []
  }
 ],
 "metadata": {
  "kernelspec": {
   "display_name": "Python (pipeline_snakemake)",
   "language": "python",
   "name": "pipeline_snakemake"
  },
  "language_info": {
   "codemirror_mode": {
    "name": "ipython",
    "version": 3
   },
   "file_extension": ".py",
   "mimetype": "text/x-python",
   "name": "python",
   "nbconvert_exporter": "python",
   "pygments_lexer": "ipython3",
   "version": "3.9.16"
  }
 },
 "nbformat": 4,
 "nbformat_minor": 5
}
