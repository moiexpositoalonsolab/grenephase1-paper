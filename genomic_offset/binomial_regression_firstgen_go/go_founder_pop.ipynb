{
 "cells": [
  {
   "cell_type": "code",
   "execution_count": 1,
   "id": "5367f85a-525b-4ec4-a1d3-e0afc5e26182",
   "metadata": {},
   "outputs": [
    {
     "name": "stderr",
     "output_type": "stream",
     "text": [
      "/tmp/ipykernel_2011127/121802926.py:2: DeprecationWarning: \n",
      "Pyarrow will become a required dependency of pandas in the next major release of pandas (pandas 3.0),\n",
      "(to allow more performant data types, such as the Arrow string type, and better interoperability with other libraries)\n",
      "but was not found to be installed on your system.\n",
      "If this would cause problems for you,\n",
      "please provide us feedback at https://github.com/pandas-dev/pandas/issues/54466\n",
      "        \n",
      "  import pandas as pd\n"
     ]
    }
   ],
   "source": [
    "## trying to obtain go directly from the foudner population to evaluate extintction risk \n",
    "import pandas as pd"
   ]
  },
  {
   "cell_type": "code",
   "execution_count": 2,
   "id": "7dbaa082-056d-4cb2-b934-8ee3850996cb",
   "metadata": {},
   "outputs": [],
   "source": [
    "## last gen \n",
    "from scipy.stats import spearmanr, pearsonr, kendalltau\n",
    "\n",
    "import pandas as pd\n",
    "import pickle\n",
    "import seaborn as sns\n",
    "import numpy as np\n",
    "import matplotlib.pyplot as plt"
   ]
  },
  {
   "cell_type": "code",
   "execution_count": 3,
   "id": "40364213-105b-40d2-b9bb-1157676fee93",
   "metadata": {},
   "outputs": [],
   "source": [
    "ecotypes_names = pd.read_csv('../key_files/founder_ecotype_names.csv')['0'].to_list()"
   ]
  },
  {
   "cell_type": "code",
   "execution_count": 4,
   "id": "6c1bc602-fa2d-413b-8f3a-671cbcc77157",
   "metadata": {},
   "outputs": [],
   "source": [
    "clim_sites_during_exp = pd.read_csv('../key_files/bioclimvars_sites_era5_year_2018.csv')\n"
   ]
  },
  {
   "cell_type": "code",
   "execution_count": 5,
   "id": "ef2e3ace-264e-4bcb-82b7-963d7e9bc5ef",
   "metadata": {},
   "outputs": [],
   "source": [
    "first_gen = pd.read_csv('../key_files/generation_1_sample_names.txt',header=None)[0]\n",
    "samples = first_gen.to_list()"
   ]
  },
  {
   "cell_type": "code",
   "execution_count": 6,
   "id": "54158a22-8562-4b2f-a81f-c68cb485ef49",
   "metadata": {},
   "outputs": [],
   "source": [
    "unique_sites = first_gen.str.split('_').str[0].unique()"
   ]
  },
  {
   "cell_type": "code",
   "execution_count": 7,
   "id": "4e49ea4f-fe45-458b-9601-d40291955465",
   "metadata": {},
   "outputs": [],
   "source": [
    "#sort_bio1 = clim_sites_during_exp\n",
    "clim_sites_during_exp_s = clim_sites_during_exp[clim_sites_during_exp['site'].isin(unique_sites)]\n",
    "\n",
    "sort_bio1 = clim_sites_during_exp_s[['site', 'bio1']].sort_values('bio1')['site'].astype(str).values"
   ]
  },
  {
   "cell_type": "code",
   "execution_count": 8,
   "id": "58601fab-615a-41e1-83bf-2407ecd6d2f5",
   "metadata": {},
   "outputs": [],
   "source": [
    "sort_bio1_int = clim_sites_during_exp_s[['site', 'bio1']].sort_values('bio1')['site'].values"
   ]
  },
  {
   "cell_type": "code",
   "execution_count": 9,
   "id": "95a4c3cd-8734-4ec3-aea5-18e97c17fb41",
   "metadata": {},
   "outputs": [],
   "source": [
    "delta_ef=pd.read_csv('../key_files/delta_ecotype_freq.txt', sep = '\\t', usecols = samples)#[['log_p1_p0','ecotype', 'site','plot']]\n",
    "\n",
    "ef=pd.read_csv('../key_files/merged_ecotype_frequency.txt', sep = '\\t', usecols = samples)#[['log_p1_p0','ecotype', 'site','plot']]\n",
    "delta_ef.index = ecotypes_names\n",
    "ef.index = ecotypes_names"
   ]
  },
  {
   "cell_type": "code",
   "execution_count": 10,
   "id": "b32151cc-2c9e-4cae-8475-a7f3f1e03db3",
   "metadata": {},
   "outputs": [],
   "source": [
    "file_path = '../jacknife_first_gen/splits_samples_first_gen.pkl'\n",
    "# splits_samples_last_gen_no33.pkl\n",
    "# Open and load the .pkl file\n",
    "with open(file_path, 'rb') as file:\n",
    "    samples = pickle.load(file)"
   ]
  },
  {
   "cell_type": "code",
   "execution_count": 12,
   "id": "29d22b90-2f5b-4f60-bda1-3942fff27410",
   "metadata": {},
   "outputs": [],
   "source": [
    "genotype_counts = pd.read_csv('../leave_1_out/genotype_counts_fullgenome231ecotypes.csv').drop('Unnamed: 0', axis=1)"
   ]
  },
  {
   "cell_type": "code",
   "execution_count": 13,
   "id": "6cafc93a-72c5-46ea-849c-9ca254086578",
   "metadata": {},
   "outputs": [],
   "source": [
    "snp_dict = pd.read_csv('../key_files/var_pos_grenenet.csv')"
   ]
  },
  {
   "cell_type": "code",
   "execution_count": 14,
   "id": "6f80cef7-85fd-4ac9-b600-5155e75f06e4",
   "metadata": {},
   "outputs": [
    {
     "data": {
      "text/html": [
       "<div>\n",
       "<style scoped>\n",
       "    .dataframe tbody tr th:only-of-type {\n",
       "        vertical-align: middle;\n",
       "    }\n",
       "\n",
       "    .dataframe tbody tr th {\n",
       "        vertical-align: top;\n",
       "    }\n",
       "\n",
       "    .dataframe thead th {\n",
       "        text-align: right;\n",
       "    }\n",
       "</style>\n",
       "<table border=\"1\" class=\"dataframe\">\n",
       "  <thead>\n",
       "    <tr style=\"text-align: right;\">\n",
       "      <th></th>\n",
       "      <th>id</th>\n",
       "      <th>pos</th>\n",
       "      <th>chrom</th>\n",
       "      <th>maf05filter</th>\n",
       "      <th>total_alleles05filter</th>\n",
       "    </tr>\n",
       "  </thead>\n",
       "  <tbody>\n",
       "    <tr>\n",
       "      <th>0</th>\n",
       "      <td>1_291</td>\n",
       "      <td>291</td>\n",
       "      <td>1</td>\n",
       "      <td>NaN</td>\n",
       "      <td>NaN</td>\n",
       "    </tr>\n",
       "    <tr>\n",
       "      <th>1</th>\n",
       "      <td>1_346</td>\n",
       "      <td>346</td>\n",
       "      <td>1</td>\n",
       "      <td>1_346</td>\n",
       "      <td>1_346</td>\n",
       "    </tr>\n",
       "    <tr>\n",
       "      <th>2</th>\n",
       "      <td>1_349</td>\n",
       "      <td>349</td>\n",
       "      <td>1</td>\n",
       "      <td>NaN</td>\n",
       "      <td>NaN</td>\n",
       "    </tr>\n",
       "    <tr>\n",
       "      <th>3</th>\n",
       "      <td>1_352</td>\n",
       "      <td>352</td>\n",
       "      <td>1</td>\n",
       "      <td>NaN</td>\n",
       "      <td>NaN</td>\n",
       "    </tr>\n",
       "    <tr>\n",
       "      <th>4</th>\n",
       "      <td>1_353</td>\n",
       "      <td>353</td>\n",
       "      <td>1</td>\n",
       "      <td>1_353</td>\n",
       "      <td>NaN</td>\n",
       "    </tr>\n",
       "    <tr>\n",
       "      <th>...</th>\n",
       "      <td>...</td>\n",
       "      <td>...</td>\n",
       "      <td>...</td>\n",
       "      <td>...</td>\n",
       "      <td>...</td>\n",
       "    </tr>\n",
       "    <tr>\n",
       "      <th>3235475</th>\n",
       "      <td>5_26975208</td>\n",
       "      <td>26975208</td>\n",
       "      <td>5</td>\n",
       "      <td>NaN</td>\n",
       "      <td>NaN</td>\n",
       "    </tr>\n",
       "    <tr>\n",
       "      <th>3235476</th>\n",
       "      <td>5_26975215</td>\n",
       "      <td>26975215</td>\n",
       "      <td>5</td>\n",
       "      <td>NaN</td>\n",
       "      <td>NaN</td>\n",
       "    </tr>\n",
       "    <tr>\n",
       "      <th>3235477</th>\n",
       "      <td>5_26975267</td>\n",
       "      <td>26975267</td>\n",
       "      <td>5</td>\n",
       "      <td>NaN</td>\n",
       "      <td>NaN</td>\n",
       "    </tr>\n",
       "    <tr>\n",
       "      <th>3235478</th>\n",
       "      <td>5_26975272</td>\n",
       "      <td>26975272</td>\n",
       "      <td>5</td>\n",
       "      <td>5_26975272</td>\n",
       "      <td>5_26975272</td>\n",
       "    </tr>\n",
       "    <tr>\n",
       "      <th>3235479</th>\n",
       "      <td>5_26975288</td>\n",
       "      <td>26975288</td>\n",
       "      <td>5</td>\n",
       "      <td>5_26975288</td>\n",
       "      <td>5_26975288</td>\n",
       "    </tr>\n",
       "  </tbody>\n",
       "</table>\n",
       "<p>3235480 rows × 5 columns</p>\n",
       "</div>"
      ],
      "text/plain": [
       "                 id       pos  chrom maf05filter total_alleles05filter\n",
       "0             1_291       291      1         NaN                   NaN\n",
       "1             1_346       346      1       1_346                 1_346\n",
       "2             1_349       349      1         NaN                   NaN\n",
       "3             1_352       352      1         NaN                   NaN\n",
       "4             1_353       353      1       1_353                   NaN\n",
       "...             ...       ...    ...         ...                   ...\n",
       "3235475  5_26975208  26975208      5         NaN                   NaN\n",
       "3235476  5_26975215  26975215      5         NaN                   NaN\n",
       "3235477  5_26975267  26975267      5         NaN                   NaN\n",
       "3235478  5_26975272  26975272      5  5_26975272            5_26975272\n",
       "3235479  5_26975288  26975288      5  5_26975288            5_26975288\n",
       "\n",
       "[3235480 rows x 5 columns]"
      ]
     },
     "execution_count": 14,
     "metadata": {},
     "output_type": "execute_result"
    }
   ],
   "source": [
    "pd.read_csv('../key_files/dict_snps.csv')"
   ]
  },
  {
   "cell_type": "code",
   "execution_count": 30,
   "id": "b99090c8-2dcb-421a-98d6-993e95382c51",
   "metadata": {},
   "outputs": [],
   "source": [
    "allele_sums = genotype_counts.sum(axis=1)\n",
    "\n",
    "# Calculate the total number of alleles per SNP (2 * number of individuals)\n",
    "num_genotypes = genotype_counts.shape[1]\n",
    "total_alleles = 2 * num_genotypes\n",
    "\n",
    "# Calculate allele frequencies\n",
    "allele_frequencies_founders = allele_sums / total_alleles"
   ]
  },
  {
   "cell_type": "code",
   "execution_count": 31,
   "id": "a144f47d-9c46-416c-b096-470ae4fe1f5a",
   "metadata": {
    "scrolled": true
   },
   "outputs": [
    {
     "data": {
      "text/plain": [
       "0          0.043290\n",
       "1          0.272727\n",
       "2          0.008658\n",
       "3          0.021645\n",
       "4          0.069264\n",
       "             ...   \n",
       "3235475    0.012987\n",
       "3235476    0.008658\n",
       "3235477    0.004329\n",
       "3235478    0.385281\n",
       "3235479    0.216450\n",
       "Length: 3235480, dtype: float64"
      ]
     },
     "execution_count": 31,
     "metadata": {},
     "output_type": "execute_result"
    }
   ],
   "source": [
    "allele_frequencies_founders"
   ]
  },
  {
   "cell_type": "code",
   "execution_count": 17,
   "id": "806a7022-9de6-48ab-b586-30cea220f0fe",
   "metadata": {},
   "outputs": [],
   "source": [
    "split = 2"
   ]
  },
  {
   "cell_type": "code",
   "execution_count": null,
   "id": "3e26f771-d2de-4025-ad2d-9fb25214a52c",
   "metadata": {},
   "outputs": [],
   "source": []
  },
  {
   "cell_type": "code",
   "execution_count": 39,
   "id": "cb602f94-1577-40db-b427-049774f80a5b",
   "metadata": {},
   "outputs": [],
   "source": [
    "br_results = pd.read_csv(f'../binomial_regression/binomial_reg_results_bio1_prediction_allsites.csv')"
   ]
  },
  {
   "cell_type": "code",
   "execution_count": 40,
   "id": "8f0f3090-8f13-4d00-9769-662d52a431c3",
   "metadata": {},
   "outputs": [],
   "source": [
    "##filter for significance \n",
    "#th = 0.05 / len(br_results['pvalue'])\n",
    "#br_results = br_results[br_results['pvalue'] < th]"
   ]
  },
  {
   "cell_type": "code",
   "execution_count": null,
   "id": "b09131a0-b2fb-4c4d-9e4d-528f57df6b00",
   "metadata": {},
   "outputs": [],
   "source": []
  },
  {
   "cell_type": "code",
   "execution_count": null,
   "id": "bc81954e-c822-43a7-a9da-178dce6a7915",
   "metadata": {},
   "outputs": [],
   "source": [
    "\n"
   ]
  },
  {
   "cell_type": "code",
   "execution_count": null,
   "id": "d59d9e66-ae05-42ec-9e5c-2182ffe245f3",
   "metadata": {},
   "outputs": [],
   "source": []
  },
  {
   "cell_type": "code",
   "execution_count": 46,
   "id": "9c03a081-1876-4179-8778-8f99d23c7627",
   "metadata": {},
   "outputs": [],
   "source": [
    "sites_avail = br_results.columns[4:-1]"
   ]
  },
  {
   "cell_type": "code",
   "execution_count": 51,
   "id": "d4a5641b-8135-4104-a769-d1e1abebd455",
   "metadata": {},
   "outputs": [],
   "source": [
    "# go_per_site all sites used for trianing \n",
    "go_per_site = {}\n",
    "for i in sites_avail:\n",
    "    site = i.split('_')[-1]\n",
    "    mask_full_genotype = snp_dict['id'].isin(br_results['snp_id'])\n",
    "    allele_frequencies_founders = allele_frequencies_founders.loc[mask_full_genotype]\n",
    "    \n",
    "    #allele_frequencies_founders = allele_frequencies_founders.reset_index(drop=True)\n",
    "\n",
    "    site_predict_proba = br_results[i]\n",
    "    \n",
    "    ## for each site, subrstract the actual value by the probability fo getting a success \n",
    "    allele_frequencies_founders_sub = allele_frequencies_founders.sub(site_predict_proba, axis=0)\n",
    "    allele_frequencies_founders_sub = allele_frequencies_founders_sub**2\n",
    "    ## ge tthe absolute value \n",
    "    \n",
    "    ## sum over ecotypes \n",
    "    go = (allele_frequencies_founders_sub.sum(axis=0)) / len(allele_frequencies_founders_sub)\n",
    "    go_per_site[site] = go"
   ]
  },
  {
   "cell_type": "code",
   "execution_count": 52,
   "id": "ee561d50-1202-4235-9eb1-414363a54476",
   "metadata": {},
   "outputs": [],
   "source": [
    "go_per_site_df = pd.DataFrame.from_dict(go_per_site, orient='index', columns=['value'])\n",
    "\n",
    "go_per_site_df = go_per_site_df.reset_index()\n",
    "\n",
    "go_per_site_df.columns = ['site', 'go']"
   ]
  },
  {
   "cell_type": "code",
   "execution_count": 53,
   "id": "be992713-9ace-4edc-9194-aa15808cbf86",
   "metadata": {},
   "outputs": [],
   "source": [
    "go_per_site_df.to_csv('go_from_founder_pop_all_sites_intraining.csv',index=None)"
   ]
  },
  {
   "cell_type": "code",
   "execution_count": 32,
   "id": "3ce7ed38-804a-4452-8a3e-b1cfb930d4d7",
   "metadata": {
    "scrolled": true
   },
   "outputs": [
    {
     "name": "stdout",
     "output_type": "stream",
     "text": [
      "0\n",
      "1\n",
      "1\n",
      "2\n",
      "2\n",
      "4\n",
      "3\n",
      "5\n",
      "4\n",
      "6\n",
      "5\n",
      "9\n",
      "6\n",
      "10\n",
      "7\n",
      "11\n",
      "8\n",
      "12\n",
      "9\n",
      "13\n",
      "10\n",
      "23\n",
      "11\n",
      "24\n",
      "12\n",
      "25\n",
      "13\n",
      "26\n",
      "14\n",
      "27\n",
      "15\n",
      "28\n",
      "16\n",
      "32\n",
      "17\n",
      "33\n",
      "18\n",
      "37\n",
      "19\n",
      "42\n",
      "20\n",
      "43\n",
      "21\n",
      "45\n",
      "22\n",
      "46\n",
      "23\n",
      "48\n",
      "24\n",
      "49\n",
      "25\n",
      "52\n",
      "26\n",
      "53\n",
      "27\n",
      "54\n",
      "28\n",
      "55\n",
      "29\n",
      "57\n",
      "30\n",
      "60\n"
     ]
    }
   ],
   "source": [
    "# go_per_site leave 1 our \n",
    "\n",
    "go_per_site = {}\n",
    "for split in range(len(samples)):\n",
    "    print(split)\n",
    "    br_results = pd.read_csv(f'results/split_{split}/binomial_reg_results_last_gen.csv')\n",
    "    \n",
    "    br_results = br_results.reset_index(drop=True)\n",
    "\n",
    "    ##filter for significance \n",
    "    th = 0.05 / len(br_results['pvalue'])\n",
    "    br_results = br_results[br_results['pvalue'] < th]\n",
    "\n",
    "    \n",
    "    mask_full_genotype = snp_dict['id'].isin(br_results['snp_id'])\n",
    "    allele_frequencies_founders = allele_frequencies_founders.loc[mask_full_genotype]\n",
    "    \n",
    "    #allele_frequencies_founders = allele_frequencies_founders.reset_index(drop=True)\n",
    "    \n",
    "    site_predicted = br_results.columns[0]\n",
    "    print(site_predicted)\n",
    "    site_predict_proba = br_results[site_predicted]\n",
    "    \n",
    "    ## for each site, subrstract the actual value by the probability fo getting a success \n",
    "    allele_frequencies_founders_sub = allele_frequencies_founders.sub(site_predict_proba, axis=0)\n",
    "    allele_frequencies_founders_sub = allele_frequencies_founders_sub**2\n",
    "    ## ge tthe absolute value \n",
    "    \n",
    "    ## sum over ecotypes \n",
    "    go = (allele_frequencies_founders_sub.sum(axis=0)) / len(allele_frequencies_founders_sub)\n",
    "    go_per_site[site_predicted] = go"
   ]
  },
  {
   "cell_type": "code",
   "execution_count": 32,
   "id": "968352b5-708d-4689-8ce9-c6a2d400cd0e",
   "metadata": {
    "scrolled": true
   },
   "outputs": [
    {
     "data": {
      "text/plain": [
       "{'1': 0.02109333355414395,\n",
       " '2': 0.021248224178853185,\n",
       " '4': 0.021281258744652132,\n",
       " '5': 0.021212978617400093,\n",
       " '6': 0.02121395369772065,\n",
       " '9': 0.02115840616613045,\n",
       " '10': 0.021522961856719758,\n",
       " '11': 0.021199854902575956,\n",
       " '12': 0.02116360839527905,\n",
       " '13': 0.021476620614141666,\n",
       " '23': 0.020966450919219056,\n",
       " '24': 0.02095129557041857,\n",
       " '25': 0.021096562058456277,\n",
       " '26': 0.021643325719795763,\n",
       " '27': 0.020967175804635342,\n",
       " '28': 0.021301733513674655,\n",
       " '32': 0.021243961649562344,\n",
       " '33': 0.021110212725121445,\n",
       " '37': 0.020990137916659025,\n",
       " '42': 0.021053046350214696,\n",
       " '43': 0.021353577200608074,\n",
       " '45': 0.02126489366047693,\n",
       " '46': 0.021105683859776292,\n",
       " '48': 0.02102031123233362,\n",
       " '49': 0.021101300989315806,\n",
       " '52': 0.021119563731284974,\n",
       " '53': 0.021130630637124902,\n",
       " '54': 0.021121238350940718,\n",
       " '55': 0.021091441776055223,\n",
       " '57': 0.021139448203186275,\n",
       " '60': 0.021407395755464898}"
      ]
     },
     "execution_count": 32,
     "metadata": {},
     "output_type": "execute_result"
    }
   ],
   "source": [
    "go_per_site"
   ]
  },
  {
   "cell_type": "code",
   "execution_count": null,
   "id": "504a9cb0-9fa8-42cb-b0b0-0eb9278fa0d8",
   "metadata": {},
   "outputs": [],
   "source": [
    "go_per_site_df = pd.DataFrame.from_dict(go_per_site, orient='index', columns=['value'])\n",
    "\n",
    "go_per_site_df = go_per_site_df.reset_index()\n",
    "\n",
    "go_per_site_df.columns = ['site', 'go']\n",
    "\n",
    "go_per_site_df.to_csv('go_sign_snps_from_founder_pop_l1o.csv',index=None)"
   ]
  },
  {
   "cell_type": "code",
   "execution_count": null,
   "id": "38b98ada-a633-4e5c-ab68-43f007f50af9",
   "metadata": {},
   "outputs": [],
   "source": [
    "## for the extinct sites i wi;; use the prob of al lteh other sites "
   ]
  },
  {
   "cell_type": "code",
   "execution_count": 38,
   "id": "faf8df72-457e-4088-ace0-ae800c30968f",
   "metadata": {},
   "outputs": [
    {
     "data": {
      "text/html": [
       "<div>\n",
       "<style scoped>\n",
       "    .dataframe tbody tr th:only-of-type {\n",
       "        vertical-align: middle;\n",
       "    }\n",
       "\n",
       "    .dataframe tbody tr th {\n",
       "        vertical-align: top;\n",
       "    }\n",
       "\n",
       "    .dataframe thead th {\n",
       "        text-align: right;\n",
       "    }\n",
       "</style>\n",
       "<table border=\"1\" class=\"dataframe\">\n",
       "  <thead>\n",
       "    <tr style=\"text-align: right;\">\n",
       "      <th></th>\n",
       "      <th>site</th>\n",
       "      <th>go</th>\n",
       "    </tr>\n",
       "  </thead>\n",
       "  <tbody>\n",
       "    <tr>\n",
       "      <th>0</th>\n",
       "      <td>1</td>\n",
       "      <td>0.010975</td>\n",
       "    </tr>\n",
       "    <tr>\n",
       "      <th>1</th>\n",
       "      <td>2</td>\n",
       "      <td>0.011065</td>\n",
       "    </tr>\n",
       "    <tr>\n",
       "      <th>2</th>\n",
       "      <td>4</td>\n",
       "      <td>0.010138</td>\n",
       "    </tr>\n",
       "    <tr>\n",
       "      <th>3</th>\n",
       "      <td>5</td>\n",
       "      <td>0.010236</td>\n",
       "    </tr>\n",
       "    <tr>\n",
       "      <th>4</th>\n",
       "      <td>6</td>\n",
       "      <td>0.010300</td>\n",
       "    </tr>\n",
       "    <tr>\n",
       "      <th>5</th>\n",
       "      <td>9</td>\n",
       "      <td>0.010235</td>\n",
       "    </tr>\n",
       "    <tr>\n",
       "      <th>6</th>\n",
       "      <td>10</td>\n",
       "      <td>0.010850</td>\n",
       "    </tr>\n",
       "    <tr>\n",
       "      <th>7</th>\n",
       "      <td>11</td>\n",
       "      <td>0.010319</td>\n",
       "    </tr>\n",
       "    <tr>\n",
       "      <th>8</th>\n",
       "      <td>12</td>\n",
       "      <td>0.010282</td>\n",
       "    </tr>\n",
       "    <tr>\n",
       "      <th>9</th>\n",
       "      <td>13</td>\n",
       "      <td>0.010595</td>\n",
       "    </tr>\n",
       "    <tr>\n",
       "      <th>10</th>\n",
       "      <td>23</td>\n",
       "      <td>0.008751</td>\n",
       "    </tr>\n",
       "    <tr>\n",
       "      <th>11</th>\n",
       "      <td>24</td>\n",
       "      <td>0.008997</td>\n",
       "    </tr>\n",
       "    <tr>\n",
       "      <th>12</th>\n",
       "      <td>25</td>\n",
       "      <td>0.009125</td>\n",
       "    </tr>\n",
       "    <tr>\n",
       "      <th>13</th>\n",
       "      <td>26</td>\n",
       "      <td>0.009670</td>\n",
       "    </tr>\n",
       "    <tr>\n",
       "      <th>14</th>\n",
       "      <td>27</td>\n",
       "      <td>0.009106</td>\n",
       "    </tr>\n",
       "    <tr>\n",
       "      <th>15</th>\n",
       "      <td>28</td>\n",
       "      <td>0.009431</td>\n",
       "    </tr>\n",
       "    <tr>\n",
       "      <th>16</th>\n",
       "      <td>32</td>\n",
       "      <td>0.007134</td>\n",
       "    </tr>\n",
       "    <tr>\n",
       "      <th>17</th>\n",
       "      <td>33</td>\n",
       "      <td>0.008130</td>\n",
       "    </tr>\n",
       "    <tr>\n",
       "      <th>18</th>\n",
       "      <td>37</td>\n",
       "      <td>0.007964</td>\n",
       "    </tr>\n",
       "    <tr>\n",
       "      <th>19</th>\n",
       "      <td>42</td>\n",
       "      <td>0.008162</td>\n",
       "    </tr>\n",
       "    <tr>\n",
       "      <th>20</th>\n",
       "      <td>43</td>\n",
       "      <td>0.008020</td>\n",
       "    </tr>\n",
       "    <tr>\n",
       "      <th>21</th>\n",
       "      <td>45</td>\n",
       "      <td>0.008360</td>\n",
       "    </tr>\n",
       "    <tr>\n",
       "      <th>22</th>\n",
       "      <td>46</td>\n",
       "      <td>0.008096</td>\n",
       "    </tr>\n",
       "    <tr>\n",
       "      <th>23</th>\n",
       "      <td>48</td>\n",
       "      <td>0.008019</td>\n",
       "    </tr>\n",
       "    <tr>\n",
       "      <th>24</th>\n",
       "      <td>49</td>\n",
       "      <td>0.008132</td>\n",
       "    </tr>\n",
       "    <tr>\n",
       "      <th>25</th>\n",
       "      <td>52</td>\n",
       "      <td>0.008090</td>\n",
       "    </tr>\n",
       "    <tr>\n",
       "      <th>26</th>\n",
       "      <td>53</td>\n",
       "      <td>0.008101</td>\n",
       "    </tr>\n",
       "    <tr>\n",
       "      <th>27</th>\n",
       "      <td>54</td>\n",
       "      <td>0.008205</td>\n",
       "    </tr>\n",
       "    <tr>\n",
       "      <th>28</th>\n",
       "      <td>55</td>\n",
       "      <td>0.008115</td>\n",
       "    </tr>\n",
       "    <tr>\n",
       "      <th>29</th>\n",
       "      <td>57</td>\n",
       "      <td>0.007992</td>\n",
       "    </tr>\n",
       "    <tr>\n",
       "      <th>30</th>\n",
       "      <td>60</td>\n",
       "      <td>0.008276</td>\n",
       "    </tr>\n",
       "  </tbody>\n",
       "</table>\n",
       "</div>"
      ],
      "text/plain": [
       "   site        go\n",
       "0     1  0.010975\n",
       "1     2  0.011065\n",
       "2     4  0.010138\n",
       "3     5  0.010236\n",
       "4     6  0.010300\n",
       "5     9  0.010235\n",
       "6    10  0.010850\n",
       "7    11  0.010319\n",
       "8    12  0.010282\n",
       "9    13  0.010595\n",
       "10   23  0.008751\n",
       "11   24  0.008997\n",
       "12   25  0.009125\n",
       "13   26  0.009670\n",
       "14   27  0.009106\n",
       "15   28  0.009431\n",
       "16   32  0.007134\n",
       "17   33  0.008130\n",
       "18   37  0.007964\n",
       "19   42  0.008162\n",
       "20   43  0.008020\n",
       "21   45  0.008360\n",
       "22   46  0.008096\n",
       "23   48  0.008019\n",
       "24   49  0.008132\n",
       "25   52  0.008090\n",
       "26   53  0.008101\n",
       "27   54  0.008205\n",
       "28   55  0.008115\n",
       "29   57  0.007992\n",
       "30   60  0.008276"
      ]
     },
     "execution_count": 38,
     "metadata": {},
     "output_type": "execute_result"
    }
   ],
   "source": [
    "go_per_site_df"
   ]
  },
  {
   "cell_type": "code",
   "execution_count": null,
   "id": "7aa50e2a-4e42-4673-a601-6e1f588725dd",
   "metadata": {},
   "outputs": [],
   "source": []
  },
  {
   "cell_type": "code",
   "execution_count": 17,
   "id": "6f794d15-1c49-461b-a854-e4fd3dbec56f",
   "metadata": {},
   "outputs": [],
   "source": [
    "file_path = '../jacknife_first_gen/fake_splits_samples_for_unseen_sites.pkl'\n",
    "# Open and load the .pkl file\n",
    "with open(file_path, 'rb') as file:\n",
    "    samples_fake = pickle.load(file)"
   ]
  },
  {
   "cell_type": "code",
   "execution_count": 18,
   "id": "c5c6e37b-8a28-4da6-9ca1-ee4634ce5e3c",
   "metadata": {},
   "outputs": [
    {
     "name": "stdout",
     "output_type": "stream",
     "text": [
      "0\n",
      "7\n",
      "1\n",
      "50\n",
      "2\n",
      "56\n",
      "3\n",
      "21\n",
      "4\n",
      "41\n",
      "5\n",
      "47\n"
     ]
    }
   ],
   "source": [
    "go_per_site_unseen = {}\n",
    "for split in range(len(samples_fake)):\n",
    "    print(split)\n",
    "    br_results = pd.read_csv(f'results_sites_unseen/split_{split}/binomial_reg_results_first_gen_sites_unseen.csv')\n",
    "    \n",
    "    br_results = br_results.reset_index(drop=True)\n",
    "    \n",
    "    mask_full_genotype = snp_dict['id'].isin(br_results['snp_id'])\n",
    "    \n",
    "    allele_frequencies_founders = allele_frequencies_founders.loc[mask_full_genotype]\n",
    "    \n",
    "    #allele_frequencies_founders = allele_frequencies_founders.reset_index(drop=True)\n",
    "    \n",
    "    site_predicted = br_results.columns[0]\n",
    "    print(site_predicted)\n",
    "    site_predict_proba = br_results[site_predicted]\n",
    "    \n",
    "    ## for each site, subrstract the actual value by the probability fo getting a success \n",
    "    allele_frequencies_founders_sub = allele_frequencies_founders.sub(site_predict_proba, axis=0)\n",
    "    allele_frequencies_founders_sub = allele_frequencies_founders_sub**2\n",
    "    ## ge tthe absolute value \n",
    "    \n",
    "    ## sum over ecotypes \n",
    "    go = (allele_frequencies_founders_sub.sum(axis=0)) / len(allele_frequencies_founders_sub)\n",
    "    go_per_site_unseen[site_predicted] = go"
   ]
  },
  {
   "cell_type": "code",
   "execution_count": 19,
   "id": "768496ed-9e06-4445-9141-71cab0397071",
   "metadata": {},
   "outputs": [
    {
     "data": {
      "text/plain": [
       "{'7': 0.021082786062428523,\n",
       " '50': 0.021029196511582617,\n",
       " '56': 0.020965680099733087,\n",
       " '21': 0.021072923058000098,\n",
       " '41': 0.02108183000416506,\n",
       " '47': 0.02112429904009548}"
      ]
     },
     "execution_count": 19,
     "metadata": {},
     "output_type": "execute_result"
    }
   ],
   "source": [
    "go_per_site_unseen"
   ]
  },
  {
   "cell_type": "code",
   "execution_count": null,
   "id": "36fdb514-bcbe-4eda-ac63-7552918998ce",
   "metadata": {},
   "outputs": [],
   "source": []
  },
  {
   "cell_type": "code",
   "execution_count": 30,
   "id": "06ed67a4-5101-4d09-9422-04e381bf09f5",
   "metadata": {},
   "outputs": [],
   "source": [
    "go_per_site_unseen_df = pd.DataFrame.from_dict(go_per_site_unseen, orient='index', columns=['value'])"
   ]
  },
  {
   "cell_type": "code",
   "execution_count": 31,
   "id": "de4351eb-20eb-4620-92a1-ecb428cca7bf",
   "metadata": {},
   "outputs": [],
   "source": [
    "go_per_site_unseen_df = go_per_site_unseen_df.reset_index()"
   ]
  },
  {
   "cell_type": "code",
   "execution_count": null,
   "id": "ec4d3cb5-a62e-4459-bdbb-e8b046ca5463",
   "metadata": {},
   "outputs": [],
   "source": []
  },
  {
   "cell_type": "code",
   "execution_count": 33,
   "id": "4e7a9acc-cee6-47ab-acfd-67a57509cec7",
   "metadata": {},
   "outputs": [],
   "source": [
    "go_per_site = pd.concat([go_per_site_unseen_df, go_per_site_df])"
   ]
  },
  {
   "cell_type": "code",
   "execution_count": 35,
   "id": "39a92732-92bf-4b62-bcec-83576421f782",
   "metadata": {},
   "outputs": [],
   "source": [
    "go_per_site.columns = ['site', 'go']"
   ]
  },
  {
   "cell_type": "code",
   "execution_count": null,
   "id": "ced34dc6-d4a2-453b-8d14-bf314bc5a9f3",
   "metadata": {},
   "outputs": [],
   "source": []
  },
  {
   "cell_type": "code",
   "execution_count": 37,
   "id": "2db5c084-24dc-4f87-9f57-18f3bdec3f31",
   "metadata": {},
   "outputs": [],
   "source": [
    "go_per_site.to_csv('go_w_exctintsites.csv',index=None)"
   ]
  },
  {
   "cell_type": "code",
   "execution_count": null,
   "id": "68d77aa1-78f2-469c-9693-c02c62b37574",
   "metadata": {},
   "outputs": [],
   "source": []
  },
  {
   "cell_type": "code",
   "execution_count": null,
   "id": "435ce552-c9b2-4286-8e96-28a7df77e09d",
   "metadata": {},
   "outputs": [],
   "source": []
  },
  {
   "cell_type": "code",
   "execution_count": 52,
   "id": "8ca86a73-7d0e-43d0-b41f-4b9eeaef300b",
   "metadata": {},
   "outputs": [],
   "source": [
    "go_per_site_df.to_csv('genomic_offset_per_site_firt_gen_prob_squared_l1out_all_proba.csv',index=None)"
   ]
  },
  {
   "cell_type": "code",
   "execution_count": null,
   "id": "a3822479-ec6e-4d02-87a7-3fd0cab4db54",
   "metadata": {},
   "outputs": [],
   "source": []
  },
  {
   "cell_type": "code",
   "execution_count": null,
   "id": "160cd3ea-47ad-4133-85d7-9024984ffc76",
   "metadata": {},
   "outputs": [],
   "source": []
  }
 ],
 "metadata": {
  "kernelspec": {
   "display_name": "Python 3 (ipykernel)",
   "language": "python",
   "name": "python3"
  },
  "language_info": {
   "codemirror_mode": {
    "name": "ipython",
    "version": 3
   },
   "file_extension": ".py",
   "mimetype": "text/x-python",
   "name": "python",
   "nbconvert_exporter": "python",
   "pygments_lexer": "ipython3",
   "version": "3.11.4"
  }
 },
 "nbformat": 4,
 "nbformat_minor": 5
}
