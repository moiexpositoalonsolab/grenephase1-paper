{
 "cells": [
  {
   "cell_type": "code",
   "execution_count": null,
   "id": "68ff8af8-5d58-43a6-affd-99d3f4d2f014",
   "metadata": {},
   "outputs": [],
   "source": [
    "import pandas as pd\n",
    "import pickle\n",
    "\n",
    "import statsmodels.api as sm\n",
    "from statsmodels.formula.api import glm\n",
    "\n",
    "from sklearn.preprocessing import StandardScaler\n",
    "\n",
    "\n",
    "import seaborn as sns\n",
    "import numpy as np\n",
    "import matplotlib.pyplot as plt"
   ]
  },
  {
   "cell_type": "code",
   "execution_count": 32,
   "id": "8cb97267-75d3-430d-aaf4-e7b326b0278d",
   "metadata": {},
   "outputs": [],
   "source": [
    "biovar = 'bio18'"
   ]
  },
  {
   "cell_type": "code",
   "execution_count": 33,
   "id": "c9ab9617-2d67-4030-8657-334f7c8416ab",
   "metadata": {},
   "outputs": [],
   "source": [
    "#finalgen_samples = pd.read_csv('../final_gen.csv')['sample_name']\n",
    "last_gen = pd.read_csv('../key_files/final_gen.csv')['sample_name']\n",
    "## eliminate site 33 \n",
    "last_gen = last_gen[~last_gen.str.startswith('33_')]\n",
    "## eliminate site 33 \n",
    "samples = last_gen.to_list()"
   ]
  },
  {
   "cell_type": "code",
   "execution_count": 34,
   "id": "f3e565be-a61c-4c35-8b38-5ce826a28f89",
   "metadata": {},
   "outputs": [],
   "source": [
    "clim_sites_during_exp = pd.read_csv('/carnegie/nobackup/scratch/tbellagio/grene/data/bioclimvars_experimental_sites_era5.csv')\n",
    "#clim_sites_during_exp = pd.read_csv('../key_files/bioclimvars_sites_era5_year_2018.csv')\n",
    "\n",
    "sites_af = pd.Series(samples).str.split('_').str[0].astype(int)\n",
    "\n",
    "sites_af.name = 'site'\n"
   ]
  },
  {
   "cell_type": "code",
   "execution_count": 35,
   "id": "4100387b-3c0b-44ff-950a-f5bf7819933f",
   "metadata": {},
   "outputs": [],
   "source": [
    "env = sites_af.reset_index().merge(clim_sites_during_exp).drop(['index'],axis=1)"
   ]
  },
  {
   "cell_type": "code",
   "execution_count": 36,
   "id": "182cc2b9-13e3-42e0-ad25-576940f65784",
   "metadata": {},
   "outputs": [],
   "source": [
    "env_variable = env[biovar]"
   ]
  },
  {
   "cell_type": "code",
   "execution_count": 37,
   "id": "a6af6e4e-54c8-42af-b2ff-113ea11eddd1",
   "metadata": {},
   "outputs": [
    {
     "data": {
      "text/plain": [
       "0      215.184498\n",
       "1      215.184498\n",
       "2      215.184498\n",
       "3      215.184498\n",
       "4      215.184498\n",
       "          ...    \n",
       "343      0.540737\n",
       "344      0.540737\n",
       "345      0.540737\n",
       "346      0.540737\n",
       "347      0.540737\n",
       "Name: bio18, Length: 348, dtype: float64"
      ]
     },
     "execution_count": 37,
     "metadata": {},
     "output_type": "execute_result"
    }
   ],
   "source": [
    "env_variable"
   ]
  },
  {
   "cell_type": "code",
   "execution_count": 38,
   "id": "ba757333-0e43-4ee8-bda5-54d705df7897",
   "metadata": {},
   "outputs": [],
   "source": [
    "# Standardize the environmental variable\n",
    "scaler = StandardScaler()\n",
    "env_variable_scaled = scaler.fit_transform(env_variable.values.reshape(-1, 1))"
   ]
  },
  {
   "cell_type": "code",
   "execution_count": null,
   "id": "5aea0a4f-02cc-4680-97f6-f78c675885f9",
   "metadata": {},
   "outputs": [],
   "source": []
  },
  {
   "cell_type": "code",
   "execution_count": 39,
   "id": "5e13bc70-75f4-4a12-9289-c83b420d4919",
   "metadata": {},
   "outputs": [],
   "source": [
    "pd.DataFrame(env_variable_scaled).to_csv(f'env_{biovar}.csv',index=None)"
   ]
  },
  {
   "cell_type": "code",
   "execution_count": 40,
   "id": "9ccadb83-31a9-4159-a7c3-491f7417fc65",
   "metadata": {},
   "outputs": [],
   "source": [
    "env_site_scaled = pd.concat([env['site'],pd.Series(env_variable_scaled.flatten())],axis=1)"
   ]
  },
  {
   "cell_type": "code",
   "execution_count": 41,
   "id": "8e23e6bc-44d1-4b1f-bc70-d556c33783bd",
   "metadata": {},
   "outputs": [],
   "source": [
    "env_site_scaled.columns = ['site', 'env_scaled']"
   ]
  },
  {
   "cell_type": "code",
   "execution_count": 46,
   "id": "265cda89-33df-417c-9894-3cf565021db8",
   "metadata": {},
   "outputs": [
    {
     "data": {
      "text/html": [
       "<div>\n",
       "<style scoped>\n",
       "    .dataframe tbody tr th:only-of-type {\n",
       "        vertical-align: middle;\n",
       "    }\n",
       "\n",
       "    .dataframe tbody tr th {\n",
       "        vertical-align: top;\n",
       "    }\n",
       "\n",
       "    .dataframe thead th {\n",
       "        text-align: right;\n",
       "    }\n",
       "</style>\n",
       "<table border=\"1\" class=\"dataframe\">\n",
       "  <thead>\n",
       "    <tr style=\"text-align: right;\">\n",
       "      <th></th>\n",
       "      <th>site</th>\n",
       "      <th>env_scaled</th>\n",
       "    </tr>\n",
       "  </thead>\n",
       "  <tbody>\n",
       "    <tr>\n",
       "      <th>0</th>\n",
       "      <td>1</td>\n",
       "      <td>0.049999</td>\n",
       "    </tr>\n",
       "    <tr>\n",
       "      <th>1</th>\n",
       "      <td>1</td>\n",
       "      <td>0.049999</td>\n",
       "    </tr>\n",
       "    <tr>\n",
       "      <th>2</th>\n",
       "      <td>1</td>\n",
       "      <td>0.049999</td>\n",
       "    </tr>\n",
       "    <tr>\n",
       "      <th>3</th>\n",
       "      <td>1</td>\n",
       "      <td>0.049999</td>\n",
       "    </tr>\n",
       "    <tr>\n",
       "      <th>4</th>\n",
       "      <td>1</td>\n",
       "      <td>0.049999</td>\n",
       "    </tr>\n",
       "    <tr>\n",
       "      <th>...</th>\n",
       "      <td>...</td>\n",
       "      <td>...</td>\n",
       "    </tr>\n",
       "    <tr>\n",
       "      <th>343</th>\n",
       "      <td>60</td>\n",
       "      <td>-1.389102</td>\n",
       "    </tr>\n",
       "    <tr>\n",
       "      <th>344</th>\n",
       "      <td>60</td>\n",
       "      <td>-1.389102</td>\n",
       "    </tr>\n",
       "    <tr>\n",
       "      <th>345</th>\n",
       "      <td>60</td>\n",
       "      <td>-1.389102</td>\n",
       "    </tr>\n",
       "    <tr>\n",
       "      <th>346</th>\n",
       "      <td>60</td>\n",
       "      <td>-1.389102</td>\n",
       "    </tr>\n",
       "    <tr>\n",
       "      <th>347</th>\n",
       "      <td>60</td>\n",
       "      <td>-1.389102</td>\n",
       "    </tr>\n",
       "  </tbody>\n",
       "</table>\n",
       "<p>348 rows × 2 columns</p>\n",
       "</div>"
      ],
      "text/plain": [
       "     site  env_scaled\n",
       "0       1    0.049999\n",
       "1       1    0.049999\n",
       "2       1    0.049999\n",
       "3       1    0.049999\n",
       "4       1    0.049999\n",
       "..    ...         ...\n",
       "343    60   -1.389102\n",
       "344    60   -1.389102\n",
       "345    60   -1.389102\n",
       "346    60   -1.389102\n",
       "347    60   -1.389102\n",
       "\n",
       "[348 rows x 2 columns]"
      ]
     },
     "execution_count": 46,
     "metadata": {},
     "output_type": "execute_result"
    }
   ],
   "source": [
    "env_site_scaled"
   ]
  },
  {
   "cell_type": "code",
   "execution_count": 44,
   "id": "f6cb02c2-7469-4137-9470-126bd66e8ba8",
   "metadata": {},
   "outputs": [],
   "source": [
    "env_variable = pd.read_csv(f'env_{biovar}.csv')"
   ]
  },
  {
   "cell_type": "code",
   "execution_count": 45,
   "id": "a223b343-79d4-4b2a-859d-a95e572d0270",
   "metadata": {},
   "outputs": [
    {
     "data": {
      "text/html": [
       "<div>\n",
       "<style scoped>\n",
       "    .dataframe tbody tr th:only-of-type {\n",
       "        vertical-align: middle;\n",
       "    }\n",
       "\n",
       "    .dataframe tbody tr th {\n",
       "        vertical-align: top;\n",
       "    }\n",
       "\n",
       "    .dataframe thead th {\n",
       "        text-align: right;\n",
       "    }\n",
       "</style>\n",
       "<table border=\"1\" class=\"dataframe\">\n",
       "  <thead>\n",
       "    <tr style=\"text-align: right;\">\n",
       "      <th></th>\n",
       "      <th>0</th>\n",
       "    </tr>\n",
       "  </thead>\n",
       "  <tbody>\n",
       "    <tr>\n",
       "      <th>0</th>\n",
       "      <td>0.049999</td>\n",
       "    </tr>\n",
       "    <tr>\n",
       "      <th>1</th>\n",
       "      <td>0.049999</td>\n",
       "    </tr>\n",
       "    <tr>\n",
       "      <th>2</th>\n",
       "      <td>0.049999</td>\n",
       "    </tr>\n",
       "    <tr>\n",
       "      <th>3</th>\n",
       "      <td>0.049999</td>\n",
       "    </tr>\n",
       "    <tr>\n",
       "      <th>4</th>\n",
       "      <td>0.049999</td>\n",
       "    </tr>\n",
       "    <tr>\n",
       "      <th>...</th>\n",
       "      <td>...</td>\n",
       "    </tr>\n",
       "    <tr>\n",
       "      <th>343</th>\n",
       "      <td>-1.389102</td>\n",
       "    </tr>\n",
       "    <tr>\n",
       "      <th>344</th>\n",
       "      <td>-1.389102</td>\n",
       "    </tr>\n",
       "    <tr>\n",
       "      <th>345</th>\n",
       "      <td>-1.389102</td>\n",
       "    </tr>\n",
       "    <tr>\n",
       "      <th>346</th>\n",
       "      <td>-1.389102</td>\n",
       "    </tr>\n",
       "    <tr>\n",
       "      <th>347</th>\n",
       "      <td>-1.389102</td>\n",
       "    </tr>\n",
       "  </tbody>\n",
       "</table>\n",
       "<p>348 rows × 1 columns</p>\n",
       "</div>"
      ],
      "text/plain": [
       "            0\n",
       "0    0.049999\n",
       "1    0.049999\n",
       "2    0.049999\n",
       "3    0.049999\n",
       "4    0.049999\n",
       "..        ...\n",
       "343 -1.389102\n",
       "344 -1.389102\n",
       "345 -1.389102\n",
       "346 -1.389102\n",
       "347 -1.389102\n",
       "\n",
       "[348 rows x 1 columns]"
      ]
     },
     "execution_count": 45,
     "metadata": {},
     "output_type": "execute_result"
    }
   ],
   "source": [
    "env_variable"
   ]
  },
  {
   "cell_type": "code",
   "execution_count": 47,
   "id": "038b1f14-7712-447a-a9b4-31fa78f5ecec",
   "metadata": {},
   "outputs": [],
   "source": [
    "partition_0 = pd.read_csv('../baypass_lastgen/individual_gfiles_last_gen/partition_0.txt',header=None) #= pd.read_csv(path_analysis + 'individual_gfiles/partition_0.txt',header=None)"
   ]
  },
  {
   "cell_type": "code",
   "execution_count": 48,
   "id": "74e10933-0fca-4b83-8e01-c71cc2018957",
   "metadata": {},
   "outputs": [],
   "source": [
    "pickle_file_path = '../baypass_lastgen/individual_gfiles_last_gen/column_names_partition_0'\n",
    "with open(pickle_file_path, 'rb') as file:\n",
    "    data0 = pickle.load(file)"
   ]
  },
  {
   "cell_type": "code",
   "execution_count": 49,
   "id": "944f4afd-9ba2-4360-907c-802662e00282",
   "metadata": {},
   "outputs": [],
   "source": [
    "partition_0.columns = data0"
   ]
  },
  {
   "cell_type": "code",
   "execution_count": null,
   "id": "464200d4-646a-4af9-9fdc-69cbb60334fb",
   "metadata": {},
   "outputs": [],
   "source": []
  },
  {
   "cell_type": "code",
   "execution_count": 50,
   "id": "258f63ac-3dcc-46f8-97d1-b4a1ff533477",
   "metadata": {},
   "outputs": [],
   "source": [
    "## eliminate site 33 \n",
    "\n",
    "site_33_delete = [i for i in partition_0.columns if i.startswith('33_')]\n",
    "\n",
    "partition_0 = partition_0.drop(site_33_delete,axis=1)\n",
    "\n",
    "## eliminate site 33 "
   ]
  },
  {
   "cell_type": "code",
   "execution_count": 51,
   "id": "e8f9c28f-f525-46ed-b860-b3494b267727",
   "metadata": {},
   "outputs": [],
   "source": [
    "minor_columns = partition_0.filter(like='minor')\n",
    "major_columns = partition_0.filter(like='major')"
   ]
  },
  {
   "cell_type": "code",
   "execution_count": 52,
   "id": "c88b4328-614a-47e8-9160-05c9e023c8ed",
   "metadata": {},
   "outputs": [],
   "source": [
    "# Properly calculate total allele counts by summing corresponding minor and major allele counts\n",
    "total_allele_counts = minor_columns.values + major_columns.values\n",
    "\n",
    "# Create a new DataFrame for total counts with proper column names\n",
    "total_allele_counts_df = pd.DataFrame(total_allele_counts, columns=minor_columns.columns.str.replace('_minor', '_total'))"
   ]
  },
  {
   "cell_type": "code",
   "execution_count": 53,
   "id": "93482c48-2b76-4465-becd-b6532ebf78ea",
   "metadata": {},
   "outputs": [],
   "source": [
    "\n",
    "# Preparing data for binomial regression\n",
    "# Minor allele counts as the response variable (successes)\n",
    "minor_alleles = minor_columns.T.reset_index(drop=True)\n",
    "major_columns = major_columns.T.reset_index(drop=True)\n",
    "\n",
    "# Total allele counts as the number of trials (total attempts)\n",
    "total_alleles = total_allele_counts_df.T.reset_index(drop=True)\n"
   ]
  },
  {
   "cell_type": "code",
   "execution_count": 54,
   "id": "29a2d070-595d-46ea-9568-9bed8f5fd089",
   "metadata": {},
   "outputs": [],
   "source": [
    "successes = minor_alleles.iloc[:,1]\n",
    "failures = major_columns.iloc[:,1]"
   ]
  },
  {
   "cell_type": "code",
   "execution_count": 55,
   "id": "af8b7fa1-4efc-4e54-9e35-5f9c3358c07a",
   "metadata": {},
   "outputs": [],
   "source": [
    "## convert the bio12 to precit into an array and add a constant \n",
    "bio12_predict = env_site_scaled[env_site_scaled['site'] == 1]['env_scaled'][0]\n",
    "\n"
   ]
  },
  {
   "cell_type": "code",
   "execution_count": 56,
   "id": "78bba356-f433-452d-b007-a6be9354428a",
   "metadata": {},
   "outputs": [],
   "source": [
    "env_site_scaled_unique = env_site_scaled.drop_duplicates().set_index('site')"
   ]
  },
  {
   "cell_type": "code",
   "execution_count": 57,
   "id": "aab51616-502a-4754-9f02-1c7042fea403",
   "metadata": {},
   "outputs": [
    {
     "data": {
      "text/html": [
       "<div>\n",
       "<style scoped>\n",
       "    .dataframe tbody tr th:only-of-type {\n",
       "        vertical-align: middle;\n",
       "    }\n",
       "\n",
       "    .dataframe tbody tr th {\n",
       "        vertical-align: top;\n",
       "    }\n",
       "\n",
       "    .dataframe thead th {\n",
       "        text-align: right;\n",
       "    }\n",
       "</style>\n",
       "<table border=\"1\" class=\"dataframe\">\n",
       "  <thead>\n",
       "    <tr style=\"text-align: right;\">\n",
       "      <th></th>\n",
       "      <th>env_scaled</th>\n",
       "    </tr>\n",
       "    <tr>\n",
       "      <th>site</th>\n",
       "      <th></th>\n",
       "    </tr>\n",
       "  </thead>\n",
       "  <tbody>\n",
       "    <tr>\n",
       "      <th>1</th>\n",
       "      <td>0.049999</td>\n",
       "    </tr>\n",
       "  </tbody>\n",
       "</table>\n",
       "</div>"
      ],
      "text/plain": [
       "      env_scaled\n",
       "site            \n",
       "1       0.049999"
      ]
     },
     "execution_count": 57,
     "metadata": {},
     "output_type": "execute_result"
    }
   ],
   "source": [
    "env_site_scaled_unique.head(1)"
   ]
  },
  {
   "cell_type": "code",
   "execution_count": 58,
   "id": "13b1abb8-f366-4cbf-982b-c4f3c9128514",
   "metadata": {},
   "outputs": [
    {
     "data": {
      "text/plain": [
       "(348, 1)"
      ]
     },
     "execution_count": 58,
     "metadata": {},
     "output_type": "execute_result"
    }
   ],
   "source": [
    "env_variable.shape"
   ]
  },
  {
   "cell_type": "code",
   "execution_count": 59,
   "id": "2a2b9a95-4a9e-411c-ad6b-6fe9768713b6",
   "metadata": {},
   "outputs": [
    {
     "data": {
      "text/html": [
       "<div>\n",
       "<style scoped>\n",
       "    .dataframe tbody tr th:only-of-type {\n",
       "        vertical-align: middle;\n",
       "    }\n",
       "\n",
       "    .dataframe tbody tr th {\n",
       "        vertical-align: top;\n",
       "    }\n",
       "\n",
       "    .dataframe thead th {\n",
       "        text-align: right;\n",
       "    }\n",
       "</style>\n",
       "<table border=\"1\" class=\"dataframe\">\n",
       "  <thead>\n",
       "    <tr style=\"text-align: right;\">\n",
       "      <th></th>\n",
       "      <th>0</th>\n",
       "    </tr>\n",
       "  </thead>\n",
       "  <tbody>\n",
       "    <tr>\n",
       "      <th>0</th>\n",
       "      <td>0.049999</td>\n",
       "    </tr>\n",
       "    <tr>\n",
       "      <th>1</th>\n",
       "      <td>0.049999</td>\n",
       "    </tr>\n",
       "    <tr>\n",
       "      <th>2</th>\n",
       "      <td>0.049999</td>\n",
       "    </tr>\n",
       "    <tr>\n",
       "      <th>3</th>\n",
       "      <td>0.049999</td>\n",
       "    </tr>\n",
       "    <tr>\n",
       "      <th>4</th>\n",
       "      <td>0.049999</td>\n",
       "    </tr>\n",
       "    <tr>\n",
       "      <th>...</th>\n",
       "      <td>...</td>\n",
       "    </tr>\n",
       "    <tr>\n",
       "      <th>343</th>\n",
       "      <td>-1.389102</td>\n",
       "    </tr>\n",
       "    <tr>\n",
       "      <th>344</th>\n",
       "      <td>-1.389102</td>\n",
       "    </tr>\n",
       "    <tr>\n",
       "      <th>345</th>\n",
       "      <td>-1.389102</td>\n",
       "    </tr>\n",
       "    <tr>\n",
       "      <th>346</th>\n",
       "      <td>-1.389102</td>\n",
       "    </tr>\n",
       "    <tr>\n",
       "      <th>347</th>\n",
       "      <td>-1.389102</td>\n",
       "    </tr>\n",
       "  </tbody>\n",
       "</table>\n",
       "<p>348 rows × 1 columns</p>\n",
       "</div>"
      ],
      "text/plain": [
       "            0\n",
       "0    0.049999\n",
       "1    0.049999\n",
       "2    0.049999\n",
       "3    0.049999\n",
       "4    0.049999\n",
       "..        ...\n",
       "343 -1.389102\n",
       "344 -1.389102\n",
       "345 -1.389102\n",
       "346 -1.389102\n",
       "347 -1.389102\n",
       "\n",
       "[348 rows x 1 columns]"
      ]
     },
     "execution_count": 59,
     "metadata": {},
     "output_type": "execute_result"
    }
   ],
   "source": [
    "env_variable"
   ]
  },
  {
   "cell_type": "code",
   "execution_count": null,
   "id": "1b0b5210-c223-4cff-9db4-68dd7673a11e",
   "metadata": {},
   "outputs": [],
   "source": []
  },
  {
   "cell_type": "code",
   "execution_count": 60,
   "id": "f0e0d229-4ebf-467b-9c34-6e0a802c85fe",
   "metadata": {},
   "outputs": [
    {
     "data": {
      "text/plain": [
       "(348,)"
      ]
     },
     "execution_count": 60,
     "metadata": {},
     "output_type": "execute_result"
    }
   ],
   "source": [
    "successes.shape"
   ]
  },
  {
   "cell_type": "code",
   "execution_count": 61,
   "id": "88950279-0b2e-448e-8be2-ba31fa097b13",
   "metadata": {},
   "outputs": [
    {
     "data": {
      "text/plain": [
       "0      21\n",
       "1       5\n",
       "2       0\n",
       "3       0\n",
       "4      26\n",
       "       ..\n",
       "343     7\n",
       "344     0\n",
       "345     0\n",
       "346     3\n",
       "347     1\n",
       "Name: 1, Length: 348, dtype: int64"
      ]
     },
     "execution_count": 61,
     "metadata": {},
     "output_type": "execute_result"
    }
   ],
   "source": [
    "successes"
   ]
  },
  {
   "cell_type": "code",
   "execution_count": 62,
   "id": "5d918ff5-3fb8-47f3-acfe-e4b5e6f5f0e4",
   "metadata": {},
   "outputs": [],
   "source": [
    "# Running binomial regression for each SNP separately\n",
    "coefficients_df = {}\n",
    "\n",
    "for i in range(minor_alleles.shape[1]):\n",
    "    # Prepare response (successes, failures) and predictors (environmental variable)\n",
    "    successes = minor_alleles.iloc[:,i]\n",
    "    failures = major_columns.iloc[:,i]\n",
    "    # Set up the binomial regression model\n",
    "    X = sm.add_constant(env_variable)  # Adding constant for intercept\n",
    "    y = pd.concat([successes,failures],axis=1)\n",
    "    # Fit the modelb\n",
    "    model = sm.GLM(y, X, family=sm.families.Binomial())\n",
    "    result = model.fit()\n",
    "\n",
    "    # Extract slope (coefficient for environmental variable) and p-value\n",
    "    slope = result.params[1]  # Coefficient for the environmental variable\n",
    "    p_value = result.pvalues[1]  # P-value for the environmental variable\n",
    "\n",
    "    all_sites_pred_proba = []\n",
    "    for site, row in env_site_scaled_unique.iterrows():\n",
    "        # Predict the probability using the logistic model\n",
    "        X_new = np.column_stack((np.ones(1), np.array([row['env_scaled']])))\n",
    "        predicted_probability = result.predict(X_new)  # This gives the log-odds\n",
    "        all_sites_pred_proba.append(predicted_probability[0])\n",
    "    # Append the results to the DataFrame\n",
    "\n",
    "    all_sites_pred_proba.append(slope)\n",
    "    all_sites_pred_proba.append(p_value)\n",
    "    coefficients_df[i] = all_sites_pred_proba\n",
    "    \n",
    "    # Collect resul"
   ]
  },
  {
   "cell_type": "code",
   "execution_count": 63,
   "id": "4c2ca778-6f08-4427-902e-ba0f82e29dbd",
   "metadata": {},
   "outputs": [],
   "source": [
    "coefficients_df = pd.DataFrame(coefficients_df).T"
   ]
  },
  {
   "cell_type": "code",
   "execution_count": 64,
   "id": "80aac806-6a65-46dc-a2d1-c95924b9ce8e",
   "metadata": {
    "scrolled": true
   },
   "outputs": [
    {
     "data": {
      "text/plain": [
       "(4999, 32)"
      ]
     },
     "execution_count": 64,
     "metadata": {},
     "output_type": "execute_result"
    }
   ],
   "source": [
    "coefficients_df.shape"
   ]
  },
  {
   "cell_type": "code",
   "execution_count": 65,
   "id": "11bb987b-6e03-48c7-b32c-52b4b9121ef6",
   "metadata": {},
   "outputs": [],
   "source": [
    "site1_predict_proba = coefficients_df[1]"
   ]
  },
  {
   "cell_type": "code",
   "execution_count": null,
   "id": "fae4eb94-5703-4317-a08a-5dc741db877e",
   "metadata": {},
   "outputs": [],
   "source": []
  },
  {
   "cell_type": "code",
   "execution_count": 157,
   "id": "39eff3c6-25b0-47f0-add4-0fc1f3689fdf",
   "metadata": {},
   "outputs": [],
   "source": [
    "## get the genotype matrix \n",
    "genotype_counts = pd.read_csv('../leave_1_out/genotype_counts_fullgenome231ecotypes.csv', nrows = 4999).drop('Unnamed: 0', axis=1)"
   ]
  },
  {
   "cell_type": "code",
   "execution_count": 158,
   "id": "7a2fcfef-0f3d-4722-bf73-ba8412d0ecfe",
   "metadata": {},
   "outputs": [],
   "source": [
    "## centralize it so that it goes from 0 to 1 likethe probabilities\n",
    "## having a 1 is having a lot of the alternative alle, to the probability that there is a succes should be high \n",
    "genotype_counts = genotype_counts.replace({2: 1, 1: 0.5, 0: 0})"
   ]
  },
  {
   "cell_type": "code",
   "execution_count": 159,
   "id": "8f0653a2-2c49-46e8-97bd-fb3d8183f2ec",
   "metadata": {},
   "outputs": [],
   "source": [
    "## for each site, subrstract the actual value by the probability fo getting a success \n",
    "genotype_counts_subs = genotype_counts.sub(site1_predict_proba, axis=0)"
   ]
  },
  {
   "cell_type": "code",
   "execution_count": 147,
   "id": "46b57d00-fe78-47ae-9666-49852eb4cd13",
   "metadata": {},
   "outputs": [],
   "source": [
    "## ge tthe absolute value \n",
    "genotype_counts_subs = abs(genotype_counts_subs)"
   ]
  },
  {
   "cell_type": "code",
   "execution_count": 150,
   "id": "92caee63-7a6e-444e-b482-04824a807f1b",
   "metadata": {},
   "outputs": [],
   "source": [
    "## sum over ecotypes \n",
    "go = genotype_counts_subs.sum(axis=0)"
   ]
  },
  {
   "cell_type": "code",
   "execution_count": 154,
   "id": "dd05c85c-ece0-4513-9566-b476f9454e5a",
   "metadata": {},
   "outputs": [
    {
     "data": {
      "text/plain": [
       "<Axes: ylabel='Count'>"
      ]
     },
     "execution_count": 154,
     "metadata": {},
     "output_type": "execute_result"
    },
    {
     "data": {
      "image/png": "[encoded data removed]",
      "text/plain": [
       "<Figure size 640x480 with 1 Axes>"
      ]
     },
     "metadata": {},
     "output_type": "display_data"
    }
   ],
   "source": [
    "## dsitribution of go \n",
    "sns.histplot(go)"
   ]
  },
  {
   "cell_type": "code",
   "execution_count": null,
   "id": "783eb31d-a592-424b-8e09-ab117d983981",
   "metadata": {},
   "outputs": [],
   "source": []
  },
  {
   "cell_type": "code",
   "execution_count": 128,
   "id": "963b3371-3948-42bc-9634-cbeb37eebad8",
   "metadata": {},
   "outputs": [],
   "source": [
    "coefficients_df.columns = [1,  2,  4,  5,  6,  9, 10, 11, 12, 13, 23, 24, 25, 26, 27, 28, 32, 33,\n",
    "       37, 42, 43, 45, 46, 48, 49, 52, 53, 54, 55, 57, 60, 'slope', 'pvalue']"
   ]
  },
  {
   "cell_type": "code",
   "execution_count": 93,
   "id": "1becd9aa-5d41-41f6-80c1-3f3f679279d9",
   "metadata": {},
   "outputs": [
    {
     "data": {
      "text/plain": [
       "<Axes: xlabel='pred_proba', ylabel='Count'>"
      ]
     },
     "execution_count": 93,
     "metadata": {},
     "output_type": "execute_result"
    },
    {
     "data": {
      "image/png": "[encoded data removed]",
      "text/plain": [
       "<Figure size 640x480 with 1 Axes>"
      ]
     },
     "metadata": {},
     "output_type": "display_data"
    }
   ],
   "source": [
    "sns.histplot(coefficients_df['pred_proba'])"
   ]
  },
  {
   "cell_type": "code",
   "execution_count": 97,
   "id": "504bf60c-15e4-4923-adb2-540706dbca95",
   "metadata": {},
   "outputs": [
    {
     "data": {
      "text/html": [
       "<div>\n",
       "<style scoped>\n",
       "    .dataframe tbody tr th:only-of-type {\n",
       "        vertical-align: middle;\n",
       "    }\n",
       "\n",
       "    .dataframe tbody tr th {\n",
       "        vertical-align: top;\n",
       "    }\n",
       "\n",
       "    .dataframe thead th {\n",
       "        text-align: right;\n",
       "    }\n",
       "</style>\n",
       "<table border=\"1\" class=\"dataframe\">\n",
       "  <thead>\n",
       "    <tr style=\"text-align: right;\">\n",
       "      <th></th>\n",
       "      <th>slope</th>\n",
       "      <th>pvalue</th>\n",
       "      <th>pred_proba</th>\n",
       "    </tr>\n",
       "  </thead>\n",
       "  <tbody>\n",
       "    <tr>\n",
       "      <th>10</th>\n",
       "      <td>0.203323</td>\n",
       "      <td>1.965670e-38</td>\n",
       "      <td>0.813770</td>\n",
       "    </tr>\n",
       "    <tr>\n",
       "      <th>16</th>\n",
       "      <td>0.177587</td>\n",
       "      <td>8.776817e-42</td>\n",
       "      <td>0.698929</td>\n",
       "    </tr>\n",
       "    <tr>\n",
       "      <th>35</th>\n",
       "      <td>0.203323</td>\n",
       "      <td>1.965670e-38</td>\n",
       "      <td>0.813770</td>\n",
       "    </tr>\n",
       "    <tr>\n",
       "      <th>60</th>\n",
       "      <td>0.177587</td>\n",
       "      <td>8.776817e-42</td>\n",
       "      <td>0.698929</td>\n",
       "    </tr>\n",
       "    <tr>\n",
       "      <th>66</th>\n",
       "      <td>0.186576</td>\n",
       "      <td>2.991480e-45</td>\n",
       "      <td>0.704771</td>\n",
       "    </tr>\n",
       "    <tr>\n",
       "      <th>...</th>\n",
       "      <td>...</td>\n",
       "      <td>...</td>\n",
       "      <td>...</td>\n",
       "    </tr>\n",
       "    <tr>\n",
       "      <th>4975</th>\n",
       "      <td>0.106631</td>\n",
       "      <td>1.949882e-19</td>\n",
       "      <td>0.546638</td>\n",
       "    </tr>\n",
       "    <tr>\n",
       "      <th>4982</th>\n",
       "      <td>0.145222</td>\n",
       "      <td>9.475936e-33</td>\n",
       "      <td>0.610953</td>\n",
       "    </tr>\n",
       "    <tr>\n",
       "      <th>4983</th>\n",
       "      <td>0.155166</td>\n",
       "      <td>1.232850e-36</td>\n",
       "      <td>0.621196</td>\n",
       "    </tr>\n",
       "    <tr>\n",
       "      <th>4987</th>\n",
       "      <td>0.116454</td>\n",
       "      <td>5.582012e-22</td>\n",
       "      <td>0.602205</td>\n",
       "    </tr>\n",
       "    <tr>\n",
       "      <th>4998</th>\n",
       "      <td>0.138695</td>\n",
       "      <td>8.631806e-28</td>\n",
       "      <td>0.671543</td>\n",
       "    </tr>\n",
       "  </tbody>\n",
       "</table>\n",
       "<p>957 rows × 3 columns</p>\n",
       "</div>"
      ],
      "text/plain": [
       "         slope        pvalue  pred_proba\n",
       "10    0.203323  1.965670e-38    0.813770\n",
       "16    0.177587  8.776817e-42    0.698929\n",
       "35    0.203323  1.965670e-38    0.813770\n",
       "60    0.177587  8.776817e-42    0.698929\n",
       "66    0.186576  2.991480e-45    0.704771\n",
       "...        ...           ...         ...\n",
       "4975  0.106631  1.949882e-19    0.546638\n",
       "4982  0.145222  9.475936e-33    0.610953\n",
       "4983  0.155166  1.232850e-36    0.621196\n",
       "4987  0.116454  5.582012e-22    0.602205\n",
       "4998  0.138695  8.631806e-28    0.671543\n",
       "\n",
       "[957 rows x 3 columns]"
      ]
     },
     "execution_count": 97,
     "metadata": {},
     "output_type": "execute_result"
    }
   ],
   "source": [
    "coefficients_df.loc[coefficients_df['pred_proba']>0.5]"
   ]
  },
  {
   "cell_type": "code",
   "execution_count": null,
   "id": "2f22feb6-b589-4a10-969d-f0b2d0af453e",
   "metadata": {},
   "outputs": [],
   "source": []
  },
  {
   "cell_type": "code",
   "execution_count": 126,
   "id": "7e4cf7a7-6c64-4331-bb86-05e3df796a66",
   "metadata": {},
   "outputs": [],
   "source": []
  },
  {
   "cell_type": "code",
   "execution_count": 129,
   "id": "71347d04-6415-4a23-afe4-d523f5986cc3",
   "metadata": {},
   "outputs": [
    {
     "data": {
      "image/png": "[encoded data removed]",
      "text/plain": [
       "<Figure size 640x480 with 1 Axes>"
      ]
     },
     "metadata": {},
     "output_type": "display_data"
    }
   ],
   "source": [
    "observed_quantiles = -np.log10(np.sort(coefficients_df['pvalue'].values))\n",
    "\n",
    "# Expected quantiles from the uniform distribution\n",
    "expected_quantiles = -np.log10(np.linspace(1 / len(coefficients_df['pvalue']), 1, len(coefficients_df['pvalue'])))\n",
    "\n",
    "# QQ plot\n",
    "sns.scatterplot(x = expected_quantiles, y = observed_quantiles, edgecolor='b', facecolor='none', alpha=0.5)\n",
    "plt.plot([min(expected_quantiles), max(expected_quantiles)], [min(expected_quantiles), max(expected_quantiles)], 'r--')\n",
    "\n",
    "plt.xlabel(\"Expected -log10(p-values)\")\n",
    "plt.ylabel(\"Observed -log10(p-values)\")\n",
    "plt.title(f'QQ Plot')\n",
    "\n",
    "plt.show()"
   ]
  },
  {
   "cell_type": "code",
   "execution_count": 117,
   "id": "d67b67c4-f51f-4e55-a38e-ea67bf4775f7",
   "metadata": {},
   "outputs": [
    {
     "data": {
      "text/plain": [
       "array([8.17162954e-01, 8.58518224e-05, 1.85612522e-01, ...,\n",
       "       1.08041784e-20, 7.42600016e-24, 5.29329426e-04])"
      ]
     },
     "execution_count": 117,
     "metadata": {},
     "output_type": "execute_result"
    }
   ],
   "source": [
    "coefficients_df['pvalue'].unique()"
   ]
  },
  {
   "cell_type": "code",
   "execution_count": 84,
   "id": "4debbc0e-3b5b-4af5-9ed3-84bc64234ddd",
   "metadata": {
    "scrolled": true
   },
   "outputs": [
    {
     "data": {
      "text/plain": [
       "const    7.960043e+17\n",
       "x1      -9.474735e+16\n",
       "dtype: float64"
      ]
     },
     "execution_count": 84,
     "metadata": {},
     "output_type": "execute_result"
    }
   ],
   "source": [
    "result.params"
   ]
  },
  {
   "cell_type": "code",
   "execution_count": null,
   "id": "871293eb-9b97-46a6-a700-4a1bd095fd1f",
   "metadata": {},
   "outputs": [],
   "source": []
  },
  {
   "cell_type": "code",
   "execution_count": null,
   "id": "188d2383-1bc5-436b-bde3-223712d8ce71",
   "metadata": {},
   "outputs": [],
   "source": []
  },
  {
   "cell_type": "code",
   "execution_count": 66,
   "id": "d642c80e-bd16-4da6-9321-e33943cb91d8",
   "metadata": {},
   "outputs": [],
   "source": [
    "import os"
   ]
  },
  {
   "cell_type": "code",
   "execution_count": 67,
   "id": "07c00bd1-2c80-4f20-b7c5-b07135cc19c5",
   "metadata": {},
   "outputs": [],
   "source": [
    "files = os.listdir('../baypass_lastgen/individual_gfiles_last_gen/')"
   ]
  },
  {
   "cell_type": "code",
   "execution_count": 68,
   "id": "fe8490ec-f1e6-4570-bfe4-01f32bd65e10",
   "metadata": {},
   "outputs": [],
   "source": [
    "partitions = [int(file.split('_')[1].replace('.txt', '')) for file in files if '.txt' in file]"
   ]
  },
  {
   "cell_type": "code",
   "execution_count": 69,
   "id": "b50b219d-b9d1-48a2-9d4c-5efe48e40c6c",
   "metadata": {},
   "outputs": [],
   "source": [
    "partitions.sort()"
   ]
  },
  {
   "cell_type": "code",
   "execution_count": 70,
   "id": "ed082e77-be96-4661-a944-9bd6dc342b92",
   "metadata": {},
   "outputs": [
    {
     "data": {
      "text/plain": [
       "209"
      ]
     },
     "execution_count": 70,
     "metadata": {},
     "output_type": "execute_result"
    }
   ],
   "source": [
    "partitions[-1]"
   ]
  },
  {
   "cell_type": "code",
   "execution_count": 71,
   "id": "a1c40af9-a40b-49a1-86dd-55e96c1bd806",
   "metadata": {
    "scrolled": true
   },
   "outputs": [
    {
     "data": {
      "text/plain": [
       "210"
      ]
     },
     "execution_count": 71,
     "metadata": {},
     "output_type": "execute_result"
    }
   ],
   "source": [
    "len(partitions)"
   ]
  },
  {
   "cell_type": "code",
   "execution_count": 72,
   "id": "364c3490-1eef-4a5b-8a5a-da9835c401b8",
   "metadata": {
    "scrolled": true
   },
   "outputs": [
    {
     "data": {
      "text/plain": [
       "'/carnegie/nobackup/scratch/tbellagio/gea_grene-net/binomial_regression_lastgen'"
      ]
     },
     "execution_count": 72,
     "metadata": {},
     "output_type": "execute_result"
    }
   ],
   "source": [
    "pwd -P"
   ]
  },
  {
   "cell_type": "code",
   "execution_count": 73,
   "id": "290bca4c-714e-4513-9a0f-b06e14de48bb",
   "metadata": {},
   "outputs": [],
   "source": [
    "import random\n",
    "import subprocess"
   ]
  },
  {
   "cell_type": "code",
   "execution_count": 74,
   "id": "0919a31f-d596-4e02-b65e-306b34a9f8a0",
   "metadata": {},
   "outputs": [
    {
     "data": {
      "text/plain": [
       "'bio18'"
      ]
     },
     "execution_count": 74,
     "metadata": {},
     "output_type": "execute_result"
    }
   ],
   "source": [
    "biovar"
   ]
  },
  {
   "cell_type": "code",
   "execution_count": 77,
   "id": "86f8aa14-6b55-4433-8bf0-1d8c50a1d325",
   "metadata": {},
   "outputs": [],
   "source": [
    "# create sbatch files to submit on cedar server\n",
    "shfiles = []\n",
    "for partition in partitions:\n",
    "    seed = random.randint(1,100000000)\n",
    "    file = f'shfiles/partition_{partition}.sh'\n",
    "    cmd = f'python run_partition_binomial_reg_last_gen.py {partition} {biovar}'\n",
    "    text = f'''#!/bin/bash\n",
    "#SBATCH --job-name=run_partition_binomial_reg{partition}\n",
    "#SBATCH --time=4:00:00  # Time limit set to 4 days\n",
    "#SBATCH --ntasks=1\n",
    "#SBATCH --mem-per-cpu=30gb\n",
    "#SBATCH --output=run_partition_binomial_reg{partition}_%j.out\n",
    "#SBATCH --mail-user=tbellagio@carnegiescience.edu\n",
    "#SBATCH --mail-type=FAIL\n",
    "\n",
    "module load python/3.11_conda\n",
    "conda activate /home/tbellagio/miniforge3/envs/pipeline_snakemake\n",
    "export LD_LIBRARY_PATH=\"/home/tbellagio/miniforge3/envs/run_baypass/lib:$LD_LIBRARY_PATH\"\n",
    "cd /carnegie/nobackup/scratch/tbellagio/gea_grene-net/binomial_regression_lastgen\n",
    "{cmd}\n",
    "\n",
    "'''\n",
    "    with open(file, 'w') as o:\n",
    "        o.write(\"%s\" % text)\n",
    "    shfiles.append(file)"
   ]
  },
  {
   "cell_type": "code",
   "execution_count": 78,
   "id": "dce4c0d0-e91e-4bc8-8103-c523cb5d36dd",
   "metadata": {},
   "outputs": [
    {
     "name": "stdout",
     "output_type": "stream",
     "text": [
      "Submitted batch job 57376\n"
     ]
    },
    {
     "data": {
      "text/plain": [
       "CompletedProcess(args=['sbatch', 'shfiles/partition_0.sh'], returncode=0)"
      ]
     },
     "execution_count": 78,
     "metadata": {},
     "output_type": "execute_result"
    }
   ],
   "source": [
    "subprocess.run([\"sbatch\", shfiles[0]], check=True)"
   ]
  },
  {
   "cell_type": "code",
   "execution_count": 79,
   "id": "03abc3a2-60f4-4fe2-8a0b-556b8928245b",
   "metadata": {
    "scrolled": true
   },
   "outputs": [
    {
     "name": "stdout",
     "output_type": "stream",
     "text": [
      "Submitted batch job 57377\n",
      "Submitted batch job 57378\n",
      "Submitted batch job 57379\n",
      "Submitted batch job 57380\n",
      "Submitted batch job 57381\n",
      "Submitted batch job 57382\n",
      "Submitted batch job 57383\n",
      "Submitted batch job 57384\n",
      "Submitted batch job 57385\n",
      "Submitted batch job 57386\n",
      "Submitted batch job 57387\n",
      "Submitted batch job 57388\n",
      "Submitted batch job 57389\n",
      "Submitted batch job 57390\n",
      "Submitted batch job 57391\n",
      "Submitted batch job 57392\n",
      "Submitted batch job 57393\n",
      "Submitted batch job 57394\n",
      "Submitted batch job 57395\n",
      "Submitted batch job 57396\n",
      "Submitted batch job 57397\n",
      "Submitted batch job 57398\n",
      "Submitted batch job 57399\n",
      "Submitted batch job 57400\n",
      "Submitted batch job 57401\n",
      "Submitted batch job 57402\n",
      "Submitted batch job 57403\n",
      "Submitted batch job 57404\n",
      "Submitted batch job 57405\n",
      "Submitted batch job 57406\n",
      "Submitted batch job 57407\n",
      "Submitted batch job 57408\n",
      "Submitted batch job 57409\n",
      "Submitted batch job 57410\n",
      "Submitted batch job 57411\n",
      "Submitted batch job 57412\n",
      "Submitted batch job 57413\n",
      "Submitted batch job 57414\n",
      "Submitted batch job 57415\n",
      "Submitted batch job 57416\n",
      "Submitted batch job 57417\n",
      "Submitted batch job 57418\n",
      "Submitted batch job 57419\n",
      "Submitted batch job 57420\n",
      "Submitted batch job 57421\n",
      "Submitted batch job 57422\n",
      "Submitted batch job 57423\n",
      "Submitted batch job 57424\n",
      "Submitted batch job 57425\n",
      "Submitted batch job 57426\n",
      "Submitted batch job 57427\n",
      "Submitted batch job 57428\n",
      "Submitted batch job 57429\n",
      "Submitted batch job 57430\n",
      "Submitted batch job 57431\n",
      "Submitted batch job 57432\n",
      "Submitted batch job 57433\n",
      "Submitted batch job 57434\n",
      "Submitted batch job 57435\n",
      "Submitted batch job 57436\n",
      "Submitted batch job 57437\n",
      "Submitted batch job 57438\n",
      "Submitted batch job 57439\n",
      "Submitted batch job 57440\n",
      "Submitted batch job 57441\n",
      "Submitted batch job 57442\n",
      "Submitted batch job 57443\n",
      "Submitted batch job 57444\n",
      "Submitted batch job 57445\n",
      "Submitted batch job 57446\n",
      "Submitted batch job 57447\n",
      "Submitted batch job 57448\n",
      "Submitted batch job 57449\n",
      "Submitted batch job 57450\n",
      "Submitted batch job 57451\n",
      "Submitted batch job 57452\n",
      "Submitted batch job 57453\n",
      "Submitted batch job 57454\n",
      "Submitted batch job 57455\n",
      "Submitted batch job 57456\n",
      "Submitted batch job 57457\n",
      "Submitted batch job 57458\n",
      "Submitted batch job 57459\n",
      "Submitted batch job 57460\n",
      "Submitted batch job 57461\n",
      "Submitted batch job 57462\n",
      "Submitted batch job 57463\n",
      "Submitted batch job 57464\n",
      "Submitted batch job 57465\n",
      "Submitted batch job 57466\n",
      "Submitted batch job 57467\n",
      "Submitted batch job 57468\n",
      "Submitted batch job 57469\n",
      "Submitted batch job 57470\n",
      "Submitted batch job 57471\n",
      "Submitted batch job 57472\n",
      "Submitted batch job 57473\n",
      "Submitted batch job 57474\n",
      "Submitted batch job 57475\n",
      "Submitted batch job 57476\n",
      "Submitted batch job 57477\n",
      "Submitted batch job 57478\n",
      "Submitted batch job 57479\n",
      "Submitted batch job 57480\n",
      "Submitted batch job 57481\n",
      "Submitted batch job 57482\n",
      "Submitted batch job 57483\n",
      "Submitted batch job 57484\n",
      "Submitted batch job 57485\n",
      "Submitted batch job 57486\n",
      "Submitted batch job 57487\n",
      "Submitted batch job 57488\n",
      "Submitted batch job 57489\n",
      "Submitted batch job 57490\n",
      "Submitted batch job 57491\n",
      "Submitted batch job 57492\n",
      "Submitted batch job 57493\n",
      "Submitted batch job 57494\n",
      "Submitted batch job 57495\n",
      "Submitted batch job 57496\n",
      "Submitted batch job 57497\n",
      "Submitted batch job 57498\n",
      "Submitted batch job 57499\n",
      "Submitted batch job 57500\n",
      "Submitted batch job 57501\n",
      "Submitted batch job 57502\n",
      "Submitted batch job 57503\n",
      "Submitted batch job 57504\n",
      "Submitted batch job 57505\n",
      "Submitted batch job 57506\n",
      "Submitted batch job 57507\n",
      "Submitted batch job 57508\n",
      "Submitted batch job 57509\n",
      "Submitted batch job 57510\n",
      "Submitted batch job 57511\n",
      "Submitted batch job 57512\n",
      "Submitted batch job 57513\n",
      "Submitted batch job 57514\n",
      "Submitted batch job 57515\n",
      "Submitted batch job 57516\n",
      "Submitted batch job 57517\n",
      "Submitted batch job 57518\n",
      "Submitted batch job 57519\n",
      "Submitted batch job 57520\n",
      "Submitted batch job 57521\n",
      "Submitted batch job 57522\n",
      "Submitted batch job 57523\n",
      "Submitted batch job 57524\n",
      "Submitted batch job 57525\n",
      "Submitted batch job 57526\n",
      "Submitted batch job 57527\n",
      "Submitted batch job 57528\n",
      "Submitted batch job 57529\n",
      "Submitted batch job 57530\n",
      "Submitted batch job 57531\n",
      "Submitted batch job 57532\n",
      "Submitted batch job 57533\n",
      "Submitted batch job 57534\n",
      "Submitted batch job 57535\n",
      "Submitted batch job 57536\n",
      "Submitted batch job 57537\n",
      "Submitted batch job 57538\n",
      "Submitted batch job 57539\n",
      "Submitted batch job 57540\n",
      "Submitted batch job 57541\n",
      "Submitted batch job 57542\n",
      "Submitted batch job 57543\n",
      "Submitted batch job 57544\n",
      "Submitted batch job 57545\n",
      "Submitted batch job 57546\n",
      "Submitted batch job 57547\n",
      "Submitted batch job 57548\n",
      "Submitted batch job 57549\n",
      "Submitted batch job 57550\n",
      "Submitted batch job 57551\n",
      "Submitted batch job 57552\n",
      "Submitted batch job 57553\n",
      "Submitted batch job 57554\n",
      "Submitted batch job 57555\n",
      "Submitted batch job 57556\n",
      "Submitted batch job 57557\n",
      "Submitted batch job 57558\n",
      "Submitted batch job 57559\n",
      "Submitted batch job 57560\n",
      "Submitted batch job 57561\n",
      "Submitted batch job 57562\n",
      "Submitted batch job 57563\n",
      "Submitted batch job 57564\n",
      "Submitted batch job 57565\n",
      "Submitted batch job 57566\n",
      "Submitted batch job 57567\n",
      "Submitted batch job 57568\n",
      "Submitted batch job 57569\n",
      "Submitted batch job 57570\n",
      "Submitted batch job 57571\n",
      "Submitted batch job 57572\n",
      "Submitted batch job 57573\n",
      "Submitted batch job 57574\n",
      "Submitted batch job 57575\n",
      "Submitted batch job 57576\n",
      "Submitted batch job 57577\n",
      "Submitted batch job 57578\n",
      "Submitted batch job 57579\n",
      "Submitted batch job 57580\n",
      "Submitted batch job 57581\n",
      "Submitted batch job 57582\n",
      "Submitted batch job 57583\n",
      "Submitted batch job 57584\n",
      "Submitted batch job 57585\n",
      "Submitted batch job 57586\n"
     ]
    }
   ],
   "source": [
    "## now run the shfiles\n",
    "for shfile in shfiles:\n",
    "    # Submit each sbatch script to the SLURM scheduler\n",
    "    subprocess.run([\"sbatch\", shfile], check=True)"
   ]
  },
  {
   "cell_type": "code",
   "execution_count": 83,
   "id": "d3eccdb6-3b3f-44e6-a4b9-da42bd0e0da5",
   "metadata": {},
   "outputs": [],
   "source": [
    "biovar = 'bio18'"
   ]
  },
  {
   "cell_type": "code",
   "execution_count": 80,
   "id": "7442ed61-b8a6-4eff-a43c-1794288d417d",
   "metadata": {},
   "outputs": [],
   "source": [
    "loci_names = [file for file in files if 'loci' in file]"
   ]
  },
  {
   "cell_type": "code",
   "execution_count": 81,
   "id": "43add2fe-04d3-420e-864a-1a21888e1467",
   "metadata": {},
   "outputs": [],
   "source": [
    "partition = 0 "
   ]
  },
  {
   "cell_type": "code",
   "execution_count": 82,
   "id": "e50fdfdb-d5bc-4a26-87a5-03f3448d22f3",
   "metadata": {},
   "outputs": [],
   "source": [
    "pickle_file_path = f'../baypass_lastgen/individual_gfiles_last_gen/loci_partition_{partition}'\n",
    "with open(pickle_file_path, 'rb') as file:\n",
    "    loci_f = pickle.load(file)"
   ]
  },
  {
   "cell_type": "code",
   "execution_count": 84,
   "id": "b9954e82-9df1-4e0d-a706-428a172d8721",
   "metadata": {},
   "outputs": [],
   "source": [
    "partitions_r = {}\n",
    "for i in range(len(partitions)):\n",
    "    pickle_file_path = f'../baypass_lastgen/individual_gfiles_last_gen/loci_partition_{i}'\n",
    "    with open(pickle_file_path, 'rb') as file:\n",
    "        loci_f = pickle.load(file)\n",
    "    results = pd.read_csv(f'results_{biovar}/partition{i}.csv')\n",
    "    results['snp_id'] = loci_f\n",
    "    partitions_r[i] = results"
   ]
  },
  {
   "cell_type": "code",
   "execution_count": 85,
   "id": "b6f81a6d-dd46-449d-bfba-7440fee2e577",
   "metadata": {},
   "outputs": [],
   "source": [
    "results = pd.concat(partitions_r).reset_index(drop=True)"
   ]
  },
  {
   "cell_type": "code",
   "execution_count": 86,
   "id": "942d337c-34a1-4021-820e-b880beebb1de",
   "metadata": {},
   "outputs": [
    {
     "data": {
      "text/html": [
       "<div>\n",
       "<style scoped>\n",
       "    .dataframe tbody tr th:only-of-type {\n",
       "        vertical-align: middle;\n",
       "    }\n",
       "\n",
       "    .dataframe tbody tr th {\n",
       "        vertical-align: top;\n",
       "    }\n",
       "\n",
       "    .dataframe thead th {\n",
       "        text-align: right;\n",
       "    }\n",
       "</style>\n",
       "<table border=\"1\" class=\"dataframe\">\n",
       "  <thead>\n",
       "    <tr style=\"text-align: right;\">\n",
       "      <th></th>\n",
       "      <th>slope</th>\n",
       "      <th>pvalue</th>\n",
       "      <th>snp_id</th>\n",
       "    </tr>\n",
       "  </thead>\n",
       "  <tbody>\n",
       "    <tr>\n",
       "      <th>0</th>\n",
       "      <td>-0.021596</td>\n",
       "      <td>6.688579e-02</td>\n",
       "      <td>1_346</td>\n",
       "    </tr>\n",
       "    <tr>\n",
       "      <th>1</th>\n",
       "      <td>-0.077940</td>\n",
       "      <td>1.952474e-04</td>\n",
       "      <td>1_353</td>\n",
       "    </tr>\n",
       "    <tr>\n",
       "      <th>2</th>\n",
       "      <td>0.125312</td>\n",
       "      <td>2.717472e-13</td>\n",
       "      <td>1_363</td>\n",
       "    </tr>\n",
       "    <tr>\n",
       "      <th>3</th>\n",
       "      <td>-0.494324</td>\n",
       "      <td>1.364982e-85</td>\n",
       "      <td>1_395</td>\n",
       "    </tr>\n",
       "    <tr>\n",
       "      <th>4</th>\n",
       "      <td>-0.494324</td>\n",
       "      <td>1.364982e-85</td>\n",
       "      <td>1_396</td>\n",
       "    </tr>\n",
       "    <tr>\n",
       "      <th>...</th>\n",
       "      <td>...</td>\n",
       "      <td>...</td>\n",
       "      <td>...</td>\n",
       "    </tr>\n",
       "    <tr>\n",
       "      <th>1048630</th>\n",
       "      <td>0.281729</td>\n",
       "      <td>2.708040e-76</td>\n",
       "      <td>5_26975078</td>\n",
       "    </tr>\n",
       "    <tr>\n",
       "      <th>1048631</th>\n",
       "      <td>-0.081247</td>\n",
       "      <td>1.021719e-04</td>\n",
       "      <td>5_26975121</td>\n",
       "    </tr>\n",
       "    <tr>\n",
       "      <th>1048632</th>\n",
       "      <td>-0.081247</td>\n",
       "      <td>1.021719e-04</td>\n",
       "      <td>5_26975148</td>\n",
       "    </tr>\n",
       "    <tr>\n",
       "      <th>1048633</th>\n",
       "      <td>-0.029124</td>\n",
       "      <td>6.896039e-03</td>\n",
       "      <td>5_26975272</td>\n",
       "    </tr>\n",
       "    <tr>\n",
       "      <th>1048634</th>\n",
       "      <td>0.211876</td>\n",
       "      <td>6.716018e-56</td>\n",
       "      <td>5_26975288</td>\n",
       "    </tr>\n",
       "  </tbody>\n",
       "</table>\n",
       "<p>1048635 rows × 3 columns</p>\n",
       "</div>"
      ],
      "text/plain": [
       "            slope        pvalue      snp_id\n",
       "0       -0.021596  6.688579e-02       1_346\n",
       "1       -0.077940  1.952474e-04       1_353\n",
       "2        0.125312  2.717472e-13       1_363\n",
       "3       -0.494324  1.364982e-85       1_395\n",
       "4       -0.494324  1.364982e-85       1_396\n",
       "...           ...           ...         ...\n",
       "1048630  0.281729  2.708040e-76  5_26975078\n",
       "1048631 -0.081247  1.021719e-04  5_26975121\n",
       "1048632 -0.081247  1.021719e-04  5_26975148\n",
       "1048633 -0.029124  6.896039e-03  5_26975272\n",
       "1048634  0.211876  6.716018e-56  5_26975288\n",
       "\n",
       "[1048635 rows x 3 columns]"
      ]
     },
     "execution_count": 86,
     "metadata": {},
     "output_type": "execute_result"
    }
   ],
   "source": [
    "results"
   ]
  },
  {
   "cell_type": "code",
   "execution_count": 87,
   "id": "7013093f-5fe6-45dc-877a-93dfae3063f3",
   "metadata": {},
   "outputs": [],
   "source": [
    "results.to_csv(f'{biovar}_binomial_reg_results_last_gen.csv',index=None)"
   ]
  },
  {
   "cell_type": "code",
   "execution_count": 88,
   "id": "5e8297c5-d278-40e7-a451-7f4d9c1f2631",
   "metadata": {},
   "outputs": [
    {
     "data": {
      "text/plain": [
       "1048635"
      ]
     },
     "execution_count": 88,
     "metadata": {},
     "output_type": "execute_result"
    }
   ],
   "source": [
    "len(results['snp_id'].unique())"
   ]
  },
  {
   "cell_type": "code",
   "execution_count": 89,
   "id": "442836bf-0252-402c-b3f0-8a09948a6a25",
   "metadata": {},
   "outputs": [
    {
     "data": {
      "text/plain": [
       "0"
      ]
     },
     "execution_count": 89,
     "metadata": {},
     "output_type": "execute_result"
    }
   ],
   "source": [
    "1048635 - 1048635"
   ]
  },
  {
   "cell_type": "code",
   "execution_count": null,
   "id": "e6893c33-30e4-404d-99e4-f836540a482a",
   "metadata": {},
   "outputs": [],
   "source": []
  },
  {
   "cell_type": "code",
   "execution_count": null,
   "id": "0e1a0e2e-e4b7-416e-bc9d-72811244a4b2",
   "metadata": {},
   "outputs": [],
   "source": []
  },
  {
   "cell_type": "code",
   "execution_count": 90,
   "id": "ecfaaf1f-a48e-419b-a525-91baf3e3b7ef",
   "metadata": {},
   "outputs": [
    {
     "data": {
      "text/plain": [
       "1048635"
      ]
     },
     "execution_count": 90,
     "metadata": {},
     "output_type": "execute_result"
    }
   ],
   "source": [
    "len(results)"
   ]
  },
  {
   "cell_type": "code",
   "execution_count": null,
   "id": "0ff2c672-0872-45a1-9d85-8e349bc5c77b",
   "metadata": {},
   "outputs": [],
   "source": []
  },
  {
   "cell_type": "code",
   "execution_count": null,
   "id": "9b140b99-be09-438b-824f-bfc47a916255",
   "metadata": {},
   "outputs": [],
   "source": []
  },
  {
   "cell_type": "code",
   "execution_count": 91,
   "id": "2ae1a3be-6ecf-429c-9f12-392e8b8628c6",
   "metadata": {},
   "outputs": [],
   "source": [
    "all_loci = []\n",
    "for i in loci_names:\n",
    "    pickle_file_path = f'../baypass_lastgen/individual_gfiles_last_gen/{i}'\n",
    "    with open(pickle_file_path, 'rb') as file:\n",
    "        loci_f = pickle.load(file)\n",
    "    all_loci.append(loci_f)"
   ]
  },
  {
   "cell_type": "code",
   "execution_count": null,
   "id": "162348b7-a57b-4749-b101-1fc873220a99",
   "metadata": {},
   "outputs": [],
   "source": []
  },
  {
   "cell_type": "code",
   "execution_count": 92,
   "id": "4a37396b-b027-41a0-9a15-400391e5526c",
   "metadata": {},
   "outputs": [],
   "source": [
    "flattened_loci = [item for sublist in all_loci for item in sublist]"
   ]
  },
  {
   "cell_type": "code",
   "execution_count": 93,
   "id": "e99f719c-286f-4062-90d0-851de70045f8",
   "metadata": {},
   "outputs": [
    {
     "data": {
      "text/plain": [
       "1048635"
      ]
     },
     "execution_count": 93,
     "metadata": {},
     "output_type": "execute_result"
    }
   ],
   "source": [
    "len(flattened_loci)"
   ]
  },
  {
   "cell_type": "code",
   "execution_count": 62,
   "id": "4d0dab11-2ec7-4945-960b-c7a041876d6f",
   "metadata": {},
   "outputs": [],
   "source": []
  },
  {
   "cell_type": "code",
   "execution_count": 95,
   "id": "bb1af15d-bb33-4aa7-a901-6065bf7e2d60",
   "metadata": {},
   "outputs": [],
   "source": [
    "biovar = 'bio18'\n",
    "\n",
    "binom = pd.read_csv(f'{biovar}_binomial_reg_results_last_gen.csv')\n",
    "\n",
    "binom['chrom'] = binom['snp_id'].str.split('_').str[0].astype(int)\n",
    "binom['pos'] = binom['snp_id'].str.split('_').str[1].astype(int)"
   ]
  },
  {
   "cell_type": "code",
   "execution_count": null,
   "id": "bc35ad19-3911-48b5-bcfd-a19719e10870",
   "metadata": {},
   "outputs": [],
   "source": []
  },
  {
   "cell_type": "code",
   "execution_count": 96,
   "id": "ded60a48-a4d7-4e73-ad7a-5b41d1b3b538",
   "metadata": {},
   "outputs": [
    {
     "name": "stderr",
     "output_type": "stream",
     "text": [
      "/home/tbellagio/miniforge3/envs/pipeline_snakemake/lib/python3.9/site-packages/pandas/core/arraylike.py:396: RuntimeWarning: divide by zero encountered in log10\n",
      "  result = getattr(ufunc, method)(*inputs, **kwargs)\n",
      "/tmp/ipykernel_642777/3423637642.py:31: UserWarning: *c* argument looks like a single numeric RGB or RGBA sequence, which should be avoided as value-mapping will have precedence in case its length matches with *x* & *y*.  Please use the *color* keyword-argument or provide a 2D array with a single row if you intend to specify the same RGB or RGBA value for all points.\n",
      "  plt.scatter(subset['adjusted_position'], subset['-log10(pvalue)'], c=colors[chrom % len(colors)], label=f'Chr {chrom}', s=10)\n"
     ]
    },
    {
     "data": {
      "image/png": "[encoded data removed]",
      "text/plain": [
       "<Figure size 2000x600 with 1 Axes>"
      ]
     },
     "metadata": {},
     "output_type": "display_data"
    }
   ],
   "source": [
    "threshold_value = 0.05 / len(binom)\n",
    "\n",
    "#sm.qqplot(pvalues['pvalue'], line ='45') \n",
    "#py.show() \n",
    "\n",
    "df = binom[['pvalue', 'pos', 'chrom']].copy()\n",
    "\n",
    "colors = sns.color_palette(\"crest\", n_colors = 5)\n",
    "\n",
    "# Parsing chromosome number and position\n",
    "df['chromosome'] = df['chrom']\n",
    "df['position'] = df['pos']\n",
    "df['-log10(pvalue)'] = -np.log10(df['pvalue'])\n",
    "\n",
    "# Calculate the offset for each chromosome to prevent overlap\n",
    "chromosome_offsets = {}\n",
    "offset = 0\n",
    "for chrom in sorted(df['chromosome'].unique()):\n",
    "    chromosome_offsets[chrom] = offset\n",
    "    max_position = df[df['chromosome'] == chrom]['position'].max()\n",
    "    offset += max_position + 1000000  # Adding 1 million as a buffer between chromosomes\n",
    "\n",
    "# Apply offsets to positions\n",
    "df['adjusted_position'] = df.apply(lambda row: row['position'] + chromosome_offsets[row['chromosome']], axis=1)\n",
    "\n",
    "# Creating the Manhattan plot\n",
    "plt.figure(figsize=(20, 6))\n",
    "\n",
    "for chrom in sorted(df['chromosome'].unique()):\n",
    "    subset = df[df['chromosome'] == chrom]\n",
    "    plt.scatter(subset['adjusted_position'], subset['-log10(pvalue)'], c=colors[chrom % len(colors)], label=f'Chr {chrom}', s=10)\n",
    "\n",
    "# Aesthetics\n",
    "plt.xlabel('Adjusted Position')\n",
    "plt.ylabel('-log10(pvalue)')\n",
    "#plt.title('Manhattan Plot')\n",
    "#plt.grid(axis='y')\n",
    "#plt.legend(title=\"Chromosome\", bbox_to_anchor=(1.05, 1), loc='upper left')\n",
    "ax = plt.gca()  # Get current axes\n",
    "ax.spines['top'].set_visible(False)  # Remove the top spine\n",
    "ax.spines['right'].set_visible(False)\n",
    "# Threshold line (optional)\n",
    "threshold = -np.log10(threshold_value)\n",
    "plt.axhline(y=threshold, color='grey', linestyle='dashed')\n",
    "plt.title(f'{biovar} Binomial GLM tau correlation')  # Set the title\n",
    "\n",
    "# Show the plot\n",
    "plt.tight_layout()\n",
    "plt.savefig(f'manhattan_binom_{biovar}.png')\n",
    "plt.show()"
   ]
  },
  {
   "cell_type": "code",
   "execution_count": null,
   "id": "d154306d-e3cc-4418-b1ad-cfd19cebe3c1",
   "metadata": {},
   "outputs": [],
   "source": []
  },
  {
   "cell_type": "code",
   "execution_count": null,
   "id": "57f26deb-bf1c-42d4-88b7-6253d4451bc8",
   "metadata": {},
   "outputs": [],
   "source": []
  }
 ],
 "metadata": {
  "kernelspec": {
   "display_name": "Python (pipeline_snakemake)",
   "language": "python",
   "name": "pipeline_snakemake"
  },
  "language_info": {
   "codemirror_mode": {
    "name": "ipython",
    "version": 3
   },
   "file_extension": ".py",
   "mimetype": "text/x-python",
   "name": "python",
   "nbconvert_exporter": "python",
   "pygments_lexer": "ipython3",
   "version": "3.9.16"
  }
 },
 "nbformat": 4,
 "nbformat_minor": 5
}
