{
 "cells": [
  {
   "cell_type": "code",
   "execution_count": 2,
   "id": "f182d212-330f-407b-a8f9-41f825352d93",
   "metadata": {},
   "outputs": [],
   "source": [
    "import pandas as pd"
   ]
  },
  {
   "cell_type": "code",
   "execution_count": 3,
   "id": "d92a941b-3425-413f-9cb0-cbf75222077d",
   "metadata": {},
   "outputs": [],
   "source": [
    "import statsmodels.api as sm\n",
    "from statsmodels.formula.api import ols"
   ]
  },
  {
   "cell_type": "code",
   "execution_count": 92,
   "id": "d29f1801-3e07-42ce-b3b0-2ad053ac390b",
   "metadata": {},
   "outputs": [],
   "source": [
    "## create dict sites plots \n",
    "\n",
    "merged_hapFIRE_allele_frequency = pd.read_csv('../key_files/merged_hapFIRE_allele_frequency.txt',nrows=1, sep = '\\t')\n",
    "\n",
    "merged_hapFIRE_allele_frequency = merged_hapFIRE_allele_frequency.T\n",
    "\n",
    "merged_hapFIRE_allele_frequency = merged_hapFIRE_allele_frequency.reset_index()\n",
    "\n",
    "merged_hapFIRE_allele_frequency['site'] = merged_hapFIRE_allele_frequency['index'].str.split('_').str[0]\n",
    "merged_hapFIRE_allele_frequency['gen'] = merged_hapFIRE_allele_frequency['index'].str.split('_').str[1]\n",
    "merged_hapFIRE_allele_frequency['plot'] = merged_hapFIRE_allele_frequency['index'].str.split('_').str[2]\n",
    "\n",
    "samples = merged_hapFIRE_allele_frequency.drop([0, 'index'],axis=1).drop_duplicates()\n",
    "\n",
    "samples_at_least_2_years = samples[['site', 'plot']].value_counts()[samples[['site', 'plot']].value_counts() > 1 ].reset_index()\n",
    "\n",
    "sites_plots_w_at_least_2_years =  samples_at_least_2_years[['site', 'plot']].groupby('site')['plot'].unique().to_dict()"
   ]
  },
  {
   "cell_type": "code",
   "execution_count": null,
   "id": "f81ed028-dada-4709-a929-5a8595781342",
   "metadata": {},
   "outputs": [],
   "source": []
  },
  {
   "cell_type": "code",
   "execution_count": null,
   "id": "039a0435-f100-4cca-aed2-9d493cc5f05e",
   "metadata": {},
   "outputs": [],
   "source": []
  },
  {
   "cell_type": "code",
   "execution_count": 93,
   "id": "1f832f7c-3052-4298-9418-fbfc6b419a8e",
   "metadata": {},
   "outputs": [],
   "source": [
    "## test "
   ]
  },
  {
   "cell_type": "code",
   "execution_count": 94,
   "id": "0d8019ee-5135-460a-9b49-873d49e33ca7",
   "metadata": {},
   "outputs": [],
   "source": [
    "flowers = pd.read_csv('../key_files/merged_sample_table.csv')\n",
    "\n",
    "var_pos = pd.read_csv('../key_files/var_pos_grenenet.csv')\n",
    "#path_meixi = '/carnegie/data/Shared/Labs/Moi/Everyone/meixilin'\n",
    "\n",
    "num_flowers_map = flowers.set_index('sample_name')['total_flower_counts'].to_dict()\n",
    "\n",
    "merged_hapFIRE_allele_frequency = pd.read_csv('../key_files/merged_hapFIRE_allele_frequency.txt',nrows=1, sep = '\\t')\n",
    "\n",
    "merged_hapFIRE_allele_frequency = merged_hapFIRE_allele_frequency.T\n",
    "\n",
    "merged_hapFIRE_allele_frequency = merged_hapFIRE_allele_frequency.reset_index()\n",
    "\n",
    "merged_hapFIRE_allele_frequency['site'] = merged_hapFIRE_allele_frequency['index'].str.split('_').str[0]\n",
    "merged_hapFIRE_allele_frequency['gen'] = merged_hapFIRE_allele_frequency['index'].str.split('_').str[1]\n",
    "merged_hapFIRE_allele_frequency['plot'] = merged_hapFIRE_allele_frequency['index'].str.split('_').str[2]\n",
    "\n",
    "\n",
    "#mask = var_pos['maf05filter'].notna()"
   ]
  },
  {
   "cell_type": "code",
   "execution_count": null,
   "id": "657966c0-1b18-4a6a-bd20-a600f600887e",
   "metadata": {},
   "outputs": [],
   "source": []
  },
  {
   "cell_type": "code",
   "execution_count": 95,
   "id": "1d26ac47-d439-4eb9-85fc-fa67379af4a7",
   "metadata": {},
   "outputs": [],
   "source": [
    "site = '1'"
   ]
  },
  {
   "cell_type": "code",
   "execution_count": 96,
   "id": "d3cba440-46bd-4a97-86ed-dcad63880aca",
   "metadata": {},
   "outputs": [],
   "source": [
    "site_plot_samples = [i for i in merged_hapFIRE_allele_frequency['index'] if i.startswith(str(site) + '_')]"
   ]
  },
  {
   "cell_type": "code",
   "execution_count": null,
   "id": "960beb29-7396-4a8b-9e11-cf4a9892b0d5",
   "metadata": {},
   "outputs": [],
   "source": []
  },
  {
   "cell_type": "code",
   "execution_count": 97,
   "id": "23a21394-33f3-4cb5-982d-9482f274ad62",
   "metadata": {},
   "outputs": [],
   "source": [
    "merged_hapFIRE_allele_frequency = pd.read_csv('../key_files/merged_hapFIRE_allele_frequency.txt',nrows=500, sep = '\\t', usecols = site4_samples)\n",
    "\n",
    "#merged_hapFIRE_allele_frequency = merged_hapFIRE_allele_frequency[mask]\n",
    "\n",
    "merged_hapFIRE_allele_frequency = merged_hapFIRE_allele_frequency.reset_index(drop=True)\n",
    "\n",
    "\n",
    "\n",
    "## generate the allale counts\n",
    "num_flowers_map = flowers.set_index('sample_name')['total_flower_counts'].to_dict()\n",
    "\n",
    "allele_counts = {}\n",
    "for i in merged_hapFIRE_allele_frequency.columns:\n",
    "    num_flowers = num_flowers_map[i]\n",
    "    allele_counts[i] = merged_hapFIRE_allele_frequency[i] * num_flowers * 2\n",
    "\n",
    "allele_counts = pd.concat(allele_counts,axis=1)\n",
    "\n",
    "allele_counts = allele_counts.T\n",
    "\n",
    "allele_counts = allele_counts.reset_index()\n",
    "\n",
    "\n",
    "allele_counts['gen'] = allele_counts['index'].str.split('_').str[1].astype(int)\n",
    "allele_counts['plot'] = allele_counts['index'].str.split('_').str[2].astype(int)\n",
    "\n",
    "\n",
    "allele_counts = allele_counts.drop('index',axis=1)\n",
    "\n",
    "allele_counts = allele_counts.melt(id_vars=['gen', 'plot'])\n",
    "\n",
    "allele_counts.columns = ['gen', 'plot', 'snp', 'count']\n",
    "\n",
    "allele_counts = allele_counts.drop('plot',axis=1)"
   ]
  },
  {
   "cell_type": "code",
   "execution_count": null,
   "id": "e586b5f7-8136-4651-a9b5-42e44beaade1",
   "metadata": {},
   "outputs": [],
   "source": []
  },
  {
   "cell_type": "code",
   "execution_count": null,
   "id": "392d247e-37d9-489a-b4f0-13658de149fa",
   "metadata": {},
   "outputs": [],
   "source": []
  },
  {
   "cell_type": "code",
   "execution_count": null,
   "id": "db69110c-34b1-4287-af31-5ad7f02ec621",
   "metadata": {},
   "outputs": [],
   "source": []
  },
  {
   "cell_type": "code",
   "execution_count": 4,
   "id": "e31e545e-3087-41b2-a607-3e21b11ebd27",
   "metadata": {},
   "outputs": [],
   "source": [
    "merged_hapFIRE_allele_frequency = pd.read_csv('../key_files/merged_hapFIRE_allele_frequency.txt',nrows=1, sep = '\\t')\n",
    "\n",
    "merged_hapFIRE_allele_frequency = merged_hapFIRE_allele_frequency.T\n",
    "\n",
    "merged_hapFIRE_allele_frequency = merged_hapFIRE_allele_frequency.reset_index()\n",
    "\n",
    "merged_hapFIRE_allele_frequency['site'] = merged_hapFIRE_allele_frequency['index'].str.split('_').str[0]\n",
    "merged_hapFIRE_allele_frequency['gen'] = merged_hapFIRE_allele_frequency['index'].str.split('_').str[1]\n",
    "merged_hapFIRE_allele_frequency['plot'] = merged_hapFIRE_allele_frequency['index'].str.split('_').str[2]"
   ]
  },
  {
   "cell_type": "code",
   "execution_count": 5,
   "id": "5466dd97-cc1f-4592-b345-40f3b2c6e05b",
   "metadata": {},
   "outputs": [],
   "source": [
    "unique_sites = merged_hapFIRE_allele_frequency['site'].unique()"
   ]
  },
  {
   "cell_type": "code",
   "execution_count": 73,
   "id": "01efd4b0-0367-402f-8f38-8c60df443543",
   "metadata": {},
   "outputs": [
    {
     "data": {
      "text/plain": [
       "'/carnegie/nobackup/scratch/tbellagio/gea_grene-net/snp_origin'"
      ]
     },
     "execution_count": 73,
     "metadata": {},
     "output_type": "execute_result"
    }
   ],
   "source": [
    "pwd -P"
   ]
  },
  {
   "cell_type": "code",
   "execution_count": 32,
   "id": "29140e28-2555-48d0-b156-19b3e985a6de",
   "metadata": {},
   "outputs": [],
   "source": [
    "import random\n",
    "import subprocess"
   ]
  },
  {
   "cell_type": "code",
   "execution_count": 102,
   "id": "efe1050a-007e-4375-89ef-ca1e3e43561b",
   "metadata": {},
   "outputs": [],
   "source": [
    "# create sbatch files to submit on cedar server\n",
    "shfiles = []\n",
    "for site in sites_plots_w_at_least_2_years:\n",
    "    seed = random.randint(1,100000000)\n",
    "    file = f'changep_time{site}.sh'\n",
    "    cmd = f'python calc_delta_time_allplots.py {site}'\n",
    "    text = f'''#!/bin/bash\n",
    "#SBATCH --job-name=changep_time_{site}\n",
    "#SBATCH --time=24:00:00  # \n",
    "#SBATCH --ntasks=1\n",
    "#SBATCH --mem-per-cpu=30gb\n",
    "#SBATCH --output=changep_time_{site}_%j.out\n",
    "#SBATCH --error=changep_time_{site}_%j.err\n",
    "#SBATCH --mail-user=tbellagio@carnegiescience.edu\n",
    "#SBATCH --mail-type=FAIL\n",
    "\n",
    "source /home/tbellagio/miniforge3/etc/profile.d/conda.sh\n",
    "conda activate /home/tbellagio/miniforge3/envs/pipeline_snakemake\n",
    "cd /carnegie/nobackup/scratch/tbellagio/gea_grene-net/snp_origin\n",
    "{cmd}\n",
    "\n",
    "'''\n",
    "    with open(file, 'w') as o:\n",
    "        o.write(\"%s\" % text)\n",
    "    shfiles.append(file)"
   ]
  },
  {
   "cell_type": "code",
   "execution_count": 88,
   "id": "d851354b-b825-4310-b51d-1374505b7bfc",
   "metadata": {},
   "outputs": [
    {
     "name": "stdout",
     "output_type": "stream",
     "text": [
      "Submitted batch job 31566\n"
     ]
    },
    {
     "data": {
      "text/plain": [
       "CompletedProcess(args=['sbatch', 'changep_time1.sh'], returncode=0)"
      ]
     },
     "execution_count": 88,
     "metadata": {},
     "output_type": "execute_result"
    }
   ],
   "source": [
    "subprocess.run([\"sbatch\", shfiles[0]], check=True)"
   ]
  },
  {
   "cell_type": "code",
   "execution_count": 103,
   "id": "eecc3951-2f77-417e-8935-bbd15c8c7384",
   "metadata": {
    "scrolled": true
   },
   "outputs": [
    {
     "name": "stdout",
     "output_type": "stream",
     "text": [
      "Submitted batch job 31594\n",
      "Submitted batch job 31595\n",
      "Submitted batch job 31596\n",
      "Submitted batch job 31597\n",
      "Submitted batch job 31598\n",
      "Submitted batch job 31599\n",
      "Submitted batch job 31600\n",
      "Submitted batch job 31601\n",
      "Submitted batch job 31602\n",
      "Submitted batch job 31603\n",
      "Submitted batch job 31604\n",
      "Submitted batch job 31605\n",
      "Submitted batch job 31606\n",
      "Submitted batch job 31607\n",
      "Submitted batch job 31608\n",
      "Submitted batch job 31609\n",
      "Submitted batch job 31610\n",
      "Submitted batch job 31611\n",
      "Submitted batch job 31612\n",
      "Submitted batch job 31613\n",
      "Submitted batch job 31614\n",
      "Submitted batch job 31615\n",
      "Submitted batch job 31616\n",
      "Submitted batch job 31617\n",
      "Submitted batch job 31618\n",
      "Submitted batch job 31619\n"
     ]
    }
   ],
   "source": [
    "## now run the shfiles\n",
    "for shfile in shfiles:\n",
    "    # Submit each sbatch script to the SLURM scheduler\n",
    "    subprocess.run([\"sbatch\", shfile], check=True)"
   ]
  },
  {
   "cell_type": "code",
   "execution_count": null,
   "id": "a056d3de-224f-45bf-80af-bddbb7683e41",
   "metadata": {},
   "outputs": [],
   "source": []
  },
  {
   "cell_type": "code",
   "execution_count": null,
   "id": "1286e023-1f11-4a06-95b1-e9c1262324db",
   "metadata": {},
   "outputs": [],
   "source": []
  },
  {
   "cell_type": "code",
   "execution_count": null,
   "id": "02db35d9-335f-43f6-b0c4-48b334d27498",
   "metadata": {},
   "outputs": [],
   "source": []
  },
  {
   "cell_type": "code",
   "execution_count": null,
   "id": "ab693d19-53af-4b8a-bf1b-65d726f07055",
   "metadata": {},
   "outputs": [],
   "source": []
  },
  {
   "cell_type": "code",
   "execution_count": null,
   "id": "5c23b753-bbc3-4ad1-9471-ae52671c6780",
   "metadata": {},
   "outputs": [],
   "source": []
  },
  {
   "cell_type": "code",
   "execution_count": null,
   "id": "71b2a048-eef0-4d79-bc35-6e84db8050fb",
   "metadata": {},
   "outputs": [],
   "source": []
  }
 ],
 "metadata": {
  "kernelspec": {
   "display_name": "Python (pipeline_snakemake)",
   "language": "python",
   "name": "pipeline_snakemake"
  },
  "language_info": {
   "codemirror_mode": {
    "name": "ipython",
    "version": 3
   },
   "file_extension": ".py",
   "mimetype": "text/x-python",
   "name": "python",
   "nbconvert_exporter": "python",
   "pygments_lexer": "ipython3",
   "version": "3.9.16"
  }
 },
 "nbformat": 4,
 "nbformat_minor": 5
}
