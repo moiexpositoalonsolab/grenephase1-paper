{
 "cells": [
  {
   "cell_type": "code",
   "execution_count": 1,
   "id": "36fff194-962a-482e-b10a-9c6f8bebaad0",
   "metadata": {},
   "outputs": [],
   "source": [
    "import pandas as pd\n",
    "import allel\n",
    "import numpy as np\n",
    "import seaborn as sns"
   ]
  },
  {
   "cell_type": "code",
   "execution_count": 2,
   "id": "2446bfa8-b629-466a-9997-949bc09809cf",
   "metadata": {},
   "outputs": [],
   "source": [
    "snps_names = pd.read_csv('../key_files/var_pos_grenenet.csv')\n",
    "\n",
    "import pickle\n",
    "with open('../key_files/blocks_snpsid_dict.pkl', 'rb') as f:\n",
    "    dict_blocks = pickle.load(f)\n",
    "\n",
    "reverse_mapping = {item: key for key, values in dict_blocks.items() for item in values}\n",
    "\n",
    "snps_names = snps_names[snps_names['total_alleles05filter_firstgen'].notna()].reset_index(drop=True)"
   ]
  },
  {
   "cell_type": "code",
   "execution_count": 3,
   "id": "ec1a3e30-f855-4774-a7bf-f8dc68016898",
   "metadata": {},
   "outputs": [],
   "source": [
    "clim1001 = pd.read_csv('../key_files/1001g_regmap_grenet_ecotype_info_corrected_bioclim_2024May16.csv')\n",
    "\n",
    "clim1001['ecotypeid'] = clim1001['ecotypeid'].astype(str)\n"
   ]
  },
  {
   "cell_type": "code",
   "execution_count": 5,
   "id": "2c139278-da91-4c2d-9ed8-f90022acd1d1",
   "metadata": {},
   "outputs": [],
   "source": [
    "founder_ecotypes = pd.read_csv('../key_files/founder_ecotype_names.csv')['0'].values"
   ]
  },
  {
   "cell_type": "code",
   "execution_count": 6,
   "id": "933649dd-e680-4702-8ec8-3f58450948f7",
   "metadata": {},
   "outputs": [
    {
     "name": "stderr",
     "output_type": "stream",
     "text": [
      "\n",
      "KeyboardInterrupt\n",
      "\n"
     ]
    }
   ],
   "source": [
    "vcfgrene = allel.read_vcf('../gwas/greneNet_final_v1.1.recode.vcf.gz')"
   ]
  },
  {
   "cell_type": "code",
   "execution_count": null,
   "id": "b3dac12d-993d-4695-b230-3b6b6e1e6872",
   "metadata": {},
   "outputs": [],
   "source": [
    "#vcfgrene = allel.read_vcf('../gwas/1001g/1001g_grenet_climate.recode.vcf')\n",
    "geno = vcfgrene['calldata/GT']\n",
    "\n",
    "geno = geno.sum(axis=2)\n",
    "\n",
    "geno = pd.DataFrame(geno)\n",
    "\n",
    "geno.columns = vcfgrene['samples']\n",
    "\n",
    "grene_chrom_pos = pd.DataFrame({'chrom': vcfgrene['variants/CHROM'], 'pos': vcfgrene['variants/POS']})\n",
    "\n",
    "#vcfgrene = pd.concat([grene_chrom_pos, geno],axis=1)"
   ]
  },
  {
   "cell_type": "code",
   "execution_count": null,
   "id": "8d5943ad-9270-4c71-89d7-ba2a3b7e3156",
   "metadata": {},
   "outputs": [],
   "source": [
    "clim1001 = clim1001[clim1001['ecotypeid'].isin(geno.columns)]"
   ]
  },
  {
   "cell_type": "code",
   "execution_count": 120,
   "id": "831950bf-7b42-4a24-a551-6152b00b85c2",
   "metadata": {},
   "outputs": [],
   "source": [
    "clim1001 = clim1001[clim1001['ecotypeid'].isin(founder_ecotypes.astype(str))]"
   ]
  },
  {
   "cell_type": "code",
   "execution_count": 122,
   "id": "1a627cdf-f8a0-420d-89c8-f7d4b62601d9",
   "metadata": {},
   "outputs": [],
   "source": [
    "clim1001 = clim1001[['ecotypeid', 'bio1']]"
   ]
  },
  {
   "cell_type": "code",
   "execution_count": 123,
   "id": "32724afa-661e-462e-b640-8e1cbcef66aa",
   "metadata": {},
   "outputs": [
    {
     "name": "stderr",
     "output_type": "stream",
     "text": [
      "/tmp/ipykernel_649045/689236628.py:1: SettingWithCopyWarning: \n",
      "A value is trying to be set on a copy of a slice from a DataFrame.\n",
      "Try using .loc[row_indexer,col_indexer] = value instead\n",
      "\n",
      "See the caveats in the documentation: https://pandas.pydata.org/pandas-docs/stable/user_guide/indexing.html#returning-a-view-versus-a-copy\n",
      "  clim1001['ecotypeid'] = clim1001['ecotypeid'].astype(str)\n"
     ]
    }
   ],
   "source": [
    "clim1001['ecotypeid'] = clim1001['ecotypeid'].astype(str)"
   ]
  },
  {
   "cell_type": "code",
   "execution_count": 124,
   "id": "a7d8e339-3431-4bd5-914a-a5c6d64dfcc9",
   "metadata": {},
   "outputs": [],
   "source": [
    "clim1001_dict = clim1001.set_index('ecotypeid')['bio1'].to_dict()"
   ]
  },
  {
   "cell_type": "code",
   "execution_count": 126,
   "id": "5769f314-ad3a-4a74-9390-039d834ac704",
   "metadata": {},
   "outputs": [],
   "source": [
    "clim1001 = clim1001.set_index('ecotypeid')"
   ]
  },
  {
   "cell_type": "code",
   "execution_count": null,
   "id": "69af5c89-88da-4027-b269-6c40b9b3783d",
   "metadata": {},
   "outputs": [],
   "source": [
    "geno = geno.T"
   ]
  },
  {
   "cell_type": "code",
   "execution_count": null,
   "id": "be8684a4-c475-41c8-a638-6896d0270ebe",
   "metadata": {},
   "outputs": [],
   "source": [
    "geno = geno.sort_index()"
   ]
  },
  {
   "cell_type": "code",
   "execution_count": null,
   "id": "e3bf4bd6-d61b-4186-83d8-c1397695fb17",
   "metadata": {},
   "outputs": [],
   "source": [
    "order_ecotypes = geno.index"
   ]
  },
  {
   "cell_type": "code",
   "execution_count": 128,
   "id": "e4246328-de06-4dd2-a999-40b70b35c795",
   "metadata": {},
   "outputs": [],
   "source": [
    "clim1001 = clim1001.sort_index()"
   ]
  },
  {
   "cell_type": "code",
   "execution_count": null,
   "id": "4eee97d1-5473-455e-ae78-34ea9cdb5f82",
   "metadata": {},
   "outputs": [],
   "source": [
    "geno = geno.reset_index(drop=True)"
   ]
  },
  {
   "cell_type": "code",
   "execution_count": 129,
   "id": "38a46231-0d79-43c7-a7e9-96e26e5f976d",
   "metadata": {},
   "outputs": [],
   "source": [
    "clim1001 = clim1001.reset_index(drop=True)"
   ]
  },
  {
   "cell_type": "code",
   "execution_count": null,
   "id": "8310d4a2-d4e2-4e1c-8c32-4aa59a24917a",
   "metadata": {},
   "outputs": [],
   "source": [
    "clim1001 = np.array(clim1001)\n",
    "\n",
    "temperature_centered = clim1001 - np.mean(clim1001)\n",
    "\n",
    "snp_temperature_association = np.array(geno).T.dot(np.array(temperature_centered))\n",
    "\n",
    "snp_temperature_association /= len(clim1001)\n",
    "\n",
    "snp_temperature_association = pd.Series(snp_temperature_association.flatten())"
   ]
  },
  {
   "cell_type": "code",
   "execution_count": 79,
   "id": "9ac6e687-e688-4e01-b0ee-c47e81408a25",
   "metadata": {},
   "outputs": [
    {
     "data": {
      "text/plain": [
       "<Axes: ylabel='Count'>"
      ]
     },
     "execution_count": 79,
     "metadata": {},
     "output_type": "execute_result"
    },
    {
     "data": {
      "image/png": "[encoded data removed]",
      "text/plain": [
       "<Figure size 640x480 with 1 Axes>"
      ]
     },
     "metadata": {},
     "output_type": "display_data"
    }
   ],
   "source": [
    "sns.histplot(pd.Series(snp_temperature_association).sample(10000))"
   ]
  },
  {
   "cell_type": "code",
   "execution_count": 80,
   "id": "e1a07202-352b-46f3-ba2c-20c2b8a43562",
   "metadata": {},
   "outputs": [],
   "source": [
    "snp_origin_bio1 = pd.DataFrame({'chrom': vcfgrene['variants/CHROM'], 'pos': vcfgrene['variants/POS'], 'snp_origin_bio1': snp_temperature_association})"
   ]
  },
  {
   "cell_type": "code",
   "execution_count": 23,
   "id": "e5ad78ec-d7e1-49b7-b70a-72c624182cfc",
   "metadata": {},
   "outputs": [],
   "source": [
    "#snp_origin_bio1.to_csv('../key_files/snp_origin_bio1_1001gvcf.csv',index=None)"
   ]
  },
  {
   "cell_type": "code",
   "execution_count": 23,
   "id": "73f65bff-e794-4522-9416-855c865239ba",
   "metadata": {},
   "outputs": [],
   "source": [
    "#grene_chrom_pos.sort_values('snp_origin_bio1')"
   ]
  },
  {
   "cell_type": "code",
   "execution_count": 82,
   "id": "62bf9f40-7303-436d-8f16-eb62caff6264",
   "metadata": {},
   "outputs": [],
   "source": [
    "#snp_origin_bio1.to_csv('../key_files/snp_origin_bio1_grenenetvcf.csv',index=None)"
   ]
  },
  {
   "cell_type": "code",
   "execution_count": null,
   "id": "8ba762ce-65b0-4746-b60c-878312fa85f4",
   "metadata": {},
   "outputs": [],
   "source": []
  },
  {
   "cell_type": "code",
   "execution_count": null,
   "id": "f02ddeba-09a7-4d36-98ab-a0faa1d7a486",
   "metadata": {},
   "outputs": [],
   "source": [
    "## approxiamtion of block orgins "
   ]
  },
  {
   "cell_type": "code",
   "execution_count": 152,
   "id": "4aedaa55-8be5-4cfa-aab2-9055544c649d",
   "metadata": {},
   "outputs": [],
   "source": [
    "snp_origin_bio1['id'] = snp_origin_bio1['chrom'].astype(str) + '_' + snp_origin_bio1['pos'].astype(str)"
   ]
  },
  {
   "cell_type": "code",
   "execution_count": 153,
   "id": "fa03ab01-2d6c-4a01-b16d-c1fdfec7c1bf",
   "metadata": {},
   "outputs": [],
   "source": [
    "snp_origin_bio1['blocks'] = snp_origin_bio1['id'].map(reverse_mapping)"
   ]
  },
  {
   "cell_type": "code",
   "execution_count": 156,
   "id": "286c9520-5e0d-4758-bd0b-9e573bb34787",
   "metadata": {},
   "outputs": [],
   "source": [
    "block_origin_bio1 = snp_origin_bio1.groupby('blocks')['snp_origin_bio1'].mean().reset_index()"
   ]
  },
  {
   "cell_type": "code",
   "execution_count": 157,
   "id": "893ef151-915d-455f-8990-c8c7476e5dd6",
   "metadata": {},
   "outputs": [],
   "source": [
    "#block_origin_bio1.to_csv('../key_files/block_origin_bio1_grenenetvcf_ogscale.csv',index=None)"
   ]
  },
  {
   "cell_type": "code",
   "execution_count": null,
   "id": "52ee5dfc-9f35-4b69-b58a-13acb61476bd",
   "metadata": {},
   "outputs": [],
   "source": []
  },
  {
   "cell_type": "code",
   "execution_count": 24,
   "id": "e353eca7-8e82-47b6-9840-626617700422",
   "metadata": {},
   "outputs": [],
   "source": []
  },
  {
   "cell_type": "code",
   "execution_count": 7,
   "id": "fc7eefed-73e7-49bb-bee3-cd463b4a3173",
   "metadata": {},
   "outputs": [],
   "source": [
    "snp_origin_bio1 = pd.read_csv('../key_files/snp_origin_bio1_1001gvcf.csv')\n",
    "\n",
    "dict_snps = pd.read_csv('../key_files/var_pos_grenenet.csv')\n",
    "\n",
    "snp_origin_bio1 = pd.concat([dict_snps['id'], snp_origin_bio1],axis=1)"
   ]
  },
  {
   "cell_type": "code",
   "execution_count": null,
   "id": "93df7a52-a1bd-4659-b7b1-daaea500223f",
   "metadata": {},
   "outputs": [],
   "source": []
  },
  {
   "cell_type": "code",
   "execution_count": 8,
   "id": "d011cc1f-b31c-4d92-9a57-573aa24f14f5",
   "metadata": {},
   "outputs": [],
   "source": [
    "snp_origin_bio1['snp_origin_bio1'] = snp_origin_bio1['snp_origin_bio1'] + 9.584559885454384"
   ]
  },
  {
   "cell_type": "code",
   "execution_count": 13,
   "id": "4b8ab9e8-831e-4410-be39-40eaf753ca46",
   "metadata": {},
   "outputs": [],
   "source": [
    "binomial_reg = pd.read_csv('../binomial_regression_lastgen/binomial_reg_lastgen_wmaf_bio1.csv')"
   ]
  },
  {
   "cell_type": "code",
   "execution_count": 14,
   "id": "55b22ddf-9fa7-4feb-8615-5f6443c2a5e9",
   "metadata": {},
   "outputs": [],
   "source": [
    "#binomial_reg = pd.read_csv('../binomial_regression_lastgen/binomial_reg_results_last_gen.csv')\n",
    "\n",
    "binomial_reg_id = dict_snps[dict_snps['total_alleles05filter_lastgen'].notna()]['id'].reset_index(drop=True)\n",
    "\n",
    "binomial_reg = pd.concat([binomial_reg, binomial_reg_id],axis=1)\n",
    "\n",
    "snp_origin_beta_binomial_reg = snp_origin_bio1.merge(binomial_reg)"
   ]
  },
  {
   "cell_type": "code",
   "execution_count": 11,
   "id": "b2b30003-1d67-41a2-a12d-d61618f5181d",
   "metadata": {},
   "outputs": [
    {
     "data": {
      "text/plain": [
       "<Axes: xlabel='slope', ylabel='Count'>"
      ]
     },
     "execution_count": 11,
     "metadata": {},
     "output_type": "execute_result"
    },
    {
     "data": {
      "image/png": "[encoded data removed]",
      "text/plain": [
       "<Figure size 640x480 with 1 Axes>"
      ]
     },
     "metadata": {},
     "output_type": "display_data"
    }
   ],
   "source": [
    "sns.histplot(snp_origin_beta_binomial_reg['slope'])"
   ]
  },
  {
   "cell_type": "code",
   "execution_count": null,
   "id": "e222af88-f285-478f-9a37-cbb32bbb711b",
   "metadata": {},
   "outputs": [],
   "source": []
  },
  {
   "cell_type": "code",
   "execution_count": 23,
   "id": "c828f6e1-3452-4d6c-ad79-dce2aab33f17",
   "metadata": {},
   "outputs": [],
   "source": [
    "#### calcualte teh correlation on ld pruned allele\n",
    "\n",
    "vcfgrene = allel.read_vcf('../key_files/greneNet_final_v1.1_LDpruned.recode.vcf')"
   ]
  },
  {
   "cell_type": "code",
   "execution_count": 28,
   "id": "c52112e7-461c-40f8-bbf6-cf5dbd1d8169",
   "metadata": {},
   "outputs": [],
   "source": [
    "variants_ld_prunned = vcfgrene['variants/ID']"
   ]
  },
  {
   "cell_type": "code",
   "execution_count": 32,
   "id": "f71ec45b-e43c-4d80-81de-2545663e790b",
   "metadata": {},
   "outputs": [],
   "source": [
    "snp_origin_beta_binomial_reg_ldp = snp_origin_beta_binomial_reg[snp_origin_beta_binomial_reg['id'].isin(variants_ld_prunned)]"
   ]
  },
  {
   "cell_type": "code",
   "execution_count": 33,
   "id": "760b3c65-d28f-46fa-9526-25faf1375ef9",
   "metadata": {},
   "outputs": [],
   "source": [
    "from scipy.stats import pearsonr\n",
    "correlation, p_value = pearsonr(snp_origin_beta_binomial_reg_ldp['snp_origin_bio1'], snp_origin_beta_binomial_reg_ldp['slope'])"
   ]
  },
  {
   "cell_type": "code",
   "execution_count": null,
   "id": "a99ff3c9-1ba0-48b2-9f27-2a22edfc339f",
   "metadata": {},
   "outputs": [],
   "source": [
    "import matplotlib.pyplot as plt"
   ]
  },
  {
   "cell_type": "code",
   "execution_count": 138,
   "id": "0553e334-0307-4654-8474-7732af94abdb",
   "metadata": {},
   "outputs": [
    {
     "data": {
      "text/plain": [
       "4.768103296189809e-08"
      ]
     },
     "execution_count": 138,
     "metadata": {},
     "output_type": "execute_result"
    }
   ],
   "source": [
    "0.05/len(snp_origin_beta_binomial_reg)"
   ]
  },
  {
   "cell_type": "code",
   "execution_count": 139,
   "id": "a385d7d2-fcfd-46f5-a265-ceb00f0a6397",
   "metadata": {},
   "outputs": [],
   "source": [
    "sign = snp_origin_beta_binomial_reg[snp_origin_beta_binomial_reg['pvalue'] < 4.768103296189809e-08]"
   ]
  },
  {
   "cell_type": "code",
   "execution_count": 140,
   "id": "24df43d2-bbf1-4214-84a3-4aa6757d662e",
   "metadata": {},
   "outputs": [
    {
     "name": "stderr",
     "output_type": "stream",
     "text": [
      "/home/tbellagio/miniforge3/envs/pipeline_snakemake/lib/python3.9/site-packages/pandas/core/arraylike.py:396: RuntimeWarning: divide by zero encountered in log\n",
      "  result = getattr(ufunc, method)(*inputs, **kwargs)\n",
      "/tmp/ipykernel_649045/3637229368.py:1: SettingWithCopyWarning: \n",
      "A value is trying to be set on a copy of a slice from a DataFrame.\n",
      "Try using .loc[row_indexer,col_indexer] = value instead\n",
      "\n",
      "See the caveats in the documentation: https://pandas.pydata.org/pandas-docs/stable/user_guide/indexing.html#returning-a-view-versus-a-copy\n",
      "  sign['log_pvalue'] = np.log(sign['pvalue'])\n"
     ]
    }
   ],
   "source": [
    "sign['log_pvalue'] = np.log(sign['pvalue'])"
   ]
  },
  {
   "cell_type": "code",
   "execution_count": null,
   "id": "d8adac91-9086-49b2-9f36-45cd6521b6e3",
   "metadata": {},
   "outputs": [],
   "source": []
  },
  {
   "cell_type": "code",
   "execution_count": null,
   "id": "a65c36d7-d554-4727-9d0a-008030081ec2",
   "metadata": {},
   "outputs": [],
   "source": []
  },
  {
   "cell_type": "code",
   "execution_count": null,
   "id": "5966e6b5-7a9c-42ff-aa6b-480aafe0b56d",
   "metadata": {},
   "outputs": [],
   "source": [
    "import numpy as np\n",
    "import matplotlib.pyplot as plt\n",
    "import seaborn as sns\n",
    "from scipy import stats\n",
    "\n",
    "import statsmodels.api as sm"
   ]
  },
  {
   "cell_type": "code",
   "execution_count": 143,
   "id": "a756ed15-9d7f-4634-9268-64d1c6e0f56c",
   "metadata": {},
   "outputs": [],
   "source": [
    "import matplotlib\n",
    "matplotlib.rcParams['pdf.fonttype'] = 42 "
   ]
  },
  {
   "cell_type": "code",
   "execution_count": 144,
   "id": "dc92d117-0ba5-4ee3-87d1-2cfa36055b68",
   "metadata": {},
   "outputs": [],
   "source": [
    "import matplotlib.colors as mcolors\n",
    "font_size = 12"
   ]
  },
  {
   "cell_type": "code",
   "execution_count": null,
   "id": "6e52ecc3-f8a6-4b08-a9b3-5fcb4919886b",
   "metadata": {},
   "outputs": [],
   "source": [
    "## launc wza on the binomial reg across sites "
   ]
  },
  {
   "cell_type": "code",
   "execution_count": 37,
   "id": "3f3e8dfa-6b57-4a9a-8be6-5fbdcb6dd000",
   "metadata": {},
   "outputs": [],
   "source": [
    "wza_binomial_regression_bio1 = pd.read_csv('../wza_last_gen/wza_binomial_regression_bio1_poly7.csv')"
   ]
  },
  {
   "cell_type": "code",
   "execution_count": 38,
   "id": "23f79266-6603-4218-a91a-192adfb67915",
   "metadata": {},
   "outputs": [],
   "source": [
    "dict_snps = pd.read_csv('../key_files/var_pos_grenenet.csv')"
   ]
  },
  {
   "cell_type": "code",
   "execution_count": 39,
   "id": "5f6f1b5f-86b1-42f1-89e2-5d4458a06004",
   "metadata": {},
   "outputs": [],
   "source": [
    "block_origin_bio1 = pd.read_csv('../key_files/block_origin_bio1_grenenetvcf_ogscale.csv')"
   ]
  },
  {
   "cell_type": "code",
   "execution_count": null,
   "id": "9c605f1c-f3b9-493c-843e-471f858a6434",
   "metadata": {},
   "outputs": [],
   "source": []
  },
  {
   "cell_type": "code",
   "execution_count": null,
   "id": "26369c67-7534-45e3-977e-0ba5d10ed5f8",
   "metadata": {},
   "outputs": [],
   "source": []
  },
  {
   "cell_type": "code",
   "execution_count": 42,
   "id": "6fa51245-1dd9-4c22-b92b-c2898a2447f1",
   "metadata": {},
   "outputs": [],
   "source": [
    "# get the slope from the binomial reg \n",
    "binomial_reg = pd.read_csv('../binomial_regression_lastgen/binomial_reg_lastgen_wmaf_bio1.csv')\n",
    "\n",
    "binomial_reg_id = dict_snps[dict_snps['total_alleles05filter_lastgen'].notna()]['id'].reset_index(drop=True)\n",
    "\n",
    "binomial_reg = pd.concat([binomial_reg, binomial_reg_id],axis=1)\n",
    "\n",
    "binomial_reg['block'] = binomial_reg['id'].map(reverse_mapping)\n",
    "\n",
    "binomial_reg = binomial_reg.groupby('block')['slope'].mean().reset_index()\n"
   ]
  },
  {
   "cell_type": "code",
   "execution_count": 43,
   "id": "3480308a-aaea-4dfa-8e98-0cdbdf4dd564",
   "metadata": {},
   "outputs": [],
   "source": [
    "wza_binomial_regression_bio1 = wza_binomial_regression_bio1.merge(binomial_reg, left_on = 'gene', right_on = 'block')"
   ]
  },
  {
   "cell_type": "code",
   "execution_count": 44,
   "id": "c97ccfbf-2d94-42f1-9c18-ff0cd96d97cb",
   "metadata": {},
   "outputs": [],
   "source": [
    "wza_binomial_regression_bio1 = wza_binomial_regression_bio1.merge(block_origin_bio1, left_on = 'block', right_on = 'blocks')"
   ]
  },
  {
   "cell_type": "code",
   "execution_count": null,
   "id": "f3067961-2524-4e08-8ce9-859a8b860c63",
   "metadata": {},
   "outputs": [],
   "source": []
  },
  {
   "cell_type": "code",
   "execution_count": 45,
   "id": "e21581ef-f077-4cf8-894d-cb0df295e201",
   "metadata": {},
   "outputs": [],
   "source": [
    "sign_blocks_all = pd.read_csv('../signficant_intersection/sign_blocks_union_first_last_gen_BH_final.csv')"
   ]
  },
  {
   "cell_type": "code",
   "execution_count": null,
   "id": "866fbbbc-3110-4645-9abc-b90906cefb4e",
   "metadata": {},
   "outputs": [],
   "source": []
  },
  {
   "cell_type": "code",
   "execution_count": 46,
   "id": "21baee33-47ef-4afb-9b66-53bdf7a6be5f",
   "metadata": {},
   "outputs": [
    {
     "data": {
      "text/plain": [
       "array(['first_gen', 'first_gen,last_gen', 'last_gen'], dtype=object)"
      ]
     },
     "execution_count": 46,
     "metadata": {},
     "output_type": "execute_result"
    }
   ],
   "source": [
    "sign_blocks_all['gen'].unique()"
   ]
  },
  {
   "cell_type": "code",
   "execution_count": 47,
   "id": "49c28794-649b-477c-860f-494b7eef358d",
   "metadata": {},
   "outputs": [],
   "source": [
    "sign_blocks_all = sign_blocks_all[sign_blocks_all['gen'].isin(['first_gen,last_gen', 'last_gen'])]"
   ]
  },
  {
   "cell_type": "code",
   "execution_count": 48,
   "id": "9362452e-e462-4617-86e1-a64019d70d9b",
   "metadata": {},
   "outputs": [],
   "source": [
    "wza_binomial_regression_bio1 = wza_binomial_regression_bio1.merge(sign_blocks_all, left_on = 'gene', right_on = 'block',how ='outer')"
   ]
  },
  {
   "cell_type": "code",
   "execution_count": null,
   "id": "09be7b0f-d3cb-470c-88b8-344c1a422773",
   "metadata": {},
   "outputs": [],
   "source": []
  },
  {
   "cell_type": "code",
   "execution_count": 15,
   "id": "caa64bf7-81d6-4f21-b7e4-d16709cfbcc4",
   "metadata": {},
   "outputs": [],
   "source": [
    "import pandas as pd\n",
    "import numpy as np\n",
    "\n",
    "# Define the colors\n",
    "lfmm_color = \"#DBD56E\"  # LFMM color\n",
    "binom_reg_color = \"#A2B062\"  # Binomial Regression color\n",
    "kendall_color = \"#688B55\"  # Kendall color\n",
    "# Combination colors\n",
    "lfmm_binom_color = \"#DDA77E\"  # LFMM + Binomial Regression\n",
    "lfmm_kendall_color = \"#CC7B3E\"  # LFMM + Kendall\n",
    "binom_kendall_color = \"#915527\"  # Binomial Regression + Kendall\n",
    "all_combined_color = \"#E76D83\"  # Dark grey for all three models combined\n",
    "default_grey = \"grey\"  # Default grey if no models present\n",
    "\n",
    "# Function to assign colors based on the presence of specific models\n",
    "def assign_color(model_value):\n",
    "    if isinstance(model_value, str):  # Check if the value is a string\n",
    "        colors = []\n",
    "        # Check for each model and assign base colors\n",
    "        if 'lfmm_l' in model_value:\n",
    "            colors.append('lfmm')\n",
    "        if 'binom_reg_l' in model_value:\n",
    "            colors.append('binom_reg')\n",
    "        if 'kendall_l' in model_value:\n",
    "            colors.append('kendall')\n",
    "\n",
    "        # Combine the colors based on the combinations you defined\n",
    "        if len(colors) == 1:\n",
    "            if 'lfmm' in colors:\n",
    "                return lfmm_color\n",
    "            elif 'binom_reg' in colors:\n",
    "                return binom_reg_color\n",
    "            elif 'kendall' in colors:\n",
    "                return kendall_color\n",
    "        elif len(colors) == 2:\n",
    "            if 'lfmm' in colors and 'binom_reg' in colors:\n",
    "                return lfmm_binom_color  # LFMM + Binomial Regression\n",
    "            elif 'lfmm' in colors and 'kendall' in colors:\n",
    "                return lfmm_kendall_color  # LFMM + Kendall\n",
    "            elif 'binom_reg' in colors and 'kendall' in colors:\n",
    "                return binom_kendall_color  # Binomial Regression + Kendall\n",
    "        elif len(colors) == 3:\n",
    "            return all_combined_color  # Dark grey for all three models present\n",
    "    return default_grey  # Default grey if none of the models are present or NaN\n",
    "\n",
    "# Apply the function to the 'model' column and create a new 'color' column\n",
    "wza_binomial_regression_bio1['color'] = wza_binomial_regression_bio1['model'].apply(assign_color)\n",
    "\n",
    "# Display the updated DataFrame"
   ]
  },
  {
   "cell_type": "code",
   "execution_count": 16,
   "id": "d6981103-a9e0-4323-879e-1fee2253a874",
   "metadata": {},
   "outputs": [],
   "source": [
    "# Split the data into two groups: significant and non-significant\n",
    "significant = wza_binomial_regression_bio1[wza_binomial_regression_bio1['color'] != 'grey']\n",
    "non_significant = wza_binomial_regression_bio1[wza_binomial_regression_bio1['color'] == 'grey']"
   ]
  },
  {
   "cell_type": "code",
   "execution_count": 17,
   "id": "87b4c265-dba4-42c4-bcce-38f93def270d",
   "metadata": {},
   "outputs": [],
   "source": [
    "paleta = list(significant['color'].unique())"
   ]
  },
  {
   "cell_type": "code",
   "execution_count": null,
   "id": "a1e65308-9c24-469a-86f8-785326d68955",
   "metadata": {},
   "outputs": [],
   "source": []
  },
  {
   "cell_type": "code",
   "execution_count": 22,
   "id": "ec8b36f0-10d9-4a43-a332-9efa222a2e3b",
   "metadata": {},
   "outputs": [],
   "source": [
    "import matplotlib\n",
    "matplotlib.rcParams['pdf.fonttype'] = 42 "
   ]
  },
  {
   "cell_type": "code",
   "execution_count": null,
   "id": "ecbc36a3-6277-47b2-9c93-96e4f0990263",
   "metadata": {},
   "outputs": [],
   "source": []
  },
  {
   "cell_type": "code",
   "execution_count": null,
   "id": "22ead8b6-2738-4648-8f0f-89f297a0af40",
   "metadata": {},
   "outputs": [],
   "source": []
  },
  {
   "cell_type": "code",
   "execution_count": null,
   "id": "c1965755-ed28-4498-9a54-634b55b4b71a",
   "metadata": {},
   "outputs": [],
   "source": []
  },
  {
   "cell_type": "code",
   "execution_count": 23,
   "id": "32a07f96-c3fe-4d36-8f9b-1983374613c6",
   "metadata": {},
   "outputs": [],
   "source": [
    "sign = pd.read_csv('../signficant_intersection/genes_info_BH_tair10.csv')\n",
    "\n",
    "sign = sign[sign['gen']!='first_gen']\n",
    "\n",
    "sign = sign.drop_duplicates('block_id')"
   ]
  },
  {
   "cell_type": "code",
   "execution_count": null,
   "id": "a7fc4f68-a3e9-4b7b-a88e-b9e89a14437c",
   "metadata": {},
   "outputs": [],
   "source": []
  },
  {
   "cell_type": "code",
   "execution_count": 24,
   "id": "e7b8a9ee-789e-482b-8066-d56312888612",
   "metadata": {},
   "outputs": [],
   "source": [
    "wza_binomial_regression_bio1['sign'] = False"
   ]
  },
  {
   "cell_type": "code",
   "execution_count": 25,
   "id": "588006aa-1e56-4604-94fa-f65632bc3901",
   "metadata": {},
   "outputs": [],
   "source": [
    "wza_binomial_regression_bio1.loc[wza_binomial_regression_bio1['gene'].isin(sign['block_id']), 'sign'] = True"
   ]
  },
  {
   "cell_type": "code",
   "execution_count": 27,
   "id": "71623cb2-c3a3-4792-9e20-ab69e5e18161",
   "metadata": {},
   "outputs": [],
   "source": [
    "wza_binomial_regression_bio1 = wza_binomial_regression_bio1.merge(sign, left_on='gene', right_on = 'block_id', how='outer')"
   ]
  },
  {
   "cell_type": "code",
   "execution_count": 52,
   "id": "48867fe1-6a24-413a-ab51-fd5664fe0863",
   "metadata": {},
   "outputs": [
    {
     "name": "stdout",
     "output_type": "stream",
     "text": [
      "0.5329184609370705 -5.0953642278849705 0.0 0.24158473914009915\n"
     ]
    }
   ],
   "source": [
    "import statsmodels.api as sm_api  # Use a clear alias\n",
    "\n",
    "# Fit a regression model using statsmodels\n",
    "X = wza_binomial_regression_bio1['snp_origin_bio1']\n",
    "y = wza_binomial_regression_bio1['slope']\n",
    "\n",
    "# Add constant (intercept) for statsmodels\n",
    "X_with_intercept = sm_api.add_constant(X)  # Use the clear alias\n",
    "\n",
    "# Fit the model\n",
    "model = sm_api.OLS(y, X_with_intercept).fit()  # Use the clear alias\n",
    "\n",
    "# Extract slope, p-value, and R-squared values\n",
    "slope = model.params[1]\n",
    "intercept = model.params[0]\n",
    "p_value = model.pvalues[1]\n",
    "r_squared = model.rsquared\n",
    "\n",
    "print(slope, intercept, p_value, r_squared)"
   ]
  },
  {
   "cell_type": "code",
   "execution_count": null,
   "id": "705f471f-9d6d-4a11-979d-37d964aee669",
   "metadata": {},
   "outputs": [],
   "source": [
    "from scipy.stats import pearsonr\n",
    "\n",
    "correlation, p_value = pearsonr(merged['slope_site5'], merged['slope_site25'])"
   ]
  },
  {
   "cell_type": "code",
   "execution_count": 29,
   "id": "5bb63ca7-0dfa-41df-ac78-225da4b5bf4c",
   "metadata": {},
   "outputs": [
    {
     "data": {
      "image/png": "[encoded data removed]",
      "text/plain": [
       "<Figure size 900x600 with 2 Axes>"
      ]
     },
     "metadata": {},
     "output_type": "display_data"
    }
   ],
   "source": [
    "import matplotlib.pyplot as plt\n",
    "import seaborn as sns\n",
    "import numpy as np\n",
    "from adjustText import adjust_text\n",
    "\n",
    "fig, ax = plt.subplots(figsize=(9, 6))\n",
    "\n",
    "# Create a hexbin plot with a color bar\n",
    "hb = ax.hexbin(\n",
    "    wza_binomial_regression_bio1['snp_origin_bio1'],\n",
    "    wza_binomial_regression_bio1['slope'],\n",
    "    gridsize=50,  # Size of the hexagons\n",
    "    cmap='Greys_r',  # Color map for the hexbins\n",
    "    bins='log',  # Use logarithmic counts for coloring\n",
    "    mincnt=1  # Minimum count number to display a hexagon\n",
    ")\n",
    "\n",
    "# Create a color bar for the hexbin plot\n",
    "cb = fig.colorbar(hb, ax=ax)\n",
    "cb.set_label('log10(count)')\n",
    "\n",
    "# Filter the data where 'sign' is True\n",
    "significant_points = wza_binomial_regression_bio1[wza_binomial_regression_bio1['sign'] == True]\n",
    "\n",
    "# Overlay scatter plot for significant points\n",
    "ax.scatter(\n",
    "    significant_points['snp_origin_bio1'],\n",
    "    significant_points['slope'],\n",
    "    color='Green',  # Red color for significant points\n",
    "    #label='Significant',  # Label for legend\n",
    "    alpha=1,  # Some transparency\n",
    "    edgecolor='none',  # No edge color\n",
    ")\n",
    "\n",
    "# Prepare list to store text objects for adjustment\n",
    "texts = []\n",
    "for i, row in significant_points.iterrows():\n",
    "    texts.append(ax.text(\n",
    "        row['snp_origin_bio1'],\n",
    "        row['slope'],\n",
    "        row['gene_name'],\n",
    "        ha='center',\n",
    "        va='bottom',\n",
    "        bbox=dict(facecolor='white', edgecolor='none', alpha=0.8)  # Background box for text\n",
    "    ))\n",
    "\n",
    "# Use adjust_text to dynamically adjust the text positions\n",
    "\n",
    "adjust_text(texts, \n",
    "            expand_points=(4, 4),  \n",
    "            only_move={'text':'y+'},\n",
    "            arrowprops=dict(arrowstyle='->', color='gray', lw=1, alpha=0.8))\n",
    "\n",
    "dark_grey = '#4D4D4D'  # Define dark grey color\n",
    "plt.grid(True, color='lightgrey', alpha=0.7, zorder=0)\n",
    "\n",
    "# Apply to spines\n",
    "plt.gca().spines['left'].set_visible(False)\n",
    "plt.gca().spines['bottom'].set_visible(False)\n",
    "plt.gca().spines['top'].set_visible(False)\n",
    "plt.gca().spines['right'].set_visible(False)\n",
    "\n",
    "\n",
    "# Set labels and title\n",
    "ax.set_xlabel('snp_origin_bio1')\n",
    "ax.set_ylabel('slope')\n",
    "#ax.set_title('Density of Points with Hexbin Plot')\n",
    "\n",
    "# Add a legend to the plot\n",
    "#ax.legend(title='Point Significance')\n",
    "plt.savefig('blocks_across_space.pdf')\n",
    "plt.show()\n"
   ]
  },
  {
   "cell_type": "code",
   "execution_count": null,
   "id": "01c8f4ac-0c3a-46ad-bb26-c12488309af8",
   "metadata": {},
   "outputs": [],
   "source": []
  }
 ],
 "metadata": {
  "kernelspec": {
   "display_name": "Python (pipeline_snakemake)",
   "language": "python",
   "name": "pipeline_snakemake"
  },
  "language_info": {
   "codemirror_mode": {
    "name": "ipython",
    "version": 3
   },
   "file_extension": ".py",
   "mimetype": "text/x-python",
   "name": "python",
   "nbconvert_exporter": "python",
   "pygments_lexer": "ipython3",
   "version": "3.9.16"
  }
 },
 "nbformat": 4,
 "nbformat_minor": 5
}
