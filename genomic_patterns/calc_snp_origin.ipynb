{
 "cells": [
  {
   "cell_type": "code",
   "execution_count": 1,
   "id": "36fff194-962a-482e-b10a-9c6f8bebaad0",
   "metadata": {},
   "outputs": [
    {
     "ename": "SyntaxError",
     "evalue": "invalid syntax (470593452.py, line 9)",
     "output_type": "error",
     "traceback": [
      "\u001b[0;36m  Cell \u001b[0;32mIn[1], line 9\u001b[0;36m\u001b[0m\n\u001b[0;31m    jupyter nbconvert --to script /Users/tatiana/Documents_new/bsehpc_mount_gea/gea_grene-net/gea_grene-net/snp_origin/enrichment_test_ant_pleiotropy.ipynbb\u001b[0m\n\u001b[0m            ^\u001b[0m\n\u001b[0;31mSyntaxError\u001b[0m\u001b[0;31m:\u001b[0m invalid syntax\n"
     ]
    }
   ],
   "source": [
    "import pandas as pd\n",
    "import allel\n",
    "import numpy as np\n",
    "import seaborn as sns"
   ]
  },
  {
   "cell_type": "code",
   "execution_count": 2,
   "id": "2446bfa8-b629-466a-9997-949bc09809cf",
   "metadata": {},
   "outputs": [],
   "source": [
    "snps_names = pd.read_csv('../key_files/var_pos_grenenet.csv')\n",
    "\n",
    "import pickle\n",
    "with open('../key_files/blocks_snpsid_dict.pkl', 'rb') as f:\n",
    "    dict_blocks = pickle.load(f)\n",
    "\n",
    "reverse_mapping = {item: key for key, values in dict_blocks.items() for item in values}\n",
    "\n",
    "snps_names = snps_names[snps_names['total_alleles05filter_firstgen'].notna()].reset_index(drop=True)"
   ]
  },
  {
   "cell_type": "code",
   "execution_count": 3,
   "id": "ec1a3e30-f855-4774-a7bf-f8dc68016898",
   "metadata": {},
   "outputs": [],
   "source": [
    "clim1001 = pd.read_csv('../key_files/1001g_regmap_grenet_ecotype_info_corrected_bioclim_2024May16.csv')\n",
    "\n",
    "clim1001['ecotypeid'] = clim1001['ecotypeid'].astype(str)\n"
   ]
  },
  {
   "cell_type": "code",
   "execution_count": 4,
   "id": "4d68643f-3806-4506-9f77-52c0a1eb4483",
   "metadata": {},
   "outputs": [],
   "source": [
    "founder_ecotypes = pd.read_csv('../key_files/founder_ecotype_names.csv')['0']"
   ]
  },
  {
   "cell_type": "code",
   "execution_count": 5,
   "id": "3c10ec77-bbc5-4a42-8f73-8200b40888ea",
   "metadata": {},
   "outputs": [],
   "source": [
    "founder_ecotypes = founder_ecotypes.astype(str)"
   ]
  },
  {
   "cell_type": "code",
   "execution_count": 6,
   "id": "4c01674b-bd4b-4e9f-928b-38cb3282a5e6",
   "metadata": {},
   "outputs": [
    {
     "data": {
      "text/plain": [
       "9.584559885454384"
      ]
     },
     "execution_count": 6,
     "metadata": {},
     "output_type": "execute_result"
    }
   ],
   "source": [
    "np.mean(clim1001[clim1001['ecotypeid'].isin(founder_ecotypes)]['bio1'])"
   ]
  },
  {
   "cell_type": "code",
   "execution_count": 7,
   "id": "23c0a08a-51dd-4931-8727-19a6d39101d1",
   "metadata": {},
   "outputs": [
    {
     "data": {
      "text/plain": [
       "9.54166698455811"
      ]
     },
     "execution_count": 7,
     "metadata": {},
     "output_type": "execute_result"
    }
   ],
   "source": [
    "np.median(clim1001[clim1001['ecotypeid'].isin(founder_ecotypes)]['bio1'])"
   ]
  },
  {
   "cell_type": "code",
   "execution_count": 8,
   "id": "933649dd-e680-4702-8ec8-3f58450948f7",
   "metadata": {},
   "outputs": [],
   "source": [
    "#vcfgrene = allel.read_vcf('../gwas/greneNet_final_v1.1.recode.vcf.gz')\n",
    "#vcfgrene = allel.read_vcf('../gwas/1001g/1001g_grenet_climate.recode.vcf')\n",
    "\n",
    "# just a sample\n",
    "vcfgrene = allel.read_vcf('../key_files/greneNet_final_v1.1_LDpruned.recode.vcf')\n",
    "\n",
    "geno = vcfgrene['calldata/GT']\n",
    "\n",
    "geno = geno.sum(axis=2)\n",
    "\n",
    "geno = pd.DataFrame(geno)\n",
    "\n",
    "geno.columns = vcfgrene['samples']\n",
    "\n",
    "grene_chrom_pos = pd.DataFrame({'chrom': vcfgrene['variants/CHROM'], 'pos': vcfgrene['variants/POS']})\n",
    "\n",
    "#vcfgrene = pd.concat([grene_chrom_pos, geno],axis=1)"
   ]
  },
  {
   "cell_type": "code",
   "execution_count": 9,
   "id": "8d5943ad-9270-4c71-89d7-ba2a3b7e3156",
   "metadata": {},
   "outputs": [],
   "source": [
    "clim1001 = clim1001[clim1001['ecotypeid'].isin(geno.columns)]"
   ]
  },
  {
   "cell_type": "code",
   "execution_count": 13,
   "id": "1a627cdf-f8a0-420d-89c8-f7d4b62601d9",
   "metadata": {},
   "outputs": [],
   "source": [
    "clim1001 = clim1001[['ecotypeid', 'bio1']]"
   ]
  },
  {
   "cell_type": "code",
   "execution_count": 14,
   "id": "32724afa-661e-462e-b640-8e1cbcef66aa",
   "metadata": {},
   "outputs": [
    {
     "name": "stderr",
     "output_type": "stream",
     "text": [
      "/tmp/ipykernel_127756/689236628.py:1: SettingWithCopyWarning: \n",
      "A value is trying to be set on a copy of a slice from a DataFrame.\n",
      "Try using .loc[row_indexer,col_indexer] = value instead\n",
      "\n",
      "See the caveats in the documentation: https://pandas.pydata.org/pandas-docs/stable/user_guide/indexing.html#returning-a-view-versus-a-copy\n",
      "  clim1001['ecotypeid'] = clim1001['ecotypeid'].astype(str)\n"
     ]
    }
   ],
   "source": [
    "clim1001['ecotypeid'] = clim1001['ecotypeid'].astype(str)"
   ]
  },
  {
   "cell_type": "code",
   "execution_count": 15,
   "id": "a7d8e339-3431-4bd5-914a-a5c6d64dfcc9",
   "metadata": {},
   "outputs": [],
   "source": [
    "clim1001_dict = clim1001.set_index('ecotypeid')['bio1'].to_dict()"
   ]
  },
  {
   "cell_type": "code",
   "execution_count": 16,
   "id": "be71c213-65d0-4e29-9852-5aff528a3bbd",
   "metadata": {},
   "outputs": [
    {
     "data": {
      "text/plain": [
       "231"
      ]
     },
     "execution_count": 16,
     "metadata": {},
     "output_type": "execute_result"
    }
   ],
   "source": [
    "len(clim1001_dict)"
   ]
  },
  {
   "cell_type": "code",
   "execution_count": 17,
   "id": "532ed783-67eb-4daa-9a0c-3914bfd959a7",
   "metadata": {},
   "outputs": [
    {
     "data": {
      "text/plain": [
       "Index(['10002', '10006', '10011', '10013', '10014', '159', '265', '5151',\n",
       "       '5165', '5768',\n",
       "       ...\n",
       "       '9965', '9966', '9978', '9985', '100001', '100002', '6939', '9940',\n",
       "       '9977', '9992'],\n",
       "      dtype='object', length=231)"
      ]
     },
     "execution_count": 17,
     "metadata": {},
     "output_type": "execute_result"
    }
   ],
   "source": [
    "geno.columns"
   ]
  },
  {
   "cell_type": "code",
   "execution_count": 18,
   "id": "5769f314-ad3a-4a74-9390-039d834ac704",
   "metadata": {},
   "outputs": [],
   "source": [
    "clim1001 = clim1001.set_index('ecotypeid')"
   ]
  },
  {
   "cell_type": "code",
   "execution_count": 21,
   "id": "69af5c89-88da-4027-b269-6c40b9b3783d",
   "metadata": {},
   "outputs": [],
   "source": [
    "geno = geno.T"
   ]
  },
  {
   "cell_type": "code",
   "execution_count": 22,
   "id": "7cb2e632-806e-4d38-90b3-7e6ad4b05e2c",
   "metadata": {},
   "outputs": [
    {
     "data": {
      "text/html": [
       "<div>\n",
       "<style scoped>\n",
       "    .dataframe tbody tr th:only-of-type {\n",
       "        vertical-align: middle;\n",
       "    }\n",
       "\n",
       "    .dataframe tbody tr th {\n",
       "        vertical-align: top;\n",
       "    }\n",
       "\n",
       "    .dataframe thead th {\n",
       "        text-align: right;\n",
       "    }\n",
       "</style>\n",
       "<table border=\"1\" class=\"dataframe\">\n",
       "  <thead>\n",
       "    <tr style=\"text-align: right;\">\n",
       "      <th></th>\n",
       "      <th>0</th>\n",
       "      <th>1</th>\n",
       "      <th>2</th>\n",
       "      <th>3</th>\n",
       "      <th>4</th>\n",
       "      <th>5</th>\n",
       "      <th>6</th>\n",
       "      <th>7</th>\n",
       "      <th>8</th>\n",
       "      <th>9</th>\n",
       "      <th>...</th>\n",
       "      <th>13975</th>\n",
       "      <th>13976</th>\n",
       "      <th>13977</th>\n",
       "      <th>13978</th>\n",
       "      <th>13979</th>\n",
       "      <th>13980</th>\n",
       "      <th>13981</th>\n",
       "      <th>13982</th>\n",
       "      <th>13983</th>\n",
       "      <th>13984</th>\n",
       "    </tr>\n",
       "  </thead>\n",
       "  <tbody>\n",
       "    <tr>\n",
       "      <th>10002</th>\n",
       "      <td>0</td>\n",
       "      <td>0</td>\n",
       "      <td>0</td>\n",
       "      <td>0</td>\n",
       "      <td>2</td>\n",
       "      <td>0</td>\n",
       "      <td>0</td>\n",
       "      <td>0</td>\n",
       "      <td>2</td>\n",
       "      <td>0</td>\n",
       "      <td>...</td>\n",
       "      <td>2</td>\n",
       "      <td>0</td>\n",
       "      <td>0</td>\n",
       "      <td>0</td>\n",
       "      <td>0</td>\n",
       "      <td>0</td>\n",
       "      <td>0</td>\n",
       "      <td>0</td>\n",
       "      <td>0</td>\n",
       "      <td>0</td>\n",
       "    </tr>\n",
       "    <tr>\n",
       "      <th>10006</th>\n",
       "      <td>0</td>\n",
       "      <td>2</td>\n",
       "      <td>0</td>\n",
       "      <td>0</td>\n",
       "      <td>0</td>\n",
       "      <td>2</td>\n",
       "      <td>2</td>\n",
       "      <td>2</td>\n",
       "      <td>0</td>\n",
       "      <td>0</td>\n",
       "      <td>...</td>\n",
       "      <td>2</td>\n",
       "      <td>0</td>\n",
       "      <td>0</td>\n",
       "      <td>0</td>\n",
       "      <td>0</td>\n",
       "      <td>2</td>\n",
       "      <td>0</td>\n",
       "      <td>0</td>\n",
       "      <td>0</td>\n",
       "      <td>0</td>\n",
       "    </tr>\n",
       "    <tr>\n",
       "      <th>10011</th>\n",
       "      <td>0</td>\n",
       "      <td>2</td>\n",
       "      <td>0</td>\n",
       "      <td>0</td>\n",
       "      <td>2</td>\n",
       "      <td>0</td>\n",
       "      <td>0</td>\n",
       "      <td>2</td>\n",
       "      <td>0</td>\n",
       "      <td>2</td>\n",
       "      <td>...</td>\n",
       "      <td>0</td>\n",
       "      <td>2</td>\n",
       "      <td>0</td>\n",
       "      <td>0</td>\n",
       "      <td>0</td>\n",
       "      <td>2</td>\n",
       "      <td>2</td>\n",
       "      <td>0</td>\n",
       "      <td>0</td>\n",
       "      <td>0</td>\n",
       "    </tr>\n",
       "    <tr>\n",
       "      <th>10013</th>\n",
       "      <td>0</td>\n",
       "      <td>0</td>\n",
       "      <td>0</td>\n",
       "      <td>2</td>\n",
       "      <td>2</td>\n",
       "      <td>0</td>\n",
       "      <td>0</td>\n",
       "      <td>0</td>\n",
       "      <td>2</td>\n",
       "      <td>0</td>\n",
       "      <td>...</td>\n",
       "      <td>2</td>\n",
       "      <td>0</td>\n",
       "      <td>0</td>\n",
       "      <td>0</td>\n",
       "      <td>2</td>\n",
       "      <td>0</td>\n",
       "      <td>0</td>\n",
       "      <td>2</td>\n",
       "      <td>0</td>\n",
       "      <td>0</td>\n",
       "    </tr>\n",
       "    <tr>\n",
       "      <th>10014</th>\n",
       "      <td>0</td>\n",
       "      <td>0</td>\n",
       "      <td>0</td>\n",
       "      <td>2</td>\n",
       "      <td>2</td>\n",
       "      <td>0</td>\n",
       "      <td>0</td>\n",
       "      <td>0</td>\n",
       "      <td>2</td>\n",
       "      <td>0</td>\n",
       "      <td>...</td>\n",
       "      <td>0</td>\n",
       "      <td>0</td>\n",
       "      <td>0</td>\n",
       "      <td>0</td>\n",
       "      <td>0</td>\n",
       "      <td>0</td>\n",
       "      <td>0</td>\n",
       "      <td>2</td>\n",
       "      <td>0</td>\n",
       "      <td>0</td>\n",
       "    </tr>\n",
       "    <tr>\n",
       "      <th>...</th>\n",
       "      <td>...</td>\n",
       "      <td>...</td>\n",
       "      <td>...</td>\n",
       "      <td>...</td>\n",
       "      <td>...</td>\n",
       "      <td>...</td>\n",
       "      <td>...</td>\n",
       "      <td>...</td>\n",
       "      <td>...</td>\n",
       "      <td>...</td>\n",
       "      <td>...</td>\n",
       "      <td>...</td>\n",
       "      <td>...</td>\n",
       "      <td>...</td>\n",
       "      <td>...</td>\n",
       "      <td>...</td>\n",
       "      <td>...</td>\n",
       "      <td>...</td>\n",
       "      <td>...</td>\n",
       "      <td>...</td>\n",
       "      <td>...</td>\n",
       "    </tr>\n",
       "    <tr>\n",
       "      <th>100002</th>\n",
       "      <td>0</td>\n",
       "      <td>0</td>\n",
       "      <td>2</td>\n",
       "      <td>2</td>\n",
       "      <td>2</td>\n",
       "      <td>0</td>\n",
       "      <td>2</td>\n",
       "      <td>0</td>\n",
       "      <td>0</td>\n",
       "      <td>0</td>\n",
       "      <td>...</td>\n",
       "      <td>2</td>\n",
       "      <td>0</td>\n",
       "      <td>2</td>\n",
       "      <td>0</td>\n",
       "      <td>2</td>\n",
       "      <td>0</td>\n",
       "      <td>0</td>\n",
       "      <td>0</td>\n",
       "      <td>0</td>\n",
       "      <td>0</td>\n",
       "    </tr>\n",
       "    <tr>\n",
       "      <th>6939</th>\n",
       "      <td>0</td>\n",
       "      <td>0</td>\n",
       "      <td>0</td>\n",
       "      <td>0</td>\n",
       "      <td>0</td>\n",
       "      <td>0</td>\n",
       "      <td>0</td>\n",
       "      <td>0</td>\n",
       "      <td>2</td>\n",
       "      <td>0</td>\n",
       "      <td>...</td>\n",
       "      <td>0</td>\n",
       "      <td>0</td>\n",
       "      <td>0</td>\n",
       "      <td>0</td>\n",
       "      <td>0</td>\n",
       "      <td>2</td>\n",
       "      <td>0</td>\n",
       "      <td>0</td>\n",
       "      <td>0</td>\n",
       "      <td>0</td>\n",
       "    </tr>\n",
       "    <tr>\n",
       "      <th>9940</th>\n",
       "      <td>0</td>\n",
       "      <td>0</td>\n",
       "      <td>0</td>\n",
       "      <td>2</td>\n",
       "      <td>2</td>\n",
       "      <td>0</td>\n",
       "      <td>0</td>\n",
       "      <td>0</td>\n",
       "      <td>2</td>\n",
       "      <td>0</td>\n",
       "      <td>...</td>\n",
       "      <td>0</td>\n",
       "      <td>0</td>\n",
       "      <td>0</td>\n",
       "      <td>0</td>\n",
       "      <td>0</td>\n",
       "      <td>0</td>\n",
       "      <td>0</td>\n",
       "      <td>0</td>\n",
       "      <td>0</td>\n",
       "      <td>0</td>\n",
       "    </tr>\n",
       "    <tr>\n",
       "      <th>9977</th>\n",
       "      <td>0</td>\n",
       "      <td>0</td>\n",
       "      <td>0</td>\n",
       "      <td>0</td>\n",
       "      <td>0</td>\n",
       "      <td>0</td>\n",
       "      <td>0</td>\n",
       "      <td>0</td>\n",
       "      <td>2</td>\n",
       "      <td>2</td>\n",
       "      <td>...</td>\n",
       "      <td>0</td>\n",
       "      <td>0</td>\n",
       "      <td>0</td>\n",
       "      <td>0</td>\n",
       "      <td>0</td>\n",
       "      <td>2</td>\n",
       "      <td>0</td>\n",
       "      <td>0</td>\n",
       "      <td>0</td>\n",
       "      <td>0</td>\n",
       "    </tr>\n",
       "    <tr>\n",
       "      <th>9992</th>\n",
       "      <td>0</td>\n",
       "      <td>2</td>\n",
       "      <td>0</td>\n",
       "      <td>0</td>\n",
       "      <td>2</td>\n",
       "      <td>0</td>\n",
       "      <td>0</td>\n",
       "      <td>0</td>\n",
       "      <td>2</td>\n",
       "      <td>0</td>\n",
       "      <td>...</td>\n",
       "      <td>2</td>\n",
       "      <td>0</td>\n",
       "      <td>0</td>\n",
       "      <td>0</td>\n",
       "      <td>0</td>\n",
       "      <td>0</td>\n",
       "      <td>0</td>\n",
       "      <td>0</td>\n",
       "      <td>0</td>\n",
       "      <td>0</td>\n",
       "    </tr>\n",
       "  </tbody>\n",
       "</table>\n",
       "<p>231 rows × 13985 columns</p>\n",
       "</div>"
      ],
      "text/plain": [
       "        0      1      2      3      4      5      6      7      8      9      \\\n",
       "10002       0      0      0      0      2      0      0      0      2      0   \n",
       "10006       0      2      0      0      0      2      2      2      0      0   \n",
       "10011       0      2      0      0      2      0      0      2      0      2   \n",
       "10013       0      0      0      2      2      0      0      0      2      0   \n",
       "10014       0      0      0      2      2      0      0      0      2      0   \n",
       "...       ...    ...    ...    ...    ...    ...    ...    ...    ...    ...   \n",
       "100002      0      0      2      2      2      0      2      0      0      0   \n",
       "6939        0      0      0      0      0      0      0      0      2      0   \n",
       "9940        0      0      0      2      2      0      0      0      2      0   \n",
       "9977        0      0      0      0      0      0      0      0      2      2   \n",
       "9992        0      2      0      0      2      0      0      0      2      0   \n",
       "\n",
       "        ...  13975  13976  13977  13978  13979  13980  13981  13982  13983  \\\n",
       "10002   ...      2      0      0      0      0      0      0      0      0   \n",
       "10006   ...      2      0      0      0      0      2      0      0      0   \n",
       "10011   ...      0      2      0      0      0      2      2      0      0   \n",
       "10013   ...      2      0      0      0      2      0      0      2      0   \n",
       "10014   ...      0      0      0      0      0      0      0      2      0   \n",
       "...     ...    ...    ...    ...    ...    ...    ...    ...    ...    ...   \n",
       "100002  ...      2      0      2      0      2      0      0      0      0   \n",
       "6939    ...      0      0      0      0      0      2      0      0      0   \n",
       "9940    ...      0      0      0      0      0      0      0      0      0   \n",
       "9977    ...      0      0      0      0      0      2      0      0      0   \n",
       "9992    ...      2      0      0      0      0      0      0      0      0   \n",
       "\n",
       "        13984  \n",
       "10002       0  \n",
       "10006       0  \n",
       "10011       0  \n",
       "10013       0  \n",
       "10014       0  \n",
       "...       ...  \n",
       "100002      0  \n",
       "6939        0  \n",
       "9940        0  \n",
       "9977        0  \n",
       "9992        0  \n",
       "\n",
       "[231 rows x 13985 columns]"
      ]
     },
     "execution_count": 22,
     "metadata": {},
     "output_type": "execute_result"
    }
   ],
   "source": [
    "geno"
   ]
  },
  {
   "cell_type": "code",
   "execution_count": null,
   "id": "6906190a-4bf2-4f05-b4c5-fb49bda10ef8",
   "metadata": {},
   "outputs": [],
   "source": []
  },
  {
   "cell_type": "code",
   "execution_count": 23,
   "id": "be8684a4-c475-41c8-a638-6896d0270ebe",
   "metadata": {},
   "outputs": [],
   "source": [
    "geno = geno.sort_index()"
   ]
  },
  {
   "cell_type": "code",
   "execution_count": 24,
   "id": "e3bf4bd6-d61b-4186-83d8-c1397695fb17",
   "metadata": {},
   "outputs": [],
   "source": [
    "order_ecotypes = geno.index"
   ]
  },
  {
   "cell_type": "code",
   "execution_count": 25,
   "id": "debd3a07-e785-402d-b428-5dfcee153347",
   "metadata": {},
   "outputs": [
    {
     "data": {
      "text/plain": [
       "Index(['100001', '100002', '10002', '10006', '10011', '10013', '10014', '159',\n",
       "       '265', '5151',\n",
       "       ...\n",
       "       '9940', '9941', '9944', '9947', '9965', '9966', '9977', '9978', '9985',\n",
       "       '9992'],\n",
       "      dtype='object', length=231)"
      ]
     },
     "execution_count": 25,
     "metadata": {},
     "output_type": "execute_result"
    }
   ],
   "source": [
    "order_ecotypes"
   ]
  },
  {
   "cell_type": "code",
   "execution_count": null,
   "id": "32899c5e-7039-40cc-9ea8-e855196efcd5",
   "metadata": {},
   "outputs": [],
   "source": []
  },
  {
   "cell_type": "code",
   "execution_count": 26,
   "id": "e4246328-de06-4dd2-a999-40b70b35c795",
   "metadata": {},
   "outputs": [],
   "source": [
    "clim1001 = clim1001.sort_index()"
   ]
  },
  {
   "cell_type": "code",
   "execution_count": 27,
   "id": "4eee97d1-5473-455e-ae78-34ea9cdb5f82",
   "metadata": {},
   "outputs": [],
   "source": [
    "geno = geno.reset_index(drop=True)"
   ]
  },
  {
   "cell_type": "code",
   "execution_count": 28,
   "id": "38a46231-0d79-43c7-a7e9-96e26e5f976d",
   "metadata": {},
   "outputs": [],
   "source": [
    "clim1001 = clim1001.reset_index(drop=True)"
   ]
  },
  {
   "cell_type": "code",
   "execution_count": 29,
   "id": "57210abc-fe22-4492-993c-29d0b3c4865f",
   "metadata": {},
   "outputs": [],
   "source": [
    "#geno = np.where(geno == 0, -1, geno)  # Replace 0 with -1\n",
    "#geno = np.where(geno == 2, 1, geno)  # Replace 2 with 1\n",
    "#geno = np.where(geno == 1, 0, geno)  # Replace 1"
   ]
  },
  {
   "cell_type": "code",
   "execution_count": null,
   "id": "fbb0246d-1a35-40e6-825a-c3e5fa5a8d70",
   "metadata": {},
   "outputs": [],
   "source": []
  },
  {
   "cell_type": "code",
   "execution_count": 31,
   "id": "faa0614c-da23-48fb-aab3-06b5104cd0a7",
   "metadata": {},
   "outputs": [],
   "source": [
    "clim1001 = np.array(clim1001)"
   ]
  },
  {
   "cell_type": "code",
   "execution_count": 32,
   "id": "764f32bf-d64a-4bb1-b778-fa333fac592b",
   "metadata": {},
   "outputs": [],
   "source": [
    "## mean center the tmeperature \n",
    "temperature_centered = clim1001 - np.mean(clim1001)"
   ]
  },
  {
   "cell_type": "code",
   "execution_count": 35,
   "id": "1fec4f96-f86e-4d90-b40a-2b2be394d446",
   "metadata": {},
   "outputs": [
    {
     "data": {
      "text/html": [
       "<div>\n",
       "<style scoped>\n",
       "    .dataframe tbody tr th:only-of-type {\n",
       "        vertical-align: middle;\n",
       "    }\n",
       "\n",
       "    .dataframe tbody tr th {\n",
       "        vertical-align: top;\n",
       "    }\n",
       "\n",
       "    .dataframe thead th {\n",
       "        text-align: right;\n",
       "    }\n",
       "</style>\n",
       "<table border=\"1\" class=\"dataframe\">\n",
       "  <thead>\n",
       "    <tr style=\"text-align: right;\">\n",
       "      <th></th>\n",
       "      <th>0</th>\n",
       "      <th>1</th>\n",
       "      <th>2</th>\n",
       "      <th>3</th>\n",
       "      <th>4</th>\n",
       "      <th>5</th>\n",
       "      <th>6</th>\n",
       "      <th>7</th>\n",
       "      <th>8</th>\n",
       "      <th>9</th>\n",
       "      <th>...</th>\n",
       "      <th>13975</th>\n",
       "      <th>13976</th>\n",
       "      <th>13977</th>\n",
       "      <th>13978</th>\n",
       "      <th>13979</th>\n",
       "      <th>13980</th>\n",
       "      <th>13981</th>\n",
       "      <th>13982</th>\n",
       "      <th>13983</th>\n",
       "      <th>13984</th>\n",
       "    </tr>\n",
       "  </thead>\n",
       "  <tbody>\n",
       "    <tr>\n",
       "      <th>0</th>\n",
       "      <td>0</td>\n",
       "      <td>0</td>\n",
       "      <td>2</td>\n",
       "      <td>2</td>\n",
       "      <td>2</td>\n",
       "      <td>2</td>\n",
       "      <td>2</td>\n",
       "      <td>0</td>\n",
       "      <td>0</td>\n",
       "      <td>0</td>\n",
       "      <td>...</td>\n",
       "      <td>2</td>\n",
       "      <td>0</td>\n",
       "      <td>2</td>\n",
       "      <td>0</td>\n",
       "      <td>2</td>\n",
       "      <td>0</td>\n",
       "      <td>0</td>\n",
       "      <td>0</td>\n",
       "      <td>0</td>\n",
       "      <td>0</td>\n",
       "    </tr>\n",
       "    <tr>\n",
       "      <th>1</th>\n",
       "      <td>0</td>\n",
       "      <td>0</td>\n",
       "      <td>2</td>\n",
       "      <td>2</td>\n",
       "      <td>2</td>\n",
       "      <td>0</td>\n",
       "      <td>2</td>\n",
       "      <td>0</td>\n",
       "      <td>0</td>\n",
       "      <td>0</td>\n",
       "      <td>...</td>\n",
       "      <td>2</td>\n",
       "      <td>0</td>\n",
       "      <td>2</td>\n",
       "      <td>0</td>\n",
       "      <td>2</td>\n",
       "      <td>0</td>\n",
       "      <td>0</td>\n",
       "      <td>0</td>\n",
       "      <td>0</td>\n",
       "      <td>0</td>\n",
       "    </tr>\n",
       "    <tr>\n",
       "      <th>2</th>\n",
       "      <td>0</td>\n",
       "      <td>0</td>\n",
       "      <td>0</td>\n",
       "      <td>0</td>\n",
       "      <td>2</td>\n",
       "      <td>0</td>\n",
       "      <td>0</td>\n",
       "      <td>0</td>\n",
       "      <td>2</td>\n",
       "      <td>0</td>\n",
       "      <td>...</td>\n",
       "      <td>2</td>\n",
       "      <td>0</td>\n",
       "      <td>0</td>\n",
       "      <td>0</td>\n",
       "      <td>0</td>\n",
       "      <td>0</td>\n",
       "      <td>0</td>\n",
       "      <td>0</td>\n",
       "      <td>0</td>\n",
       "      <td>0</td>\n",
       "    </tr>\n",
       "    <tr>\n",
       "      <th>3</th>\n",
       "      <td>0</td>\n",
       "      <td>2</td>\n",
       "      <td>0</td>\n",
       "      <td>0</td>\n",
       "      <td>0</td>\n",
       "      <td>2</td>\n",
       "      <td>2</td>\n",
       "      <td>2</td>\n",
       "      <td>0</td>\n",
       "      <td>0</td>\n",
       "      <td>...</td>\n",
       "      <td>2</td>\n",
       "      <td>0</td>\n",
       "      <td>0</td>\n",
       "      <td>0</td>\n",
       "      <td>0</td>\n",
       "      <td>2</td>\n",
       "      <td>0</td>\n",
       "      <td>0</td>\n",
       "      <td>0</td>\n",
       "      <td>0</td>\n",
       "    </tr>\n",
       "    <tr>\n",
       "      <th>4</th>\n",
       "      <td>0</td>\n",
       "      <td>2</td>\n",
       "      <td>0</td>\n",
       "      <td>0</td>\n",
       "      <td>2</td>\n",
       "      <td>0</td>\n",
       "      <td>0</td>\n",
       "      <td>2</td>\n",
       "      <td>0</td>\n",
       "      <td>2</td>\n",
       "      <td>...</td>\n",
       "      <td>0</td>\n",
       "      <td>2</td>\n",
       "      <td>0</td>\n",
       "      <td>0</td>\n",
       "      <td>0</td>\n",
       "      <td>2</td>\n",
       "      <td>2</td>\n",
       "      <td>0</td>\n",
       "      <td>0</td>\n",
       "      <td>0</td>\n",
       "    </tr>\n",
       "    <tr>\n",
       "      <th>...</th>\n",
       "      <td>...</td>\n",
       "      <td>...</td>\n",
       "      <td>...</td>\n",
       "      <td>...</td>\n",
       "      <td>...</td>\n",
       "      <td>...</td>\n",
       "      <td>...</td>\n",
       "      <td>...</td>\n",
       "      <td>...</td>\n",
       "      <td>...</td>\n",
       "      <td>...</td>\n",
       "      <td>...</td>\n",
       "      <td>...</td>\n",
       "      <td>...</td>\n",
       "      <td>...</td>\n",
       "      <td>...</td>\n",
       "      <td>...</td>\n",
       "      <td>...</td>\n",
       "      <td>...</td>\n",
       "      <td>...</td>\n",
       "      <td>...</td>\n",
       "    </tr>\n",
       "    <tr>\n",
       "      <th>226</th>\n",
       "      <td>0</td>\n",
       "      <td>0</td>\n",
       "      <td>0</td>\n",
       "      <td>0</td>\n",
       "      <td>0</td>\n",
       "      <td>0</td>\n",
       "      <td>0</td>\n",
       "      <td>0</td>\n",
       "      <td>2</td>\n",
       "      <td>0</td>\n",
       "      <td>...</td>\n",
       "      <td>0</td>\n",
       "      <td>0</td>\n",
       "      <td>0</td>\n",
       "      <td>0</td>\n",
       "      <td>0</td>\n",
       "      <td>0</td>\n",
       "      <td>0</td>\n",
       "      <td>2</td>\n",
       "      <td>0</td>\n",
       "      <td>0</td>\n",
       "    </tr>\n",
       "    <tr>\n",
       "      <th>227</th>\n",
       "      <td>0</td>\n",
       "      <td>0</td>\n",
       "      <td>0</td>\n",
       "      <td>0</td>\n",
       "      <td>0</td>\n",
       "      <td>0</td>\n",
       "      <td>0</td>\n",
       "      <td>0</td>\n",
       "      <td>2</td>\n",
       "      <td>2</td>\n",
       "      <td>...</td>\n",
       "      <td>0</td>\n",
       "      <td>0</td>\n",
       "      <td>0</td>\n",
       "      <td>0</td>\n",
       "      <td>0</td>\n",
       "      <td>2</td>\n",
       "      <td>0</td>\n",
       "      <td>0</td>\n",
       "      <td>0</td>\n",
       "      <td>0</td>\n",
       "    </tr>\n",
       "    <tr>\n",
       "      <th>228</th>\n",
       "      <td>0</td>\n",
       "      <td>0</td>\n",
       "      <td>0</td>\n",
       "      <td>0</td>\n",
       "      <td>0</td>\n",
       "      <td>0</td>\n",
       "      <td>0</td>\n",
       "      <td>0</td>\n",
       "      <td>2</td>\n",
       "      <td>2</td>\n",
       "      <td>...</td>\n",
       "      <td>0</td>\n",
       "      <td>0</td>\n",
       "      <td>0</td>\n",
       "      <td>0</td>\n",
       "      <td>0</td>\n",
       "      <td>2</td>\n",
       "      <td>0</td>\n",
       "      <td>0</td>\n",
       "      <td>0</td>\n",
       "      <td>0</td>\n",
       "    </tr>\n",
       "    <tr>\n",
       "      <th>229</th>\n",
       "      <td>0</td>\n",
       "      <td>2</td>\n",
       "      <td>0</td>\n",
       "      <td>0</td>\n",
       "      <td>0</td>\n",
       "      <td>0</td>\n",
       "      <td>0</td>\n",
       "      <td>2</td>\n",
       "      <td>0</td>\n",
       "      <td>2</td>\n",
       "      <td>...</td>\n",
       "      <td>0</td>\n",
       "      <td>2</td>\n",
       "      <td>0</td>\n",
       "      <td>0</td>\n",
       "      <td>0</td>\n",
       "      <td>0</td>\n",
       "      <td>0</td>\n",
       "      <td>0</td>\n",
       "      <td>0</td>\n",
       "      <td>0</td>\n",
       "    </tr>\n",
       "    <tr>\n",
       "      <th>230</th>\n",
       "      <td>0</td>\n",
       "      <td>2</td>\n",
       "      <td>0</td>\n",
       "      <td>0</td>\n",
       "      <td>2</td>\n",
       "      <td>0</td>\n",
       "      <td>0</td>\n",
       "      <td>0</td>\n",
       "      <td>2</td>\n",
       "      <td>0</td>\n",
       "      <td>...</td>\n",
       "      <td>2</td>\n",
       "      <td>0</td>\n",
       "      <td>0</td>\n",
       "      <td>0</td>\n",
       "      <td>0</td>\n",
       "      <td>0</td>\n",
       "      <td>0</td>\n",
       "      <td>0</td>\n",
       "      <td>0</td>\n",
       "      <td>0</td>\n",
       "    </tr>\n",
       "  </tbody>\n",
       "</table>\n",
       "<p>231 rows × 13985 columns</p>\n",
       "</div>"
      ],
      "text/plain": [
       "     0      1      2      3      4      5      6      7      8      9      \\\n",
       "0        0      0      2      2      2      2      2      0      0      0   \n",
       "1        0      0      2      2      2      0      2      0      0      0   \n",
       "2        0      0      0      0      2      0      0      0      2      0   \n",
       "3        0      2      0      0      0      2      2      2      0      0   \n",
       "4        0      2      0      0      2      0      0      2      0      2   \n",
       "..     ...    ...    ...    ...    ...    ...    ...    ...    ...    ...   \n",
       "226      0      0      0      0      0      0      0      0      2      0   \n",
       "227      0      0      0      0      0      0      0      0      2      2   \n",
       "228      0      0      0      0      0      0      0      0      2      2   \n",
       "229      0      2      0      0      0      0      0      2      0      2   \n",
       "230      0      2      0      0      2      0      0      0      2      0   \n",
       "\n",
       "     ...  13975  13976  13977  13978  13979  13980  13981  13982  13983  13984  \n",
       "0    ...      2      0      2      0      2      0      0      0      0      0  \n",
       "1    ...      2      0      2      0      2      0      0      0      0      0  \n",
       "2    ...      2      0      0      0      0      0      0      0      0      0  \n",
       "3    ...      2      0      0      0      0      2      0      0      0      0  \n",
       "4    ...      0      2      0      0      0      2      2      0      0      0  \n",
       "..   ...    ...    ...    ...    ...    ...    ...    ...    ...    ...    ...  \n",
       "226  ...      0      0      0      0      0      0      0      2      0      0  \n",
       "227  ...      0      0      0      0      0      2      0      0      0      0  \n",
       "228  ...      0      0      0      0      0      2      0      0      0      0  \n",
       "229  ...      0      2      0      0      0      0      0      0      0      0  \n",
       "230  ...      2      0      0      0      0      0      0      0      0      0  \n",
       "\n",
       "[231 rows x 13985 columns]"
      ]
     },
     "execution_count": 35,
     "metadata": {},
     "output_type": "execute_result"
    }
   ],
   "source": [
    "geno"
   ]
  },
  {
   "cell_type": "code",
   "execution_count": 33,
   "id": "56ac39bc-f61e-43c4-8b05-6398e1910385",
   "metadata": {},
   "outputs": [],
   "source": [
    "snp_temperature_association = np.array(geno).T.dot(np.array(temperature_centered))"
   ]
  },
  {
   "cell_type": "code",
   "execution_count": 37,
   "id": "53c1be27-5077-41d5-a2d1-fa792edb2743",
   "metadata": {},
   "outputs": [
    {
     "data": {
      "text/plain": [
       "(13985, 1)"
      ]
     },
     "execution_count": 37,
     "metadata": {},
     "output_type": "execute_result"
    }
   ],
   "source": [
    "snp_temperature_association.shape"
   ]
  },
  {
   "cell_type": "code",
   "execution_count": 38,
   "id": "40defedc-d62f-4b68-9345-53e9900a4443",
   "metadata": {},
   "outputs": [
    {
     "data": {
      "text/plain": [
       "231"
      ]
     },
     "execution_count": 38,
     "metadata": {},
     "output_type": "execute_result"
    }
   ],
   "source": [
    "len(clim1001)"
   ]
  },
  {
   "cell_type": "code",
   "execution_count": null,
   "id": "08062175-32e1-439e-b2a6-935a1dcc3239",
   "metadata": {},
   "outputs": [],
   "source": []
  },
  {
   "cell_type": "code",
   "execution_count": null,
   "id": "e47c2e03-e07f-4d21-b2f4-2e0081510b4e",
   "metadata": {},
   "outputs": [],
   "source": [
    "snp_temperature_association /= len(clim1001)\n",
    "\n",
    "snp_temperature_association = pd.Series(snp_temperature_association.flatten())"
   ]
  },
  {
   "cell_type": "code",
   "execution_count": null,
   "id": "94d8e2ac-7414-4238-ae95-b821599ec843",
   "metadata": {},
   "outputs": [],
   "source": []
  },
  {
   "cell_type": "code",
   "execution_count": 20,
   "id": "8e79ad1c-f08d-49d5-bc85-f35ac829e83e",
   "metadata": {},
   "outputs": [
    {
     "data": {
      "text/plain": [
       "<Axes: ylabel='Count'>"
      ]
     },
     "execution_count": 20,
     "metadata": {},
     "output_type": "execute_result"
    },
    {
     "data": {
      "image/png": "[encoded data removed]",
      "text/plain": [
       "<Figure size 640x480 with 1 Axes>"
      ]
     },
     "metadata": {},
     "output_type": "display_data"
    }
   ],
   "source": [
    "sns.histplot(snp_temperature_association.sample(1000))"
   ]
  },
  {
   "cell_type": "code",
   "execution_count": 21,
   "id": "2d85daeb-a731-4662-8508-c3efb04e13a8",
   "metadata": {},
   "outputs": [
    {
     "data": {
      "text/plain": [
       "0          0.212089\n",
       "1         -0.508398\n",
       "2          0.003138\n",
       "3          0.008127\n",
       "4          0.214856\n",
       "             ...   \n",
       "3235475   -0.000834\n",
       "3235476    0.025580\n",
       "3235477    0.006649\n",
       "3235478    0.650702\n",
       "3235479   -0.716665\n",
       "Length: 3235480, dtype: float64"
      ]
     },
     "execution_count": 21,
     "metadata": {},
     "output_type": "execute_result"
    }
   ],
   "source": [
    "snp_temperature_association"
   ]
  },
  {
   "cell_type": "code",
   "execution_count": null,
   "id": "57ad242a-1a89-483a-ab90-483f30488005",
   "metadata": {},
   "outputs": [],
   "source": []
  },
  {
   "cell_type": "code",
   "execution_count": null,
   "id": "337ba1ce-ca23-4765-8205-fff6980cfa13",
   "metadata": {},
   "outputs": [],
   "source": []
  },
  {
   "cell_type": "code",
   "execution_count": 22,
   "id": "e1a07202-352b-46f3-ba2c-20c2b8a43562",
   "metadata": {},
   "outputs": [],
   "source": [
    "snp_origin_bio1 = pd.DataFrame({'chrom': vcfgrene['variants/CHROM'], 'pos': vcfgrene['variants/POS'], 'snp_origin_bio1': snp_temperature_association})"
   ]
  },
  {
   "cell_type": "code",
   "execution_count": 24,
   "id": "e5ad78ec-d7e1-49b7-b70a-72c624182cfc",
   "metadata": {},
   "outputs": [],
   "source": [
    "snp_origin_bio1.to_csv('../key_files/snp_origin_bio1_1001gvcf.csv',index=None)"
   ]
  },
  {
   "cell_type": "code",
   "execution_count": null,
   "id": "f02ddeba-09a7-4d36-98ab-a0faa1d7a486",
   "metadata": {},
   "outputs": [],
   "source": [
    "## approxiamtion of block orgins "
   ]
  },
  {
   "cell_type": "code",
   "execution_count": 25,
   "id": "4aedaa55-8be5-4cfa-aab2-9055544c649d",
   "metadata": {},
   "outputs": [],
   "source": [
    "snp_origin_bio1['id'] = snp_origin_bio1['chrom'].astype(str) + '_' + snp_origin_bio1['pos'].astype(str)"
   ]
  },
  {
   "cell_type": "code",
   "execution_count": 26,
   "id": "fa03ab01-2d6c-4a01-b16d-c1fdfec7c1bf",
   "metadata": {},
   "outputs": [],
   "source": [
    "snp_origin_bio1['blocks'] = snp_origin_bio1['id'].map(reverse_mapping)"
   ]
  },
  {
   "cell_type": "code",
   "execution_count": 28,
   "id": "286c9520-5e0d-4758-bd0b-9e573bb34787",
   "metadata": {},
   "outputs": [],
   "source": [
    "block_origin_bio1 = snp_origin_bio1.groupby('blocks')['snp_origin_bio1'].mean().reset_index()"
   ]
  },
  {
   "cell_type": "code",
   "execution_count": 29,
   "id": "893ef151-915d-455f-8990-c8c7476e5dd6",
   "metadata": {},
   "outputs": [],
   "source": [
    "block_origin_bio1.to_csv('../key_files/block_origin_bio1_1001g.csv',index=None)"
   ]
  },
  {
   "cell_type": "code",
   "execution_count": null,
   "id": "52ee5dfc-9f35-4b69-b58a-13acb61476bd",
   "metadata": {},
   "outputs": [],
   "source": []
  },
  {
   "cell_type": "code",
   "execution_count": 24,
   "id": "e353eca7-8e82-47b6-9840-626617700422",
   "metadata": {},
   "outputs": [],
   "source": []
  },
  {
   "cell_type": "code",
   "execution_count": null,
   "id": "a9bbc96a-566a-4502-8901-327d6107c77b",
   "metadata": {},
   "outputs": [],
   "source": []
  }
 ],
 "metadata": {
  "kernelspec": {
   "display_name": "simulations",
   "language": "python",
   "name": "python3"
  },
  "language_info": {
   "codemirror_mode": {
    "name": "ipython",
    "version": 3
   },
   "file_extension": ".py",
   "mimetype": "text/x-python",
   "name": "python",
   "nbconvert_exporter": "python",
   "pygments_lexer": "ipython3",
   "version": "3.11.5"
  }
 },
 "nbformat": 4,
 "nbformat_minor": 5
}
