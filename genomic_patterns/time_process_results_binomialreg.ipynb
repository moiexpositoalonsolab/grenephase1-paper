{
 "cells": [
  {
   "cell_type": "code",
   "execution_count": 1,
   "id": "2b494dbe-6010-4af8-88a0-d9365c76fd12",
   "metadata": {},
   "outputs": [],
   "source": [
    "import pandas as pd\n",
    "import os\n",
    "import json\n",
    "import numpy as np\n",
    "import matplotlib.pyplot as plt\n",
    "import seaborn as sns"
   ]
  },
  {
   "cell_type": "code",
   "execution_count": 2,
   "id": "5d375a72-45de-47f2-b02d-34379748285b",
   "metadata": {},
   "outputs": [],
   "source": [
    "var_pos = pd.read_csv('../key_files/var_pos_grenenet.csv')\n",
    "var_pos = var_pos[var_pos['maf05filter'].notna()]\n",
    "var_pos = var_pos.reset_index(drop=True)"
   ]
  },
  {
   "cell_type": "code",
   "execution_count": 3,
   "id": "1dbca896-8e84-43b2-be15-f0907d41ea5d",
   "metadata": {},
   "outputs": [],
   "source": [
    "## create dict sites plots \n",
    "\n",
    "merged_hapFIRE_allele_frequency = pd.read_csv('../key_files/merged_hapFIRE_allele_frequency.txt',nrows=1, sep = '\\t')\n",
    "\n",
    "merged_hapFIRE_allele_frequency = merged_hapFIRE_allele_frequency.T\n",
    "\n",
    "merged_hapFIRE_allele_frequency = merged_hapFIRE_allele_frequency.reset_index()\n",
    "\n",
    "merged_hapFIRE_allele_frequency['site'] = merged_hapFIRE_allele_frequency['index'].str.split('_').str[0]\n",
    "merged_hapFIRE_allele_frequency['gen'] = merged_hapFIRE_allele_frequency['index'].str.split('_').str[1]\n",
    "merged_hapFIRE_allele_frequency['plot'] = merged_hapFIRE_allele_frequency['index'].str.split('_').str[2]\n",
    "\n",
    "samples = merged_hapFIRE_allele_frequency.drop([0, 'index'],axis=1).drop_duplicates()\n",
    "\n",
    "samples_at_least_2_years = samples[['site', 'plot']].value_counts()[samples[['site', 'plot']].value_counts() > 1 ].reset_index()\n",
    "\n",
    "sites_plots_w_at_least_2_years =  samples_at_least_2_years[['site', 'plot']].groupby('site')['plot'].unique().to_dict()"
   ]
  },
  {
   "cell_type": "code",
   "execution_count": null,
   "id": "1f1357c5-42d1-49bc-888d-47190e7622a5",
   "metadata": {},
   "outputs": [],
   "source": []
  },
  {
   "cell_type": "code",
   "execution_count": 4,
   "id": "ffcb3658-500f-4d93-a242-ea0a4c36120d",
   "metadata": {},
   "outputs": [],
   "source": [
    "result_files = [i for i in os.listdir('binom_reg/') if 'json' in i]"
   ]
  },
  {
   "cell_type": "code",
   "execution_count": 5,
   "id": "14919f78-8f95-47e6-b92f-05b5a38a7976",
   "metadata": {},
   "outputs": [
    {
     "data": {
      "text/plain": [
       "'55'"
      ]
     },
     "execution_count": 5,
     "metadata": {},
     "output_type": "execute_result"
    }
   ],
   "source": [
    "result_files[0].split('_')[-2] #.replace('.jsonl', '')"
   ]
  },
  {
   "cell_type": "code",
   "execution_count": 6,
   "id": "eade1039-78b6-4449-854a-6c9ea7df7cfe",
   "metadata": {},
   "outputs": [
    {
     "data": {
      "text/plain": [
       "['results_site_55_br.jsonl',\n",
       " 'results_site_45_br.jsonl',\n",
       " 'results_site_12_br.jsonl',\n",
       " 'results_site_32_br.jsonl',\n",
       " 'results_site_42_br.jsonl',\n",
       " 'results_site_52_br.jsonl',\n",
       " 'results_site_4_br.jsonl',\n",
       " 'results_site_25_br.jsonl',\n",
       " 'results_site_2_br.jsonl',\n",
       " 'results_site_54_br.jsonl',\n",
       " 'results_site_13_br.jsonl',\n",
       " 'results_site_5_br.jsonl',\n",
       " 'results_site_24_br.jsonl',\n",
       " 'results_site_43_br.jsonl',\n",
       " 'results_site_53_br.jsonl',\n",
       " 'results_site_9_br.jsonl',\n",
       " 'results_site_6_br.jsonl',\n",
       " 'results_site_28_br.jsonl',\n",
       " 'results_site_27_br.jsonl',\n",
       " 'results_site_57_br.jsonl',\n",
       " 'results_site_10_br.jsonl',\n",
       " 'results_site_48_br.jsonl',\n",
       " 'results_site_1_br.jsonl',\n",
       " 'results_site_11_br.jsonl',\n",
       " 'results_site_49_br.jsonl',\n",
       " 'results_site_46_br.jsonl']"
      ]
     },
     "execution_count": 6,
     "metadata": {},
     "output_type": "execute_result"
    }
   ],
   "source": [
    "result_files"
   ]
  },
  {
   "cell_type": "code",
   "execution_count": 8,
   "id": "b5b6dcf8-1953-4c1c-9855-6bc0918f2634",
   "metadata": {},
   "outputs": [
    {
     "name": "stdout",
     "output_type": "stream",
     "text": [
      "55\n",
      "45\n",
      "12\n",
      "32\n",
      "42\n",
      "52\n",
      "4\n",
      "25\n",
      "2\n",
      "54\n",
      "13\n",
      "5\n",
      "24\n",
      "43\n",
      "53\n",
      "9\n",
      "6\n",
      "28\n",
      "27\n",
      "57\n",
      "10\n",
      "48\n",
      "1\n",
      "11\n",
      "49\n",
      "46\n"
     ]
    }
   ],
   "source": [
    "for site_file in result_files:\n",
    "    site = site_file.split('_')[-2]\n",
    "    print(site)\n",
    "    results = []\n",
    "    with open('binom_reg/' + site_file, 'r') as file:\n",
    "        result_files[0].split('_')[-1].replace('.jsonl', '')\n",
    "        for line in file:\n",
    "            # Convert JSON string to Python dictionary\n",
    "            data = json.loads(line)\n",
    "            # Append the dictionary to the list\n",
    "            results.append(data)\n",
    "    \n",
    "    # Convert the list of dictionaries to a pandas DataFrame\n",
    "    df = pd.DataFrame(results)\n",
    "    df = pd.concat([df[['slope', 'p_value']], var_pos['id']],axis=1)\n",
    "    df.to_csv(f'binom_reg/site_{site}.csv',index=None)"
   ]
  },
  {
   "cell_type": "code",
   "execution_count": 12,
   "id": "e5a3ae7e-a8c4-487b-9d8a-fa689f314398",
   "metadata": {},
   "outputs": [],
   "source": [
    "sign_results = [i for i in os.listdir('binom_reg/') if 'sign' in i]"
   ]
  },
  {
   "cell_type": "code",
   "execution_count": null,
   "id": "5a82786d-dd0a-4779-a5ff-8543969451e4",
   "metadata": {},
   "outputs": [],
   "source": [
    "results = [i for i in os.listdir('binom_reg/') if 'sign' in i]"
   ]
  },
  {
   "cell_type": "code",
   "execution_count": 14,
   "id": "357f1886-e0c0-4525-a03c-77b3adfe8aeb",
   "metadata": {},
   "outputs": [
    {
     "name": "stdout",
     "output_type": "stream",
     "text": [
      "30760\n",
      "558147\n",
      "6547\n",
      "143183\n",
      "162567\n",
      "467410\n",
      "20669\n",
      "78976\n",
      "586791\n",
      "623393\n",
      "500559\n",
      "268\n",
      "541013\n",
      "53225\n",
      "47811\n",
      "10072\n",
      "268629\n",
      "737770\n",
      "200022\n",
      "125050\n",
      "386529\n",
      "307817\n",
      "379814\n",
      "503185\n",
      "86\n",
      "210229\n"
     ]
    }
   ],
   "source": [
    "for i in sign_results:\n",
    "    print(len(pd.read_csv('binom_reg/' + i)))"
   ]
  },
  {
   "cell_type": "code",
   "execution_count": null,
   "id": "bd4c4910-3f2c-4421-91a9-b0730d3aea97",
   "metadata": {},
   "outputs": [],
   "source": []
  },
  {
   "cell_type": "code",
   "execution_count": null,
   "id": "8283a9a0-8d3b-404f-8ea0-5211916ff61a",
   "metadata": {},
   "outputs": [],
   "source": [
    "## save onyl signficant ones "
   ]
  },
  {
   "cell_type": "code",
   "execution_count": 9,
   "id": "8cc96f6c-22a5-4834-8c18-281141ee3e5c",
   "metadata": {},
   "outputs": [],
   "source": [
    "result_files = [i for i in os.listdir('binom_reg') if 'csv' in i]"
   ]
  },
  {
   "cell_type": "code",
   "execution_count": 16,
   "id": "645324b4-c44f-4d33-9d30-e5b905b28374",
   "metadata": {},
   "outputs": [
    {
     "name": "stdout",
     "output_type": "stream",
     "text": [
      "0.18314353615148463\n",
      "0.4383556989681956\n",
      "0.33672941356852387\n",
      "7.491994020343378e-05\n",
      "0.10893882002836504\n",
      "0.026796946054158405\n",
      "0.4862365100549529\n",
      "0.642717259114969\n",
      "0.17425158464385151\n",
      "0.2340194025221885\n",
      "0.04165113094263223\n",
      "0.5430763521306883\n",
      "0.04636760252706701\n",
      "0.4713100187125618\n",
      "0.00877434462475564\n",
      "0.4360680273057047\n",
      "0.00023347144156418896\n",
      "0.06880089764542309\n",
      "0.5111900771152686\n",
      "0.01800604934959038\n",
      "0.40718987500566256\n",
      "0.14162220836106532\n",
      "0.2681585027162834\n",
      "0.3308795600979883\n",
      "0.12473560230404951\n",
      "0.005703498238510243\n"
     ]
    }
   ],
   "source": [
    "for i in result_files:\n",
    "    site = pd.read_csv(f'binom_reg/{i}')\n",
    "\n",
    "    th = 0.05/len(site)\n",
    "    sign_site = site[site['p_value']<th]\n",
    "    print(len(sign_site)/len(site))\n",
    "    #sign_site.to_csv(f'binom_reg/sign_{i}')"
   ]
  },
  {
   "cell_type": "code",
   "execution_count": null,
   "id": "158a58da-8313-4b98-887c-0b8667d6622f",
   "metadata": {},
   "outputs": [],
   "source": []
  },
  {
   "cell_type": "code",
   "execution_count": null,
   "id": "b9a5534b-f5eb-4514-ab41-53a864257d18",
   "metadata": {},
   "outputs": [],
   "source": []
  },
  {
   "cell_type": "code",
   "execution_count": null,
   "id": "7340f5cf-1133-4060-a2bf-33c33cf08c53",
   "metadata": {},
   "outputs": [],
   "source": []
  },
  {
   "cell_type": "code",
   "execution_count": null,
   "id": "3e5f7a5b-c251-42d6-a18b-d1a0ee6ea76e",
   "metadata": {},
   "outputs": [],
   "source": []
  },
  {
   "cell_type": "code",
   "execution_count": null,
   "id": "df1072df-6a32-4080-ad34-e2a7000d9bfe",
   "metadata": {},
   "outputs": [],
   "source": []
  },
  {
   "cell_type": "code",
   "execution_count": null,
   "id": "d030c5fb-f0e4-4859-96b1-a51f6d627dd4",
   "metadata": {},
   "outputs": [],
   "source": []
  }
 ],
 "metadata": {
  "kernelspec": {
   "display_name": "Python (pipeline_snakemake)",
   "language": "python",
   "name": "pipeline_snakemake"
  },
  "language_info": {
   "codemirror_mode": {
    "name": "ipython",
    "version": 3
   },
   "file_extension": ".py",
   "mimetype": "text/x-python",
   "name": "python",
   "nbconvert_exporter": "python",
   "pygments_lexer": "ipython3",
   "version": "3.9.16"
  }
 },
 "nbformat": 4,
 "nbformat_minor": 5
}
