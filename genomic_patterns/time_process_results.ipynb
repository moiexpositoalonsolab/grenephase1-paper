{
 "cells": [
  {
   "cell_type": "code",
   "execution_count": 10,
   "id": "2b494dbe-6010-4af8-88a0-d9365c76fd12",
   "metadata": {},
   "outputs": [],
   "source": [
    "import pandas as pd\n",
    "import os\n",
    "import json\n",
    "import numpy as np\n",
    "import matplotlib.pyplot as plt\n",
    "import seaborn as sns"
   ]
  },
  {
   "cell_type": "code",
   "execution_count": 11,
   "id": "5d375a72-45de-47f2-b02d-34379748285b",
   "metadata": {},
   "outputs": [],
   "source": [
    "var_pos = pd.read_csv('../key_files/var_pos_grenenet.csv')\n",
    "var_pos = var_pos[var_pos['maf05filter'].notna()]\n",
    "var_pos = var_pos.reset_index(drop=True)"
   ]
  },
  {
   "cell_type": "code",
   "execution_count": 12,
   "id": "1dbca896-8e84-43b2-be15-f0907d41ea5d",
   "metadata": {},
   "outputs": [],
   "source": [
    "## create dict sites plots \n",
    "\n",
    "merged_hapFIRE_allele_frequency = pd.read_csv('../key_files/merged_hapFIRE_allele_frequency.txt',nrows=1, sep = '\\t')\n",
    "\n",
    "merged_hapFIRE_allele_frequency = merged_hapFIRE_allele_frequency.T\n",
    "\n",
    "merged_hapFIRE_allele_frequency = merged_hapFIRE_allele_frequency.reset_index()\n",
    "\n",
    "merged_hapFIRE_allele_frequency['site'] = merged_hapFIRE_allele_frequency['index'].str.split('_').str[0]\n",
    "merged_hapFIRE_allele_frequency['gen'] = merged_hapFIRE_allele_frequency['index'].str.split('_').str[1]\n",
    "merged_hapFIRE_allele_frequency['plot'] = merged_hapFIRE_allele_frequency['index'].str.split('_').str[2]\n",
    "\n",
    "samples = merged_hapFIRE_allele_frequency.drop([0, 'index'],axis=1).drop_duplicates()\n",
    "\n",
    "samples_at_least_2_years = samples[['site', 'plot']].value_counts()[samples[['site', 'plot']].value_counts() > 1 ].reset_index()\n",
    "\n",
    "sites_plots_w_at_least_2_years =  samples_at_least_2_years[['site', 'plot']].groupby('site')['plot'].unique().to_dict()"
   ]
  },
  {
   "cell_type": "code",
   "execution_count": null,
   "id": "1f1357c5-42d1-49bc-888d-47190e7622a5",
   "metadata": {},
   "outputs": [],
   "source": []
  },
  {
   "cell_type": "code",
   "execution_count": 13,
   "id": "ffcb3658-500f-4d93-a242-ea0a4c36120d",
   "metadata": {},
   "outputs": [],
   "source": [
    "result_files = [i for i in os.listdir('results_persite') if 'json' in i]"
   ]
  },
  {
   "cell_type": "code",
   "execution_count": 14,
   "id": "14919f78-8f95-47e6-b92f-05b5a38a7976",
   "metadata": {},
   "outputs": [
    {
     "data": {
      "text/plain": [
       "'43'"
      ]
     },
     "execution_count": 14,
     "metadata": {},
     "output_type": "execute_result"
    }
   ],
   "source": [
    "result_files[0].split('_')[-1].replace('.jsonl', '')"
   ]
  },
  {
   "cell_type": "code",
   "execution_count": null,
   "id": "eade1039-78b6-4449-854a-6c9ea7df7cfe",
   "metadata": {},
   "outputs": [],
   "source": [
    "result_files"
   ]
  },
  {
   "cell_type": "code",
   "execution_count": 16,
   "id": "b5b6dcf8-1953-4c1c-9855-6bc0918f2634",
   "metadata": {
    "scrolled": true
   },
   "outputs": [
    {
     "name": "stdout",
     "output_type": "stream",
     "text": [
      "43\n",
      "5\n",
      "9\n",
      "55\n",
      "42\n",
      "4\n",
      "54\n",
      "57\n",
      "6\n",
      "24\n",
      "28\n",
      "1\n",
      "32\n",
      "13\n",
      "25\n",
      "46\n",
      "12\n",
      "49\n",
      "45\n",
      "11\n",
      "53\n",
      "27\n",
      "48\n",
      "2\n",
      "10\n",
      "52\n"
     ]
    }
   ],
   "source": [
    "for site_file in result_files:\n",
    "    site = site_file.split('_')[-1].replace('.jsonl', '')\n",
    "    print(site)\n",
    "    results = []\n",
    "    with open('results_persite/' + site_file, 'r') as file:\n",
    "        result_files[0].split('_')[-1].replace('.jsonl', '')\n",
    "        for line in file:\n",
    "            # Convert JSON string to Python dictionary\n",
    "            data = json.loads(line)\n",
    "            # Append the dictionary to the list\n",
    "            results.append(data)\n",
    "    \n",
    "    # Convert the list of dictionaries to a pandas DataFrame\n",
    "    df = pd.DataFrame(results)\n",
    "    df = pd.concat([df[['slope', 'p_value']], var_pos['id']],axis=1)\n",
    "    df.to_csv(f'results_persite/site_{site}.csv',index=None)"
   ]
  },
  {
   "cell_type": "code",
   "execution_count": null,
   "id": "32d34479-cd12-4fe6-9b0a-8dafce4b1f1e",
   "metadata": {},
   "outputs": [],
   "source": []
  },
  {
   "cell_type": "code",
   "execution_count": null,
   "id": "11840ecc-40bb-499e-8b3d-4c8f6a7f0db0",
   "metadata": {},
   "outputs": [],
   "source": []
  },
  {
   "cell_type": "code",
   "execution_count": null,
   "id": "2bc1c4aa-df7f-41ec-96b5-799dfe8e954f",
   "metadata": {},
   "outputs": [],
   "source": []
  },
  {
   "cell_type": "code",
   "execution_count": null,
   "id": "5f0e38e5-d672-48a9-b0bb-8d4f5d788643",
   "metadata": {},
   "outputs": [],
   "source": []
  },
  {
   "cell_type": "code",
   "execution_count": null,
   "id": "e5a3ae7e-a8c4-487b-9d8a-fa689f314398",
   "metadata": {},
   "outputs": [],
   "source": []
  },
  {
   "cell_type": "code",
   "execution_count": null,
   "id": "8283a9a0-8d3b-404f-8ea0-5211916ff61a",
   "metadata": {},
   "outputs": [],
   "source": [
    "## save onyl signficant ones "
   ]
  },
  {
   "cell_type": "code",
   "execution_count": 22,
   "id": "8cc96f6c-22a5-4834-8c18-281141ee3e5c",
   "metadata": {},
   "outputs": [],
   "source": [
    "result_files = [i for i in os.listdir('results_persite') if 'csv' in i]"
   ]
  },
  {
   "cell_type": "code",
   "execution_count": 25,
   "id": "645324b4-c44f-4d33-9d30-e5b905b28374",
   "metadata": {},
   "outputs": [],
   "source": [
    "for i in result_files:\n",
    "    site = pd.read_csv(f'results_persite/{i}')\n",
    "    th = 0.05/len(site)\n",
    "    site = site[site['p_value']<th]\n",
    "    site.to_csv(f'results_persite/sign_{i}')"
   ]
  },
  {
   "cell_type": "code",
   "execution_count": null,
   "id": "8e47da73-8d55-4f7b-b4a0-c9fecd06c087",
   "metadata": {},
   "outputs": [],
   "source": []
  },
  {
   "cell_type": "code",
   "execution_count": null,
   "id": "00185dd1-e769-4e89-82f2-e4e446a0da68",
   "metadata": {},
   "outputs": [],
   "source": []
  },
  {
   "cell_type": "code",
   "execution_count": null,
   "id": "e51e879d-0e40-4040-a5c4-f72ebfe7a27a",
   "metadata": {},
   "outputs": [],
   "source": []
  },
  {
   "cell_type": "code",
   "execution_count": 17,
   "id": "aab6fe11-75c9-4188-adc4-46275a32d8eb",
   "metadata": {},
   "outputs": [],
   "source": [
    "site_1 = pd.read_csv('results_persite/site_1.csv')"
   ]
  },
  {
   "cell_type": "code",
   "execution_count": 18,
   "id": "fd21f866-ef30-4c74-8dde-fb59a168c0e0",
   "metadata": {},
   "outputs": [],
   "source": [
    "th = 0.05/len(site_1)"
   ]
  },
  {
   "cell_type": "code",
   "execution_count": 19,
   "id": "45c91bbe-99b0-4744-99a6-7e3dd7a7d9bd",
   "metadata": {},
   "outputs": [
    {
     "data": {
      "text/html": [
       "<div>\n",
       "<style scoped>\n",
       "    .dataframe tbody tr th:only-of-type {\n",
       "        vertical-align: middle;\n",
       "    }\n",
       "\n",
       "    .dataframe tbody tr th {\n",
       "        vertical-align: top;\n",
       "    }\n",
       "\n",
       "    .dataframe thead th {\n",
       "        text-align: right;\n",
       "    }\n",
       "</style>\n",
       "<table border=\"1\" class=\"dataframe\">\n",
       "  <thead>\n",
       "    <tr style=\"text-align: right;\">\n",
       "      <th></th>\n",
       "      <th>slope</th>\n",
       "      <th>p_value</th>\n",
       "      <th>id</th>\n",
       "    </tr>\n",
       "  </thead>\n",
       "  <tbody>\n",
       "    <tr>\n",
       "      <th>7</th>\n",
       "      <td>-11.641092</td>\n",
       "      <td>4.274151e-08</td>\n",
       "      <td>1_465</td>\n",
       "    </tr>\n",
       "    <tr>\n",
       "      <th>11</th>\n",
       "      <td>-16.226191</td>\n",
       "      <td>1.802334e-09</td>\n",
       "      <td>1_643</td>\n",
       "    </tr>\n",
       "    <tr>\n",
       "      <th>29</th>\n",
       "      <td>-12.002327</td>\n",
       "      <td>3.139742e-09</td>\n",
       "      <td>1_4654</td>\n",
       "    </tr>\n",
       "    <tr>\n",
       "      <th>47</th>\n",
       "      <td>-30.922025</td>\n",
       "      <td>3.498712e-08</td>\n",
       "      <td>1_7464</td>\n",
       "    </tr>\n",
       "    <tr>\n",
       "      <th>85</th>\n",
       "      <td>-12.002327</td>\n",
       "      <td>3.139742e-09</td>\n",
       "      <td>1_15793</td>\n",
       "    </tr>\n",
       "    <tr>\n",
       "      <th>...</th>\n",
       "      <td>...</td>\n",
       "      <td>...</td>\n",
       "      <td>...</td>\n",
       "    </tr>\n",
       "    <tr>\n",
       "      <th>1147355</th>\n",
       "      <td>-20.498594</td>\n",
       "      <td>3.265613e-08</td>\n",
       "      <td>5_26932835</td>\n",
       "    </tr>\n",
       "    <tr>\n",
       "      <th>1147380</th>\n",
       "      <td>-20.498594</td>\n",
       "      <td>3.265613e-08</td>\n",
       "      <td>5_26935196</td>\n",
       "    </tr>\n",
       "    <tr>\n",
       "      <th>1147404</th>\n",
       "      <td>-32.700148</td>\n",
       "      <td>8.171853e-09</td>\n",
       "      <td>5_26936112</td>\n",
       "    </tr>\n",
       "    <tr>\n",
       "      <th>1147405</th>\n",
       "      <td>-34.871099</td>\n",
       "      <td>4.449948e-09</td>\n",
       "      <td>5_26936117</td>\n",
       "    </tr>\n",
       "    <tr>\n",
       "      <th>1147445</th>\n",
       "      <td>-20.498594</td>\n",
       "      <td>3.265613e-08</td>\n",
       "      <td>5_26938378</td>\n",
       "    </tr>\n",
       "  </tbody>\n",
       "</table>\n",
       "<p>95509 rows × 3 columns</p>\n",
       "</div>"
      ],
      "text/plain": [
       "             slope       p_value          id\n",
       "7       -11.641092  4.274151e-08       1_465\n",
       "11      -16.226191  1.802334e-09       1_643\n",
       "29      -12.002327  3.139742e-09      1_4654\n",
       "47      -30.922025  3.498712e-08      1_7464\n",
       "85      -12.002327  3.139742e-09     1_15793\n",
       "...            ...           ...         ...\n",
       "1147355 -20.498594  3.265613e-08  5_26932835\n",
       "1147380 -20.498594  3.265613e-08  5_26935196\n",
       "1147404 -32.700148  8.171853e-09  5_26936112\n",
       "1147405 -34.871099  4.449948e-09  5_26936117\n",
       "1147445 -20.498594  3.265613e-08  5_26938378\n",
       "\n",
       "[95509 rows x 3 columns]"
      ]
     },
     "execution_count": 19,
     "metadata": {},
     "output_type": "execute_result"
    }
   ],
   "source": [
    "site_1[site_1['p_value']<th]"
   ]
  },
  {
   "cell_type": "code",
   "execution_count": 20,
   "id": "17bb56e0-58e9-4d7f-8a80-c56345312c0b",
   "metadata": {},
   "outputs": [],
   "source": [
    "site = 1"
   ]
  },
  {
   "cell_type": "code",
   "execution_count": null,
   "id": "158a58da-8313-4b98-887c-0b8667d6622f",
   "metadata": {},
   "outputs": [],
   "source": []
  },
  {
   "cell_type": "code",
   "execution_count": null,
   "id": "b9a5534b-f5eb-4514-ab41-53a864257d18",
   "metadata": {},
   "outputs": [],
   "source": []
  },
  {
   "cell_type": "code",
   "execution_count": null,
   "id": "7340f5cf-1133-4060-a2bf-33c33cf08c53",
   "metadata": {},
   "outputs": [],
   "source": []
  },
  {
   "cell_type": "code",
   "execution_count": null,
   "id": "3e5f7a5b-c251-42d6-a18b-d1a0ee6ea76e",
   "metadata": {},
   "outputs": [],
   "source": []
  },
  {
   "cell_type": "code",
   "execution_count": null,
   "id": "df1072df-6a32-4080-ad34-e2a7000d9bfe",
   "metadata": {},
   "outputs": [],
   "source": []
  },
  {
   "cell_type": "code",
   "execution_count": null,
   "id": "d030c5fb-f0e4-4859-96b1-a51f6d627dd4",
   "metadata": {},
   "outputs": [],
   "source": []
  }
 ],
 "metadata": {
  "kernelspec": {
   "display_name": "Python (pipeline_snakemake)",
   "language": "python",
   "name": "pipeline_snakemake"
  },
  "language_info": {
   "codemirror_mode": {
    "name": "ipython",
    "version": 3
   },
   "file_extension": ".py",
   "mimetype": "text/x-python",
   "name": "python",
   "nbconvert_exporter": "python",
   "pygments_lexer": "ipython3",
   "version": "3.9.16"
  }
 },
 "nbformat": 4,
 "nbformat_minor": 5
}
